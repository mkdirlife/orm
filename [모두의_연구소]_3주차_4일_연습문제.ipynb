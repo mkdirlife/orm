{
  "nbformat": 4,
  "nbformat_minor": 0,
  "metadata": {
    "colab": {
      "provenance": [],
      "authorship_tag": "ABX9TyPi73ScT+T5qNe3qlrUN4Rd",
      "include_colab_link": true
    },
    "kernelspec": {
      "name": "python3",
      "display_name": "Python 3"
    },
    "language_info": {
      "name": "python"
    }
  },
  "cells": [
    {
      "cell_type": "markdown",
      "metadata": {
        "id": "view-in-github",
        "colab_type": "text"
      },
      "source": [
        "<a href=\"https://colab.research.google.com/github/mkdirlife/orm/blob/main/%5B%EB%AA%A8%EB%91%90%EC%9D%98_%EC%97%B0%EA%B5%AC%EC%86%8C%5D_3%EC%A3%BC%EC%B0%A8_4%EC%9D%BC_%EC%97%B0%EC%8A%B5%EB%AC%B8%EC%A0%9C.ipynb\" target=\"_parent\"><img src=\"https://colab.research.google.com/assets/colab-badge.svg\" alt=\"Open In Colab\"/></a>"
      ]
    },
    {
      "cell_type": "code",
      "execution_count": null,
      "metadata": {
        "colab": {
          "base_uri": "https://localhost:8080/"
        },
        "id": "lFSaru7DZPiK",
        "outputId": "b35d5101-7bef-4d45-be04-d4b9c36c818e"
      },
      "outputs": [
        {
          "output_type": "execute_result",
          "data": {
            "text/plain": [
              "[]"
            ]
          },
          "metadata": {},
          "execution_count": 9
        }
      ],
      "source": [
        "# 1. 다음 숫자 중 5보다 크고, 20보다 작으면서 짝수인 수를 모두 더하는 코드를 완성 해주세요. 오늘 배운 filter 사용은 필수 입니다.\n",
        "\n",
        "number = [1, 5, 7, 4, 3, 22, 23, 15, 26, 17, 3]\n",
        "def solution(data):\n",
        "    return list(filter(lambda x: True if x % 2 == 0 and x > 5 and x < 20 else False, number))\n",
        "\n",
        "solution(number)\n"
      ]
    },
    {
      "cell_type": "code",
      "source": [
        "# 2. 다음에 정보가 담겨져 있는 것을 Class로 만들어주세요. 메서드로는 '할인' 메서드를 만들어주세요. 예를 들어 아래 책을 10% 할인한다고 하면 4500원이 됩니다. `책.할인(10) == 4500`의 형태로 만들어주시면 됩니다.\n",
        "# {\n",
        "#     '책제목': 'hello world python',\n",
        "#     '책 내용 요약': 'hello world...',\n",
        "#     '저자': '이호준',\n",
        "#     '발행일': '2024-01-11',\n",
        "#     '가격': 5000\n",
        "# }\n",
        "\n",
        "class Book:\n",
        "    def __init__(\n",
        "            self,\n",
        "            name,\n",
        "            summary,\n",
        "            author,\n",
        "            date,\n",
        "            price\n",
        "            ):\n",
        "        self.name = name\n",
        "        self.summary = summary\n",
        "        self.author = author\n",
        "        self.date = date\n",
        "        self.price = price\n",
        "\n",
        "    def __eq__(self, next):\n",
        "        print(\"df\")\n",
        "        return self == next\n",
        "\n",
        "    def 할인(self, rate):\n",
        "        return int(self.price - self.price * rate / 100)\n",
        "\n",
        "책 = Book('hello world python', 'hello world...', '이호준', '2024-01-11', 5000)\n",
        "책.할인(10)\n"
      ],
      "metadata": {
        "colab": {
          "base_uri": "https://localhost:8080/"
        },
        "id": "Nxqb70vgZac4",
        "outputId": "1e8551bc-83f6-491a-8d91-f764a355de96"
      },
      "execution_count": null,
      "outputs": [
        {
          "output_type": "execute_result",
          "data": {
            "text/plain": [
              "4500"
            ]
          },
          "metadata": {},
          "execution_count": 142
        }
      ]
    },
    {
      "cell_type": "code",
      "source": [
        "# 3. 다음 문제를 풀고 정답을 제출해주세요.\n",
        "# 3.1 https://100.pyalgo.co.kr/?page=10#\n",
        "\n",
        "character_list1 = [['Licat', 98, 92, 85, 97], ['Mura', 95, 32, 51, 30], ['Binky', 98, 98, 51, 32]]\n",
        "character_list2 = [['Gray', 98, 92, 85, 97], ['Gom', 98, 30, 21, 60], ['Allosa', 98, 90, 99, 98]]\n",
        "\n",
        "# step3 350이 넘는 캐릭터 이고, 각 능력치 값이 10 이상 100 이하 일때 True\n",
        "def is_ok_value(character):\n",
        "    if sum(character[1:]) >= 350 and all(list(map(lambda x:True if 10 <= int(x) <= 100 else False, character[1:]))):\n",
        "        return True\n",
        "    else:\n",
        "        return False\n",
        "\n",
        "def solution(data):\n",
        "    select_character = []\n",
        "\n",
        "    # step1 3 ≤ 캐릭터의 수 ≤ 10\n",
        "    if 3 <= len(data) <= 10:\n",
        "        for character in data:\n",
        "            if is_ok_value(character):\n",
        "                select_character.append(character[0])\n",
        "        return sorted(select_character)\n",
        "    else:\n",
        "        print(\"캐릭터 수가 3 보다 크고 10 보다 작아야 합니다.\")\n",
        "\n",
        "solution(character_list2)"
      ],
      "metadata": {
        "colab": {
          "base_uri": "https://localhost:8080/"
        },
        "id": "TNQ-fGEEZb0-",
        "outputId": "f3e7d474-4d0e-42d4-c4de-05fbe87fd90f"
      },
      "execution_count": null,
      "outputs": [
        {
          "output_type": "execute_result",
          "data": {
            "text/plain": [
              "['Allosa', 'Gray']"
            ]
          },
          "metadata": {},
          "execution_count": 72
        }
      ]
    },
    {
      "cell_type": "code",
      "source": [
        "# 3. 다음 문제를 풀고 정답을 제출해주세요.\n",
        "# 3.2 https://100.pyalgo.co.kr/?page=18#\n",
        "\n",
        "wether_data = {\n",
        "    '2024-01-01': 15,\n",
        "    '2024-01-02': 17,\n",
        "    '2024-01-03': 16,\n",
        "    '2024-01-04': 20,\n",
        "    '2024-01-05': 19,\n",
        "    '2024-01-06': 21,\n",
        "    '2024-01-07': 18\n",
        "}\n",
        "\n",
        "def solution(data):\n",
        "    # 기온 데이터는 최소 7개 에서 최대 30개 까지 주어질 수 있습니다.\n",
        "    if 7 <= len(data) <= 30:\n",
        "        sorted_data = sorted(data.items(), key=lambda x: x[1], reverse=True)\n",
        "    else:\n",
        "        print(\"데이터가 너무 많거나 적습니다. (기온 데이터는 최소 7개 에서 최대 30개) \")\n",
        "\n",
        "    return [f'{x[0]}: {x[1]}' for x in sorted_data][:3]\n",
        "\n",
        "solution(wether_data)"
      ],
      "metadata": {
        "colab": {
          "base_uri": "https://localhost:8080/"
        },
        "id": "UdDnuCJQOzT8",
        "outputId": "6dd3d1ce-a72d-4907-ac59-8aedc737228a"
      },
      "execution_count": null,
      "outputs": [
        {
          "output_type": "execute_result",
          "data": {
            "text/plain": [
              "['2024-01-06: 21', '2024-01-04: 20', '2024-01-05: 19']"
            ]
          },
          "metadata": {},
          "execution_count": 138
        }
      ]
    }
  ]
}