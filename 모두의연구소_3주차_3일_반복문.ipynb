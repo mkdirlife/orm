{
  "nbformat": 4,
  "nbformat_minor": 0,
  "metadata": {
    "colab": {
      "provenance": [],
      "authorship_tag": "ABX9TyMZ+S4PapFqEu8AQlvbI0B7",
      "include_colab_link": true
    },
    "kernelspec": {
      "name": "python3",
      "display_name": "Python 3"
    },
    "language_info": {
      "name": "python"
    }
  },
  "cells": [
    {
      "cell_type": "markdown",
      "metadata": {
        "id": "view-in-github",
        "colab_type": "text"
      },
      "source": [
        "<a href=\"https://colab.research.google.com/github/mkdirlife/orm/blob/main/%EC%98%A4%EB%A6%84%EC%BA%A0%ED%94%84_3%EC%A3%BC%EC%B0%A8_3%EC%9D%BC_%EB%B0%98%EB%B3%B5%EB%AC%B8.ipynb\" target=\"_parent\"><img src=\"https://colab.research.google.com/assets/colab-badge.svg\" alt=\"Open In Colab\"/></a>"
      ]
    },
    {
      "cell_type": "code",
      "execution_count": 1,
      "metadata": {
        "colab": {
          "base_uri": "https://localhost:8080/"
        },
        "id": "W_ET7Q_OxUXI",
        "outputId": "69499a63-2f9d-421c-b0c5-3e305927e1d9"
      },
      "outputs": [
        {
          "output_type": "stream",
          "name": "stdout",
          "text": [
            ">약\n",
            ">ㅇㄹ\n",
            ">약\n",
            ">ㅇㄹ\n",
            ">exit\n",
            "안녕히 가세요\n"
          ]
        }
      ],
      "source": [
        "import os\n",
        "\n",
        "while True:\n",
        "    userinput = input('>')\n",
        "\n",
        "    if userinput == 'pwd':\n",
        "        # print('현재 위치 출력')\n",
        "        # print('\\\\'.join(_file_.split('\\\\')[:-1]))\n",
        "        print(os.getcwd())\n",
        "    elif userinput == 'dir' or userinput == 'ls':\n",
        "        # print('현재 폴더에 폴더와 파일명 출력')\n",
        "        print(os.listdir(os.getcwd()))\n",
        "    elif userinput == 'exit'        :\n",
        "        print('안녕히 가세요')\n",
        "        break\n",
        "\n"
      ]
    },
    {
      "cell_type": "markdown",
      "source": [
        "# 2. Break / coontinue\n",
        "* break는 반복문을 즉시 종료!\n",
        "* continue 는 반복문의 나머지 부분을 건너뛰고, 반복문을 다음 반복으로 즉시 이동"
      ],
      "metadata": {
        "id": "1YJS0NLyyG1-"
      }
    },
    {
      "cell_type": "code",
      "source": [
        "for i in range(10):\n",
        "    if i == 5:  # 만약에 i가 5면 정지시켜라!    -> 0부터 5까지만 출력하고 나머지는 출력하지 않겠다.\n",
        "        break   # break 도 코드 블록 4칸 띄어서!\n",
        "    print(i)\n",
        "\n"
      ],
      "metadata": {
        "colab": {
          "base_uri": "https://localhost:8080/"
        },
        "id": "Y9MRUHwFyX4A",
        "outputId": "063a4c9f-ce6f-4afc-b4d0-acaca2e6cbda"
      },
      "execution_count": 4,
      "outputs": [
        {
          "output_type": "stream",
          "name": "stdout",
          "text": [
            "0\n",
            "1\n",
            "2\n",
            "3\n",
            "4\n"
          ]
        }
      ]
    },
    {
      "cell_type": "code",
      "source": [
        "for i in range(10):     # 0~9까지\n",
        "    if i % 2 == 0:      # 짝수인 경우에만 코드 블럭을 실행\n",
        "        continue        # 짝수인 경우에는 실행한 구문이 continue -> 짝수일때 -> 다시 반복문 다음 순서로 이동!\n",
        "        print(i)\n",
        "    print(i)            # for문 안에 if문 실행 된후에 차례대로 print(i)\n",
        "\n",
        "print()\n",
        "\n",
        "for i in range(10):     # 0~9까지\n",
        "    if i % 2 == 0:      # 짝수인 경우에만 하단 코드블럭을 실행\n",
        "        print(i)        # 짝수인 경우에 출력!\n"
      ],
      "metadata": {
        "colab": {
          "base_uri": "https://localhost:8080/"
        },
        "id": "yzRJNt7My0oE",
        "outputId": "bd1301d8-1f24-4595-80ef-2b17b8d4c5de"
      },
      "execution_count": 4,
      "outputs": [
        {
          "output_type": "stream",
          "name": "stdout",
          "text": [
            "1\n",
            "3\n",
            "5\n",
            "7\n",
            "9\n"
          ]
        }
      ]
    },
    {
      "cell_type": "code",
      "source": [
        "import random\n",
        "\n",
        "answer = random.randint(1, 1000)\n",
        "while True:\n",
        "    userinput = int(input('숫자를 입력해주세요.'))\n",
        "    if userinput > answer:\n",
        "        print('Down')\n",
        "\n",
        "    elif userinput < answer:\n",
        "        print('Up')\n",
        "    else:\n",
        "        print('축하합니다! 맞추셨어요!')\n",
        "        break"
      ],
      "metadata": {
        "colab": {
          "base_uri": "https://localhost:8080/"
        },
        "id": "73vV2ltMz3O0",
        "outputId": "2c210cb0-5886-4a92-c265-fe59ac8c551f"
      },
      "execution_count": 10,
      "outputs": [
        {
          "output_type": "stream",
          "name": "stdout",
          "text": [
            "숫자를 입력해주세요.1\n",
            "Up\n",
            "숫자를 입력해주세요.2\n",
            "Up\n",
            "숫자를 입력해주세요.50\n",
            "Up\n",
            "숫자를 입력해주세요.75\n",
            "Up\n",
            "숫자를 입력해주세요.87\n",
            "Up\n",
            "숫자를 입력해주세요.94\n",
            "Up\n",
            "숫자를 입력해주세요.500\n",
            "Up\n",
            "숫자를 입력해주세요.750\n",
            "Down\n",
            "숫자를 입력해주세요.625\n",
            "Up\n",
            "숫자를 입력해주세요.680\n",
            "Down\n",
            "숫자를 입력해주세요.660\n",
            "Up\n",
            "숫자를 입력해주세요.670\n",
            "Up\n",
            "숫자를 입력해주세요.675\n",
            "축하합니다! 맞추셨어요!\n"
          ]
        }
      ]
    },
    {
      "cell_type": "code",
      "source": [
        "# 중첩 while문\n",
        "\n",
        "i = 2\n",
        "\n",
        "while i < 10:           # 2단부터 9단까지 반복 준비\n",
        "    j = 1               # 1~9 곱해주기 위한 초기값\n",
        "    print(f\"{i}단\")     # 몇단 인지 출력\n",
        "    while j < 10:       # 1~9단 까지 반복\n",
        "        print(f\"{i} X {j} = {i*j}\") # i단 X j가 1~9까지 반복하며 인쇄\n",
        "        j += 1          # j값을 하나씩 늘려줌\n",
        "    print()             # 단 사이에 빈공간\n",
        "    i += 1              # i에 9까지 곱한게 끝나면 i+1 단으로 값설정"
      ],
      "metadata": {
        "colab": {
          "base_uri": "https://localhost:8080/"
        },
        "id": "8QC6-n3a2DAN",
        "outputId": "d081d1ef-5935-4467-92c9-359569146246"
      },
      "execution_count": 14,
      "outputs": [
        {
          "output_type": "stream",
          "name": "stdout",
          "text": [
            "2단\n",
            "2 X 1 = 2\n",
            "2 X 2 = 4\n",
            "2 X 3 = 6\n",
            "2 X 4 = 8\n",
            "2 X 5 = 10\n",
            "2 X 6 = 12\n",
            "2 X 7 = 14\n",
            "2 X 8 = 16\n",
            "2 X 9 = 18\n",
            "\n",
            "3단\n",
            "3 X 1 = 3\n",
            "3 X 2 = 6\n",
            "3 X 3 = 9\n",
            "3 X 4 = 12\n",
            "3 X 5 = 15\n",
            "3 X 6 = 18\n",
            "3 X 7 = 21\n",
            "3 X 8 = 24\n",
            "3 X 9 = 27\n",
            "\n",
            "4단\n",
            "4 X 1 = 4\n",
            "4 X 2 = 8\n",
            "4 X 3 = 12\n",
            "4 X 4 = 16\n",
            "4 X 5 = 20\n",
            "4 X 6 = 24\n",
            "4 X 7 = 28\n",
            "4 X 8 = 32\n",
            "4 X 9 = 36\n",
            "\n",
            "5단\n",
            "5 X 1 = 5\n",
            "5 X 2 = 10\n",
            "5 X 3 = 15\n",
            "5 X 4 = 20\n",
            "5 X 5 = 25\n",
            "5 X 6 = 30\n",
            "5 X 7 = 35\n",
            "5 X 8 = 40\n",
            "5 X 9 = 45\n",
            "\n",
            "6단\n",
            "6 X 1 = 6\n",
            "6 X 2 = 12\n",
            "6 X 3 = 18\n",
            "6 X 4 = 24\n",
            "6 X 5 = 30\n",
            "6 X 6 = 36\n",
            "6 X 7 = 42\n",
            "6 X 8 = 48\n",
            "6 X 9 = 54\n",
            "\n",
            "7단\n",
            "7 X 1 = 7\n",
            "7 X 2 = 14\n",
            "7 X 3 = 21\n",
            "7 X 4 = 28\n",
            "7 X 5 = 35\n",
            "7 X 6 = 42\n",
            "7 X 7 = 49\n",
            "7 X 8 = 56\n",
            "7 X 9 = 63\n",
            "\n",
            "8단\n",
            "8 X 1 = 8\n",
            "8 X 2 = 16\n",
            "8 X 3 = 24\n",
            "8 X 4 = 32\n",
            "8 X 5 = 40\n",
            "8 X 6 = 48\n",
            "8 X 7 = 56\n",
            "8 X 8 = 64\n",
            "8 X 9 = 72\n",
            "\n",
            "9단\n",
            "9 X 1 = 9\n",
            "9 X 2 = 18\n",
            "9 X 3 = 27\n",
            "9 X 4 = 36\n",
            "9 X 5 = 45\n",
            "9 X 6 = 54\n",
            "9 X 7 = 63\n",
            "9 X 8 = 72\n",
            "9 X 9 = 81\n",
            "\n"
          ]
        }
      ]
    },
    {
      "cell_type": "code",
      "source": [
        "switch = 0\n",
        "\n",
        "for i in range(5):\n",
        "    if switch == 1:\n",
        "        break\n",
        "    for j in range(5):\n",
        "        if j == 3:\n",
        "            switch = 1\n",
        "            break\n",
        "        print(f'{i}, {j}')"
      ],
      "metadata": {
        "colab": {
          "base_uri": "https://localhost:8080/"
        },
        "id": "rr_V9id585F4",
        "outputId": "ce1d2ab9-fa4a-4ed7-d878-e7df1979039e"
      },
      "execution_count": 15,
      "outputs": [
        {
          "output_type": "stream",
          "name": "stdout",
          "text": [
            "0, 0\n",
            "0, 1\n",
            "0, 2\n"
          ]
        }
      ]
    },
    {
      "cell_type": "code",
      "source": [
        "# https://peps.python.org/pep-3136/\n",
        "\n",
        "try:\n",
        "    for i in range(2, 10):\n",
        "        for j in range(1, 10):\n",
        "            if j == 3:\n",
        "                raise StopIteration\n",
        "            print(f'{i} X {j} = {i*j}')\n",
        "except StopIteration:\n",
        "    print(\"Done\")"
      ],
      "metadata": {
        "colab": {
          "base_uri": "https://localhost:8080/"
        },
        "id": "vulUZ39VAS3G",
        "outputId": "5b627a5c-960e-40bb-ed01-846904b1c59c"
      },
      "execution_count": 16,
      "outputs": [
        {
          "output_type": "stream",
          "name": "stdout",
          "text": [
            "2 X 1 = 2\n",
            "2 X 2 = 4\n",
            "Done\n"
          ]
        }
      ]
    },
    {
      "cell_type": "code",
      "source": [
        "for i in range(100):\n",
        "    print(f'{i} 물고기를 잡았습니다.')\n",
        "    if i == 5:\n",
        "        print('만선입니다. 물고기를 다 잡았습니다.')\n",
        "        break\n",
        "else:\n",
        "    if i == 5:\n",
        "        print(\"축하합니다.\")\n",
        "    elif i < 5:\n",
        "        print('아직 여유가 좀 있지만, 물고기가 더 없는 것 같으니 이정도로 만족하고 돌아갑시다.')\n",
        "print('수고하셨습니다.')"
      ],
      "metadata": {
        "colab": {
          "base_uri": "https://localhost:8080/"
        },
        "id": "VCzAHUm4DEh6",
        "outputId": "8edce819-2cfb-471a-958a-e6ed2bd50579"
      },
      "execution_count": 21,
      "outputs": [
        {
          "output_type": "stream",
          "name": "stdout",
          "text": [
            "0 물고기를 잡았습니다.\n",
            "1 물고기를 잡았습니다.\n",
            "2 물고기를 잡았습니다.\n",
            "3 물고기를 잡았습니다.\n",
            "4 물고기를 잡았습니다.\n",
            "5 물고기를 잡았습니다.\n",
            "만선입니다. 물고기를 다 잡았습니다.\n",
            "수고하셨습니다.\n"
          ]
        }
      ]
    },
    {
      "cell_type": "code",
      "source": [],
      "metadata": {
        "id": "2XWlFl9kDFKu"
      },
      "execution_count": null,
      "outputs": []
    }
  ]
}