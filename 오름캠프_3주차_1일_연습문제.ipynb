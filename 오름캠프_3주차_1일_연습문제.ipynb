{
  "nbformat": 4,
  "nbformat_minor": 0,
  "metadata": {
    "colab": {
      "provenance": [],
      "authorship_tag": "ABX9TyN+A/G12z7KrHvEoe4o1bJl",
      "include_colab_link": true
    },
    "kernelspec": {
      "name": "python3",
      "display_name": "Python 3"
    },
    "language_info": {
      "name": "python"
    }
  },
  "cells": [
    {
      "cell_type": "markdown",
      "metadata": {
        "id": "view-in-github",
        "colab_type": "text"
      },
      "source": [
        "<a href=\"https://colab.research.google.com/github/mkdirlife/orm/blob/main/%EC%98%A4%EB%A6%84%EC%BA%A0%ED%94%84_3%EC%A3%BC%EC%B0%A8_1%EC%9D%BC_%EC%97%B0%EC%8A%B5%EB%AC%B8%EC%A0%9C.ipynb\" target=\"_parent\"><img src=\"https://colab.research.google.com/assets/colab-badge.svg\" alt=\"Open In Colab\"/></a>"
      ]
    },
    {
      "cell_type": "code",
      "execution_count": 96,
      "metadata": {
        "colab": {
          "base_uri": "https://localhost:8080/"
        },
        "id": "JIqtROKq4LIZ",
        "outputId": "44b8fc0b-6e65-4ba1-8328-246bb5c98f37"
      },
      "outputs": [
        {
          "output_type": "stream",
          "name": "stdout",
          "text": [
            "I\n",
            "love\n",
            "python\n"
          ]
        }
      ],
      "source": [
        "# 1\n",
        "# 다음 코드를 실행하면 출력되는 값을 순서대로 작성해보세요.\n",
        "a = 'pithon'\n",
        "\n",
        "def 함수1():\n",
        "    def 함수2():\n",
        "        print('love')\n",
        "\n",
        "    print('I')\n",
        "    함수2()\n",
        "    return \"python\"\n",
        "\n",
        "\n",
        "a = 함수1()\n",
        "print(a)"
      ]
    },
    {
      "cell_type": "code",
      "source": [
        "# 2\n",
        "# 함수를 이용하여 계산기 프로그램을 만들어주세요.\n",
        "def plus(num1, num2):\n",
        "\treturn num1 + num2\n",
        "\n",
        "def minus(num1, num2):\n",
        "\treturn num1 - num2\n",
        "\n",
        "def multiply(num1, num2):\n",
        "\treturn num1 * num2\n",
        "\n",
        "def divide(num1, num2):\n",
        "    if num2 == 0:\n",
        "        return '0으로 나눌 수 없습니다.'\n",
        "    else:\n",
        "        return num1 / num2\n",
        "\n",
        "print(f'plus : {plus(10, 5)}')\n",
        "print(f'minus : {minus(10, 5)}')\n",
        "print(f'multiply : {multiply(10, 5)}')\n",
        "print(f'divide : {divide(10, 5)}')"
      ],
      "metadata": {
        "colab": {
          "base_uri": "https://localhost:8080/"
        },
        "id": "7RUyH5Q94YOR",
        "outputId": "cb98824d-25af-4a4e-e405-6cbac34b4677"
      },
      "execution_count": 97,
      "outputs": [
        {
          "output_type": "stream",
          "name": "stdout",
          "text": [
            "plus : 15\n",
            "minus : 5\n",
            "multiply : 50\n",
            "divide : 2.0\n"
          ]
        }
      ]
    },
    {
      "cell_type": "code",
      "source": [
        "# 3\n",
        "# 2번의 해답을 이용하여 a와 b를 더한 값과 a와 b를 뺀 값을 곱하는 함수를 만들어주세요.\n",
        "# 아래와 같은 값이 있다면 (2 + 3) * (2 - 3) = -5가 출력이 되어야 합니다.\n",
        "\n",
        "a = 2\n",
        "b = 3\n",
        "\n",
        "# 이 부분에 코드를 작성해주세요.\n",
        "def plus(num1, num2):\n",
        "\treturn num1 + num2\n",
        "\n",
        "def minus(num1, num2):\n",
        "\treturn num1 - num2\n",
        "\n",
        "def multiply(num1, num2):\n",
        "\treturn num1 * num2\n",
        "\n",
        "def divide(num1, num2):\n",
        "\treturn num1 / num2\n",
        "\n",
        "print(f\"(2 + 3) * (2 - 3) = {(multiply(plus(a, b), minus(a, b)))}\")"
      ],
      "metadata": {
        "colab": {
          "base_uri": "https://localhost:8080/"
        },
        "id": "gqlcRdYG4ptp",
        "outputId": "5029f006-8c95-46a1-ecb9-48751ab0454c"
      },
      "execution_count": 98,
      "outputs": [
        {
          "output_type": "stream",
          "name": "stdout",
          "text": [
            "(2 + 3) * (2 - 3) = -5\n"
          ]
        }
      ]
    },
    {
      "cell_type": "code",
      "source": [
        "# 4\n",
        "# x의 n제곱을 구하는 함수를 만들어주세요.\n",
        "# 재귀함수를 이용하여 만들어야하며, x은 0이 아닙니다. (x, n > 1)\n",
        "\n",
        "\n",
        "x = int(input(\"x 값을 입력해주세요 :\"))\n",
        "n = int(input(\"n 값을 입력해주세요 :\"))\n",
        "\n",
        "def square(x, n):\n",
        "    if n == 0:\n",
        "        return 1\n",
        "    else:\n",
        "        return x * square(x, n-1)\n",
        "\n",
        "print(square(x, n))"
      ],
      "metadata": {
        "colab": {
          "base_uri": "https://localhost:8080/"
        },
        "id": "-IVw3N8y5Xh1",
        "outputId": "597dab92-8744-4811-c0f4-b7223844c149"
      },
      "execution_count": 99,
      "outputs": [
        {
          "output_type": "stream",
          "name": "stdout",
          "text": [
            "x 값을 입력해주세요 :3\n",
            "n 값을 입력해주세요 :5\n",
            "243\n"
          ]
        }
      ]
    },
    {
      "cell_type": "code",
      "source": [
        "# 5\n",
        "# 이 데이터에서 licat을 출력해주세요. 단, 직접 접근은 안됩니다. data[1]로 접근하는 것은 안됩니다.\n",
        "\n",
        "data = [['weniv CTO binky', 2], ['weniv CEO licat', 1], ['weniv COO mura', 2]]\n",
        "\n",
        "data1, data2, data3 = data\n",
        "print(data2[0][-5:])"
      ],
      "metadata": {
        "colab": {
          "base_uri": "https://localhost:8080/"
        },
        "id": "THLd9BxT6RLR",
        "outputId": "2dcdcc82-5efd-4ea6-edf0-3dc6505c77a7"
      },
      "execution_count": 100,
      "outputs": [
        {
          "output_type": "stream",
          "name": "stdout",
          "text": [
            "licat\n"
          ]
        }
      ]
    },
    {
      "cell_type": "code",
      "source": [
        "from re import T\n",
        "# 6\n",
        "# 다음 함수 is_palindrome를 완성하시오. 이 함수는 하나의 문자열을 인자로 받아,\n",
        "# 해당 문자열이 앞으로 읽으나 뒤로 읽으나 같은 단어이면 True를, 아니면 False를 반환해야 합니다.\n",
        "\n",
        "def is_palindrome(s):\n",
        "    if s == s[::-1]:\n",
        "        print(\"앞으로 읽은 문자열 : \" + s)\n",
        "        print(\"뒤에서 읽은 문자열 : \" + s[::-1])\n",
        "        return True\n",
        "    else:\n",
        "        print(\"앞으로 읽은 문자열 : \" + s)\n",
        "        print(\"뒤에서 읽은 문자열 : \" + s[::-1])\n",
        "        return False\n",
        "\n",
        "string = input(\"문자열을 입력하세요 : \")\n",
        "\n",
        "print(is_palindrome(string))"
      ],
      "metadata": {
        "colab": {
          "base_uri": "https://localhost:8080/"
        },
        "id": "hqIvLiJqLki4",
        "outputId": "878302e3-e8a5-4959-ba5e-694b7e7eee9b"
      },
      "execution_count": 101,
      "outputs": [
        {
          "output_type": "stream",
          "name": "stdout",
          "text": [
            "문자열을 입력하세요 : dklfjslf\n",
            "앞으로 읽은 문자열 : dklfjslf\n",
            "뒤에서 읽은 문자열 : flsjflkd\n",
            "False\n"
          ]
        }
      ]
    },
    {
      "cell_type": "code",
      "source": [
        "# 7\n",
        "# 리스트 numbers가 주어졌을 때, 이 리스트 내의 모든 짝수를 제거하는 코드를 작성하시오.\n",
        "\n",
        "numbers = [2, 3, 4, 5, 6, 7, 8, 9, 10]\n",
        "\n",
        "# code\n",
        "numbers = list(filter(lambda x : x % 2 != 0, numbers))\n",
        "\n",
        "print(numbers)  # 결과: [3, 5, 7, 9]\n"
      ],
      "metadata": {
        "colab": {
          "base_uri": "https://localhost:8080/"
        },
        "id": "U7sZkeHcc_Cg",
        "outputId": "3b8c3d7e-56cb-4d0e-ebc2-5d19ef220560"
      },
      "execution_count": 104,
      "outputs": [
        {
          "output_type": "stream",
          "name": "stdout",
          "text": [
            "[3, 5, 7, 9]\n"
          ]
        }
      ]
    }
  ]
}