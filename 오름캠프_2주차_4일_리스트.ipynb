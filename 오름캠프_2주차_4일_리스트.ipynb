{
  "nbformat": 4,
  "nbformat_minor": 0,
  "metadata": {
    "colab": {
      "provenance": [],
      "authorship_tag": "ABX9TyOBbZz/d5Pe6183Qej+SwJt",
      "include_colab_link": true
    },
    "kernelspec": {
      "name": "python3",
      "display_name": "Python 3"
    },
    "language_info": {
      "name": "python"
    }
  },
  "cells": [
    {
      "cell_type": "markdown",
      "metadata": {
        "id": "view-in-github",
        "colab_type": "text"
      },
      "source": [
        "<a href=\"https://colab.research.google.com/github/mkdirlife/orm/blob/main/%EC%98%A4%EB%A6%84%EC%BA%A0%ED%94%84_2%EC%A3%BC%EC%B0%A8_4%EC%9D%BC_%EB%A6%AC%EC%8A%A4%ED%8A%B8.ipynb\" target=\"_parent\"><img src=\"https://colab.research.google.com/assets/colab-badge.svg\" alt=\"Open In Colab\"/></a>"
      ]
    },
    {
      "cell_type": "code",
      "source": [
        "a = 10\n",
        "b = a\n",
        "c = b\n",
        "\n",
        "print(c)\n",
        "\n",
        "a = 10\n",
        "b = a\n",
        "c = b\n",
        "a = 20\n",
        "\n",
        "print(c)"
      ],
      "metadata": {
        "colab": {
          "base_uri": "https://localhost:8080/"
        },
        "id": "5-3_PyKiSp_8",
        "outputId": "5c6d5fb4-df08-4f22-d0d0-cf68742242b2"
      },
      "execution_count": null,
      "outputs": [
        {
          "output_type": "stream",
          "name": "stdout",
          "text": [
            "10\n",
            "10\n"
          ]
        }
      ]
    },
    {
      "cell_type": "code",
      "source": [
        "a = 10\n",
        "b = 10\n",
        "\n",
        "id(a)"
      ],
      "metadata": {
        "id": "xAhznwa2TgaL"
      },
      "execution_count": null,
      "outputs": []
    },
    {
      "cell_type": "code",
      "source": [
        "# 회색 줄은 영문자 80자, 한글은 32자\n",
        "# PEP8, PEP20\n",
        "# 줄이 너무 길면 가독성이 떨어집니다.\n",
        "# 뭐든지 한 줄로 하려고 하는 분들 있는데 안 좋은 습관입니다.\n",
        "\n",
        "print(\"hello worldhello worldhello worldhello worldhello worldhello worldhello worldhello world\")\n",
        "\n",
        "# 해결책 1: 역슬러시 넣는 방법(저는 권고하지 않습니다!, 이스케이 문자랑 혼동될 수 있습니다.)\n",
        "print(\"hello worldhello worldhello worldhello worldhello worldhello worldhello \\\n",
        "worldhello world\")\n",
        "\n",
        "# 이유는 이거랑 헷갈림\n",
        "print(\"hello world \\n hello world\")\n",
        "\n",
        "# 해결책 2: 콤마를 찍지 않은 연결\n",
        "print(\"hello world\" \"hello world\")\n",
        "print(\"hello world\"\n",
        "    \"hello world\")"
      ],
      "metadata": {
        "colab": {
          "base_uri": "https://localhost:8080/"
        },
        "id": "hUDPS88ZFfzX",
        "outputId": "204505e6-cc7b-4343-fd23-70da77f1fb0c"
      },
      "execution_count": null,
      "outputs": [
        {
          "output_type": "stream",
          "name": "stdout",
          "text": [
            "hello worldhello worldhello worldhello worldhello worldhello worldhello worldhello world\n",
            "hello worldhello worldhello worldhello worldhello worldhello worldhello worldhello world\n",
            "hello world \n",
            " hello world\n",
            "hello worldhello world\n",
            "hello worldhello world\n"
          ]
        }
      ]
    },
    {
      "cell_type": "code",
      "source": [
        "# 질문 : 메서드 체인으로 길어지면 어떻게 하나요?\n",
        "# 답 : 메서드 체인으로 80자 이상이면 이미 가독성에 문제가 있는 것\n",
        "# 메서드 체이닝을 3개 이상을 하길 권하지 않습니다.(가독성이 약화됩니다.)\n",
        "'hello world'.upper().split(' ').pop().lower()  # 이렇게 코딩하지 마세요\n",
        "\n",
        "# 문제가 덜한 코드\n",
        "대문자 = 'hello world'.upper()\n",
        "잘린대문자 = 대문자.split(' ')\n",
        "\n",
        "#'hello world'.upper()   .split(' ')   .pop()    .lower()  # 이렇게 코딩하지 마세요 하지만 실행됨\n",
        "\n",
        "\n",
        "# 허용함 자바스크립트식\n",
        "'hello world'.upper()\\\n",
        "    .split(' ')\\\n",
        "    .pop()\\\n",
        "    .lower()\n",
        "\n",
        "# 허용함\n",
        "'hello world'.upper()   .split(' ')   .pop()   .lower()\n",
        "\n",
        "# 허용하지 않음(\\n) 엔터를 허용하지 않음\n",
        "# 'hello world'.upper()\n",
        "#     .split(' ')\n",
        "#     .pop()\n",
        "#     .lower()\n",
        "\n",
        "# 허용하지 않음(\\n) 엔터를 허용하지 않음\n",
        "# 'hello world'.upper()\n",
        "# .split(' ')\n",
        "# .pop()\n",
        "# .lower()"
      ],
      "metadata": {
        "colab": {
          "base_uri": "https://localhost:8080/",
          "height": 35
        },
        "id": "QpQqbM0lLP8D",
        "outputId": "a34c9296-74fc-4910-d012-36989d1d79dc"
      },
      "execution_count": null,
      "outputs": [
        {
          "output_type": "execute_result",
          "data": {
            "text/plain": [
              "'world'"
            ],
            "application/vnd.google.colaboratory.intrinsic+json": {
              "type": "string"
            }
          },
          "metadata": {},
          "execution_count": 24
        }
      ]
    },
    {
      "cell_type": "code",
      "source": [
        "dir('hello world')  # 메서드, 매직메서드, (클래스 변수, 인스턴스 변수)\n",
        "\n",
        "# 문제 1 : find와 index 차이\n",
        "# 실무에서 사용하는 코드\n",
        "\n",
        "if 'hello world'.find('hi'):    # 실무에서 자주 나오는 오류! 이렇게 코딩하시면 안됩니다. 못 찾았는데 찾았다고 봄 -1 리턴은 참으로 봄\n",
        "        print('찾았다!')\n",
        "\n",
        "# 문제2 isdigit의 정체 is시리즈는 많이 씀\n",
        "'123'.isdigit()\n",
        "'12h3'.isdigit()\n",
        "\n",
        "# 문제3 replace가 어디까지 변환하는지?\n",
        "'hello world hello world'.replace('hello', 'hi')    # 모두 다 변환이 됩니다. 몇 개만 변환이 되는 것이 아닙니다.\n",
        "# 알아두셔야 할 사항 : replace는 정규표현식이 안됩니다!\n",
        "# replace를 정규표현식을 사용하고 싶으면 re.sub를 사용해야 합니다.\n",
        "\n",
        "# 문제4 strip(공백제거)\n",
        "\n",
        "# 문제5 zfill(앞에 0으로 채워주는 것, 원하는 자릿수만큼, 시간이나 연도)"
      ],
      "metadata": {
        "colab": {
          "base_uri": "https://localhost:8080/"
        },
        "id": "UF_co9Y3Lzyt",
        "outputId": "29c90ba9-0eea-4d5b-8b24-74648e0b005e"
      },
      "execution_count": null,
      "outputs": [
        {
          "output_type": "stream",
          "name": "stdout",
          "text": [
            "찾았다!\n"
          ]
        },
        {
          "output_type": "execute_result",
          "data": {
            "text/plain": [
              "True"
            ]
          },
          "metadata": {},
          "execution_count": 111
        }
      ]
    },
    {
      "cell_type": "markdown",
      "source": [
        "# 리스트\n",
        "* 변경이 가능한 자료형\n",
        "* 순서가 있는 자료형(시퀀스형 자료형, 인덱싱, 슬라이싱)"
      ],
      "metadata": {
        "id": "09eS0iDRMcsF"
      }
    },
    {
      "cell_type": "code",
      "source": [
        "ㅣ = [10, 20, 30]\n",
        "\n",
        "# 라인 수가 길어졌을 때에는 이렇게 사용하길 권합니다.\n",
        "# 권고1 ,가 있을 경우 []가 있을때 까지 다음을 찾는다.\n",
        "ㅣ = [10,\n",
        "      20,\n",
        "      30]   # 됩니다.\n",
        "\n",
        "ㅣ = [\n",
        "     10,\n",
        "     20,\n",
        "     30\n",
        "]   # 됩니다.\n",
        "\n",
        "# 권고2\n",
        "l = [\n",
        "     10,\n",
        "     20,\n",
        "     30,\n",
        "]\n",
        "# 문제가 있습니다! 통신을 할 때에는 JSON 이라는 형식을 사용하게 되는데\n",
        "# JSON은 마지막에 콤마를 허용하지 않습니다!\n",
        "\n",
        "# 그러면 왜 권고2 가 더 사용되는 걸까? 더 많이 사용되는 이유는?\n",
        "# 실무에서는 콤마를 버전업으로 인식하는 경우도 많고,\n",
        "# 콤마를 빼먹는 경우가 많습니다.\n",
        "# 편의성 : Ctrl + C, Ctrl + V 하기가 편합니다.\n",
        "# 공동작업시 일관성을 위해 자동 변환 SW를 사용합니다.(python black formatter)   => 권고!!!\n"
      ],
      "metadata": {
        "id": "XYq5c6dpPn6a"
      },
      "execution_count": null,
      "outputs": []
    },
    {
      "cell_type": "code",
      "source": [
        "ㅣ = [10, 20, 30]\n",
        "ㅣ[2] = 1000\n",
        "print(l)"
      ],
      "metadata": {
        "colab": {
          "base_uri": "https://localhost:8080/"
        },
        "id": "BEQXb8XgSkWr",
        "outputId": "76ec3960-6171-4961-c0cc-f17ab2193d50"
      },
      "execution_count": null,
      "outputs": [
        {
          "output_type": "stream",
          "name": "stdout",
          "text": [
            "[10, 20, 30, 40, 50]\n"
          ]
        }
      ]
    },
    {
      "cell_type": "code",
      "source": [
        "l = [10, 20, 30, 40, 50]\n",
        "l[-1]\n",
        "l[-2:]  # 마이너스 인덱싱, 마이너스 슬라이싱은 최종적으로 양수로 치환됩니다. ㅣ[3:] 로 치환되서 실행됨\n",
        "\n",
        "# 변수명 [stop]\n",
        "# 변수명 [start:stop]\n",
        "# 변수명 [start:stop:step]"
      ],
      "metadata": {
        "colab": {
          "base_uri": "https://localhost:8080/"
        },
        "id": "sFE6L0_jaHZs",
        "outputId": "1a5d2430-c787-469b-fc50-adbc850820a9"
      },
      "execution_count": null,
      "outputs": [
        {
          "output_type": "execute_result",
          "data": {
            "text/plain": [
              "[40, 50]"
            ]
          },
          "metadata": {},
          "execution_count": 42
        }
      ]
    },
    {
      "cell_type": "code",
      "source": [
        "type(l), dir(l)\n",
        "# type은 검색 키워드, GPT 질문 키워드가 될 수 있습니다.\n",
        "# dir은 대략적인 속성을 알 수 있습니다.\n"
      ],
      "metadata": {
        "colab": {
          "base_uri": "https://localhost:8080/"
        },
        "id": "FbiCE3Mya1cf",
        "outputId": "05e27420-8018-4987-c0ed-f5559cf5fea0"
      },
      "execution_count": null,
      "outputs": [
        {
          "output_type": "execute_result",
          "data": {
            "text/plain": [
              "(list,\n",
              " ['__add__',\n",
              "  '__class__',\n",
              "  '__class_getitem__',\n",
              "  '__contains__',\n",
              "  '__delattr__',\n",
              "  '__delitem__',\n",
              "  '__dir__',\n",
              "  '__doc__',\n",
              "  '__eq__',\n",
              "  '__format__',\n",
              "  '__ge__',\n",
              "  '__getattribute__',\n",
              "  '__getitem__',\n",
              "  '__gt__',\n",
              "  '__hash__',\n",
              "  '__iadd__',\n",
              "  '__imul__',\n",
              "  '__init__',\n",
              "  '__init_subclass__',\n",
              "  '__iter__',\n",
              "  '__le__',\n",
              "  '__len__',\n",
              "  '__lt__',\n",
              "  '__mul__',\n",
              "  '__ne__',\n",
              "  '__new__',\n",
              "  '__reduce__',\n",
              "  '__reduce_ex__',\n",
              "  '__repr__',\n",
              "  '__reversed__',\n",
              "  '__rmul__',\n",
              "  '__setattr__',\n",
              "  '__setitem__',\n",
              "  '__sizeof__',\n",
              "  '__str__',\n",
              "  '__subclasshook__',\n",
              "  'append',\n",
              "  'clear',\n",
              "  'copy',\n",
              "  'count',\n",
              "  'extend',\n",
              "  'index',\n",
              "  'insert',\n",
              "  'pop',\n",
              "  'remove',\n",
              "  'reverse',\n",
              "  'sort'])"
            ]
          },
          "metadata": {},
          "execution_count": 44
        }
      ]
    },
    {
      "cell_type": "code",
      "source": [
        "# __add__ 가 있으니 더하기는 어디까지 될까? => 테스트\n",
        "# __mul__ 이 있으니 곱하기는 어디까디 될까? => 테스트\n",
        "\n",
        "ㅣ = [10, 20, 30]\n",
        "# ㅣ + 100 # 정수 더하기는 안됩니다!\n",
        "ㅣ + [100]\n",
        "ㅣ + [100, 200]\n",
        "ㅣ * 3\n",
        "#ㅣ * [1, 2]    # 리스트 곱하기는 안됩니다."
      ],
      "metadata": {
        "colab": {
          "base_uri": "https://localhost:8080/"
        },
        "id": "BjNcls0Abkxz",
        "outputId": "990ceafb-668e-41d2-a305-9f27d3495a2d"
      },
      "execution_count": null,
      "outputs": [
        {
          "output_type": "execute_result",
          "data": {
            "text/plain": [
              "[10, 20, 30, 10, 20, 30, 10, 20, 30]"
            ]
          },
          "metadata": {},
          "execution_count": 48
        }
      ]
    },
    {
      "cell_type": "code",
      "source": [
        "ㅣ = [1, 2, 3] * 3\n",
        "ㅣ[1] = 1000\n",
        "ㅣ"
      ],
      "metadata": {
        "colab": {
          "base_uri": "https://localhost:8080/"
        },
        "id": "Ivg6-l32cMc-",
        "outputId": "a4147ac7-320b-4a24-add0-173efa9424f0"
      },
      "execution_count": null,
      "outputs": [
        {
          "output_type": "execute_result",
          "data": {
            "text/plain": [
              "[1, 1000, 3, 1, 2, 3, 1, 2, 3]"
            ]
          },
          "metadata": {},
          "execution_count": 50
        }
      ]
    },
    {
      "cell_type": "code",
      "source": [
        "# 리스트 곱하기는 매우 주의해야 합니다!\n",
        "# 곱하기는 2중으로 있을 때에는 나중에 배울 리스트컴프리헨션 사용해주세요!\n",
        "# 같은 메모리를 가리킨다\n",
        "\n",
        "ㅣ = [[1, 2, 3] * 3] * 2\n",
        "ㅣ[1][0] = 1000\n",
        "ㅣ[1][1] = 10000\n",
        "ㅣ"
      ],
      "metadata": {
        "colab": {
          "base_uri": "https://localhost:8080/"
        },
        "id": "XEN93ph6cVWJ",
        "outputId": "47d15f31-06ae-4609-edab-63e590751afc"
      },
      "execution_count": null,
      "outputs": [
        {
          "output_type": "execute_result",
          "data": {
            "text/plain": [
              "[[1000, 10000, 3, 1, 2, 3, 1, 2, 3], [1000, 10000, 3, 1, 2, 3, 1, 2, 3]]"
            ]
          },
          "metadata": {},
          "execution_count": 55
        }
      ]
    },
    {
      "cell_type": "code",
      "source": [
        "# 암기해주세요.\n",
        "x = 10          # 스칼라\n",
        "x = [10]        # 벡터\n",
        "x = [10, 20]    # 벡터\n",
        "x = [[10, 20], [10, 20]]    # 메트릭스(행렬)\n",
        "x = [[[10, 20], [10, 20], [10, 20], [10, 20]]]  # 텐서(3차원 이상 행렬)"
      ],
      "metadata": {
        "id": "tv1QSEj_c221"
      },
      "execution_count": null,
      "outputs": []
    },
    {
      "cell_type": "code",
      "source": [
        "# 텐서플로? google에서 만든 딥러닝 라이브러리\n",
        "# 인공지능 => 행렬의 연산"
      ],
      "metadata": {
        "id": "yIsWPdDceUNp"
      },
      "execution_count": null,
      "outputs": []
    },
    {
      "cell_type": "code",
      "source": [
        "x = [[1, 2], [3, 4], [5, 6]]\n",
        "x[1]\n",
        "x[1][1]"
      ],
      "metadata": {
        "colab": {
          "base_uri": "https://localhost:8080/"
        },
        "id": "kyz_zc2qed7q",
        "outputId": "63c30030-5c41-45db-d11f-592d28e56c17"
      },
      "execution_count": null,
      "outputs": [
        {
          "output_type": "execute_result",
          "data": {
            "text/plain": [
              "4"
            ]
          },
          "metadata": {},
          "execution_count": 58
        }
      ]
    },
    {
      "cell_type": "code",
      "source": [
        "x = [[1, 2], [3, 'hello world'], [5, 6]]\n",
        "\n",
        "# Ctrl + Alt + 화살표 위나 아래, `print(` 입력했고, end버튼 눌렀고, `)` 입력했습니다.\n",
        "print(x[1])\n",
        "print(x[1][1])\n",
        "print(x[1][1][6:])"
      ],
      "metadata": {
        "colab": {
          "base_uri": "https://localhost:8080/"
        },
        "id": "zFZvMyooe4WA",
        "outputId": "7170ba86-663b-470a-9322-71264d94879a"
      },
      "execution_count": null,
      "outputs": [
        {
          "output_type": "stream",
          "name": "stdout",
          "text": [
            "[3, 'hello world']\n",
            "hello world\n",
            "world\n"
          ]
        }
      ]
    },
    {
      "cell_type": "code",
      "source": [
        "x = 10\n",
        "\n",
        "# 다르다는 것만 인지해주세요!\n",
        "# print를 하는 것과 맨 마지막 출력하는 것은 다릅니다!\n",
        "print(x)    # __str__\n",
        "x           # __repr__"
      ],
      "metadata": {
        "colab": {
          "base_uri": "https://localhost:8080/"
        },
        "id": "craI8Uw5fipd",
        "outputId": "2a7aef83-d43c-4a48-847e-5fcb7df52c2a"
      },
      "execution_count": null,
      "outputs": [
        {
          "output_type": "stream",
          "name": "stdout",
          "text": [
            "10\n"
          ]
        },
        {
          "output_type": "execute_result",
          "data": {
            "text/plain": [
              "10"
            ]
          },
          "metadata": {},
          "execution_count": 63
        }
      ]
    },
    {
      "cell_type": "code",
      "source": [
        "ㅣ = [10, 20, 30]\n",
        "dir(ㅣ)\n",
        "\n",
        "# shift + tab\n",
        "# Ctrl + [, Ctrl + ]\n",
        "```\n",
        "'__add__',\n",
        "'__class__',\n",
        "'__class_getitem__',\n",
        "'__contains__',\n",
        "'__delattr__',\n",
        "'__delitem__',\n",
        "'__dir__',\n",
        "'__doc__',\n",
        "'__eq__',\n",
        "'__format__',\n",
        "'__ge__',\n",
        "'__getattribute__',\n",
        "'__getitem__',\n",
        "'__gt__',\n",
        "'__hash__',\n",
        "'__iadd__',\n",
        "'__imul__',\n",
        "'__init__',\n",
        "'__init_subclass__',\n",
        "'__iter__',\n",
        "'__le__',\n",
        "'__len__',\n",
        "'__lt__',\n",
        "'__mul__',\n",
        "'__ne__',\n",
        "'__new__',\n",
        "'__reduce__',\n",
        "'__reduce_ex__',\n",
        "'__repr__',\n",
        "'__reversed__',\n",
        "'__rmul__',\n",
        "'__setattr__',\n",
        "'__setitem__',\n",
        "'__sizeof__',\n",
        "'__str__',\n",
        "'__subclasshook__',\n",
        "'append',\n",
        "'clear',\n",
        "'copy',\n",
        "'count',\n",
        "'extend',\n",
        "'index',\n",
        "'insert',\n",
        "'pop',\n",
        "'remove',\n",
        "'reverse',\n",
        "'sort'\n"
      ],
      "metadata": {
        "colab": {
          "base_uri": "https://localhost:8080/",
          "height": 35
        },
        "id": "xfm6TluzgOLk",
        "outputId": "e0c72197-0072-4cb4-bdae-baa261829b83"
      },
      "execution_count": null,
      "outputs": [
        {
          "output_type": "execute_result",
          "data": {
            "text/plain": [
              "'sort'"
            ],
            "application/vnd.google.colaboratory.intrinsic+json": {
              "type": "string"
            }
          },
          "metadata": {},
          "execution_count": 6
        }
      ]
    },
    {
      "cell_type": "code",
      "source": [
        "l = [10, 20, 30]\n",
        "\n",
        "l.append(100)\n",
        "l"
      ],
      "metadata": {
        "colab": {
          "base_uri": "https://localhost:8080/"
        },
        "id": "Aj4Kr5Wpgzkh",
        "outputId": "af929a08-fe66-4803-b957-e677a0135074"
      },
      "execution_count": null,
      "outputs": [
        {
          "output_type": "execute_result",
          "data": {
            "text/plain": [
              "[10, 20, 30, 100]"
            ]
          },
          "metadata": {},
          "execution_count": 24
        }
      ]
    },
    {
      "cell_type": "code",
      "source": [
        "# 앞에다 넣는 방법 1\n",
        "l = [1000] + l\n",
        "\n",
        "\n",
        "# 앞에다 넣는 방법 2\n",
        "x = 10000\n",
        "l = [x] + l[:]\n",
        "\n",
        "# 앞에다 넣는 방법 3\n",
        "l.insert(0, 999)\n",
        "l"
      ],
      "metadata": {
        "colab": {
          "base_uri": "https://localhost:8080/"
        },
        "id": "mL3lO40bheVP",
        "outputId": "7e1bc826-355f-43e7-a96c-9f1607c871b2"
      },
      "execution_count": null,
      "outputs": [
        {
          "output_type": "execute_result",
          "data": {
            "text/plain": [
              "[999,\n",
              " 10000,\n",
              " 1000,\n",
              " 999,\n",
              " 10000,\n",
              " 1000,\n",
              " 999,\n",
              " 10000,\n",
              " 1000,\n",
              " 10000,\n",
              " 1000,\n",
              " 10000,\n",
              " 1000,\n",
              " 10000,\n",
              " 1000,\n",
              " 10,\n",
              " 20,\n",
              " 30,\n",
              " 100]"
            ]
          },
          "metadata": {},
          "execution_count": 32
        }
      ]
    },
    {
      "cell_type": "code",
      "source": [
        "l= [10, 20, 30, 40]\n",
        "l.pop() # 뒤에서 값을 꺼내는 방법\n",
        "l"
      ],
      "metadata": {
        "colab": {
          "base_uri": "https://localhost:8080/"
        },
        "id": "YiidZfMRkVK4",
        "outputId": "62a234e1-01d7-4491-a1c9-c16c6f711fdf"
      },
      "execution_count": null,
      "outputs": [
        {
          "output_type": "execute_result",
          "data": {
            "text/plain": [
              "[10, 20, 30]"
            ]
          },
          "metadata": {},
          "execution_count": 34
        }
      ]
    },
    {
      "cell_type": "code",
      "source": [
        "l= [10, 20, 30, 40]\n",
        "l.pop(0) # 앞에서 값을 꺼내는 방법\n",
        "l[:-1]  # l = l[:-1]\n",
        "l[1:]   # l = l[1:]"
      ],
      "metadata": {
        "colab": {
          "base_uri": "https://localhost:8080/"
        },
        "id": "11zPlg72khNZ",
        "outputId": "8ad4b255-1eed-4c4d-970a-83a53a127f82"
      },
      "execution_count": null,
      "outputs": [
        {
          "output_type": "execute_result",
          "data": {
            "text/plain": [
              "[30, 40]"
            ]
          },
          "metadata": {},
          "execution_count": 38
        }
      ]
    },
    {
      "cell_type": "code",
      "source": [
        "l= [10, 20, 30, 40]\n",
        "l.index(10)\n",
        "# find 는 없다\n"
      ],
      "metadata": {
        "colab": {
          "base_uri": "https://localhost:8080/"
        },
        "id": "kOyK4980k_xH",
        "outputId": "ad0162ee-7137-4c37-dca9-00c58cc4bd67"
      },
      "execution_count": null,
      "outputs": [
        {
          "output_type": "execute_result",
          "data": {
            "text/plain": [
              "[]"
            ]
          },
          "metadata": {},
          "execution_count": 42
        }
      ]
    },
    {
      "cell_type": "code",
      "source": [
        "\n",
        "# keep\n",
        "# index가 에러가 납니다. error 없이 코드를 짜고 싶어요.\n",
        "# str 에 find처럼 코드를 짜고 싶을 때?\n",
        "# 슬라이싱을 사용합니다. => 슬라이싱은 index가 벗어나더라도 에러가 나지 않습니다.\n",
        "\n",
        "l = [10, 20, 30, 40]\n",
        "l[100:101]"
      ],
      "metadata": {
        "colab": {
          "base_uri": "https://localhost:8080/"
        },
        "id": "Dlt6j5iPln7a",
        "outputId": "8a0833f6-d8a3-4943-daf5-20083c37f00d"
      },
      "execution_count": null,
      "outputs": [
        {
          "output_type": "execute_result",
          "data": {
            "text/plain": [
              "[]"
            ]
          },
          "metadata": {},
          "execution_count": 43
        }
      ]
    },
    {
      "cell_type": "code",
      "source": [
        "l = [10, 20, 30, 40]\n",
        "l.clear()\n",
        "l"
      ],
      "metadata": {
        "colab": {
          "base_uri": "https://localhost:8080/"
        },
        "id": "W-z3G-FBltN7",
        "outputId": "c34d4680-471f-4efa-f3c8-9d742b7a0663"
      },
      "execution_count": null,
      "outputs": [
        {
          "output_type": "execute_result",
          "data": {
            "text/plain": [
              "[]"
            ]
          },
          "metadata": {},
          "execution_count": 45
        }
      ]
    },
    {
      "cell_type": "code",
      "source": [
        "l = [10, 20, 30, 40]\n",
        "ll = l\n",
        "\n",
        "l[0] = 1000\n",
        "ll\n",
        "\n",
        "id(l), id(ll)\n",
        "l is ll\n",
        "l, ll"
      ],
      "metadata": {
        "colab": {
          "base_uri": "https://localhost:8080/"
        },
        "id": "XjaCMFrvl5MK",
        "outputId": "1e20933d-b98e-4880-8426-a3cf6e3fa749"
      },
      "execution_count": null,
      "outputs": [
        {
          "output_type": "execute_result",
          "data": {
            "text/plain": [
              "([1000, 20, 30, 40], [1000, 20, 30, 40])"
            ]
          },
          "metadata": {},
          "execution_count": 52
        }
      ]
    },
    {
      "cell_type": "code",
      "source": [
        "# copy는 l의 값을 메모리 어딘가에 복사한다. 그러므로 id가 다르다.\n",
        "l = [10, 20, 30, 40]\n",
        "ll = l.copy()   # 얕은 복사와 깊은 복사가 있는데 이 개념은 뒤에서 알려드립니다.\n",
        "\n",
        "l[0] = 1000\n",
        "ll\n",
        "\n",
        "id(l), id(ll)\n",
        "l is ll\n",
        "l, ll"
      ],
      "metadata": {
        "colab": {
          "base_uri": "https://localhost:8080/"
        },
        "id": "OHe1ZAQymQPn",
        "outputId": "a13d4022-23b2-46da-ff05-76ac6a0656cc"
      },
      "execution_count": null,
      "outputs": [
        {
          "output_type": "execute_result",
          "data": {
            "text/plain": [
              "([1000, 20, 30, 40], [10, 20, 30, 40])"
            ]
          },
          "metadata": {},
          "execution_count": 51
        }
      ]
    },
    {
      "cell_type": "code",
      "source": [
        "l = ['1', '1', 1, 2, 2, 2, 3, 3]\n",
        "l.count(1)\n",
        "\n",
        "l = ['1', 1, 1, 2, 2, 2, 3, 3]\n",
        "l.count(1)"
      ],
      "metadata": {
        "colab": {
          "base_uri": "https://localhost:8080/"
        },
        "id": "eMQRnPUDm-E5",
        "outputId": "a7a892bb-3e74-4af1-a437-10038e3cd321"
      },
      "execution_count": null,
      "outputs": [
        {
          "output_type": "execute_result",
          "data": {
            "text/plain": [
              "2"
            ]
          },
          "metadata": {},
          "execution_count": 55
        }
      ]
    },
    {
      "cell_type": "code",
      "source": [
        "# 분위기 환기차 하는 것\n",
        "\n",
        "str([1, 2, 3, 4, 5, 6, 7, 8, 9, 10, 11, 12, 13, 14, 15]).count('8')\n",
        "\n",
        "# str(1부터_10000까지 리스트).count('8')\n",
        "list(range(10))\n",
        "str(list(range(20))).count('8')\n"
      ],
      "metadata": {
        "colab": {
          "base_uri": "https://localhost:8080/"
        },
        "id": "ziE0UIYVnSWe",
        "outputId": "8be135d1-5c95-4b52-aff6-c167d438c072"
      },
      "execution_count": null,
      "outputs": [
        {
          "output_type": "execute_result",
          "data": {
            "text/plain": [
              "2"
            ]
          },
          "metadata": {},
          "execution_count": 67
        }
      ]
    },
    {
      "cell_type": "code",
      "source": [
        "l = [10, 20, 30, 40]\n",
        "l.extend('hello')   # extend(보통리스트), extend(순회가능한 객체)\n",
        "l.extend([50, 60])\n",
        "l"
      ],
      "metadata": {
        "colab": {
          "base_uri": "https://localhost:8080/"
        },
        "id": "6ZPjCrfgpENz",
        "outputId": "8e41d6b5-9442-4b03-d74c-c03e613a9973"
      },
      "execution_count": null,
      "outputs": [
        {
          "output_type": "execute_result",
          "data": {
            "text/plain": [
              "[10, 20, 30, 40, 'h', 'e', 'l', 'l', 'o', 50, 60]"
            ]
          },
          "metadata": {},
          "execution_count": 73
        }
      ]
    },
    {
      "cell_type": "code",
      "source": [
        "l = [10, 20, 30, 40]\n",
        "l.append('hello')\n",
        "l.append([50, 60])\n",
        "l"
      ],
      "metadata": {
        "colab": {
          "base_uri": "https://localhost:8080/"
        },
        "id": "5eh1avS5pNSq",
        "outputId": "82d9667e-11af-4ee1-8392-9e6c3c06597c"
      },
      "execution_count": null,
      "outputs": [
        {
          "output_type": "execute_result",
          "data": {
            "text/plain": [
              "[10, 20, 30, 40, 'hello', [50, 60]]"
            ]
          },
          "metadata": {},
          "execution_count": 72
        }
      ]
    },
    {
      "cell_type": "code",
      "source": [
        "l = [1, 1, 1, 1, 2, 2, 3, 3, 3]\n",
        "l.remove(1) # 순회를 돌면서 가장 첫번째 만난 요소를 없앤다 제일 앞에 것이 없어짐 한가지 요소를 지울 때 사용\n",
        "l"
      ],
      "metadata": {
        "colab": {
          "base_uri": "https://localhost:8080/"
        },
        "id": "8cPnfQZ0pyiy",
        "outputId": "5740aa06-31b0-47a5-b614-22b9b732aaf5"
      },
      "execution_count": null,
      "outputs": [
        {
          "output_type": "execute_result",
          "data": {
            "text/plain": [
              "[1, 1, 1, 2, 2, 3, 3, 3]"
            ]
          },
          "metadata": {},
          "execution_count": 76
        }
      ]
    },
    {
      "cell_type": "code",
      "source": [
        "# filter\n",
        "# 여기서 catch 해야할 포인트는 모든 요소를 filtering 하고 싶을때에는\n",
        "# remove 가 아니라 filter 라는 것을 사용한다!\n",
        "\n",
        "def f(x):\n",
        "    return x != 1\n",
        "\n",
        "l= [1, 1, 1, 1, 2, 2, 3, 3, 3]\n",
        "list(filter(f, l))"
      ],
      "metadata": {
        "colab": {
          "base_uri": "https://localhost:8080/"
        },
        "id": "U63ZPcK-qMA-",
        "outputId": "fbc77964-7d53-4e0c-cd74-fdf498a7739b"
      },
      "execution_count": null,
      "outputs": [
        {
          "output_type": "execute_result",
          "data": {
            "text/plain": [
              "[2, 2, 3, 3, 3]"
            ]
          },
          "metadata": {},
          "execution_count": 87
        }
      ]
    },
    {
      "cell_type": "code",
      "source": [
        "l = [1, 2, 3, 4, 9, 5, 6, 7]\n",
        "l.reverse()\n",
        "l\n",
        "# 역정렬은 아닙니다.    # 원본이 변합니다.(입력된 원본은 대부분 보존하려 노력합니다.)\n",
        "\n",
        "# 역순은 단순히 순서를 뒤집는 것이고,\n",
        "# 역정렬은 정렬의 역순입니다."
      ],
      "metadata": {
        "colab": {
          "base_uri": "https://localhost:8080/"
        },
        "id": "lqNZArk2rF5Q",
        "outputId": "4668779d-ceb5-4144-e9f9-6d7d8828144d"
      },
      "execution_count": null,
      "outputs": [
        {
          "output_type": "execute_result",
          "data": {
            "text/plain": [
              "[7, 6, 5, 9, 4, 3, 2, 1]"
            ]
          },
          "metadata": {},
          "execution_count": 84
        }
      ]
    },
    {
      "cell_type": "code",
      "source": [
        "# reversed는 잊으셔도 됩니다. l.reverse만 기억하세요.\n",
        "l = [1, 2, 3, 4, 9, 5, 6, 7]\n",
        "list(reversed(l))   # reversed는 원본을 변경하지 않습니다."
      ],
      "metadata": {
        "colab": {
          "base_uri": "https://localhost:8080/"
        },
        "id": "rEwsCX5OroCc",
        "outputId": "0b69b387-17fe-46f1-888a-f34a47fbc88e"
      },
      "execution_count": null,
      "outputs": [
        {
          "output_type": "execute_result",
          "data": {
            "text/plain": [
              "[7, 6, 5, 9, 4, 3, 2, 1]"
            ]
          },
          "metadata": {},
          "execution_count": 91
        }
      ]
    },
    {
      "cell_type": "code",
      "source": [
        "l = [1, 2, 3, 4, 9, 5, 6, 7]\n",
        "l.sort()    # 원본을 바꾸는 정렬\n",
        "l.reverse() # 원본을 바꾸는 역정렬\n",
        "l"
      ],
      "metadata": {
        "colab": {
          "base_uri": "https://localhost:8080/"
        },
        "id": "leJ_R5xrssgg",
        "outputId": "e1c7b181-ba3e-4a40-a32e-9195b2defa82"
      },
      "execution_count": null,
      "outputs": [
        {
          "output_type": "execute_result",
          "data": {
            "text/plain": [
              "[9, 7, 6, 5, 4, 3, 2, 1]"
            ]
          },
          "metadata": {},
          "execution_count": 94
        }
      ]
    },
    {
      "cell_type": "code",
      "source": [
        "l = [1, 2, 3, 4, 9, 5, 6, 7]\n",
        "sorted(l)   # 원본을 변경하지 않습니다.\n",
        "\n",
        "# sort, sorted, reverse, reversed 알고리즘 문제에서도 1개 문제는 거의 나온다고 보시면 됩니다.\n",
        "# 옵션 값은 하지 않음.\n",
        "# 옵션 값을 하지 않은 이유 : 함수까지는 배워야 좀 더 고급 문법이 가능합니다."
      ],
      "metadata": {
        "colab": {
          "base_uri": "https://localhost:8080/"
        },
        "id": "zeC3dvwPtAzp",
        "outputId": "19a900fa-efd5-4c0e-b6bb-c38b6f07b5a1"
      },
      "execution_count": null,
      "outputs": [
        {
          "output_type": "execute_result",
          "data": {
            "text/plain": [
              "[1, 2, 3, 4, 5, 6, 7, 9]"
            ]
          },
          "metadata": {},
          "execution_count": 97
        }
      ]
    },
    {
      "cell_type": "code",
      "source": [
        "# 어떻게 사용되는지만 체크!\n",
        "# 국, 영, 수, 이름\n",
        "# 국어 점수가 가장 높은 순으로 정렬\n",
        "s = [[100, 87, 91, '이호준'], [56, 38, 89, '이준호'], [33, 86, 100, '홍길동']]\n",
        "\n",
        "def f(x):\n",
        "    return x[0]\n",
        "\n",
        "sorted(s, key=f)\n",
        "sorted(s, key=f, reverse=True)"
      ],
      "metadata": {
        "colab": {
          "base_uri": "https://localhost:8080/"
        },
        "id": "YFx_9H9LuXUz",
        "outputId": "81391095-aba8-446e-f8d4-813654873e02"
      },
      "execution_count": null,
      "outputs": [
        {
          "output_type": "execute_result",
          "data": {
            "text/plain": [
              "[[100, 87, 91, '이호준'], [56, 38, 89, '이준호'], [33, 86, 100, '홍길동']]"
            ]
          },
          "metadata": {},
          "execution_count": 108
        }
      ]
    },
    {
      "cell_type": "code",
      "source": [
        "# 어떻게 사용되는지만 체크!\n",
        "# 국, 영, 수, 이름\n",
        "# 평균 점수가 가장 높은 순으로 정렬\n",
        "s = [[100, 87, 91, '이호준'], [56, 38, 89, '이준호'], [33, 86, 100, '홍길동']]\n",
        "\n",
        "def f(x):\n",
        "    return x[0] + x[1] + x[2]\n",
        "\n",
        "sorted(s, key=f)\n",
        "sorted(s, key=f, reverse=True)"
      ],
      "metadata": {
        "colab": {
          "base_uri": "https://localhost:8080/"
        },
        "id": "V0SVJGhhvCZd",
        "outputId": "0eae0dfa-26af-4f58-a283-edd9e8b6e9b3"
      },
      "execution_count": null,
      "outputs": [
        {
          "output_type": "execute_result",
          "data": {
            "text/plain": [
              "[[100, 87, 91, '이호준'], [33, 86, 100, '홍길동'], [56, 38, 89, '이준호']]"
            ]
          },
          "metadata": {},
          "execution_count": 109
        }
      ]
    },
    {
      "cell_type": "code",
      "source": [
        "# str은 변경이 안됩니다.\n",
        "# s = 'hello world'\n",
        "# s[0] = 'y'\n",
        "s = 'hello world'\n",
        "s = s.replace('h', 'y')\n",
        "s = 'y' + s[1:]\n",
        "\n",
        "s = s.replace('h', 'y')\n",
        "# s = 'hello world'\n",
        "# s1 = s[1:]\n",
        "# s2 = 'j' + s1\n",
        "print(s)"
      ],
      "metadata": {
        "colab": {
          "base_uri": "https://localhost:8080/"
        },
        "id": "0chji9AdYPLG",
        "outputId": "6fd75b91-1c8a-4aec-b243-af585694e905"
      },
      "execution_count": null,
      "outputs": [
        {
          "output_type": "stream",
          "name": "stdout",
          "text": [
            "yello world\n"
          ]
        }
      ]
    },
    {
      "cell_type": "code",
      "source": [
        "# 속성 끝에 실수부, 허수부 가지고 있다\n",
        "# 결국 수는 같은 속성을 상속받는다\n",
        "\n",
        "a = 10\n",
        "b = 10.1\n",
        "c = 10 + 2j\n",
        "\n",
        "print(dir(a), dir(b), dir(c))"
      ],
      "metadata": {
        "colab": {
          "base_uri": "https://localhost:8080/"
        },
        "id": "Daq2Ul2gYYNk",
        "outputId": "50436673-2acb-482b-f08d-08e47e5d4033"
      },
      "execution_count": null,
      "outputs": [
        {
          "output_type": "stream",
          "name": "stdout",
          "text": [
            "['__abs__', '__add__', '__and__', '__bool__', '__ceil__', '__class__', '__delattr__', '__dir__', '__divmod__', '__doc__', '__eq__', '__float__', '__floor__', '__floordiv__', '__format__', '__ge__', '__getattribute__', '__getnewargs__', '__gt__', '__hash__', '__index__', '__init__', '__init_subclass__', '__int__', '__invert__', '__le__', '__lshift__', '__lt__', '__mod__', '__mul__', '__ne__', '__neg__', '__new__', '__or__', '__pos__', '__pow__', '__radd__', '__rand__', '__rdivmod__', '__reduce__', '__reduce_ex__', '__repr__', '__rfloordiv__', '__rlshift__', '__rmod__', '__rmul__', '__ror__', '__round__', '__rpow__', '__rrshift__', '__rshift__', '__rsub__', '__rtruediv__', '__rxor__', '__setattr__', '__sizeof__', '__str__', '__sub__', '__subclasshook__', '__truediv__', '__trunc__', '__xor__', 'as_integer_ratio', 'bit_count', 'bit_length', 'conjugate', 'denominator', 'from_bytes', 'imag', 'numerator', 'real', 'to_bytes'] ['__abs__', '__add__', '__bool__', '__ceil__', '__class__', '__delattr__', '__dir__', '__divmod__', '__doc__', '__eq__', '__float__', '__floor__', '__floordiv__', '__format__', '__ge__', '__getattribute__', '__getformat__', '__getnewargs__', '__gt__', '__hash__', '__init__', '__init_subclass__', '__int__', '__le__', '__lt__', '__mod__', '__mul__', '__ne__', '__neg__', '__new__', '__pos__', '__pow__', '__radd__', '__rdivmod__', '__reduce__', '__reduce_ex__', '__repr__', '__rfloordiv__', '__rmod__', '__rmul__', '__round__', '__rpow__', '__rsub__', '__rtruediv__', '__setattr__', '__setformat__', '__sizeof__', '__str__', '__sub__', '__subclasshook__', '__truediv__', '__trunc__', 'as_integer_ratio', 'conjugate', 'fromhex', 'hex', 'imag', 'is_integer', 'real'] ['__abs__', '__add__', '__bool__', '__class__', '__delattr__', '__dir__', '__doc__', '__eq__', '__format__', '__ge__', '__getattribute__', '__getnewargs__', '__gt__', '__hash__', '__init__', '__init_subclass__', '__le__', '__lt__', '__mul__', '__ne__', '__neg__', '__new__', '__pos__', '__pow__', '__radd__', '__reduce__', '__reduce_ex__', '__repr__', '__rmul__', '__rpow__', '__rsub__', '__rtruediv__', '__setattr__', '__sizeof__', '__str__', '__sub__', '__subclasshook__', '__truediv__', 'conjugate', 'imag', 'real']\n"
          ]
        }
      ]
    },
    {
      "cell_type": "code",
      "source": [
        "# 나이와 성별 정보가 담긴 리스트 생성\n",
        "people = [\n",
        "    ['John', 'male', 28],\n",
        "    ['Jane', 'female', 32],\n",
        "    ['Bob', 'male', 24],\n",
        "    ['Alice', 'female', 29]\n",
        "]\n",
        "\n",
        "# 30세 이상의 여성을 찾는 함수 정의\n",
        "def is_woman_over_30(person):\n",
        "    name, gender, age = person\n",
        "    return gender == 'female' and age >= 30\n",
        "\n",
        "# 조건에 맞는 데이터 필터링\n",
        "women_over_30 = []\n",
        "for person in people:\n",
        "    if is_woman_over_30(person):\n",
        "        women_over_30.append(person)\n",
        "\n",
        "# 결과 출력\n",
        "print(\"30세 이상의 여성:\", women_over_30)\n"
      ],
      "metadata": {
        "colab": {
          "base_uri": "https://localhost:8080/"
        },
        "id": "eYNHJqQWd2JM",
        "outputId": "75370ccc-103b-4254-9c43-6bdafe3c02f8"
      },
      "execution_count": null,
      "outputs": [
        {
          "output_type": "stream",
          "name": "stdout",
          "text": [
            "30세 이상의 여성: [['Jane', 'female', 32]]\n"
          ]
        }
      ]
    },
    {
      "cell_type": "code",
      "source": [
        "# 중복된 요소가 있는 리스트\n",
        "numbers = [6, 1, 3, 2, 5, 2, 1, 4, 5, 6, 2, 9, 7, 8, 9]\n",
        "\n",
        "# 중복 제거 및 정렬\n",
        "unique_sorted_numbers = sorted(set(numbers))\n",
        "\n",
        "print(set(numbers))\n",
        "\n",
        "# 결과 출력\n",
        "print(\"중복 제거 후 정렬된 리스트:\", unique_sorted_numbers)"
      ],
      "metadata": {
        "colab": {
          "base_uri": "https://localhost:8080/"
        },
        "id": "fqu_yNTwmvve",
        "outputId": "25584172-6ee2-4bdd-8e55-5d861ebad8dc"
      },
      "execution_count": null,
      "outputs": [
        {
          "output_type": "stream",
          "name": "stdout",
          "text": [
            "{1, 2, 3, 4, 5, 6, 7, 8, 9}\n",
            "중복 제거 후 정렬된 리스트: [1, 2, 3, 4, 5, 6, 7, 8, 9]\n"
          ]
        }
      ]
    },
    {
      "cell_type": "code",
      "source": [],
      "metadata": {
        "id": "1ONqxnRYsfpH"
      },
      "execution_count": null,
      "outputs": []
    }
  ]
}