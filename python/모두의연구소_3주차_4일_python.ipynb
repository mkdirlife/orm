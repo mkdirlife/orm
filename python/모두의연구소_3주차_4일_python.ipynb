{
  "nbformat": 4,
  "nbformat_minor": 0,
  "metadata": {
    "colab": {
      "provenance": [],
      "toc_visible": true,
      "authorship_tag": "ABX9TyM9U8eNpoW6dFN/MVaChVFj",
      "include_colab_link": true
    },
    "kernelspec": {
      "name": "python3",
      "display_name": "Python 3"
    },
    "language_info": {
      "name": "python"
    }
  },
  "cells": [
    {
      "cell_type": "markdown",
      "metadata": {
        "id": "view-in-github",
        "colab_type": "text"
      },
      "source": [
        "<a href=\"https://colab.research.google.com/github/mkdirlife/orm/blob/main/%EB%AA%A8%EB%91%90%EC%9D%98%EC%97%B0%EA%B5%AC%EC%86%8C_3%EC%A3%BC%EC%B0%A8_4%EC%9D%BC_python.ipynb\" target=\"_parent\"><img src=\"https://colab.research.google.com/assets/colab-badge.svg\" alt=\"Open In Colab\"/></a>"
      ]
    },
    {
      "cell_type": "markdown",
      "source": [
        "# 함수의 이름은 변수다"
      ],
      "metadata": {
        "id": "Lkb8uT84CjFd"
      }
    },
    {
      "cell_type": "code",
      "execution_count": null,
      "metadata": {
        "colab": {
          "base_uri": "https://localhost:8080/"
        },
        "id": "0JieWzLC4gp2",
        "outputId": "bcbe4fb8-2b9c-470d-b2ca-35bc49c67c12"
      },
      "outputs": [
        {
          "output_type": "stream",
          "name": "stdout",
          "text": [
            "<class 'function'>\n"
          ]
        }
      ],
      "source": [
        "\n",
        "def hello():        # function의 인스턴스\n",
        "    pass\n",
        "\n",
        "print(type(hello))  # 함수도 class 입니다.\n"
      ]
    },
    {
      "cell_type": "code",
      "source": [
        "a = 10\n",
        "# a는 무엇이죠?\n",
        "# a는 int에 인스턴스"
      ],
      "metadata": {
        "id": "IMHIiAPH42y5"
      },
      "execution_count": null,
      "outputs": []
    },
    {
      "cell_type": "code",
      "source": [
        "print('hello world')    # built-in function"
      ],
      "metadata": {
        "colab": {
          "base_uri": "https://localhost:8080/"
        },
        "id": "6qskhTdK6JA-",
        "outputId": "770e0a1d-f654-477c-872e-8ae51c08d921"
      },
      "execution_count": null,
      "outputs": [
        {
          "output_type": "stream",
          "name": "stdout",
          "text": [
            "hello world\n"
          ]
        }
      ]
    },
    {
      "cell_type": "code",
      "source": [
        "l = [a, a, a]\n",
        "l[2]"
      ],
      "metadata": {
        "colab": {
          "base_uri": "https://localhost:8080/"
        },
        "id": "Jv5V6Pjk6NHl",
        "outputId": "280a8179-802f-4ba1-b148-8e50eea12c4a"
      },
      "execution_count": null,
      "outputs": [
        {
          "output_type": "execute_result",
          "data": {
            "text/plain": [
              "10"
            ]
          },
          "metadata": {},
          "execution_count": 7
        }
      ]
    },
    {
      "cell_type": "code",
      "source": [
        "l = [print, print, print]\n",
        "l[2]('hello world')"
      ],
      "metadata": {
        "colab": {
          "base_uri": "https://localhost:8080/"
        },
        "id": "iHlVYzA56Tj1",
        "outputId": "1209b81f-9b7a-4c2a-edc9-002cec38fc70"
      },
      "execution_count": null,
      "outputs": [
        {
          "output_type": "stream",
          "name": "stdout",
          "text": [
            "hello world\n"
          ]
        }
      ]
    },
    {
      "cell_type": "code",
      "source": [
        "hojun = print\n",
        "hojun('hello world')"
      ],
      "metadata": {
        "colab": {
          "base_uri": "https://localhost:8080/"
        },
        "id": "B9sdQBbJ6aAk",
        "outputId": "eee23951-4ef4-4a8a-970e-ac336966bb16"
      },
      "execution_count": null,
      "outputs": [
        {
          "output_type": "stream",
          "name": "stdout",
          "text": [
            "hello world\n"
          ]
        }
      ]
    },
    {
      "cell_type": "code",
      "source": [
        "id(hojun), id(print)"
      ],
      "metadata": {
        "colab": {
          "base_uri": "https://localhost:8080/"
        },
        "id": "nzZ1pwQS6khw",
        "outputId": "7d571df8-fea2-4769-af5b-4cc1fd53a739"
      },
      "execution_count": null,
      "outputs": [
        {
          "output_type": "execute_result",
          "data": {
            "text/plain": [
              "(133656584541488, 133656584541488)"
            ]
          },
          "metadata": {},
          "execution_count": 11
        }
      ]
    },
    {
      "cell_type": "code",
      "source": [
        "print = 10"
      ],
      "metadata": {
        "id": "YBpok5GB68Vc"
      },
      "execution_count": null,
      "outputs": []
    },
    {
      "cell_type": "code",
      "source": [
        "print"
      ],
      "metadata": {
        "colab": {
          "base_uri": "https://localhost:8080/"
        },
        "id": "ZFT855zk6_nf",
        "outputId": "0db6f89e-bcb0-4f0a-af26-3fcc4e8676cb"
      },
      "execution_count": null,
      "outputs": [
        {
          "output_type": "execute_result",
          "data": {
            "text/plain": [
              "10"
            ]
          },
          "metadata": {},
          "execution_count": 13
        }
      ]
    },
    {
      "cell_type": "code",
      "source": [
        "print('hello world')"
      ],
      "metadata": {
        "colab": {
          "base_uri": "https://localhost:8080/",
          "height": 184
        },
        "id": "pZxYquTo7DEK",
        "outputId": "ef01b401-63ab-4e3f-e01a-8dd6209f212b"
      },
      "execution_count": null,
      "outputs": [
        {
          "output_type": "error",
          "ename": "TypeError",
          "evalue": "'int' object is not callable",
          "traceback": [
            "\u001b[0;31m---------------------------------------------------------------------------\u001b[0m",
            "\u001b[0;31mTypeError\u001b[0m                                 Traceback (most recent call last)",
            "\u001b[0;32m<ipython-input-14-66eb98f8e52a>\u001b[0m in \u001b[0;36m<cell line: 1>\u001b[0;34m()\u001b[0m\n\u001b[0;32m----> 1\u001b[0;31m \u001b[0mprint\u001b[0m\u001b[0;34m(\u001b[0m\u001b[0;34m'hello world'\u001b[0m\u001b[0;34m)\u001b[0m\u001b[0;34m\u001b[0m\u001b[0;34m\u001b[0m\u001b[0m\n\u001b[0m",
            "\u001b[0;31mTypeError\u001b[0m: 'int' object is not callable"
          ]
        }
      ]
    },
    {
      "cell_type": "code",
      "source": [
        "hojun('hello')"
      ],
      "metadata": {
        "colab": {
          "base_uri": "https://localhost:8080/"
        },
        "id": "bmVxy0Xx7Fv0",
        "outputId": "b8022d18-7e76-41ed-9ce6-cdea3b206f50"
      },
      "execution_count": null,
      "outputs": [
        {
          "output_type": "stream",
          "name": "stdout",
          "text": [
            "hello\n"
          ]
        }
      ]
    },
    {
      "cell_type": "code",
      "source": [
        "print('hello world')"
      ],
      "metadata": {
        "colab": {
          "base_uri": "https://localhost:8080/"
        },
        "id": "VuiHuzru7IDi",
        "outputId": "a7cc1f5d-64c2-479c-e6a8-1162fe40ef44"
      },
      "execution_count": null,
      "outputs": [
        {
          "output_type": "stream",
          "name": "stdout",
          "text": [
            "hello world\n"
          ]
        }
      ]
    },
    {
      "cell_type": "markdown",
      "source": [
        "# lambda의 응용"
      ],
      "metadata": {
        "id": "Yl4ktNffCnyV"
      }
    },
    {
      "cell_type": "code",
      "source": [
        "홀수 = lambda x : x % 2\n",
        "홀수(3)"
      ],
      "metadata": {
        "colab": {
          "base_uri": "https://localhost:8080/"
        },
        "id": "g0RXVgEqJz1Q",
        "outputId": "ece2fa50-2bb4-4234-a711-058d650eddc0"
      },
      "execution_count": null,
      "outputs": [
        {
          "output_type": "execute_result",
          "data": {
            "text/plain": [
              "1"
            ]
          },
          "metadata": {},
          "execution_count": 40
        }
      ]
    },
    {
      "cell_type": "code",
      "source": [
        "add = lambda x. y"
      ],
      "metadata": {
        "id": "rFbis5A_KCho"
      },
      "execution_count": null,
      "outputs": []
    },
    {
      "cell_type": "markdown",
      "source": [
        "## Top3 - 1. map에서 사용!"
      ],
      "metadata": {
        "id": "_1D39nc4J0TX"
      }
    },
    {
      "cell_type": "code",
      "source": [
        "add = lambda x, y: x + y"
      ],
      "metadata": {
        "id": "6eI7-KJ67XlR"
      },
      "execution_count": null,
      "outputs": []
    },
    {
      "cell_type": "code",
      "source": [
        "# 코드가 이해가 안된다 => 이해하려고 노력하는 것 보다는\n",
        "# 예제를 30개 정도 만들어 보시는 것을 권합니다\n",
        "# Django 어려워요? 30 개 만들어 보세요\n",
        "# lambda 어려우면 30개, 그래도 어려우면 50개\n",
        "# lambda x: x **2\n",
        "# lambda x, y : x + y\n",
        "\n",
        "\n"
      ],
      "metadata": {
        "id": "ms1B8kP57kB7"
      },
      "execution_count": null,
      "outputs": []
    },
    {
      "cell_type": "code",
      "source": [
        "# lambda + 3항 연산자 많이 사용합니다.\n",
        "x = 10\n",
        "y = True if x % 2 == 0 else False\n",
        "\n"
      ],
      "metadata": {
        "id": "XsPnROgE8ipw"
      },
      "execution_count": null,
      "outputs": []
    },
    {
      "cell_type": "code",
      "source": [
        "# 재사용 할 것이면 이렇게 함수로\n",
        "def 제곱(x):\n",
        "    return x **2\n",
        "\n"
      ],
      "metadata": {
        "colab": {
          "base_uri": "https://localhost:8080/"
        },
        "id": "MfyVzHtJ9u-V",
        "outputId": "b7a7f9c3-eb1f-4e92-d07d-8da560a0baed"
      },
      "execution_count": null,
      "outputs": [
        {
          "output_type": "execute_result",
          "data": {
            "text/plain": [
              "[1, 4, 9, 16]"
            ]
          },
          "metadata": {},
          "execution_count": 9
        }
      ]
    },
    {
      "cell_type": "code",
      "source": [
        "# 재사용 하지 않을 것이면 이렇게 lambda로!\n",
        "# Lambda가 실무에서 좀 더 많이 사용됩니다.\n",
        "# 수식이 복잡해지면 재사용과 별개로 lambda로 했을 경우 가독성이 떨어지는 경우도 발생합니다.\n",
        "# 그럴때는 함수로 빼기도 합니다.\n",
        "\n",
        "list(map(lambda x: x**2, [1, 2, 3, 4]))"
      ],
      "metadata": {
        "colab": {
          "base_uri": "https://localhost:8080/"
        },
        "id": "QaQdE93y907t",
        "outputId": "8f50b014-daa3-4aac-fc89-9d5941440bd2"
      },
      "execution_count": null,
      "outputs": [
        {
          "output_type": "execute_result",
          "data": {
            "text/plain": [
              "[1, 4, 9, 16]"
            ]
          },
          "metadata": {},
          "execution_count": 12
        }
      ]
    },
    {
      "cell_type": "code",
      "source": [
        "list(map(lambda x: True if x % 2 == 0 else False, [1, 2, 3, 4]))    # 마스킹 , 마스킹된 값이 필터링이 된 거라고 보면 됩니다."
      ],
      "metadata": {
        "colab": {
          "base_uri": "https://localhost:8080/"
        },
        "id": "ewrbCGba-BMa",
        "outputId": "b6c2eb38-5ea9-4825-fc59-77e5887af695"
      },
      "execution_count": null,
      "outputs": [
        {
          "output_type": "execute_result",
          "data": {
            "text/plain": [
              "[False, True, False, True]"
            ]
          },
          "metadata": {},
          "execution_count": 15
        }
      ]
    },
    {
      "cell_type": "code",
      "source": [
        "# 알고리즘 문제에서\n",
        "# 얼마나 효율적인지를 봐주세요\n",
        "# [True, False, False, False, True]\n",
        "# 에라토스테네스의 체(얼마나 마스킹이 유용한지 알 수 있음) => 소수\n",
        "# 2가 소수가 되면 2의 배수들은 소수가 아닙니다. => 2의 배수는 모두 False로 만듭니다.\n",
        "[False, False,  True,   True,   False,  True,   False,  True,   False,  True]\n",
        "[0,     1,      2,      3,      4,      5,      6,      7,      8,      9]\n",
        "\n",
        "for i in range(2, 101):\n",
        "    if 30 % i == 0:\n",
        "        print('소수아님!')\n",
        "        break\n",
        "else:   # else 대신 then으로 하자는 논의가 활발했으나 else 가 이김.\n",
        "    print('소수임')\n"
      ],
      "metadata": {
        "colab": {
          "base_uri": "https://localhost:8080/"
        },
        "id": "bDcQBrN5-ChG",
        "outputId": "e367e648-08e2-4eec-9ab0-2f8c740229e0"
      },
      "execution_count": null,
      "outputs": [
        {
          "output_type": "stream",
          "name": "stdout",
          "text": [
            "소수아님!\n"
          ]
        }
      ]
    },
    {
      "cell_type": "markdown",
      "source": [
        "## Top3 - 2 map에서 사용"
      ],
      "metadata": {
        "id": "ZZ5oEtOiIe8b"
      }
    },
    {
      "cell_type": "code",
      "source": [
        "list(map(lambda x: True if x % 2 == 0 else False, [1, 2, 3, 4]))"
      ],
      "metadata": {
        "id": "ec6yLNC7EUXo",
        "colab": {
          "base_uri": "https://localhost:8080/"
        },
        "outputId": "c59d8f3d-4827-413e-af4a-9c1939eca30f"
      },
      "execution_count": 183,
      "outputs": [
        {
          "output_type": "execute_result",
          "data": {
            "text/plain": [
              "[False, True, False, True]"
            ]
          },
          "metadata": {},
          "execution_count": 183
        }
      ]
    },
    {
      "cell_type": "code",
      "source": [
        "# filter는 True 인것만 출력\n",
        "\n",
        "# list(filter(lambda x: None, range(100)))\n",
        "\n",
        "list(filter(lambda x: x % 2 == 0, range(100)))\n",
        "\n"
      ],
      "metadata": {
        "id": "Ae2rITtYFf0i",
        "colab": {
          "base_uri": "https://localhost:8080/"
        },
        "outputId": "d5d4dfa7-944c-4aee-c4a9-e4c4ca7f77d9"
      },
      "execution_count": 182,
      "outputs": [
        {
          "output_type": "execute_result",
          "data": {
            "text/plain": [
              "[0,\n",
              " 2,\n",
              " 4,\n",
              " 6,\n",
              " 8,\n",
              " 10,\n",
              " 12,\n",
              " 14,\n",
              " 16,\n",
              " 18,\n",
              " 20,\n",
              " 22,\n",
              " 24,\n",
              " 26,\n",
              " 28,\n",
              " 30,\n",
              " 32,\n",
              " 34,\n",
              " 36,\n",
              " 38,\n",
              " 40,\n",
              " 42,\n",
              " 44,\n",
              " 46,\n",
              " 48,\n",
              " 50,\n",
              " 52,\n",
              " 54,\n",
              " 56,\n",
              " 58,\n",
              " 60,\n",
              " 62,\n",
              " 64,\n",
              " 66,\n",
              " 68,\n",
              " 70,\n",
              " 72,\n",
              " 74,\n",
              " 76,\n",
              " 78,\n",
              " 80,\n",
              " 82,\n",
              " 84,\n",
              " 86,\n",
              " 88,\n",
              " 90,\n",
              " 92,\n",
              " 94,\n",
              " 96,\n",
              " 98]"
            ]
          },
          "metadata": {},
          "execution_count": 182
        }
      ]
    },
    {
      "cell_type": "code",
      "source": [
        "list(filter(lambda x: x % 3 == 0, range(100)))\n"
      ],
      "metadata": {
        "id": "RSP_lLXNFpIa"
      },
      "execution_count": null,
      "outputs": []
    },
    {
      "cell_type": "code",
      "source": [
        "list(filter(lambda x: True if x % 3 == 0 or x % 5 == 0 else False, range(100)))"
      ],
      "metadata": {
        "id": "u415ccJoGc-P"
      },
      "execution_count": null,
      "outputs": []
    },
    {
      "cell_type": "code",
      "source": [
        "# list(filter(lambda x: x % 2 == 0, range(100)))\n",
        "list(filter(lambda x: x % 2, range(100)))   # 홀수를!? 나눠지는 값이 0 이 되니 False 로 평가\n",
        "\n",
        "# [0, 1, 2, 3, 4, 5, 6, 7, 8, 9]\n",
        "# x == 0일때 => lambda x: x % 2 => 0 => False로 평가!\n",
        "# x == 1일때 => lambda x: x % 2 => 1 => True로 평가!\n",
        "# x == 2일때 => lambda x: x % 2 => 0\n",
        "# x == 3일때 => lambda x: x % 2 => 1\n",
        "# x == 4일때 => lambda x: x % 2 => 0\n",
        "# x == 5일때 => lambda x: x % 2 => 1\n",
        "# x == 6일때 => lambda x: x % 2 => 0\n",
        "# x == 7일때 => lambda x: x % 2 => 1"
      ],
      "metadata": {
        "id": "fx9DJjYWGe6F"
      },
      "execution_count": null,
      "outputs": []
    },
    {
      "cell_type": "markdown",
      "source": [
        "## Top3 - 3. sorted에서 사용"
      ],
      "metadata": {
        "id": "y2tFf0jDKffL"
      }
    },
    {
      "cell_type": "code",
      "source": [
        "test = lambda i: i% 2 == 0\n",
        "[test(i) for i in range(10)]"
      ],
      "metadata": {
        "colab": {
          "base_uri": "https://localhost:8080/"
        },
        "id": "aKqL_bqDKhIm",
        "outputId": "44e88460-7866-481b-9d9f-739860ec08ad"
      },
      "execution_count": null,
      "outputs": [
        {
          "output_type": "execute_result",
          "data": {
            "text/plain": [
              "[True, False, True, False, True, False, True, False, True, False]"
            ]
          },
          "metadata": {},
          "execution_count": 42
        }
      ]
    },
    {
      "cell_type": "code",
      "source": [
        "\n",
        "l = [10, 20, 5, 4, 22, 32, 5, 9, 11]\n",
        "l.sort()    # sort를 자주 사용하진 않습니다. 원본을 변경시키기 때문입니다.\n",
        "l"
      ],
      "metadata": {
        "id": "efXqF4MdHPSt",
        "colab": {
          "base_uri": "https://localhost:8080/"
        },
        "outputId": "f78c1840-0304-4065-b783-b90e62f50d20"
      },
      "execution_count": null,
      "outputs": [
        {
          "output_type": "execute_result",
          "data": {
            "text/plain": [
              "[4, 5, 5, 9, 10, 11, 20, 22, 32]"
            ]
          },
          "metadata": {},
          "execution_count": 36
        }
      ]
    },
    {
      "cell_type": "code",
      "source": [
        "l = [10, 20, 5, 4, 22, 32, 5, 9, 11]\n",
        "sorted(l)   # sorted의 return 값이 정렬된 값입니다.\n",
        "l           # l은 그대로입니다. 그래서 많이 사용합니다."
      ],
      "metadata": {
        "colab": {
          "base_uri": "https://localhost:8080/"
        },
        "id": "ZLSVIvvRIz1A",
        "outputId": "3ce01a86-16e3-4978-c830-61b35d6337ba"
      },
      "execution_count": null,
      "outputs": [
        {
          "output_type": "execute_result",
          "data": {
            "text/plain": [
              "[10, 20, 5, 4, 22, 32, 5, 9, 11]"
            ]
          },
          "metadata": {},
          "execution_count": 39
        }
      ]
    },
    {
      "cell_type": "code",
      "source": [
        "sorted()    # key, reverse 옵션을 정말 정말 많이 사용합니다!\n",
        "# 알고리즘 문제에서 단골이고, sorted 문제는 1문제 거의 출제된다고 보면 됩니다.\n",
        "# 최대값, 최소값\n",
        "# https://codingdojang.com/scode/408?answer_mode=hide 이것도 최솟값!\n",
        "# https://school.programmers.co.kr/learn/courses/30/lessons/120835 이것도 정렬 문제입니다!"
      ],
      "metadata": {
        "id": "S9Fhb3isI5wj"
      },
      "execution_count": null,
      "outputs": []
    },
    {
      "cell_type": "code",
      "source": [
        "# 아래와 같은 형식으로 반별 점수가 주어진다고 하겠습니다.\n",
        "반별점수 = [\n",
        "    ['이름', '국어', '영어', '수학'],\n",
        "    ['이름', '국어', '영어', '수학'],\n",
        "    ['이름', '국어', '영어', '수학'],\n",
        "    ['이름', '국어', '영어', '수학'],\n",
        "]"
      ],
      "metadata": {
        "id": "ssif6T6WLBEV"
      },
      "execution_count": null,
      "outputs": []
    },
    {
      "cell_type": "code",
      "source": [
        "반별점수 = [\n",
        "    ['홍길동', 30, 55, 22],\n",
        "    ['홍춘향', 55, 60, 73],\n",
        "    ['이철수', 32, 65, 68],\n",
        "    ['이호준', 92, 11, 95],\n",
        "]"
      ],
      "metadata": {
        "id": "MT9PteNhLd6_"
      },
      "execution_count": null,
      "outputs": []
    },
    {
      "cell_type": "code",
      "source": [
        "sorted(반별점수)    # 값이나 0번째 값 기준으로 정렬합니다."
      ],
      "metadata": {
        "colab": {
          "base_uri": "https://localhost:8080/"
        },
        "id": "V4kUHd9VL-Nr",
        "outputId": "7a8ef2a7-7866-478e-c0c2-0b30f7bd57f4"
      },
      "execution_count": null,
      "outputs": [
        {
          "output_type": "execute_result",
          "data": {
            "text/plain": [
              "[['이철수', 32, 65, 68],\n",
              " ['이호준', 92, 11, 95],\n",
              " ['홍길동', 30, 55, 22],\n",
              " ['홍춘향', 55, 60, 73]]"
            ]
          },
          "metadata": {},
          "execution_count": 44
        }
      ]
    },
    {
      "cell_type": "code",
      "source": [
        "def 함수(x):\n",
        "    return x[3]\n",
        "\n",
        "sorted(반별점수, key=함수)  # 가장 중요한 것은 이 key함수 return  값대로 정렬한다는 것입니다.\n",
        "\n",
        "sorted(반별점수, key=lambda x : x[2])"
      ],
      "metadata": {
        "colab": {
          "base_uri": "https://localhost:8080/"
        },
        "id": "hw2Z5fPhMA2b",
        "outputId": "10fc1129-46d8-4c61-8707-0798e5e47b93"
      },
      "execution_count": null,
      "outputs": [
        {
          "output_type": "execute_result",
          "data": {
            "text/plain": [
              "[['이호준', 92, 11, 95],\n",
              " ['홍길동', 30, 55, 22],\n",
              " ['홍춘향', 55, 60, 73],\n",
              " ['이철수', 32, 65, 68]]"
            ]
          },
          "metadata": {},
          "execution_count": 47
        }
      ]
    },
    {
      "cell_type": "code",
      "source": [
        "# ['홍길동', 30, 55, 22], => 68,\n",
        "# ['홍춘향', 55, 60, 73], => 95,\n",
        "# ['이철수', 32, 65, 68], => 22, # 맨앞에 보내야 겠네?\n",
        "# ['이호준', 92, 11, 95], => 95"
      ],
      "metadata": {
        "id": "l-WhIUYVM5CU"
      },
      "execution_count": null,
      "outputs": []
    },
    {
      "cell_type": "code",
      "source": [
        "# 문제: 국, 영, 수 평균\n",
        "sorted(반별점수, key=lambda x : (x[1] + x[2] + x[3]))   # 나눌 필요 없음\n",
        "sorted(반별점수, key=lambda x : (x[1] + x[2] + x[3]), reverse=True)   # 내림차순으로 정렬"
      ],
      "metadata": {
        "colab": {
          "base_uri": "https://localhost:8080/"
        },
        "id": "hJjHcpMAMloe",
        "outputId": "5fb6cd14-4b7a-4568-fc25-751c9232ea00"
      },
      "execution_count": null,
      "outputs": [
        {
          "output_type": "execute_result",
          "data": {
            "text/plain": [
              "[['이호준', 92, 11, 95],\n",
              " ['홍춘향', 55, 60, 73],\n",
              " ['이철수', 32, 65, 68],\n",
              " ['홍길동', 30, 55, 22]]"
            ]
          },
          "metadata": {},
          "execution_count": 49
        }
      ]
    },
    {
      "cell_type": "code",
      "source": [
        "\n",
        "# 문제가 살짝 어려워집니다.\n",
        "# 동점자인 경우 수학점수를 우선순위로 두겠습니다!!!?\n",
        "반별점수 = [\n",
        "    ['홍길동', 50, 50, 50],\n",
        "    ['이철수', 45, 50, 55],\n",
        "    ['홍춘향', 60, 35, 75],\n",
        "    ['이호준', 92, 11, 95]\n",
        "]\n",
        "\n",
        "sorted(반별점수, key=lambda x: x[1] + x[2] + x[3], reverse=True) # 철수가 수학 점수가 높은데 뒤에 있네요?\n",
        "# 제 의도는 수학 점수가 높으니 앞에 두겠다는 얘기입니다.\n",
        "\n",
        "# 1\n",
        "# sorted(반별점수, key=lambda x: x[1] + x[2] + x[3], reverse=True)\n",
        "# 반별점수 = [\n",
        "#     ['홍길동', 50, 50, 50] => 50,\n",
        "#     ['이철수', 45, 50, 55] => 50,\n",
        "#     ['홍춘향', 60, 35, 75] => ??,\n",
        "#     ['이호준', 92, 11, 95] => ??\n",
        "# ]\n",
        "\n",
        "# 2\n",
        "# sorted(반별점수, key=lambda x: (x[1] + x[2] + x[3], x[3]), reverse=True)\n",
        "# 반별점수 = [\n",
        "#     ['홍길동', 50, 50, 50] => (50, 50),\n",
        "#     ['이철수', 45, 50, 55] => (50, 55),\n",
        "#     ['홍춘향', 60, 35, 75] => ??,\n",
        "#     ['이호준', 92, 11, 95] => ??\n",
        "# ]\n",
        "\n",
        "sorted(반별점수, key=lambda x: (x[1] + x[2] + x[3], x[3]), reverse=True) # 철수랑 길동이 바뀌었습니다!\n",
        "\n",
        "# 질의응답\n",
        "# 평균도 같고 수학 점수도 같은 경우 이름 가나다순으로 정렬\n",
        "sorted(반별점수, key=lambda x: (x[1] + x[2] + x[3], x[3], x[0]), reverse=True)\n",
        "\n"
      ],
      "metadata": {
        "colab": {
          "base_uri": "https://localhost:8080/"
        },
        "id": "GTzlTk_5RIgN",
        "outputId": "5101baa2-8e44-4e17-a12d-022aec09eb65"
      },
      "execution_count": 181,
      "outputs": [
        {
          "output_type": "execute_result",
          "data": {
            "text/plain": [
              "[['이호준', 92, 11, 95],\n",
              " ['홍춘향', 60, 35, 75],\n",
              " ['이철수', 45, 50, 55],\n",
              " ['홍길동', 50, 50, 50]]"
            ]
          },
          "metadata": {},
          "execution_count": 181
        }
      ]
    },
    {
      "cell_type": "code",
      "source": [
        "우편번호 = [\n",
        "    {\n",
        "        '주소': '경기도 용인시',\n",
        "        '우편번호': 321\n",
        "    },\n",
        "    {\n",
        "        '주소': '경기도 수원시',\n",
        "        '우편번호': 355\n",
        "    },\n",
        "    {\n",
        "        '주소': '제주특별자치도 제주시',\n",
        "        '우편번호': 333\n",
        "    }\n",
        "]\n",
        "\n",
        "# sorted(우편번호)    # error, 비교를 할 수 없다!?\n",
        "sorted(우편번호, key=lambda x: x['우편번호'])"
      ],
      "metadata": {
        "colab": {
          "base_uri": "https://localhost:8080/"
        },
        "id": "Ql1AmEVYS448",
        "outputId": "f71030ce-4e75-4569-b934-99b046d11977"
      },
      "execution_count": null,
      "outputs": [
        {
          "output_type": "execute_result",
          "data": {
            "text/plain": [
              "[{'주소': '경기도 용인시', '우편번호': 321},\n",
              " {'주소': '제주특별자치도 제주시', '우편번호': 333},\n",
              " {'주소': '경기도 수원시', '우편번호': 355}]"
            ]
          },
          "metadata": {},
          "execution_count": 58
        }
      ]
    },
    {
      "cell_type": "code",
      "source": [
        "# 다음 입사문제\n",
        "# 직선에 있는 점의 좌표입니다.\n",
        "# 점과 점 사이가 가장 짧은 점의 쌍을 출력하세요.\n",
        "\n",
        "# 입력값 : s = [1, 3, 4, 8, 13, 17, 20]\n",
        "# 출력값 : (3, 4)\n",
        "\n",
        "s = [1, 3, 4, 8, 13, 17, 20]\n",
        "s[1:]\n"
      ],
      "metadata": {
        "colab": {
          "base_uri": "https://localhost:8080/"
        },
        "id": "GNNOfGM0UVR-",
        "outputId": "55b4f3bc-63d9-43dc-b5dd-94641f67ef38"
      },
      "execution_count": null,
      "outputs": [
        {
          "output_type": "execute_result",
          "data": {
            "text/plain": [
              "<zip at 0x7e9b199b39c0>"
            ]
          },
          "metadata": {},
          "execution_count": 61
        }
      ]
    },
    {
      "cell_type": "code",
      "source": [
        "x = list(zip(s, s[1:]))\n",
        "print(x)"
      ],
      "metadata": {
        "colab": {
          "base_uri": "https://localhost:8080/"
        },
        "id": "0Vev09GWV1Ff",
        "outputId": "0f970831-0efb-4d16-c2ac-cbc44a50bf9a"
      },
      "execution_count": null,
      "outputs": [
        {
          "output_type": "stream",
          "name": "stdout",
          "text": [
            "[(1, 3), (3, 4), (4, 8), (8, 13), (13, 17), (17, 20)]\n"
          ]
        }
      ]
    },
    {
      "cell_type": "code",
      "source": [
        "sorted(x, key=lambda x: x[1]- x[0])"
      ],
      "metadata": {
        "colab": {
          "base_uri": "https://localhost:8080/"
        },
        "id": "3c5Q18-_X4CR",
        "outputId": "bf073200-90ea-4d52-ed05-cb0f2ee1afde"
      },
      "execution_count": null,
      "outputs": [
        {
          "output_type": "execute_result",
          "data": {
            "text/plain": [
              "[(3, 4), (1, 3), (17, 20), (4, 8), (13, 17), (8, 13)]"
            ]
          },
          "metadata": {},
          "execution_count": 79
        }
      ]
    },
    {
      "cell_type": "code",
      "source": [
        "# 강사님 자주 사용하는 코드\n",
        "# 제너레이터를 만듭니다.\n",
        "def gen():\n",
        "    i = 1\n",
        "    while True:\n",
        "        yield i\n",
        "        i += 1\n",
        "\n",
        "list(zip(gen(), 'hello', 'world'))"
      ],
      "metadata": {
        "colab": {
          "base_uri": "https://localhost:8080/"
        },
        "id": "SWUEg-bjWHsK",
        "outputId": "9f841361-61f9-44cf-f33b-3c519304baf2"
      },
      "execution_count": null,
      "outputs": [
        {
          "output_type": "execute_result",
          "data": {
            "text/plain": [
              "[(1, 'h', 'w'), (2, 'e', 'o'), (3, 'l', 'r'), (4, 'l', 'l'), (5, 'o', 'd')]"
            ]
          },
          "metadata": {},
          "execution_count": 68
        }
      ]
    },
    {
      "cell_type": "code",
      "source": [
        "# 강사님 자주 사용하는 코드 X\n",
        "\n",
        "list(enumerate(zip('hello', 'world')))"
      ],
      "metadata": {
        "colab": {
          "base_uri": "https://localhost:8080/"
        },
        "id": "3hV93LYLWZr4",
        "outputId": "4c87a4c4-b112-4a76-a9bd-4271028a8493"
      },
      "execution_count": null,
      "outputs": [
        {
          "output_type": "execute_result",
          "data": {
            "text/plain": [
              "[(0, ('h', 'w')),\n",
              " (1, ('e', 'o')),\n",
              " (2, ('l', 'r')),\n",
              " (3, ('l', 'l')),\n",
              " (4, ('o', 'd'))]"
            ]
          },
          "metadata": {},
          "execution_count": 64
        }
      ]
    },
    {
      "cell_type": "markdown",
      "source": [
        "# ord\n",
        "\n",
        "\n",
        "![image.png](data:image/png;base64,iVBORw0KGgoAAAANSUhEUgAABY0AAAIuCAIAAAB8fLDZAAAgAElEQVR4Aey9eXgVRb7/33/Pk/MHee5vZvj95Jt754L5cpXJIGJQREQRHGEIeMVBRxAXEKKyyCKEVVAEHBbFYd8khMgSBEWWQAiRsIQEQgiEEJaEELKebBiynZxzfjI1t6z76eX02Trn9Hnz5NHq7uqq+rzeVX2qPl1VLTnxDwRAAARAAARAAARAAARAAARAAARAAAQCg4AUGMVAKUAABEAABEAABEAABEAABEAABEAABEDACT8FKgEIgAAIgAAIgAAIgAAIgAAIgAAIgECgEICfIlCUQDlAAARAAARAAARAAARAAARAAARAAATgp0AdAAEQAAEQAAEQAAEQAAEQAAEQAAEQCBQC8FMEihIoBwiAAAiAAAiAAAiAAAiAAAiAAAiAAPwUqAMgAAIgAAIgAAIgAAIgAAIgAAIgAAKBQgB+ikBRAuUAARAAARAAARAAARAAARAAARAAARCAnwJ1AARAAARAAARAAARAAARAAARAAARAIFAIwE8RKEqgHCAAAiAAAiAAAiAAAiAAAiAAAiAAAvBToA6AAAiAAAiAAAiAAAiAAAiAAAiAAAgECgH4KQJFCZQDBEAABEAABEAABEAABEAABEAABEAAfgrUARAAARAAARAAARAAARAAARAAARAAgUAhAD9FoCiBcoAACIAACIAACIAACIAACIAACIAACMBPgToAAiAAAiAAAiAAAiAAAiAAAiAAAiAQKATgpwgUJVAOEAABEAABEAABEAABEAABEAABEAAB+ClQB0AABEAABEAABEAABEAABEAABEAABAKFAPwUgaIEygECIAACIAACIAACIAACIAACIAACIAA/BeoACIAACIAACIDAvwhs375d+p9/AwcOtFqtQAMCIAACIAACIAACBhOAn8Jg4MgOBEAABEAgEAnk5+dHRUX9zwhdSk9P92sp09PTeV5RUVH5+fl+zU5/4vBT6GeFmCAAAiAAAiAAAn4iAD+Fn8AiWRAAARAAgWAiAD8FU8sDP4UHtzidzoD11ARTrUVZQQAEQAAEQMCkBOCnMKmwMAsEQAAEQMAdAibwUzQ2Nr733nt8moaegHwqhwdOBw9ugZ/CnbqJuCAAAiAAAiAQcgTgpwg5yQPEYKvVOnDgQN6NlveVA6Sc7VWMBQsWcDiS5Pcp6O1lpjzfxsbGlStXRkREhIeHjxkzpri4WB4nNM9UV1fHxcWFh4dHRETMmjWruro6iDiQ+izWbf1h7YUY5JGiJ1my+YJ+PwWJqScvHodb4Y/ZBPBTBFGjQFFBAARAAARAAAQ0CMBPoQEHl/xIgAwq4KcgrMm4jo9tSDTzHa5atYqP6CRJGj16dENDg/nMdNeilpaW6dOni2TmzJnT1tbmbjrtFZ/UZ9EQ/WHtVkAeKXqShZ9CkqRnn3327t27YsXwYHKEeIse8vI4+AkQJUAYBEAABEAABECgPf0UDoejuLh448aNo0eP7t69O++4dO/efejQoStWrLhy5YrNZlMTqaKiYt26dYMHDw4PD5ckKTw8fPDgwevWrauoqFC7xZvzdrs9Ly/vq6++GjFiRGRkJC9tr169RowYsXbt2qKiIrvd7k0WIXUvGVSgk0rUJ+M67REauZcfEsi80vJAeHh4v379Zs+efe7cOY22xhP0d0D+NtjIiiHP3TPs/qAkl5KMsf2Rqc408/LyoqOjWaWKjo7Oy8uT30jqM6+BbgW05ZAjcpk4YUhmSWhkR2K6zEiMwJMNkPkUgwYNqqmpESUTnQ4EkRhNDIu3iMbqDyu2dJvNtnDhQpaIxWJJSEhwOBxivgiDAAiAAAiAAAiYlUD7+Cnsdvvx48cHDx7sshMTExNDulBOp7O5ufnrr79m7gl5CuHh4Vu3bvXhoKu5uXnPnj19+vSR50XOTJw4sampyax1xbd2kUGFYifVtzkGV2pkXMfHNm5ZQSCT6koOe/bsmZKS0u7DgI0bN4oFM3I+RSD7Kdra2ubMmSOSCZD5FA0NDbGxsaxgFovlyJEjilWU1GfREP1h7VbgVm1nmZJBOPE+aGRHYuo3QVzD5Q8/hSJ8cvKXNj5v3jxe5tjYWPKzJTodCCKSFD8Ub+EpuxVQ+wkoLy+PiYlhSUVERJw4cYJnigAIgAAIgAAIgICJCbSDn6KyspL3a132Y+SdpIaGhokTJ2rfaLFYli5d6hNXxc2bN4cNG6adHb/63nvvNTY2Bmx1qampOXDgwMiRI8+cOdPuhSSDCrVOaruXs70KQMZ1GkMmjRISyLyiqgXCw8MTExPb11XR2Nj45ZdfRkZGGr8/Rfv6KWw225UrV5YsWTJz5kzFx0h1dfWsWbMi/vkvQPancDgcK1eu5NUpLi7OJ09dXqXFkbw4wucRxACp7du3bxev8rA4oia/L8T74EGj00icF4AHROuMfADeu3dv5MiRXLXly5fzIrGAW1bIb+EpuxXQIJCenh4REcFSi4mJKS8vJwXGIQiAAAiAAAiAgPkIGO2nKCgoGDBggP7uC+lHtrW1LV26VM/tHTt2TElJ8VKw06dPR0VF6cmOxQlYP8XevXuff/55bogH/W8vScpvJ4MKjU6q/N5QONMufgpJkkJZiPbyU5SVlX300Ud8JBawjxF5u8vMzOTF7t27d2FhoTyON2fEkTz8FN6QFO8V3TEWi0X+c+Cln4L8aotZk7Cor8aTp62tbdGiRfz3a+HChb51h5FS4RAEQAAEQAAEQCAQCBjqpxCXMfM+R7du3VauXHnr1q2Wlhan0+lwOGpqalJTU0eNGmWxWEiPJycnp2vXrvze8PDwNWvW1NfXOxyOmzdvvvbaa/ySJEnDhw+XrxnRD/3EiRO8C86T7dOnz7Zt2+7cucP6SXa7vbKycv/+/WwNS8AOMHwy6NWPTk9M+Cm0KflEMg3IrKEdOHCgZ8+evHqzgPz9qnZRTXO1vfwU4rhRkqSAfYwQoQmu9evX+3wmjjiOhZ+C8Pf4MCkpiTd5+SaaTqcz0PwUTqezsLCwd+/erNgRERGZmZkem48bQQAEQAAEQAAEgoKAcX6Kmpqa4cOH8+6RJEkWi+WLL75Q28zf4XAUFBRMnDjRarUylPIV2qRnXFJS0q9fP56FxWI5duyYZzKIvSLeN4qPj29ublZM0G63nz17Ni4uTnHCtuItRp70yaDXtwXWGEL7NqMgTc0nkumBTFqNJEny9epBytDdYpOBt8uBsbvpq8UPUj/FsWPHLBYLezz279+/tLRUzUCn00nqM39KuxWQv/kXcyS1Hes+RDg83NDQMHr0aI598uTJ7A0Bj+C9n4In7lZAYz4Fe4EhrjAKFl+eSBVhEAABEAABEAABtwgY5Kcgy5iZkyI+Pt7lBzLsdjt/R1dUVPTUU0/xro9iz5hswrdw4UJ+u34uzc3NU6ZM4RlJkhQREaFni0GxtPqzMyAmGSRod/cNKI/T6SSDCu1OqjFFCqhcfCKZHsi/NBBxU70gep/vc73gp9CPtLm5ecKECfwhuWzZMu0nLanP/Ea3AtoPLlLb28VPsXz5cm4RmQwoZyvOFjHsAZiRkdGxY0dWSDVXvpfzKTgBtwIuCdy6dYt/VqZjx44ZGRlypDgDAiAAAiAAAiBgGgIG+SnEHgbru3iwxDQ5OVns9yj6IHJycrp06cKjvfLKK3V1de6qJfbkWFLx8fHavXB3szA4PhkkaHf3jSkbGVS47KQaU6rAycUnkumETPKaN29eUNd2j0WEn0I/usuXL/MleF27dr18+bL2vaSO8Ue0WwHtBxep7cb7Kdra2mbOnMkt6tGjx/Xr1zWwGO+nIC74YcOGKS6NDEw/BZlQGSDfu9HQV7w0c/3NQTMuVdS2iifdCjc0tb29JP/tJfkNTW1u3YjIIAACIAACIBCkBAzyU5BpDp7tuCbupCVJUnJyshx6TU3NoEGD9PcU5SmQzpD3+1ywOauFhYUrVqwYMmQI3/MiMjJyxIgRGzdurKiokBeDnRE7spIkLViwgJ2/ffv2woULe/XqxSzt27fvqlWr+AIZFkc+6OJYxABPk8RnjgOHw3Hx4sV33nmHFXvq1KnkC3ZOp7OxsfHIkSOxsbG8PBaLpU+fPjNnzkxPT1fb8IwMKtT8FDabLT09febMmX369GGTzMPDwwcPHrx69eri4mKPh9ONjY1ZWVlfffXViBEjeLElSerVq9fs2bNzc3MVZ/ooImIfyj106NCrr77KKEVERLzzzjunT59WTIRrbbfbc3NzZ8+e3b17d6ZI9+7dZ8+enZeX53A4yLhOe4TG0yQBPZDJi3HFV6x2u/3u3bv79++fNm1a//79eR2OiIh49dVXExMT6+vrSdbksKKiYuPGjSNGjIiMjOTGTpgwITU1lSyVEsdIYp0nCTqdTrvdnpeXR5pV9+7dR48enZycrLZES54OP0P0dWvdh81mKywsTEhIiI2N7devH/9qcmRk5OjRo48cOULMdDqdpHWLrZKHxXZBqgQZh5PUeLvW86zgBPQH1q5dywupZxI+KTy/162AdisgtZ3w4aaJFYxMeSALcEjZXJpZVVX14osv8rsUt6jkxSAVQBRajOPbcFpaGp9MIUnSxo0bFdPXQKQYnywV4QTcCughIC41UtxZQ614/jg/c/3NHmOzNP5Ex4San8JlItwxAT+FP0REmiAAAiAAAoFMwAg/BfkK2i+LPpa5miQsR9bU1CR+zbRbt25Xr16VRyMjjV924nT3G5x379599tlnxQ5WUlKSPCP9ZwoLC0eNGiUmSMIWi+Xjjz+urq6Wpykfe9hstq1bt/JRkJhUVFTU6dOneSIEhRhTDPPxDInPeo2JiYliXqSn3tzcnJCQwEeeYrI83LNnT8UlM2RQIe+kOhyOzMxM8TMlPE0WsFgsu3fv5vbqD2RkZIhGkWTZ4dtvv11ZWUnSVERUVFSk9uXauLg4te1XysrK3n77bcWsLRbLxo0bZ8+eLV7VHqGRcvJDl5CdTifZLzY2NpaUuampyeWXgCMjI/fu3avoNmpoaPj00081gMfExIgvdcUxkoafIjs7Ww0747Zo0SLOQWeA6KvfT1FTUxMTEyPqJQ/37NmTPItI65bfQj6/Qob6ZBxOUluwYIH+Z4VOPjwaeaSvXbuWX1ILiIUnjxG1W9w9T2o74cNTEyuYb/0U4iiaqak46Y+XhEhGKgB/MvP4XgbIFlFDhgxRc5FrIPKgDGJq8ue8WwmSX2fFdxVuJehNZJcuBvgpvMGLe0EABEAABEDACD/F9evXe/TowTthLt8yKapCJko89dRTRUVFijHFDrEkSWlpaYrR1E6eOXOGbw5Hxglqt6iddzgcqamp2sN4jmXAgAEFBQUkKdKR/eSTTxISEsTi8dtZQJyoIh90kcjskPeGSfyoqKjExEQ+tZtFFgcY9+7d+/DDDxXTJCctFsuqVavIxAoyqJD3X8n4maTJDtWGIgQjOSRUFVNm20mSEbscUWpqqvYAdeXKlfLRe0lJifZdFovlt7/9rVgwn/spHA6H1WrdvHmzWD9jYmLKy8sJLmK1WCoxHBERceLECXJvQ0OD6F4U4/MwGSuKoxpFP4XD4UhKSuJzOng6JMArNimSxqHcUp3YSWUmJeGH0dHReXl5vAB66qHYLsiTjVR+kppbzwpeJJ0B8ZHesWPHrKwslzeKhRcfIy5v1B+BqED48HTECkbqnjfzKci8JCZ6v379SkpKeNYkQCTj9YQFPKjAJH3x0GazLV68mGdhsVj27dsnRhDDGojEaDrDYmpifdZ5uxitpaVl8uTJ3AptN5B4o1vh9Zu2vPLaSPb346Ejbt2rFlltPoUY3+FwTl97c/Tiqz83Kqzs0DOf4sdDR3jJ12/aIiaOMAiAAAiAAAgEHQEj/BSkN6bhYtDAR/qgpH8p3ih2iCVJUuutireIYbFTJUmSZztcsATT09NdjqZ4l0uSJPkokaDr06cPcRyIt7PwqlWrWO7yQZc8sjgOJPG7dOnSt29fcgsfYDQ2Nn7wwQfkqsahxWJJSEgQR+xEUNJ/raioGDJkiEaC7JK74nJdXKasmL4eRCTlvn373r59W6xgDQ0NY8aMIdFcHuocMIsZyTcr1cglPDx8zpw59+7dIymwdT3vvfeexr38kvwNLWlNPKYYIG2Z3EJGaw6HQ9tVx1MmN8rtkp8h+uqfT0EqMy+DPMBbEJn2L4/JzojtQvvJ5s2zQo5C+0xaWhovsM7p92LhRQjaGbl1laig9nAQKxipe974KVJSUsQlFZwP+SiVaBGRjN/CAh5UYDFxMcxce6KDe8yYMcQJK8bXQCRG0xkWUxPrs87bSTRxwdHIkSMVH1nkFncP12/asmjJ33UuHJu5/mbfidm5txpYLsybwGZSrP+hVFwVIk6vUCzSz41toxdfHTgt53aFwmfF9PgpWLJ1dXUTp0yHn0IRMk6CAAiAAAgEEQEj/BTffvut2AMjXUOdsMQ3eJIkaSTyzTffiNmp9VbV8iW7YHjcpSaTbCVJioyM3Lx5M5vi7nA4ysrKli5dSubDL1q0qK3t13cp8o6sxWKZO3cum6/b2Ni4e/du4gpR7LqJgwS10Zd8kMY+dBIfH9/Q0OBwOG7evLl8+XK2zH7fvn1ir1eSpFGjRl26dIlNmmhpaUlLSxs8eLAoBOmhkkEFuSqf1XLo0CGWtcPhqKmpSU1NHTVq1I4dO9R01Difnp4eHR29ZMmSM2fOVFVV8YkeNTU1mzZtEnkSmIqIevfunZqaarPZHA5HYWGhfDUHmZws9toZn1GjRhUUFLCPxZSUlHz88ceErZpkGjaySwSyKIcY7tq1a2Jiotok8MbGxtjY2JEjR+7du/fWrVs///wzS9xms126dOm1114TkxKNJWu1JEmaOnVqcXEx27ajpaXl1q1bK1eu/Otf/ypurUL4kNFaQUEB3/Of5RseHv75558XFhbyunf9+vUFCxYsXrzYJR8SQa6vTveQ1WqNiYn58MMPDx06dOfOHb4VBWsIAwYM4Ii6dOmSk5ND8iXDY7VnDmnF5Mnmq2cFKZviofiMJW1EMT75LqmagWr36jxPajvhwxMRKxj5HSFC6FTf6XSWl5erzZCKiooSJ9HwYrh0VJGaL97obpjMTSPzeuSpaSDikeX1jVdynwSINDxfD3xk/F6dAe/9FGxOhLt+igsFPz/94YUeY7NW7rnjcNDCwk9BieAYBEAABEDA7ASM8FOInR5tF4MGbdKDVOvEyDf0UuutquVFBgMed6n3798vdtfUuobkLVx0dPStW7d42eR9wcWLF/NxNduhMz4+XsxIcboKMUqx/y0fpHXs2DElJYUXhu1c6HA46urqXnnlFTFTUip2i3ziwDJhXxIyqCB+ClJnFL9A4XA4Wls92T7dZrOp7XDpcDiWLVvGTSM79ssRyWUtKysTd3KVJGn58uWcoR50ilMGFCXjyaoFCGRul2LAYrG89dZbxcXFJDVtzuRTPuKuECR3tT1liBxEenG0RtSRJCk6Ojo3N5cUmB2K/j7FCPKTcn11Yrfb7WKrJCmT7wd9++23JAJ5uKk9c0grJk82Xz0rSNkUD8WSTJ48uaWlRTGaeFK8RbH66TlJnhJi+vLZQ4QPjyxWMPI7QoTQqb7NZouLixPL/9577/Xu3ZufUZu8IEqmbRovvAeB3Nxc0bVnsVgSExO109FAxG8UC88t9WGASMPzFT/p5Sdobvkplu+6I86nqL5n+++5l/nml7zYLtd9tNocH/3jxnOTLw6eeenJ2POHz9H9quCn4DARAAEQAAEQCBECJvRTiO/6PFj3QfrTamMG7fpBltFq7KwuX9W8f/9+njjpC/bv37+0tJRfZQGytZhi140Ypdj/lg/SJkyYoDj3NSsrS5zhrFgqVjYyQhMX0ZBBLCk2MTwyMjIpKYm/piYEvDxknpfy8vL09PTk5OR3332X97bJ2ns5IsUN88WZyeLKGqfTSdCpLV+vr68ne68qSubScAKZ26URkHte5Lm0tLRYrda8vLzU1NSNGzeKa5HEUasc19ixYwsLC8XlP/LExTESoVdaWtq/f39eeLkfTZ6aW2fkBfYMO1ss88ski+zs7NTU1KVLl4rtRfRbseKR4bHaM4e0YjIOJ01GsVXqeVa4JEamyYiOJI17SeG5iG4FyFOCZEdqO+HDI4sVjAyGiRB61LfZbKtWrRInQA0bNqyiooK4jxU9uaJk2qbxwrsbOH36dFRUlAhZsSQkWQ1EPKZYeDF9X4WJNDxfDzTi9+oMuOWnWP9DqeinqKhtHTTjUuyKguZWu5idtp/C4XBuOFDa872sdd/fvXjj5+cmX+w7MfvY+RpxVgX8FCJPhEEABEAABEKBgBF+CrLuo3///vIvKbhkXVRU9NRTT/E+kFonhkwwliRJHPa7zMXpdJJ1H+++++79+/f13CjGIT1m7T4o4SO+kSZ9QXEQyLO7f/++OLRWnFhOBgmK/W/5IE0NndiLlSRJYzMzsvupOD1BGxGRm+keHh4+ceJEvrqEE/AgwL8JKn6UlNcuMSCyIoiIF4MXQ5yZLEnSzJkz+bt9orUGOlIPxWLwjFwGtCGzr41u3LhR3EpTkqRhw4bJW2h9fX1iYiL/9qqISAyTMfby5cvFqyzcp0+fhIQE8RsfoiGkdonDYOLl0bniQExcO0z0dXe5TUVFxbp16wYPHkwWcxECokWsPGToRRjyMpNWTMbhvnpW8OzUAoSS3BzFG0nhCROdh9oPUlLbCR9eKrGCkd8RIoTLRmez2TZu3Cg6KfhusmQ2mcViWbp0KZl0I0qmbRovvP6A3W7ftWuXuIpNkqSJEydqbEvBE9dAxOOIhdcpn1vRiDQ8X/LT4FIjfqP+gFt+isSUCrmfYub6m06nU+e6j1ab46ukkp7vZY35Iv/e/QerPk/l1j03+WLP97Lmbi6sqP3XnEH4KfQriJggAAIgAALmIGCEn4J0aBQH0i5pkj6ohrODdIjd7ceIXTRJknTuEkfKr383DfkqZXFYS9ApDgnIsEFxcKWHCUlHbRAud+WojQfkWzCK0hNBSTddce0D7+b26dNn165dHk+vKC4uJrMVeMrygFh/CCJSZl4HiGrisJN4HzTQkXooFoNn5DKgDZnffunSJfLSVZwnYrPZduzYQXwZclDsjGis9rp95nW6efMmmV5BDBfrPFlLJV7itngTIPoqNiXF9BsbG5cvX67tnuDE5MUmw2PCkOdIWjGpPKTWyXORt0f9BvIyyBNRzEiMz8Kk8JyGWwG1FseyILVdT8pkMEyE0G50DQ0NCxYsEJ0UkiTFx8fz+pyXlycuuJAkad68eaKbQJRM2zQ5T+0z1dXV8m1udDopyNpJgkg7XwOuEpW1NfKsPG75KVLO1/QYm5VyvoblxeZTzNn0YPGmHj9FcUXzmC/ye4zNemXe5ZKqX7fPvF7SOGzO5R5js7gTBH4Kz9TEXSAAAiAAAsFLwAg/BRm0ayyC0OBIFvar9erInGS1JfEaGZEdHC0Wy7FjxzTiK14i/V21gQe7V+ytSpIkRiaXFIcEegZXZJCg2Lcj6agRls9YUUyNmUbSFMdFpLspz87l8HjYsGFq36ZVFIWdVNvxrnv37kOHDl2wYMEbb7whjnBE64g58jK7FFSPECwRMlwXi6FhHbnkEjKL39bWNmfOHNHq2NjYpqYmtgGK4vc1wsPD+/XrFxsbO2/ePHHdh1h7WeLaXqHw8PCtW7eK75mJ4WKdJ5fIQJ3Y7sEh0VesrhqpkS8+cowRERH9+/efNm3a9OnTxXUfokUsWZ2PC1J5iPm+elZoWMouEUpyc1ymQCKIsqq1KXKL4iGp7VwIjQAZhBMh1Bqd3W7PzMwk+wQrfsmYbGApSdLgwYPPnz/PfBmiZN4YLtJobm7es2dPz549idVxcXGii0S8RR4WFSGI5JENPlNZWSku/lLTyJtSee+nWP8DXZ6puO7j2p3GF6Zc7DE26/WFeWXVdJOX+01tn8UXLdlxm63+gJ/CG01xLwiAAAiAQDASMMJPce/evZEjR4rdpuHDh6vN+laDKN/xQbGDQhYaaEy7UMuILOGWJGnKlCmK2zSopeB0Okl/d9CgQRr2ir1VsiBf4xLPnQwbFAdXZISjiI6ko9FvJqnJ9wVUK5uYJhlUiJf47U6ns6GhISEhoU+fPmL94eFRo0bV19eL8bXD8gH55MmTb9y4oTFOFlnpRERUE4fuBJ3ayhqn00k2uRCLoW2jeFUnZPIGVZIkXmMvX74suiGioqK+//77uro6ngvJQjSWx3E4HHl5eRMnTlSccWCxWI4cOcIji2Mk0hzIJXGFFL/dmwDRV7EpydM/duyY+FJ9wIABaWlp4mQf8jSQD+xJBEWGcv8g/BREC1IV+VNCI0AG4UQItUan6OscP368/BuZDocjJSWFLL6IiIg4c+YMmUmn9gAkNmoctra27tq1S/6otFgsX331lVs/YWJDI4jUCuDBLWpJaZ/XqZF2ItpX9fgpcm819J2YLX52VDH833MvV9+zOZ1ORT+Fw+HcdLBs0fbb95t+/ciXdtn0XMV3SfVQQhwQAAEQAIHAJ2CEn8LpdG7cuFHsLFosloSEBD4/VicmstZ97dq18hvFzcAlSVLc0EF+l3hGPpTlS47FaNph0mNW/AYHT4Fs/CnaRUa88hGOfBq24uCKDI8V+99kkKbRbxa7pOR7FtwoFiDvvsRFNASRRnbsrX5xcfHq1avJe0KLxaJoCykGPyROKMWNQokcYvo6ERHVxGEn8T6IWvNCOp3Otra2mTNnik1GLIYYUzusHzLRlPspxAJ37NgxIyOD5EgkFo0lMVldTU1NHTdunDiwJ3OISEnEOp+cnCwy0c5LnrvLM0RfxaZEEiFKke/1sMhXr17t1q0bL7loEYtAhl5qdpFW3F5+CuIxEdepETg6D0XFtZ8D2gmS2s6BawTIIJwIodHoyJqO4cOHl5eXKxbP4XAcPAsOGeYAACAASURBVHhQdFWsXLnST/Mp8vPzxe+MSJIUFRV17Ngxd39qRUUIIkUbiaNT5y1qSWmfF1uTuJBQ+y63rvrQTzFoxiW2wYSin8KtUumPDD+FflaICQIgAAIgEMgEDPJTFBYWkv6TzsG/+M3C9PR0cXgzbNgw+SQF4hAhXXmdSmRmZordSvb5w7y8PJe3t7a2sh4hWX4iSdLBgwcVbyff+yADbzLilY9w2sVPQZbG/O1vfxNfsItmku99iAMwMqjQOT5pbGycP3++OPBwS2IyDpHfS+QgI1UyjlUrM1FNtJrssKA2H4R87JMUQySsHdYJWW41L7M4NlYcfmhIrFG2rKwscem+mLI4RiLzKYh8Xbt2zcnJ0cjF3UtEXz3YyS2cm5h1UlKSWGPlrZjYpZgI8Q7Iv2REap08F53PCrHkamHRe+XZTsNiyqLiam1KjO+/MBFCw0/hdDr5mo6RI0fK950lheTf3YiNjeXrL0TJfGV4QUHBgAEDWH17++23y8rKSEn0HIqKiG1T414PbtFITeOSCE3cmFnjFncv6fFTuJumSz+FywhY9+Euc8QHARAAARAIdgIG+SkcDsf69evFzrokSZGRkQcOHLDb/9fnuzhQh8Nx/vz5999/32q1spNVVVUvvvgiT0Q+KYN4QxTfbfL0NQI2my0uLo5nxAK9e/fOzMxUezFlt9uPHj368ccf8/neZHASExMjf+HmcDj27t2r4XwR+2RkzMbLT0ZKioMrcbQpSZLia3ySjka/uaamZtiwYZyPXAhWtsrKyhEjRvBokiQlJSXxYmsPobnHh8fnAfI1DbmvgceUB8g4ZNmyZUTQlJQUcSsBAlMnIqKaOOwkBVBE19DQEBsbK3IjxZDbpXZGGzK/i4+4eKb825lizZE3KPJRAzIzwm63iwtqeHZOp5N8pEYcC4kDHlLnGxoaRo8ezQspSVJMTExJSYmYMg/zb6zwMy4DRF892MktcudpWVnZoEGDxDLLPQikVojTjsQyi1q0r59CnNiiVlqx5NphUXGNx452Ij65SoTQ9lM4HI4dO3YsX76cP/O1y1BUVDR9+nTxV0B8UPjQ8JKSkrfffvvo0aNqv63a5fRscoQooticXeblbgQxIz7ty91EtOPDT6HNB1dBAARAAARAwBgCBvkp2EYD8tEX21ds//79lZWVrFNls9nKy8v379/PdikTezxyZ0dERER8fHxjY6Pdbs/PzxcHz5Ik8em1HqBUXIFssVhGjRqVmppaU1PDxrctLS137tzZtm0bWxUsjkgrKiqGDBkijk969ux54MABNvXA4XCUlZUtXbqUrNgno26xI0vGbNwoMlJSHFyRz0xER0efOXPGbrffuXOH7y5B0tHuN4udRUmSLBbL1KlT+UYPLS0taWlpZJ+5IUOGVFRU8GJrD6G3b9/ep0+f1atX5+Xl8WFAS0tLdnY2UTk5OZmn6TJAtnRl9Ye93qypqdm0aROZR0Ng6kREVBNrhXzmgsViWbx4cVlZmcPhsNlsly5dUvwWifaQSc1wbcjsu6TySti1a9fLly+zNEnNee211woKCpgD4tKlS6+99ppYw4mfwmq1Dho06P333z9y5Ahv4A6Hw2q1rlmzRqz54hdGSdUio/ojR46Ifr1fnF/dunXbunWr1WplTbKxsTEnJycuLu7TTz9Vw6J2nuhL1Fe8Sz5zaurUqSUlJQ6Hg7UC/nKbgyIWOZ1OUi3ZhyHq6+ttNtuBAwdu3nzwjcOAmk8hzr1X+zAQaQXcfF8FxJ8GRWk8OOmWn8KD9MktIiLt5y250d+HYhvUydmDWzyw4pc2Pm/ePF6FPFjXqSdTd/0U638o5V/lUEvf5XSJmetvKu5wQU6+vSS/wdVmFlj3oaYCzoMACIAACAQXAeP8FOwjhcOHD+edDD0B0kmqrKwkw1S1RBTnL7iljXytr1pe/Lw4IhUnBvMI2gFxSjArqtiR9cZPIb7/JGXgoyYySNPuNyu+8ycpi4fyZT7aQ2ix1yumQ8LE9+FSX/kLeZKgxWJ56aWXxJOig0AnIqIaqRXyVUVidixssVh++9vfiufFYrg0k0cgkMUENcKig49sEim/q0+fPuJGm6Kx+nMX3XNEel4/mVFqH9eQF4zcyJloBIi+8jTJGSYKWWtG4kiS1Ldv3y5duvDz8oLJdxrmkcVmGDjzKcjXlxTnZ5FWwC3yVYD8NGjIqv8S/BSMldgGdXL24Bb9uvCYpOKJzw0ex/uAP/wULksFP4VLRIgAAiAAAiAQagQM9VM4nc579+7NmDFDf1dV3kkiG5gpJhUdHa1nOwmXYpeVlZEvlShmx0+KgzS2+2NSUpL8FT2PLwbGjBlTXV1NikT6+vIRjs415/LJHTxrniYZpIkDJFIqdlhZWakTTkRExMGDB9nrbp4UGcSS7MReLy8qCch9HzxxjcC+ffvIC3kx2bi4uK1bt4pnRAeBTkRENXmtUPzSp5jp4sWLZ8+eLZ4Ri6FhHblEIIsJqoXnz5/PJ7A4nc6amhoN32LXrl2PHTs2cOBAnpporM7ciXuOSM/rJzetoaFh4sSJPEe1gPxGnoJagOirljI/z0Qhy834VRbo16/fsWPHoqKi+HnFghGreWSxXQSOn8LhcCxbtowXcvTo0XzPBc6WtAIe2VcB+U8Dz9rjAPwUDJ1YG3VyFm/xWGLFpiGqKe6T7adNNJ1OZ3v5Kfimm6LJPIz9KTgKBEAABEAABEKEgNF+CqfTabfbjx8/Lo5tNLo1il8wvXr1KllTIKYwbNgwPlPaexXVPkcv5sjDU6dObWpqIplmZ2drlFaSpIiIiNWrVyt+N4709RW7cfLBleKYlm/kxkvLAvzjjiQdcYBELOKHjY2Ny5cvFyfwk8QlSRo2bNjVq1f5LTxABrEku927d2t4E9hyoezsbJ6a/oDNZlu1apVi4hMnTmxoaCAdbhGmTkRENXHozspps9kSEhIUHVgWi2XhwoWNjY1kUCoWQ7+xBLJcHfFMt27dEhMT5TtKiDvzifEjIyPT0tJIFqKxNTU1MTEx4i0kHB4eLl/eT/gr1vnm5uaEhITIyEiSoHjIK7Z+XERfMTXFMBdFrXH17t07/5//XPopGhoa5HviSJIk7hRIqgR5mUxqnSI3uYHcBP2UWExx/1RxoRBPh5RHEaA3J3WOn3l59ATgp2CUxDaok7N4i8eyKlZaUThxA1dF75gY2eMw/BQeo8ONIAACIAACIOBDAu3gp2Clt9vtRUVFa9euHTFiRPfu3XnPJiIion///rGxsQkJCUVFRWo7gdlstvT09AkTJvB7u3fvPmHChPT0dPlAy3teNpvtypUrK1asGDp0qDg6ioyMHDBgwLRp0/bv38+2GFDMy2635+bmLliwYODAgXxU371799GjRx84cKC+vl7xLqfTSfr6it04/WOPysrKv//973379mW0+/btu3r1av4ilKRDHAdqJXQ6nfX19bt27Ro9ejTXIjw8fODAgUuWLMnLy1NTkIxv5dlVVFQkJCSI1YMlu2DBgtzcXLVkNcrJLzkcjry8vI8++ohJGR4ePnz48OPHj7M0SYdbHMjpRERUE4fuvAxOp7OiomLVqlXPP/88c5p07979o48+ysvLYxNPyKBULIaYiHaYQOatTAz06tVrwoQJqamp4jQKkmxDQ0NCQsKLL77Ii/r555+zbxyQLIixNpvt3Llzs2fP7tevH6n5u3btUqz5hL9inWfFq6+vP3DggLzieVxDiL4iJcWwKIrVal21apVi4yKjXzWL7Hb7iRMn3nzzTebAioiIeOeddy5evMgnIpEq0b5+CrKEaplsS1pShYLikCgl6uuP8osPCvkD0B856kxTbIOB46cg+zeLuzLrtEtnNA/8FGQXCbXD9T+UqpUB6z7UyOA8CIAACIBAyBJoNz9FyBKH4SAAAiBgAgLi3iW9e/cuLCwMdqPgp2AKBqafQtxDt3///qWlqmN+L+sh/BReAsTtIAACIAACIOATAvBT+AQjEgEBEACB0CJApp+I268GKQj4KZhwHvgp/K14fX29+CEkMpnIt7m766fwbe7ep4bvfXjPECmAAAiAAAgEAgH4KQJBBZQBBEAABIKPQE5ODv/aS9euXXNycoLPBqHE8FMwGAHopxD3P1bctUqQ0dvg+k1bXnltJPv78dARb5Mz8P4fDx3hJV+/aYuBOSMrEAABEAABEPA9AfgpfM8UKYIACIBAKBBwOBzix2vGjBnD97sJBfNhozEESkpK+vXrx/aI+WUHK3/vG2KMUcgFBEAABEAABEBAmwD8FNp8cBUEQAAEQECVQGNj4wcffMD3GV2/fj3f+FP1HlwAAd0EbDab+Cmc+Ph4VDDd8BARBEAABEAABIKYAPwUQSweig4CIAAC7U6goaEhNjaWv+4+ceJEuxcJBTAHATJhJy4uDhN2zKEsrAABEAABEAABlwTgp3CJCBFAAARAAARAAARAAARAAARAAARAAAQMIgA/hUGgkQ0IgAAIgAAIgAAIgAAIgAAIgAAIgIBLAvBTuESECCAAAiAAAiAAAiAAAiAAAiAAAiAAAgYRgJ/CINDIBgRAAARAAARAAARAAARAAARAAARAwCUB+ClcIkIEEAABEAABEAABEAABEAABEAABEAABgwj43U+xbed+/IEACIAACIAACIAACIAACIAACIAACJiYgA99GH73U/iwrEgKBEAABEAABEAABEAABEAABEAABEDA3ATgpzC3vrAOBEAABEAABEAABEAABEAABEAABIKJAPwUwaQWygoCIAACIAACIAACIAACIAACIAAC5iYAP4W59YV1IAACIAACIAACIAACIAACIAACIBBMBOCnCCa1UFYQAAEQAAEQAAEQAAEQAAEQAAEQMDcB+CnMrS+sAwEQAAEQAAEQAAEQAAEQAAEQAIFgIgA/RTCphbKCAAiAAAiAAAiAAAiAAAiAAAiAgLkJwE9hbn1hHQiAAAiAAAiAAAiAAAiAAAiAAAgEEwH4KYJJLZQVBEAABEAABEAABEAABEAABEAABMxNAH4Kc+sL60AABEAABEAABEAABEAABEAABEAgmAjATxFMaqGsIAACIAACIAACIAACIAACIAACIGBuAvBTmFtfWAcCIAACIAACIAACIAACIAACIAACwUQAfopgUgtlBQEQAAEQAAEQAAEQAAEQAAEQAAFzE4Cfwtz6wjoQAAEQAAEQAAEQAAEQAAEQAAEQCCYC8FMEk1ooKwiAAAiAAAiAAAiAAAiAAAiAAAiYmwD8FObWF9aBAAiAAAiAAAiAAAiAAAiAAAiAQDARgJ8imNRCWUEABEAABEAABEAABEAABEAABEDA3ATM6aew2+0tLa23b5fu3Zu6Y0dyYuLRXbtSfvrpYk1NfWurzdyKwjoQAAEQAAEQAAEQAAEQAAEQAAEQCF4CZvNTOByOhobGnJwbCQnJ27YdSknJOptxJTMrPzu7IDX1QlJS6pEjGWVlVpvNUG9FdU3N0GEvL16yJHgrikbJGxsbJ06cNHHipMbGRo1ouORbArm3GvpOzE45X+Nxst6noJH1zPU3B824VFHbqhHHm0stLS37v//+5f/+785dHv73//jDi39+ad269dU1/4vG9evXez/dZ+euXR5n5GUK7PazZ896XADcCAIgAAIgAAIgAAIgAAIhSMBUfgqHw1Fb+/OxY5nx8Ye/259+MDnzWFr2uYvXL165deZcXkpa9snTl0+ezDl06Ex+flFzc4tP9Lbb7ampJ9h4KfL/dh0/PvbKlSskZc/8FIuXLNEe/LscBe3ctWvosJfJ4E0s29mzZ38Z43k5jvLMT7Fz167eT/e5fv26WB4xrCfCv//HH1z+ubSuuqZmy5atr/51RNSfurPU+jzTd9y48cdTU1tafFNJRLt8Ffbey+B9Chq2aPgpGpra3l6S//aS/IamNsUUXEawWq1jxo59/fW/XcrNtdlsDoejtLR01qzZAwYMLCj4tUZ56WVwOp1epuCyhSqaj5MgAAIgAAIgAAIgAAIgEOIETOWn+PnnxuTkjG++ObgjKT0l4/rde6332pwNjgd/P7c562yOvGLrwZNXT5zITk+/dPnyrbY25WGS/jphs9mWr1gxYMDAzKwsu93e1NT07c6dvZ/uk5x81OFw8HSC109ht9vPnTv3/gcfsDF8zyeiZ8bFFRYWita1o5/CSy+Mw+E4duxYr15PTp02LTf3cmvrv17+19fXnziRNvzVvw5/9a83b97kOuoMsGF2j7FZLv/W/1AqT3P9D6UaN/IJFGpeBpe5cweBWgryIvEzGmUjsyf856ew2Wx/X7bslVeGl5eX84I5nc6GhvsfTZkyctSbtbW17LyGl8GlF0w7BebgU/ORcdcY/BSiQAiDAAiAAAiAAAiAAAiAgE4C5vFTtLXZL14s2LTphy070n44U5JX1VbW6Kxucda1OWttztpWp7XFWXLfmV1m+/ZowbGU85mZecXF/2ucoxOZGO3HH3988qneubmX+UmHw7F16zf9nnv+xo0b/GSQ+imampoWff5576f7HDx0qKmpyel01tbWxm/f3vOJ6KSkvdxVEbx+iqtXr0b3enLTps12u52LxQMNDfc/nDBh7Hvv3bt3j5/0VYD5CNT8FH0nZufeaiB5EbcCOSSR+WHK+ZoeY7O4d4OfdzqdOlMQb1ELz9l06y9xuVV1v67y8J+foqys/KVBgzdv3iIvTPqpU4882i07O5td8refgvsj5CURC+AymtrtOA8CIAACIAACIAACIAACoUnAPH6K5ubWrVt/3LLt6LqkK4cut2aW2K9VO+40OMuanOUtzruNzsJ7jjyr48zttu+yGzfvu3L6dG5OTkFLy68jK3drQEPD/XHjxn/66Wdkt4vy8vK/DIlZ9fXXfCTvsZ9C7YWteF5jFLRz1y4xplpYLYVt8fG9n+6Tf+0aIZOWltar15P8Lo/9FGrl4eddLgzxcj6Fy5fqKceP93i85+XLv/qhCAqPD83kp7jfbB/zRf6YL/LvN//q7nHpp9CYM8Iu8XkfBLKG94HMX9CI6VJ6lqlaCjoXTJHyEENwCAIgAAIgAAIgAAIgAAIgoEjAPH6KoqLyr/+RtHzjTysP3kvIaD1y1XamqC273H6lypFvdVyutF+4az95s+3AZduW9JZV31cdPHL+4sWC0tIqRS56TrJBSMrx4yTyL26LefPnvzFyVH19PbvksZ+iHfenqK+vf2PkqHnz5xMvzD8n2DeMGTt2xsyZbKGEx34Kl24IlxHgp1CcKCFWSAPmU9yuaB44Leez+CIxX5d+CjU3xIMKprmBBeZTiJwRBgEQAAEQAAEQAAEQAAHzETCPn2LPnpRvtiV/ujZj0YHmr482bztt25ttO5xnO17Qlnq9LTnf9uPltl3nbRvTWr5Mbl2yr2bXoSsZGXlFRZ4v/Th79uyTT/W+VlAgrxY7d+3q/8KA4uJidikY/RSszIrfSiCOCXIop6F4xuULbT0RvPRT6Fn3MW7c+IaG+4omqJ10uUMEn0pgwLqPI+eq/b3uY396VfT482k5dSIQ//kptPenENfpqM2GcDqdLmsXs0UtBcynELVGGARAAARAAARAAARAAAR8S8A8forNm3+I33F81uqs6buaFuxvXnGkZXVK86afWracal3/k+2Lw62LDjQvPdi8/HDLkgMt8/f8vGr39aNHM2/f9txPsXfvXrUX/mQUFIx+iqCYT8FXiGgE+PoUectxuY/m66//jTub5LerndGeDqB2Fz+//odSH+5PsXzXnR5js9bsv8vT5wGf7E/BjB35Wd69+/9rV1r/+SmcTqf33/sgLZQzIQH4KQgQHIIACIAACIAACIAACICAAQTM46fYuPH7bQnH56y9MDupeXZS85y9TZ/se+CwmL+vac7eptl7H5z85/nm+fta5u5pWLXnxuHDZwPcT6Ex/OaXNMbh/tufoucT0emnTrEK6vF8Cm6CWkDNDeTbhuHz75Ia6afgUzPI5zYYovoG2+sL83qMzRq3/FpTy6+bR7CrPvFT7EuvemLc+R3HKogoLv0UvORqAY2FIU6ns6WlZf/337PvAf/ybd0X//zSunXr+UorVhg1L4PB8yl49dae/kMA4hAEQAAEQAAEQAAEQAAEQpaAefwU33xzcFtCyqx/ZE7a0TRpR9PkHU3TdjXF7W2au695/vfNc/Y1x+1tmbbzwaUHV7fVrknKP3Higjd+Co11H4mJid6v+2j3StnU1LR06Rd9nul78NAhtvaBfe+jx+M9t8XH830rPPNTEOs8m3JCEgmQQyP9FNr7U6Tl1EWPP//esmv9JmVfKPiZ8GF+Cu4mUPR0kFvIYUlV89DZuW8tvkomU/ziR9DwU5BEnE6nxiYa8sj6zwSIn0LDk6jfFsQEARAAARAAARAAARAAgdAhYB4/RVpa9voNP8xffWpSQuPUnQ8cE0uOtPzjp9aNZ1s3Z9g2nGldlWZbcqR19r7mjxKbpsVXJR3Mycq6evt2mcdis1GQ//bR9LhgPrzRbrefO3fu/Q8+iPpT93//jz/0fCJ6Zlxc/rVr/FMmTqcTfgoCPED8FE0t9g++LIiZlXv19v2Rn+XN2XTL1uYQi+rlfIp799vGfJH/3OSLOTeoBwR+CsaZPSLgpxBrHcIgAAIgAAIgAAIgAAIg4JKAefwU1dX1X3+9Z9Wm4zO23l5woGXVT60JF2zfX7MfvW1PKbYn32rbd7Vt23nbqhO2efua5m27fSQ56+LFgpqaf32SwyUpeQR/f5dUnqOeM8xrwKeauxVQ3DXTZaZG+im8t877FFwCYX4KPk9BI6C4D4Wv9qcQV2QcOVfdb1L2uav3xMJ746doarHP2XTrydjzh89Vi2nycCDMp+CFkQewP4WcCc6AAAiAAAiAAAiAAAiAQIAQMI+foqWlde/e1E2bDyzZcm7V8YbdufbjxW3Z1c68Oue1ew/+e97qTLlt35lj/yrl3jff/pSTcyM7W+FTHW4Jk3L8eI/He164cIHf5XA4Vq9Z0++552/cuMFP6l/U4NdRtP5i8JLrCej3U/jVOv3F0GOUb+NU1LYOmnFp5vqbepL1iZ/i2p3GF6ZcHPv3aw1ND7a3bLU55m4uJAs0PPZT1DXYJn19vee485sOljn+1xSNX+2T+ynIMhMN9w25pOjNcTqdLj+6gXUfv+qBEAiAAAiAAAiAAAiAAAgEDwHz+CmcTufdu1VbthzYvPXgun25RwqartQ579x3VjY5a1oe/Lf4vjOnxnHwatO6b45mZ1+Pjz905kxuWxvdXNAt7Ww225dffvV8/xfOZWba7fampqb47dvFPSZZaj5xEHifiPcpKMIJEAdBgBRDEZHBfgq2bcTQ2bklVc28POzk3M2FrbZ/uRY881Pk3GwYEpf7ZOz5pLRKNSeFu+s+eCHdCsBP4RYuRAYBEAABEAABEAABEACBYCFgKj+FzdZ26dKNxMRjW7Ye/Pb7s+dvWAsr7lXfa7p3v6WyrvFGWf2p3JLE3alZWVeTklJXr05KS7twr+p2W2OV06nyUliHjHa7/aeffnrt9dc7d3k46k/dJ0yYWFBwndznEweBB4ksXrJk4sRJjY2NrDwepEAMUTz0zEGweMkSLz9/QKzzoBg6J/8rWu3WSXf9FGRCgXjIN85U8zJcvX3/L3G5ittGXLrZ8MLUnPlbC9m3P9RSUDOtsrY1bsOtnuPOD4nLzbnZoBaNnZfPp+Dx3aLB75IHvPRTaC+JevKp3tcKCtRmZLCsNVL4bNEih8OB/SnkquEMCIAACIAACIAACIAACLgkYCo/hdPpbG5uvXjx+v79JxMTj8bHJx84eOb0mSsXLlw7dTr38OGM/d+fzMi4snPn0a+/3rN0yfb4dVsu//BxXeanttpf12i4ROZBBJ84CDxIhIzkPUhBj7EeOAicTif8FHrYasRR8zIUlTeN+fs1+dc9WFJXiu6/tSSf7XyploJapveb2uI23Po0vujnxgdrSbT/Gean0HAWsEue7brCrFPzU2jbzq/CT8FRIAACIAACIAACIAACIAAC+gmYzU/hdDrb2uxFRWWnTuUePnz2u+/SEhOTv/326L59Px0/fv7MmcsXLlzLyyv66afsjV9vPLlhXO2p95svf3QvY1pr9VX91NyN6RMHgQeJeOyn2LlrFx/+de7y8MAX/xwzdJji38czZlbX1EycOEmcuKGHj8/9FHoyJXECcz4FKaTaobteBnk63qcgT5OfMcxPofE1DS+9DE6n08sU4Kfg9QEBEAABEAABEAABEAABENBPwIR+CmZ8S4vt7t2qGzfu3LhRcvNmyc2bd4uKympq7rEV9TVlxcnL/lay8U8tRwfZr0xpvTm//vSEVusV/eDciumBi0GevgeJED+FPE2fnAmQ+RQe2OJbP4X+z3yI6zhYeP0Ppe6W33svg/cpaJQZfgru5iCelNbW1mXLl/fq9WR2drYGQFwCARAAARAAARAAARAAgZAlYFo/hbaiTfesubtm3lr+fxoTu7Ye/bP90kTb3S9/PjuxtfKS9o2eXfXAxSDPyINE4KeQYxTP+NZPIaZsQNh7L4P3KWiYCT+Fhp9i6dIvej4RDT+FRv3BJRAAARAAARAAARAAgVAmEKJ+CqfD8bP1zuXESXdW/L+NO/5v65GB9uwPbKVr6k990OIHV4UHLgZ5pfQgkcVLlvDlGxoBd5dskLJ5PJ9Co0j80uIlS0h2/FCndRopiMtbeI7ygEYKvDDGB7z3MnifgobVLv0U8kkl8jN801DFjFxuZsmkxP4UivRwEgRAAARAAARAAARAAAQClkCo+in+KUhD9d0LW8fdXfn7+wkPtxwZYM+ZbCtecS/joxbrFafDq++VEr09cDGQFJxOp08SkSfr/RnP/BTe5xviKXjvZfA+BQ0JNPwUGncF2iXsTxFoiqA8IAACIAACIAACIAAC5lt6xgAAIABJREFUoUAgpP0UTqfzZ+ud7H+6Khq3d2k53N9++ePWW0t+zpplq77q8KmrIhQqE2wEARAAARAAARAAARAAARAAARAAAS8JhLqfwul0NlSXXNw+oXhZx/vxnVsOPd92ZVbtuUlVF7bY21q8hIvbQQAEQAAEQAAEQAAEQAAEQAAEQAAE3CIAP8UDXE11VXl74m588f81bPtP6+5nrx2Iu3zuZFtbm1soERkEQAAEQAAEQAAEQAAEQAAEQAAEQMBLAvBT/AtgU31l3t65p2d3Sl328g+JCbm51+12X25R4aVOuB0EQAAEQAAEQAAEQAAEQAAEQAAEQoEA/BT/UtnhcNyvKcs+HL9r4+aTP124d+++wxEKFQA2ggAIgAAIgAAIgAAIgAAIgAAIgEAAEYCf4lcxHA5HW5utpaWlra3NAS/Fr2AQAgEQAAEQAAEQAAEQAAEQAAEQAAGDCMBPYRBoZAMCIAACIAACIAACIAACIAACIAACIOCSAPwULhEhAgiAAAiAAAiAAAiAAAiAAAiAAAiAgEEE4KcwCDSyAQEQAAEQAAEQAAEQAAEQAAEQAAEQcEkAfgqXiBABBEAABEAABEAABEAABEAABEAABEDAIALwUxgEGtmAAAiAAAiAAAiAAAiAAAiAAAiAAAi4JAA/hUtEiAACIAACIAACIAACIAACIAACIAACIGAQAfgpDAKNbEAABEAABEAABEAABEAABEAABEAABFwSgJ/CJSJEAAEQAAEQAAEQAAEQAAEQAAEQAAEQMIgA/BQGgUY2IAACIAACIAACIAACIAACIAACIAACLgnAT+ESESKAAAiAAAiAAAiAAAiAAAiAAAiAAAgYRAB+CoNAIxsQAAEQAAEQAAEQAAEQAAEQAAEQAAGXBPzup9i2cz/+QAAEQAAEQAAEQAAEQAAEQAAEQAAETEzApfdBfwQj/BT6S4OYIAACIAACIAACIAACIAACIAACIAACwUVg2879Piww/BQ+hImkQAAEQAAEQAAEQAAEQAAEQAAEQCDkCMBPEXKSw2AQAAEQAAEQAAEQAAEQAAEQAAEQCFgCQeynCN6lOLw2BK8J7pYcJrtLLBjjQ+VgVM3dMkNld4kFY/xQUznU7BV7fsFYPz0rM1T2jFtw3QWVg0svD0oLiT2AFnS3iCrzsPcBQ9d9bNu5v9JaF3R/pH8QdOX3oMAw2QNoQXcLVA46yTwoMFT2AFrQ3RJqKoeavZXWOpgcdK3SgwJDZQ+gBd0toaZyqNmLx7WoOPwURng9ROJB6mpx9zkOk90lFozxoXIwquZumaGyu8SCMX6oqRxq9qLji65XMD6X9JQZbVkPpaCOA4mDWj6dhScqe++e4ClgPoVrTwehr1OzoI4Gk4NaPp2Fh8o6QQV1NKgc1PLpLHyoqRxq9sJPAT+FzkdB0EVDWw46ydwtMCR2l1gwxicqcy+D9wH4KeCnUCBAKlwwthl3ywyT3SUWjPGhcjCq5m6ZobK7xIIuPiQOOsk8KDBU9gBa0N0ClYNOMncLDIndJRaM8YnK3rsneArwUyiM0kkVIfTJVVMewmRTykqMgsoEiCkPobIpZSVGhZrKoWYv5lNgPgVp8qY5RFs2jZRqhkBiNTJmOk9U5l4G7wPwU8BPoUCAVDgztSU1W2CyGhkznYfKZlJTzRaorEbGNOchsWmk1DAEKmvAMc0lqGwaKdUMgcRqZMx0nqjsvXuCpwA/hcIonVQdQp9cNeUhTDalrMQoqEyAmPIQKptSVmJUqKkcavZiPgXmU5Amb5pDtGXTSKlmCCRWI2Om80Rl7mXwPgA/BfwUCgRIhTNTW1KzBSarkTHTeahsJjXVbIHKamRMcx4Sm0ZKDUOgsgYc01yCyqaRUs0QSKxGxkznicreuyd4CvBTKIzSSdUh9MlVUx7CZFPKSoyCygSIKQ+hsillJUaFmsqhZi/mU2A+BWnypjlEWzaNlGqGQGI1MmY6T1TmXgbvA/BTwE+hQIBUODO1JTVbYLIaGTOdh8pmUlPNFqisRsY05yGxaaTUMAQqa8AxzSWobBop1QyBxGpkzHSeqOy9e4KnAD+FwiidVB1Cn1w15SFMNqWsxCioTICY8hAqm1JWYlSoqRxq9mI+BeZTkCZvmkO0ZdNIqWYIJFYjY6bzRGXuZfA+AD8F/BQKBEiFM1NbUrMFJquRMdN5qGwmNdVsgcpqZExzHhKbRkoNQ6CyBhzTXILKppFSzRBIrEbGTOeJyt67J3gK8FMojNJJ1SH0yVVTHsJkU8pKjILKBIgpD6GyKWUlRoWayqFmL+ZTYD4FafKmOURbNo2UaoZAYjUyZjpPVOZeBu8DgeunWL12vfTPf2+++VZxSblcTpcR5Ld4dobQ9ywRD+66eu3G7DnzunX7oyRJHTp0GBIzdO++H8orazxIyt1b2stkVs6r12689fa7kiT1e+75awW33C28Z/HbxeSi4tI16zY893z/sLAwSZK6dfvj+Nj3009nVFTVemaFW3cZb3J5Zc1PJ8+Mj32f1eqwsLA+z/T9fPFSc6ssipJ7Jf+Zvs+yJ9uBHw+Ll/wUNl7l/T8cZAbK/6v2MPet7cabzMpfXllz8FDymLHjOnfuIknSQ506jRsfm51zxbfWKaZmpMkHfjwsV5ac8fej20h7ReAXLl6eMXOW+KP87c49JaUVYhw/hdvF5Iqq2l9+j8bHvs+qdOfOXcz9C8W0Ky4pf/PNt3iVXrFylZ80lSdrsMq8F82NlSSJ/S7PnffJhYuX5SX0+RmDTeblr6iqPX02c+68T/o805d1wB7q1Clm6LB1GzYVFZfyaP4IGGayor6SJPV4vOeI117fuGlrwY0ifxhI0jTMXp6v9o/UxzPieEw/BWCy9+4JngL8FAE6n+LgoeRHHnlU/PFg4UmTp/j7GdqOr27KK2v2JO3r3v0xZqy/O7viE8r4x8qx42lPRPeSSxwWFrZi5arScqtYPH+EjTd5/YbNcnslSercucv+Hw76w0aSpvEmkwKI/Qaz+ilEG4ncJvZTXLteyLyrxOQXXhhoQF/QyIqt3QVk5vv70W2kvawJV1TVrtuwqUOHDkRfSZKGxAy9crWAtHSfHxpvcmm59fPFS9kQTrS6Q4cO6zZsMsCZbrzJTLWT6WcffjiSm/zSoMEGNGGWtcEmazyrmad1y9Z4fwttsMmMc3bOlVf/OoJLTAJvvf3unbsKL0d91agNM1lbX/YGdMHCRf4eUxhmLxdI+0cKfgoOyocBojL3MngfgJ8iEP0UZ8+df6zH4+TRyQ+XrfjSfL8cxSXlid/u7vfc89xMc8+nIG9sRKtZ/8CAQSx5rPjwgaWWlMav5jN9n829kq92o6/OG2+yWHJxMoUkSQZI3C4+Rw2VzeqnKCouVXRSGPYQM7Jia3cB2aNs1uy5ZRXVYuX3bdhIe1nJD/x4+KFOnciDmh++8+5YxVmfPrTaeJPXbdgkd1Iwkx/q1MmAx5fxJlda6yqqaj9Z8BlXVpKk3/3u94eTU3wopUZSBpus8axmBB7r8XjW+RyNAnt/yWCTK611R1NOaHSwJUny9++UYSa71JepPPzVEVev3fBeSrUUDLOXF0D7Rwp+Cg7KhwGisvfuCZ4C/BQB56coq6ieMnU6/5E4dPhoeWXNhYuXX/zzS+ykASM6UuF8WJXVklJ8rPj7pZxYGINNZn6K7t0fS0jceeNWcaW1rqS0ctv2RN4VnjjpI7929NtlBLtuw6bpH8/MPH+xvLKmoqo2J/dq7PsfslodFhZ26PBRURF/hA1WWTShoqr2088WM2PZfw3o6LeLyrNmz2UG7t7znUjAsLDBKldU1S5b8SWvxnPmzr+cd62iqra03Hrk6PG33xljwLImg01WlPJm4R32ivKRRx49fTZTMY6vThpsb1lF9cRJHzGJX3hh4Nlz5yuqaotLypet+JKN5P/wh/88kXbKV9YppmOwyaJTdfirIy5eyquoqj177vwLLwxkHPw9lmuXZ1elta7gRtFLgwZLkhQV9afhr/7rlfuUqdP9/XPMRDdYZT6O5WqWV9Zknr/4+t/eYCpLkrRte6JihfTVSYNNTj+dITopXv3riMPJKczJWF5Zc+ly/j9Wr/1wwiS/uh0NM1mub6W1rrik/ETaqXfeHSt6IWfMnOW/ObyG2cvrJB9QGDmI4Lm3y7Mr0EzmXgbvAyb3U/C31qvXrhfrkFthg9vYhezcnk9Esx+JLVvjeVFPpJ3icxH9PQAw2ORKax1vY507dxk67GVmvpGPGINNLi4pX7dh062iEq4ve5MzY+YsZvvwV0eQq2JMn4QNNrnSWifv6om13YBxu/Emc6XST2c88sijD3XqxNdzGWBvu/xefjwjjtVhYwzkhHnAYJWzzuewjm9YWNiadRvIZDfmkuNl81PAYJMVreB94k8WfEYgKMb35qTB9vKOBBm23Soq4UNZf9d2g03evec71oqJ14n3Q8h5b9RUu9dgk1kxkvbuZ+O34a+O2PrNdhbu3fvpS5f9Pt3P+Mc1b7PcT8EgnDpzrut//RerAGbyU/yylUxs7AfMLo0Ftv5+aBtWsdX0Zb3NpO++5y/GHn448mT6WbWW6OV5w+zl5eQDCiMHETx34xuyOIYKEJO9d0/wFOCnCLj5FHwXup5PRF/IzuVVX+wSLVi4iJ/3R6BdHit9num7YuWqm4V3+LPVyPZmvMmKwnHbDVjWHggmnz6bycbtBvR62+XHg6nM1wVMmjzloynTjBzGG6xyRVXttOkz2GTpoyknFCu5v08abPKKlauYoGPGjjNmS0U5QINNlhcgJ/fq00/3kSTpiehe5y9ckkfw7RmD7RXnU4jvPPi7dwMeXwab/PU/1rJa/cbIUbfvlHH5xH6ImUawzMCS0spx42OZ4V8sWyFOKhFfGnEaPg8YrDLvbxA/xeHklN/97veSJPl1+MroGWkyt0uSJL/OINCuGIaZrKYvK15FVe3qNetYbZckyX/DCsPs5djhp+AoDAsQlbmXwfsA/BQB56fg/QPyRp0PACRJGjc+tqS00n/1j1Q4/2WkmDJ/toaan6KiqpbPp/D3Tk7tOGhnopeUVp5IO/Xyy6+wn8lJk6f4b9ohr2btUrErqmrXrNsQFhb2WI/Hz547b/B0A4NN5m+eDRi5cVlJwEiT79wt5ztT7N7zXXbOlXHjYx/q1CksLOy55/tv3rLNGM+FkSYT2uzVHF/5YsBkinZ5diUfS2XvHh/r8ThbjHmz8A5zyUmSZMDjy2CJ+WOK+Cl4A5ck6YtlK+SVwYdnDDa50lrH50axhTziIlwykvehmWJSBpvM+1rcutJy6/ETJ9nqHsUJYmJpfRI20uQFCxex/oYB+25owDHMZLm+pFSiJ47XARLH+0PD7OVFhZ+CozAsQFT23j3BU4CfIuD8FLx/IB+p8oes/x4orE6TCmdYRWcZ8WdrqPkpjh1P40t7DHh70y4q898P7sXv0KHDrNlz/boclFfgdjGZL4hdvWZdRVUtb+D+nijeLm2ZD2PCwsL4zOGnnupt1q/PXiu4xXb/feSRR7d+s11c+cwdcAbU7Xap2LxZ8ckUhvX+jbe3oqp2y9Z4Pk2aP77CwsI+mjLN3xvmG++a4b/CRFOutSRJ/t6OzniV+dwo/paILwMxYGZBO6rM6zMP9Or15J6kfeWVNbyZ+ylgmMr8t0mSJOJ985NpaskaZjJvxWpDBnECkf/624bZy4HL+5m8YhvzBqUdTfafjhyvYoCYzL0M3gfgpwhcP4W8E+DyoaNYezw4SSqcByl4cws308j21r4mV1TVHvjxMN+5YEjMUAM+hNYuJpPfj27d/rhg4aJfNtT0psLov9d4k/nmgiNHvskGM+b2U9y4VfyXITG8TyAGHnnk0YOHkvWL5XFMI1XmC5d+97vfd+v2R9FeFg4LC9sWv8NjW3TeaKTJ8iLx0Z1ZtxtkJpdX1qzfsPnf/u3/EVV+c/Tbpty54GjKCTbzX5KkkSPfZB9jyr2Sz2cPmc9PIS5p4VNFxBfO/psYz9uUwQ2Z97XEKs3CTz3Ve+kXy8zkgOM+ZQOqLhdUMWCYylxfNT9FpbWOd0j81982zF5Om/Qzxeptej+FaCwLt4vJ3rsneAom9FPwVidXi59x602mwW2Mlx9+Cv89N/njjAcMVpnny7Zfnr/gU7738hPRvfy9Wz7LvV1MVvz96NChw6qv15hv3UdpuXXO3PmSJD3W4/H00xkMO2/gbj2FxArjVthglcW+IH/e8sDTT/cxwCdlpMncTyFJUufOXRISd5aWW8sraw4dPsrnVox47XV/d/eNNJlUP75Hg4k/31hprbt2vVAcovMqzXT/duce820d+s67Y0UzWTgsLIx7avw9bje4VvPNC8Svt4hLP14aNNjf7w8MNpmPY+VCszPP9nvu7LnzpMn79tAwk8XfJnnv2rdGaadmmMlcX/gpeA1vl0G7dn3wyVXFrjWzul1M5l4G7wPwUwTufAr5JhRY9+GT9qyYiGG/HCT3y3nX+I7xkiS9NGiwuHkqiezbw/YymVlRWm49l5Ud+/6HzEETFha2a/de3xooT81gk9dt2BT2z3/iZyDM7acor6y5cauYu5zYLiSj33qH9xLEbQjlAvnkjJEqi36KZSu+FAerW7bGM6vJjsg+sZEkYqTJJGs+Md4AdwzP2mB7S8utkyZPYWq+/PIrmecvVlTVFhWXrvzy6w4dOkiSZEBH0GCTK611V64W8K+h8/b7zrtj3/9gAjv0d1s20mTRH8EXfbD6xmt4WFhY0t79vBL6I2CkyZXWOsVxbFFx6eo16/gSJ39vD2yYyQU3ivhXdeWrqv2hplqahpmsqK9Yqtt3yt4YOYo1Z1LtxWhehg2zl5eTD9qNfNnJczd+AZf4vQ/+rOYBA36e5CZ7757gKQSBn0LtwwezZs9lMmh4CvmCNG9+UA1uY9wusoJO3Edz2vQZYodYbB4+CRtsMikzf7Ya+YhpF5PPnjv/bL/nWDUOCwv7eEacv9+7iqjbxWSxAJXWOnEAYEDXwUiT+bYUc+bO5+N2cZqlKedTEH3Z4Y1bxa+88iqr5wa8yDJS5YzMC1FRf2KmEUF5V8mAXoKRJosSl5RWjBk7jpnvzY+smKaesMH2nkw/y3YOIhOCyiqq+e+1ySYX8Jb7yYLP2IKmx3o8/sXfl18ruMUGNmFhYYcOH9UjlsdxjFRZXN/B6rPif/29sslIk9X8FGxn3KVfLGMEoqL+lJF5wWMRXd5omMninseGfWhW0XzDTOZ9abVREt84ln0AxU/DCsPs5bT5j6+Rgwieu3zQLl7yUzjQTOZeBu8DgeunUPt8N9NY7B5pdHyD0U+xfsNm9vNAnqTi4smv/7HWT3WdJWv8Y0U0hz9bjXzEGG+y+LbqkUceTdq7308/EiJbMWy8yWLuPMzlVvNI8pjeB4w0mdul2N/lJzUeX97b2y6/l/Jiiz5Wf9trsMniO7oQ9FPwbq4BvhixXhnZkMVXVfLuPm/m8ktigb0PG2yyWoG5y4b0T9Tie3PeSJP57Cf+ZFYMkF1FvbFO8V4jTdbwU4iXJEkiTzbFknt80kiT+U46kiSR6W8el9+DGw0zWfvpVFZRPW/+AlbP/TpXyDB7uRaBNmjnBfNfINBM9t49wVMIXD+FxnzaSmvdibRT/MsIGh/xDkY/xYm0U3/4w39KkkRmwnOTf/e73x9NOeG/6m5wR19uCH+2mthPIb6Ie+GFgYat9RBpG/zjUV5ZI3fEiPMpyAQisai+ChtpMq/Giv1dftLf43YjTVaTKS//+osv/pmZzDeoU4vs/XkjTS6rqJ446SNm2qzZc8sqqln5K6pq+ac6TeaAEwXatj2R2e6/OcNidjxspMSin+K55/vnX7vJi1FRVctfO/t7OpjBJlda63hl5vYWFZfyTTr8PbPAyH4I7yjyx7JGwK+f4jJYZf4jRbxsFVW1nyz4jEHwtwvSSJO5X1WSpIc6dUr67nt5n6TSWqfYV+GtwPuAYSar6ctsXLNuA1u2JknSq38dcbPwjvemKaZgmL0890AbtPOC+S8QaCZzL4P3gcD1U4gzJjp06LBg4SK2g1FJaeXefT88Ed2LPUOf6fss24laUX7+8+PNlFSD21hRcemI115n1j3W4/EjR49XVNVmnr/IV9YZsAzYYJOJdvzZamI/xYXs3J5PREuSZOTmc4SzwSqfPpv5+t/eSNq7/8atYjaz9HLetTlz5/MNRP09cdrIji9BLR6ae3+KI0ePfzwjLiPzQklpJVvXk/bT6ZdffoU90Iyp7QZXbL58/aFOnVavWVdcUl5abo1P+JYv8P5kwWeKvWGxVngZNthkVlrRR2NA4xURGWyv+NYk9v0PWZejpLRy2/ZErrK/CRhscqW1bt78BV9+9Q/W7yott57JyHr1ryNYQ3744cgTaadERfwRNsxkPklEkqQVK1fJbeGbxUqS5NcOmGEmMxt5X0v0UxTcKPri78v5CPYvQ2LYT7Yci0/OGGmy6D5m7wJj3//wXFY2W5hZWm49f+HSp58tjn3/Q79+TNowkxX1LS4pP5ycwtsy2efbJ5qSRAyzl+cbaIN2XjD/BQLNZO/dEzyFwPVTVFrrko+l8k4A+3Uk/w0LC1u3YZOG8MHop6i01u3avZcP3ojJD3Xq5Nc5eAym8Y8VUUT+bDWxn4I/U4i+/FDsN4hwfBg2WGWxr8/N5IEnonudv3DJh9YpJmWwyYplMLefQrtik606FPl4f9JglYtLyhW/jMDqNtnRwHvrFFMw2GRWhvxrN597vj8zc/ee7xQL5qeTBtsrTvvijywx8FiPx03zWQQuGX9SiZay0Z24MTCP7/OAMSrrnDvAlwyIXwMJUpN5sXlfi0jMDw34rLIxKnOTi4pL+Z643EwS8HfvyzCTXerLPle0/4eDnI8/AobZywuv3Q8xYGTRjiYbYB3nLAaIydzL4H0goP0UFVW13+7c07lzF/IQYYdm/ZYhewn5+eKlcldFhw4d1m3Y5O9Xc+3+2pk/W41sb6SNic3PH2G+C4li3ZYkyd+/lMarLO44SKx+tt9zp86c8wdnkqbBKpPc2SHv/RvgcDReZY3+waTJU4zZJtZ4la9cLRgSM5TUakmSzP2NYb5Eset//Zcx7Zc3KOMl1vgu6SOPPHrwUDIvm58Cxps8d94n8iptWL/LsGeXOFdC49sW4pwL/82QMlhl3teSCy1JkjFaG2xypbWupLTiy6/+wSeMyG03zRoubX3Zcg9Tvh/S6IdIkmTAyML4Ws1NNsA6xd84YrL37gmeQkD7KRiLawW3/r585YABL7LHSlhYWJ9n+s6d98mFi5cVYfn8JKHv8/QVE6yoqk1NS//bGyPZjJLOnbuMj33/9NlMxcg+P9kuJnMr+LPVyPZmsMncRvlvJDtjPj9FpbXuwsXLc+d90ueZvswH17lzlxGvvb5r916/zrHk9cqwjq+Yozxsbj9FSWnF7j3fjXjtde5f7tbtjx9NmfbTyTPllTVyGv44Y3BbZiaUlFZs3rLtuef7s7r91FO9l36xzBi/THtVbL7XtZEPaka7XSQur6w5eCj5jZGjWN0OCwv7Re6/L195reCWP6oxSdN4k0mV7vF4zxkzZxnW7zKsVvN1W5IkaWx2Jq5EJtuUEKW8OTRYZbV+iJFaG2wyV+dawa016zbEDB3GZ2136/bHt95+14AOiWEmK+rboUOHfs89P3feJ6fPZhrw1tOwhsyVFXcUUuxgG/CDZZjE3Gr4Kbhfw+2A8Wpx2XwVMIEJ7qKAye4SC8b4UDkYVXO3zFDZXWLBGD/UVA41e9ulr9/uDQEqt7sEBhQAKhsAuX2zgMTty9+Y3InKbjsL1G8IgvkUxiDWyIXQ14hpmksw2TRSahgClTXgmOYSVDaNlBqGhJrKoWYv/BTbdu7XqP+muYSKbRopNQwJNZVDzV48rkXF1f0Peq/AT1Gn8TRhl0Ti+LF0iStII0DlIBXOrWJDZbdwBWlkqBykwukvNiTWzyp4Y0Ll4NVOf8mhsn5WQRoTEgepcG4Vm6is1wmhIx78FPBTKBAgFc6tyhqkkWFykArnVrGhslu4gjQyVA5S4fQXGxLrZxW8MaFy8Gqnv+RQWT+rII0JiYNUOLeKTVTW4X/QGwV+CoVROtGG0CdXTXkIk00pKzEKKhMgpjyEyqaUlRgVaiqHmr2YSIyprKTJm+YQbdk0UqoZAonVyJjpPFFZrxNCRzz4KeCnUCBAKpyZ2pKaLTBZjYyZzkNlM6mpZgtUViNjmvOQ2DRSahgClTXgmOYSVDaNlGqGQGI1MmY6T1TW4X/QGwV+CoVROqk6hD65aspDmGxKWYlRUJkAMeUhVDalrMSoUFM51OzFfArMpyBN3jSHaMumkVLNEEisRsZM54nKep0QOuLBTwE/hQIBUuHM1JbUbIHJamTMdB4qm0lNNVugshoZ05yHxKaRUsMQqKwBxzSXoLJppFQzBBKrkTHTeaKyDv+D3ijwUyiM0knVIfTJVVMewmRTykqMgsoEiCkPobIpZSVGhZrKoWYv5lNgPgVp8qY5RFs2jZRqhkBiNTJmOk9U1uuE0BEPfgr4KRQIkApnprakZgtMViNjpvNQ2UxqqtkCldXImOY8JDaNlBqGQGUNOKa5BJVNI6WaIZBYjYyZzhOVdfgf9EaBn0JhlE6qDqFPrpryECabUlZiFFQmQEx5CJVNKSsxKtRUDjV7MZ8C8ylIkzfNIdqyaaRUMwQSq5Ex03misl4nhI54Rvsptu3cH4x/nGQwFt6zMsNkz7gF111QObj08qy0UNkzbsF1V6ipHGr2kl5gcFVOj0sLlT1GF0Q3QuUgEsuzokJiz7gF112iyjzsfcBQP4X3xUUKIAACIAACIAACIAACIAACIAACIAACAUVA9Kp7XzD4KbxniBRAAARAAARAAARAAARAAARAAARAIHQJwE8Rutohm6s0AAAgAElEQVTDchAAARAAARAAARAAARAAARAAARAINAJB7KcIrpU2Yml5JZBC5h9MDgWpoTJUNiUBVGxTyioaBYlFGmYNQ2WzKivaBZVFGqYMQ2JTykqM4ioHt58iGHc3FYlLkuTMyjL93wMz/+cfTDar3FDZrMqKdkFlkYZZw6GmcqjZ68zKgslmbbyiXVBZpGHWcKipHGr24nEtjpr/Zyjp+f9/HY56nobmnWJxg/TLUqIJD9ob/BRmJIAnKSq2KQmgYptSVmJUqKkcavai4/tAcTN2PIhRqNgEiCkPQ03lULMXj2tx1KzpIdB1EX6KOpdTPETi+LE05c8GHiuo2KjYpiGAXpFppFQzBBKrkTHTeahsJjXVbIHKamRMcx4Sm0ZKDUNElcVRsy5XhGYk+Cngp1BYxiJWuAdhvMcwIwGojIptSgKo2KaUVTQKEos0zBqGymZVVrQLKos0TBmGxKaUlRglqgw/hWvPgsspEm5FEIk/UMKMQ1ZilFjhYDKBY5pDqGwaKTUMgcoacExzKdRUDjV7MePvgeLoepmRANqy6Ss2JDa9xOQXShw1a06V0HUR8ylcez1E4vixNGt7w5PUrMqKdkFlkYZZw1DZrMpyuyAxR2HiAFQ2sbjcNKjMUZg1AInNqqxol6iyOGrW5YrQjAQ/BfwUWPfxgIDYxh6EzfjighgFkwkQUx5CZVPKSowKNZVDzV78Qj1QHD/KZiSAtmz6ig2JTS8x+YWCn8K1Z8GtZR0uI4vE8WNp1vaGJ6lZlRXtgsoiDbOGobJZleV2QWKOwsQBqGxicblpUJmjMGsAEptVWdEuUWVx1Kw5VULXRcyncO31EIk/UMKMLm1ilFjhAsrk6oc6sz9SYO8PA9Zk701TSwEmq5Ex03mobCY11WwJNZVDzV7ytuqB+eiHmJEAKjYqtvkIoFabT1O5RaLK4qhZlytCMxL8FPBTBM26D+6k8IerQmxjD8Jm7AMRo2AyAWLKQ6hsSlmJUaGmcqjZCz/FA8Xxo2xGAmjLpq/YkNj0EpNfKPgpXHsWXC7lcCuCSBw/lu3Y3uCn8C18/Hj4lmdgpgaVA1MX35Yq1FQONXtJL/CB+WYcshKjoDIBYspDqGxKWUWjILFIw6xhUWVx1Kw5VULXRcyncO31EIk/UAL9g/YgQJwU1Q919q0QYhuDyr5lGzipQeXA0cJ/JYHK/mMbIClD4gARwq/FgMp+xRsgiUPlABHCf8WAxP5jGzgpiyqLo2ZdrgjNSPBTwE8RHOs+4Kfw+fNIfKw8CLeH+8ngTGGywcDbJTuo3C7YjcwUEhtJu73ygsrtRd7IfKGykbTbJS9I3C7YDc5UVNlUforyypq9+34YEjO0Q4cOkiR16/bH2XPmXb12Q74uo6KqNjUt/W9vjHyoUydJkjp37jI+9v3zFy7JY1Za665euzF7zrxu3f4oSVKHDh2GxAzdu++H8soaeWQ9MUXiD5TAcK49CMBP4fOKJz5WULF9jjdAEoTKASKEX4sRaiqHmr1Y94FfKL8+QNoxcbTldoRvTNaQ2BjO7ZuLqLI4atacKqHrYnvOpygqLp00eYok+/fII48ePJQs+hRKy62fL14aFhZG4j7UqdOWrfEVVbVi5IOHkh955FESU5KkSZOnFBWXehBTJI4fy/ZqCXI/hW+XfohtDCq3l8r+zhcq+5twIKQPlQNBBb+WARL7FW+AJA6VA0QIvxYDKvsVbyAkDokDQQV/l0FUWRw163JFaEZqNz9FWUX1vPkL5N4Edubpp/vk5F7lPoV1GzbJnRQs5sMPR55IO8Vjnj13/rEej6slu2zFl9ypoT+mSPyBEu0xm8DgTMUKFyAmw0/h8zoQgCr73EaSIEwmQEx5CJVNKatoFCQWaZg1DJXNqqxoF1QWaZgyDIlNKSsxSlRZHDVruiB0XWw3P8XJ9LMPPxzJHArTps+4WXintNz69T/Wcn/EipWrmPch90r+M32fZTFHjnwz90p+eWXNnqR9bAGIJElTpk4vq6iutNaVVVRPmTqdxXysx+OHDh8tr6y5cPHyi39+iZ18pu+zuVfy3YpZaa0TiT9Qwjs/ReOpU++9/LLlN7/Zt2wZSYpd2r5wITtvTUkZ+OST/JBH1hmNx/cgIFY4701uPn360FdfDX32WctvfmP5zW+G9++fvWOHWCpHZubFHTsmjBgRGREhSVJEx47vxMRc3LHDkZnJozWeOiV3VbCr2xcufO/llxtPneKRPQj41mReAEdmZt7u3ZNffz2iY0dJkqIffTRx0SJbRoYzK2vBuHGsWpL/Rj388NU9e9bPmhX18MP5SUk8KWdWVs3x48P79184fjxLQbzkQdhPJm9fuFBuUX5SUn5SUtTDD5NL7HDBuHElBw/2e/zxRe+/33bunGjLvmXLenTtmrd7t3jS47DPTWaNkRhFamPDyZMb58x58amnLL/5jSRJfR97bPWMGQ0nTzIrWDMnKbBDko5nVvvQ5PRNm+TlTN+0yZmVpf+xxqzQ0+Q9s9evM+STli7t+G//lvHNN2plu33gwMLx47tHPvhpi+jYcezLL/MmnL5pE2nR5cnJMX37zh871stnl/9MJoo//8QTKWvWiI9ltcbuzMpS+/1SQ+fWeR/Wao18XZqv8XjXSNazSwaYvH3hwoFPPmlNSSElzE9KGtCrF6vJcsX5M4E9Csi93hwaYDIrnkZdJXWAGetzSzklv5rccPLk6L/8ZeZbb5EfWZZ7TmJi1MMPZ3zzjZES++/ZxZGygPYvtdxk8qwmqXl56FeVedns586d3rz5nZgY1vnsHhm5bPLkuhMnWARicvSjj+747LPm06f57T4MGGAv++VlI4jIiIgvp04lv6ra3TAfGsuSMsBkscwagyxW8xeMGyfG90dYNFkcNetyRWhGajc/xYKFi9gT/6VBgwtuFDGXRGm5la8EGf7qiFtFJQ/cBNsTWczHejyedT6Hxayoql224kt2vnfvpy9dfuB9uJCd2/OJaHZyy9Z4PsniRNop7hPZvec7t2L6yU8hSVLvqKjC778XqwurT9wxofbbqTOamLK7YbHCPQh74ZqxZWQs/vDD2OHDSw4edGRm2jIyru3du2r6dP4QsWVkrJo+PfrRRw+sXMkGb42nTh35+uvoRx9dNX06H5AHqZ/ixPr1/Z944syWLbaMDEdmpjUlZV1c3PXvvvv/2Xv7oCiutG28/6bQKq3U7kNVdCp5DJSK8vgRVMQgkWhW4ge+wRgVjcYYPxITMGGNhnyAS7LkB3GNEkNEF1FJRIigQQVlRQQyzCQbE9evNcaoQUBUsq9PNpYr/DJ7P++p+zk90zPT06d7pvumLOtM9+lz7uu+zufV55zGLgWiuaEPSBKr589nPUePw1G0bl3i6NFXa2rw46rDGrKMbfA02OXiyCfh+/LzHxo40LFjB4sJ4kXRunV4asTuqghoDtlrH3C+svLxuLhX0tK+q6q619p6r7X18uef/37hwsfj4s5XVnIQThQXu50ncNH8+qkhZPlMm1kCfvClWet1Ou/a7XmrVo2IiqouKOCqfN6qVazKs8T9DWgIGWfNMGYtWSIf6N+12//81ltxw4cf2LABxoJ37fZvPvmEtXWc9243Nq5ITV2RmsoUK5yXv2FBkLHNd+32Y0VFI6KiDm/axMxTqOye+i/2bCABQXg5k7zC96V559JU/VMHyJ7YxDoFs58bh7DrGgZ0gAzWKpRVXAY0hOYpKdGQd+bkxA0ffmn/fs6AHocjPz09berUfxw/zm7pQLHOOoWn2Zqnks9coW1ANMu9TueN+voVqakLkpNPlpXdaWnpdTpvNzYe2LChqqAAsGDI91pbz1ZUJMfH561aJe/aAscuGu/p8vKk2NjqggJA2n3sWGl2trO0lFnu1zCMPRVIQDRkbJvyJAtqsaeSj9MJMIwhm0Gn+OHKtflpC0BQyM7JZYJCZ1d3+d7P4PrDsWO++uu3HddvvZq5Bq4sW77ialsni3ysoenBB/9TkqTf/vY/6o4e6+zqrtpfg59lMS9eupo6ew7OzveYgnSKlMTE8TExaxcvxoNyrlfw1Hf6GC2QMocLnCscgE7hLC1Nio294nlqXZabO3bYMPkL8ys1NdMfeYStOglFnaL72LEnJ02q2bhR2YFudYpep/NEcfHQBx9sKCqCx89WVIwaPJg5RDlNX+5qyDLODvd/+DoOu10C83NT0wuzZzP94l+trbkrV6YmJd2sr8fPBhLWHLJyH9BZV5eSmPjuiy/iat7rdN5rbf3zW2/JoYW6TuFLs9bjcOxav95tlT9dXj522LCy3NxAKBY38D21Z8+owYMz5s0bEx198X9LzL1OZ1lubkpiooKGiCc8MLCYkZDQXlsbIFh4XPOCDclim3udzh6HI2f58vS5c2E42Ot0KlR2T/1XMOPlbFOG72PzzqWp+qcgirE9ntgknYKtisLuEhEWzfLF6uox0dEVeXmc8Tfr61MSE7dmZeHr3FAT39IwLBoymKrcU3sq+RrCxEmJhgxDqdyVK9lbLpw7hOWQazdvnjhq1I8HD8ojB3hFKN47LS3pc+cWrlnj6W2Wv8OwAMHC40IhcxYqT7KUSz6XVCA/MWQz6BRnzl1gWzlggQPTFJpaWgcPGcLUB6xovJf/PosGH/VgiezYWdbZ1b1p8xYQI9haDIgvFzt8jylIp3j7+ed3rV9vi4g4+uGHrGRwvYKncZ6P0ViyKgK4wLnCAegUJ4qLk2JjO+vq3CbSdujQ5LFj8Qs6HK0iLy8lMRGmqaGoUwCDTGjA0HDYk05x125fu3gxzGZ/aW5ePX/+C7Nns3UoOAV1YQ1ZxgbI+z98F8JudYpep/NkWdmwQYNAi3Hs2BETGcktM5En5dcVzSEr9wFbs7IWJCf/1NAgNxLGhdx4MdR1Cl+atbZDh5JiY9mqMc4zFXl5SbGxbYcOcdf9+qk5yzBFh/eNX+/eLR/of19dPSk2Vrmms0nvXbt9a1aWsqjhF15x0gyzmdmzZe3aFamp//x/y4MVKrun/oslFUhABMVye5Th+9i8y5NVd0UHyJ7YJJ3CNDrFv1pbs5YsWTVnDjeDPVFcHDd8OCe/ckNNdeXW61M6FGy2M9HTW2VPJd+r8eoiiIa8Lz9/RkJCh6IILod8Zu/epNhYEUVdKF4opSVvv+2JC3+HYZ7S8eu6UMicJcqTLOUxKpdUID8xZDPoFM1fOOCTHOHh4QcP1WH1Ae/dOPD5oXPnLyY+OgnUh6KPt+GYFy5enjZ9Btwq3FLU2dX9+zVr4eeixUuu/NiOI7NtJgsXLrp8td33mIJ0iuxly2Ddb3J8/LXDh6FwcL2Cp3Gej9G0KnCuwheATnFqz55hgwZtzcriXilDmrWbNz8eF3f9yBG3WVzav398TEzL9u3QzYTc+RSwHfS5lJQbiisCPOkUvU7n99XV42NidubkHN60ye0raLd+8/EiblYCZBnnKO//8F0Ie9IpehyODatXT3/kkfOVlQuSk+UrEeRJ+XVFc8gKfcA/jh9PmzrV04S81+ksyMjAUz5YQRPS+z58adZqN292ux4BeIRFQwGKU5qzDEfDwPtGGOg/M20a3q9RkZfHLZmWF0s26fW0nET+iO9XRECGAon3af/S3Lxqzhz80lWhsnvqv3wHpRBTEF4uR0YZXOfg+9i8c2mq/qkDZE9skk4hYvLmtiTowPKRwsJRgwdjRNCmyc+t4Iaabg0O/KIOkC2lU0AztWXtWmVq5JW9Ii/vyUmT2AEWyo/7dVcoxVB6k+Pj5buZep1OFcMwv6B5iiwUMpep8iRLYYzKpRPgTwzZVDrF0KHRzV84sKCAhQlOpzjw+SEc8/LV9oULF7nVKX6/Zi2O2dnVXbilCGJyOoXXmOJ0il6n83R5+ZjoaDYZ43oFT+M8H6MFUuZwgXOFA9ApehyOstzc/n37LkhO5s7j6HU6S95+m63zl+cCC2s/+fc68FBcT9HrdJ6tqBgfE/PwkCF1hYX3/vcJkQyvgk4B68mHPvjgiKio0uxsTwvbWFJ+BTRkGecr7//wXQh70il6nU5YpDdx1KjpjzzCJDx5CuquaA5ZoQ/orKtLio1VmHJXFRQkx8fjXS2hvp4C3lYpN2tb1q5VGAx5avT8oltzlnudziOFhex9o72kJMpmY6dp/lor31y61NObOmY5THo3ZWbGREYe+3+budjdAAMiIHM6xc9NTUXr1j01eTLeq6JQ2TWh0pNbBOHlssM6hVv4vjTvXJqqf+oA2RObpFPgWb1qBn15UAeWYSkfFtBhWeuRwkLOQm6oyd3V6qcOkC2lU3gdeABxuLLftdubt22bOGqU5h0T5CWa4vba2tSkpCibbdf69dxCIa/ekA/DNCnYoiFjI5UnWQpjVJxI4GEMmXSKbtAgTKBT9DgcpdnZtogImMxwvYKncZ6P0QIpdrjAucIB6BTw7F93705JTOwTFvb7hQvxHpDsZcsUdAqM1K1OAdqTJEkKifhovOaQWb436uvXLl7cv2/fJyZM+HLnTrnWoKxTXD9y5IkJEyaMGKFwxgfLy6+AIMjcOdKSJMmncAo6BUgzkiRtysz0C44vkTWHDEWUlUMIQHWG75so6BRyVUJ+xRdQynE0hCw/+p7VO/ADEK3crClXeU+NnjJG7q6GkCFl2AHLjs+EF+n56elQlzF2zhL880RxcZ+wsN/07/9cSgpei4HjqA5rDhks4RgfERW1Lz8fDwQVKrsmVHpyiCC8XHZe4cN5dcrNO5em6p86QJazyVo2vKwGIODeWTUo5Qd1gAwGKJRVrgxoMthQQK0P5IKMDLwirKqggG2wxbbpQLG4PWsYCNMpWHnGPTWcs8Pdkg9auAQD+SmUZa8DD7Ccq+wvPf30DwcOBAJK4VmheCHfn5uaNqxebYuI4F4KevWGiEGXbqUa+9zTJMvH8QlOSl0Ys2wqnYIdgcmWPyjs+4BDKFhMhX0f3ImbnV3dnvZ9eI0pdD0FnMH7XEoKnEHA9Qqe+k4fo6kravAULnCucMA6BZwd2Lh16xMTJkTZbGwjd0FGBpvqyHOB9RRwQLFbnQIeUZ70ypN1e0UEZJzRDwcOvJKW9pv+/eVfNACi3U5o4RsfSbGx42NiNqxeLdc4cBb+hgVBxjq9J5MUKLtaU5MUGzt/6lT5B3E8peb7dc0hK/QBl/bvjxs+3C2tYHBVQQG3skBEl6khZPx6mfM554fbjY2emrWCjAyFLRKeGj0uO+WfGkKGjC5WV3NU7szJYedogIrhdVwL3vvLRx/NSEhQPuFMGZ3bu5pDhlww4/daW7+rqlo8fTr+RolCZdeESrdgdRsFeoXPzFNo3lmcAAOCKMZWeWKT1lOYaT1Fr9N5as+eCSNGnNqzp9fpVNgmwA01cVHRMKxDwWY6hadW2lPJ1xAmTkooZK8DD7CEQb7X2npgwwYRq/wYZKF4WS7wMey8Vav69+370tNPw8sAr96QD8NwgqrDukHGFt5rbZVPsrixGY6vbRhDNoNOYXd8FRPzX6BfVu2vYdJDZ1c3O0dz8JAhTS2t5y9ceuyxKRBz0+YtOCY+jBMSWff6GxBzftqCH65cY5HxOZqvZq7puH7L95iidQrY/RETGblh9erbjY3Pz5rF1uPBLJ39ZEWK6zxEDAdxgXOFtdApIJFfmptzV65kQ/yqggLl8ymmjBt3sqwMupmQO5+C81uPw3H0ww8fGjiQW2CpoFOcLCsbEx19orj48KZNwwYNAldwyar+KYhl1v8pGOZJp4CjQ1+YPbu9tnZBcjL3QRyFBH28pTlkhT7AU/1lphZkZHBbgk2jUyg0a1UFBW4/jAduCc7zKbZmZXFv2+AnOwZVWW8FaGzSy+2LYeUhkIDmBZuzmdkGkg2cGWS17330Op0cfOYWOGnVbfOO4wQSFkQxNslT0006hcl0Cui24AiDi9XVU8aNA80CFwY2t5cPQbloAf7UoWAzLFbQKbwOPIAvXNlhCSQ+LC9ATrnH9aGYZfrtp5+OiY6Gc5S8ekM+DGPpBBLQGTI2lZtkKYxR8VOBhzFkM+gUWH3gvuLBvkv6SMLEM+cuXPmxfdHiJTAofOnljGsdN5j6wL5LCopGZ1d30cfbIOb48fHfnDrLYuLvkoLY4XtMHXQKaCMGP/BAy/btWKf4Z3PzitTUgowMrgBBxavdvBmuh5ZO0et0YoHzhwMHEkePVvjex1OTJ8PnEkJ9PQWQ5fbVqyed4qeGhgXJyTnLl9+12+FDU9quGMfNiiuskRqF+z9PaXrSKQ5v2jRq8GD4SC18lhV/EMdTar5f1xyych/wQWamwvc+npw06cCGDdh4M+kUnpo1djQsBs7CeJ0Cu+hvQFuW4SAuJkmAMT0OR356Ojs2315SMmrwYGUZkekUvU7nsaKihwYO3LV+vVYrpLSFzByObYaL0FjBmUEW1Ck4+MxREHDbvHNxVP8URDG2x1PTTTqFyXSKXqeTHZq4NSuLtWO4MLC5PekUnFsC/ym0LkPf5GngwYznKvvN+vrUpCTNF+1CdkLxMkQ4gN8c+DsMw+moDusPGZuKJ1nKY1T8VIBhDNkMOsW1jhsvvZwBmsLsp+Z89/0V0BTa2rteTl8N19mOjPfy34cr8fETTn57BmJ2XL+V//6f4Pq06TMuXLzc2dXNlIvw8PA95ZVMpzjW0BQZGcW+depXTB10Crb7Y/Zjj6UmJeFeYWdOzvRHHuE+L2QvKUmOj2ef7gs5neJsRUXCyJEwpofJzIyEhKs1NVwlOV1enjByJJummkOnwO8xGF63OgXs+EgcPZp55nR5+ajBg8v+faooezaQAG5WXGGjdYqrNTWJo0cXrVsHk7e7dnvO8uUpiYn4QJMAjdQcsnIfcO3w4emPPFKanc0doXrXbn/3xRflqpOZdApPzRpU+THR0aBGYUJhoQErAPiWX2FtWbaXlCSMHMl9sa/X6XSWlo4aPBjeQ8I6oOVPPvmP48c9mYrn/D0Ox6716x8aOFCrc8u0hcwgYJvh4sXq6oSRI52lpfCTG+yyB2EJ7pRx43B3hu8GGBaEl7PKK3wuvtvmnYuj+qcOkD2xSTqF+XSKHw8enDJu3JHCwmemTWMvvbjCCeVZUBVmeelQsJnmYoX1FL1OJ2yelQ88mM/dSsz4LRGOGXhYH4qZnT0OR87y5Wyxqr/DMJZOIAGdIXOm4kmW8hiVezCQnxiyGXSKzq7uisqq8PBwEBpezVxz6XLb1baO9zd8ABfDw8MrKqtAaGg88QWoDJIkpaUtPHPuQnvnzV1ln94/YAA8/v6GDyDmpcttc56eCxdHjhp9uK6+4/otx5dfs50jc56ee+lyW2dXt+8x9dEp2DJpSZJwrwDfPlg6a9b31dU9Dsddu71l+/YJI0bgF3FBrlM4S0u3ZmX9ePDgvdbWHofjak3NK2lpa555hh3G9ktz8x9XrRoTHX1406Y7LS0wvTmwYUPc8OG71q9nE7xQ1Clu1tfnp6d/++mnDFdpdvbU8eO57ye51SlOlpUNGzRoX34+azjgm50antqAmxVX2FCdAmZ6cFALswTevWuo8WsO2WsfADuBf79w4dWamh6HAzb5v5KW9tTkyUyBYnhNplN4atY8VfmHhwxh20qZT1QENGQZvnnm9n0jrLNgp2n+4/jxF5966okJExqKiqC+32lpsZeUfJCZ+XNTE/ftjF6nE7SqMdHRbM6vAil7REPILE3O5h6H47uqqqenTMGtt6eZrfl0Cjl8H5t37M9AwoIoxiZ5YpN0CvPpFNCyPTtjxpOTJrGXXrgwsLk9HpFyETT5qUPBZlgsolOwI0heSUv7rqoKRtE36+sr33sPjntzq1PA+dCr589ng3NN+BV9nNDPTU0fZGbaS0qgn73T0nJw40YspjNv+DgM0wS1PqUaTFWeZHkdo2qCl2PZJDrFd99fmf3UHNAU5P8/u2Tp5avtoD7gRRbymFOTnzhz7gJbOrGnvJLJH1zk+wcMwF829T0m9rir8AU2nfNUaOD9OadTwKR9w+rVI6Jc60H69+27aPr0r3fvxquFYZbLgfXUHPtovIZ17HZj46716x+Pi+sTFtYnLOzxuLi9eXlcO3ivtbV527ZnZ8ywRURIkhRls2XMm3e6vBzDDEWdgsM1IirqnRdekK8OkOsUsOPjhdmzoeVlrIFupdWpDRqyzCyE/o8rjZIkccdJyvd9HN606aGBA7lo8O0PDQ/m0BwyVGcO75Rx47qOHmU+6Tp69IPMzISRIyVJgiqwa/16t198CH6dgkPK2it/mzWuakTZbE9PmWKLiPgkN5dJk8yB/gY0ZLnt0KGk2Fhu0wezZ2tWFj4n/5fm5oMbN6YmJfXv21eSpBFRUa8/+yz7GLP85fztxsYVqalul5awLHwMaAgZ58h97CBh5Mjdf/gDbr25Q+OheEAtFtExMdsE4WXpQ0AZPleGPTXvXJqqf+oA2eI6Bde4wSBKXm1VM+jLgzqwzMywl5RE3HcfU1rZdRaAVp10CuYQrQL6sCwfeGzNymIDD7eVvaGoKMpmY6uYQwJvj8Nxurw8Y968KJuNTR9Yt8sgyL3haRjGHgkkoA/FYKHyJMvT2CwQdG6fxZDxrLk34D8p4BS8JIDN3fHp/yyRAFnhi9YvJyY+yvUNkiRNnzHzb2fOM+mhs6v7zLkLqbPdiBqxY8Y2f+HAMdvau955N08uVfTr1++jj4s7rt9ikX2PiSG4mAhMpwiJx3GBCx7Ins7R1MSlwQlZE2ieEiHInjxjpuuhwvJdu31rVlafsLA1zzyjsHvCF2pCBbIvWHyMYzXIVsPLva1ywadxiBk9QAWbCrb5PECl2nycyhFhlvGs2YtG4MNtI3UK2H+R915+XNx4SZLCw8MfnZS0pWgrW0nBNIXOru6rbR3btu94dFISaBBxcePfeTcPjqXA0Tq7ujuu3/pLw4l589NgY8igQQ8tX7GSk5zuqCMAACAASURBVDPgER9jYo/T+EBeOnW7QjqFtq7GzQoVbG19GzyphRDL91pbS7Oz+4SFpSQmcnuj/PJnCEH2C5dCZKtBthpe0ilcjJtRmOBAUcHmHGLKn1Zj2Wp4qbnGs2YfhAgvUQzWKTiJITh/Yo9TZ2lgt0E6hbbOp85DW38GZ2rEcnDyoq1VVmPZanhp4OtinHQKM3qA6rLpCzZRbHqKuR4Kz5q9iBA+3CadoturOII9Tp2lgfWNdAptnU+dh7b+DM7UiOXg5EVbq6zGstXwcqNAF3wzTlk5UMQy5xBT/iSWTUkrBkUUY2+YNYxZxrNmH4QIL1FIpyCdwimvNrjAucLBMSQinUJbIoKTZW0xcqkRZM4hpvxJLJuSVgyKKMbeMGuYWDYrsxgXsYy9YcowUWxKWjlQmGXSKbwrC16XSPgVAXvcxURwTNqFmoELXPBAJp1CW9KDk2VtMXKpEWTOIab8SSybklYMiijG3jBrmFg2K7MYF7GMvWHKMFFsSlo5UJhlPGv2sljCh9u0nsK76oE97mKCdAqDPEA6hbZlDzcrVLC19W3wpEYsBw8X4iyxGstWw0v7PqiHEtd6GJsy1WVj/a9D7kSxDk42PAvMMp41+yBEeIlCOgXpFLTvw+UBXMdcYYO0GD3zJch6etuovIhlozyvZ75WY9lqeKmHcjFOnbIZPUB12fQFmyg2PcVcD0U6hXdlwa9tHV4jY49TZ2lgfaP1FNo6nzoPbf0ZnKkRy8HJi7ZWWY1lq+HlRoEu+GacsnKgiGXOIab8SSybklYMiijG3jBrGLOMZ81eFkv4cJvWU3hXPbDHXUzQ+MAgD5BOoW3Zw80KFWxtfRs8qRHLwcOFOEusxrLV8JJOQT2UuNbD2JSpLhvrfx1yJ4p1cLLhWWCW8azZByHCSxTSKUinoH0ftO+jl0aBhrfyggzAnQexLMjJhidrNZathpd0Cmq7DG9kBBlAdVmQY4MnWaI4eLgQZwlmmXQK78qC160cfkXAHqfOUlwp95oyrafw6iK/IuBmhQq2X64LocjEcgiRpdpUq7FsNbykU1APpbpxCPIHqS4HOUGBm0cUB+7D4E8Bs4xnzV4WS/hwm9ZTeFc9sMepszSwtpBOoa3zcbNCBVtb3wZPasRy8HAhzhKrsWw1vKRTUA8lrvUwNmWqy8b6X4fciWIdnGx4FphlPGv2QYjwEkVvnWLHp1Wh+I95UbLMXxBClusU2rIRhJC1BShPjSDLfWK+K8Sy+TiVI7Iay1bDi0eBcvbNeoVYNiuzGBexjL1hyjBRbEpaOVCM5RDWKRgGCpAHVHhArlOoSIQeIQ+QB8gD5AHyAHmAPEAeIA+QB8gD5AFtPUA6hbb+pNRCxgOkU4QMVWQoeYA8QB4gD5AHyAPkAfIAeYA8YCUPkE5hJbYJK/IA6RTIGRQkD5AHyAPkAfIAeYA8QB4gD5AHyAPB4oEQ1ilC8WQKsJmRz+3GMfHPIIQs1ym09X8QQtYWoDw1giz3ifmuEMvm41SOyGosWw0vnU8hL/OmvEIF25S0cqCsxrLV8Fq8uQ5tncKvD4IGSWTscVfhczpN/4+rY0GCV65TaGhYcELWEKA8KYIs94n5rhDL5uNUjshqLFsNL33vw8U4Db3M6AGqy6Yv2ESx6Snmeig8a2YSleqA3t/7CBLpwS8zsMepszSwvpFOoa3zqfPQ1p/BmRqxHJy8aGuV1Vi2Gl5uFOiCb8YpKweKWOYcYsqfxLIpacWgiGLsDbOGMct41qxanmAPkk7R7VWzwB53MUHjA4M8QDqFtmUPNytUsLX1bfCkRiwHDxfiLLEay1bDSzoF9VDiWg9jU6a6bKz/dcidKNbByYZngVnGs2YmN6gOkE5BOoWbbSy4wLnCBgkTXL6kU3AOCfBncLIcICjlxwmysn/McZdYNgePCiiIYgXnmOYWsWwaKhWAEMsKzjHHLaLYHDwqo8Ask07hXVnwukTCrwjY4y4mgmPSLtQMXOCCBzLpFNqSHpwsa4uRS40gcw4x5U9i2ZS0YlBEMfaGWcPEslmZxbiIZewNU4aJYlPSyoHCLONZs+plFOxBWk/hXfXAHncxQTqFQR4gnULbsoebFSrY2vo2eFIjloOHC3GWWI1lq+GlfR/UQ4lrPYxNmeqysf7XIXeiWAcnG54FZhnPmpncoDpAOgXpFLTvw+UBXMdcYYO0GD3zJch6etuovIhlozyvZ75WY9lqeKmHcjFOnbIZPUB12fQFmyg2PcVcD0U6hXdlwa9tHV4jY49TZ2lgfaP1FNo6nzoPbf0ZnKkRy8HJi7ZWWY1lq+HlRoEu+GacsnKgiGXOIab8SSybklYMiijG3jBrGLOMZ82ql1GwB2k9hXfVA3vcxQSNDwzyAOkU2pY93KxQwdbWt8GTGrEcPFyIs8RqLFsNL+kU1EOJaz2MTZnqsrH+1yF3olgHJxueBWYZz5qZ3KA6QDoF6RS074P2ffTSKNDwVl6QAbjzIJYFOdnwZK3GstXwkk5BbZfhjYwgA6guC3Js8CRLFAcPF+IswSyTTuFdWfC6lcOvCNjj1FmKK+VeU6b1FF5d5FcE3KxQwfbLdSEUmVgOIbJUm2o1lq2Gl3QK6qFUNw5B/iDV5SAnKHDziOLAfRj8KWCW8axZ9TIK9iCtp/CuemCPU2dpYG0hnUJb5+NmhQq2tr4NntSI5eDhQpwlVmPZanhJp6AeSlzrYWzKVJeN9b8OuRPFOjjZ8Cwwy3jWzOQG1QHSKUinoH0ftO+D9n24qQWGt/uaGIA7D1fYoMNl9MyXIOvpbUPyIooNcbvOmRLLOjvckOyIZUPcrmemRLGe3jYqL8yyqXSK9s6blfv2T58xs1+/fpIkDRs2/PWsN8+cuyDfl9Fx/dZfGk7Mm592/4ABkiQNGvTQ8hUrv/zqG3lMduVqW8efNm6GlA98fohdx4Ez5y68nvXmsGHDJUnq16/f9BkzK/ftb++8ieNgj7uYoIG+QR6g9RTalj3crFDB1ta3wZMasRw8XIizxGosWw0vraegHkpc62FsylSXjfW/DrkTxTo42fAsMMt41qx6GQV70Mj1FJcut72cvlqS/Q0dGl1zsBYrBW3tXe+8mxceHs7FvX/AgO1/Lu24fgtHhvCXX30z+6k5LL5bnaLmYO3QodEsDgu8nL760uU2lib2OHWWBlYG0im0dT5uVqhga+vb4EmNWA4eLsRZYjWWrYaXdArqocS1HsamTHXZWP/rkDtRrIOTDc8Cs4xnzUxuUB0wTKe41nHjzbeymTTABeLjJ5z89gxTCj76uFguUsAjkZFRxxqaWMz2zpvHG1ueXbKUiy/XKb5o/XLkqNFcvuxn/vt/YvIH9jh1lgZWBtIptHU+blaoYGvr2+BJjVgOHi7EWWI1lq2Gl3QK6qHEtR7Gpkx12Vj/65A7UayDkw3PArOMZ82q5Qn2oGE6ReOJLyIjo0AXeDVzzXffX2lr79q0eQvTF97f8AGoD9/+7ewjCRMhZlrawm//dra98+bein2wAUSSpNWvZF7ruAGRz52/mPjoJCY3sACnU1zruLH6lUy4O3LU6IOH6to7b3719anHfzcVLj6SMPHbv52FNLHHteosf25qen7WLGaeJEljhw17/dlnT5eX9zgcuMDtzMmZMm5c19Gj+GKv0ylPQZKk52fN+rmpiYup4icucJpA3pmTg8FG2WzPTJtWu3nzL83NcvPutbY2b9v27IwZtogISZJGREXlp6d3Hzsm1ynS587VBK/mo0A5O574Bfi/NDcf3LgxNSmpf9++kiQljBz557feYtBu1Ne/88ILUTabJEmTYmOPfvghV0jkPvTlirYsawi5x+H4cufO1KSkPmFh/fv2fenppy9//rkviLzGMRZy19GjH2RmJowcKUlS/759n54ypXnbNjmVvzQ3r54/322t9wpQHkFDyF1Hj04ZN84WEeHYsYPLCG6dKC7mrvc4HPnp6WOioy9WV3O3oMBkL1vGrvc4HLvWrx87bJiztJRdVBHQEDLkDtVz5sSJfcLC+oSFpSYl/XX37l6n82pNTeLo0VuzsjgjL1ZXTxk37mRZWa/TCU3f6vnz5W3dzpycoG2xlbsYrj3HbTuUARwBe4xzlOqfmlPc63T6Uj0VyrOK2uEXfBGQmQFgPOZRkiSom1BP+4SFHSksZPFxAHwiSZK8+uNoKsIiIN9ubNy1fv2k2FhohJ9LSWGdy9mKipjISDkKrnHjfBVls/3plVdYZ60CJn5EBGR518yNFX84cCBn+XIYYLiF42lIhi1XHRYBWW4MxxoUddb7KJQKeVKBX9EHMseaLSLi2Rkzvt69mw05ehyO0+Xl6XPnwkh7THR0WW7uXbs9cIBcCjrg5Qo5dDpf7tzJwPY6nbrh1XxCwfkTeqsp48btzMnhboEf8HVPoxfuwcB/YpbxrJnJDaoDhukU2Tm50FJMTX7i/IVLoAi0tXexnSCps+dcvHS1s6t7x84yiDly1GjnlychZsf1W/nv/wmujx8f/82p/9EUmE4RHh4+M2XWgw/+J8ThdIqv/vrtw7Fj4Nb2P5dCmp1d3ccamph6Ur73M9E6BWsl77W2dtbVbXvjjaEPPpi3ahVuKZR1CpZC4IUMp4ALnCsc8IEUHIr/e/x4Q1HRExMmpCYltdfW4vRv1NevSE1dkJx8sqzsTktLr9N5u7HxwIYNVQUFcp1Cq1G+5s0KNBaMHQV+e53OS/v3z3r00VfS0i7s2wfU36yv3/bGGzBb+6mhYeETT5RmZ//c1HTXbj+8adOIqKh9+fnYaerC2rKsIeSb9fUfvvZax78Lxk8NDW8uXZqSmNhZV6cOJn7KKMg9DsfBjRvjhg/f9sYbXUeP9jgc91pbv6uqyk9Pv1lfjy3sdTodO3bYIiKCVqeQJCk1KYkzmxvKM0TXjxx5PC5OkiT5ZJ4rML1O57GiopjIyGNFRexxdQFtWb5rt7/74osrUlOv1tT0OBx37fZzlZUfZGbCzGRrVlZSbGzboUPMVJi2ZS1Z8q/WVqZT9AkLk9fZkNApWCPGAOKAfFQEd3GDf6el5ZPc3DHR0SDc4MdVh7Wl2PfqqVCe2UTI99rhF3xtIXNZg/F4dMsiAMWSJK2aM0eutfU6nRerq8dEu/bPymf4LBF1Ac0h325sXDl7dvayZdB83WlpsZeUFL/xBpjnl04BvupxOH44cCBt6tS1ixfjYZs6vJqPQ8AMeUuLzTtdXp4UG1tdUADDre5jx0qzs7FSrDAkw+moDmvOsltLFEq4cqlwm1qAF3WA/I/jx1986qkFycnffPIJlMw7LS0ny8pyV65kffexoqKk2NiW7dvv2u09DkfX0aMfrV37988+CxCd/HEd8HKF/E5LS1VBASc76oZXUEXGjvVUnrkeWXn0ghMMPIxZNoNO8cOVa/PTFoBMkJ2Ty2SCzq7u8r2fwfWHY8d89ddvO67fejVzDVxZtnzF1bZOFvlYQxPIEL/97X/UHT0G18+dv5j8xLSM1a86vvy6+QsHO36C0ymq9tfgXFiaFy9dTZ39P6daMMOwx11MBDxpZ6+q5EPA0+XlY4cNK8vNZbngAR+7qJACjqM6jAucJpDdorjd2LgiNfWF2bPZu4ifm5pemD07d+VKt+Oh0NUpGBFyfjvr6p6cNKk0O/vev2c1LCYL/NTQ8M0nnzBVuMfhKFyz5plp0243NrI46gLassz1E8wkFZDZsxD48eDBiaNG1W7ezF1X8dMoyCeKiyeOGvXtp596tfnnpqb0uXNTEhODVqdYPH26LSKiaN06ViaZui+fqBwpLBwfE7Nk5syUxEQ2PAIncAUGysmu9etxsl7d5TaCtiw7S0uTYmOv1NS4zaujtnb6I4/gCd7ZiorJY8eeraiA+DtzcsZER89+7LHE0aOv/u9ELKJTsN6qICPDrQ9VXNSWYt+rp0J5hoGjX7XDL+DaQuay9jTqZdxF2WyjBg8+tWcP92Cv07k1K2vy2LHclEAeTcUVzSFXFRTM+93vuo8dc2uMCp0C0jlRXDw+JubS/v1uk/XrouaQGYPy0Wav03mnpSV97tzCNWs8tbrKQzK/oHmKLAKyPC+FEq5cKuRJBX5FNGQYWnsaSIP93ceOPTlpUs3GjYHD8ZqCaLxuC/m/WltfW7TotUWL4IWBnniDR6dQHr14Jc6vCJhlPGtWvYyCPWjMeooz5y6wrRxs2QKIBU0trYOHDJEkCdQHrGi8l/8+ExQ6u7pxIjt2luFbEFbQKTZt3gI6BVu1AY+4lUWwx11MiNQpep3Oirw8PKZ3O8N3Wy01MQwSwQVOE8ieUFysrk4YOdJeUgL57svPn5GQAC/S5XBMoFNw/PY4HBtWr/Z3VUhDUZEmk1htWeamnZg+XKRVQIYRxidIvMOJ+xU2BPLN+vrUpCQ8lVWw+fCmTa+kpW3NytKEYm37SyDiz2+99e6LL8ZERp4uL2dA4BanU/zS3LxqzpzXFi1q2rYtymZj1RyewgXm0v79T0yYoKDWsYx8CWjL8oni4qTYWIXlPDtzcliL/a/W1tyVK/PT09m4H5q+4x9/PCY6Omf5cvzS1To6BQwZc1eu9IU+X+JoSLHv1VO5PPtbO3yBieNoCBknC2Ew3m0bBfU0Y968Z6ZNwwUbHrxZX5+SmJi9bNmowYO56i/Pxd8rmkPemZOzZObM/z5xwq0lqnWKk2VliaNHa/IiWnPIymNFILfk7bfdOqTX6VQeknl6yq/rIiDLDVAo4cqlQp5U4FdEQ/aFNXBIQ8CrF33xhmi8ngp5ydtvs9G1nni1HXe59bCn8gw1mrXkXkcvbhNXdxGzjGfNTG5QHTBGp2AKQnh4+MFDdVhiwDsyDnx+iO3jkCSp6ONtOOaFi5enTZ8BckPhliJ8C8IsF0mSuPUUv1+zFh5ctHjJlR/b8bNsQ8rChYsuX3Xdwh53MSFYp/j7Z5+Nj4lh6+48zfDxKF8Tk3AiuMBpAtkTin82N69ITYX3bDAK3LJ2LbYEh82hU2B+YZDn70qBT3Jzn5w0ydNLIewx5bC2LCsUyAAhw25/t6/ylAHK7xoC2V5SMmXcuB8PHpTbw125WlPz5KRJZysqPNUXLr4vPzWEzLrG9traGQkJz6WksEU9cIubqFysro4bPvxIYeHtxsZnpk1jWyHAbFZgILV3X3wRz+F9geYpjoaQe53OU3v2DBs0aGtWlifzoBZX5OX1Op1nKypmJCR8jw7jACqvHzmya/16W0TE0Q8/ZGZbR6e4WV//5KRJng44YA7xPaAhxb5XT+Xy7G/t8B0sxNQQsjxrZrz8FqunFXl53BYnJrs3b9sWEuspjhQWPjRwYM3GjUxGxHhV6xQVeXmarHAUNL1hDGKwEP5Xa2vWkiXJ8fFuF4N4HZLJE1RxRWjBZvYolHDlUsFS0DAgFDLQrTCQBiDQKT+XknJDtvNUQ6SQlFC8kIW8kEPpZYv49MQrqCJjXjyVZ/AD0ym8jl5wmgGGMct41qxanmAPGqxTDB0a3fyFA8sEWJjgdApOa7h8tX3hwkUB6hS/X7MW597Z1V24pQjSNEqngPLH5q6eZizyahlgIcOP4wLnCgcszXhC0et0Zi9bBkuzOuvqkmJjuakOy1ouUty4fxDTSlk01QFtISuwg/k9s3dvUmwsWyLui/E/NTQsSE6Wv9fy5VkuTvBDvtfaer6yMm3q1LLcXLcjSw6R15+GQMaivoKFcHwm7KdQqC8KKbi9pSFk3DUeKyp6aOBAtk0DbnGVd2tWFltoUJGXx52mCXUkY968FampK1JTmeThFoVfFzWEDIdvleXm9u/bd0FyMhYgsEn78vOfmjz5+pEjWUuWcDtiGJWwFndGQgI7kcciOgUcMfPS008HJ8U+Vk/Y4KBQnv2tHbj8+BLWtlRzOWLjuVusL4MtTqDHQRwY+m/NyvI0w+eS8ven5pDv2u15q1b9pn//3y9cKF8h5QkF17hhX91rbW3Zvj0pNlar99KaQ/b0qplx0V5bm5qUFGWz7Vq/nttvqzwkYykEGBABWW4SZo27q1wquMia/BQK2XfWzlZUjI+JeXjIkLrCQk/7joMfL1jImin4ebuxsWjdupTERNbbwlsEffAGj07R43B4Hb1oQjEHmXSKblAWzK1TMD2MDXO5wgTVEiQV9j83T+Ae8f2n5s2oJxSgU4Dc4GmUAGbLdYrsZctCV6cAfk8UF8dERvquU/zS3Jy7ciWe6vjOqTymtixz/QTODg8RfIQMhUGSpN/071+0bt2vUx2coOqwIZB9KajwqYtnpk0DpAr1xV/sGkLGPN6123OWLx8THX2+stLt+RSwHZQdn9l26FBSbCye5ECB+U3//twqA38ByuNrCJkl/tfdu1MSE/uEhbmd4dysr39q8uQ/rlo1c+JE+SEUbAvP6fLymMjIvFWr2BGbWrVgIiD70sVAHNZbMXfh7338esJiUmzs8Y8/1nAorCFeX6pnr9PptTz7VTuYo3wPaAhZnikYzwYSkiSxjgk37FuzsvDCAXtJSXJ8fNuhQ8p9tzw7H6+IgNzjcBz98MMJI0b079u3ICMDa2eeUIBz2OCK89Vv+vfPXrZM/kU2HzFy0URA9lqRf25q2rB6tS0igpuyenIIZ3OAP0VAlpvEsYZLOIjRnkqFPKnArwiFLGeNw85Kcq/TeaO+fu3ixf379n1iwgTu6xiBw2QpCMULuXCFHI7QwrUboumDl5u0u+AH/K6XSwE4lfe8bntk5dELl7Lqn5hlU+kU+AhMUB8U9n1wh1Bosu+DO5uzs6vb8H0fUP5YU+JpxoJHD6oLlqcHcYHTpI55QgE6BZzwdGn//rjhwxlwbJtcpMACB46pOqwtZAV2ML/O0tKxw4b5qFNcO3x48fTpKYmJbpdoqgAe/JDhDOqCjIzxMTH4NAQVYOERQyAXZGR4nY46duyYOGoUw6hQX/zFriFkrmu8dvhwcnw8fHETl2qw0F5Sgst2j8ORs3w5nuRAHXn7+efhW6S+HDLqI3YNIeMc77W2Nm7d+sSECVE2m/z16eFNm/qEhcnHDZjKHoejNDubfdjVIusp7trtf929Ozk+Pji39vhSPXudTq/l2a/agcuVj2FBpRpy54zHJuG+7GpNzeNxcXDQDCyr3rB6dY/DIZ8a4RRUh8VB/qW5+cCGDb9Oy8fHxLD+1xMKrnHjfHWzvn5TZubYYcNY660ar6DpDWZQwbauo0fzVq2CD4HDBE9hSKaQjr+3xLGMLeFYw7dY2G2pYHc1DAiFrMCapxL+w4EDr6Sl/aZ/f+5rg1pBFooXjMSF/NfS++bSpQrv80TjFVSRMR2eyjP4QT4OUR694JRVhzHLZtAp7I6vYmL+C8T7qv01eOcFO0dz8JAhTS2t5y9ceuyxKRBz0+YtOCY+R5NLBKIpnE+x7vU3IM35aQt+uHKNJYvP0Xw1c03H9Vv6n09xsqwsYeRI1nfiYS4uQLha4uuahHGBc4UD1gI9ofjH8eNpU6dCpYIXVvIK5hJ97x/E/QtdnQLze2n//vExMW6lGexz+Gze0AcfzF62TK4Q45h+hbVlWaFAqoCMgcAe2vS5c+HDafiWv2FDIFcVFDweF3f9yBFP1rbX1qYkJvrylR9PKShc1xCyvGs8+uGHtoiIffn5cIuVZKAMv56FcMR997HTNFmBgU9n/fpRDE0G+qKHCLCmSb5R39MQkGv6bjc2PpeSAp+utIhOAYXTXlIyPiZGk7MGtaXYa/XsdTp9Kc++1w6F2qpwS8OKLM9FbjyLw+opvHbOT0+Hg2ZO7dkzZdy4i/8+isVT4WeJqAsIhdzrdP7j+PHlTz7JxFNPEzyucZP7CiQbTY6JFQEZM+iViG8//XRMdDSsg1MYknlNx/cIIiDLc5ezJo8DV7hS4SlaINeFQlZgTaGewjqjhwYO1PAUIeYioXghF66QQz/LHVzN7GEraATh1baHwmazsCeWwQ9up1G9Tqen0QtLNpAAZtkMOgVWH7iveLDvkj6SMPHMuQtXfmxftHgJjHFfejnjWscNpimw75KCosGus4CCTlH08TZIc/z4+G9OnWWP4O+SMlkEe9zFRMCTdoUdgz0OR356OryihIy4YS7LnauW7LomAVzgNIHsCYW9pGRSbCzs+gbsC5KT5Yv8OZHixv2DQlSn4PiF8Y3yp9dhg1mUzXZgwwYNF05r3pJ6KpAqIMvLsFYzOm0Lto+Q4fi9w5s2yXHBFW6RPJ7eu/2YnKd03F7XELJ8qAe7PxJHjz5ZVjZl3DimU/x48OCUceOYJAGGQWlnR6tg78nPbnCLxceLGkJ2m6Pb+YynIaC86YPdH0Xr1pVmZ3tdaOPWAPlFEZAxQfIc4QrEkY+K5KjPVlSMGjy4Zft2T0n5dV1DvF6rZ6/T6Ut59r12+IWURdYQMkuTBeTGs1tcMThbUZEcH/9dVRUTLGDjd0ico8lAsQBe0nizvj45Pr6qoIDdhcCl/funjBt3sqwMfrr1VfayZStSU//Z3Mw96+9PESxzDHo1ia0wUhiSeU3E9wgiIMtzd8uaPBpcwaXCU5xArouG/EFmJlPfsJ2eOimIAx+pDXzIgXOEsGi8bqdUjh07YiIjHTt2yO0RjVfz0bUcAv4EAb4L+gU73xDfgrDb0Ys8moormGU8a2bHYaoOGHOO5rWOGy+9nAHD8dlPzfnu+yugFLS1d72cvhqusx0Z7+W/D1fi4yec/PYMxOy4fiv//T/B9WnTZ1y4eJlpDSygoFMwjSM8PHxPeSV75FhDU2RkFPsqKlzHHncxIUynAEUTL//udTrlAz4wwN++xy+zcYHTBLJbFFdralISE9lRfL1O59WamqTYWPnnCc2hU7jl92RZ2Zjo6KMffujpnEgYRmMv+UWlQmRtWXZbINVB5myGl5nc1yK4OD7+NARyj8NRtG7djIQE7uQCBZvd1heF+Aq3NITsdqgHuz+WP/nkhBEjmEIh4AAAIABJREFUmE6Bv0SLbasqKGArEbgCA1/90ORATQ0hY+NZ+GxFRcLIkWzeAtc9DQHlVMLuj5jIyJfnzrWOTmEvKUkcPToI96z5Uj19Kc++1w5WkPwKCC3Vbo0H87h6ylrjlMRE9g0mT4XfL4DyyEIhQ3YniosTR4+GjzHB3jR5leQ+5yH3FSiw7MsCciC+XxEBmWNQ2RhwAhxtrjAkU07Er7siIMsNkLMmj8Ou4FLBLmoYEA0ZVmjKB9LK9RTKidcPhajwg2i8bnWKu3b72sWL8VfJOMvF4dVBp4C54fRHHumorcW42JlB+CIOux294Aiqw5hlPGtWLU+wB43RKTq7uisqq8LDw0FoeDVzzaXLbVfbOt7f8AFcDA8Pr6isApmg8cQXoB1IkpSWtvDMuQvtnTd3lX16/4AB8Pj7Gz5gQgMOKOgUly63zXl6Ljw+ctTow3X1HddvOb78mu0xmfP03EuX23TTKe7a7Rf27Xv7+eenjh9/Zu9eXFDkw1y461ffgxP0JYwLnCscsDSDUcChA7vWr08YOXLPu+9yawRO7dkzYcSIV9LSvquqgls36+tDXadQ4LfH4fjLRx8NGzQob9Wqa4cP9zgcPQ7HtcOHt2ZlwbdpYWonP5w8cFK0ZZkrkAFCPrBhA+xwud3YWPzGGyFxPoUC5F+am/+4atWY6GiG667d/rc9e/LT02+6+yoYri8BEq0hy56Gekc//DDivvt+PS4RdAr4CgBbN4Ht//HgwYmjRsFpmlyB6XU6T5eXj4mOfmvp0p+bmvBT/oY1hNzrdDpLS7dmZf148OC91tYeh+NqTc0raWlrnnmGOxvf0xDQLZWwKlWSJPmkyF+wEF9byJCmnCC5bRBHeT3FvdZWx44dj8fFfZCZ6UmNlaesfEVbvMrV08fy7GPtUMalcFdbyFxGnox3OwE4WVY2+IEH8KpPT4Wfy8Xfn5pDriooqHzvva6jR3scDviY1Lzf/Q4Xy/OVlWOHDXvjuedg9H+npaW6oODhIUOOFRUx4zlf/dTQ8N5LL02KjdVEg9McslsGGZafm5o+yMy0l5RAk3unpeXgxo0JI0fC2AOiuR2SVb73nnzhCUvWr4AIyHIDONZwBK+lAkfWJKwD5LMVFfKBdNG6dbaICFjUdrO+Pj89/dtPP4XttLcbG0uzs6eOH69JMea8pANet70VfJVzX35+r9OpJ159dIrOurqUxMSls2Z9X13d43Dctdtbtm+fMGIEfqnp4+iF40vdT8yySXSK776/MvupOaAUyP9/dsnSy1fbQSbAiyzkMacmP3Hm3AUsT7Cwgk7R2dW9p7ySCSVcsvcPGIC/gYo97mIi4Ek76zlYvraIiNmPPVaRlycfoMvXhMNB3FAtWQoQYAfLB2gkLnCaQMYo+oSFTYqN/f9efrnt0CG3dnYdPfpBZmbCyJGSJPUJC3s8Li5EdQrGjgK/4IEfDhzIWb58RJRrLU//vn1Tk5Iq33sPJkLYdSxBNid060AfL2rLMlcgA4F8o77+nRdeiLLZJEkaERX1zgsvaCXTGAj5Xmtr87Ztz86YYYuIkCQpymZbNWfO17t3u525uZ3c+kgrF01DyJ6GevDigpXJU3v2jBo8mNv0AVbBy9hVc+b80tzsdmBxrKjIFhER4IGLGkLudTpvNzbuWr/+8bi4PmFh0BztzcvjRAqFpe+eqITJXvDrFLjNkSSJ62KARLc6BXsQnKbtp++0pbjX6VSonj6WZx9rB1c9ff+pOWScNRjPKIMAFE55PYUvKOMKHio6BR5aQD9bv2UL96aks64ua8kS6H1sERHpc+dyXyPmfBVls2UtWRKcPRRQzHXNQC5U5B6H43R5eca8eYA3ymbLmDePwwufc+KGZFuzsrQ6KktowWaF3FP15NB5KhUsHU0C+kC+3dhYuGYNDKQlSRo7bNjrzz57urwchhxci6ftQIvzkg545c0UnCuUu3Jlcnz8tcOH9cSrj04Bg5MNq1ezicOi6dO5IaWPoxeOL3U/Mct41syWRagOGLaeorOr+4vWLycmPsp1jZIkTZ8x829nzjO5obOr+8y5C6mz3YgasWPGNn/hwDFxWFmnaGvveufdPLlU0a9fv48+LoYTNCE17HEXE1roFEGeCC5wwQDZrU6hrQ+DDbK26NymRpDdusVkF4llkxHqFo7VWLYaXt0Gvm5Ll1EXiWWjPK9nvsSynt42JC+i2BC365wpZhnPmlXLE+xBI3WKzq7uS5fb8t7Lj4sbL0lSeHj4o5OSthRtZSspsOhwta1j2/Ydj05KAmUhLm78O+/muT2Wgj2lrFN0dnV3XL/1l4YT8+anwRaSQYMeWr5ipVz4wB53MUE6he4eIJ1CRKnDzQoVbBEeDoY0ieVgYEG0DVZj2Wp4SaegHkp0G2JU+lSXjfK8bvkSxbq52sCMMMt41szkBtUBg3UKpikEcwB7nDpLQ6oB6RQi3I6bFSrYIjwcDGkSy8HAgmgbrMay1fCSTkE9lOg2xKj0qS4b5Xnd8iWKdXO1gRlhlvGsWbU8wR4knaLbq0SCPU6dpSHVgHQKEW7HzQoVbBEeDoY0ieVgYEG0DVZj2Wp4SaegHkp0G2JU+lSXjfK8bvkSxbq52sCMMMt41szkBtUB0ilIp3DKSzYucK6w7hs9uBxJp+AcosnPYGNZE1DKiRBkZf+Y4y6xbA4eFVAQxQrOMc0tYtk0VCoAIZYVnGOOW0SxOXhURoFZJp3Cu7LgdYmEXxGwx11MGD1p18EAXOCCATLpFCJIDzaWRWDk0iTInENM+ZNYNiWtGBRRjL1h1jCxbFZmMS5iGXvDlGGi2JS0cqAwy3jWrHoZBXuQ1lN4Vz2wx11MkE6huwdIpxBR6nCzQgVbhIeDIU1iORhYEG2D1Vi2Gl7a90E9lOg2xKj0qS4b5Xnd8iWKdXO1gRlhlvGsmckNqgOkU5BOQfs+XB7AdcwV1l2L0T9Hgqy/z/XPkVjW3+f652g1lq2Gl3ooF+PUKZvRA1SXTV+wiWLTU8z1UKRTeFcW/NrW4TUy9jh1lobUN1pPIcLt1HmI8GqwpUksBxsjIuyxGstWw8uNAl3wzThl5UARy5xDTPmTWDYlrRgUUYy9YdYwZhnPmlUvo2AP0noK76oH9riLCRof6O4B0ilElDrcrFDBFuHhYEiTWA4GFkTbYDWWrYaXdArqoUS3IUalT3XZKM/rli9RrJurDcwIs4xnzUxuUB0gnYJ0Ctr3Qfs+emkUaGD7LjRr3HkQy0JdbWDiVmPZanhJp6C2y8DmRWjWVJeFujcYEieKg4EF0TZglkmn8K4seN3K4VcE7HHqLEWXdbfp03oKt24J8CJuVqhgB+jMoH2cWA5aajQ0zGosWw0v6RTUQ2nYXARVUlSXg4oOEcYQxSK8GmxpYpbxrFn1Mgr2IK2n8K56YI9TZ2lI3SCdQoTbcbNCBVuEh4MhTWI5GFgQbYPVWLYaXtIpqIcS3YYYlT7VZaM8r1u+RLFurjYwI8wynjUzuUF1QG+dYsenVaH4j/lXssxfUEGW6xQieAgqyCIAytMkyHKfmO8KsWw+TuWIrMay1fDiUaCcfbNeIZbNyizGRSxjb5gyTBSbklYOFGM5hHUKhoEC5AG/PCDXKfx6nCKTB8gD5AHyAHmAPEAeIA+QB8gD5AHygDgPkE4hzreUcpB6gHSKICWGzCIPkAfIA+QB8gB5gDxAHiAPkAfIA729pFNQKbCcB0insBzlBJg8QB4gD5AHyAPkAfIAeYA8QB4IHQ+EsE4RiidTgM2seHC7cUz8M6ggy3UKEZ4PKsgiAMrTJMhyn5jvCrFsPk7liKzGstXw0vkU8jJvyitUsE1JKwfKaixbDa/Fm+vQ1in8+iBokETGHncVPqfT9P+4OmY4XrlOoblJwQZZc4DyBAmy3Cfmu0Ism49TOSKrsWw1vPS9DxfjNPQyoweoLpu+YBPFpqeY66HwrJlJVKoDen/vI0ikB7/MwB6nztKQ+kY6hQi3U+chwqvBliaxHGyMiLDHaixbDS83CnTBN+OUlQNFLHMOMeVPYtmUtGJQRDH2hlnDmGU8a1YtT7AHSafo9qpZYI+7mKDxge4eIJ1CRKnDzQoVbBEeDoY0ieVgYEG0DVZj2Wp4SaegHkp0G2JU+lSXjfK8bvkSxbq52sCMMMt41szkBtUB0ilIp3CzjQUXOFdYd2GCy5F0Cs4hmvwMNpY1AaWcCEFW9o857hLL5uBRAQVRrOAc09wilk1DpQIQYlnBOea4RRSbg0dlFJhl0im8Kwtel0j4FQF73MWE0ZN2HQzABS4YIJNOIYL0YGNZBEYuTYLMOcSUP4llU9KKQRHF2BtmDRPLZmUW4yKWsTdMGSaKTUkrBwqzjGfNqpdRsAdpPYV31QN73MUE6RS6e4B0ChGlDjcrVLBFeDgY0iSWg4EF0TZYjWWr4aV9H9RDiW5DjEqf6rJRntctX6JYN1cbmBFmGc+amdygOkA6BekUtO/D5QFcx1xh3bUY/XMkyPr7XP8ciWX9fa5/jlZj2Wp4qYdyMU6dshk9QHXZ9AWbKDY9xVwPRTqFd2XBr20dXiNjj1NnaUh9o/UUItxOnYcIrwZbmsRysDEiwh6rsWw1vNwo0AXfjFNWDhSxzDnElD+JZVPSikERxdgbZg1jlvGsWfUyCvYgrafwrnpgj7uYoPGB7h4gnUJEqcPNChVsER4OhjSJ5WBgQbQNVmPZanhJp6AeSnQbYlT6VJeN8rxu+RLFurnawIwwy3jWzOQG1QHSKUinoH0ftO+jl0aBBrbvQrPGnQexLNTVBiZuNZathpd0Cmq7DGxehGZNdVmoe4MhcaI4GFgQbQNmmXQK78qC160cfkXAHqfOUnRZl6evw2IKGgVSwZYXPHNcwZ0HsWwOTuUorMay1fBSD0Vtl7zWm+MK1WVz8KiAgihWcI5pbmGW8axZ9TIK9iCtp/CuemCPU2epf6UinUKQz3GzQgVbkJNxsmcrKuZMntx19Ci+KDpMLIv2cDCkbzWWrYaXdArqoYKhnRFhA9VlEV4NqjSJ4qCiQ5AxmGU8a2Zyg+oA6RSkUwT7vg/SKXRoVmgUKMjJOFnSKbA3xIVxf0kFW5yfDUyZKDbQ+bplTSzr5moDMyKWDXS+PlkTxfr42dhcMMum0inaO29W7ts/fcbMfv36SZI0bNjw17PePHPugnxfRsf1W39pODFvftr9AwZIkjRo0EPLV6z88qtv5DHbO2/WHKxlMe8fMGDGzJRPPt17ta1DHvnMuQuvZ705bNhwSZL69es3fcbMyn372ztv4pjY4y4mdD9FUv8ccYHTH3L2smWSJFUVFABwE+sUPzc1PT9r1kMDB54sK+t1OgH4ieJifRg3kOVPcnOTYmM76+p6nc5/NjevSE19c+nSHodDNHCjIHfW1b3zwgsjoqIkSeoTFjYpNrZwzZrbjY2i8er2GvZea2tdYeHjcXF9wsJsERHpc+de/vxzDl2Pw1G0bl1MZOTp8nLulrY/dWb5Xmtr/ZYtMydO7BMW1icsbObEifVbttxrbdUWlHJqOkPGxjhLSyPuu+/5WbN+bmrC14WGDcTLcN2129998cUx0dGiyzPkaAjk242NK1JTZyQktNfWMuC6BQyBzNDVbt4cExl5tqKCXdEhYCxkHQDKsyDIcp+Y7ApRbBShPQ5Hfnp6xH332UtKRNuAWcazZtXLKNiDRq6nuHS57eX01ZLsb+jQ6JqDtVgpaGvveufdvPDwcC7u/QMGbP9zacf1Wyzyub9/v2jxEi4a/ExLW3ju79+zmJ1d3TUHa4cOjZZHfjl99aXLbSwm9riLCdIpBHuAm66bWKe409KSPncuGwxxwEWXNNys6Fmwf9Uj3ly6dEVq6j+bm3udzs66uqTY2E9yc0Xj1W3SzgE5XV4+JtpNO6OPIKUDyz0Ox67168cOG9ayffu91tab9fWr58+fPHbsjwcPYlecLi+PiYwszc4WLUjpAJnhgsmqvBPJW7XqXzpKFXpCZtghcLaiIiYy8rVFiyyCl8Evy819aODAY0VF7IrQgFEUX62pSRw9Omf58rt2u1CA8sSNggyWnCgunjhqFNeIyY3U9oqxkLXF4mNqBNlHR4VuNKLYKO7aDh1Kio19Zto0Hd6KYZbxrJnJDaoDhukU1zpuvPlWtnx4B1fi4yec/PYMUwo++rhYLlJAzMjIqGMNTSxm4ZYiT2n+6sQ338q+1nEDIn/R+uXIUaM9Rc5//09M/sAedzEheJYeDOnjAqc/5NyVKyVJYrM4E+sUsIaC6RRb1q5layt0KAZGsfyP48fTpk4tyMgAjCfLymIiI52lpaaE3FlXl5KY2L9v3w9fe61l+/Y5kydfP3Kk6+jRXevXwyIa0ah1YPlidfWY6OitWVkMy5WamgkjRjCKe53O242Nz6WkLEhO/qmhgUUTFNABMrP8r7t32yIixkRHN2/bdtduv2u3N2/bNiY6evADD5zas4dFEx3QEzKHBXSK7GXLuOtCfxqIF3B9X109PiZGTzXKQMj78vNtERENeikyrOQYCLnX6TxRXDxl3Dg6TojRIShgLMuCQCknazXIVsNr1CsxeamryMv7dadCRV6e/JbmVzDLeNasWp5gDxqmUzSe+CIy0rUKWpKkVzPXfPf9lbb2rk2btzA94v0NH4Cg8O3fzj6SMBFipqUt/PZvZ9s7b+6t2AcbQCRJWv1KJlMfCrcU9evX7823sr855YrW3nmz+QvHY49NgcfHj4//5tTZzq7uax03Vr+SCRdHjhp98FBde+fNr74+9fjvpsLFRxImfvs3V8zOrm7scRcTwnSKHw4cyFm+PMpmkyQpymb70yuvsJW0J4qLwTD4P2HkyA9fe43d1dwkXOCEQnZr+c6cHEvpFGwwtDMnh2kWbj2j7UWjWL60f3/c8OG1mzcDnKqCArYHRFuA8tT0h1xVUPDrXo/89PQeh8Os51PUbt48bNCgM3v3MofDhia8FwBePjt27GBxxAX0ZBkaK24cUPL227gFE4eUpawnZJYpBH48eHDiqFGW0in+1dqau3Ll+JiY76urOW+I+2kgxTfr61OTkvR5KYcdqD/ku3b7W0uXLnziiQMbNrRs377s//yfbz75ZEd29syJE3f/4Q/YNkFh/SELAuJ7sgTZd1+FaEyi2BDibjc2PjNtWlJsbNuhQzoYgFnGs2YmN6gOGKZTZOfkwpR7avIT5y9cAkWgrb2L7QRJnT3n4qWrLplgZxnEHDlqtPPLkxCz4/qt/Pf/BNeZ+tDZ1V2+97OmllaIw/4/8PkhkD8efPA/YfHFV3/99uHYMfD49j+XspjHGpqYelK+9zO4jj3uYkKMTnG6vDwpNra6oOBOS0uv09l97FhpdjZ7yXyiuJjNYO+1tp6vrHx6ypTV8+f/8u+V85qbhAucOMiezLaUTrFl7Vqr6RQt27cPfuABtpogd+VKtgfEU5HQ6rr+BRsWB8GrSLPqFHJ9jdMpdH75rCfLXGMFBZW7CDP5JTNn/veJE1qVZC4dPSFzWXcdPTpl3LidOTncdaE/DcTb63TCAiIQH4XCxIkbC7kiL0+fTc6GQ+4+duwvH3302qJF8MZoTHR09rJl9pISGJhh80SEjWVZBCKvaRJkry4K9QhEsSEMwtFRuvVTmGU8a1YtT7AHjdEpfrhybX7aApAJsnNymUwAQgNcfzh2zFd//bbj+q1XM9fAlWXLV1xt62SRjzU0Pfjgf0qS9Nvf/kfd0WPsujzQ/IUDzqEIDw8/eKius6u7an8NzoU9cvHS1dTZczjDsMddTAjQKeCcgsI1azzt3MY6BRhwas+eUYMHMyFDW6twgRMEWcFgbpRv7n0fO3Nynpw0qfvYMf0XmurJMkzVoGYp/P94XNz1I0cUykaAt/SEDKbCq/WSt9/udTrNqlNUFRS4XU+RPnfunZaWu3b72sWLUxIT4djUABn05XE9WbaXlETcdx/evd9eWzsjIQG/xICZPJMjfYHgbxw9IXO2WVCn2JqVpfO+HsMXEoM0k7N8uachClcqNPlpYKnurKt7ctKkscOGrV28WM+DOQyE3Ot0yhVnTXhUTsRYyMq2CbprNchWw2t4c93rdMIJmnr2U5hlPGtmcoPqgDE6xZlzF9hWDrZsAcSCppbWwUOGMPUBKxrv5b/PBIXOrm6cyI6dZfgWF2brKWJi/svu+Kqzq3vT5i0wWWKrNuARt7II9riLCQE6Bbx+hMmM2/TlOgWMDtlHMdw+pfoiLnCCICvYZimdQsEPom8ZwjJIcjCD7XU6//7ZZ6MGD2Z7QMwHGeaxyfHxl/bvN6tOcWrPnsEPPIDfqMOsBnZDHN60yRYRcfTDD0WTy9LXs2D/3NT0wuzZfcLCNr766j+OHz+8adPDQ4ZE2Wx4Mz+01UyOZHZqGNATsoZmq07KQLzQWadNnfqP48dV26/iQQMh9zqdgFpoGZb7xCjIcDjuguTkr3fvThg5ctf69bqpM0ZBBueTTiEvhCKuGMuyCETKaVoNbzDoFHCC5qo5cwQtupczjlnGs2bV8gR70BidQr7AgSkLeEfGgc8PnTt/MfHRSaApFH28jUXr7Oq+cPHytOkz4FbhliJ8C4f//t0PbInEc0uXwddJf79mLTy4aPGSKz+24/hsQ8rChYsuX3Xdwh53MSFAp/hXa2vWkiUwmXGbviedQtAEDxc4QZDdwoSLpFMoOEfDW4awfLO+Pjk+fsvatQDkRHEx9ypeQ4DypPSHzL4HEWWzrV28eNajj5rvYLZ/tbbmrVo1JjoavvfRWVf3XErKitTU242N1w4fTo6Px8sN5KRofkVnlm/U1z+XkgIdSp+wsEXTp3PHFsBiIqGbm3SGrDll/iZoIF5gM3flSn9tDjC+gZDB8oKMDLb5NEAsPj5uFGR2bih8ShnvUvTRctXRjIIMBpNOoZo4vx40lmW/TNUkstXwBoNOUZGX1ycs7EhhoSYM+pIIZhnPmpncoDpgsE4xdGh08xcOLBNgYYLTKQ58fgjHvHy1feHCRco6xanT55hIcf+AAbVH/gIpMJ3i92vW4jQ7u7rZF0P01Cl6nc722trUpKQom23X+vVyAUyuU9hLShJGjrwo5hwvXOBcYQHSjEKapFMoOEfDW4awfLaiYtTgwS3btwOQkrff1u0QTaM6j1+am0uzs20REZIkxURG/uWjj+6Z7ouVvzQ37/7DH+DzqyOiojasXn27sRH0i8TRo6/W1GhYbr0mpWfBvlFfn7N8ef++faEnkiQpJTHxy5078QtY2CaKv37iFYK/EfSE7K9tIuIbiPdkWdlDAwfq8x1l7DoDIYMZcCQw+w4Xtk1Q2BDIPQ5H07Zt2cuWwTDsZn392sWLv6uqEoSRS9YQyMwG0imYK4QGjGVZKDS3iVsNr1FDTeZ8OEEzJTHxZn09uyg6gFkmncL1DY7Orm5lnaLj+q2Kyio4lkKSpH79+n30cTH71GgQ6hSwtHLD6tW2iIiHhwypKyzEkxmsU9y121t37Hg8Lk7cckRc4Fxh3XWKPmFhbCpr7vMpdPYtzs4QlhuKiuKGD7+0f3+v0/mv1tbXFi0S+p4Z4zW28+isq/v9woV9wsIkSVqQnHz588852wT9NIRlwOLYseOhgQP35efDd0kL16wBIWNMdHTxG2/I1VitPKAb5POVlZPHju3ft2/O8uVXa2pu1NdvysyMstn6hIXlLF8O32OCbaKizyDUDbJWHAWYjoF44dtbek7XwVcGQgYDALieAo3hkAMspSoeNxYy6RQqKFPxiLEsqzA4wEeshtfYoWav0wnbjfGn4gNk0JfHMcum0inkR2Aq7PvgDqFQ2Pdxta0j950/sk+cDhr00Cef7mUiRWdXN9MpuLM5O7u6Ddn3gQtB19GjeatW9e/b96Wnn77d2Ai38HdJ+/ft+/SUKdwrO5xC4GFc4Fxh3XUKvL6UdApB/teN5e5jx56c9D+7t9hrZ3lgTHS0oPVBzIG6QWY54sDZiorJY8cunj69T1hYTGRk87Zt+K6gsFGQ4VuGL8ye/XNT0+3GxhWpqWlTp16pqelxOE6WlY2Jjn73xRcFHVCnD+SfGhoWJCfD0Rt49URnXd2K1FRJkqABh22iot9s6ANZUBFVkayBeC2uU+BjaFQQ59cjBrLsl50aRtYZMqxdlffF7AoeiWkIEyelM2SctVFhQyBnL1vGaIWADuSChw3BaxS5hkOGYwR0GE5zHsYsm0GnsDu+ion5L6gqVftr8M4Ldo7m4CFDmlpaz1+49NhjUyDmps1bcEx8jiZO5NLlNvZxU0mSpiY/4fjya/xgZ1f3utffgDTnpy344co1dhefo/lq5hqQNrDHXUzoMmn/9tNPx0RHMz0Mr6fQwQBc4HSDzHBxoj7pFMwz2gb0Z/mfzc0rUlPfXLoU5nVn9u4dEx0t6Js1bn2lP2RsBpyj2VlXV5qd3ScsTJ8NEYZAhn3dY6Kjz1dW9jqdBzZsGDZo0Kk9e5g3KvLyxJ1ErQ/kI4WFfcLC3H7063Zj49rFiyVJyl25Mm/Vqj5hYbCohMHXPKAPZM3NVp2ggXhJp1DNmr8PGsiyv6ZqFV9nyKRTaEWcX+nozDLYRjqFXxwFGNkQisFmOMU8a8mSf+m4v5hbQoJnzaqPpWAPGnM+BVYfuK94lO/9DBSERxImnjl34cqP7YsWL4ErL72cca3jBtMU2HdJQdGA623tXVlvvAXxf11P8Vb2ejgLkz0FgaKPt0Gc8ePjvzl1lt3F3yVlsgj2uKvw6aJT9DqdBRkZz8+aBYuHLaVTcB4mnYJziFY/9W9JO+vqkmJj2crh2s2bJ44a9ePBg1oh8pqO/pCxSex7H3ft9swFrg8zC/peD87UEMiny8tjIiNLs7N7HI5fNak3ly7lvo9wZu/eYYMGCYKvD+Qta12HMXta/w9LSKCXWZCc/FNDAyZF87A+kDU3W3WCBuLZD1REAAAgAElEQVQlnUI1a/4+aCDL/pqqVXxjIXOviLQCpZyOsZCVbRN012qQrYaXm7S74Os1bex1OrdmZYneZ+oWDmYZz5qZ3KA6YIxOca3jxksvZ8AYbvZTc777/gpTGdhSCLYj47389yFmfPyEk9+egZgd12/lv/8nuD5t+owLFy/D9ar9Nb/97X9IknT/gAFln5TjvR5MjOjs6mYaR3h4+J7ySnbrWENTZGQU+yoqXMce163A9TgcOcuXv7ZoEUhipFNgtcJtJQnwIq5jurEcoM0BPq4/ZGdpaZTNxhZQFGRkLJk5879PnAgQiO+P6w8Z28Z0il6ns+TttyVJ0mERtf6Q4VOdz6WkwLY1+KIhk1zBIWcrKmIiIwXB1wdyQYarC1P44tL5ysoRUVH6jBj0gYwLs7FhA/G2bN/eJyxMkMSm4FUDIYNVtZs3KwhzCparvmU4ZNWWq37QWMikU6gmzq8HjWXZL1M1iWw1vAbqFDfr61MSE5+ZNo0dGqAJg74kglnGs2bV8gR70BidorOru6Kyip0f8WrmmkuX2662dby/4QO4GB4eXlFZBTJB44kvQDuQJCktbeGZcxfaO2/uKvv0/gEDQKd4f8MHEPNqW+ey5Svg4tvZf/AkUnR2dV+63Dbn6bkQc+So0Yfr6juu33J8+TXbYzLn6bmXLrfpplP83NT0QWamvaQEVk/caWk5uHFjwsiRbEZHOgXpFL60FH7Fwc2KKyxe8f0kN5ctoPjvEyeWzJzJ9oDokLuBnQegYzrFL83Nq+bMUZ7lauUQ/Vkuy80dNmjQybIygHCnpSV97ly36ykUJvmBwNcHMnz+AD6/Krf2u6qq5Ph46GLEncTB8tUHMsvO8ICBeP/+2WejBg8W+vUWt+41EDLYs2XtWj2/IW14c+2WBdEXjWWZdArR/EL6xrKsD0aci9XwGth2GXKCprxUm0Sn+O77K7Ofco3U3f49u2Qp26/R1t7FFlnII09NfuLMuQsgKOBvmspjSpKEP4O6p7ySCSVc5PsHDMDfQMUed9U3AdO5HofjdHl5xrx5UTabJElRNlvGvHnfo2+OWken6HE4YJ7TUFQErsYKBYRFUEAtqQiv4jRh/T9bQPHjwYMTR41ie0BwTHFh/VmuKigoXLPmYnX1nZaWsxUVqUlJ9pKSV9LS+oSFpSQmdtbViQMLKesM+fvq6vExMRtWr8ZHS+7MyeFOo9iZkyPunCd9IHfW1aUkJsLXW7755BM4E/ROS8vfP/vs7eef79+3b5+wsHWLF8+ZPLlPWFj2smVCt37oA1l0WfU9fQPx/uP48bSpU7n1Qb5brjqmgZB7nU5QGx+Pi7t+5IhqCP4+aCxkf63VJL6xkK2mU1zavz9u+HBjd/K7GBcwpwiqNA0s1b80N7/9/PPjY2LOVlTo6RNDIBt1giY4FkPGs2a2LEJ1wLD1FJ1d3V+0fjkx8VFOI5AkafqMmX87cx6kB/j/zLkLqbPdiBqxY8Y2f+FgMfHxnPJkOZ2irb3rnXfz5FIF9wXTzq5u7HErtCkGaoHwcdbnZ82SJOnFp56CLxeSTiGoecXNChVsQU72dFCZbh2nnizftdvXLl4s119gSv9cSkrboUP3Wltbtm8fO2yYCT6rfGrPnvExMW77miibrfyPf7zX2nq2ogLHETS/1ZNlQTXFr2QNxAsfmmUfV/bL7EAiGwi51+kEWZltRA0EiO/PGgvZdzs1jGksZKvpFLWbN/cJCztSWKghg74kZSzLvliobRwD8X5XVQVfQxe0ydSTowyBbNQJmuAEDBnPmlXLE+xBI3UK2H+R915+XNx4SZLCw8MfnZS0pWgrW0nBBIjOru6rbR3btu94dFISKAtxcePfeTePHUsBMZu/cAwdGu121AgX8XqKzq7ujuu3/tJwYt78NNhCMmjQQ8tXrMTCBySLPe5iwuzap7E6BayniLLZDm7cCK4mnUJQkcPNChVsQU6+3dhYlps7+7HHbBERkiT179s3NSmpLDdXt92DerJ89MMPhz74oNujJW/U169bvNgWEdEnLGzmxIn1W7bcE3YYtZ6Qbzc27lq//okJE/r37StJki0iYvZjj5Xl5uLVE5c///ylp5+GCKRTaFLR9KRYbjCsra3Iy5PfEnfFWMgVeXn6z+iMhSyOSoWUCbKCczS/VZCRkRQb23bokOYpKydoNZYNxPtzU9PLc+fq9lqI8W4IZKNO0ATUGDKeNTO5QXXAYJ0CKxFBG8YedzFBOoW+HiCdQlCRw80KFWxBTsbJsvMp8EXRYWJZtIeDIX2rsWws3tuNjc9Mm5aalHSzvl439g2EbAheY9+X6EYrl5GBLHOW6PbTKMiwgUv/TR8WLNhGUaxbGZZnpD9kA0/QBPgYMp41q5Yn2IOkU3R71Uewx11M6DtLNyQ7XOAMh0w6haAyEFQsC8LIJWssZNIpODoE/TSWZUGglJO1GmTD8TYUFdkiIvbl5yvzouFdAyEf3rTpN/37H960SUM4viRlIGRfzBMRhyCL8KrbNC/t3z8+Jkb/TR+kU7ilw2QX9a/IRwoL+4SF6bzKD7OGIeNZM5MbVAdIpyCdwomLGoRxgXOFDZVmSKcQ5P+gYlkQRi5Zgsw5xJQ/iWVT0opBGU7xXbs9Z/nyxNGjr9bUYMPEhY2C3F5bOyMh4YXZs+FjZOIAylM2CrLcEt2uEGTdXF27ebMhmz5Ip9CNYgMz0rkiwyfkjCrP4GcMmXQK78qC1yUSfkXAHncxYeikXZ/ccYEzHDLpFIJIDyqWBWHkkiXInENM+ZNYNiWtGFQwUAwTeE8fpsXWahI2BDLIMTMSEtprazVB4VcihkD2y0LNIxNkzV0ahAlajWWr4bWgFMVBxrNm1cso2IO0nsK76oE97qpvpFPo6wHSKQQVOeo8BDk2qJIlloOKDkHGWI1lq+HlRoEu+Pr2woZkRywb4nadMyWWdXa4/tkRxfr7XP8cMct41szkBtUB0ilIp9Bj3wfTGlRUHvYsC6hIxOsjuI65wjQKNKMHiGUq2Kb0gNUKttXwkk5BnbIpGy4q2FYo2NRcm7XyYlyYZdIpvCsLfm3r8BoZe9wKbYrmPQfTFyCAS7YvYe7xG/cP8uUpf+PgOkYs++u9UIlPLIcKU4HYSSwH4r2QeJYoDgmaAjSSWA7QgSHxOLEcEjQFYiRRHIj3QuVZzDKeNateRsEepPUU3lUP7HEXE2Z8z8yBwgUuQMiBqwyBp8Chc/tTQ8hu0w/CiwQ5CEnR3CRiWXOXBmGCVmPZang1f3kQhGVYbhKxLPeJ+a4Qy+bjlENEFHMOMeVPzDKeNTO5QXWAdArSKcTu+whcZQg8BV8aBVzHXGFSo8zoAWKZCrYpPWC1gm01vKRTUKdsyoaLCrYVCjY112atvBgXZpl0Cu/KgtetHH5FwB63Qpuibc8RuMoQeAq4LnkK4zpGLHvyUqhfJ5ZDnUFf7CeWffFSSMchikOaPh+NJ5Z9dFRIRyOWQ5o+X4wnin3xUqjHwSzjWbPqZRTsQVpP4V31wB53MWHG98wcKFzgAoQcuMoQeAocOrc/NYTsNv0gvEiQg5AUzU0iljV3aRAmaDWWrYZX25cHQViA3ZpELLt1i8kuEssmI1QOhyiW+8R8VzDLeNbM5AbVAb11ih2fVoXiP+ZfyTJ/WkGWqwz+ujDwFHzMUSvIPmYXDNEIcjCwINoGYlm0h4MhfauxbDW8eBQYDOVNHxuIZX38bGwuxLKx/tchd6JYBycbngVjOYR1CoaBAtbxgFxl8Bd74Cn4myPFJw+QB8gD5AHyAHmAPEAeIA+QB8gD5AHfPUA6he++opjGeyBwlSHwFIz3AllAHiAPkAfIA+QB8gB5gDxAHiAPkAfM6wHSKczLrUmRBSg0BPi4SZ1KsMgD5AHyAHmAPEAeIA+QB8gD5AHyQLB4IIR1ilA8mQJsZuQbvv9HNwM0hCwXGvxCEeDjvuelIWTfMzU2JkE21v/65E4s6+NnY3OxGstWw0vnUxhbv3TLnQq2bq42MCOrsWw1vBZvrkNbp/Drg6BBEhl73FX46HsffnpALjT45cMAH/cxL65Z8fGpkI5GkEOaPh+NJ5Z9dFRIR7May1bDS9/7cDHu58AjFONTwQ5F1vy12WosWw0vNdd41swkKtUBvb/3ESTSg19mYI9TZ+lvi9zrdAYoNAT4uI8GU0vqo6NCOhqxHNL0+Wg8seyjo0I3GlEcutz5bjmx7LuvQjcmsRy63PloOVHso6NCOhpmGc+aVcsT7EHSKbq9ahbY4y4mSNT33wOBaA2BPOs7WbiOEcu++y20YhLLocWXOmuJZXV+C6GniOIQIku1qcSyateF0IPEcgiRpc5Uolid30LrKcwynjUzuUF1gHQK0imc8sqAC5wr7L8wwT0SiNYQyLOcGQo/NYeskFeQ3CLIQUKEUDOIZaHuDZLErcay1fDSQmIX4wGPQ4I/BSrYwc9R4BZajWWr4aXmmnQK78qC1yUSfkXAHqfOUl0bHYjWEMizvltLLanvvgrdmMRy6HLnu+XEsu++CtGYRHGIEueX2cSyX+4K0cjEcogS57vZRLHvvgrdmJhlPGtWvYyCPUjrKbyrHtjjLiZI1PffA3Kt4cb9g3z0pPxZHx/0KxquY8SyX64LocjEcgiRpdpUYlm160LlQaI4VJgKxE5iORDvhcqzxHKoMKXaTqJYtetC6EHMMp41M7lBdYB0CtIp9Nj34fY0TR+lCtIpBDVVuFlxhf2Xn0LuEYIccpSpMJhYVuG00HqEKA4tvtRZSyyr81toPUUshxZfKqwlilU4LeQewSyTTuFdWfBrW4fXyNjjLiZoOqfKA3K5IWh1CmaqubnGzQoVbLNyTSyblVmMy2osWw0vbXimHgrXdzOFqS6biU23WIhit24x2UXMMp41q15GwR6k9RTeVQ/sceosA6labP7PAr6kxiKzgC9P+RuH1TGWCwT8TSeE4jPIvb29VLBDiDi/TCWW/XJXiEa2GstWw0s6BfVQIdo0eTWb6rJXF4V6BKI41Bn0xX7MMp41M7lBdYB0CtIpdNr34Xbrhy+lnxMOfFyF4UvKOA7UMX3ywvkaGMbNiiusaplMaD1FkEOLL3XWEsvq/BZCTxHFIUSWalOJZdWuC6EHieUQIkudqUSxOr+F1lOYZdIpvCsLXrdy+BUBe9zFBE3n1HpAnQqg7il/aYI6pk9e/tomKD5uVqhgC3Ky4ckSy4ZToIMBVmPZanhpPQX1UDo0I4ZkQXXZELfrmSlRrKe3jcoLs4xnzaqXUbAHaT2Fd9UDe5w6ywDrgAohQMUjKoyUJEmekaC1GyrME/EIblaoYIvwcDCkSSwHAwuibbAay1bDSzoF9VCi2xCj0qe6bJTndcuXKNbN1QZmhFnGs2YmN6gOkE5BOoV++z7Ubf2QywciqqJbnUJERsGTJm5WXGG1y2RC6EGCHEJkqTaVWFbtulB5kCgOFaYCsZNYDsR7ofIssRwqTKm2kyhW7boQehCzbCqdor3zZuW+/dNnzOzXr58kScOGDX89680z5y7I92V0XL/1l4YT8+an3T9ggCRJgwY9tHzFyi+/+kYe8/TZv7/zbt6ERxLCw8MhzeUrVp5otndcvyWPfObchdez3hw2bLgkSf369Zs+Y2blvv3tnTdxTOxxFxN6Tec66+reeeGFEVFRkiRF2WwZ8+Z9X12tT+64wGkLWS46yNcs9Dgcjh07ZiQknK2oUCdtqPCS3DAVifj7yE8NDYVr1iSMHClJUp+wsMfj4vbm5f3S3OxvOurii2PZkz137fYTxcVLZs6MstkkSbJFRDw7Y8bXu3f3OByeHtH2uv6Q5fbvy8/vExb2/KxZPzc1ye9qfkV/yF1Hj04ZN06S/cVERkKN1hwjl6D+kJkB31dXZ8ybx4r3K2lp1w4fZnfFBfSE7IlfTPiJ4mJxYA1cXHC7sZG12P379l00fXrztm33WluFgoXE9aSYwelxOL7evfvZGTNsERGSJI2IinrnhRc66+pYBKEBQyALReQ1cYLs1UUmiGA1lq2G15Aeqsfh+L66+o+rVgXDhALPmlUvo2APGrme4tLltpfTV+PBDYSHDo2uOViLlYK29q533s0D3QHHv3/AgO1/LsUChN3xVUzMf+E4EA4PD3/zrey29i6cbM3B2qFDo+WRX05ffelyG4uJPe6qb7roFGcrKsbHxHC2jYmOPl1eroMBQpsVZUXgp4aGgoyM/n37slmNcnxNvCHPQq6eaJIRTuTLnTvlFEuStCI19XZjI44pKCyUZbc2nygu5oo0CDS71q/XR6rQHzLnh5v19alJSZIkmVinOFtRERMZKSea1WjOJ5r/NITlu3b7n996q3/fvhzw7GXLNAcoT1BPyF51ioj77nOWlsqN1PCKnniZ2ecrKyePHcvx2ycsLG/Vqrt2O4smKKA/5Lt2+weZmX3CwjjIk8eOPV9ZKQgmTlZ/yDh3Q8IE2RC365yp1Vi2Gl5DdApP/fLaxYv1fyWGZ81MblAdMEynuNZx4823srn+j/2Mj59w8tszTCn46ONiuUgBkSMjo441NLGYzV843EoPkiSFh4dXVFaxmF+0fjly1GiWIxfIf/9PTP7AHnfVN/E6xU8NDQuSk/uEhWUvW3azvr7X6Ww7dOiVtDRJklKTkuCKUDOENituRYEeh+Pa4cMbX30VXkVKksRmNfL42mKXpw9XtM1Fnlr2smVRNtu2N94AQu+0tDQUFcE4eMPq1TrM24WyLMfb63S27tjxx1WrLu3fD28gu48dK83OtkVEDH7ggVN79rh9RNuL+kPm7N+ZkwNNjel1ijeXLtWhDHPuhZ/6s9zjcOxav75PWJgtIqL4f9fo4jfecGukthf1h+zW/u+rq8fHxKyeP1/0ojD98f7S3LxqzhzQka/W1PQ4HHdaWg5u3BgTGdknLOxIYaFbh2h4UX/IsPLr4SFDDm/adKelBd7XLZ01SzeZVX/IGvKlLimCrM5vofWU1Vi2Gl5DdIqb9fW5K1eeLCu709LS63Ti7kn08kaofZhlPGtWLU+wBw3TKRr/f/bePaqqau0fn3/vAY6hg9/b2eOb8bPXYKgor5fAa2ZSdtS8NIKDJppk5SVJscwouqCHPHREKzUlsbwUJxEVL6igBCIo7KVlVl4yNTWELSr1+vbWsNg/93nOb36fs9baa282e80Fcz0OB2Ouueaaa36ezzPnmvOz5+Xw0ago74oGxthLCxd9f+FyfUPTylVruB6xfMX7oCmc/Ob0A8MfhJQpKdNOfnO6wX1ja9EOWADCGFvw4sKrjdchcc1R11PTn961e9+Vere7qfnipfrVH6zlKV997XVIdrXx+oIXF0Ke/foP2LuvrMF94/iXXz/659EQ+cDwB09+cxoSY4t7mTBfp4D+QUZqKv6V5lZV1TMTJ8rRJdJKA79UVz/3zw5QdGTkx2++OWPCBGt1CgEs/yM7Wzsn/ERBwZ1B+xMjRzZXVJhdBtysiHFsLaIWl2vZ/Pl3VnJtXrxYezfkMdZCvlJSMmLAgOeTkh7s319ineJEQcF999wjZh6BroeIZxnG55FOZ0Venm6RzI4UD1mL6Pe6uuw5c3p063aioEB7N7Qx4vF+t317/x49Jo4YofqdYP/KleEOhwBVTjDk5oqKJ0aO1LIJ/RBnRETthg2h5VSbm2DI2gKIjyHI4m0u/o12Y9lueC3RKXTduCgnx5LeNR41c7kh6IBlOkXW4mxQBEaPGXv23EVQBOobmvhKkMSk5PMXr7ibmjduLuCCgnLsBKRsvHZz2fJ3IX7IkKFfff0vTaHBfYPPg4CUV+rdM2fNhpQvL8qAyONfnLw/Lh4iP/p4E0S6m5orKqu5elK4dTvEY4t765vJOsVvR47Mnzz5vnvu0fb2DqxeHe5wvDJ9+u8mL4g1u1nR1SleTU39ZMmSW1VVoFmI0Sm0JREzmcKXF/3P4cMzJkwYNWhQ08GDvtKEKt5slgMsZ2VeniUtqYC6jC1wu7Z28axZQ2JjXRs3jho0SGKdAlb3rMnIwPBFhgU7NtfaxEyD0rWkYMi6ZQCNNXPGDLM/T5b0AmE1k1Z9g/j5kyfDr1i6lglJpGCKT23d2rt7d93OBvRDctPTQ4LLIBPBkA1KIuwWQRZmagtfZDeW7YbXki+Urj9D77o4N1f3bmgjMct41By0PMEftEan+OHy1SkpU0EmyFqczWUCd1Nz4dbtEH9/XPzxL042Xrv50sJFEDNz1myYJQHpKyqr7733Pxljd931p7KDFTgTHL50pWHatOmQw+o1eXCreFcJfgtPf/7ilcQk79xOxhgvGLa4lwmTdQp3WVlCXJzuL+oXd+0a3KeP7q3Qlgo7nBmQteoALr/lOoUZkDFAg7ANdYrSVavu7NAmviUVzPLBDz6IdDoLsrNhGaH0OoWYCTK6Vcns5kv10msHDjw6eHB8TMx5UfscqwrQHnpFt2trM1JTJV7ABSz7mk+xLjNTS0poYwR7NaiNWl3GoyggzQhowQRDxnz9WlPz1nPPDYmNFbP1L3+1hZBvVVW9MGnS6CFDLu3Zw8sjIGAhZBW6W1VVH7/55va//10VH/LL9gM55NB0MxSMF1ZAfF9cbNXK0/bwRfYoyq2qqtmJiUNiY8WcwIBZxqNmLjcEHbBGpzh15hxfysGnLYBYUH2krkfPnlx9wIrGO8uWc0HB3dSMM9m4uQDfgnCD+8ZXX5/OfP1NWEuC97xYuWoNiBF81gY8oiuLYIt7mTBZp4BOgO7vGD8fOpQyevSD/fv/uHevqcXADmcSZAOpwlqdwuPxmAQ5EMrO79wZHxMjoAtILalIlq/u3z9m6FDYIVV6nQL24BAjPOnWKQHNF36vsmmTMyJCwC/q+KWqsGDIqrd7FEXkZAqr2q6C7Oxwh2PqmDHQA/6lurooJyc6MnL88OENpaVam4Q2RjDF4NW6/RCYajFm6FDVEpjQ4rWKZUDxfXFxfIx3k3XBeqtgljFl0PNkjG3NycHxZocthMyhgULRu3t3xtg/srN5vEmB9gDZJGi62QrGe6O8fMzQoeEOx/Rx46xSKwRD1pr915qa7DlzRK5FxZDxqDloeYI/aI1OwXe7DAsL27uvDEsMeEXG7j37zpw9P+KhkaAp5H24Hqc8d/7SY+PGwy0+UcLd1IwfgbuMsfETJh7/4iR//OVFGXBreuqMyz828Hh3UzNfkDJt2vRLV7y3sMW9TJisUxj8jqEawJtXEuxwJkG2XKfQFsB7xsc//5kE2S9ft2trl86dK6xvJIBlA8i/HTlyoqBg6pgxkU5nUU6OGOXbEsi/VFc/n5TED+uxiU7B296+0dGvPf20GEUf/E0wy8W5uYyx3PT0X2tqPv3rX2F4I81J0gZVmN/6va4uc8YMYZMprBrBtrhc+95/HwYz3L1Tx43TbjPELRPCgGCvrt+3LyEuLjYqSnXEWIvLlffqq4wxAYsTBUPGZP1SXT1v8mQbzqcYEhv73fbt2BRmhy1k2aMoP1VWrly4MDoyMtzheD4p6dvCQgFdEZGQufzEmyxtwGwxTiRecFcuPIFaIYZWXFPEQ8Zvv1VVlZGaKrJrrfoo41EzlxuCDlisU/TqFVNz1IVlAqwyqHSK3Xv24ZS6Czq0OkVExP/zzLMz95eVN7hv8Me5TsF3rOC3Vq/xrpZnjFmrU2x46y3sdhAmnQLEBa1lWhujK1JYq1P8UVe3KSsr3OGQ+FxSPmcYqhj0DCQewXoUBU6C+I8uXQr+/19ppNcp1mT8SwUGluFvl06dCrKzBXQBVd9Lb3fBZGV5w1tvMcY+fvNNEBkxamG/ZljbK/p6y5Ye3bqlJSebfcwHp9ISvD8fOpQ5Y4bq6Nn7e/asXr9egGMLhtzicq1Y4D02fkhsbPmaNbD7xo3y8ndeeMEZERHucMitU3BPExwQzLJgdLqvswryT5WVuenpkU5nl06d3nruuR9279YtnhmRIiHbU6cA1n6tqdm9YsWwvn3FqxUiKVa5KPzeGe5wfLJkiYAPE387hkw6RTNoCgHqFLzXOD11xpnvLsCz7V+n0BU45dYpvDLBP0cUKphaTYFXjKAD2jz/pYBYNJ/il+rqv8+bF+5wpIwe7S4rCxpXqx7EzYo3bPJwDvJXfTXDHY7EhIRjmzeLaU/FQ67Iy4t0OpfOncvP7pFep7hVVcXB3q6tPbdjx4spKXBmp/jzsQQ4dtbMmYyxV6ZPHzts2KEPP7xdWwunLL/+zDPhDkdCXFz9vn1mVy7xjs0RwTaiYg6i4i8VjxfW+oY7HEvnzr26f3+Ly3W7tvbQhx8+MnCgGDXKEsgvTJrEe1BccHx/4cJRgwbJve6De5rggHiWBQPUvk485KaDB/8+b96d7aKiIyNXLlz4U2WltlSmxoiHbCocv5lbixca6okjRjDGJo0a9eWnnwrobVoIGfY5zklLE7ChNaYeQ5ZKp9BugWmw7kO1CYWvdR98ZkTjtZtnzp5/971V3bvfB5/YefMX1Dc0uZuauU6h2puz/az7yJ4zB3sAhFUDeG2CUMVgh/OGzRnB6ooFHkVRwdQma2N5tBlikUL8/hSntm4dO2xYuMORkZr686FDbUQX+ONiWPZVntu1tZdLStZlZkZHRorp6Iv/pf3bwsL4mBjV8nXpdQot4y0u16asLBjMC/h2CnZs0ClGDBhwpaQEY4etJcXsESsYMoYJCwS0G0ziNCEPi8cLh4Wvycj4498P24KtZ8Y98ECjyVtUiIfsUZRfa2q25uQ8OnhwuMPRpVOnSaNGHdu8+cLOnYP79BGwiZIlkEPuq63KkCC3ylxBJIYDhhlj8yZPFnD6u24J7cZye8D7e13d7hUr7v0//4cx9re0NF1eQhhpIeSsmTN7d+9+auvWEMIJJCsMWQadotZ1PDb2v0A7KN5VwpUFd1Mz30ezR8+e1Ufqzp67+PDDoyDlylVrcEq8jyRuy5gAACAASURBVKYqE5zM3dS8pXAbbKUZG/tfta7j7qbmV197HfKckjL1h8tXeXq8j+ZLCxfBEafY4l4mzBm082xh/yrd89iFHQaBHc48yLp6gdk6he5Lr9/t3T+Jr54yDzJnGQItLtfe996LjoyMjYo6sHq1AJUXF8ASyLgAEP62sDA2KkrMOEck5IbS0vHDh/NtKThwG+oUHkX5ce/eB/v3F/AbrHg1CtZ96CrLcCqY7qEJ3B9CEhDp2KoCw/Ycgo+hFYz3f2tqZicm+trBGhY6la5apbJMaC8FQzYovEEXxeCpIG61H8hBFD64RwhycHYL/KkWl+v74uLnk5LCHY7e3bt//OabNJ8icOsFl9Jar/6jru7Y5s1Tx4wJdziG9e27e8UKAesTLYScNXNmbFSU4IOKVP0uPGrmA6ugA/93bBZ0FsYP4uJu/KwYFAGsPqhO8eDnkj4w/MFTZ85d/rFheuoM0BRemJd+tfE61xT4uaSgaPB4bUC7bWfeh+shzyFDhn719Wn+CD6XlMsiGILX+UzWKeDw0RkTJvzP4cOqd0FfX/eWKmUbL4XVMV3VwLz5FLqvg/UmwiBzamDnAljrIWYnNv5qCIiHrCoAXP525Mj8yZPFNKwiIcOxF9DOGPw1eymESMi6/EIkqDMC1rSrvpde+Ca32AYDdYNNkUNbKqtY/rWmJi05+b577jlRUBBaRMa5CcZr7L1Q03WXahqjaNVdwZANyrYuM1P6WUIG8E291X5YNhUmztwqyD/s3v3ytGldOnWKdDr/Pm+e2fOhrIKsWmmr2xWRte26XVt7YPXqscOGwb6/B1av5itSMR1mhK3yao+irMnIuLPg1OyOpdZoGDIeNRtLBIHctUanuNp4/YV56VBhkv6S/P2Fy6AU1Dc0zZvv3bqJMcZXZLyzbDnE4INFG6/dXLb8XYh/bNz4c+cvuZuaG6/dxJtlcvWBz6fgigbXOMLCwrYUbuMpKyqro6Ki+amoEI8t7mXC5F4vHD6qO2yDdUe56elmlwE7nNmQtdqBSTqF9kUQA8YUCRneeDg/P9LpFLZrptZnxEPWlsGjKKRT6JolVJHthGU4cDdl9GgBK5sEQz5RUHDfPffo7iJZumoVY0zAXAPBkLlziqSVv1S8FNVcUfHEyJGD+/S5uGsXLgaEYT6F2ccZWkWxCm9jaem4Bx6Ij4k5v3On6lbIL9sJ5JDjMsiQIBsYx4xbfK+KLp06vTBpkphjLEWybE+d4lZV1SdLltzfsyfsSVGzfr1qvZ4ZvoTzFEkxfq+FYQwZj5oDUSKM01ijU7ibmou2FcNaDMbYSwsXXbxUf6W+cfmK9yEyLCysaNu/Jl9UHT4K2gFjLCVl2qkz5xrcNz4p+Ozurl1Bp1i+4n0QFO4cIzp7ztzlK97/6uvTIFhcvFS/6ZN/9OrlPQebMcYVjYuX6pMnTYbIfv0H7C8rb7x203XsS77GJHnS5IuX6i3RKTyKAr9X4L33PIpyq6rqmYkTI51O18aNZvsidjhv2ExpRisfmKFTaN+CRQrxHd9bVVVPPfbYsL59L//7mnZTTa3KXCTLqlfjS1nXfWCMOGzDdR/8wN1l8+cLWNwk2LGhLmv3WIEW2xkRUbthA3YAM8KCIXMI/ExWHiMmIBgvHLzKGNuUlaVyYNifQsCMEsGQdXnkFXnFggUqO+imb2Nke4DcRgitfZwgt9ZiIUnPTydljJktOIrvbYbERG3JRLBX3ygvHzN0qPgzPrCJBEPGr7YqjCFLolN8f+Fy0l+SQSnQ/n16xrN3RAeQCfAkC23K0WPGnjpzjusU06ZN16aBmLCwsI2bPoWUeNMKbfq7u3bFZ6Bii3uZMHPQDplf2LlzSGxsuMPxzgsvwNq5+n37XkxJYYxlpKYKmLmEHc5syFoFIeQ6hfYVKpFC/JcDNnMSsBWZgbuKZNmjKDfKyzNSUz9fu5ZvXtVcUbF7xYr7e/YMdzj4sZ0GBW77LcGQdQsst07RdPDgy9OmVa1b99//3BH2j7q674uL4byP+JiYs9u26doktJHiWd6/cmW4wxEbFbX3vfd+O3KkxeW6UlICLfbzSUm/VFeHFqA2N/GQPYrye13dK9O9H9zKvDxtkUyNEY/3REFBj27d4KN8o7zcoyj8vA/G2IIpU8xe8ywesrJp0/rXX286eBAONzmzbdvUMWMYY6qNgc0jWjxkjuXXmpq3nntuSGys4GXeFkKGiY1izifidhbf9cKvVoVvVVV9/Oab2//+d1V8yC8tZDnkWALJUDDeG+Xl2XPmiJka4wu+YMi4GIfz83vde++y+fMF7FmO34sh41Gz8VyJQO5aNp/C3dR8tO7YgyMe0soE48ZP+ObUWS4ouJuaT505l5ikI2rExQ+sOeriKfFmFqps7+7adV3+x3hVSH1D09tLc/icDp6+c+fOaz/Mhx00IWdscS8T5usUHkWB4wx5qSCQmJDQYPKm4oAOO5zZkLUiQmh1Cm3+WpFC/MfyyEcfhTscKn7xpdkrBsVDhvE5xgjhLp06rV60SID6Jh6yblshvU4xatAgLcuxUVE169frGiTkkSKbLyj87dranLQ0bY2WssXmfMFqiP49eny3fTuPFBMQTzHf81jr22IOkxYPGXZXUeEdO2yYGLXR2ub6++Li+BjvPFwBH2JcZcSzzN8O259lzphh4fDGC19IB9vat1jIsiXA7YbX2rYLDiATsxcYdifMMh41B6JEGKexUqdwNzVfvFSf886ywYOHMMbCwsIeGpmwJm8dn0nBBQh3U/OV+sb1H218aGQCKAuDBw95e2kObEuBk128VL/2w/zxEybCqpDOnTs/8sijf89d8e3p73AyCDdeu/l55eEnp6RA4u7d75s1ew4WPiAZtrjIZvR0UdGzjz8e6XQyxob367d60aJbVVXYLcwLY4czG7JWRwihTqHNXFekEN+s6HYBcY9QQPdIJMseRWlxub4tLEx/8sm+0d4tYBhjA3v3fu3pp0XK3oIh69ZQuXWKFpfry08/TUtOjo6MZIyFOxyPDh68LjNT5J7qlrD8R11d+Zo1iQkJXTp1YoyNjIv7ZMkSKVts7tUwKUzMGS78pRCwhGKPovywe/fiWbOgBevSqVNiQsLe994zeyaFVZDhUNKRcXGMMQBblJMjYHIQ59oqluHQsXmTJ9tqPoWyaVOk03lg9WpufzEBC1kWA1D7FrtBthte8QMK7GM0n8JY9dC5iwf5/LwPrWTQnmMwBG99I7k31BbQqgnYyMZ3cUpVWPugL5HC2mZFVWxhl/TxEGZqC19ELFtofGGvthvLdsNLXygv46HueLTDDC107DUZGeIXfZBj28GxLfRqq+q4zSHjUbOOLtDKKIvnU7RneYKXDVvcDm2K+C+HsaCgvRtI06N9ykCkEA85EAhmp7F5S0p12WwHsyp/cmyrLC/svUSxMFNb+CJiWZjxYXMK8Ys+qOtlh34IVWRhFdnCF2GW8ai5laKETnLSKZq5HuErgC1uhzZF/JfDl6Zw/e7uHkXR3vVbFbWPGIsU4iH7hSAgAW5WyLEFGNySVxDLlphd8EvtxrLd8NIXir5QpjYpP+7dO2LAAPGLPsix7eDY1FybWnnbSeaYZTxq1hEeWhlFOgXpFIrWy7HDiWlGfSkLuvHaAuMY3UdA8sDJVGHxkFUFEH9JkMXbXPwbiWXxNhf/RruxbDe8NJzzMk7rPmS0ANVl6R2bKJaeYtUXinQK/8qCr5kRwcVji9PH0rz65ktf0MYblEGbGGIMHoFb1JL6NZEECYhlCUj0C4FY9muijp6AKO7oDAZSfmI5ECt19DTEckdn0G/5iWK/JpIgAWYZj5pbOXlCJznNp/CvemCLe5mQUdJWgcIOJxiyL6EBx6tKyy9xGhzmCQwCFkI2KJWptwiyqeZtJ5kTy+2ECFOLYTeW7YZX9WuVFz71Q2S0ADk2ObZ8FiCvlo9TLSLMMh416wgPrYwinYJ0inax7gM7PZYYdMM4MQ/rpvS73IM/juuYNyxjH0gFiiCrDCLlJbEsJa0qUHZj2W54SafwMk4fZRktQHVZescmiqWnWPWFIp3Cv7IQ3PoOX09hi9PHUkB986U48HhVGXi8NqBKaXBJLamBcaS5RSxLQ6UBEGLZwDhy3CKK5eDRGAWxbGwfOe4Sy3LwaICCKDYwjjS3MMt41NzKyRM6yWk+hX/VA1vcy4SMkrYKFHY4SyBrFQccg0uL41VhnMxv2HLIfksY8gQEOeQmbYcZEsvtkJSQF8luLNsNr+rXKi986ofIaAFybHJs+SxAXi0fp1pEmGU8atYRHloZRToF6RTtbt0HVACV6IAv/SYIfLkHr2y4jnnDMvaBVKAIssogUl4Sy1LSqgJlN5bthpd0Ci/j9FGW0QJUl6V3bKJYeopVXyjSKfwrC75WcAQXjy1OH0uR9Q1rEzjsURR8qQ0HUUhqSYMwWod7hFjucJQFUWBiOQijdaxHiOKOxVdwpSWWg7Nbx3qKWO5YfAVRWqI4CKN1uEcwy3jU3MrJEzrJRc+n2PhZcUf8zy3HbPOvPUDWChCBxARNUXuAHHThg3uQIAdnt471FLHcsfgKrrR2Y9lueHEvMDgP6YhPEcsdkbXWlplYbq3FOlx6orjDURZEgTnLHVin4BgoQBYIxAKBqBI4TSB5UhqyAFmALEAWIAuQBcgCZAGyAFmALEAWCK0FSKcIrT0pt/ZrAaxB+A23XxhUMrIAWYAsQBYgC5AFyAJkAbIAWYAsILUFSKeQml4ChyzgV5uABOgJCpIFyAJkAbIAWYAsQBYgC5AFyAJkAbKAaAt0YJ2iI+5MAWXmJAexYqeDPtIeIAeiU4TQvO0BcgjhBJIVQQ7ESh09DbHc0RkMpPx2Y9lueGl/ikBqgQRpyLElINEvBLuxbDe8Nm+uO7ZOEdyJG9Y+hS3udT4Zj4ZSgVLVMdVdYZd+dYoQlqSdQA4hIr9ZEWS/JpIgAbEsAYl+IdiNZbvhVZ365oVP/RAZLUCOTY4tnwXIq+XjVIsIs4xHzVyiCjog+rwPaxWH4N6OLU79A613mhdjrFOE9r24jhHLobVt+8mNWG4/XJhXEmLZPNu2k5yJ4nZChKnFIJZNNW87yZxYbidEmFcMotg827afnDHLeNQctDzBHySdotmveIEt7mVCRhVfBQo7nIWQfekUqtKG5LKdQA4JlgAzIcgBGqpDJyOWOzR9ARbebizbDS/Np/AyTl0vGS1AdVl6xyaKpadY9YXCo2YuNwQdIJ2CdApFW4XaSbNCOoWWmhDGtBOWQ4jIb1YE2a+JJEhALEtAojEEotjYPnLcJZbl4NEYBbFsbB8J7hLFEpDoFwJmmXQK/8qC3ykSrUqALe5lQkZJWwUKO5y1kLVShaqoobpsP5BDhchvPgTZr4kkSEAsS0CiXwh2Y9lueFW/VnnhUz9ERguQY5Njy2cB8mr5ONUiwizjUXPQ0yj4gzSfwr/qgS0uZf8AawHgfNjhLIfMi6etGCGMaVeQQ4jLICuCbGAcaW4Ry9JQaQDEbizbDS/pFF7GZRQmVKDIsVUGkfLSbizbDS8113jUzOWGoAOkU9hdp+AqAA5QsyLl11EFilhWGUTKS2JZSlpVoOzGst3wUsfXyzjpFDJagOqy9I5NFEtPseoLRTqFf2WhVcs6/CbGFpfvY4nlCVUY1C/5IOs2GdSS6ppFskhiWTJCdeEQy7pmkSmSKJaJTV9YiGVflpEpnliWiU1dLESxrlkki8Qs41Fz0NMo+IM0n8K/6oEt7mVCLklbpU2oLj0ej3yQdRnEdYwg65pIgkhiWQIS/UIglv2aqKMnIIo7OoOBlJ9YDsRKHT0NsdzRGfRbfqLYr4kkSIBZxqNmLjcEHSCdgnSK7iptQvdSglpkDAHXMW9YLjVKFw5B1jWLZJHEsmSE6sKxG8t2w6uaVeuFT18oGS1Ajk2OLZ8FyKvl41SLCLNMOoV/ZcHvUo5WJcAWl7V/oKtNaCO1rilNDK5jsrKsIosgqwwi5SWxLCWtKlB2Y9lueEmn8DIuozChAkWOrTKIlJd2Y9lueKm5xqPmoKdR8AdpPoV/1QNbXO6PpVaY0I2hL4ccFqCPhxw8GqMglo3tI8ddu7FsN7zU8fUyTjqFjBaguiy9YxPF0lOs+kLhUTOXG4IOkE5BOoWiqkK62oQ2UvVUR7+klrSjMxhI+YnlQKzU0dMQyx2dQb/lJ4r9mkiCBMSyBCT6hUAs+zVRR09AFHd0BgMpP2ZZKp2iwX1j245d48ZP6Ny5M2Osd+8+r2W+cerMOe26jMZrNz+vPPzklJS7u3ZljHXvft+s2XOOHf9Km1IVs3zF++yf/6ZNm37pSoPq7qkz517LfKN37z6Msc6dO48bP2Hbjl0N7hs4Gba4lwkhknZjaem6zMzkRx6JjoyE8veNjn7qsce2LF36U2Wl2WXQqhK+YkJekmsHDjw6eLAzIqJ2w4aQZ26QIa5jYljOmjkTmOV/+0ZHL54164fduw3KGcJb4iHzwjcdPPjJkiVJDz8c6XQyxsIdjpFxcX9LSzMbu0jIWn7DHY5hffu+Mn3652vX/lJdza1hakAkZAByuqgoNiqKezUOjBo0qOngQVPxqnR9MXXZhpA9itLicl3YufNvaWmjBg3q0qkTED2wd++05OTD+fm3a2vNI1qkVwO5zz3+uEGdhcp+OD9fDshaFAIAal8qkmXt2z2Kcjg/nzGWNXOm7l0zIgVD/qW6+rnHH4+NijpdVKSCc6uqanZiYrjDsSkr64+6OtXdEF4KhuxRFAPUIcRlkJUAyOC6jLF1mZkGJYFbv9bUpCUnM8aMWzm/+fhKIAAvvBqYZYzFx8Sc3bbNV3k2L158ZxS5efFiXwnaHi8MMi9qi8t1uqjob2lpI+Piwh0Oxlik05n08MMl771n8OXij7c9gCHjUXPQ0yj4g1bOp7h4qX7e/AW4FwvhXr1iSvaWYqWgvqHp7aU5YWFhqsR3d+360cebGq/dxIlx+NvT3z366J/hKa1OUbK3tFevGFWejLF58xdcvFQP+fgan2vj204z5HC9vDwjNTU6MjJr5szvtm//7cgRiP/vQ4dOfvZZ1syZ0ZGRuenpt6qqQvVGbT7gcFqMxjHafIKIObB6NdSxzBkzfjfz66gqG65j3rD5apR2HAuuGB0ZWZmXJ6AA4iF7FOXXmpr1r7/ORzWq2mfSZ5IbUyRkX/wC5Pt79ixbvdrU/h+gFgkZ3mjDQbsNIV8vL3952jRoq1W1GC6lGbSTTuFRFNIp+EfE1IDg5trXiP12be3SuXMZY0vnzjVVcLREVvaF2lRmceYCWOY6xcQRI26Ul+O3a8Nfb9nSo1s3mXQKxtiCKVN+ranRgvUoinw6hfHn+P6ePY989JGuKUIYib1aEp3iauP1N97M0u3fMMaGDh124uQprjis/TBfK1LAs1FR0RWV1TylKsAnUzDGVDrF0bpj/foP8FWAZcvfNR6TG9xtC/Fnt217ZODA2YmJ7rIyX/lc3b8/ZfToxISEKyUlvtK0MR47HGPMAKzqVhvfC7Lu8H79kh5+OD4m5vzOnW3MMPDHVZADfzDolKqe3x91dZf27HkxJYUxlpiQ4PfTEvR7+YPiId+qqspITWWMgdZ2YedO6AP9UVfnLivbvWLF3+fNM1X6FQlZxa9HUW7X1jaUlhbn5o4dNgxmkazLzJSvFxjIuI47oRkBkSxD+e0G+eKuXWOGDmWMjRo0qDg3t+ngwRaXy6Mof9TVNR08eGcyxaupqXUbN5pBLuQpkuJAyNVW9pBjFwlZW3gBALUvtRaybedTcJEiIzXV1N/DxNdleKN9dIr4mJj77rmnKCdHW7l4zO91ddlz5gzv12/0kCEm/VAkrCIDs727d096+OFwh2P/ypUcJg5IplM0lJYmJiQwxu7v2fOTJUv45/iX6uoTBQXPJyWFOxyRTmeFyT9/YpYl0SmqDh+NiooGmeClhYu+v3C5vqFp5ao1XI9YvuJ9EB1OfnP6geEPQsqUlGknvznd4L6xtWgHLADxymYvLrzaeF2lULibmo8d/youfiBXIrBOcbXx+oIXF8Ktfv0H7N1X1uC+cfzLrx/982iIVA2/g7jEtSLA8OmioiGxsdlz5vhSAXk+MCVv/PDhDaWlPDKEAexw3vA/JxcEaIS2FOP8zp3xMTGZM2Z89vbbd9YBGTevbXmR9lldyNpkIYzR7fn9VFk5dcwYZ0SEsmlTCN+lm5VgyLz3kzJ69NX9+3WLZHakSMi6/ALAP+rqtixdGul0Rjqdpv7sbMmvVYGM60wlWiTLAMRWkBtKS8cPHx7ucLz30kt+P1UmES2S4kDINajsobKASMjaMgsAqH2ptZDtqVO0uFyfLFkS7nDMTkwUIFJY8oWyj04x64knJo4Y8dRjjxlQCb3uBVOmJMTFyaFTxEZFHVi9esSAARNHjND9xVcmneLXmpoFU6Ywxp6ZOPG63sSZFperKCcn0uk0XgujbX5bG4Oba0l0iqzF2aAIjB4z9uy5i6Ay1Dc08ZUgiUnJ5y9ecTc1b9xcwAUF5dgJSNl47eay5e9C/JAhQ7/6+rRKp6hvaFr0yquw58Vdd/1JNZ/i+Bcn74+Lh8c/+ngTf7aishrUkwDH5AEmC4RvkB6emTjRoEHB+VwpKRkxYED2nDlmLI7ADucNo0UQgUDG6VsVXpeZCTtTXNy1a3CfPsbNa6ty9pvYALLfZ4NL4Kvn5ys+uLcYPCUY8uH8/Ein0zxxzQApvyUSsjGPvDtotpOLhAx2DmRcxxkxI0CQzbAq5Pl7XV1OWpqYCeEGKERSHIg/G1d2AyCB3xIJWVsqAQC1L7UWsj11ioq8PMGfafEs20enyJo5k3eqtfULYtZlZvbo1u3ztWtHDRokjU5xuqhox7Jl4Q7HigULYK4fhi+TTlGZl+eMiDDuV7e4XHmveofDpq6mxxVZBp3ih8tXp6RMBZkga3E2lwncTc2FW7dD/P1x8ce/ONl47eZLCxdBzMxZs6/Uu3niisrqe+/9T8bYXXf9qexgBY+HwI6de+7u2jUqKnrth/mwCQWeT1G8qwS/hT97/uKVxCTvdjKBjMbbkgbXGQjvWLasd/fuJwoK+K1fqqs/fvPN4f36McaG9e27e8WKbe+8M2PCBL4iYF1mpkmLI7DDecNIp4CwMXZt+kBifj50KGX0aFhN93tdXeaMGSJ30/QLORAIrUqj2/O706S+8eyzuvtatSrzQBKLhAwrepwREWK23vAFXyRkXX5xwW6Ul08cMeK+e+7BtR4nCElYJGQocCDjupBA85UJQfZlmbbHw49vgax5bvu7DHIQSXEg/uy3shtgCfCWSMjaIgkAqH2ptZBtqFN8W1gYHxNjPObR0tTGGPEs20qn4JOUdX/RrN+3LyEuLi05+ce9eyXTKX6prn4+KalHt27a/pU0OsVvR47MnzzZYIULr5tA9J1ffy/u2sUjQxvAFVkGneLUmXN8KUfh1u1cJnA3NVcfqevRsydXH7Ci8c6y5TglzmTj5gJ865tTZ2EFxxtvZlVVH9XqFCtXrQGdgs/agMexLGI8FG/7Xewit6qqnnrssbTkZD6N1l1WBoP2s9u2tbhcP1VWLpk9W9WOnCgouO+ee/6RnY2zCkkYO5w3rNEpIMaXEXylN46v3bDBGRGRm54OyWBDzWXz52vVUON8grsbIOTgMtd9Srfnd2HnziGxsSap2qpiiIQME2RSRo/++dAhVTFEXoqErMuvCuyajAzGWHFurio+hJciIUOxAxnXhRCgNiuCrLVJqGKKc3MD3EM+VG/UzUckxYH4cyCVXRdI4JEiIWtLJQCg9qXWQrabTgEiRXxMzLeFhVouzIsRz7KtdArYfqJHt25fb9miJbEoJwd+PWo6eFA1vtAmDjpGGMUqZr8tLIyNitLOUpdGp3CXlSXExT06ePC1AweM2YFfQBlj5v1SiFmWQaeoOeoC7SAsLGzvvjIsMeAVGbv37Dtz9vyIh0aCppD34Xqc8tz5S4+NGw+3Vq/J47fqG5oyX3+TMfbww6O+/vYMfxeeT/HyIu/wgDE2PXXG5R//7bBSviCFp8cW9zKhN2j3NWLvKPEqUNjhfEHmj2gx8luBB2ACBW5M4YDShLi4+n37As8n6JStghz0W/CDqp7fb0eOVOblPTJwoLCOgkjIsPs0F6GwHUSGRUJW8asLs3TVKsbYmowM3bshiRQJGQocyLguJNB8ZUKQfVmm7fFZM2eK2T3HuKgiKQ7EnwOp7MaI/N4VCVlbGAEAtS+1FrKtdIrP164dP3x4fEyMgI2xVESLZ1k1mlWVR8ClAMj4SF04zkP7mx/shgYrT6XUKWC9Q7jDsWPZMkyrNDrFqa1be3fv/sr06bqTZTBkAaecYK/Go2Z+vGjQAWvOJeXaQa9eMTVHXVxicDc1Y2FCpVPs3rMPp7x0pWHatOlanWJL4bawsLC77vpT0fad7qZm/i6uO7ibmrlO8fKiDJynu6l59Zo8yJOnxxb3MqGnU/BI7aDdhjHcGoEHYFYSXqvf4nItmz9f2G6auI75ZTlwXAYpoecHzsb/wgQ8g6dCeEskZAEfhkAsIxJyID173JkIpPxBpBEJGYoH4zru0jhg9qahUIB2BdnUQ9q5P4iBbHn/XjBev/6MfZsxZqp7i6GYW1gVCKQ1Uz3S9ktrIdtHp3BGRPSN9u5qv9PMmX2+/EE8y5a3YwIg464FrLrV/uYHc5Zhu3opdQqPooAWM2LAAHw8ooDuqACKW9tAgUuY1yHBkPGoOWh5gj8om05xuKYWThvNfP3N+oYm8ToFtMU21CYwZF8fJIP4opwcxpiqCimbNjkjIvByGIMc2ngL1zFv2FCNCsldXZ3Cu/Nr9+5FOTl/1NWF5C0GmYiELODDYICU3xIJOZCePXw5sufM4SUMeUAkZCg86RR4+Kpq00LOL2QohmWDm8rlNAAAIABJREFU/j14MgaeNXOmSWAFnxFg4M8YL+kUIadbjFcbFBsP9gyShfCWYMhQo3t37/7S1KnhDofgnSnAboIhexTFoB0LIZUGWQmArHJdLElAwVTihaw6hUdRXBs3Rjqdi2fN4mfAC+iOCqCYdAouZLQ1gGWVjZ8Vw+QFPsdBuwWmwboP1SYU2nUfp86cGz1mLGPs0T+P/ubUWdW7+PwIPJ9CtTenu6k5uHUfBk0SHsDbJGxgDd1b0GJq9wSFbTvwYhDdx0MSKaZZwUXVjmObKyp2r1hxf8+e4Q5HgQnbjuC3C+7rw7L2DW+9pSqD4EuRLGv51YL9R7b32CNTh7IiIQPAQObJa00RwhiCHEJj4qx+r6t7Zfp03Z1fpdcpjPcMCqSyY0sGERbv1biQAgDi10HYWsitHQZoyx9EjGDIfMT+9ZYtS+fOZYwJO46UG0cwZHvqFNCXTkxI4Nvww+h9XWYmECGxTgFnVOEz4KXRKWCPwlat+zBjQ0NwIVyR8cC/rSKCx2PNfIpa1/HY2P+C3yKKd5XglRd8H80ePXtWH6k7e+7iww+PgpQrV63BKfE+msW7Svi2FP36DzhcU8tTck0E6xSvvvY65DklZeoPl6/yxHgfzZcWLmq8dtN7MOpnxdzQXiba9ku7HaSK1poIls+pfpvCl9qVda19hd/0uI61nWW/r/Moiq+eH+z988TIkc0VFYHkE3QakZBhasz8yZN/O3Ik6AK3/UGRkH3xy1HwQ21MXRIsEjJAI52CUywsIIzl3PR0vzu/qn7KM8MIwvB6FCUQf/Zb2dtuBJGQtaUVAFD7Umshc53C1P2DVKgFQ+Y6xemioltVVbMTExljL0yadKuqSlUw8y4FQ7anTuFRlKKcnHCH48Dq1R5Fgb4H/mlQYp3CoyhX9+8fM3Qol2mk0Slgf/pAjt9qcbkWz5pl6t5SuCLjUTMfPgcdsEanwOqD6hQPfi7pA8MfPHXm3OUfG6anzoAh6wvz0q82XueaAj+XFBQNvLEFHuKqwrAjRt6H6yF+yJChX319mufJzyVljHFZBFvcy0TbdAp4XG61orUmgr6viil8GUg9bO1LVelxHQsVy6pXqC599fxw10H1SGgvRUKGXVHFnLdqYCWRkH3xy4sHZ7uY7dsiIQO0QMZ13AhmBAiyGVaFPA/n54c7HMZr8UinMMP+4r0ao/DbmuHEoQpbC9mjKLDPsanz3VS2EgxZ1dloKC0dP3w4Y2zp3Ll8kryqhCG/FAzZtjoFP4L015oa7WGlcusUHkXZv3JluMOxKSurxeWSRqeA+svlJ4O6CewHcjKIQSbGt3BFxqPmoOUJ/qA1OsXVxusvzPP+LMMYS/pL8vcXLoNSUN/QNG/+AojnKzLeWbYcYoYOHXbi5ClI2Xjt5rLl70L8Y+PGnzt/qVU6Bdc4wsLCthRu4zpFRWV1VJR3PyG8IAVb3MtEKHQKVSbgQ3zWABz8O2boUDiUtH7fvsWzZn356acLp06dMWHCz4cO3aqqeueFFyaOGNFQWqrKqrWXZigmrSrDjfLyiSNGYGUXPw5LQgKph/ipIMK4jpnEsqpUvnp+qq6D6qkQXoqE3OJyrVjgrdrzJ0/+pbo6hChalZVIyL74hQL/WlPzynTvNsBmd4JFQgZopFO0yidDklgYyzfKyxMTEowPbCedIiScqjIRRrHqvXBp3JrpPtL2SGshexQFzo0uXbWq7VgCzEEwZG1n43RR0ZDY2HCH45MlS2Q9El6LOkB2QpVMAMvaRhj6YLCMel1mZqTT6dq4kSOSXqe4XVubkZoaHxNzdtu2yjzvaQmmdr0EUAzc7Vi2zO/OMrz7vWLBAvMqNYaMR81cbgg6YI1O4W5qLtpWHBYWBkLDSwsXXbxUf6W+cfmK9yEyLCysaNu/NrOoOnwUtAPGWErKtFNnzjW4b3xS8NndXbvC48tXvM+FBm1Ad93HxUv1yZMmw+P9+g/YX1beeO2m69iXfI1J8qTJFy/VQ27Y4l4mTNApYBYW3o/3l+rqd198MToyMtzhSExI+OLTTz2KcmnPnunjxt3ZvCA6MnLFggXmzc3DDmcMWStztNY+sMGPwYoA2GLT+Be81r5Umz5wyNpng4vx1fOTct2HR1H4bzVvPvusVVKFSJZ98etRlJ8PHVr01FNiFgOLhAwVgXSK4BqEtjwlkuWKvLxIpzM6MvLztWt1Oz3aLnJboOk+KxJvIP5sUNl1yx9EpEjI2uIJAKh9qbWQ4aQAwXMABUPWHbF/W1gYHxMjTKoQDNm28yk8igLTKBY99dSdWZyqHrX0OoVHUWAG64IpUw5+8IE0OgVfrjXriSd+PnRI24r+UVf3yZIlXTp1MnuXXFyR8ag5aHmCP2iZTvH9hctJf0kGpUD79+kZz1660gAyAZ5koU05eszYU2fOaeUJHqOrU7ibmuH4Um2GjLG7u3bFZ6Bii3uZMEGn8CjK2W3b4mNiTJW7Ai85djhjyG3UKUCgYYwZ/GQBk018TbgIHJRxysAhG+cT+F1tz+9WVZWs+2iCWZRNm+JjYhhjowYNKnnvvRvl5TDOuV1b21BaWpybmz1njqkShkiWtfz+duTI+Z07VyxY0Lt7d8bYMxMnXi8vD9xhgkspEjKUMJBxXXBYAnyKIAdoqOCStbhcnyxZEu5whDsczycl1W7YwOvsL9XVJz/7LCM1lTEm2XkftI+m2QeaaL1RfEXmZfipsvKNZ59ljC2YMuXXmhoeb3ZAMGRdncKjKKBFRjqdFXl5kkG2s07B+9vaGcp20Ck8ilKQnf0fXbosmDJFGp0C/wR4f8+e2955p+ngQehX//ehQ1Xr1k0a5d3hMT4mxtR90FQb8+NRM5cbgg5YplO4m5qP1h17cMRDWqVg3PgJ/LQOkBtOnTmXmKQjasTFD6w56uKShG7Al05R39D09tIcPqeDF6Nz585rP8yHHTQhQ2xx71fEHJ0COn/33XPPwQ8+0P2RyqT36mYb4MdSK1Jcv7u7boa+IkHfxRNJtClbXK5l8+ff0Y/41sTaNG2PCRBy21/Ec4BxLHc8Hgh3OHLS0gSsDhUP2aMop7ZuHTtsGAerChgPBrjpgg6IhOyLX8ZYl06dctPT+eguaDiBPCgSMpQHdAoVs/zycH5+IMVuSxqrIJvtvQY2EQy5xeU6+MEH9/fsyWlVBbp06mTq7oMi8Qaiu2lFSQOygrslErK2hAIAal8qHjKM1rgzPzJw4PfFxdqCmRcjGLIvnYJrkYKHN1745nSwcbaAmrOsCpi6HACKIYBlX5PaajdscEZEaHfFsolOcauq6pmJE4FxU4kWQDF26av796eOG6fyZH45dtiwU1u34vRmhDFkPGoOWp7gD1qpU7ibmi9eqs95Z9ngwUMYY2FhYQ+NTFiTt47PpMC6w5X6xvUfbXxoZAIoC4MHD3l7ac6585dwGt2wL53C3dTceO3m55WHn5ySAktIune/b9bsOVrhA1vc1GYU5ud0veuu9a+/LlLC17osdjhfkNsuUngUBfazyZwx4/e6Om0xeAycFqFtW3mCtgcCgdz2t+ActOPY6MjItOTkLz/9VIxQJR4ywL9dW3s4Pz8tOblvtHcvGMZYdGRk8iOPrMvMbGzzfivYwtqwSMi6/D712GNbli6982OdtmwmxYiEDBBIpzCJSoNsxbPsUZRbVVUF2dlJDz8c6XRCRR7Yu/dTjz22e8UKsz1cJF7SKQxOpzLwybbfEskylJbrFJFO56upqe6ysrajaFUOgiH70ik8inK7thZOKo2Pifm2sLBVKFqVWDBkPp8CmiztX1OHr2AZAZB96RSw41tRTo6KI5voFB5FOVFQ0KNbN5nmUwCVf9TVnfzss9eefnpg797g1X2jo9OSkw/n5wv41VPa+RS6skI7jBSmU3gUpcXlOrZ589hhw4b17bsxK+tySQn3sN+OHLlcUlKcm7tw6lR+BrKqrQnVZSDNaEh0ilAVuO35BAK57W9pVzkQ5HZFh0mFIZZNMmy7ytZuLNsNr6oX6IVv/s/Olr+CWLacAgEFIJYFGNnaVxDF1tpfzNsxy3jUzKdFBB2weD5FO1QltEXCFvcyYX7/AISxrJkzRw0a1KVTJ66NJT/yyJqMjEt79pj9ezt2OF3IkokU1AvUZVmAqwt+hV/HFlweAa8jyAKMbPkr7May3fDSF8rLuPldL8tfQY5tOQUCCmA3lu2Gl5prPGoOWp7gD5JO0awVJlQx2OL0sYRGXKtTCGjcTX0FtaSmmredZE4stxMiTC0GsWyqedtD5kRxe2DB7DIQy2ZbuD3kTyy3BxZMLQNRbKp520nmmGU8auZyQ9AB0ilIp1C0Xo4dzhv+998xtCJFa7fPVGXYHi6NIbeHEoa8DAQ55CZthxkSy+2QlJAXyW4s2w0v/UDnZfzf+yFSXpJjS0mrCpTdWLYbXmquSafwryyoJkS08RJbnD6WuiIF6RSq71CHuKSPR4egqY2FJJbbaMAO8bjdWLYbXur4ehknnUJGC1Bdlt6xiWLpKVZ9ofCoOehpFPxBmk/hX/XAFrf5x1JWkUJVx2zOssRNKn0vJSaXQyOWuSlkDRDFsjKLcRHL2BqyhollWZnluIhibgqJA5hlPGrmckPQAdIpSKcIdN2HxCIF6RTeJkbG32pUoHBLSpBVxpHmkliWhkpfQIhiX5aRKZ5YlolNX1iIZV+WkSaeKJaGSgMgmGXSKfwrC21c6KF6HFvcy4Qth3NyixSkU9jWsaWvzvjjQSzLSrfdWLYbXvpCUdtFbZc0FrBb82U3vNRc41Fz0NMo+IM0n8K/6oEtbtuPJekU0nwjORD6eHBTSBwgliUml0OzG8t2w0sdXy/jtvyJSHrUVJeJYvksYHOvxqNmLjcEHSCdgnSKgNZ96OoUMjUuNm9WqBcokzNjLOTY2Bqyhu3Gst3wkk5BXyhqu6SxgN2aL7vhpeaadAr/yoJq4UYbL7HF7fyxxFKFNB8MDoRaUm4KiQPEssTkcmjEMjeFrAGiWFZmMS5iGVtD1jCxLCuzHBdRzE0hcQCzjEfNQU+j4A+Knk+x8bPijvj//9qL2eUfQbYD08QysSylBcixpaQVgyKKsTVkDRPLsjKLcRHL2BpSholiKWlVgeIsd2CdgmOgAFmALEAWIAuQBcgCZAGyAFmALEAWIAuQBcgCcliAdAo5eCQUZAGyAFmALEAWIAuQBcgCZAGyAFmALEAWkMECpFPIwCJhIAuQBcgCZAGyAFmALEAWIAuQBcgCZAGygBwW6MA6RUfcmQLKzF1HtRpH4kuCLDG5HBqxzE0hcYBYlphcDs1uLNsNL96ljJMufYBYlp5icmyiWEoL2Lnt6tg6RRuP3rDkcWxxb5NKh3jLaAHVx5JYltICxLKUtKpAEcsqg8h3SRTLx6kWEbGstYl8McSyfJyqEBHFKoNIeYlZxqNmrtcEHRB93oclQkMbX4ot7mVCxlG6ChR2OIKsMo40l8SyNFQaACGWDYwjzS27sWw3vB5FIcjS1FYDIMSygXGkuWU3lu2Gl5prPGoOWp7gD5JO0exXxcAW99Y30ilktAC1pOTYUlqAHFtKWlWg7May3fBSx9fLuIwdDxUocmyVQaS8tBvLdsNLzTUeNXO5IegA6RSkUyjaLwE1K1qbyBdDLMvHqRYRsay1iXwxdmPZbnip4+tlnHQKGS1AdVl6xyaKpadY9YUincK/suB3ikSrEmCL08dS1vpGLamszGJcxDK2hqxhYllWZjkuopibQuIAsSwxuRwascxNIWuAKJaVWYwLs4xHzUFPo+AP0nwK/6oHtriXCRklbRUo7HAEWWUcaS6JZWmoNABCLBsYR5pbdmPZbnhVv1Z54VM/REYLkGOTY8tnAfJq+TjVIsIs41EzlxuCDpBOQToFrfvwWgDXMW9Yxj6QChRBVhlEyktiWUpaVaDsxrLd8NIXyss4fZRltADVZekdmyiWnmLVF4p0Cv/KQquWdfhNjC1OH0tZ6xu1pLIyi3ERy9gasoaJZVmZ5biIYm4KiQPEssTkcmjEMjeFrAGiWFZmMS7MMh41Bz2Ngj9I8yn8qx7Y4l4mZJS0VaCwwxFklXGkuSSWpaHSAAixbGAcaW7ZjWW74VX9WuWFT/0QGS1Ajk2OLZ8FyKvl41SLCLOMR81cbgg6QDoF6RS07oPWfXio46ttduWIwR8PYlkOTrUo7May3fCSTkFtl7bWyxFDdVkOHg1QEMUGxpHmFmaZdAr/yoLfpRytSoAtTh9LaSqVCgiuY8SyyjjSXBLL0lBpAIRYNjCOHLeIYjl4NEZBLBvbR467xLIcPBqgIIoNjCPNLcwyHjUHPY2CP0jzKfyrHtjiXiZknG2oAoUdjiCrjCPNJbEsDZUGQIhlA+NIc8tuLNsNL82n8DJOXS8ZLUB1WXrHJoqlp1j1hcKjZi43BB0gnYJ0Clr3Qes+aN2HTi2Q49NCXQQ5eDRGYTeW7YZX1Qv0wpdxyKoCRSyrDCLlJbEsJa0YFFGMrSFrGLMslU7R4L6xbceuceMndO7cmTHWu3ef1zLfOHXmnHZdRuO1m59XHn5ySsrdXbsyxrp3v2/W7DnHjn+lSvnD5atTUqYyH/9279mnSn/qzLnXMt/o3bsPY6xz587jxk/YtmNXg/sGToYt7mXC/P7B4fx8FYIunTolJiQUZGffqqoSUADscGIgexTlp8rKguzspIcfjnQ6GWPhDsfIuLi/paX9sHu3fJB/qa5+7vHHVSxHOp1Pjx9fs379H3V18kEGRC0u1/fFxa89/fTA3r0Bft/o6PQnn7ywc6dkkE8XFcVGRakoVl3GRkWdLioyFbjIurx58eI7jfPmxYt9IQKbZM2c6StBSOLFQP61piYtOTnc4TiwerVxsYtychhjmTNm/G5avTYVMtD6yvTpuuVvrqh4YuTI++6550RBgdYOvx05Mn/yZMZYcW6u9m7QMabiVZXql+rq55OSGGMrFixocblUdz2K4i4rmzhiRKTTeTg/X3s3VDEiITeWlo574IFIp9O1caNu+W+UlycmJJjdfImErPtFVjXXjLG/PPLIT5WVujYJSaRIyKoCqz5YpjozfrUYyO6ysoS4uOw5c/CroXUaM3TojfJyHn+njr/x7LOqSH43JAExkFVFhWYcXHrUoEFNBw+qEph3aQlegNPicuW9+mpGaurt2lrzAGpzthCytjBiYjBkPGoOehoFf9DK+RQXL9XPm79A+yXo1SumZG8pVgrqG5reXpoTFhamSnx3164ffbyp8dpNnvjM2fMjHhqpSsYvVTpFyd7SXr1i+F0emDd/wcVL9TxPbHEvE1boFLxsY4YOvbhrl9llwA4nAPLt2tpP//rX6MhIDhMHunTqlJue/kt1tamoBUM27hUtnTtXQKsqGLJHUW7X1r6/cGG4w4H5hfBzjz9uNsWCf5NUdfu0kBljZnf0BUO2lU7hURQQIHwN4KG9AjnDGRFRu2GDeS2YqXUZPPnRwYOvHTighXCioOC+e+7xpURcO3Dg0cGDB/fpE9rPlql4tRi/LSyMjYqKjYr6trBQdbfF5VqxwNuNWTxrlqmNtmDI4NsLpkz5taZGBdmjKFDTfQk32vTBxYiEbPxFhtbbbClKcHOtIkWMiKx6qTDIwK+qm3GjvHzM0KH9e/T4bvt2XrCfDx1KGT16/uTJvx05wiNDGxDp2NqSZ82caR+d4sLOnUNiYw0kV619QhJjLcUhgdDaTDBkPGrmckPQAct0iquN1994M0u3784YGzp02ImTp7hSsPbDfK1IAc9GRUVXVFbzlIHrFEfrjvXrP8BXAZYtf5fLH9jiXiZE6RT4V8dfqqsr8/LGDhvGGFM1tWaUBzuc2ZBv19bmpKWFOxzhDseLKSknP/sMPg+3a2svl5S899JLoF+8MGmSqXNJREL2KAp8NVXD1Bvl5fmvvx7pdIY7HDuWLTODWZynYMi8d3t/z567V6wANltcrhvl5QdWr/5bWppkOgU2tUdRmg4eHDVokOD+gbBeIIC1m05Rv29fQlxcfEzMed+zgb7esqVHt25PjBzZXFGhcokQXppal6Hj7oyIUDZt0paZ/0ynq9comzY5IyJC/s0yFa8WI/woxxjTjttPFBT06NZtzNChV/fv1z4YwhjBkGHGhG7//kpJyYgBA0YMGHClpCSEALVZCYasLQCP2b9yZbjDkZOWpjuliCdre8BCyHLrFB5FyZ4zJyEuzl1Wxmn6bvv2/j16MMbw5JEf9+59sH//3PR0nizkAQtZ9iiKfXQKLiIzxp6ZONHUEYTKSaylWFUYMZcYMh41By1P8Act0ymqDh+NiooGmeClhYu+v3C5vqFp5ao1XI9YvuJ9UB9OfnP6geEPQsqUlGknvznd4L6xtWgHLADxdh1eXHi18TokrnUdj439L8ZYYlLy+YtXuH6hClxtvL7gxYWQZ7/+A/buK2tw3zj+5deP/nk0RD4w/MGT35yGp7DFvUxYoVPAS6/u3z9m6FBf/cUQFgw7nNmQdyxbFu5wRDqdBz/4QHdW7amtWx8ZOJAxlvfqq7oJQgJcJGRfOgUAgX6/qXI+vEgwZJgf3qNbN9354SEh0W8mgiHj8pBO4VEUMV1hYSz/XleXOWPGnRWLRTk5mGscXpeZyRhbl5mJI0MeNhtybno6Y2zDW2+pSg4Tp3t37z64Tx/dCRdrMjIYY2syMlQPtvHSbLza4sG43RkRcfCDD/hdWBIS7nDsX7mSR5oUEA8ZPs0qaYZ3/c12acEaqwFroMskJiTg1QEG6dtySzzLvLRiGmf+Oh4QBrk4N7d39+6ntm7lr67My7vvnnviY2JwywYTxEpXreLJQh4QBlm35PbRKcCln5k48YNXXhHz4x83uLUU82KIDGDIeNTM5YagA5bpFFmLs0ERGD1m7NlzF0ERqG9o4itBuNCwcXMBFxSUYycgZeO1m8uWvwvxQ4YM/errf2kKNUddsJRj2rTpl640qOQJfnn8i5P3x8XD4x99vInHV1RWc/WkcOt2iMcW9zJhnU4BkrDxCvCQFA87nKmQYR1suMPxyZIlBhqEa+PGSKfT+HfLNgIXBhnKqTufAm5B2xryXyC19hEMGX67ED+hAAMXDBm/mnQK+XQKj6LUbtjgjIh46rHHdH+rAW3O1IYLfMxsx4ZpEVrxFH57fD4pad7kyVoB/X9ramYnJmrjcb0ILmw2Xt1SHfzgA2dEBB6v6o7kdZ9te6R4yD9VVk4dM0Y1pQLmUY974IHG0tK2gzLOQTxkbXl+ralZMGWKygjaZKGKsRCy9DqFVoDY8NZbk0aNmjJ69BvPPsv7n6WrVvnabUcClu0zn+L3urrsOXOg5oLKLKbVAiexsCKHyktbmw+GjEfNQcsT/EFrdAq822XW4mwuE7ibmgu3bgf54P64+ONfnGy8dvOlhYsgZuas2Vfq3TxxRWX1vff+J2Psrrv+VHawAuKrj9T16NmTMaZKzJ+CQPGuEvwWfvf8xSuJSclwixcMW9zLhKU6hd+Z1SEpHnY4UyGXrlrFGPPVy+dY+O+WBlv08cTBBYRBhuIZ6BTwNZ2dmPi/eguDg0On+5RgyDBQFzBm0wULkYIh45KQTiGlTsFnCX29ZQumG8KgYqQlJ+su8temDzrGbMeGbSYe7N//x717cSEP5+eHOxybFy8uzs3VzpsAFUN3ngXOJIiw2Xh1i3S7tjYjNZUxtikrq8Xlgp/Z42Nizm7bpps+tJGWQIb1DtyBoesv7JdJSyCrWAMpytS5nPiNFkKWXqeA5ojP7fq9ru6V6dOzZs7MTU+fMWHC/xw+DETkpqerlodggkIStpBl++gUsOKS76AJKrMdKnJIXDSITLBX41EzlxuCDlijU5w6c44v5eDTFlRCA6gPWNF4Z9lyLii4m5pxJhs3F8Ct3Xv2gcrw8qIMnFgVXrlqDSTjszYgga4sgi3uZcI6neKO4vvGs88yxkydkyZsviWHYzBrmlsbFA3tD3o8QRsDuI4JYNmXTnG7tnbxrFkCJooLY5nzAn1cWCiI14jyBAICglnGiEinkFKn8CgKrOzQrmducbkWz5oVyIEg2E+CC5vt2NCnD3c48EJuj6LkpqfDb4+6s8BAxdDdtyI4mPwps/HyF6kCMJtgSGzsd9u356Slcc1ClcyMS0sg36qqeuqxx/gusLAZx9QxY0w984JbzxLI/O0eRQG6heEV/1HGYKXXKf7n8OEZEybwPiRsuwMaK1dgYSEbli2wiUIVttax7bDuAzRlvAEcTIwaEhsr39FyoXLLNuaDvRqPmoOWJ/iD1ugUfHVGWFjY3n1lWETAKzJ279mH98XM+3A9Tnnu/KXHxo0HuWH1mjy4xXWKyMj/FzawuLtr1yenpJTsLcWnjb68yLtoljE2PXXG5R//bXkIX5DCV45gi3uZsE6ngF3HBfwijR3OPMgwVg9wit2prVt7d++eMnr0z4cOmUGBGMi85FqdosXlurp//+vPPBPucIwfPrxBxlm118vLn5k4kTEWHRm5KStLwMaZ3OAQEMwyfjvpFLLqFNC/nzhihGr5OuyymRAXV79vH/YEM8ICHBuUYizHQEcftgiFsOpcD9jVIrQnklpekQuys8MdjokjRvTo1k3k3mwCKNb1zMq8PGdERFpy8k+VlQumTHFGRFTm5emmDHmkVZABCAxsdA95CTlSnqGFkKXXKWDdND9w9OKuXUNiY4989NGJgoL4mBjYNgvmx+E97Dk1IQxYyLJN5lPAUnHV7AnwcD7DIoSEarOylmJteQTEYMh41MzlhqADFusUvXrF1Bx1YfUBCxMqnUJ1quilKw3Tpk1X6RR8MwuIx3/xaaNcp9BOu1i9Jg+eaj86RYvL1XTw4KasrNioKDE/4GCH84bNkWZg5IYlT4MXQRNj3u4GYiBzgKBTYP+EcJdOnTJSU6+j07z5IyEPCIYM5f+1pmblwoVdOnVZNMipAAAgAElEQVS6s/tg7+7dP/3rX82eEo/tZglkKADpFLLqFHDyqHauAQzsl82fz1c+Y1cMbViAY1/ctWtwnz5YKYY2efGsWQAwNz0dGwF+vQyweW+tNQTg9VWkW1VVILYK3hLYKsjwqXJGROSmp0c6naptNX1ZKSTxVkGGwoMgBWt8QgInkEwshCyxTgHQtN0tvzGq6WOBMBhIGgtZtoNOAQqjdjcKOLZJzF4z1lIciBOGPA2GTDpFM+gaujoFVxl0GyB+2miH0Cm0EMIdjvcXLjT1kHbwXexw3jDpFKG2gK5O0Tc62tehJ2ZQIIZl3ZL/sHv3y9OmgVoxdtiwLz79VDdZyCMthEw6haw6hUdRQJLInDGDH1sI4kWAk8Xa7ucCHFs7BQw2S+KLEGGvTT7hAnQNk/YDFoDXFymwJRtjLNLprBA1s8DaFQGwzQpAdm3c6MsyIY+3kOWz27bFx8TMTkzU3R835Eh5hhZCJp1C2+UmnYJ7ZlsCgr26dsOGSKdzx7Jl2jK7y8omjhhh0lcJv04wZPxqq8IYslQ6Bd4CE9QHg3UffBMKSKm77uOOeHHhhx8hQeO1m2fOnl/9wVo4AYQx9tDIhNNnvnc3NXOdQrvdZvtZ94EbzejIyPQnn/y2sFDAT3PCukTwg5vqpChfdQw+oua1L7iOecOhFiZUGao6/bdraz9fuzY+JkZk31cwZJUFPIryw+7dL6akwKm0Ynr8FkImnUJinQKWePBFzhyp3x2CtZUiuBgxjg07ccA6DljIjRd6wF6bfMIFaDd817rgcPl6Sgxe7dvhVM5wh+PV1NQ78ykmjhghbKsdqyB7FAV+n2SMiZkyzc1uFWQ4bjY+JubbwkJeGDEBqyDzJsvsJQ9aM4qEDIeOQQuWm54Ou5VDUwbb6JSuWmXSFDAMXCRk/F4I22F/Ci1qwTHWUiwYLLwOQ5ZBp6h1HY+N/S8YhxfvKgFZAf7yAzt69OxZfaTu7LmLDz88ClKuXLUGp8T7aKoywcncTc0F/yiEHPgyk1dfex1ipqRM/eHyVZ4e76P50sJFjdduupuascW9TJg8gvUoyuH8fMaY+A8Gh4YdzjzIsDcbYyyQBczQ682eM4cXMrQBMZB5mVU6BcTDmroRAwZcKSnhKc0LCIasC6TF5Tqcnx8bFSXNMn5dmB5FIZ3Coyjwk7vZLZt4x25xuZbNn39nKRPfEhiG9PzSl1eEKl4MZDiKCDr0sHk+Fo6hPYdePuwhasaJpGAxMXi17EAT/czEiTc//xw2PF6xYIFMPx5oIUOMmIPGVG+3hOUWl+uTJUv+o0sX47PSVUUN1aUlkKHwEs+n4OzA9hPZc+bAkcm8P7kmIwP22clNT+cbWPCnQh6wkGU7rPsIOV9BZGgtxUEUuO2PYMh41Bz0thT8QWv2p8Dqg+oUD34u6QPDHzx15tzlHxump84ATeGFeelXG69zTYGfSwqKBo/XBrj2wXWKvA/XQ55Dhgz96uvT/BF8LimXRbDFvUyQThE6CxTl5DDG+LFnvmwLm/eaunM+rmMCWNbVKeDHOsZY9pw5fAK5L5u0PV4wZF8FbnG5Vi/ynj0ciFzlK5MA4y2EbAedojLPu7kP7/xpSTH1N3b+OktYxkeQwqaSAjY8FgwZevlwziic5aGaLgGnkxbn5oIFzDiRFCBbQjGs+ODbUsC5pPySc2FSwBLIHIt9dIpvCwvjY2KeT0oSv82zsKmsnFYcsINOAVrqjAkTLuzcmRAXx7sclXl5g/v0Obtt2/zJk/mBINg4oQ1bW5dpPkVo2dTNzVqKdYtkdiSGjEfNXG4IOmCNTnG18foL89JBKUj6S/L3Fy6DUlDf0DRv/gKI5ysy3lm2HGKGDh124uQpSNl47eay5e9C/GPjxp87f4lrDdoA37SCqxJc4wgLC9tSuI0/UlFZHRUVzRjDC1Kwxb1MhG6U7isrm8yn8CgKzJcOdzj2r1zpyxoeRanIy4t0OhMTElQ76hs80tpbuI4JYFlXp/AoSmNp6bgHHrDbTj/COsGCWcZOaAedAg7l0Z58AXaA39ilOVYZk+tRFDjBsUe3bl9v2QKaBd6uQpU45JdiHBumjcAsidz0dO10CRjqvDJ9+jdbtsRGRZlxIimYTgxeTNPvdXVwECmeQAFbLYo59UM8ZAxfWBONXyoe8q2qqtmJifExMWe3bcMlERYWD5lDs4NO4VGUDW+99WD//mWrVw/r2xfO+PAoynfbt8fHxOxesWLM0KEq7ZXbJ4QBC1mm+RQh5NEgK2spNiiYebcwZDxqDlqe4A9ao1O4m5qLthWHhYWB0PDSwkUXL9VfqW9cvuJ9iAwLCyvaVgzyQdXho6AdMMZSUqadOnOuwX3jk4LP4NhRxtjyFe9DyktXGl597fWCfxSePXcRlmycPXdxxbsrecpnnp15pb7R3dR88VJ98qTJ8PZ+/QfsLytvvHbTdexLvsYkedLki5fqIVtscS8TpFOE1ALQ1bsz8/9wfr7uBNqTn30GGzeYtKcREIrrmACWfekUHkXZsWxZuMMhoO8rGLKvivN7XV32nDkChq/W/lplB50CxurhDofulGk4VlnAAh+rHBvWeqzLzFw2fz4++cKX54cwXhhkmEbxt7S0lNGjtdMlYBrFmKFD8U4WIYTJsxKGl7/xcH5+pNOp2pACzv4IdzgKsrN5SpMC4iFjIHbQKfiKD90d+LA1zAtbyLJNdIojH30U6XRmzpiREBfHN5eBmWIvTZ0aGxXFNwaWkmXSKcyjFedsYUXGxRAZxpDxqJnLDUEHLNMpvr9wOekvyaAUaP8+PePZS1caQCbAkyy0KUePGXvqzDmuU/CTSrUp+/UfcLimFlK6m5q3FG7jQokq8d1du+IzULHFvUyEdJSum5t95lN4FOV2be3SuXMZY106dXrruefO7dgBB5rcrq09t2PHW88916VTpy6dOhVkZ+uqGLoGDCIS1zEBLBvoFLzva3ZvSTDks9u2LZw6df/KlQ2lpUDxH3V1P+7du3Tu3HCHQ3uIVBAk+n1EMGRcHjvoFB5F2b9yZbjDEe5wvPXcc5f27Pmjrs6jKM0VFTtzc2OjonxJGNhQbQ9bxfL5nTvjY2ImjhgxMi7O16SStqPTzUEYZNiW4pGBA31Nl8hNT4+NioIEp4uKdEvb9khheKGosEu8MyLi4AcfqAoPO1YMiY29sHOn6lZoLwVDVhXeDjoFCKkiD15VGdlaJd0mOgWcQ/T4Qw/hvXVgK004K/3U1q1aXkIbY21dpnUfoWVTNzdrKdYtktmRGDIeNQctT/AHLdMp3E3NR+uOPTjiIZVGwBgbN37CN6fOckHB3dR86sy5xCQdUSMufmDNURdPiU8qVWXbq1dMyd5SntLd1Fzf0PT20hytVNG5c+e1H+bDdAxIjy3uZYJ0ilBb4NeampULF8IplSri4HLBlCn/feiQqZbHdUwAywY6hUdRxGyoKRgydIN0+R0SG3ts82ZT+YXMBUPGiGyiU9yurX1/4cJwh0NLdLjDkZOWJs2xyphcCPPOLmNMwORhXABhjo0x8tXduCT8DEt+8Ae+G6qwMLweReErPnRPuzC+Gyq81o5gPYoivU4BPw9oWy1VDB7chpBcnpVIx+YvhYBNdAqY86XdR2lNRgZjTMAmmpbXZdIpVJ5vxqWFFdkMOIHkiSHjUTOXG4IOWKlTwPqLnHeWDR48hDEWFhb20MiENXnr+EwKLCtcqW9c/9HGh0YmgLIwePCQt5fmaLelOP7l16+/8dawB4ZDss6dO48bP2Hth/l8CwycZ+O1m59XHn5ySgosDOne/b5Zs+dg4YN0Co/H43W+UAsTuhk2lpauzcgYO2wYCBaRTmfSww+nJSfD5dhhw0zVuXEdEwDZWKeAfUPN3lBTMOQ/6uq+LSz8W1raqEGDMMUF2dnCzqgXDBn7uU10Co+itLhc3xYWvvb0032jvXv93NkhtW909GtPPy3ZscqYXB4+sHp1uMMBu1TwSAEBkY4Nm2X6Or0PTic1W6kRiRdWfBjMmIANNXVnW4SQepGQtcWWXqcAr1apEtpL0im0vtHGGMGOfWda7hvPPqvdtxs2gRawiSbpFG10mA7xuGCvbg82wZCl0imwatBuw9jiXiaEDNqtfQt2OGsht7hcro0bh8TGMsYinc4tS5fCTPKQ26f9QA45NF8ZEmRflpEpnliWiU1fWOzGst3wWj628eV4psYTy6aaV5W5TeZTqFBbcmmtY9N8CgGkW0uxAIDaV2DIeNQc9DQK/qDF8ynarTaBC4Yt7mWCdArhFrheXv5iSgr8uPFiSsr18vKQs4DrGLEccvO2kwyJ5XZChKnFIJZNNW97yJwobg8smF0GYtlsC+P8SafA1jA1bK1jk05hKrmQubUUCwCofQWGjEfNXG4IOkA6RTOWJHTD2OJeJoSP0sW/ETscQRZvfzFvJJbF2NnatxDL1tpfzNvtxrLd8NJ8Ci/j1PUy0wKkUwhzMGubL9IpBBAtmGKovNp1ajxm8+LFZqPGkPGoOWh5gj9IOgXpFIrWfbHDecNmfh3bSeYEuZ0QYWoxiGVTzdtOMieW2wkR5hWDKDbPtu0nZ2JZJBeqoY6px8BjXMQytoZ5YdhiBgauowYNajp40Lx3qXImilUGCfmlqvJyeYIHSKfgqodOAMsqGz8r1p2w0M4jMQRvfaNBu4wWoJaUHFtKC5BjS0mrCpTdWLYbXppP4WVcxo6HChQ5tsogUl7ajWW74aXmGo+adXSBVkbRfAqaT0HzKbwWoJZUyg6BChSxrDKIlJfEspS0YlBEMbaGrGFiWVZmMS5iGVtDyjBRLCWtKlCYZdIp/CsLoZ2ggS3uZYJEfRktgOsYsSyrkxPLsjKLcRHL2BpSholiKWlVgSKWVQaR8pJYlpJWDIooxtaQNYxZxqPmVk6e0ElO8yn8qx7Y4l4mZBylq0BhhyPIKuNIc0ksS0OlARBi2cA40tyyG8t2w0sz/ryMU9dLRgtQXZbesYli6SlWfaHwqFlHeGhlFOkUpFPQug9a9+GhXqCsHxLqIsjKLMZlN5bthlfVC6TmGju/TGFybJnY9IXFbizbDS8116RT+FcWaN2Hr/YxwHhqVgI0VIdORix3aPoCLDyxHKChOnQyu7FsN7zU8fUyLuNsAhUocmyVQaS8tBvLdsNLzTXpFKRT6MyACG1rTs1KaO3ZPnMjltsnL6EtFbEcWnu2z9zsxrLd8FLH18s46RQyWoDqsvSOTRRLT7HqC9WxdYqNnxV3xP98NQ0/jVb6AEGWnmLVx8MOeAkysSyrBezWYtsNL7VdstZcFS5ybJVBpLy0G8t2w2vz5roD6xTcUylAFiALkAXIAmQBsgBZgCxAFiALkAXIAmQBsoAcFiCdQg4eCQVZgCxAFiALkAXIAmQBsgBZgCxAFiALkAVksADpFDKwSBjIAmQBsgBZgCxAFiALkAXIAmQBsgBZgCwghwU6sE7REXemgDJz15FypZwuKIKsaxbJIollyQjVhUMs65pFski7sWw3vDZf8CxZbTWAQ45tYBxpbtmNZbvhtXlz3bF1itCeGComN2xxr/PJuOWyCpSqjqnuSnlJkKWkVQWKWFYZRMpLYllKWjEoohhbQ9YwsSwrsxgXsYytIWWYKJaSVhUozDIeNXOJKugAC/rJAB/Exd34WbEYZSG0b8EQvEyQTiGjBXAdI5ZldXJiWVZmMS5iGVtDyjBRLCWtKlDEssogUl4Sy1LSikERxdgasoYxy3jUHKBWYJCMdIpmv6IGtriXCRlH6SpQ2OEIsso40lwSy9JQaQCEWDYwjjS37May3fCqTqf3wqd+iIwWIMcmx5bPAuTV8nGqRYRZxqNmAwEiwFukU5BOoRg7HHWJtPaRIwY3K8SyHJxqURDLWpvIF2M3lu2Gl3QK+kLJ12oBIqrLsjLLcRHF3BQSBzDLpFP4Vxb8TpFoVQJscfpYylrNcB0jlollaSxAji0NlQZA7May3fCSTkEfZYPq36FvUV3u0PQFUniiOBArdfQ0mGU8ag5w0oRBMppP4V/1wBanj2VHr0u+yo/rGLHsy0odPZ5Y7ugMBlJ+YjkQK3XoNERxh6YvwMITywEaqkMnI5Y7NH2BFJ4oDsRKHT0NZhmPmg0EiABvkU5BOgWt+/BaANcxb1jGta8qUARZZRApL4llKWlVgbIby3bDS18oL+P0UZbRAlSXpXdsolh6ilVfKNIp/CsLrVrW4Tcxtjh9LGWtb9SSysosxkUsY2vIGiaWZWWW4yKKuSkkDhDLEpPLoRHL3BSyBohiWZnFuDDLeNQc4KQJg2Q0n8K/6oEt7mVCRklbBQo7HEFWGUeaS2JZGioNgBDLBsaR5pbdWLYbXtWvVV741A+R0QLk2OTY8lmAvFo+TrWIMMt41GwgQAR4i3QK0ilo3Qet+/BQx1fb7MoRgz8exLIcnGpR2I1lu+ElnYLaLm2tlyOG6rIcPBqgIIoNjCPNLcwy6RT+lQW/SzlalQBbnD6W0lQqFRBcx4hllXGkuSSWpaHSAAixbGAcOW4RxXLwaIyCWDa2jxx3iWU5eDRAQRQbGEeaW5hlPGoOcNKEQTKaT+Ff9cAW9zIh42xDFSjscARZZRxpLollaag0AEIsGxhHmlt2Y9lueGk+hZdx6nrJaAGqy9I7NlEsPcWqLxQeNRsIEAHeIp2i/eoULS7XJ0uW/EeXLvtXrhTs5dSsmG3wpoMHRw0a9Nzjj/9SXW32u3zlTyz7soyA+M2LFzPGNi9ebPa7iGWzLazK/4+6urLVq0fGxTHGYqOiThcVqRKYcWk3lsXjhQp7OD/fDPoCyVM8ZFyqLUuXdr3rrp25uTjS7LCFkG9VVb0waVJiQkJDaanZMHH+4iFb3hURD5kb3CrsFkLm2EUG7IZXNWj3wpdRYVSBwixLpVM0uG9s27Fr3PgJnTt3Zoz17t3ntcw3Tp05p12X0Xjt5ueVh5+cknJ31653+vfdu983a/acY8e/0qaEmCv1jYVbt/8leRJP/1rmG2e+u6BKf+rMudcy3+jduw9jrHPnzuPGT9i2Y1eD+wZOhi0u2OFu19YunjVrSGzshZ07VT5h6iV2OMGQTcVlkLlgyFZ9ILEFBEPGr7Yq3H4gk05hng9YyDKIy+EOB/vnP9IpTGJZPMV21in+t6ZmdmIiY2zuX/7ya02NSZxqsxXPMi/D6aKi2KgoxphgZUo8ZMu7IuIhc5atwm4hZI5dZMBueEmnwKPmACdNGCSzcj7FxUv18+YvgP4c/turV0zJ3lKsFNQ3NL29NCcsLAwnY4zd3bXrRx9varx2Eyd2NzUf/+Lk6DFjVYkZY9NTZ1z+sYEnLtlb2qtXjDbZvPkLLl6q58mwxb31Taww1lBaOn748OeTkkT+8E7NitksW/WBxLiIZWwNwWHSKcwzuIWOXb9vX0JcXKTTWbZ69R91deZhVOVsIWRVScRcisdrZ53Coyg0n0JWx7a8KyK+LnMqrcJuIWSOXWTAbnhJp8CjZgMBIsBblukUVxuvv/FmllYjgJihQ4edOHmKKwVrP8zXihSQMioquqKymqd0NzV/c+rso38erZvztGnTL135l05xtO5Yv/4DdJMxxpYtf5fLH9ji3vomVqfwKMq3hYUDe/cuyM4W9mpqVsw2tVUfSIyLWMbWEBwmncI8g1vo2MqmTc6IiFemT/9doEhhw16ReIptrlOYV1sNchbPskFhxNwSD9nyroh4yJxKq7BbCJljFxmwG14bfpFVkPGoOUAxwiCZZTpF1eGjUVHRIBO8tHDR9xcu1zc0rVy1husRy1e8D+rDyW9OPzD8QUiZkjLt5DenG9w3thbtgAUdjLEFLy682ngdEtc3NPE5Gnd37bri3ZVnz110NzVfqXdvKdw2N20e6BRXG68veHEh5Nmv/4C9+8oa3DeOf/k1FzgeGP7gyW9OQ57Y4t76JlynEP9GalbMtrlVH0iMi1jG1hAcJp3CPINb6NiH8/MZY1kzZ5qHTjdnCyHrlsfsSPF4Sacwm1Nt/uJZ1pZBcIx4yJZ3RcRD5pxahd1CyBy7yIDd8KoG7V74Nhs24lGzgQAR4C3LdIqsxdkgE4weMxakBHdTM1YZEpOSz1+84m5q3ri5gAsKyrEToB00Xru5bPm7ED9kyNCvvv6XprCv9OBdd/0JloTs2LkHEvO/De4bMEvi+Bcn74+Lh8c/+ngTT1BRWc3Vk8Kt2yEeW9yGDkeQzWhirPpAYiz08cDWEBwmncI8g1vo2KRTmEcrzlk8xaRTYPuLCYtnWQwug7eIh2x5V0Q8ZG5/q7BbCJljFxmwG17SKfCoOUAxwiCZNTrFD5evTkmZCjJB1uJsLhO4m5oLt26H+Pvj4o9/cbLx2s2XFi6CmJmzZl+pd/PEFZXV9977n4yxu+76U9nBCndTM54l8VbWX/nCDf4IDxTvKsFv4fHnL15JTEpWFQxb3FvfbCaMCYPcdPDg2oyMscOGdenUiTEW6XTOnzxZ2AaigltS/IG8sHNn+pNPRkdGMsbiY2JWL1p0q6pKgJsJhowR/VRZuS4z89HBg8MdjnCHY8KDD5avWSNgPb8lkN1lZW8//3zfaO/0sejIyMwZM9xlZdLrFNir+0ZHv/388+6yMuwD5oUtYRkIhW8H/ytsYoUlkE8XFWkbrqyZMwXsPigeL9cpfq2p+fSvfx3erx//SF3as8c8Z+Y5i4fMX+1RFA4fR5odthAyfKBHDRrUdPCg2TBx/uIh464IL8mVkpLxw4eHOxyfLFnS4nLxeDMC4iFzFLrY+V3zAgIgc2i3qqqObd6cmJAQ7nBEOp2vpqZeLy/3KAo+lwo62+a1YwLwYrJ+qa5+7vHHofJe2rNn/uTJkU4nY2xkXFxRTs7t2lqc2KSwYMiA4o+6uoq8vGljxwLeSKfz6fHja9avF9C1VkkzeNRsIEAEeMsaneLUmXN8KQeftgBiQfWRuh49e3L1ASsa7yxbzgUFd1MzzmTj5gJ3U/PZcxcffngUY+zee/+zorK68lDNpMlPdv7nP9VBHitXrYGuJJ+1ATnryiLY4l7nI53CBAtAy8L79zwQHxPzbWGhAJsLblb4V+TA6tWwrziHzBgbP3y4gOPQBEPmJB7bvHlIbCzGK+wER/GQa9av1/L7YP/+rz/zjKznkra4XCXvvQdfSszykNhYiQ/ptJVO0eJyFWRng6CMKU4dNy4t2Sv0m31KgviKDPzue/99OPkCoxZzIJd4yLzFJp0Cm8LUsHiWeVeE79QOe7eLESlUwxsvfBO6l77y1GL3lTK08QJYBmjPTJy4NiODnz8FrdbEESN+3Lt36dy5uBFjjJnXjgnAiwniOsWhDz+Mj1EflZCTliZg9yjBkD2Kcr28XPttAoozUlMF/PaJIeNRc4BihEEya3SKmqMuOGgjLCxs774yrD7gFRm79+w7c/b8iIdGgq3zPlyPU547f+mxcePh1uo1ee6mZp7tiIdGrsv/mG9gAWnCwsJy3lkGO1m8vCgDIlUngLibmvmCFL7pJra4lwmBzahV78IOJwbyL9XV2XPmFOfmusvKQPyr37fvmYkTGWOZM2bI16zAV2R4v34De/eeP3ny98XFf9TV3a6trdu4ceywYd5dV6ZMMfsEOPEsw6aw8TEx4Q7HiykpgLrF5bq6f//qRYu+277dbIcXDPnCzp1DYmPDHY7Xn3nm6v79LS4XUPzIwIHQ/mxevFgyyB5FcW3cGOl0xkZF7czNhb7vjfLyd154IdzheO7xx3lv2DzgglnGQGyy7uNwfn6k09mlU6cPXnnlxj9/nfvtyJG9773HJTlZdYrBffoMiY098tFHt2tr/6irO/rxxyC55qanYzcwI2yhV5NOYQahunmKZ1k1Vv/50KFZTzwR7nCsy8yU+JdnML4Kuy4jZkQKYBmgRUdG9rr33k1ZWb9UV+P26unx4yOdzndeeOGnysoWl+vstm1jhg71HiAwf74Z02cE4MU0gU4BnZAXU1KulJS0uFy3qqryXn013OHo0a3b11u24PRmhAVD/rWmZsGUKYyxscOGVebl/XbkiEdRblVV7czNhY/yigULzGAWmw5DxqNmAwEiwFsW6xS9esXUHHVh9QELEyqdYveefTjlpSsN06ZNxzrF7j374PLurl11Dxy9u2vX0gOfu5uauU7x8qIMnKe7qXn1mjzIhHQK8CGv81kkzcAZ5k+MHNlcUWF2GXAdEwAZviKMscWzZql6A1dKSkYMGCCgMRUM2aMovDFdOneuCrXZ/EL+IiG3uFzL5s9njGnBXt2/H7oF8ukUv9bUpCUnx0ZFqaZB3a6tzUhNdUZEKJs2mc21SJZVWOygUwDFuj+3fltYCL0iWXUK7fy+/StXhjscKaNH/3zokMoZQntpoVeTThFaKg1yE88yHqvfqqqanZgY7nDkpKUJ+0CLh8ztj7HzSAEBAZB5D3NTVhYeoEJ7pe151m7Y4IyIMKkdE4AXs8ZnZ89OTMTzCODLxRj7h/mHJwqGDPTpTsSGj/LgPn0u7tqFrRTyMIZMOkUzKAsGOgVjLC5+4L79BxrcN+obmjZ98g8+twIOByGdwthHscN5wxbpFNDUilkjKhgyQIuPiTm/c6fWvGsyvPN9inNztbdCGCMYskdRLv5/7X17VFXVvv/6ew9gDBmMuoybMuwaDJTiloWKlBKmXUnNRpqaZD7qZJallscw6wQe9ND10UMzDC21MA1MNB+gJiEo7F0nexwfmZoaApJyznV0a5hw2+f7G/N8f3PtvdnCWnPBXB+HgzHXWnPPNT+fz3c95mfNx7ZtqbfcMjo9nb7BWoglzKJUQr64b19mWtrgvn1/3LnTXD2SWD+fgrzF3OnT+bsRwa8o8FvA+r0icHHd4FN8t2VL38TEgG+0v9XWvjDZ//FAV5/C/L3xx507B/ftq+AhpfLexUOa0pifwsyJHXvUqyza6qGZJ44AACAASURBVH+vqKCxAGZj3Q6kokz1kMWpBXYFvfzESdUMdSFo5tYp3a/Mn8Eay8uHpKTYdB9TLDH5FLExMTXvvcdpb/X5ti5dahhG3owZ0n7LN1VCbvF6c6dPj/R49qxcaQZCRw3DKFuxwnzUwj0cslY+hZgCU3RqCDHugyahEDnN4z5Ef4qIiIhNm0tEzoYLl17J+TP1khgxctSJk2eETyHNzYlxHxS1POD8aVU+xa8HD/71gw/eX7hw/pQpmWlpNLWkTbdOCZRiyPQUCfiu3+rzUYvO7kasYsitPh+14hQ8JCRxxaZKyNRif3LMmP+trhYVEAl677dbYjWvRAKUkJhutgH/6gfZDF/Z9Jni1CoDO/RVrPc8mmbvmO7kCh5SKiUWcSUS8CkEFbYm1KtMAfzoiBHzp0yhJpzdA04lAtVDFhUg7GpGI4qTqnkoB3vDDHa/CrafV7vdacUSk09h9mjE+4mCB7RKyCHwkmTkztj96sUh6+BT1Hi/SE7+T3qL3bpthzAUGpuaxTyaib17Vx2sFVNjGobx5opVPCefR5MK2bmrPCIiwjAM83ASMZoj/e6MY8dPzn/xJTr7xKxHfjh7XhTL59F8fu48WjGEM+5XQlWj3cET8YBTA/lKTc2q7Gzz3HuGYSh4BVTz5OCChn5AUktA5W1FjcpqcHGepbTKwCafItgT0bU+RTBCJKU6sqlSZameFOEKMErnVQk59FWst09h7idi6/s9V1mlxPy8lIZPYebEjj3qVaYAvi46OtLjublXr68//NAOXCHKVA9ZVCb0a5jIZnlCAeRg0ILdr4LttwS7Ary8ntRuD9hwUPaAVgk5BF6iJfQjm1PXkTSHzFvNYU5CESKbM/NTcPdBWsVDrEt616DBR46dOPtj/eQp08hTeObZ2TQLJtkKYl1ScjQam5qF/dGmT1Gweg2VOXBg2lffHBU+BV+XVNginHG/EvApbGCAXoPu6N175bx5n61efXbHjov79tWXlQ0bMCDg7cZyFfg1pkDlYE8RwrUxL0/BYhCKIQszW8Gcc8HCQyVk8ilemDw54CywevsU773ySjAJFOxXqbIER9lrkHRelZAJ46rsbKkOtAmfIiAtHd+pUmJzbeFTmDmxY496lcWryCevvRYXG6tsVSbBnnrI4tQCu67jPsxdRYL5EcH2C646klAscYh2u7IHtErIbfanKFuxQnGDgreaQxgQYR5yxqc43/DTM8/OJqdg7EPjvj91lpyCuvqmZ2fNof1iRMarS5bRnrS0Ow9/fYRyNly4tGTZa7SfhnI0NjVzl4FWADEXSwt8CI9DGiGyv6IqPj5BrIpKP+eM+4PPhlZ6ZytT5TXW6vM179//YEbGnbfeenbHDk7FydLSfklJGvsUAScvoDHekR7PwbVrORuWpxWr3OrzHS4quqlHj0dHjOCTG1mOK0SBKiGHmIzjt9raBdP89qvdXWbUdxQiiWeOG6e48zAXXaXK/LzCidO7P4Vv/frYmJiAEl+urHx0xAiN56dAfwop4G3ddPBCtrXZFoI09ZBFW/1yZeX7CxdGejxD+/c/XlISopLWHlIPWdRfYIdPYWvAK5bYbT6FaDKEmJ8i0uMxP7zEhWBJgqvMW81hmhEhsjnjUzQ2NReXbKUxGoZhPD933ukzdefqGpYtf4N2RkREFJdsJZug8sAh8g4Mw8jKmnTk2In6xovvF30opsZctvwNytnY1Lxs+RtkXvTpk7Rpc0ldfdOZc/VLlr0mzrX23fWNTc2nz9SNGz+Bct7W9/bd5fsaLlzyfv7lPfcMo53jxk84faYOPkVra6s/+Gy2ZugWKU3WcKWmhmZ10tinMAxDmo251efbX1AQFxurYLJJfltRoHKrz/f3ioqHhg4NuFKA3TFG5auETA/LgGDFsgj6+RTkOcbFxu4vKFCjqfksKlWWzq7sc410XpWQL+zZc29qqlniFq93x+uvR3o88CkkdSzZVCmxucLoT2HmxI496lXmbfUWr5esisy0NLtXBxDsqYcsTs2xi50KEgogB4NG+80v1cH2W8KGAry8nm7zKVp9vj0rV0Z6PMHW++iXlKS4QaGJT/H9qbNjHxpHpoD579Rpj585V082Ae9kYc45PPO+I8dOCJ/iyLETwzPvM2ejPbzvxqbNJcK8kPLf0L07XwOVM+6/3mxutHeG8hXfVv7x2WdZw4dHejwF8+fTl/aL+/a9+swztyYkxMXGmm+pdlCkGDI9Fa6Ljo6NiVk6ezatf/FzVVXpP5c7jvR4irRbOYlUIxcmOioqf+bM87t3t3i9V2trv9+6dcmsWd9t2WKHsrxMxSrTGmDRUVFvvfACSSxWtL41wd9vSz+fotXn+3jJkt8DOCEubs1LLxHqFq+3ae/erUuX5s2YoeDLlWKVeYC5wado8XoL5s83DCMhLm59To64Yxe+9FKfG2+kyY9Vfrrxy23/QzlYQ93W93uOy8GoxrqkXAhb0+pVpgAWAwSu1NTkz5xJbZ5z/3//VpuAq4csgEjYxX67EwogB4MW7H4VbL8lVCjAy+vpQp+CVhQ2DOO+O++sKCj49eDBVp/vcmXl9uXL7+jdO9Lj+XjJEk6RHWmuMm81h+goEeYhx/pTNDY1H6r9fHD63ZJHYBjGyFH3f3vkuLAeGpuajxw7MWZsAFMjpV//6kNenrOxqbn6kDelX/82i62rb1q0ON9sVXTr1u3t1YU0gyaVzBn3K2H/K5Hjp+ABpwYytW24aglxcR8vWaL3/BSPjR79dnY2fYEU2JWtXq5e5Vafr8XrLcrLi46KEngpkRwff7S42O7IVwxZvPNJYLOnTHnrhRd09SmCoTYMQ7wN2yq0YpU5Fjf4FPQC9Mz48VJUR3o8b8yd++LUqehPwUPCqrSDUQ2fwioR2yxHvcrmBq3oyhrw82ybEK41g3rIooZm7OKQrQkFkINBC+ZHBNtvCQ8K8PJ6utCnaPX5GsvLs4YPlx7KhmFER0W9+6c/Xamp4RTZkeYq81ZzmGZEiGxO+hQ0/iL/1SWpqQMNw4iIiLg7Y8iqgndETwpuQJyra1izdt3dGUPIWUhNHbhocf6Jk2d4HpE+faZOKnbN2nXn6hpEBko0XLj0acWBhydm0RCSXr1umv7kDLPxwRn3KwGfwgYGWrze/QUFY4YMiY6Kio6Kmjxy5PGSEltvnZKO/BpToLJ4ilyurCxfufLe1NRIj4eAV69Zc7W2VqqeHZuKIXMIp0pLZz/8MPUpiIuNnTpqlBrU6iFfra3dt2oVBXakx3NvaupH+fm/VFfrOo8mqXy1trZ6zZqpo0bRCj7RUVH33Xnn29nZDWVlPAxsSqtXWQBxiU/R6vP9Ul39UX6+uHGNHzases2aFq8X82iKYLA24WBUw6ewVsoQpalXWbyK8J5ulysrs/+5TKkCq0I9ZMF/QOziqH0JBZCDQaP95k7KwfZbQoICvLye7vQp6KG88/XX6W3TMIxbExJenDr1VGkpJ8e+NFeZt5pDGBBhHnLYp5CMg865yRn3K2FDK72zlckDDpA7mzpW1QcqW8VkZy4HKndmdayqWydRmSb0uqlHj8NFRVZBC1hOJ8EbsG427QRkm4gNWCw12zLT0mjkWsA8duyEynaw2tnKdJvKbsOrfv7yzhDhXGXeag7TjAiRDT5Fc5vmCGfcrwR8Ch0Z4NcYVNY1yKGyrspyXFCZs6EyXbdr15CUlIDLGFlbDUhsLZ+dszQHVf5uy5a+iYlPjhnzv9XVKslxELJKmPxcgMzZ0DINibWUVQLFVeat5hAGRJiH4FPAp/BJ0QYv0H+96ejFSKD4bQWQJXK02YTK2kgZAkhnUFkMa18wbdpvNo9c6wx4Q8hhxyFAtoPVYGUW5+cbhrF09uxgGWzaD5VtIrZTFes2ld2GF20o+BRtOwttdpG4pgyccf/1hhasjgzgTorA1pIBBLaWskqgFKu85b//e/mcOSdLS2le8Ss1NSc+/vi5rKxIjyexZ0+7B33gLRDvIVL8W7h5tbb24Nq1/ZKSEnv2/GbTJgtLDqcoxRdyOFWyOw8g282w4+VDYsclUFABrjJvNYfZaSJENvSnaNv14Iz7ldCxlS6B4gEHyBI52mxCZW2kDAEEKocgR5tDilWmWWDNU4snxMXtfP31Fq/XbmIV47UbTjjlA3I4LHUkD4/qSI/n/YULFUSyVGGoLBGi5abbVHYbXjjpvNUcwoAI8xB8CvgUGPfhZwB3Ui1fCCRQUFkiRMtNqGy3rJcrK4vy8sbecw+t5xLp8WSkpLwxd27T3r12n5rKh8RqeHb2LIpVJp8i0uO5f/DgfatWqVl1S2JYMWTp7I5sArIjtKs8KSRWybZT5+Iqw6do21m4pmEdbWbmjPuVQH8KHRng1xhU1jXIobKuynJcUJmzoWUaEmspqwQKKkuEaLkJlbWUlYOCxJwNXdNcZd5qDrPTRIhs6E/RtuvBGfcroWMrXQLFAw6QJXK02YTK2kgZAghUDkGONofcprLb8KLHn19xvHrpyACuZe0DGxJrL7H0hOKt5hAGRJiH4FPAp8C4D4z7aMVboK4PErwi6Kosx+U2ld2GV3oLxO2aB79OaQS2TmoGw+I2ld2GF7dr+BRtOwttDuW4pgyccbwfBLvzdvX9uJN2dQXDqT9UDoelrp4HKnd1BdusPyRukyINMkBlDURsEwJUbpOirp4BEnd1BcOpP1eZt5rD7DQRIhv6U7TtenDG/Uro2PVOAsUDDpAlcrTZhMraSBkCCFQOQY42h9ymstvw4gOdX3G8eunIAK5l7QMbEmsvsfSE4q3mEAZEmIdU+xTrPtzaFf8LNs0rsem6B5B1VZbjgsqcDV3TUFlXZTkut6nsNrzSuz6XXuM0VNZYXAENKgsqdE1AYl2V5biEyl3YpxAYkAADYAAMgAEwAAbAABgAA2AADIABMAAG9GAAPoUeOgIFGAADYAAMgAEwAAbAABgAA2AADIABHRiAT6GDisAABsAAGAADYAAMgAEwAAbAABgAA2BADwa6sE/RFWemoDqL0OFDcfROA7Le+hI6qAyVtWQAga2lrBwUJOZs6JqGyroqy3FBZc6GlmlIrKWsEiihctf2Ka5pQdBOkpkzjkmndZ23VpqlTFeYHBcgczZ0TUNlXZXluNymstvwSrOp++HruPSDBAoqS4RouQmVtZSVg4LEnA1d01xl3moW5kW7E6rX++gk1sM1VYMz7lcC7wc6MsCvMaisa5BDZV2V5bigMmdDyzQk1lJWCRRUlgjRchMqaykrBwWJORu6prnKvNXcbntC/BA+RXObngVn3K+Ejq10CRQPOECWyNFmEyprI2UIIFA5BDnaHHKbym7Di/4UfsXx6qUjA7iWtQ9sSKy9xNITireahd3Q7gR8CvgUPvMlhNuKmRP99kBl/TQ1I4LKZk702+M2ld2GV3oL9MPXsckqgYLKEiFabkJlLWXloCAxZ0PXNFcZPkXbzkKbXSSuKQNn3K8E3g90ZIBfY1BZ1yCHyroqy3FBZc6GlmlIrKWsEiioLBGi5SZU1lJWDgoSczZ0TXOVeau53d0oxA/Rn6Jt14Mz7ldCx1a6BIoHHCBL5GizCZW1kTIEEKgcghxtDrlNZbfhRX8Kv+J49dKRAVzL2gc2JNZeYukJxVvNwm5odwI+BXwKjPvwM4A7qdvupHjx1VVxXMu6KitwQWJBhcYJqKyxuAIaVBZU6JqAxLoqy3FxleFTtO0sXNOwjjYzc8b9SuhoaUugeMABskSONptQWRspQwCByiHI0eaQ21R2G1446X7F8eqlIwO4lrUPbEisvcTSE4q3mtvdjUL8EP0p2nY9OON4WOp6veFOqquyHBdU5mzomobKuiorcEFiQYXGCaissbgCGlQWVOiagMS6KstxcZV5q1nYDe1OwKeAT4FxHxj30eq/xej4rUYCxe+kgCyRo80mVNZGymBAIHEwZnTaD5V1UjMYFqgcjBlt9kNibaQMAYSrDJ+ibWehzaEc15SBM+5XAs05HRng1xhU1jXIobKuynJcUJmzoWUaEmspqwQKKkuEaLkJlbWUlYOCxJwNXdNcZd5qbnc3CvFD9Kdo2/XgjPuV0LGVLoHiAQfIEjnabEJlbaQMAQQqhyBHm0NuU9lteKXRv374eA/RkQEEtsrAbtq7d9iAATlPPKHypC68lhHVigPMkdNxlXmrWdgN7U7Ap4BPgXEfGPeBcR8BrgJH7vWWn5Q/PPxpHV/uJVCALBGi3yYk1k9TMyKobOZEvz0OqgyfQk04OSixGoDms7gcslY+RX3jxZKPt40cdX+3bt0Mw7j55lteXPDykWMnzOMyGi5c+rTiwMMTs27o3t0wjF69bpr+5IzPv/iK51y5qsBo69+kSZPPnKsXvzpy7MSLC16++eZbDMPo1q3byFH3l3y8rb7xosjQ2NTMGfcHH170dWTA5bcVBLau1zUCW1dlOS63qew2vC78BgvIjjyUz3zyyawJEwYmJx8tLuZ3GPvSDl7LrvIpDhQWJsTFLXrqqZ/27bNPzYAlOyhxwPoo2OlyyLzV3O5uFOKHTvanOH2m7tlZc8zGQp8+STt2lnGnoK6+adHi/IiICCnzDd27r313fcOFS5T5Wn2KHTvL+vRJkso0DOPZWXNOn6kTFeCMO/LkUHBRSadw+TUGlaV40GbTwcD+bsuW+VOmbFq8WDGZDkJWjFScDpAFFbomILGuynJcUJmzoSDdWF4+Oj3dMIzk+Hj4FPYR7khgHygspMbOHx544OeqKvvQmUt2BK+5Gir3uBwybzULu6HdCcd8ivMNP738pxyzR0B70tLuPPz1EeEUvL260GxSUM74+IT9FVXh+xQrVxVQ5kO1n9/W9/ZgFViy7DVhf3DG/cGnY28CCZTLrzGoLMWDNpsOBvaG3NzfO4JtyM1VTKaDkBUjFacDZEGFrglIrKuyHBdU5mwoSJetWGEYxvQHH7yo8JO7gyq7qj9Fq8/3w/btowYNio2J8a1fryCcxCkclFjUQXHC5ZB5q7nd9oT4oWM+ReWBQ/HxCWQTPD933venztbVN725YpXwI5Ytf4MMha+/PXrXoMGUMytr0tffHq1vvPhR8cc0AMQwjDnPzT3f8JMwNcyJw18fSUu70zCMe+/9r78d/a6xqfl8w09znptLZd7W9/adu8rrGy9+8eU39/7XcNp516DBX397lIrijPuDDz6Fjgy4/LaCwLb7uoZPYTfDonxcy4IKXROQWFdlOS6ozNlQkN6Qm+uqRqzbfIpWn2/r0qWGYRwoLFQQTuIUuJAFFR1JULhSE9UwjEiPJyMl5S8zZ/6wfTsv9ueqqj888IDIRgnRieZAYaFNvaW4yrzVLOyGdicc8ylycvOIvuGZ9x0/cZocgbr6JjESZMzYcSdPn/NPD7GhiHLe1vd23+eHKWfDhUtLlr1G+wcOTPvqm//nKZhNivMNP81/8SXKufbd9ZThi79+fUdKP2lnY1Pz/ooq4Z5s/mgLZeaM+5XQsZUugeIBB8gSOdpsQmWVUsKnUMY2AlsZ1U6dCBI7xbzK80JllWy3+nwbcnNtasOEAOKgyi70KWj0B3yKEAFpySE7oprCVfTJvVJTc3bHjvyZM7tff31RXl6L10s1J58i2Co28CkC2CW8kb/uw63U8v/h7PmJWY+QTZCTm8fNhc0fbaH9d6T0++KvXzdcuPT83Hm054npT56raxSZ91dU3XjjfxiGcf31/1a+d7/YLyWE9TBy1P3CENm6bQc/i/jJydPnxowdJ1WMQ/AHn80+BQXZsAEDmvbubSwvX/TUU7cm+Due0BQ4jeXldlfAqfmrLldWvr9w4b2pqZEeT3RU1Phhwz7fsOFocXFyfLzwAu3DbsdtJZza0q3nDw88cLmycu9bb915663KRgc4BVkSevLIkV9+8IG4yYZDWrvzOAI554kn6JbC/yoIaWJJMWR6DQr4jMx54gk1L8EqIf9SXT1z3LhIjyfgm9+elSsjPZ4F06b9Vlvb7qAN54cKIP+4c+fgvn3vTU29sGcPr9LpbdtSb7nlwYyM5v37+X76cFecn893WpVWgFeqqnfdurjY2DFDhkhd4isKCmJjYuZMnPhLdbX0E2s3FUOuee+92JiYR0eMuFxZKQFp8XqXzJoVGxNT89570iFrNxVDbvX5xBh+fq+mdKTHs335cmsBmktTD5nXAT4FZ8O+tIMqw6ewT1Zesh0SSz6FON3+goLk+HjxBgKfIoATEXoXb+QLn+LIsRNiKIfotkBmQdXB2sTevYX7wB2NV5csE4ZCY1MzL2TdhiJ+SKR5Bw3RmaKxqfnNFavo2SN6bdBPAtoiHII/+FT5FNVr1gzt3196XvZLSvrb5s1218GOayx0nevLysYMGSKBjY6Kyp4yxSU+xSevvRYXG0sMCMc0NGkdPKpe5VafL6DQ5Mp1EE44P3cEMnwKkkZLn0L0pDWbEb/V1i6YNk1Bc06Ns/xbbe0Lkyebu4XTmPabevQ4XFQkrkHKbJ8tpf5C/q22Nn/mTMlEvrhv35ghQwYmJ58qLRXYbUoohny5svLRESMkWQnaxX37Rqenj05Plywby4Erhhzap1BgRam5kEPIBJ8iBDkWHlIf2KLy8CkEFbYm7JA4mE9BxvHMcePIK4dPEdqUCHCUN/KFT1F9yEsLbUREROzcVS5shcamZj4iY/snu44dP5l+dwY13gpWr+E5T5w8M2LkKDokZsfkGfg4Dj66pLGp+Y/zsumHk6dMO/vjv5YpbWxqFgNSxAqmHII/+JT4FMnx8UP79x8/bNhXGzdeqam5Wlt7vKTkkcxMwzDMn3Qsr5Id11iISv5cVfXU2LGGYQi8LV7vuR07nsvKIpkUfHxWDFmwQbeezLS0YQMGFL70ksp5mNVDpvvp7+d9+fHH6R33Sk3NVxs35s2YYfcrLxGuHrIQ2iXjPtzWn6LV56vbtWtISsqQlJS6XbuE3K0+H3U0yBo+/B+ffcb325FWE9jURWJVdraAQH7E0P79k+Pjubt6Yc+ee1NTA36NF7/tSEINXqmG53fvzkxLE0K3eL3rc3IiPZ6ivDwppx2b6iEX5+cbhrF09mwJDvUSemfBAmm/5ZvqIZsh/FJdPWfixFGDBtWXlZmPWr7HWcjwKSwXNGCBDqpMD+iKgoKAFbNpp4N4bULUZrF2QA7mU7T6fAfXrh2YnHx627ZWnw8+RQAnIvQu3sg3+xR9+iRVH/Jyc4EbE5JPsf2TXTznmXP1kyZNDuFT8MkyxaycVILwKf44L5uX2djULBY3ddanMAzjyTFjpC6Xf6+oeCQzM9Lj2bNyZZvXSUcy2HGNhagPdTF9MCNDWtj5Sk1N7vTphmFo71MYhpE/c6bdncMlCRSrLG6g9n1llQCaN9VDFnWAT6Frf4oWr5duU2UrVgi5W30+auYpaM4p+wxrHoVHHs37CxdOu//+WRMm/HrwIDHgW78+NiaGOxqcmY6nnbqQd7/5ZqTHUzB/fovXe6q0dGBy8lNjx6oxl9VDJqNN6jdBzlS/pKST2nUhMYdli9f7/sKFN/XosV9Vu069ygL170MvX3788b6Jid9t2SJ2Kkg4CJkafgFHKdoK3EHIdGd+75VXbAUoFe4gXqkmyjbtgBzCpzhaXDzottuoSyN8itCmRICjDvoUvs8P08qjfALOruJTBOstTJ1szZ84rL387LjGQtQwb8aMYObL4aKim3r00N6ncKTprljlVp9PdB0vX7lSzYQUUtSphywqAJ9CV5+i1ecjp5U31OldQU1zTplPQaAG9+37486dFNgHCgv7JiYeLS5eOns2378qO9s8QkRcCx1POHUh09f1gcnJx0tKcqdPT46PVzAMk+hSDzngwKWTpaX9kpJemDxZgauuHrIUmYeLihJ79iRbSjpk06ZTkK/W1lavWZMcH//SY49dqamxCV3AYp2C3OrzudCnuFxZ+eSYMcMGDDhWUqLsHUy9xH/94IPR6emGYfRLSlo5bx7/4ltRUKBgxRM7IIf2KcQUFfSYpk/44q+YvQLzaF6zT2GeAjPEuA9pEoo2x30sW/4GiWReuFT0p5Dm5uw84z74Ox+/uR/56KObe/Wy2wC24xrjKHiaLqpgLr75Cx7/rYVplZB5tenWo2yCBn5qRyD/bfPmfklJkR7PI5mZBwoL3fNKBJ9CY5+ief/+BzMyuCvxzaZNiT17miet4BeghWll1/Kq7GwxaSgN46LBHQcKC6+LjqaXoV8PHpw1YYJ5Zs2uiNdc5+MlJf2SkoYNGBAXG7s+J0fjd31hwOVOny5gbsjNDfZRwcxVB/coi+qA9awvKxs1aJC5W2vAzFbtdAoyPZ5enDpVwSA1iSunILvTpyDUtG6laLtKili+qVhieskUTXTDMO7o3XvT4sU/V1X947PPpj/4YOott9AQCcuRigLtgBzapxjav//R4mLRbTlYIxE+Rbg+RY33i+Tk/6Qw2rptBx95IebRTOzdu+pg7fETp++5ZxjlfHPFKp6Tz6MpFdLY1Hz8xOnhmfcZhhERESENGGlsahYrlU7MeuSHs+dFsXwezefnzmu4cMm/MOqHWwUwf/ApmZ8iWMOV2u3BQtCqutlxjQWrG/kUofFq359CAUAz/ypV5mc/VVo6eeTISI/HMIybe/X64M9/tnuqfHF2pyDTkm/SJHyiVrYmFEN24fwUJN87Cxb8Hs9ieQvenrdVXypcmcrUbZg69JE7Q4M7aDUQ2k9p3ri1nAFleM01b/F635g71zCMh4YOvfTpp+YMNu1xBDLNpimm5KBNaSSITXiV9RIKWP8rNTWLn35azQypvAKOqNzq812trS1fuTIuNtYN408F4S7sT0GTwfVLSjpcVCTMR0GITQmVUU3DMJPj4w+9++7V2tpTpaXPZWXR26ZwLnKnT7f7C5kdkEP4FGUrVoiluKhJFayRCJ9CNOf/leCNfDE/BXcfpz7/NgAADbZJREFUpFU8xLqkdw0afOTYibM/1k+eMo3C65lnZ59v+El4CmJdUnI0xH5K7Crbe/31/2YYxt0ZQ44e+146WrB6DZU5cGDaV98cFUf5uqTCFuEQ/MHnqE9xcO3aSI8nWAhaVTc7rrFgdaOLKlj/EZf0p3CVT0GR0FBWti4n545/Lu6j7JuVysCWAt7l/SnsXgCCs+2IyvxOpWxBBIFaGWTyJmhyUN/69Qlxcb7161t9PupDQft53wpRQ2sTyvCaq02f2W/893+/Ljp695tvmjPYtMcpyO8sWCA6UJBLpWbKFWd9iqK8PJXTUoiYcUplMSpTwadmAZYSDkJ2oU9BI6ntmzlIEle9xNSg4G/ULV7v3zZvfmz06OioqLjY2L/MnMmHgQSscMd32hHVwXwKWhx9+Zw5ZDzBp/iXARFmijfyhU9xvuGnZ56dTU7B2IfGfX/qLDkFfBlRMSLj1SXLKGda2p2Hvz5CORsuXFqy7DXaP2LkqBMnzwivgRJi2Q7J3aCjwuOIiIjYtLlE/HZ/RVV8fIJYFZX2cwj+4FPiUwRcD6zV51uV7V+pZKPNE4zbcY0F441ecIPNx3GgsDDS4+E3nWDldHC/Ssi8qnTrUQCQn5TSTkHmNfm9J97shx8W78H8kB1pByG7yqcwD1+n9q2aeVgcUZneFRJ79vxm0yaarkJZc05li058rTpaXLwqO5t/WheLBUhzVeh0IdPUzsnx8QfXrn0kMzP99tvP7dhhB0BzmY5EdavPJyakuFJTs2TWLD64yVxJa/c4BZn6jS9++mm7P7qa6XIKMtXkvVdeUXOL5sAdhOxCn4I6PEpTPnM57Eg7KLEdcMIp0w7IAX2Kq7W163NyRqeniwWJ4FOE6U78Kxtv5AuforGpubhka0REBBkNz8+dd/pM3bm6hmXL36CdERERxSVbySaoPHCIvAPDMLKyJh05dqK+8eL7RR/e0L07/Vxay6OxqZl3i5BmtaAyT5+pGzd+Av38tr637y7f13DhkvfzL8UYk3HjJ5w+U+egT2EYhrlvEj0+Fbwo2HGNhbi2qQln/qh+ubLysdGj3bDeh2t9CsUDIhQHNo95mgFX8XcMlS1YAvvdli19ExPN7TdaKEHNS7BTKtOyne8sWJA7fbqCuzSPLpWQyTtel5OTNXw4H9xBX+pov9mo4rXteFolXl5bCmP6cnWgsDAuNjZ7yhQ1rVmnINNsmqm33FK9Zs2QlJSZ48bpPUyPVlV7JDPz7xUVXHo1aadUJnTCalQDls7iIGTX+hTKZqZwXGKVkczPZUdUSz7FrwcPHi4qemrs2EcyM8/v3i3ODp/iXwZEmKlgPsX3p86OfWgcOQXmv1OnPX7mXD3ZBLyThTnn8Mz7jhw7QTnF3+pD3j59kgzDuPHG/9hfUSX288SmzSXCKJGKvaF7dz6lBYfgDz4l/SkiPZ7YmJg/Tpp0bseOFq/3Sk3NZ6tXD+3fX80ClnZcYyF4O7djR/rttxuGMWvChFOlpYT3q40bxw8blhAXFxsTo6AZrxiyYINuPQoAijOKhHrIP1dVLZs9u/Kdd/7ns89oTOzxkpIHMzLEzHyibjYl1EMWQGjE1qhBg37Yvl3sVJBQDJlGsBuG8djo0XTv+rmqan1OTnJ8PP2nqZ5sBa4YssBCi3SOTk/PSEnha3+IDPYlVEKm6SdGp6f3TUzk3+Woywzt37p0qX1g1btvhIWeU6PT0xvLy1t9vis1NdlTpsTGxOx96y1bwVLhKiWW4FD/oDkTJ14XHW33muj81Ooh07QU/ZKSlC3jwvE6FdiiDvApBBW2JtQHtoBD/SngUwhCbErYITE1FkRzNSEu7tERIz59+23JKCefQmSjhJgBkAJAOmpJPHDIvNUcplcQIpsR4pglh3h1eX+KxqbmQ7WfD06/W+LLMIyRo+7/9shx7ikcOXZizNgApkZKv/7Vh7w8J6WlSS7MGRqbmuvqmxYtzjdbFd26dXt7dSHNoEk/5BD8SijxKYYNGLBp8eK42FiJn2fGj++iY6tC81ZRUJAQFyeBHZicXPLqq8nx8Qqa8fwaU6CyYMNtPgVNNC0JrayHrVMqt/p8DWVlI++6SwBXENIUY+oh7y8oMN+4Fj/99ItTp+rdn4LGRBiGoWwck7iNqFSZRuoZhiFNKiTgK+hLohIvkUwrkkquxKnS0oHJyZlpafxzlhDF2oR6yKL+5EAZhsGH+Yij9iXUQ9771luxMTHiLi0lNuTm2geWSlYPmSOCT8HZsC/toMrwKeyTlZfsoMS8GirTHDJvNXfcSXDSp2hsaj59pi7/1SWpqQNpYY67M4asKnhH9KTg/sK5uoY1a9fdnTGEnIXU1IGLFuebp6Wgn4gpLSZNmhywNMrWcOHSpxUHHp6YRUNIevW6afqTM8zGB2fcr4Qqn+LCnj1ffvDB5JEjo6OiIj2e+wcP3vn662q6XPKAUwCZKD1VWjr74YfJrbg1IWHRU081lpfz2elsZd4RyGJlLGWtVs6hI5C5ynGxsZPuu29/QcHV2lpeMfvSjkAWcI6XlDySmUlTTytT3BHIX23cOHXUKHIrMlJSivPzr9TUaLwuqZCYvjwrbs6p/wxLI1zMfUZocJOC2FYf1UV5eZEez5yJE/kjuMXrXZ+TE3CQpggJqxLqIfOa08RYioetKYZ8cd++zLQ0yZvgm/ApeEhYlVasMq82fSWye1p6fkZKOwgZPoVZDjv2OCixHXDCKZND5q3mLu9TcCei06Y5434lVPkUTXv32n2uYOXzgFMAOVg1Wn0+7X2KENjtPtR5VLYbqSgfkAUVGiegssbiEjRIrFJiPkesyvNCZZVs01xRkR7PwbVrVZ7XQZVd6FNszMszDMOSfv7hB4mDEodfSWtzuhwybzXDp2hW4G5wxv3BB5/CZgY4w/ApOBvWpl1+J1VwLVurV/tKg8rt461r/cptKrsNr/ouMzz+DxcVJfbsqXIGTTo7VOYqKEjTFLmzJkxQOYeogyq7zaf4Yfv2UYMGBVtM0L4Ac1Bi+0CFLtnlkHmrGT4FfApf6KulfUc7zzUGn6J9Cobzq86jcji1tSQPIFtCYycvBCp3coE6Xj1I3HEOwyyBpgtVP+WKs9ZMmORYns3ZwL64b9+YIUMMw1AzkRCx5yBkV/kUYgJFafCa5TFsLtBBic2VUbPH5ZDhU6jwJng3Dc64P/hs7k1Ak7WK2VntPl3A8jvPNQafIqBAluzsPCpbAiecQgA5HJa6eh6o3NUVbLP+kLhNiizJcKWm5sNFi+JiYx1ZpxMqWyLiNRVyfvfu57KyBiYnK1iYiSrmoMpu8ykS4uL+MnPmP/652to1RUUHMzsocQdr3u6fuxwybzWjP4UKz4Iz7g8++BQ2M8AZhk/B2bA27fI7qYJr2Vq92lcaVG4fb13rV25T2W141XcuoCYczSLp1DqdULlr3YXaV1sHVXaVT9E+dSz5lYMSW1L/dhTicsi81QyfAj4Fxn1Yw4DLbyt++ArtJ6fOBZWdYl7leaGySrYdORcktpt2asJFejyTR448VVpq9+kClg+VA9Ki2U4HVYZPoSaWHJRYDUDzWVwOGT6FCm/CwXEf5ohXv8fl15gfPhrtOjKAwEZga8mA2wLbbXjV96foDJcJVO4MKthdB6hsN8OOlw+JHZdAQQW4yvAp4FNY04MgRODygPOndWyySqAAWSJEy02orKWsEiioLBGi3yYk1k9TMyKobOZEvz1QWT9NJUSQWCJEy02uMnwK+BTwKaxngF9j/jSsGR0ZgMoIbC0ZcFtguw0v+lPgoazljQuB7YbAxu1a14uX4+Iqw6eAT2F9K51HG54cbnhyQGWoLF312mzy5yVU1kZWDgQSczZ0TUNlXZXluKAyZ0PLNCTWUlYJFFcZPgV8CvgU1jPArzF/WsfeBBIoQJYI0XITKmspqwTKbSq7DS9sZb/ieCjryACuZe0DGxJrL7H0hOraPsW6D7d2xf9iYRVapssNfwEZKmvJAAJbS1klUFBZIkS/TUisn6ZmRFDZzIl+e6CyfppKiCCxRIiWm0LlLuxTCAxIgAEwAAbAABgAA2AADIABMAAGwAAYAAN6MACfQg8dgQIMgAEwAAbAABgAA2AADIABMAAGwIAODMCn0EFFYAADYAAMgAEwAAbAABgAA2AADIABMKAHA13Pp+iKE1KgzmAADIABMAAGwAAYAANgAAyAATAABsBAmAxYaLgYFpaFosAAGAADYAAMgAEwAAbAABgAA2AADIABMNARBuBTdIQ9/BYMgAEwAAbAABgAA2AADIABMAAGwAAYsJIB+BRWsomywAAYAANgAAyAATAABsAAGAADYAAMgIGOMACfoiPs4bdgAAyAATAABsAAGAADYAAMgAEwAAbAgJUMwKewkk2UBQbAABgAA2AADIABMAAGwAAYAANgAAx0hAH4FB1hD78FA2AADIABMAAGwAAYAANgAAyAATAABqxkAD6FlWyiLDAABsAAGAADYAAMgAEwAAbAABgAA2CgIwzAp+gIe/gtGAADYAAMgAEwAAbAABgAA2AADIABMGAlA/AprGQTZYEBMAAGwAAYAANgAAyAATAABsAAGAADHWEAPkVH2MNvwQAYAANgAAyAATAABsAAGAADYAAMgAErGYBPYSWbKAsMgAEwAAbAABgAA2AADIABMAAGwAAY6AgD/wdo8A3NnUYTkwAAAABJRU5ErkJggg==)"
      ],
      "metadata": {
        "id": "JFW6cxZlZqMv"
      }
    },
    {
      "cell_type": "code",
      "source": [
        "chr(65) # 별표 0.1개"
      ],
      "metadata": {
        "colab": {
          "base_uri": "https://localhost:8080/",
          "height": 35
        },
        "id": "aBb41i-_WtCJ",
        "outputId": "8a16b160-2981-45a7-cb57-fc4d20d21417"
      },
      "execution_count": null,
      "outputs": [
        {
          "output_type": "execute_result",
          "data": {
            "text/plain": [
              "'A'"
            ],
            "application/vnd.google.colaboratory.intrinsic+json": {
              "type": "string"
            }
          },
          "metadata": {},
          "execution_count": 80
        }
      ]
    },
    {
      "cell_type": "code",
      "source": [
        "ord('A')\n",
        "# 41인데 왜 65지?\n",
        "# 16진법 4 * 16^1 + 1 * 16^0 == 64 + 1 = 65"
      ],
      "metadata": {
        "colab": {
          "base_uri": "https://localhost:8080/"
        },
        "id": "_FkPmtpYW9CP",
        "outputId": "33e5d1c0-87fb-4ae5-e67d-101c0c4df539"
      },
      "execution_count": null,
      "outputs": [
        {
          "output_type": "execute_result",
          "data": {
            "text/plain": [
              "65"
            ]
          },
          "metadata": {},
          "execution_count": 81
        }
      ]
    },
    {
      "cell_type": "code",
      "source": [
        "sum([10, 20, 30])"
      ],
      "metadata": {
        "colab": {
          "base_uri": "https://localhost:8080/"
        },
        "id": "lji5tyY9aboG",
        "outputId": "ec541c2c-ae2a-4aaa-f288-263f5c5196d9"
      },
      "execution_count": null,
      "outputs": [
        {
          "output_type": "execute_result",
          "data": {
            "text/plain": [
              "60"
            ]
          },
          "metadata": {},
          "execution_count": 84
        }
      ]
    },
    {
      "cell_type": "code",
      "source": [
        "sum([10, 20, 30], 100)"
      ],
      "metadata": {
        "colab": {
          "base_uri": "https://localhost:8080/"
        },
        "id": "YJFh9_IcabI9",
        "outputId": "6ace3f2f-8f1a-404a-b1dd-ede8055e1d13"
      },
      "execution_count": null,
      "outputs": [
        {
          "output_type": "execute_result",
          "data": {
            "text/plain": [
              "160"
            ]
          },
          "metadata": {},
          "execution_count": 85
        }
      ]
    },
    {
      "cell_type": "code",
      "source": [
        "sum([[1, 2, 3], [4, 5, 6]], [])\n",
        "# [] + [1, 2, 3] == [1, 2, 3]\n",
        "# [1, 2, 3] + [4, 5, 6] == [1, 2, 3, 4, 5, 6]"
      ],
      "metadata": {
        "colab": {
          "base_uri": "https://localhost:8080/"
        },
        "id": "UgXTp0AiZ2x2",
        "outputId": "c70ef42f-4bfe-460c-d899-dc6ad4ecff59"
      },
      "execution_count": null,
      "outputs": [
        {
          "output_type": "execute_result",
          "data": {
            "text/plain": [
              "[1, 2, 3, 4, 5, 6]"
            ]
          },
          "metadata": {},
          "execution_count": 86
        }
      ]
    },
    {
      "cell_type": "code",
      "source": [
        "# 다른 값이 출력될 수도 있다는 것을 기억해야 함\n",
        "a = 10\n",
        "print(a)    # a.__str__\n",
        "\n",
        "a   # a.__repr__\n",
        "repr(a) # a.__repr__"
      ],
      "metadata": {
        "colab": {
          "base_uri": "https://localhost:8080/",
          "height": 54
        },
        "id": "ZCC52TBcaOFR",
        "outputId": "776f60cd-8a94-4a0e-8aea-5b21bc53067c"
      },
      "execution_count": null,
      "outputs": [
        {
          "output_type": "stream",
          "name": "stdout",
          "text": [
            "10\n"
          ]
        },
        {
          "output_type": "execute_result",
          "data": {
            "text/plain": [
              "'10'"
            ],
            "application/vnd.google.colaboratory.intrinsic+json": {
              "type": "string"
            }
          },
          "metadata": {},
          "execution_count": 89
        }
      ]
    },
    {
      "cell_type": "code",
      "source": [
        "# 실제 Django 에서 사용하는 코드\n",
        "\n",
        "class Notice:\n",
        "    '''\n",
        "    게시물 클래스\n",
        "    '''\n",
        "    def __init__(self, title, contents):\n",
        "        self.title = title\n",
        "        self.contents = contents\n",
        "\n",
        "    def __str__(self):\n",
        "        return self.title\n",
        "\n",
        "    def __repr__(self):\n",
        "        '''\n",
        "        repr 이라는 값은 제가 임의로 만든 값이 아닙니다!\n",
        "        정해져 있는 이름입니다.\n",
        "        '''\n",
        "        return f'{self.title}, {self.contents}'\n",
        "\n",
        "    def __len__(self):\n",
        "        '''\n",
        "        len 이라는 값은 제가 임의로 만든 값이 아닙니다!\n",
        "        정해져 있는 이름입니다.\n",
        "        '''\n",
        "        # return 100\n",
        "        return len(self.title + self.contents)\n",
        "\n",
        "게시물1 = Notice('파이썬 이렇게 어려운줄 몰랐다!', '내가 알던 파이썬이 아니야....')\n",
        "게시물2 = Notice('Django는 이렇게 재미있을 줄 몰랐다!', '파이썬을 잘 못해서 내가 할 수 있을까 생각이 들었는데...')\n",
        "\n",
        "len(게시물1)"
      ],
      "metadata": {
        "colab": {
          "base_uri": "https://localhost:8080/"
        },
        "id": "Si99sdYyexQA",
        "outputId": "7630d31c-12b0-499c-da44-44c3e79fd43a"
      },
      "execution_count": null,
      "outputs": [
        {
          "output_type": "execute_result",
          "data": {
            "text/plain": [
              "35"
            ]
          },
          "metadata": {},
          "execution_count": 102
        }
      ]
    },
    {
      "cell_type": "code",
      "source": [
        "print(게시물1)  # 로그로 출력할 때"
      ],
      "metadata": {
        "colab": {
          "base_uri": "https://localhost:8080/"
        },
        "id": "h0fzMNIsgIuE",
        "outputId": "ae34c6e8-133b-4fc9-dd8c-e417a7382a88"
      },
      "execution_count": null,
      "outputs": [
        {
          "output_type": "stream",
          "name": "stdout",
          "text": [
            "파이썬 이렇게 어려운줄 몰랐다!\n"
          ]
        }
      ]
    },
    {
      "cell_type": "code",
      "source": [
        "게시물1"
      ],
      "metadata": {
        "colab": {
          "base_uri": "https://localhost:8080/"
        },
        "id": "jJTsqf-NgV8W",
        "outputId": "406e32f0-3f1b-4cc3-d744-3c232b497fc2"
      },
      "execution_count": null,
      "outputs": [
        {
          "output_type": "execute_result",
          "data": {
            "text/plain": [
              "파이썬 이렇게 어려운줄 몰랐다!, 내가 알던 파이썬이 아니야...."
            ]
          },
          "metadata": {},
          "execution_count": 94
        }
      ]
    },
    {
      "cell_type": "code",
      "source": [
        "repr(게시물1)   # 그 자료형을 대표하는 문자열 취급"
      ],
      "metadata": {
        "colab": {
          "base_uri": "https://localhost:8080/",
          "height": 35
        },
        "id": "Is7gYDlAgY_X",
        "outputId": "761f798d-7f6d-44b8-c450-58007a444122"
      },
      "execution_count": null,
      "outputs": [
        {
          "output_type": "execute_result",
          "data": {
            "text/plain": [
              "'파이썬 이렇게 어려운줄 몰랐다!, 내가 알던 파이썬이 아니야....'"
            ],
            "application/vnd.google.colaboratory.intrinsic+json": {
              "type": "string"
            }
          },
          "metadata": {},
          "execution_count": 95
        }
      ]
    },
    {
      "cell_type": "code",
      "source": [
        "range(10)\n",
        "type(range(10))\n",
        "#print(type(range(10)))"
      ],
      "metadata": {
        "colab": {
          "base_uri": "https://localhost:8080/"
        },
        "id": "jvyGt3xSgkSn",
        "outputId": "9762a315-5164-42cc-c9b3-54ac6751c09c"
      },
      "execution_count": null,
      "outputs": [
        {
          "output_type": "execute_result",
          "data": {
            "text/plain": [
              "range"
            ]
          },
          "metadata": {},
          "execution_count": 97
        }
      ]
    },
    {
      "cell_type": "code",
      "source": [
        "# 2.x\n",
        "# ranage(10) => [0, 1, 2, 3, 4, 5, 6, 7, 8, 9]\n",
        "# type(range(10)) => <type 'list'>\n",
        "\n",
        "# 문제 : range(10000000000) => 메모리를 10000000000 개수만큼 한 번에 생성을 해야 합니다.\n",
        "# 이것을 개선하자는 얘기가 끊임없이 나왔습니다.\n",
        "# 2.x 에서 나온 것이 xrange()입니다. 이것은 특이하게 현재값과 다음값만을 가지고 있어요.\n",
        "# 메모리 공간은 2칸 (실제로는 더 잡아먹습니다.)이 되서 효율적이게 바뀐것입니다.\n",
        "\n",
        "# 3.x에서 range(10000000000)\n",
        "# class range로 바뀌게 된 것입니다.\n",
        "# for i in range(1000): # 1000개의 메모리를 할당하는 것이 아닙니다. 0이면 다음값 1 만 가지고 있다.\n",
        "#   pass\n",
        "\n",
        "list(range(1000))   # 메모리에 큰 부하를 줍니다."
      ],
      "metadata": {
        "id": "O5cYeLqFg-ls"
      },
      "execution_count": null,
      "outputs": []
    },
    {
      "cell_type": "code",
      "source": [
        "sum(range(1000))"
      ],
      "metadata": {
        "colab": {
          "base_uri": "https://localhost:8080/"
        },
        "id": "w44R8-PBjVh6",
        "outputId": "6d942572-078f-4051-9284-f8d8ecb00637"
      },
      "execution_count": null,
      "outputs": [
        {
          "output_type": "execute_result",
          "data": {
            "text/plain": [
              "499500"
            ]
          },
          "metadata": {},
          "execution_count": 99
        }
      ]
    },
    {
      "cell_type": "code",
      "source": [
        "sum(list(range(1000)))  # 메모리가 1000개 할당 되었다가 더해야 하니 비효율적인 코드입니다."
      ],
      "metadata": {
        "colab": {
          "base_uri": "https://localhost:8080/"
        },
        "id": "p_26GbxpjaO6",
        "outputId": "239b00fd-5c7f-4621-81ee-668f1335b1d8"
      },
      "execution_count": null,
      "outputs": [
        {
          "output_type": "execute_result",
          "data": {
            "text/plain": [
              "499500"
            ]
          },
          "metadata": {},
          "execution_count": 100
        }
      ]
    },
    {
      "cell_type": "code",
      "source": [
        "values = ['A', 'B', 'C', 'D']\n",
        "print(list(enumerate(values)))\n",
        "print(list(enumerate(values, 1))) # 시작값 넣는 것 많이 사용합니다. 기억해두세요."
      ],
      "metadata": {
        "colab": {
          "base_uri": "https://localhost:8080/"
        },
        "id": "IagCLG7hjjQW",
        "outputId": "0121d47b-233f-4c3f-ecf0-25b5d6d438a4"
      },
      "execution_count": null,
      "outputs": [
        {
          "output_type": "stream",
          "name": "stdout",
          "text": [
            "[(0, 'A'), (1, 'B'), (2, 'C'), (3, 'D')]\n",
            "[(1, 'A'), (2, 'B'), (3, 'C'), (4, 'D')]\n"
          ]
        }
      ]
    },
    {
      "cell_type": "code",
      "source": [
        "list(reversed([1, 2, 3, 4, 5]))\n"
      ],
      "metadata": {
        "colab": {
          "base_uri": "https://localhost:8080/"
        },
        "id": "SRIsP652kpA3",
        "outputId": "f389fa61-17c4-45c8-f7b5-2dd7026ce565"
      },
      "execution_count": null,
      "outputs": [
        {
          "output_type": "execute_result",
          "data": {
            "text/plain": [
              "[5, 4, 3, 2, 1]"
            ]
          },
          "metadata": {},
          "execution_count": 104
        }
      ]
    },
    {
      "cell_type": "code",
      "source": [
        "reversed([1, 2, 3, 4, 5])"
      ],
      "metadata": {
        "colab": {
          "base_uri": "https://localhost:8080/"
        },
        "id": "VDvoIsgnlAJb",
        "outputId": "14553669-1bd7-403e-ec75-3333fb1e8d36"
      },
      "execution_count": null,
      "outputs": [
        {
          "output_type": "execute_result",
          "data": {
            "text/plain": [
              "<list_reverseiterator at 0x7e9b19ad8640>"
            ]
          },
          "metadata": {},
          "execution_count": 106
        }
      ]
    },
    {
      "cell_type": "code",
      "source": [
        "sorted([1, 2, 3, 4, 5])\n",
        "# 왜? sorted만 자료형으로 주나요?\n",
        "# reversed나 map이나 이런건 모드 메모리 주소를 가리키는데!?\n",
        "# 정답 : (추후에 심화 과정에서 강의합니다.) 메모리의 효율성 때문입니다.\n",
        "# sorted만 비효율을 감수하고 사용자가 보기 편한 자료형으로 반환합니다."
      ],
      "metadata": {
        "colab": {
          "base_uri": "https://localhost:8080/"
        },
        "id": "Jkgl6GkFkvMH",
        "outputId": "6946d8a0-1ce9-4da2-c191-f291b68313ca"
      },
      "execution_count": null,
      "outputs": [
        {
          "output_type": "execute_result",
          "data": {
            "text/plain": [
              "[1, 2, 3, 4, 5]"
            ]
          },
          "metadata": {},
          "execution_count": 105
        }
      ]
    },
    {
      "cell_type": "code",
      "source": [
        "sorted((1, 2, 3, 4, 5))"
      ],
      "metadata": {
        "colab": {
          "base_uri": "https://localhost:8080/"
        },
        "id": "Lb3wotfuk98H",
        "outputId": "d46b70f1-9081-4b39-af92-2f5b7e37db9d"
      },
      "execution_count": null,
      "outputs": [
        {
          "output_type": "execute_result",
          "data": {
            "text/plain": [
              "[1, 2, 3, 4, 5]"
            ]
          },
          "metadata": {},
          "execution_count": 107
        }
      ]
    },
    {
      "cell_type": "code",
      "source": [
        "reversed((1, 2, 3, 4, 5))"
      ],
      "metadata": {
        "colab": {
          "base_uri": "https://localhost:8080/"
        },
        "id": "SroTcFBilpyD",
        "outputId": "b63fe092-d13b-4925-f761-6ab39ada23fa"
      },
      "execution_count": null,
      "outputs": [
        {
          "output_type": "execute_result",
          "data": {
            "text/plain": [
              "<reversed at 0x7e9b19ad8d00>"
            ]
          },
          "metadata": {},
          "execution_count": 108
        }
      ]
    },
    {
      "cell_type": "markdown",
      "source": [
        "# match\n",
        "* 3.10버전에서 나온 문법이기 때문에 현업에서 거의 사용 못합니다.\n",
        "* 예를 들어 속도가 매우 빨라야 하는 프로젝트를 여러분이 하게 되었습니다.\n",
        "* 그렇다면 python 최선 버전을 사용할텐데 그러면 match 문법을\n",
        "  사용할 수는 있습니다. 다만 권고하기가 어렵습니다.\n",
        "  match문법이 동료들이 익숙하지 않기 때문입니다.\n",
        "* 2024년에는 중요도가 별표로 0.5개 정도 되고\n",
        "* 2 ~ 3년 후에는 중요도가 3 ~ 4개 정도로 올라갈 것으로 보입니다."
      ],
      "metadata": {
        "id": "61060fKvlvPa"
      }
    },
    {
      "cell_type": "code",
      "source": [
        "# 제가 반대하는 이유\n",
        "# 타 언어에 비해서 불편한 점\n",
        "# 요일 = 3\n",
        "# match 요일:\n",
        "#     case 0:\n",
        "#         print('일요일')\n",
        "#     case 1:\n",
        "#         print('월요일')\n",
        "#     case 2:\n",
        "#         print('화요일')\n",
        "#     case 3:\n",
        "#     case 4:\n",
        "#         print('목요일')\n",
        "#     case 5:\n",
        "#         print('금요일')\n",
        "#     case 6:\n",
        "#         print('토요일')\n",
        "\n",
        "요일 = 100\n",
        "match 요일:\n",
        "    case 0:\n",
        "        print('일요일')\n",
        "    case 1:\n",
        "        print('월요일')\n",
        "    case 2:\n",
        "        print('화요일')\n",
        "    case 3:\n",
        "        print('수요일')\n",
        "    case 4:\n",
        "        print('목요일')\n",
        "    case 5:\n",
        "        print('금요일')\n",
        "    case 6:\n",
        "        print('토요일')\n",
        "    case _:\n",
        "        print('요일없음!')"
      ],
      "metadata": {
        "colab": {
          "base_uri": "https://localhost:8080/"
        },
        "id": "2sjNM6q8nQ64",
        "outputId": "c86ecc98-bd86-4472-d53b-742e8c05c95a"
      },
      "execution_count": null,
      "outputs": [
        {
          "output_type": "stream",
          "name": "stdout",
          "text": [
            "요일없음!\n"
          ]
        }
      ]
    },
    {
      "cell_type": "code",
      "source": [
        "text = '1'\n",
        "match text:\n",
        "    case '1' | '2':\n",
        "        print('1, 2')\n",
        "    case _:\n",
        "        print('No Match')"
      ],
      "metadata": {
        "colab": {
          "base_uri": "https://localhost:8080/"
        },
        "id": "_5KhmykooaE2",
        "outputId": "fd94b2ab-e65b-4252-d443-66520b15ed4c"
      },
      "execution_count": null,
      "outputs": [
        {
          "output_type": "stream",
          "name": "stdout",
          "text": [
            "1, 2\n"
          ]
        }
      ]
    },
    {
      "cell_type": "code",
      "source": [
        "# 여러분은 이런 코드보다 아래 코드를 바로 만나게 됩니다.\n",
        "def 요일반환(요일):\n",
        "    return {\n",
        "        0: '일요일',\n",
        "        1: '월요일',\n",
        "        2: '화요일',\n",
        "        3: '수요일',\n",
        "        }.get(요일, '요일없음')\n",
        "\n",
        "요일반환(2)\n",
        "요일반환(100)\n"
      ],
      "metadata": {
        "colab": {
          "base_uri": "https://localhost:8080/",
          "height": 35
        },
        "id": "ZNQ1AX5uoknE",
        "outputId": "660e83ae-f2bd-4422-ac71-af440991aece"
      },
      "execution_count": null,
      "outputs": [
        {
          "output_type": "execute_result",
          "data": {
            "text/plain": [
              "'요일없음'"
            ],
            "application/vnd.google.colaboratory.intrinsic+json": {
              "type": "string"
            }
          },
          "metadata": {},
          "execution_count": 114
        }
      ]
    },
    {
      "cell_type": "markdown",
      "source": [
        "# class\n",
        "\n",
        "* class 이론을 막 파고 들지 말아라\n",
        "* class 이론을 여러권 + ChatGPT + 유튜브를 보시는 것 보다는\n",
        "* 여러 개를 만들어 볼 것. ChatGPT에게 여러 개의 클래스를 추천 받고,\n",
        "* ChatGPT에게 짜 달라고 해서 그것을 타이핑 해보는 것도 많은 도움이 될 것\n",
        "* 결론 : 많은 것을 만들어 봐야 한다\n",
        "\n",
        "\n",
        "* class 클래스이름 => 인스턴스\n",
        "* class Post => 게시물1, 게시물2, 게시물3...\n",
        "* class Dot => 점1, 점2, 점3...\n",
        "* class Character => Licat(주인공), Lion(빌런), Mob1(몬스터)...\n",
        "* class Matrix => 행렬1, 행렬2, 행렬3...\n",
        "* class User => 유저1, 유저2, 유저3...\n",
        "* class Cart(장바구니) => Cart1, Cart2, Cart3...\n",
        "* class Comment(댓글) => 댓글1, 댓글2, 댓글3...\n",
        "* class Product => 상품1, 상품2, 상품3...\n",
        "* class Class_ => 강의1, 강의2, 강의3...\n",
        "* class Teacher => 강사1, 강사2, 강사3...\n",
        "\n",
        "\n"
      ],
      "metadata": {
        "id": "kNPtKPDrovvL"
      }
    },
    {
      "cell_type": "code",
      "source": [
        "class Car:\n",
        "    kinds = []\n",
        "    speed = 300\n",
        "\n",
        "    def add_kinds(self, name):\n",
        "        self.kinds1 = 'hello world'\n",
        "        self.kinds.append(name)\n",
        "\n",
        "    def change_speed(self, speed):\n",
        "        self.speed = speed\n",
        "\n",
        "modelx = Car()\n",
        "modely = Car()\n",
        "\n",
        "kinds1"
      ],
      "metadata": {
        "colab": {
          "base_uri": "https://localhost:8080/",
          "height": 221
        },
        "id": "YBYjAvDv8JYz",
        "outputId": "c8cf6dcd-6302-4e28-e847-420fed4750d4"
      },
      "execution_count": null,
      "outputs": [
        {
          "output_type": "error",
          "ename": "NameError",
          "evalue": "name 'kinds1' is not defined",
          "traceback": [
            "\u001b[0;31m---------------------------------------------------------------------------\u001b[0m",
            "\u001b[0;31mNameError\u001b[0m                                 Traceback (most recent call last)",
            "\u001b[0;32m<ipython-input-120-313d7412af25>\u001b[0m in \u001b[0;36m<cell line: 15>\u001b[0;34m()\u001b[0m\n\u001b[1;32m     13\u001b[0m \u001b[0mmodely\u001b[0m \u001b[0;34m=\u001b[0m \u001b[0mCar\u001b[0m\u001b[0;34m(\u001b[0m\u001b[0;34m)\u001b[0m\u001b[0;34m\u001b[0m\u001b[0;34m\u001b[0m\u001b[0m\n\u001b[1;32m     14\u001b[0m \u001b[0;34m\u001b[0m\u001b[0m\n\u001b[0;32m---> 15\u001b[0;31m \u001b[0mkinds1\u001b[0m\u001b[0;34m\u001b[0m\u001b[0;34m\u001b[0m\u001b[0m\n\u001b[0m",
            "\u001b[0;31mNameError\u001b[0m: name 'kinds1' is not defined"
          ]
        }
      ]
    },
    {
      "cell_type": "code",
      "source": [
        "# 0번: 기초 상식\n",
        "# 0.0 __init__ 매직메서드는 없어도 되나요?\n",
        "class 우편번호:\n",
        "    제주도 = 100\n",
        "    경기도 = 101\n",
        "    전라북도 = 102\n",
        "    전라남도 = 103\n",
        "\n",
        "우편번호.제주도\n",
        "# 왜 이걸 딕셔너리로 만들지 않고, class로 만들었나요?\n",
        "# 재사용성 + 확장성\n",
        "\n",
        "# 0.1 클래스 꼭 사용해야 하나요?\n",
        "# 일부 자료형에서는 클래스는 꼭 사용해야 합니다.\n",
        "\n",
        "# 아래와 같이 저장한다고 해서 문제가 생기는가?\n",
        "# 데이터의 양(속도), 확장성, 다양성, 자료의 형태\n",
        "# 기본 클래스(list, tuple, dict(속도 개선이 많이 되었음에도), set)는 매우 느립니다.\n",
        "\n",
        "# 제목 : python 기초\n",
        "# 저자 : 이호준\n",
        "\n",
        "{'제목': 'python 기초', '저자': '이호준'}\n",
        "\n",
        "# 제목 : html 기초\n",
        "# 저자 : 한재현\n",
        "\n",
        "{'제목': 'html 기초', '저자': '한재현'}\n",
        "[{'제목': 'python 기초', '저자': '이호준'}, {'제목': 'html 기초', '저자': '한재현'}]"
      ],
      "metadata": {
        "colab": {
          "base_uri": "https://localhost:8080/"
        },
        "id": "OG4_A6HZ_9Te",
        "outputId": "85bef78f-4ea5-4774-c6da-add70b8da6a1"
      },
      "execution_count": null,
      "outputs": [
        {
          "output_type": "execute_result",
          "data": {
            "text/plain": [
              "100"
            ]
          },
          "metadata": {},
          "execution_count": 122
        }
      ]
    },
    {
      "cell_type": "code",
      "source": [
        "from datetime import datetime\n",
        "\n",
        "datetime.now()\n",
        "datetime.datetime(2024, 1, 11, 5, 42, 55)"
      ],
      "metadata": {
        "id": "vUk0oTXnD5wG"
      },
      "execution_count": null,
      "outputs": []
    },
    {
      "cell_type": "markdown",
      "source": [
        "## Post"
      ],
      "metadata": {
        "id": "J2dVB7AHNiD2"
      }
    },
    {
      "cell_type": "code",
      "source": [
        "\n",
        "# 1번\n",
        "# 클래스를 설계하실 때\n",
        "# 첫 번째로 - 모든 인스턴스에서 공유해야할 변수(클래스 변수)나 메서드 설정\n",
        "# 두 번째로 - 인스턴스 고유의 영역\n",
        "# in_created_at(스네이크 표기법) - 파이썬\n",
        "# inCreatedAt(카멜 표기법) - 파이썬에서는 잘 사용하지 않습니다.(JavaScript에서는 많이 사용)\n",
        "# InCreatedAt(파스칼 표기법) - 파이썬 클래스\n",
        "\n",
        "class Post:\n",
        "    def __init__(\n",
        "            self,\n",
        "            in_title = '',\n",
        "            in_contents = '',\n",
        "            in_count = 0,\n",
        "            in_created_at = '',\n",
        "            in_updated_at = '',\n",
        "            in_author = ''\n",
        "            ):\n",
        "        self.title = in_title\n",
        "        self.contents = in_contents\n",
        "        self.count = in_count\n",
        "        self.created_at = in_created_at\n",
        "        self.updated_at = in_updated_at\n",
        "        self.author = in_author\n",
        "\n",
        "    def __str__(self):\n",
        "        return self.title\n",
        "\n",
        "    def __repr__(self):\n",
        "        return self.title\n",
        "\n",
        "    def __len__(self):\n",
        "        pass\n",
        "\n",
        "    def __eq__(self, next):\n",
        "        return self.title == next.title\n",
        "\n",
        "    def __add__(self, next):\n",
        "        #return self.count + next.count\n",
        "        return self.title + next.title\n",
        "\n",
        "    def update(self, in_contents):\n",
        "        '''\n",
        "        in_실무에서 사용하는 접두사가 아닙니다.\n",
        "        여러분의 이해를 돕기 위한 변수명입니다.\n",
        "        '''\n",
        "        self.contents = in_contents\n",
        "        return '게시물 수정이 성공했습니다.! 200'\n",
        "\n",
        "    def delete(self):\n",
        "        pass\n",
        "\n",
        "게시물1 = Post(\n",
        "    '파이썬은 참 깊군요!',\n",
        "    '오늘은 파이썬 클래스를 배웠는데 너무 어렵기도 하고, 신기했습니다.',\n",
        "    0,\n",
        "    '2024-01-11',\n",
        "    '2024-01-11',\n",
        "    '이호준'\n",
        ")\n",
        "\n",
        "게시물2 = Post('2', '22', 0, '2024-01-11', '2024-01-11', '이호준')\n",
        "\n",
        "print(게시물1)\n",
        "print(게시물1.title)\n",
        "print(게시물1 + 게시물2)    # +연산이 나오면 앞(게시물 1)의 __add__가 실행됩니다.\n",
        "\n",
        "게시물1.update('hello world')\n",
        "# 게시물1.contents\n",
        "\n",
        "게시물1 == 게시물2\n"
      ],
      "metadata": {
        "colab": {
          "base_uri": "https://localhost:8080/"
        },
        "id": "Yb5vUo7iAiku",
        "outputId": "90c200ec-f72d-444d-ce90-a13d41ac76bd"
      },
      "execution_count": null,
      "outputs": [
        {
          "output_type": "stream",
          "name": "stdout",
          "text": [
            "파이썬은 참 깊군요!\n",
            "파이썬은 참 깊군요!\n",
            "파이썬은 참 깊군요!2\n"
          ]
        },
        {
          "output_type": "execute_result",
          "data": {
            "text/plain": [
              "False"
            ]
          },
          "metadata": {},
          "execution_count": 154
        }
      ]
    },
    {
      "cell_type": "code",
      "source": [
        "l = [10, 20, 30]\n",
        "len(dir(l))"
      ],
      "metadata": {
        "colab": {
          "base_uri": "https://localhost:8080/"
        },
        "id": "lZPHOkcrAsSO",
        "outputId": "d01e10d8-04a0-4076-b2b8-334577cbff84"
      },
      "execution_count": null,
      "outputs": [
        {
          "output_type": "execute_result",
          "data": {
            "text/plain": [
              "47"
            ]
          },
          "metadata": {},
          "execution_count": 145
        }
      ]
    },
    {
      "cell_type": "code",
      "source": [
        "len(dir(게시물2))"
      ],
      "metadata": {
        "colab": {
          "base_uri": "https://localhost:8080/"
        },
        "id": "ihTWZ2zMLVHx",
        "outputId": "3eec85f7-2a77-4b0e-e923-a118c6643fa3"
      },
      "execution_count": null,
      "outputs": [
        {
          "output_type": "execute_result",
          "data": {
            "text/plain": [
              "36"
            ]
          },
          "metadata": {},
          "execution_count": 147
        }
      ]
    },
    {
      "cell_type": "markdown",
      "source": [
        "## Dot"
      ],
      "metadata": {
        "id": "FklNsk8OLaYf"
      }
    },
    {
      "cell_type": "code",
      "source": [
        "class Dot:\n",
        "    def __init__(self, x, y):\n",
        "        self.x = x\n",
        "        self.y = y\n",
        "\n",
        "    def __add__(self, next):\n",
        "        return (self.x + next.x, self.y + next.y)\n",
        "\n",
        "    def __mul__(self, next):\n",
        "        return (self.x * next.x, self.y * next.y)\n",
        "\n",
        "    def distance(self, next):\n",
        "        dx = self.x - next.x\n",
        "        dy = self.y - next.y\n",
        "        return (dx**2 + dy**2) ** 0.5   # root는 ** 0.5 로 많이 사용합니다.\n",
        "\n",
        "dot1 = Dot(20, 10)\n",
        "dot2 = Dot(30, 5)\n",
        "\n",
        "dot1 + dot2\n",
        "dot1 + dot2\n",
        "dot1.distance(dot2)"
      ],
      "metadata": {
        "colab": {
          "base_uri": "https://localhost:8080/"
        },
        "id": "zNBxWdU2NmiZ",
        "outputId": "40619107-5108-4a8c-91cf-53a7536f29c6"
      },
      "execution_count": null,
      "outputs": [
        {
          "output_type": "execute_result",
          "data": {
            "text/plain": [
              "11.180339887498949"
            ]
          },
          "metadata": {},
          "execution_count": 156
        }
      ]
    },
    {
      "cell_type": "markdown",
      "source": [
        "## character"
      ],
      "metadata": {
        "id": "tUKAFJ4_PdR6"
      }
    },
    {
      "cell_type": "code",
      "source": [
        "class Character:\n",
        "    def __init__(self, name, skill, hp, mp, power, x):\n",
        "        self.name = name\n",
        "        self.skill = skill\n",
        "        self.hp = hp\n",
        "        self.mp = mp\n",
        "        self.power = power\n",
        "        self.x = x\n",
        "\n",
        "    def move(self):\n",
        "        self.x += 100\n",
        "\n",
        "    def attack(self, next):\n",
        "        next.hp -= self.power\n",
        "\n",
        "\n",
        "주인공1 = Character('licat', '질풍검', 100, 100, 10, 10)\n",
        "몹1 = Character('Monster', '질풍검', 100, 100, 10, 10)\n",
        "\n",
        "주인공1.attack(몹1)\n",
        "몹1.hp\n",
        "\n"
      ],
      "metadata": {
        "colab": {
          "base_uri": "https://localhost:8080/"
        },
        "id": "rR9ot-FxQORf",
        "outputId": "9eb4c0db-44ce-4e4c-da6d-901bf34bcf1c"
      },
      "execution_count": null,
      "outputs": [
        {
          "output_type": "execute_result",
          "data": {
            "text/plain": [
              "90"
            ]
          },
          "metadata": {},
          "execution_count": 173
        }
      ]
    },
    {
      "cell_type": "code",
      "source": [
        "class Character:\n",
        "    def __init__(self, name, skill, hp, mp, power, x):\n",
        "        self.name = name\n",
        "        self.skill = skill\n",
        "        self.hp = hp\n",
        "        self.mp = mp\n",
        "        self.power = power\n",
        "        self.x = x\n",
        "\n",
        "    def move(self):\n",
        "        self.x += 100\n",
        "\n",
        "    def attack(self, next):\n",
        "        next.hp -= self.power\n",
        "\n",
        "주인공1 = Character('licat', '질풍검', 100, 100, 10, 10)\n",
        "몹1 = Character('Monster', '질풍검', 100, 100, 10, 10)\n",
        "\n",
        "주인공1.attack(몹1)\n",
        "몹1.hp"
      ],
      "metadata": {
        "colab": {
          "base_uri": "https://localhost:8080/"
        },
        "id": "4ARbhVymRs3u",
        "outputId": "f3e2f0c8-585f-4d10-b126-c617bd72e6e5"
      },
      "execution_count": null,
      "outputs": [
        {
          "output_type": "execute_result",
          "data": {
            "text/plain": [
              "90"
            ]
          },
          "metadata": {},
          "execution_count": 171
        }
      ]
    },
    {
      "cell_type": "code",
      "source": [
        "class Book:\n",
        "    def __init__(self, title, summary, author, publish_date, price):\n",
        "        self.title = title\n",
        "        self.summary = summary\n",
        "        self.author = author\n",
        "        self.publish_date = publish_date\n",
        "        self.price = price\n",
        "\n",
        "    def discount(self, rate):\n",
        "        return (100 - rate) * self.price\n",
        "\n",
        "book1 = Book(\n",
        "    'hello world python',\n",
        "    'hello world...',\n",
        "    '이호준',\n",
        "    '2024-01-11',\n",
        "    5000\n",
        ")"
      ],
      "metadata": {
        "id": "ExWk5XgKYyJA"
      },
      "execution_count": 175,
      "outputs": []
    },
    {
      "cell_type": "code",
      "source": [
        "book1.discount(10)"
      ],
      "metadata": {
        "colab": {
          "base_uri": "https://localhost:8080/"
        },
        "id": "qYy0NJFXs_gL",
        "outputId": "8921ece4-979d-4547-8ed9-36e44f434fe2"
      },
      "execution_count": 179,
      "outputs": [
        {
          "output_type": "execute_result",
          "data": {
            "text/plain": [
              "450000"
            ]
          },
          "metadata": {},
          "execution_count": 179
        }
      ]
    },
    {
      "cell_type": "code",
      "source": [],
      "metadata": {
        "id": "GiqqzXBhtV0Y"
      },
      "execution_count": null,
      "outputs": []
    }
  ]
}