{
  "nbformat": 4,
  "nbformat_minor": 0,
  "metadata": {
    "colab": {
      "provenance": [],
      "authorship_tag": "ABX9TyOk+s/E8/Le5v72hJijQW1D",
      "include_colab_link": true
    },
    "kernelspec": {
      "name": "python3",
      "display_name": "Python 3"
    },
    "language_info": {
      "name": "python"
    }
  },
  "cells": [
    {
      "cell_type": "markdown",
      "metadata": {
        "id": "view-in-github",
        "colab_type": "text"
      },
      "source": [
        "<a href=\"https://colab.research.google.com/github/mkdirlife/orm/blob/main/%EB%AA%A8%EB%91%90%EC%9D%98_%EC%97%B0%EA%B5%AC%EC%86%8C_4%EC%A3%BC%EC%B0%A8_1%EC%9D%BC_%EC%97%B0%EC%8A%B5%EB%AC%B8%EC%A0%9C.ipynb\" target=\"_parent\"><img src=\"https://colab.research.google.com/assets/colab-badge.svg\" alt=\"Open In Colab\"/></a>"
      ]
    },
    {
      "cell_type": "code",
      "execution_count": null,
      "metadata": {
        "id": "cKaW5dzrDN_R"
      },
      "outputs": [],
      "source": [
        "# `class Commnet`를 작성해주세요.\n",
        "#\n",
        "# 요구사항\n",
        "# * 각 댓글은 고유한 ID, 작성자 이름, 댓글 내용, 작성 시간을 가져야 합니다.\n",
        "# * 댓글은 하나 이상의 대댓글을 가질 수 있어야 합니다.\n",
        "# * 대댓글도 Comment 클래스의 인스턴스로 생성되며, 원 댓글에 종속됩니다.\n",
        "# * 시간은 '년-월-일 시:분' 형식으로 표시되어야 합니다.\n",
        "# * (선택 과제) 댓글 출력 기능 - 계층적 출력을 해보세요.\n",
        "# * (선택 과제)댓글에 대한 좋아요 기능을 추가할 수 있습니다."
      ]
    },
    {
      "cell_type": "code",
      "source": [
        "from datetime import datetime\n",
        "\n",
        "class Comment:\n",
        "    _comment_num = 0    # 클래스 변수로 ID 번호 설정\n",
        "    _comments = {}      # 모든 댓글을 저장하는 딕셔너리\n",
        "\n",
        "    def __init__(self, reply_name, reply_content, parent_id=None, visible=True):\n",
        "        Comment._comment_num += 1\n",
        "        self.user_id = Comment._comment_num\n",
        "        self.reply_name = reply_name\n",
        "        self.reply_content = reply_content\n",
        "        self.reply_write_time = datetime.now()\n",
        "        self.parent_id = parent_id  # 부모 댓글의 ID\n",
        "        self.reply_list = []\n",
        "        self.visible = visible      # 댓글 삭제시 안보이게\n",
        "        self.reply_likes = 0        # 좋아요 수\n",
        "\n",
        "        Comment._comments[self.user_id] = self  # 댓글을 딕셔너리에 저장\n",
        "\n",
        "        # 부모 댓글의 reply_list에 추가\n",
        "        if parent_id and parent_id in Comment._comments:\n",
        "            Comment._comments[parent_id].reply_list.append(self)\n",
        "\n",
        "    def add_reply_like(self):\n",
        "        self.reply_likes += 1\n",
        "\n",
        "    def reply_display(self, level=0):\n",
        "        tab = '     ' * level\n",
        "        if self.visible:\n",
        "            print(f\"{tab}유저 ID: {self.user_id}\")\n",
        "            print(f\"{tab}유저 이름: {self.reply_name}\")\n",
        "            print(f\"{tab}글 내용: {self.reply_content}\")\n",
        "            print(f\"{tab}작성 시간: {self.reply_write_time.strftime('%Y-%m-%d %H:%M')}\")\n",
        "            print(f\"{tab}좋아요: {self.reply_likes}\")\n",
        "        else:\n",
        "            print(f\"{tab}글 내용: 삭제되었습니다.\")\n",
        "            print(f\"{tab}작성 시간: {self.reply_write_time.strftime('%Y-%m-%d %H:%M')}\")\n",
        "\n",
        "        for reply in self.reply_list:\n",
        "            reply.reply_display(level + 1)\n",
        "\n",
        "    def reply_del(self):\n",
        "        self.visible = False\n",
        "\n",
        "# 예시 사용\n",
        "main_reply = Comment('악플러1', '바보냐?')\n",
        "reply1 = Comment('악플러2', '내가 왜 바본데?', parent_id=main_reply.user_id)\n",
        "reply2 = Comment('악플러1', '그럼 니가 뭔데?', parent_id=reply1.user_id)\n",
        "\n",
        "main_reply.reply_display()\n",
        "print(\"\")\n",
        "\n",
        "main_reply.reply_del()\n",
        "reply1.add_reply_like()\n",
        "reply1.add_reply_like()\n",
        "reply2.reply_del()\n",
        "\n",
        "reply1 = Comment('악플러2', '왜 삭제하냐?', parent_id=main_reply.user_id)\n",
        "\n",
        "main_reply.reply_display()\n"
      ],
      "metadata": {
        "colab": {
          "base_uri": "https://localhost:8080/"
        },
        "id": "CbkgXIMvDXHF",
        "outputId": "07fdf5b5-b0bf-43f8-83f4-19c1ed6377f4"
      },
      "execution_count": null,
      "outputs": [
        {
          "output_type": "stream",
          "name": "stdout",
          "text": [
            "유저 ID: 1\n",
            "유저 이름: 악플러1\n",
            "글 내용: 바보냐?\n",
            "작성 시간: 2024-01-16 03:16\n",
            "좋아요: 0\n",
            "     유저 ID: 2\n",
            "     유저 이름: 악플러2\n",
            "     글 내용: 내가 왜 바본데?\n",
            "     작성 시간: 2024-01-16 03:16\n",
            "     좋아요: 0\n",
            "          유저 ID: 3\n",
            "          유저 이름: 악플러1\n",
            "          글 내용: 그럼 니가 뭔데?\n",
            "          작성 시간: 2024-01-16 03:16\n",
            "          좋아요: 0\n",
            "\n",
            "글 내용: 삭제되었습니다.\n",
            "작성 시간: 2024-01-16 03:16\n",
            "     유저 ID: 2\n",
            "     유저 이름: 악플러2\n",
            "     글 내용: 내가 왜 바본데?\n",
            "     작성 시간: 2024-01-16 03:16\n",
            "     좋아요: 2\n",
            "          글 내용: 삭제되었습니다.\n",
            "          작성 시간: 2024-01-16 03:16\n",
            "     유저 ID: 4\n",
            "     유저 이름: 악플러2\n",
            "     글 내용: 왜 삭제하냐?\n",
            "     작성 시간: 2024-01-16 03:16\n",
            "     좋아요: 0\n"
          ]
        }
      ]
    },
    {
      "cell_type": "code",
      "source": [],
      "metadata": {
        "id": "USmCDZ15Hb4-"
      },
      "execution_count": null,
      "outputs": []
    }
  ]
}