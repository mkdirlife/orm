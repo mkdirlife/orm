{
  "nbformat": 4,
  "nbformat_minor": 0,
  "metadata": {
    "colab": {
      "provenance": [],
      "authorship_tag": "ABX9TyNkXIZjhdZ2It1fB55CbV99",
      "include_colab_link": true
    },
    "kernelspec": {
      "name": "python3",
      "display_name": "Python 3"
    },
    "language_info": {
      "name": "python"
    }
  },
  "cells": [
    {
      "cell_type": "markdown",
      "metadata": {
        "id": "view-in-github",
        "colab_type": "text"
      },
      "source": [
        "<a href=\"https://colab.research.google.com/github/mkdirlife/orm/blob/main/%EB%AA%A8%EB%91%90%EC%9D%98_%EC%97%B0%EA%B5%AC%EC%86%8C_5%EC%A3%BC%EC%B0%A8_1%EC%9D%BC_%ED%81%B4%EB%9E%98%EC%8A%A4.ipynb\" target=\"_parent\"><img src=\"https://colab.research.google.com/assets/colab-badge.svg\" alt=\"Open In Colab\"/></a>"
      ]
    },
    {
      "cell_type": "code",
      "execution_count": 1,
      "metadata": {
        "id": "NY_Bi5t2bgyw"
      },
      "outputs": [],
      "source": [
        "from google.colab import drive"
      ]
    },
    {
      "cell_type": "code",
      "source": [
        "pwd"
      ],
      "metadata": {
        "colab": {
          "base_uri": "https://localhost:8080/",
          "height": 35
        },
        "id": "eeMwquJHfjzs",
        "outputId": "e36f97b7-58ae-46cb-9267-56c22063b71f"
      },
      "execution_count": 2,
      "outputs": [
        {
          "output_type": "execute_result",
          "data": {
            "text/plain": [
              "'/content'"
            ],
            "application/vnd.google.colaboratory.intrinsic+json": {
              "type": "string"
            }
          },
          "metadata": {},
          "execution_count": 2
        }
      ]
    },
    {
      "cell_type": "code",
      "source": [
        "!ls"
      ],
      "metadata": {
        "colab": {
          "base_uri": "https://localhost:8080/"
        },
        "id": "zq2seTBtfmaA",
        "outputId": "417d16c0-9e5c-4342-8e5d-a0368e0f2f3a"
      },
      "execution_count": 3,
      "outputs": [
        {
          "output_type": "stream",
          "name": "stdout",
          "text": [
            "sample_data\n"
          ]
        }
      ]
    },
    {
      "cell_type": "code",
      "source": [
        "drive.mount('/content/mountdrive')"
      ],
      "metadata": {
        "colab": {
          "base_uri": "https://localhost:8080/"
        },
        "id": "GNznmObmfndB",
        "outputId": "350dd0d3-0cf7-4525-ac85-2fa96be6be2e"
      },
      "execution_count": 4,
      "outputs": [
        {
          "output_type": "stream",
          "name": "stdout",
          "text": [
            "Mounted at /content/mountdrive\n"
          ]
        }
      ]
    },
    {
      "cell_type": "code",
      "source": [
        "ls"
      ],
      "metadata": {
        "colab": {
          "base_uri": "https://localhost:8080/"
        },
        "id": "BdnJd9UTfuGS",
        "outputId": "a651b06a-c231-4e07-9633-ac43af673b9c"
      },
      "execution_count": 5,
      "outputs": [
        {
          "output_type": "stream",
          "name": "stdout",
          "text": [
            "\u001b[0m\u001b[01;34mmountdrive\u001b[0m/  \u001b[01;34msample_data\u001b[0m/\n"
          ]
        }
      ]
    },
    {
      "cell_type": "code",
      "source": [
        "cd My\\ drive"
      ],
      "metadata": {
        "colab": {
          "base_uri": "https://localhost:8080/"
        },
        "id": "YPBVu5_QgCod",
        "outputId": "a5140c97-4727-47a2-dc71-e592da6dd6ed"
      },
      "execution_count": 6,
      "outputs": [
        {
          "output_type": "stream",
          "name": "stdout",
          "text": [
            "[Errno 2] No such file or directory: 'My drive'\n",
            "/content\n"
          ]
        }
      ]
    },
    {
      "cell_type": "code",
      "source": [
        "cd My drive"
      ],
      "metadata": {
        "colab": {
          "base_uri": "https://localhost:8080/"
        },
        "id": "KVrh-GdIgIgt",
        "outputId": "ca2d12ad-fff0-4b89-9c47-0c510ea51409"
      },
      "execution_count": 7,
      "outputs": [
        {
          "output_type": "stream",
          "name": "stdout",
          "text": [
            "[Errno 2] No such file or directory: 'My drive'\n",
            "/content\n"
          ]
        }
      ]
    },
    {
      "cell_type": "code",
      "source": [
        "cd My\\Drive"
      ],
      "metadata": {
        "colab": {
          "base_uri": "https://localhost:8080/"
        },
        "id": "6BHugOFcgMmY",
        "outputId": "2de1a333-128b-400b-b7ba-b776c54a3669"
      },
      "execution_count": 8,
      "outputs": [
        {
          "output_type": "stream",
          "name": "stdout",
          "text": [
            "[Errno 2] No such file or directory: 'MyDrive'\n",
            "/content\n"
          ]
        }
      ]
    },
    {
      "cell_type": "code",
      "source": [
        "cd My/ Drive"
      ],
      "metadata": {
        "colab": {
          "base_uri": "https://localhost:8080/"
        },
        "id": "uUYhFRpTgPgV",
        "outputId": "62c09ce6-6409-469f-e38d-33f4098b1a57"
      },
      "execution_count": 9,
      "outputs": [
        {
          "output_type": "stream",
          "name": "stdout",
          "text": [
            "[Errno 2] No such file or directory: 'My/ Drive'\n",
            "/content\n"
          ]
        }
      ]
    },
    {
      "cell_type": "code",
      "source": [
        "cd My\\ Drive"
      ],
      "metadata": {
        "colab": {
          "base_uri": "https://localhost:8080/"
        },
        "id": "ZJvL0mIsgT_E",
        "outputId": "6cfd8620-30f5-45b8-d8be-f7c60c17cb00"
      },
      "execution_count": 10,
      "outputs": [
        {
          "output_type": "stream",
          "name": "stdout",
          "text": [
            "[Errno 2] No such file or directory: 'My Drive'\n",
            "/content\n"
          ]
        }
      ]
    },
    {
      "cell_type": "code",
      "source": [
        "ls"
      ],
      "metadata": {
        "colab": {
          "base_uri": "https://localhost:8080/"
        },
        "id": "wcxE0iz-giRJ",
        "outputId": "6013127b-88af-485d-db57-0ed58f8f8bbd"
      },
      "execution_count": 11,
      "outputs": [
        {
          "output_type": "stream",
          "name": "stdout",
          "text": [
            "\u001b[0m\u001b[01;34mmountdrive\u001b[0m/  \u001b[01;34msample_data\u001b[0m/\n"
          ]
        }
      ]
    },
    {
      "cell_type": "code",
      "source": [
        "cd mountdrive"
      ],
      "metadata": {
        "colab": {
          "base_uri": "https://localhost:8080/"
        },
        "id": "jEwd-SSLgnCd",
        "outputId": "59e5eb27-8b3d-443a-aed3-6f808567d376"
      },
      "execution_count": 12,
      "outputs": [
        {
          "output_type": "stream",
          "name": "stdout",
          "text": [
            "/content/mountdrive\n"
          ]
        }
      ]
    },
    {
      "cell_type": "code",
      "source": [
        "ls"
      ],
      "metadata": {
        "colab": {
          "base_uri": "https://localhost:8080/"
        },
        "id": "ptgR5tCMgsv-",
        "outputId": "d16a377a-b3bb-4f13-9060-709e01307168"
      },
      "execution_count": 13,
      "outputs": [
        {
          "output_type": "stream",
          "name": "stdout",
          "text": [
            "\u001b[0m\u001b[01;34mMyDrive\u001b[0m/\n"
          ]
        }
      ]
    },
    {
      "cell_type": "code",
      "source": [
        "cd MyDrive"
      ],
      "metadata": {
        "colab": {
          "base_uri": "https://localhost:8080/"
        },
        "id": "Grlgw7Txgtln",
        "outputId": "8053ceb4-480c-4396-e6de-fbbba5163ab7"
      },
      "execution_count": 14,
      "outputs": [
        {
          "output_type": "stream",
          "name": "stdout",
          "text": [
            "/content/mountdrive/MyDrive\n"
          ]
        }
      ]
    },
    {
      "cell_type": "code",
      "source": [
        "mkdir jiyong"
      ],
      "metadata": {
        "id": "6CB7hlx5gvRh"
      },
      "execution_count": 15,
      "outputs": []
    },
    {
      "cell_type": "code",
      "source": [
        "mkdir test"
      ],
      "metadata": {
        "id": "B27MSYTyg4jy"
      },
      "execution_count": 16,
      "outputs": []
    },
    {
      "cell_type": "code",
      "source": [
        "# 2019/9/24\n",
        "a = 2019\n",
        "b = 9\n",
        "c = 24\n",
        "\n",
        "print(a, b, c, sep = '/', end = ' ')\n",
        "print(a, b, c)"
      ],
      "metadata": {
        "colab": {
          "base_uri": "https://localhost:8080/"
        },
        "id": "xbwtVLzvg8u6",
        "outputId": "002aec4a-1070-4f03-e88a-d9cd2f9395e6"
      },
      "execution_count": 24,
      "outputs": [
        {
          "output_type": "stream",
          "name": "stdout",
          "text": [
            "2052\n",
            "2019/9/24 2019 9 24\n"
          ]
        }
      ]
    },
    {
      "cell_type": "code",
      "source": [
        "# bit 연산\n",
        "a = 40\n",
        "b = 14\n",
        "\n",
        "print(a | b)\n",
        "# &, \\, ~\n",
        "\n",
        "print(bin(a)[2:].zfill(6))\n",
        "print(bin(b)[2:].zfill(6))\n",
        "\n",
        "# 101000\n",
        "# 001110\n",
        "# ------ and 연산\n",
        "# 001000\n",
        "# ------ or 연산\n",
        "# 101110\n",
        "\n"
      ],
      "metadata": {
        "colab": {
          "base_uri": "https://localhost:8080/"
        },
        "id": "S9lMTgDMqSmc",
        "outputId": "eabb9899-fe87-4640-ec98-c8ff7f12babd"
      },
      "execution_count": 32,
      "outputs": [
        {
          "output_type": "stream",
          "name": "stdout",
          "text": [
            "46\n",
            "101000\n",
            "001110\n"
          ]
        }
      ]
    },
    {
      "cell_type": "code",
      "source": [
        "a = 10\n",
        "\n",
        "def aplus():\n",
        "    global a\n",
        "    a += 10\n",
        "    return a\n",
        "print(aplus())"
      ],
      "metadata": {
        "colab": {
          "base_uri": "https://localhost:8080/"
        },
        "id": "5__bskc7u_Eq",
        "outputId": "158d140c-e406-450d-d95a-baf330eecb2d"
      },
      "execution_count": 39,
      "outputs": [
        {
          "output_type": "stream",
          "name": "stdout",
          "text": [
            "20\n"
          ]
        }
      ]
    },
    {
      "cell_type": "code",
      "source": [
        "LLL = ['{} X {} = {}'.format(i, j, i*j) for i in range(2, 10) for j in range(1, 10)]\n",
        "print(LLL)"
      ],
      "metadata": {
        "colab": {
          "base_uri": "https://localhost:8080/"
        },
        "id": "k0xr5GyrwxQ9",
        "outputId": "9dfa75aa-58af-4f9e-96c2-4c053396029a"
      },
      "execution_count": 42,
      "outputs": [
        {
          "output_type": "stream",
          "name": "stdout",
          "text": [
            "['2 X 1 = 2', '2 X 2 = 4', '2 X 3 = 6', '2 X 4 = 8', '2 X 5 = 10', '2 X 6 = 12', '2 X 7 = 14', '2 X 8 = 16', '2 X 9 = 18', '3 X 1 = 3', '3 X 2 = 6', '3 X 3 = 9', '3 X 4 = 12', '3 X 5 = 15', '3 X 6 = 18', '3 X 7 = 21', '3 X 8 = 24', '3 X 9 = 27', '4 X 1 = 4', '4 X 2 = 8', '4 X 3 = 12', '4 X 4 = 16', '4 X 5 = 20', '4 X 6 = 24', '4 X 7 = 28', '4 X 8 = 32', '4 X 9 = 36', '5 X 1 = 5', '5 X 2 = 10', '5 X 3 = 15', '5 X 4 = 20', '5 X 5 = 25', '5 X 6 = 30', '5 X 7 = 35', '5 X 8 = 40', '5 X 9 = 45', '6 X 1 = 6', '6 X 2 = 12', '6 X 3 = 18', '6 X 4 = 24', '6 X 5 = 30', '6 X 6 = 36', '6 X 7 = 42', '6 X 8 = 48', '6 X 9 = 54', '7 X 1 = 7', '7 X 2 = 14', '7 X 3 = 21', '7 X 4 = 28', '7 X 5 = 35', '7 X 6 = 42', '7 X 7 = 49', '7 X 8 = 56', '7 X 9 = 63', '8 X 1 = 8', '8 X 2 = 16', '8 X 3 = 24', '8 X 4 = 32', '8 X 5 = 40', '8 X 6 = 48', '8 X 7 = 56', '8 X 8 = 64', '8 X 9 = 72', '9 X 1 = 9', '9 X 2 = 18', '9 X 3 = 27', '9 X 4 = 36', '9 X 5 = 45', '9 X 6 = 54', '9 X 7 = 63', '9 X 8 = 72', '9 X 9 = 81']\n"
          ]
        }
      ]
    },
    {
      "cell_type": "markdown",
      "source": [
        "# class 3번째 시간\n",
        "\n",
        "* class 클래스이름 => 인스턴스\n",
        "* class Post => 게시물1, 게시물2, 게시물3...\n",
        "* class Dot => 점1, 점2, 점3...\n",
        "* class Character => Licat(주인공), Lion(빌런), Mob1(몬스터)\n",
        "* class Matrix => 행렬1, 행렬2, 행렬3...\n",
        "* class User => 유저1, 유저2, 유저3...\n",
        "* class Cart(장바구니) => Cart1, Cart2, Cart3...\n",
        "* class Commnet(댓글) => 댓글1, 댓글2, 댓글3...\n",
        "* class Product => 상품1, 상품2, 상품3...\n",
        "* class Class_ => 강의1, 강의2, 강의3...\n",
        "* class Teacher => 강사1, 강사2, 강사3...\n",
        "\n"
      ],
      "metadata": {
        "id": "OcFkQf_h4ngz"
      }
    },
    {
      "cell_type": "code",
      "source": [
        "from datetime import datetime\n",
        "\n",
        "datetime.now()\n",
        "datetime.now().date()\n",
        "datetime.now().year\n",
        "datetime.now().month\n",
        "datetime.now().day\n",
        "datetime.now().hour\n",
        "datetime.now().minute\n",
        "\n",
        "d = datetime.now()\n",
        "print(f\"{d.year}/{d.month}/{d.day}\")    ## 가볍게 사용하긴 좋지만, 날짜나 시간은 타입이 있음.\n",
        "\n",
        "d.strftime('올해 연도는 %Y')\n",
        "d.strftime('%Y/%M/%D')\n",
        "d.strftime('%Y/%m/%d')  # 가장 많이 사용하는 date format.\n",
        "d.strftime('%Y-%m-%d %H:%M')  # 가장 많이 사용하는 date format."
      ],
      "metadata": {
        "colab": {
          "base_uri": "https://localhost:8080/",
          "height": 54
        },
        "id": "EvhFb5DlgbpZ",
        "outputId": "b681d100-2893-4441-8697-088de47bdbb2"
      },
      "execution_count": 97,
      "outputs": [
        {
          "output_type": "stream",
          "name": "stdout",
          "text": [
            "2024/1/15\n"
          ]
        },
        {
          "output_type": "execute_result",
          "data": {
            "text/plain": [
              "'2024-01-15 0752'"
            ],
            "application/vnd.google.colaboratory.intrinsic+json": {
              "type": "string"
            }
          },
          "metadata": {},
          "execution_count": 97
        }
      ]
    },
    {
      "cell_type": "code",
      "source": [
        "import hashlib\n",
        "import re\n",
        "from datetime import datetime\n",
        "\n",
        "class User:\n",
        "    user_count = 0\n",
        "    gender = ('남', '여')\n",
        "\n",
        "    def __init__(self, name, joindate, gender, age, email, password):\n",
        "        self.joindate = joindate\n",
        "        self.accessdate = joindate\n",
        "        self.name = name\n",
        "        self.gender = gender\n",
        "        self.age = age\n",
        "        self.email = email\n",
        "        self.password = password\n",
        "        # 실무에서 이렇게 저장 절대 안합니다.(Django에서도 이렇게 저장해서 오류나는 경우 많음)\n",
        "        # self.password = FEBD93F04BDA1AEC0D374F8FD014D062525934FEB1F1B81EE7C64D61F66B84B1 + salt\n",
        "        # Django 에서도 sha256을 사용합니다. 은행권에서는 이 알고리즘이 깨졌다고 보고 있습니다.\n",
        "        # sha512를 사용하려 노력을 합니다.\n",
        "        # MD5 라는 알고리즘을 암호화 알고리즘으로 많이 사용했었는데 이게 깨졌습니다. 레인보우 어택으로 깰수 있음.\n",
        "\n",
        "    def _hash_password(self, password):\n",
        "        return hashlib.sha256(password.encode()).hexdigest()\n",
        "\n",
        "    def change_password(self, password):\n",
        "        if len(password) < 8:       # validate 또는 유효성 검증이라고 합니다.\n",
        "            print('너무 짧습니다.!')\n",
        "            return\n",
        "        self.password = self._hash_password(password)\n",
        "        self.accessdate = datetime.now().strftime('%Y/%m/%d')\n",
        "\n",
        "    def update_email(self, email):\n",
        "        if self._validate_email(email):\n",
        "            self.email = email\n",
        "            self.accessdate = datetime.now().strftime('%Y/%m/%d')\n",
        "        else:\n",
        "            print(\"유효하지 않은 이메일 주소입니다.\")\n",
        "\n",
        "    def _validate_email(self, email):\n",
        "        pattern = r\"[\\w.-]+@[\\w.-]+\\.\\w+\"\n",
        "        return re.match(pattern, email) is not None\n",
        "\n",
        "    def display_profile(self):\n",
        "        print(f'name: {self.name}')\n",
        "        print(f'joindate: {self.joindate}')\n",
        "        print(f'accessdate: {self.accessdate}')\n",
        "\n",
        "    def __str__(self):\n",
        "        return self.name\n",
        "\n",
        "    def __repr__(self):\n",
        "        return self.name\n",
        "\n",
        "\n",
        "\n",
        "user1 = User('성춘향', '2024/01/15', '여', 14, 'sung@gmail.com', '1q2w3e4r!')\n",
        "user1.name\n",
        "user1.accessdate\n",
        "\n",
        "User.user_count = 1\n",
        "user2 = User('홍길동', '2024/01/15', '남', 20, 'hong@gmail.com', '1q2w3e4r!!')\n",
        "user2.name\n",
        "\n",
        "User.user_count = 2\n",
        "User.user_count\n",
        "# 무엇을 알 수 있나요? 실제로 class 와 인스턴스의 메모리 영역은 교집합 상태\n",
        "# 한 곳에서 수정이 되면 모두 수정이 됩니다!\n",
        "# 그래서 처음에 클래스를 설계 할때 모든 인스턴스에 있을 변수(클래스 변수)와\n",
        "# 인스턴스에만 있는 변수(인스턴스 변수)를 나누는 것이 매우 중요!\n",
        "# 채팅 프로그램 만들때 5천명 이하면 DB에 바로 써도 되지만\n",
        "# 10만명 이렇게 사용하게 되면 DB에 바로 쓰면 다운됨.\n",
        "#\n",
        "\n",
        "print(user1)\n",
        "user1.display_profile()\n",
        "user1.password"
      ],
      "metadata": {
        "colab": {
          "base_uri": "https://localhost:8080/",
          "height": 109
        },
        "id": "8AkCVMFIgihH",
        "outputId": "c6203565-e1e8-4fcc-888c-626c201b9e21"
      },
      "execution_count": 95,
      "outputs": [
        {
          "output_type": "stream",
          "name": "stdout",
          "text": [
            "성춘향\n",
            "name: 성춘향\n",
            "joindate: 2024/01/15\n",
            "accessdate: 2024/01/15\n"
          ]
        },
        {
          "output_type": "execute_result",
          "data": {
            "text/plain": [
              "'1q2w3e4r!'"
            ],
            "application/vnd.google.colaboratory.intrinsic+json": {
              "type": "string"
            }
          },
          "metadata": {},
          "execution_count": 95
        }
      ]
    },
    {
      "cell_type": "code",
      "source": [
        "def f():\n",
        "    return\n",
        "\n",
        "f() # 반환 값이 None 이면 출력을 안합니다."
      ],
      "metadata": {
        "id": "71n2sSsFmgBH"
      },
      "execution_count": 66,
      "outputs": []
    },
    {
      "cell_type": "code",
      "source": [
        "# 온라인 쇼핑몰에서 장바구니에 넣기\n",
        "class Cart:\n",
        "    def __init__(self):\n",
        "        self.items = []\n",
        "\n",
        "    def add_item(self, item, count):\n",
        "        self.items.append({\n",
        "            '물품': item,\n",
        "            '개수': count,\n",
        "        })\n",
        "\n",
        "    def total_price(self):\n",
        "        total_sum = 0\n",
        "\n",
        "        for i in self.items:\n",
        "            total_sum += i['물품'].price * i['개수']\n",
        "\n",
        "        return format(total_sum, ',')\n",
        "\n",
        "\n",
        "class Product:\n",
        "    def __init__(self, product_name, price):\n",
        "        self.product_name = product_name\n",
        "        self.price = price\n",
        "\n",
        "    def __str__(self):\n",
        "        return self.product_name\n",
        "\n",
        "    def __repr__(self):\n",
        "        return self.product_name\n",
        "\n",
        "로지텍키보드 = Product('로지텍키보드', 50000)\n",
        "LG모니터 = Product('LG모니터', 300000)\n",
        "그래픽카드4090 = Product('GTX4090', 2000000)\n",
        "\n",
        "buy_cart = Cart()\n",
        "buy_cart.add_item(로지텍키보드, 10)\n",
        "buy_cart.add_item(LG모니터, 10)\n",
        "buy_cart.add_item(그래픽카드4090, 2)\n",
        "\n",
        "buy_cart.items\n",
        "buy_cart.total_price()\n",
        "\n"
      ],
      "metadata": {
        "colab": {
          "base_uri": "https://localhost:8080/",
          "height": 35
        },
        "id": "dPcI5vs_tZLo",
        "outputId": "306b9d1b-fda0-4d35-b197-a51a29e35987"
      },
      "execution_count": 99,
      "outputs": [
        {
          "output_type": "execute_result",
          "data": {
            "text/plain": [
              "'7,500,000'"
            ],
            "application/vnd.google.colaboratory.intrinsic+json": {
              "type": "string"
            }
          },
          "metadata": {},
          "execution_count": 99
        }
      ]
    },
    {
      "cell_type": "markdown",
      "source": [
        "# 이론"
      ],
      "metadata": {
        "id": "1nikClcNxChU"
      }
    },
    {
      "cell_type": "code",
      "source": [
        "# 클래스 메서드\n",
        "# 클래스 메서드는 클래스 변수를 변경하고 싶을 때 사용합니다.\n",
        "# 주의해야 할 점이 첫번째 인자로 오는 cls는 관습으로 고정입니다.\n",
        "# self가 a로 바꾸면 작동은 하지만 관습적으로 안되는 것처럼\n",
        "# cls도 바꾸면 안됨.\n",
        "# cls는 class를 나타냅니다.\n",
        "class MyClass:\n",
        "    count = 0\n",
        "\n",
        "    @classmethod\n",
        "    def increment(cls):\n",
        "        cls.count += 1\n",
        "\n",
        "MyClass.increment()\n",
        "print(MyClass.count)  # 출력: 1"
      ],
      "metadata": {
        "colab": {
          "base_uri": "https://localhost:8080/"
        },
        "id": "u--3b1b1zZ02",
        "outputId": "68ea4925-c301-4cb7-e405-70aab86f1133"
      },
      "execution_count": 100,
      "outputs": [
        {
          "output_type": "stream",
          "name": "stdout",
          "text": [
            "1\n"
          ]
        }
      ]
    },
    {
      "cell_type": "code",
      "source": [
        "# 정적 메서드\n",
        "# 언제 쓰느냐!? 정적 메서드는 self로 내부 변수에 접근이 안되서\n",
        "# 책 클래스 만든 것 중 할인율 같이 관련은 있는데 밖으로 함수를 빼기 부담스러운 것들을 이렇게 사용함.\n",
        "\n",
        "class MyClass:\n",
        "    @staticmethod\n",
        "    def my_method(x, y):\n",
        "        return x + y\n",
        "\n",
        "print(MyClass.my_method(5, 3))  # 출력: 8\n",
        "\n"
      ],
      "metadata": {
        "colab": {
          "base_uri": "https://localhost:8080/"
        },
        "id": "y7hH3tQz0Gh3",
        "outputId": "65625f0d-6ae8-411d-e686-1a0ec245229f"
      },
      "execution_count": 77,
      "outputs": [
        {
          "output_type": "stream",
          "name": "stdout",
          "text": [
            "8\n"
          ]
        }
      ]
    },
    {
      "cell_type": "code",
      "source": [
        "class Book:\n",
        "    def __init__(self, name, price):\n",
        "        self.name = name\n",
        "        self.price = price\n",
        "\n",
        "    @staticmethod\n",
        "    def 할인율(원가, 할인):\n",
        "        return 원가 * (1-(할인/100))\n",
        "\n",
        "boo1 = Book('python 100제', 9000)\n",
        "\n",
        "Book.할인율(boo1.price, 10) # 밖으로 뺄 수 있는 함수이고, 굳이 안에 들어갈 필요가 없죠?\n",
        "# 그런데 할인율은 Book과 연관이 있습니다. 그럴 경우 안으로 넣어서 코딩하면\n",
        "# 유지보수에 좋다."
      ],
      "metadata": {
        "colab": {
          "base_uri": "https://localhost:8080/"
        },
        "id": "BMm4IyDJ0Wcn",
        "outputId": "2a20f641-a3b7-4a9d-8eaa-e817db71b57b"
      },
      "execution_count": 79,
      "outputs": [
        {
          "output_type": "execute_result",
          "data": {
            "text/plain": [
              "8100.0"
            ]
          },
          "metadata": {},
          "execution_count": 79
        }
      ]
    },
    {
      "cell_type": "code",
      "source": [
        "# 중요도 높지 않음\n",
        "# 별도 0.5\n",
        "# 속성 접근자(Property)\n",
        "class Person:\n",
        "    def __init__(self, first_name, last_name):\n",
        "        self._first_name = first_name\n",
        "        self._last_name = last_name\n",
        "\n",
        "    @property\n",
        "    def full_name(self):\n",
        "        return f'{self._first_name}{self._last_name}'\n",
        "\n",
        "licat = Person('li', 'cat')\n",
        "print(licat._first_name)\n",
        "print(licat._last_name)\n",
        "print(licat.full_name)\n",
        "# print(licat.full_name())"
      ],
      "metadata": {
        "colab": {
          "base_uri": "https://localhost:8080/"
        },
        "id": "FPY-AOn00y9t",
        "outputId": "a8a2d3a4-c02d-411f-efe9-c88e05f71cf8"
      },
      "execution_count": 81,
      "outputs": [
        {
          "output_type": "stream",
          "name": "stdout",
          "text": [
            "li\n",
            "cat\n",
            "licat\n"
          ]
        }
      ]
    },
    {
      "cell_type": "code",
      "source": [
        "# 덕타이핑\n",
        "# 별 0.3개\n",
        "# https://world.weniv.co.kr/\n",
        "# licat.move()\n",
        "# move() => 직관적이고 누가 움직이는 지는 알고 싶지 않고, 주인공을 앞으로 한 칸 움직이고 싶다.\n",
        "class Duck:\n",
        "    def quack(self):\n",
        "        print('꽥꽥!')\n",
        "\n",
        "class Person:\n",
        "    def quack(self):\n",
        "        print(\"안녕하세요!\")\n",
        "\n",
        "def quack(obj):\n",
        "    obj.quack()\n",
        "\n",
        "duck = Duck()\n",
        "person = Person()\n",
        "\n",
        "quack(duck)  # 출력: 꽥꽥!          duck.quack() 대신 quack(duck)를 사용하겠다.\n",
        "quack(person)  # 출력: 안녕하세요!  person.quack() 대신 quack(person)를 사용하겠다."
      ],
      "metadata": {
        "id": "Zpb55R1B2FWr"
      },
      "execution_count": 82,
      "outputs": []
    },
    {
      "cell_type": "code",
      "source": [
        "# 오버라이딩\n",
        "# 자식이 부모의 메서드를 덮어 쓰는 것\n",
        "\n",
        "class Animal:\n",
        "    def sound(self):\n",
        "        print(\"기본 동물 울음 소리, 악!\")\n",
        "\n",
        "class Dog(Animal):\n",
        "    def sound(self):\n",
        "        print(\"왈왈!\")\n",
        "\n",
        "class Cat(Animal):\n",
        "    def sound(self):\n",
        "        print(\"냐옹!\")\n",
        "\n",
        "# super()를 사용해서 부모의 메서드를 쓸 수 있다.\n",
        "class Bird(Animal):\n",
        "    def sound(self):\n",
        "        super().sound()\n",
        "        print(\"짹짹!\")\n",
        "\n",
        "b = Bird()\n",
        "b.sound()"
      ],
      "metadata": {
        "colab": {
          "base_uri": "https://localhost:8080/"
        },
        "id": "RAbz7QcE3Nvd",
        "outputId": "87605796-cf82-4e5f-f075-287cf809b9b0"
      },
      "execution_count": 86,
      "outputs": [
        {
          "output_type": "stream",
          "name": "stdout",
          "text": [
            "기본 동물 울음 소리, 악!\n",
            "짹짹!\n"
          ]
        }
      ]
    },
    {
      "cell_type": "code",
      "source": [
        "class Person:\n",
        "    def __init__(self, name):\n",
        "        self.name = name\n",
        "\n",
        "class Student(Person):\n",
        "    def __init__(self, name, student_id):\n",
        "        super().__init__(name)  # 부모 클래스의 __init__ 메서드 호출\n",
        "        #self.name = name        # 위의 코드와 이 코드는 동일함\n",
        "        self.student_id = student_id\n",
        "\n",
        "s = Student(\"Alice\", \"S12345\")\n",
        "print(s.name)        # 출력: Alice\n",
        "print(s.student_id)  # 출력: S12345"
      ],
      "metadata": {
        "colab": {
          "base_uri": "https://localhost:8080/"
        },
        "id": "QPKnIlus787E",
        "outputId": "23baf83c-fd8b-4030-d623-e804d2fa7421"
      },
      "execution_count": 87,
      "outputs": [
        {
          "output_type": "stream",
          "name": "stdout",
          "text": [
            "Alice\n",
            "S12345\n"
          ]
        }
      ]
    },
    {
      "cell_type": "code",
      "source": [
        "# 추상 클래스\n",
        "# 중요도는 높지만 빈도가 낮아 별 0.5개수\n",
        "# 추상 클래스: 반드시 구현되어야 하는 것을 명시하면\n",
        "# 그것을 상속한 클래스에서는 반드시 그 메서드를 구현해야 합니다.\n",
        "# 언제 사용하나요? 예를 들면 빠트리면 안되는 메서드가 있는 경우\n",
        "# 게시판 만드는데 게시물 업데이트 날짜, 생성 날짜를 추상 클래스로 구현할 수 있다.\n",
        "from abc import ABC, abstractmethod\n",
        "\n",
        "class AbstractClassExample(ABC):\n",
        "\n",
        "    @abstractmethod\n",
        "    def do_something(self):\n",
        "        pass\n",
        "\n",
        "class Person(AbstractClassExample):\n",
        "\n",
        "    def __init__(self, name):\n",
        "        self.name = name\n",
        "\n",
        "    def print_name(self):\n",
        "        print(f'제 이름은 {self.name}입니다.')\n",
        "\n",
        "hojun = Person('hojun')\n",
        "hojun.print_name()"
      ],
      "metadata": {
        "colab": {
          "base_uri": "https://localhost:8080/",
          "height": 239
        },
        "id": "L3MbllRv8Uhz",
        "outputId": "4bd5b5d3-2d60-4c99-8255-9f18c6ddfa01"
      },
      "execution_count": 88,
      "outputs": [
        {
          "output_type": "error",
          "ename": "TypeError",
          "evalue": "Can't instantiate abstract class Person with abstract method do_something",
          "traceback": [
            "\u001b[0;31m---------------------------------------------------------------------------\u001b[0m",
            "\u001b[0;31mTypeError\u001b[0m                                 Traceback (most recent call last)",
            "\u001b[0;32m<ipython-input-88-dfe1a4eb76a2>\u001b[0m in \u001b[0;36m<cell line: 19>\u001b[0;34m()\u001b[0m\n\u001b[1;32m     17\u001b[0m         \u001b[0mprint\u001b[0m\u001b[0;34m(\u001b[0m\u001b[0;34mf'제 이름은 {self.name}입니다.'\u001b[0m\u001b[0;34m)\u001b[0m\u001b[0;34m\u001b[0m\u001b[0;34m\u001b[0m\u001b[0m\n\u001b[1;32m     18\u001b[0m \u001b[0;34m\u001b[0m\u001b[0m\n\u001b[0;32m---> 19\u001b[0;31m \u001b[0mhojun\u001b[0m \u001b[0;34m=\u001b[0m \u001b[0mPerson\u001b[0m\u001b[0;34m(\u001b[0m\u001b[0;34m'hojun'\u001b[0m\u001b[0;34m)\u001b[0m\u001b[0;34m\u001b[0m\u001b[0;34m\u001b[0m\u001b[0m\n\u001b[0m\u001b[1;32m     20\u001b[0m \u001b[0mhojun\u001b[0m\u001b[0;34m.\u001b[0m\u001b[0mprint_name\u001b[0m\u001b[0;34m(\u001b[0m\u001b[0;34m)\u001b[0m\u001b[0;34m\u001b[0m\u001b[0;34m\u001b[0m\u001b[0m\n",
            "\u001b[0;31mTypeError\u001b[0m: Can't instantiate abstract class Person with abstract method do_something"
          ]
        }
      ]
    },
    {
      "cell_type": "code",
      "source": [
        "from abc import ABC, abstractmethod\n",
        "\n",
        "class AbstractClassExample(ABC):\n",
        "\n",
        "    @abstractmethod\n",
        "    def do_something(self):\n",
        "        pass\n",
        "\n",
        "class Person(AbstractClassExample):\n",
        "\n",
        "    def __init__(self, name):\n",
        "        self.name = name\n",
        "\n",
        "    def print_name(self):\n",
        "        print(f'제 이름은 {self.name}입니다.')\n",
        "\n",
        "    def do_something(self):\n",
        "        print('hello')\n",
        "\n",
        "hojun = Person('hojun')\n",
        "hojun.print_name()"
      ],
      "metadata": {
        "colab": {
          "base_uri": "https://localhost:8080/"
        },
        "id": "lIFAQgsD9I2p",
        "outputId": "5f1d7504-c9f9-4f9e-c2eb-22eb3b6ce3f3"
      },
      "execution_count": 89,
      "outputs": [
        {
          "output_type": "stream",
          "name": "stdout",
          "text": [
            "제 이름은 hojun입니다.\n"
          ]
        }
      ]
    },
    {
      "cell_type": "code",
      "source": [
        "# 비공개 속성\n",
        "# 시큐어 코딩\n",
        "# 별표 0.3개\n",
        "\n",
        "class MyClass:\n",
        "    __a = 10    # 비공개 속성(Private Attributes)\n",
        "    _a = 100\n",
        "    b = 20\n",
        "\n",
        "    def __init__(self, c, d):\n",
        "        self.__c = c\n",
        "        self.d = d\n",
        "\n",
        "c = MyClass(30, 40)\n",
        "c._a    # 보통 다른 언어에서는 _ 한개가 private value입니다.\n",
        "# c.__a #error    어 접근이 안되네!? 이걸로 변수를 감추면 되겠다!? => 이렇게 생각하면 안됨\n",
        "\n",
        "# c.__a #error\n",
        "# c._a # 출력: 100\n",
        "# c.b # 출력: 20\n",
        "# c.__c # error\n",
        "# c.d # 출력: 40\n",
        "\n",
        "print(c._MyClass__c)  # 출력: 30"
      ],
      "metadata": {
        "colab": {
          "base_uri": "https://localhost:8080/"
        },
        "id": "TN3C2sPW94Ua",
        "outputId": "398c8548-c9b4-4709-c63f-706ff801b66e"
      },
      "execution_count": 93,
      "outputs": [
        {
          "output_type": "stream",
          "name": "stdout",
          "text": [
            "30\n"
          ]
        }
      ]
    },
    {
      "cell_type": "code",
      "source": [
        "class Commnet(댓글) => 댓글1, 댓글2, 댓글3...\n",
        "\n"
      ],
      "metadata": {
        "id": "K7J-jMpP_VE7"
      },
      "execution_count": null,
      "outputs": []
    }
  ]
}