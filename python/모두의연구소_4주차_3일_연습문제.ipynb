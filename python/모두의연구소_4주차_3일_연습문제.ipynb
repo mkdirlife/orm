{
  "nbformat": 4,
  "nbformat_minor": 0,
  "metadata": {
    "colab": {
      "provenance": [],
      "authorship_tag": "ABX9TyPw2ShmMf0PnIbE5/D+F1R0",
      "include_colab_link": true
    },
    "kernelspec": {
      "name": "python3",
      "display_name": "Python 3"
    },
    "language_info": {
      "name": "python"
    }
  },
  "cells": [
    {
      "cell_type": "markdown",
      "metadata": {
        "id": "view-in-github",
        "colab_type": "text"
      },
      "source": [
        "<a href=\"https://colab.research.google.com/github/mkdirlife/orm/blob/main/%EB%AA%A8%EB%91%90%EC%9D%98%EC%97%B0%EA%B5%AC%EC%86%8C_4%EC%A3%BC%EC%B0%A8_3%EC%9D%BC_%EC%97%B0%EC%8A%B5%EB%AC%B8%EC%A0%9C.ipynb\" target=\"_parent\"><img src=\"https://colab.research.google.com/assets/colab-badge.svg\" alt=\"Open In Colab\"/></a>"
      ]
    },
    {
      "cell_type": "code",
      "execution_count": null,
      "metadata": {
        "colab": {
          "base_uri": "https://localhost:8080/"
        },
        "id": "LEXgW3sQQIo2",
        "outputId": "afbd1b64-9d97-4a57-fec7-951993c3fc60"
      },
      "outputs": [
        {
          "output_type": "stream",
          "name": "stdout",
          "text": [
            "함수가 1.4066696166992188e-05 초가 걸렸습니다.\n"
          ]
        },
        {
          "output_type": "execute_result",
          "data": {
            "text/plain": [
              "5050"
            ]
          },
          "metadata": {},
          "execution_count": 62
        }
      ],
      "source": [
        "# 데코레이터 문제: 1부터 100까지 더하는 함수를 만들고 이 함수에 데코레이터를 실행시켜 몇 초가 걸리는지 확인해주세요. 아래 힌트 코드 입니다.\n",
        "# 1번\n",
        "import time\n",
        "\n",
        "def time_decorator(func):\n",
        "    def wrapper():\n",
        "        start_time = time.time()\n",
        "        result = func()\n",
        "        end_time = time.time()\n",
        "        print(f\"함수가 {end_time - start_time} 초가 걸렸습니다.\")\n",
        "        return result\n",
        "    return wrapper\n",
        "\n",
        "@time_decorator\n",
        "def sum_func():\n",
        "    total = 0\n",
        "    for i in range(1, 101):\n",
        "        total += i\n",
        "    return total\n",
        "\n",
        "sum_func()\n"
      ]
    },
    {
      "cell_type": "code",
      "source": [
        "# 제너레이터 문제: 0부터 시작하여, 매 호출 시마다 2씩 증가하는 값을 반환하는 제너레이터 함수를 작성하세요. 100이 되면 멈춰야 합니다.\n",
        "# 2번\n",
        "def gen():\n",
        "    x = 0\n",
        "    while x <= 100:\n",
        "        yield x\n",
        "        x += 2\n",
        "\n",
        "for i in gen():\n",
        "    print(i)"
      ],
      "metadata": {
        "colab": {
          "base_uri": "https://localhost:8080/"
        },
        "id": "2Vdiq_pSQOQ9",
        "outputId": "61f8bfac-a1e9-44c6-e553-b39128c5aea7"
      },
      "execution_count": null,
      "outputs": [
        {
          "output_type": "stream",
          "name": "stdout",
          "text": [
            "0\n",
            "2\n",
            "4\n",
            "6\n",
            "8\n",
            "10\n",
            "12\n",
            "14\n",
            "16\n",
            "18\n",
            "20\n",
            "22\n",
            "24\n",
            "26\n",
            "28\n",
            "30\n",
            "32\n",
            "34\n",
            "36\n",
            "38\n",
            "40\n",
            "42\n",
            "44\n",
            "46\n",
            "48\n",
            "50\n",
            "52\n",
            "54\n",
            "56\n",
            "58\n",
            "60\n",
            "62\n",
            "64\n",
            "66\n",
            "68\n",
            "70\n",
            "72\n",
            "74\n",
            "76\n",
            "78\n",
            "80\n",
            "82\n",
            "84\n",
            "86\n",
            "88\n",
            "90\n",
            "92\n",
            "94\n",
            "96\n",
            "98\n",
            "100\n"
          ]
        }
      ]
    },
    {
      "cell_type": "code",
      "source": [
        "# 예외처리 문제: 사용자로부터 두 개의 숫자를 입력받아 나눗셈을 수행하는 함수를 작성하세요. 이 때 0으로 나눌 때에는 예외처리를 해주세요.\n",
        "# 3번\n",
        "\n",
        "def divide(x, y):\n",
        "\n",
        "    try:\n",
        "        return x / y\n",
        "    except ZeroDivisionError:\n",
        "        print('0으로 나누어졌습니다.')\n",
        "        return\n",
        "\n",
        "while True:\n",
        "    try:\n",
        "        num1, num2 = input(\"두 개의 숫자를 입력하세요: \").split()\n",
        "    except ValueError:\n",
        "        print(\"2개의 숫자를 입력해야 합니다. 각 숫자는 띄어쓰기를 해야 합니다.\")\n",
        "\n",
        "    if num1.isdigit() == True and num2.isdigit() == True:\n",
        "        break\n",
        "    else:\n",
        "        print(\"숫자를 입력해주세요!\\n\")\n",
        "\n",
        "\n",
        "result = divide(int(num1), int(num2))\n",
        "\n",
        "if result is not None:\n",
        "    print(result)"
      ],
      "metadata": {
        "colab": {
          "base_uri": "https://localhost:8080/"
        },
        "id": "SOdcBXbBRjjp",
        "outputId": "0bb1453c-e1f2-4036-cea7-9c12a692b324"
      },
      "execution_count": null,
      "outputs": [
        {
          "output_type": "stream",
          "name": "stdout",
          "text": [
            "두 개의 숫자를 입력하세요: 4 df\n",
            "숫자를 입력해주세요!\n",
            "\n",
            "두 개의 숫자를 입력하세요: d\n",
            "2개의 숫자를 입력해야 합니다. 각 숫자는 띄어쓰기를 해야 합니다.\n",
            "숫자를 입력해주세요!\n",
            "\n",
            "두 개의 숫자를 입력하세요: 4 2\n",
            "2.0\n"
          ]
        }
      ]
    }
  ]
}