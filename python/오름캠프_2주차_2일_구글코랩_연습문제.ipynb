{
  "nbformat": 4,
  "nbformat_minor": 0,
  "metadata": {
    "colab": {
      "provenance": [],
      "authorship_tag": "ABX9TyM52Wn1i332MHOBvNnKi1rd",
      "include_colab_link": true
    },
    "kernelspec": {
      "name": "python3",
      "display_name": "Python 3"
    },
    "language_info": {
      "name": "python"
    }
  },
  "cells": [
    {
      "cell_type": "markdown",
      "metadata": {
        "id": "view-in-github",
        "colab_type": "text"
      },
      "source": [
        "<a href=\"https://colab.research.google.com/github/mkdirlife/orm/blob/main/%EC%98%A4%EB%A6%84%EC%BA%A0%ED%94%84_2%EC%A3%BC%EC%B0%A8_2%EC%9D%BC_%EA%B5%AC%EA%B8%80%EC%BD%94%EB%9E%A9_%EC%97%B0%EC%8A%B5%EB%AC%B8%EC%A0%9C.ipynb\" target=\"_parent\"><img src=\"https://colab.research.google.com/assets/colab-badge.svg\" alt=\"Open In Colab\"/></a>"
      ]
    },
    {
      "cell_type": "markdown",
      "source": [
        "# 1번 문제\n",
        "다음 변수들이 가리키고 있는 값에 화살표를 그려주세요.\n",
        "(z의 값은 무엇일까요?)"
      ],
      "metadata": {
        "id": "rWOQGvApfi9h"
      }
    },
    {
      "cell_type": "code",
      "execution_count": null,
      "metadata": {
        "colab": {
          "base_uri": "https://localhost:8080/"
        },
        "id": "9dQ98_EEeBBZ",
        "outputId": "a8f4cdba-025d-48ef-d51b-00a04abb8540"
      },
      "outputs": [
        {
          "output_type": "stream",
          "name": "stdout",
          "text": [
            "132659174378832 132659174378832 132659174378832\n"
          ]
        }
      ],
      "source": [
        "# 문제1\n",
        "# 다음 변수들이 가리키고 있는 값에 화살표를 그려주세요.\n",
        "# (z)의 값은 무엇일까요?)\n",
        "x = 100\n",
        "y = 100\n",
        "z = x\n",
        "\n",
        "# x, y, z가 모두 같은 메모리 위치를 가리킵니다. 이유는 256 이하 정수이기 때문입니다.\n",
        "print(id(x), id(y), id(z))"
      ]
    },
    {
      "cell_type": "code",
      "source": [
        "# 문제2\n",
        "x = 258\n",
        "y = 258\n",
        "z = x\n",
        "\n",
        "# x와 z는 같은 메모리 위치를 가리키고, y는 다른 곳을 가리킵니다.\n",
        "# 246 초과하는 정수는 메모리 위치가 달라집니다.\n",
        "print(id(x), id(y), id(z))"
      ],
      "metadata": {
        "id": "cRMm3ZXmeLjN",
        "colab": {
          "base_uri": "https://localhost:8080/"
        },
        "outputId": "4078d56c-30f3-4856-c285-c4619c6d6de9"
      },
      "execution_count": null,
      "outputs": [
        {
          "output_type": "stream",
          "name": "stdout",
          "text": [
            "132658679639344 132658679640816 132658679639344\n"
          ]
        }
      ]
    },
    {
      "cell_type": "markdown",
      "source": [
        "# 2번 문제\n",
        "다음 파이썬 문법 중 맞은 것을 골라주세요.(3개)"
      ],
      "metadata": {
        "id": "j8oQPPk2fR2b"
      }
    },
    {
      "cell_type": "code",
      "source": [
        "#1번\n",
        "print = 100\n",
        "\n",
        "#2번\n",
        "10 = a\n",
        "\n",
        "#3번\n",
        "k = 100\n",
        "\n",
        "#4번\n",
        "100k = 10000\n",
        "\n",
        "#5번\n",
        "a123 = 'abc'\n",
        "\n",
        "#6번\n",
        "_ = 10\n",
        "\n",
        "# 다음중 맞는 것은 3번, 5번, 6번 입니다.\n",
        "# 1번은 예약어 라서 안되고, 2번은 변수명이 앞에 와야 하고, 4번은 숫자가 앞에 오면 안됩니다."
      ],
      "metadata": {
        "colab": {
          "base_uri": "https://localhost:8080/",
          "height": 147
        },
        "id": "1xq06iysfoWL",
        "outputId": "7d6a4d5a-bc46-4138-9c59-83f6d1f1046a"
      },
      "execution_count": null,
      "outputs": [
        {
          "output_type": "error",
          "ename": "SyntaxError",
          "evalue": "ignored",
          "traceback": [
            "\u001b[0;36m  File \u001b[0;32m\"<ipython-input-12-d2b7b667b6d8>\"\u001b[0;36m, line \u001b[0;32m11\u001b[0m\n\u001b[0;31m    100k = 10000\u001b[0m\n\u001b[0m      ^\u001b[0m\n\u001b[0;31mSyntaxError\u001b[0m\u001b[0;31m:\u001b[0m invalid decimal literal\n"
          ]
        }
      ]
    },
    {
      "cell_type": "markdown",
      "source": [
        "# 3번 문제\n",
        "문자를 사용자에게 입력받고, 그 문자를 2번 출력하는 프로그램을 만들어주세요. 예를 들어 ‘abc’를 입력받는다면 ‘abcabc’를 출력해야 합니다."
      ],
      "metadata": {
        "id": "glgWSLHeftBx"
      }
    },
    {
      "cell_type": "code",
      "source": [
        "s = input(\"문자를 입력해주세요\")\n",
        "print(s*2)"
      ],
      "metadata": {
        "colab": {
          "base_uri": "https://localhost:8080/"
        },
        "id": "FCZB9qrBgRB9",
        "outputId": "c534e60d-2014-446b-8a68-48d9f9c55395"
      },
      "execution_count": null,
      "outputs": [
        {
          "output_type": "stream",
          "name": "stdout",
          "text": [
            "문자를 입력해주세요abc\n",
            "abcabc\n"
          ]
        }
      ]
    },
    {
      "cell_type": "markdown",
      "source": [
        "# 4번 문제\n",
        "아래 변수에서 중복을 제거한 유일한 숫자를 알아내는 코드를 작성해주세요. 형변환을 통해 풀어주세요."
      ],
      "metadata": {
        "id": "EVKcK3nWgbmp"
      }
    },
    {
      "cell_type": "code",
      "source": [
        "n = 1234567890123123123\n",
        "\n",
        "print(len(set(str(n))))\n",
        "# 어렵네요.;;\n"
      ],
      "metadata": {
        "id": "jVfNB3GcgmI8",
        "colab": {
          "base_uri": "https://localhost:8080/"
        },
        "outputId": "2293aa1d-c30d-4dd3-ed32-fff47734570a"
      },
      "execution_count": null,
      "outputs": [
        {
          "output_type": "stream",
          "name": "stdout",
          "text": [
            "10\n"
          ]
        }
      ]
    },
    {
      "cell_type": "markdown",
      "source": [
        "# 5번 문제\n",
        "문자열 s에 마지막에 있는 문자열을 2번 더 붙이는 코드를 작성해주세요."
      ],
      "metadata": {
        "id": "GOD8kQs9iBtb"
      }
    },
    {
      "cell_type": "code",
      "source": [
        "s = \"jun\"\n",
        "# 출력값 = 'junnn'\n",
        "\n",
        "print(s + (s[-1:] * 2))\n"
      ],
      "metadata": {
        "colab": {
          "base_uri": "https://localhost:8080/"
        },
        "id": "B4U1ignAjvD7",
        "outputId": "e6066a71-26b1-4f88-ef73-d5664329b809"
      },
      "execution_count": null,
      "outputs": [
        {
          "output_type": "stream",
          "name": "stdout",
          "text": [
            "junnn\n"
          ]
        }
      ]
    },
    {
      "cell_type": "markdown",
      "source": [
        "# 6번 문제\n",
        "'abcde', 숫자, 대쉬(-), 언더스코어(_)를 모두 제거해주세요. 문자열에 translate를 사용해주세요."
      ],
      "metadata": {
        "id": "EkquSftQkGs4"
      }
    },
    {
      "cell_type": "code",
      "source": [
        "s = 'hello_world123'\n",
        "# 출력값: 'hlloworl'\n",
        "\n",
        "table = str.maketrans('', '', 'abcde0123456789-_')\n",
        "\n",
        "result = s.translate(table)\n",
        "print(result)\n",
        "\n",
        "\n"
      ],
      "metadata": {
        "colab": {
          "base_uri": "https://localhost:8080/"
        },
        "id": "XxzH_ANckYa5",
        "outputId": "2a147c95-61f6-4974-eb14-7b99880a3500"
      },
      "execution_count": null,
      "outputs": [
        {
          "output_type": "stream",
          "name": "stdout",
          "text": [
            "hlloworl\n"
          ]
        }
      ]
    },
    {
      "cell_type": "markdown",
      "source": [
        "# 7번 문제\n",
        "확장자를 출력해주는 코드를 작성해주세요. 확장자는 png, jpeg, mp4 등입니다."
      ],
      "metadata": {
        "id": "M89_w89ylGBp"
      }
    },
    {
      "cell_type": "code",
      "source": [
        "s = 'licat.jpeg'\n",
        "# 출력값: 'jpeg'\n",
        "\n",
        "print(s.split('.')[-1])\n",
        "\n",
        "\n",
        "s = 'li.cat.png'\n",
        "# 출력값: 'png'\n",
        "\n",
        "print(s.split('.')[-1])\n",
        "\n"
      ],
      "metadata": {
        "colab": {
          "base_uri": "https://localhost:8080/"
        },
        "id": "F_HJYVA4ly6u",
        "outputId": "1bfca193-e322-40c7-9ab3-da691788d0d6"
      },
      "execution_count": null,
      "outputs": [
        {
          "output_type": "stream",
          "name": "stdout",
          "text": [
            "jpeg\n",
            "png\n"
          ]
        }
      ]
    },
    {
      "cell_type": "code",
      "source": [],
      "metadata": {
        "id": "zoV76PGYl6Cl"
      },
      "execution_count": null,
      "outputs": []
    }
  ]
}