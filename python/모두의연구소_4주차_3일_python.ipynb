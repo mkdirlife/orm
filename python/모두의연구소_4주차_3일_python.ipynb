{
  "nbformat": 4,
  "nbformat_minor": 0,
  "metadata": {
    "colab": {
      "provenance": [],
      "toc_visible": true,
      "authorship_tag": "ABX9TyNxf9xZCRFLaXiUD7uF8SOH",
      "include_colab_link": true
    },
    "kernelspec": {
      "name": "python3",
      "display_name": "Python 3"
    },
    "language_info": {
      "name": "python"
    }
  },
  "cells": [
    {
      "cell_type": "markdown",
      "metadata": {
        "id": "view-in-github",
        "colab_type": "text"
      },
      "source": [
        "<a href=\"https://colab.research.google.com/github/mkdirlife/orm/blob/main/%EB%AA%A8%EB%91%90%EC%9D%98%EC%97%B0%EA%B5%AC%EC%86%8C_4%EC%A3%BC%EC%B0%A8_3%EC%9D%BC_python.ipynb\" target=\"_parent\"><img src=\"https://colab.research.google.com/assets/colab-badge.svg\" alt=\"Open In Colab\"/></a>"
      ]
    },
    {
      "cell_type": "code",
      "execution_count": null,
      "metadata": {
        "colab": {
          "base_uri": "https://localhost:8080/"
        },
        "id": "9HKnFM3it21W",
        "outputId": "b8d708b6-56af-4b64-d5f7-4fc8bc85ad3e"
      },
      "outputs": [
        {
          "output_type": "stream",
          "name": "stdout",
          "text": [
            "[2, 4, 6, 8]\n"
          ]
        }
      ],
      "source": [
        "# 1.1\n",
        "def apply_function(lst, func):\n",
        "    return list(map(func, lst))\n",
        "\n",
        "# 예제 사용\n",
        "result = apply_function([1, 2, 3, 4], lambda x: x * 2)\n",
        "print(result)  # [2, 4, 6, 8]이 출력되어야 함"
      ]
    },
    {
      "cell_type": "code",
      "source": [
        "# 1.2 쉬운풀이\n",
        "def apply_function(lst, func):\n",
        "    l = []\n",
        "    for i in lst:\n",
        "        l.append(func(i))\n",
        "    return l\n",
        "\n",
        "# 예제 사용\n",
        "result = apply_function([1, 2, 3, 4], lambda x: x * 2)\n",
        "print(result)  # [2, 4, 6, 8]이 출력되어야 함"
      ],
      "metadata": {
        "colab": {
          "base_uri": "https://localhost:8080/"
        },
        "id": "9YQY4-IcykvB",
        "outputId": "05007354-b64d-44d2-f9a5-099203067f8c"
      },
      "execution_count": null,
      "outputs": [
        {
          "output_type": "stream",
          "name": "stdout",
          "text": [
            "[2, 4, 6, 8]\n"
          ]
        }
      ]
    },
    {
      "cell_type": "code",
      "source": [
        "# 1.3\n",
        "def apply_function(lst, func):\n",
        "    return [func(i) for i in lst]\n",
        "\n",
        "# 예제 사용\n",
        "result = apply_function([1, 2, 3, 4], lambda x: x * 2)\n",
        "print(result)  # [2, 4, 6, 8]이 출력되어야 함"
      ],
      "metadata": {
        "colab": {
          "base_uri": "https://localhost:8080/"
        },
        "id": "X6E3taCdylC-",
        "outputId": "c986956d-bb9b-470c-b7f5-666407467235"
      },
      "execution_count": null,
      "outputs": [
        {
          "output_type": "stream",
          "name": "stdout",
          "text": [
            "[2, 4, 6, 8]\n"
          ]
        }
      ]
    },
    {
      "cell_type": "code",
      "source": [
        "# 2.1\n",
        "def multiply_by_n(n):\n",
        "    return lambda x: x * n\n",
        "\n",
        "# 예제 사용\n",
        "multiplier = multiply_by_n(5)\n",
        "print(multiplier(3))  # 15가 출력되어야 함"
      ],
      "metadata": {
        "colab": {
          "base_uri": "https://localhost:8080/"
        },
        "id": "KZJCVPj4yoUE",
        "outputId": "491a5726-1bd0-4313-b24d-1c6084ae6424"
      },
      "execution_count": null,
      "outputs": [
        {
          "output_type": "stream",
          "name": "stdout",
          "text": [
            "15\n"
          ]
        }
      ]
    },
    {
      "cell_type": "code",
      "source": [
        "# 2.2\n",
        "def multiply_by_n(n):\n",
        "    def f(x):\n",
        "        return x * n\n",
        "    return f\n",
        "\n",
        "# 예제 사용\n",
        "multiplier = multiply_by_n(5)\n",
        "print(multiplier(3))  # 15가 출력되어야 함"
      ],
      "metadata": {
        "colab": {
          "base_uri": "https://localhost:8080/"
        },
        "id": "Pp0F0Zuwy5TZ",
        "outputId": "854bc88f-da6d-479d-fd4e-f5e007ab6d40"
      },
      "execution_count": null,
      "outputs": [
        {
          "output_type": "stream",
          "name": "stdout",
          "text": [
            "15\n"
          ]
        }
      ]
    },
    {
      "cell_type": "markdown",
      "source": [
        "# 어제 과제와 연관된 실습"
      ],
      "metadata": {
        "id": "rq8TJ7MKzdii"
      }
    },
    {
      "cell_type": "code",
      "source": [
        "class Calc:\n",
        "    pass\n",
        "\n",
        "\n",
        "add = Calc()\n",
        "add\n",
        "\n",
        "# 더할 수 있는 함수의 기능이 지금 Calc에 없습니다.\n",
        "# oper 가 인스턴스 함수가 됨.\n",
        "add.oper = lambda x, y : x + y\n",
        "add.oper(10, 20)"
      ],
      "metadata": {
        "colab": {
          "base_uri": "https://localhost:8080/"
        },
        "id": "KpxQDOCTy8Jc",
        "outputId": "6e1764ea-e916-4f00-e379-2fdde4992b3b"
      },
      "execution_count": null,
      "outputs": [
        {
          "output_type": "execute_result",
          "data": {
            "text/plain": [
              "30"
            ]
          },
          "metadata": {},
          "execution_count": 7
        }
      ]
    },
    {
      "cell_type": "markdown",
      "source": [
        "# 클로저\n",
        "함수 내 함수가 외부 변수를 참조하여 보존하는 것"
      ],
      "metadata": {
        "id": "MBeU7vnQzaLJ"
      }
    },
    {
      "cell_type": "code",
      "source": [
        "# 클로징 되어야 하는 변수에 접근하는 것을 클로저\n",
        "def outer_function(x):\n",
        "    def inner_function(y):\n",
        "        return x + y\n",
        "    return inner_function\n",
        "\n",
        "inner = outer_function(100)\n",
        "inner(200) # inner 입장에서 100을 변경할 수 있는 방법이 없습니다."
      ],
      "metadata": {
        "colab": {
          "base_uri": "https://localhost:8080/"
        },
        "id": "qaqk4zn40S_s",
        "outputId": "cfbfd4c7-4fa0-4094-c323-c91eb975589b"
      },
      "execution_count": null,
      "outputs": [
        {
          "output_type": "execute_result",
          "data": {
            "text/plain": [
              "300"
            ]
          },
          "metadata": {},
          "execution_count": 8
        }
      ]
    },
    {
      "cell_type": "code",
      "source": [
        "def make_counter():\n",
        "    count = 0\n",
        "\n",
        "    def counter():\n",
        "        global count    # error 전역변수에 count 있는지 확인하지만 없어서 error\n",
        "        count += 1      # error local에 count 가 정의 되지 않음\n",
        "        return count\n",
        "\n",
        "    return counter\n",
        "\n",
        "counter_a = make_counter()\n",
        "print(counter_a())  # 1\n",
        "print(counter_a())  # 2"
      ],
      "metadata": {
        "id": "-uovwaOy3Gn4",
        "colab": {
          "base_uri": "https://localhost:8080/",
          "height": 369
        },
        "outputId": "3f0195bd-9221-4ff2-b1a0-ea4bbba8eb04"
      },
      "execution_count": null,
      "outputs": [
        {
          "output_type": "error",
          "ename": "NameError",
          "evalue": "name 'count' is not defined",
          "traceback": [
            "\u001b[0;31m---------------------------------------------------------------------------\u001b[0m",
            "\u001b[0;31mNameError\u001b[0m                                 Traceback (most recent call last)",
            "\u001b[0;32m<ipython-input-1-e5f236ca3132>\u001b[0m in \u001b[0;36m<cell line: 12>\u001b[0;34m()\u001b[0m\n\u001b[1;32m     10\u001b[0m \u001b[0;34m\u001b[0m\u001b[0m\n\u001b[1;32m     11\u001b[0m \u001b[0mcounter_a\u001b[0m \u001b[0;34m=\u001b[0m \u001b[0mmake_counter\u001b[0m\u001b[0;34m(\u001b[0m\u001b[0;34m)\u001b[0m\u001b[0;34m\u001b[0m\u001b[0;34m\u001b[0m\u001b[0m\n\u001b[0;32m---> 12\u001b[0;31m \u001b[0mprint\u001b[0m\u001b[0;34m(\u001b[0m\u001b[0mcounter_a\u001b[0m\u001b[0;34m(\u001b[0m\u001b[0;34m)\u001b[0m\u001b[0;34m)\u001b[0m  \u001b[0;31m# 1\u001b[0m\u001b[0;34m\u001b[0m\u001b[0;34m\u001b[0m\u001b[0m\n\u001b[0m\u001b[1;32m     13\u001b[0m \u001b[0mprint\u001b[0m\u001b[0;34m(\u001b[0m\u001b[0mcounter_a\u001b[0m\u001b[0;34m(\u001b[0m\u001b[0;34m)\u001b[0m\u001b[0;34m)\u001b[0m  \u001b[0;31m# 2\u001b[0m\u001b[0;34m\u001b[0m\u001b[0;34m\u001b[0m\u001b[0m\n",
            "\u001b[0;32m<ipython-input-1-e5f236ca3132>\u001b[0m in \u001b[0;36mcounter\u001b[0;34m()\u001b[0m\n\u001b[1;32m      4\u001b[0m     \u001b[0;32mdef\u001b[0m \u001b[0mcounter\u001b[0m\u001b[0;34m(\u001b[0m\u001b[0;34m)\u001b[0m\u001b[0;34m:\u001b[0m\u001b[0;34m\u001b[0m\u001b[0;34m\u001b[0m\u001b[0m\n\u001b[1;32m      5\u001b[0m         \u001b[0;32mglobal\u001b[0m \u001b[0mcount\u001b[0m    \u001b[0;31m# error 전역변수에 count 있는지 확인하지만 없어서 error\u001b[0m\u001b[0;34m\u001b[0m\u001b[0;34m\u001b[0m\u001b[0m\n\u001b[0;32m----> 6\u001b[0;31m         \u001b[0mcount\u001b[0m \u001b[0;34m+=\u001b[0m \u001b[0;36m1\u001b[0m      \u001b[0;31m# error local에 count 가 정의 되지 않음\u001b[0m\u001b[0;34m\u001b[0m\u001b[0;34m\u001b[0m\u001b[0m\n\u001b[0m\u001b[1;32m      7\u001b[0m         \u001b[0;32mreturn\u001b[0m \u001b[0mcount\u001b[0m\u001b[0;34m\u001b[0m\u001b[0;34m\u001b[0m\u001b[0m\n\u001b[1;32m      8\u001b[0m \u001b[0;34m\u001b[0m\u001b[0m\n",
            "\u001b[0;31mNameError\u001b[0m: name 'count' is not defined"
          ]
        }
      ]
    },
    {
      "cell_type": "code",
      "source": [
        "def make_counter():\n",
        "    count = 0\n",
        "\n",
        "    def counter():\n",
        "        nonlocal count      # 밖에 있는 count를 가져오겠다는 뜻\n",
        "        count += 1\n",
        "        return count\n",
        "\n",
        "    return counter\n",
        "\n",
        "counter_a = make_counter()\n",
        "print(counter_a())  # 1\n",
        "print(counter_a())  # 2\n",
        "print(counter_a())  # 3\n",
        "\n",
        "# 이렇게 함으로 순서는 항상 상승된다고 보장할 수 있습니다.\n",
        "# DB에서 게시물 번호 등에 쓰이지 security 개념으로 쓰이지 않음."
      ],
      "metadata": {
        "colab": {
          "base_uri": "https://localhost:8080/"
        },
        "id": "p403-Uxz1dn_",
        "outputId": "029da45f-a188-4979-aa0f-e11aa111da3b"
      },
      "execution_count": null,
      "outputs": [
        {
          "output_type": "stream",
          "name": "stdout",
          "text": [
            "1\n",
            "2\n",
            "3\n"
          ]
        }
      ]
    },
    {
      "cell_type": "code",
      "source": [
        "def calc(oper):\n",
        "    def add(x, y):\n",
        "        return x + y\n",
        "\n",
        "    def sub(x, y):\n",
        "        return x - y\n",
        "\n",
        "    if oper == 'add':\n",
        "        return add\n",
        "    if oper == 'sub':\n",
        "        return sub\n",
        "\n",
        "add = calc('add')\n",
        "add(10, 20)"
      ],
      "metadata": {
        "colab": {
          "base_uri": "https://localhost:8080/"
        },
        "id": "HODphShZ4WF_",
        "outputId": "4dedd6e3-f283-42ca-b233-c36ffdfa75e9"
      },
      "execution_count": null,
      "outputs": [
        {
          "output_type": "execute_result",
          "data": {
            "text/plain": [
              "30"
            ]
          },
          "metadata": {},
          "execution_count": 11
        }
      ]
    },
    {
      "cell_type": "code",
      "source": [
        "def calc(oper, original):\n",
        "    def add(x, y):\n",
        "        return original + x + y\n",
        "\n",
        "    def sub(x, y):\n",
        "        return original - x - y\n",
        "\n",
        "    if oper == 'add':\n",
        "        return add\n",
        "    if oper == 'sub':\n",
        "        return sub\n",
        "\n",
        "add = calc('add', 1000)\n",
        "add(10, 20) # add의 입장에서 1000을 바꿀 수 없다!\n",
        "\n",
        "sub = calc('sub', 100)\n",
        "sub(10, 20) # sub 입장에서 100을 바꿀 수 없다!"
      ],
      "metadata": {
        "colab": {
          "base_uri": "https://localhost:8080/"
        },
        "id": "XRtdIfL744xX",
        "outputId": "4d8f0f3b-4a50-4b77-8b60-6814de3547e5"
      },
      "execution_count": null,
      "outputs": [
        {
          "output_type": "execute_result",
          "data": {
            "text/plain": [
              "70"
            ]
          },
          "metadata": {},
          "execution_count": 12
        }
      ]
    },
    {
      "cell_type": "code",
      "source": [
        "# 어떠한 변수를 보호하기 위한 용도로는 잘 사용하지 않습니다.\n",
        "# 아래와 같이 사용하면 문제가 발생할 수도 있습니다.\n",
        "def 은행(원금):\n",
        "    def 입금(입금금액):\n",
        "        return 원금 + 입금금액\n",
        "    return 입금\n",
        "\n",
        "통장_입금함수 = 은행(1000) # 1000만원을 초기에 입금\n",
        "통장_입금함수(100)\n",
        "통장_입금함수(-1100)\n",
        "\n",
        "# 문제점1: 입금 금액에 커스텀 인스턴스를 넣어서 __add__를 추가할 수 있나요?\n",
        "# 문제점2: 출금은 안되나요?"
      ],
      "metadata": {
        "colab": {
          "base_uri": "https://localhost:8080/"
        },
        "id": "7TA8WQUc8pX9",
        "outputId": "9441ddfe-0af1-485d-ad97-baf4a0b33a09"
      },
      "execution_count": null,
      "outputs": [
        {
          "output_type": "execute_result",
          "data": {
            "text/plain": [
              "-100"
            ]
          },
          "metadata": {},
          "execution_count": 4
        }
      ]
    },
    {
      "cell_type": "code",
      "source": [
        "# 요즘 은행에서 이런 시큐어 코딩 문제로 문제가 발생되는 경우는 극히 드뭅니다.\n",
        "# 거래소\n",
        "\n",
        "# 이더리움 <- 음수가 없습니다. 양수만 있습니다.\n",
        "# 0원 -1원 => 옛날 차 계기판 => 나올 수 있는 최댓값 => 은행 통장 잔고 전체\n",
        "# 마이너스 연산을 허락하지 않았는데 어떻게 마이너스 연산을 한 것인까요?\n",
        "# 해커가 인자로 인스턴스를 넣어서 마이너스 연산되도록 만들어서 해킹함."
      ],
      "metadata": {
        "id": "-JAVPAdr9G82"
      },
      "execution_count": null,
      "outputs": []
    },
    {
      "cell_type": "markdown",
      "source": [
        "# 데코레이터 - 별표 1개\n",
        "기본적으로 함수 또는 메서드를 꾸며주는 함수\n",
        "데코레이터는 고차 함수입니다.\n",
        "앞서 설명한것처럼 고차 함수는 하나 이상의 함수를 인자로 받고, 함수를 결과로 반환하는 함수입니다."
      ],
      "metadata": {
        "id": "4lVngZjo2Yjz"
      }
    },
    {
      "cell_type": "code",
      "source": [
        "def login(function):\n",
        "    '''\n",
        "    로그인을 확인하는 로직\n",
        "    '''\n",
        "    pass\n",
        "\n",
        "@login\n",
        "def 게시판읽기():\n",
        "    pass"
      ],
      "metadata": {
        "id": "mmUiLWG83B84"
      },
      "execution_count": null,
      "outputs": []
    },
    {
      "cell_type": "code",
      "source": [
        "# 왜 데코레이터가 필요한가요? 그냥 아래와 같이 하면 안 되나요?\n",
        "# 분명한 목적성, 가독성, 명료\n",
        "def login(function):\n",
        "    '''\n",
        "    로그인을 확인하는 로직\n",
        "    '''\n",
        "    pass\n",
        "\n",
        "def 게시판읽기():\n",
        "    login()\n",
        "    # 이렇게 해도 로그인을 확인하는 로직이 들어가는데!? 굳이!?\n",
        "    # 새로운 문법을 만들면서 까지 사용해야 하나요?\n",
        "    pass"
      ],
      "metadata": {
        "id": "DJSvG3gz_yrl"
      },
      "execution_count": null,
      "outputs": []
    },
    {
      "cell_type": "code",
      "source": [
        "def 동작시간체크(function):\n",
        "    '''\n",
        "    동작 시간을 체크하는 로직\n",
        "    '''\n",
        "    pass\n",
        "\n",
        "@동작시간체크\n",
        "def f():\n",
        "    pass"
      ],
      "metadata": {
        "id": "ff9PvdAK_Iub"
      },
      "execution_count": null,
      "outputs": []
    },
    {
      "cell_type": "code",
      "source": [
        "def log(function):\n",
        "    '''\n",
        "    DB에 접속 기록을 쌓는 로직\n",
        "    '''\n",
        "    pass\n",
        "\n",
        "@log\n",
        "def f():\n",
        "    pass"
      ],
      "metadata": {
        "id": "15_A2_sg_Z_O"
      },
      "execution_count": null,
      "outputs": []
    },
    {
      "cell_type": "code",
      "source": [
        "# 데코레이터는 함수가 호출되었을 때 실제 실행되는 함수입니다.\n",
        "# 데코레이터의 return 함수가 실행되는 것입니다.\n",
        "def simple_decorator(function):\n",
        "    def wrapper():\n",
        "        print(\"전\")\n",
        "        function()\n",
        "        print(\"후\")\n",
        "    return wrapper\n",
        "\n",
        "@simple_decorator\n",
        "def hello():\n",
        "    print(\"Hello, World!\")\n",
        "\n",
        "hello() # 데코레이터가 없는 상태에서는 simple_decorator(hello)() 와 같습니다. 물데데전세표응"
      ],
      "metadata": {
        "colab": {
          "base_uri": "https://localhost:8080/"
        },
        "id": "iv9dOJRIAgA9",
        "outputId": "75067a63-e153-42f5-e155-8ce3c3609891"
      },
      "execution_count": null,
      "outputs": [
        {
          "output_type": "stream",
          "name": "stdout",
          "text": [
            "전\n",
            "Hello, World!\n",
            "후\n"
          ]
        }
      ]
    },
    {
      "cell_type": "code",
      "source": [
        "def simple_decorator(function):\n",
        "    def wrapper():\n",
        "        print(\"전\")\n",
        "        function()\n",
        "        print(\"후\")\n",
        "    return wrapper\n",
        "\n",
        "def hello():\n",
        "    print(\"Hello, World!\")\n",
        "\n",
        "simple_decorator(hello) # 주소 나옴.\n",
        "\n",
        "w = simple_decorator(hello)\n",
        "w()\n",
        "\n",
        "simple_decorator(hello)()"
      ],
      "metadata": {
        "colab": {
          "base_uri": "https://localhost:8080/"
        },
        "id": "plE3SL8QB87p",
        "outputId": "3e08d535-9a9a-4e38-e4cc-a2de84bb75d9"
      },
      "execution_count": null,
      "outputs": [
        {
          "output_type": "stream",
          "name": "stdout",
          "text": [
            "전\n",
            "Hello, World!\n",
            "후\n",
            "전\n",
            "Hello, World!\n",
            "후\n"
          ]
        }
      ]
    },
    {
      "cell_type": "code",
      "source": [
        "def simple_decorator(function):\n",
        "    def wrapper(name):\n",
        "        print('전')\n",
        "        function(name)\n",
        "        print('후')\n",
        "    return wrapper\n",
        "\n",
        "@simple_decorator\n",
        "def hello(name):\n",
        "    print(f'Hello, {name}!')\n",
        "\n",
        "hello('홍길동') # 여기에 name을"
      ],
      "metadata": {
        "colab": {
          "base_uri": "https://localhost:8080/"
        },
        "id": "VWpotj6wC880",
        "outputId": "44b200d4-4602-48cd-ce37-6b881fae5b54"
      },
      "execution_count": null,
      "outputs": [
        {
          "output_type": "stream",
          "name": "stdout",
          "text": [
            "전\n",
            "Hello, 홍길동!\n",
            "후\n"
          ]
        }
      ]
    },
    {
      "cell_type": "code",
      "source": [
        "def simple_decorator(function):\n",
        "    def wrapper(a, b): # point1\n",
        "        print('전')\n",
        "        result = function(a, b) # point2\n",
        "        print(result)\n",
        "        print('후')\n",
        "        return result\n",
        "    return wrapper\n",
        "\n",
        "@simple_decorator\n",
        "def hello(a, b):\n",
        "    return a + b\n",
        "\n",
        "hello(10, 20)   # => simple_decorator(hello)(10, 20)  => wrapper(10, 20)"
      ],
      "metadata": {
        "colab": {
          "base_uri": "https://localhost:8080/"
        },
        "id": "XcBHCWKMDyKb",
        "outputId": "41ccd8c5-ee2c-49c0-9603-9cc12ef304d1"
      },
      "execution_count": null,
      "outputs": [
        {
          "output_type": "stream",
          "name": "stdout",
          "text": [
            "전\n",
            "30\n",
            "후\n"
          ]
        },
        {
          "output_type": "execute_result",
          "data": {
            "text/plain": [
              "30"
            ]
          },
          "metadata": {},
          "execution_count": 28
        }
      ]
    },
    {
      "cell_type": "code",
      "source": [
        "# 매개변수를 다르게 이렇게 코딩하면 혼란이 가중되어 권하지 않습니다.\n",
        "def simple_decorator(function):\n",
        "    def wrapper(a, b): # point1\n",
        "        print('전')\n",
        "        result = function(a) # point2\n",
        "        print(result)\n",
        "        print('후')\n",
        "        return result\n",
        "    return wrapper\n",
        "\n",
        "@simple_decorator\n",
        "def hello(a):\n",
        "    return a ** 2\n",
        "\n",
        "hello(10, 20)   # => simple_decorator(hello)(10, 20)  => wrapper(10, 20) 결국 wrapper 라는 얘기"
      ],
      "metadata": {
        "colab": {
          "base_uri": "https://localhost:8080/"
        },
        "id": "5xsUibZwEAaG",
        "outputId": "392c85b5-92de-433e-fecb-d677b5ed7386"
      },
      "execution_count": null,
      "outputs": [
        {
          "output_type": "stream",
          "name": "stdout",
          "text": [
            "전\n",
            "100\n",
            "후\n"
          ]
        },
        {
          "output_type": "execute_result",
          "data": {
            "text/plain": [
              "100"
            ]
          },
          "metadata": {},
          "execution_count": 30
        }
      ]
    },
    {
      "cell_type": "code",
      "source": [
        "# step 1\n",
        "def data_Preprocessing(function):\n",
        "    def wrapper():\n",
        "        pass\n",
        "    return wrapper\n",
        "\n",
        "@data_Preprocessing\n",
        "def mean(data):\n",
        "    return sum(data)/len(data)\n",
        "\n",
        "mean([1, 2, '3', 4, '5']) # TypeError 발생\n",
        "\n",
        "\n",
        "# step 2\n",
        "def data_Preprocessing(function):\n",
        "    def wrapper(data):\n",
        "        print(data)\n",
        "    return wrapper\n",
        "\n",
        "@data_Preprocessing\n",
        "def mean(data):\n",
        "    return sum(data)/len(data)\n",
        "\n",
        "mean([1, 2, '3', 4, '5']) # 데이터만 출력하고 함수는 None을 반환\n",
        "\n",
        "\n",
        "# step 3\n",
        "def data_Preprocessing(function):\n",
        "    def wrapper(data):\n",
        "        return function(list(map(int, data)))\n",
        "    return wrapper\n",
        "\n",
        "@data_Preprocessing\n",
        "def mean(data):\n",
        "    return sum(data)/len(data)\n",
        "\n",
        "mean([1, 2, '3', 4, '5']) # 출력: 3.0 (정상 작동)"
      ],
      "metadata": {
        "id": "nIs_3YhUEmzX"
      },
      "execution_count": null,
      "outputs": []
    },
    {
      "cell_type": "code",
      "source": [
        "# 제가 사용하는 데코레이터\n",
        "# step 0\n",
        "sum([1, 2, '3', 4, 5, '6']) # error! 그런데 이게 되게 하고 싶음"
      ],
      "metadata": {
        "id": "4dlOJz0yFPZY"
      },
      "execution_count": null,
      "outputs": []
    },
    {
      "cell_type": "code",
      "source": [
        "l = [1, 2, '3', 4, 5, '6']\n",
        "sum(map(int, l))"
      ],
      "metadata": {
        "colab": {
          "base_uri": "https://localhost:8080/"
        },
        "id": "UVwnkzIlFQvd",
        "outputId": "3f5b4093-6769-4fe6-d2b6-e590cdd51eb0"
      },
      "execution_count": null,
      "outputs": [
        {
          "output_type": "execute_result",
          "data": {
            "text/plain": [
              "21"
            ]
          },
          "metadata": {},
          "execution_count": 33
        }
      ]
    },
    {
      "cell_type": "code",
      "source": [
        "l = [1, 2, '3hello', 4, 5, 'l6l']\n",
        "sum(map(int, l))    #............."
      ],
      "metadata": {
        "id": "dN_RPPYkFZj1"
      },
      "execution_count": null,
      "outputs": []
    },
    {
      "cell_type": "code",
      "source": [
        "l = [1, 2, '3hello', 4, 5, 'l6l']\n",
        "\n",
        "@p  # 이것이 함수 전이나 후에 무언가를 작업해줄 수 있는 데코레이터 이기 때문에!\n",
        "sum(l)"
      ],
      "metadata": {
        "id": "Cb65PjvuFnCc"
      },
      "execution_count": null,
      "outputs": []
    },
    {
      "cell_type": "code",
      "source": [
        "# step 1 : 골격을 만듭니다.\n",
        "\n",
        "def data_pre(function):\n",
        "    def wrapper():\n",
        "        return None\n",
        "    return wrapper\n",
        "\n",
        "@ data_pre\n",
        "def mean(l):\n",
        "    return sum(l) / len(l)\n",
        "\n",
        "mean([1, 2, '3', 4, 5, '6'])    # dara_pre(mean)()"
      ],
      "metadata": {
        "id": "nz2SVyB9GCFq"
      },
      "execution_count": null,
      "outputs": []
    },
    {
      "cell_type": "code",
      "source": [
        "# step 1 : 파라미터를 설정합니다.\n",
        "# 얻어가야할 포인트(데코레이터와는 관련이 없습니다.) : map은 __len__이 없어서 len() 안됩니다.\n",
        "# 포인트2: list 형변환은 부담이 있는 연산이닌 주의를 해주세요.\n",
        "def data_pre(function):\n",
        "    def wrapper(iter_obj):\n",
        "        return function(list(map(int, iter_obj)))\n",
        "    return wrapper\n",
        "\n",
        "@ data_pre\n",
        "def mean(l):\n",
        "    return sum(l) / len(l)\n",
        "\n",
        "mean([1, 2, '3', 4, 5, '6'])    # dara_pre(mean)(iter_obj)  # iter_obj 에 [1, 2, '3', 4, 5, '6']\n",
        "# 이 3.5는 실제 mean 반환값인가요? 실제는 wrapper에 반환값입니다."
      ],
      "metadata": {
        "colab": {
          "base_uri": "https://localhost:8080/"
        },
        "id": "J64n_qRRGT35",
        "outputId": "4462712d-5649-4ee7-8575-05a50ccf8917"
      },
      "execution_count": null,
      "outputs": [
        {
          "output_type": "execute_result",
          "data": {
            "text/plain": [
              "3.5"
            ]
          },
          "metadata": {},
          "execution_count": 39
        }
      ]
    },
    {
      "cell_type": "code",
      "source": [
        "isinstance(10, str)"
      ],
      "metadata": {
        "colab": {
          "base_uri": "https://localhost:8080/"
        },
        "id": "l3VNGjhOLjRE",
        "outputId": "67459adc-e0c8-4e84-c1a7-313e8aa81384"
      },
      "execution_count": null,
      "outputs": [
        {
          "output_type": "execute_result",
          "data": {
            "text/plain": [
              "False"
            ]
          },
          "metadata": {},
          "execution_count": 42
        }
      ]
    },
    {
      "cell_type": "code",
      "source": [
        "# 좀 더 정교한 작업이 필요할 때\n",
        "def data_pre(function):\n",
        "    def wrapper(iter_obj):\n",
        "        l = []\n",
        "        for i in iter_obj:\n",
        "            if isinstance(i, str):\n",
        "                s = ''\n",
        "                for j in i:\n",
        "                    if j.isdigit():\n",
        "                        s += j\n",
        "                l.append(int(s))\n",
        "            else:\n",
        "                l.append(i)\n",
        "        return function(list(map(int, l)))\n",
        "    return wrapper\n",
        "\n",
        "@ data_pre\n",
        "def mean(l):\n",
        "    return sum(l) / len(l)\n",
        "\n",
        "mean([1, 2, 'l3l', 4, 5, 'abc6def'])    # dara_pre(mean)(iter_obj)  # iter_obj 에 [1, 2, '3', 4, 5, '6']\n",
        "# 이 3.5는 실제 mean 반환값인가요? 실제는 wrapper에 반환값입니다."
      ],
      "metadata": {
        "colab": {
          "base_uri": "https://localhost:8080/"
        },
        "id": "dHo9ZsoFHJYq",
        "outputId": "bb9986a0-c273-490b-a4ce-8808cd2e13ed"
      },
      "execution_count": null,
      "outputs": [
        {
          "output_type": "execute_result",
          "data": {
            "text/plain": [
              "3.5"
            ]
          },
          "metadata": {},
          "execution_count": 6
        }
      ]
    },
    {
      "cell_type": "code",
      "source": [
        "# 좀 더 정교한 작업이 필요할 때\n",
        "# 정규표현식 배우면 엄청 간단해집니다.\n",
        "# re.sub('[a-zA-Z]+', '')\n",
        "def data_pre(function):\n",
        "    def wrapper(iter_obj):\n",
        "        l = []\n",
        "        for i in iter_obj:\n",
        "            if isinstance(i, str):\n",
        "                s = ''\n",
        "                for j in i:\n",
        "                    if j.isdigit():\n",
        "                        s += j\n",
        "                l.append(int(s))\n",
        "            else:\n",
        "                l.append(i)\n",
        "        return function(list(map(int, l)))\n",
        "    return wrapper\n",
        "\n",
        "@ data_pre\n",
        "def mean(l):\n",
        "    return sum(l) / len(l)\n",
        "\n",
        "mean([1, 2, 'l3l', 4, 5, 'abc6def'])    # dara_pre(mean)(iter_obj)  # iter_obj 에 [1, 2, '3', 4, 5, '6']\n",
        "# 이 3.5는 실제 mean 반환값인가요? 실제는 wrapper에 반환값입니다."
      ],
      "metadata": {
        "colab": {
          "base_uri": "https://localhost:8080/"
        },
        "id": "Sy43vxvKLFBy",
        "outputId": "c91f1b7f-6986-4f6d-e398-e75efb85bd88"
      },
      "execution_count": null,
      "outputs": [
        {
          "output_type": "execute_result",
          "data": {
            "text/plain": [
              "3.5"
            ]
          },
          "metadata": {},
          "execution_count": 46
        }
      ]
    },
    {
      "cell_type": "code",
      "source": [
        "# step0 와 step1을 함께 한 것입니다.\n",
        "# [-1, 30, 20, 31, -50]   # sum을 할 것인데!? 모두 다 절대값을 취하는 데코레이터를 만들어 사용\n",
        "\n",
        "def all_abs(f):\n",
        "    def wrapper():\n",
        "        return\n",
        "    return wrapper\n",
        "\n",
        "@all_abs\n",
        "def _sum(l):\n",
        "    return sum(l)\n",
        "\n",
        "_sum(data)"
      ],
      "metadata": {
        "id": "Cqms2G4ZNOY_"
      },
      "execution_count": null,
      "outputs": []
    },
    {
      "cell_type": "code",
      "source": [
        "# step2\n",
        "# [-1, 30, 20, 31, -50]   # sum을 할 것인데!? 모두 다 절대값을 취하는 데코레이터를 만들어 사용\n",
        "# 확장자만 뽑아낸다든지 할때 사용\n",
        "data = [-1, 30, 20, 31, -50]\n",
        "\n",
        "def all_abs(function):\n",
        "    def wrapper(iter_obj):\n",
        "        return function([abs(i) for i in iter_obj])\n",
        "    return wrapper\n",
        "\n",
        "@all_abs\n",
        "def _sum(l):\n",
        "    return sum(l)\n",
        "\n",
        "_sum(data)"
      ],
      "metadata": {
        "colab": {
          "base_uri": "https://localhost:8080/"
        },
        "id": "oDKePgv6OFMZ",
        "outputId": "38747d61-88fb-47b1-c082-3ccd6c18e408"
      },
      "execution_count": null,
      "outputs": [
        {
          "output_type": "execute_result",
          "data": {
            "text/plain": [
              "132"
            ]
          },
          "metadata": {},
          "execution_count": 51
        }
      ]
    },
    {
      "cell_type": "markdown",
      "source": [
        "# lambda"
      ],
      "metadata": {
        "id": "AaoeJOo8MmCj"
      }
    },
    {
      "cell_type": "code",
      "source": [
        "square = lambda x: x*x\n",
        "print(square(5))  # 출력: 25"
      ],
      "metadata": {
        "colab": {
          "base_uri": "https://localhost:8080/"
        },
        "id": "z8b_z0o5NKqd",
        "outputId": "41d8a30e-7bb5-4b8d-c035-3e677ee45136"
      },
      "execution_count": null,
      "outputs": [
        {
          "output_type": "stream",
          "name": "stdout",
          "text": [
            "25\n"
          ]
        }
      ]
    },
    {
      "cell_type": "code",
      "source": [
        "l = lambda"
      ],
      "metadata": {
        "colab": {
          "base_uri": "https://localhost:8080/",
          "height": 147
        },
        "id": "w6_JhI9pOYAU",
        "outputId": "5359b03d-29f7-4122-c4cf-6f8ace57f4bd"
      },
      "execution_count": null,
      "outputs": [
        {
          "output_type": "error",
          "ename": "SyntaxError",
          "evalue": "invalid syntax (<ipython-input-52-dc23b927e78e>, line 1)",
          "traceback": [
            "\u001b[0;36m  File \u001b[0;32m\"<ipython-input-52-dc23b927e78e>\"\u001b[0;36m, line \u001b[0;32m1\u001b[0m\n\u001b[0;31m    l = lambda\u001b[0m\n\u001b[0m              ^\u001b[0m\n\u001b[0;31mSyntaxError\u001b[0m\u001b[0;31m:\u001b[0m invalid syntax\n"
          ]
        }
      ]
    },
    {
      "cell_type": "code",
      "source": [
        "l = lambda x"
      ],
      "metadata": {
        "colab": {
          "base_uri": "https://localhost:8080/",
          "height": 147
        },
        "id": "tEcTP4HAPlqE",
        "outputId": "fbd8374d-60ff-4e86-bee4-a94cc37e94aa"
      },
      "execution_count": null,
      "outputs": [
        {
          "output_type": "error",
          "ename": "SyntaxError",
          "evalue": "invalid syntax (<ipython-input-53-0be92dc1b600>, line 1)",
          "traceback": [
            "\u001b[0;36m  File \u001b[0;32m\"<ipython-input-53-0be92dc1b600>\"\u001b[0;36m, line \u001b[0;32m1\u001b[0m\n\u001b[0;31m    l = lambda x\u001b[0m\n\u001b[0m                ^\u001b[0m\n\u001b[0;31mSyntaxError\u001b[0m\u001b[0;31m:\u001b[0m invalid syntax\n"
          ]
        }
      ]
    },
    {
      "cell_type": "code",
      "source": [
        "# 실험적 코드로 실무에서 못보는 코드\n",
        "# lambda 로 구현한 클로저\n",
        "l = lambda x: lambda y: y ** x\n",
        "\n",
        "a = l(2)\n",
        "b = l(3)\n",
        "print(a(2))\n",
        "print(a(3))\n",
        "print(b(2))\n",
        "print(b(3))"
      ],
      "metadata": {
        "colab": {
          "base_uri": "https://localhost:8080/"
        },
        "id": "WPPd81L-PnOT",
        "outputId": "79394ea9-45d1-42af-87d3-3cf19b852876"
      },
      "execution_count": null,
      "outputs": [
        {
          "output_type": "stream",
          "name": "stdout",
          "text": [
            "4\n",
            "9\n",
            "8\n",
            "27\n"
          ]
        }
      ]
    },
    {
      "cell_type": "code",
      "source": [
        "# google algo jam\n",
        "\n",
        "numbers = [1, 2, 3, 4, 5]\n",
        "print(list(filter(lambda x: x > 3, numbers)))  # 출력: [4, 5]"
      ],
      "metadata": {
        "colab": {
          "base_uri": "https://localhost:8080/"
        },
        "id": "1lYgLpgnPq7e",
        "outputId": "c719e6eb-6956-41d6-a1f8-30e8d843852b"
      },
      "execution_count": null,
      "outputs": [
        {
          "output_type": "stream",
          "name": "stdout",
          "text": [
            "[4, 5]\n"
          ]
        }
      ]
    },
    {
      "cell_type": "code",
      "source": [
        "# 재사용 여부에 따라 lambda를 사용할지 def 사용할지 판단하시면 됩니다.\n",
        "def f(x):\n",
        "    return x > 3\n",
        "numbers = [1, 2, 3, 4, 5]\n",
        "print(list(filter(f, numbers)))  # 출력: [4, 5]"
      ],
      "metadata": {
        "colab": {
          "base_uri": "https://localhost:8080/"
        },
        "id": "Nzn9m1xzRRgT",
        "outputId": "1167949d-f57f-4794-f6a4-4cf75c251814"
      },
      "execution_count": null,
      "outputs": [
        {
          "output_type": "stream",
          "name": "stdout",
          "text": [
            "[4, 5]\n"
          ]
        }
      ]
    },
    {
      "cell_type": "markdown",
      "source": [
        "# args, kwargs\n",
        "* 애스터리스크(*) 1개는 튜플이나 리스트를 패킹, 언패킹하는데 사용하며 2개는 딕셔너리를 패킹, 언패킹 하는데 사용됩니다.\n",
        "* 아규먼츠(args)는 튜플 형식으로 아규먼트를 받는 반면 키워드 아규먼츠(kwargs)는 딕셔너리 형태로 아규먼트를 받습니다."
      ],
      "metadata": {
        "id": "KrzAbVo0RXHE"
      }
    },
    {
      "cell_type": "code",
      "source": [
        "# 패킹\n",
        "# 10, 20, 30 -> [10, 20, 30]\n",
        "\n",
        "# 언패킹\n",
        "a, b, c = [10, 20, 30]\n",
        "a\n",
        "\n",
        "for i, j in [[10, 20], [30, 40]]:\n",
        "    print(i * j)"
      ],
      "metadata": {
        "colab": {
          "base_uri": "https://localhost:8080/"
        },
        "id": "a6MTpcmeRu_7",
        "outputId": "12e02792-05ad-4010-d5bc-24c2eeafe093"
      },
      "execution_count": null,
      "outputs": [
        {
          "output_type": "stream",
          "name": "stdout",
          "text": [
            "200\n",
            "1200\n"
          ]
        }
      ]
    },
    {
      "cell_type": "code",
      "source": [
        "# 패킹\n",
        "# *r가 패킹에 쓰였습니다.\n",
        "def print_args(*args):\n",
        "    print(args) # 출력: (100, True, 'Licat')\n",
        "\n",
        "print_args(100, True, 'Licat')"
      ],
      "metadata": {
        "colab": {
          "base_uri": "https://localhost:8080/"
        },
        "id": "5QeVSaTjSf7Y",
        "outputId": "d269294e-a5dd-43d6-8a81-4ba80f70e188"
      },
      "execution_count": null,
      "outputs": [
        {
          "output_type": "stream",
          "name": "stdout",
          "text": [
            "(100, True, 'Licat')\n"
          ]
        }
      ]
    },
    {
      "cell_type": "code",
      "source": [
        "def print_args(a, b, *args):\n",
        "    print(args) # 출력: ('Licat', 'hello', 10)\n",
        "\n",
        "print_args(100, True, 'Licat', 'hello', 10)"
      ],
      "metadata": {
        "colab": {
          "base_uri": "https://localhost:8080/"
        },
        "id": "NRgILD0xSqxX",
        "outputId": "35805088-428c-4fc3-cdab-f7beb0fe5af1"
      },
      "execution_count": null,
      "outputs": [
        {
          "output_type": "stream",
          "name": "stdout",
          "text": [
            "('Licat', 'hello', 10)\n"
          ]
        }
      ]
    },
    {
      "cell_type": "code",
      "source": [
        "# 패킹하는 파라미터가 먼저 나오면 뒤에 있는 일반 파라미터는 사용하면 안됨.\n",
        "def print_args(*args, a, b):\n",
        "    print(args) # 출력: ('Licat', 'hello', 10)\n",
        "\n",
        "print_args(100, True, 'Licat', 'hello', 10)"
      ],
      "metadata": {
        "colab": {
          "base_uri": "https://localhost:8080/",
          "height": 221
        },
        "id": "hQEuqWb1S-YM",
        "outputId": "1246579a-4d4d-4f02-cfb4-5204a0dfb396"
      },
      "execution_count": null,
      "outputs": [
        {
          "output_type": "error",
          "ename": "TypeError",
          "evalue": "print_args() missing 2 required keyword-only arguments: 'a' and 'b'",
          "traceback": [
            "\u001b[0;31m---------------------------------------------------------------------------\u001b[0m",
            "\u001b[0;31mTypeError\u001b[0m                                 Traceback (most recent call last)",
            "\u001b[0;32m<ipython-input-7-275548e93e25>\u001b[0m in \u001b[0;36m<cell line: 5>\u001b[0;34m()\u001b[0m\n\u001b[1;32m      3\u001b[0m     \u001b[0mprint\u001b[0m\u001b[0;34m(\u001b[0m\u001b[0margs\u001b[0m\u001b[0;34m)\u001b[0m \u001b[0;31m# 출력: ('Licat', 'hello', 10)\u001b[0m\u001b[0;34m\u001b[0m\u001b[0;34m\u001b[0m\u001b[0m\n\u001b[1;32m      4\u001b[0m \u001b[0;34m\u001b[0m\u001b[0m\n\u001b[0;32m----> 5\u001b[0;31m \u001b[0mprint_args\u001b[0m\u001b[0;34m(\u001b[0m\u001b[0;36m100\u001b[0m\u001b[0;34m,\u001b[0m \u001b[0;32mTrue\u001b[0m\u001b[0;34m,\u001b[0m \u001b[0;34m'Licat'\u001b[0m\u001b[0;34m,\u001b[0m \u001b[0;34m'hello'\u001b[0m\u001b[0;34m,\u001b[0m \u001b[0;36m10\u001b[0m\u001b[0;34m)\u001b[0m\u001b[0;34m\u001b[0m\u001b[0;34m\u001b[0m\u001b[0m\n\u001b[0m",
            "\u001b[0;31mTypeError\u001b[0m: print_args() missing 2 required keyword-only arguments: 'a' and 'b'"
          ]
        }
      ]
    },
    {
      "cell_type": "code",
      "source": [
        "# 패킹\n",
        "def func(*args):\n",
        "    print(args)\n",
        "\n",
        "func(10, 20, 30)\n",
        "# 10, 20, 30 => *args => (10, 20, 30)\n",
        "\n",
        "# 언패킹\n",
        "# 언패킹 실무에서 자주 사용하진 않음. 패킹을 자주 사용함.\n",
        "def func(a, b, c):\n",
        "    print(a, b, c)\n",
        "\n",
        "args = (10, 20, 30)\n",
        "func(*args) # * 안해주면 error 가 납니다. 넘겨야할 아규먼트가 3개여야 error가 안남.\n",
        "# (10, 20, 30) => *args => 10, 20, 30"
      ],
      "metadata": {
        "colab": {
          "base_uri": "https://localhost:8080/"
        },
        "id": "CmuP43D3TGQ3",
        "outputId": "96a43616-ea06-4413-c45f-da02923f62cf"
      },
      "execution_count": null,
      "outputs": [
        {
          "output_type": "stream",
          "name": "stdout",
          "text": [
            "(10, 20, 30)\n",
            "10 20 30\n"
          ]
        }
      ]
    },
    {
      "cell_type": "code",
      "source": [
        "def print_kwargs(a, **kwargs):\n",
        "    print(a)\n",
        "    print(kwargs)\n",
        "\n",
        "print_kwargs(100, name='Licat', age='10')"
      ],
      "metadata": {
        "colab": {
          "base_uri": "https://localhost:8080/"
        },
        "id": "RroADZQRTsOx",
        "outputId": "ec91255d-9bd2-4eb8-9556-6454397028de"
      },
      "execution_count": null,
      "outputs": [
        {
          "output_type": "stream",
          "name": "stdout",
          "text": [
            "100\n",
            "{'name': 'Licat', 'age': '10'}\n"
          ]
        }
      ]
    },
    {
      "cell_type": "code",
      "source": [
        "def f(a, b, c, d, e):\n",
        "    print(a, b, c, d, e)\n",
        "\n",
        "f(1, 2, 3, 4, 5)"
      ],
      "metadata": {
        "colab": {
          "base_uri": "https://localhost:8080/"
        },
        "id": "cxdRSn6TUPNH",
        "outputId": "30ef1be3-ffb1-4799-9ec5-64c3fea757a7"
      },
      "execution_count": null,
      "outputs": [
        {
          "output_type": "stream",
          "name": "stdout",
          "text": [
            "1 2 3 4 5\n"
          ]
        }
      ]
    },
    {
      "cell_type": "code",
      "source": [
        "def f(a, b, c, d, e):\n",
        "    print(a, b, c, d, e)\n",
        "\n",
        "f(1, 2, e=3, d=4, c=5)  # 이렇게 보장해주는 언어가 별로 없어요."
      ],
      "metadata": {
        "colab": {
          "base_uri": "https://localhost:8080/"
        },
        "id": "IbSsSbYaUXmC",
        "outputId": "7a6e540c-7da0-49eb-e4c3-e7b2acacecc4"
      },
      "execution_count": null,
      "outputs": [
        {
          "output_type": "stream",
          "name": "stdout",
          "text": [
            "1 2 5 4 3\n"
          ]
        }
      ]
    },
    {
      "cell_type": "code",
      "source": [
        "def f(*args, **kargs):  # 가변적으로 parameter를 받고 싶을 때 이 형태를 많이 사용합니다.\n",
        "    print(args)\n",
        "    print(kargs)\n",
        "\n",
        "f(1, 2, e=3, d=4, c=5)  # 이렇게 보장해주는 언어가 별로 없어요."
      ],
      "metadata": {
        "colab": {
          "base_uri": "https://localhost:8080/"
        },
        "id": "7ejxIsUCUfSI",
        "outputId": "3c89c7b5-ee0a-493a-a6c2-c606941d9db0"
      },
      "execution_count": null,
      "outputs": [
        {
          "output_type": "stream",
          "name": "stdout",
          "text": [
            "(1, 2)\n",
            "{'e': 3, 'd': 4, 'c': 5}\n"
          ]
        }
      ]
    },
    {
      "cell_type": "code",
      "source": [
        "def print_args_kwargs(*args, **kwargs):\n",
        "    print('args:', args)\n",
        "    print('kwargs:', kwargs)\n",
        "\n",
        "inputlist = [100, True, 'leehojun']\n",
        "inputdic = {'score':100, 'name':'leehojun', 'age':'10'}\n",
        "print_args_kwargs(*inputlist)\n",
        "print('--------')\n",
        "print_args_kwargs(**inputdic)\n",
        "print('--------')\n",
        "print_args_kwargs(*inputlist, **inputdic)"
      ],
      "metadata": {
        "colab": {
          "base_uri": "https://localhost:8080/"
        },
        "id": "iLkLaNgsX6TV",
        "outputId": "75e95d0d-a9e6-48a1-89fe-afaa4bf0dbfd"
      },
      "execution_count": null,
      "outputs": [
        {
          "output_type": "stream",
          "name": "stdout",
          "text": [
            "args: (100, True, 'leehojun')\n",
            "kwargs: {}\n",
            "--------\n",
            "args: ()\n",
            "kwargs: {'score': 100, 'name': 'leehojun', 'age': '10'}\n",
            "--------\n",
            "args: (100, True, 'leehojun')\n",
            "kwargs: {'score': 100, 'name': 'leehojun', 'age': '10'}\n"
          ]
        }
      ]
    },
    {
      "cell_type": "code",
      "source": [
        "one, two, *three = 1, 2, 3, 4, 5\n",
        "print(one, two, three)"
      ],
      "metadata": {
        "colab": {
          "base_uri": "https://localhost:8080/"
        },
        "id": "-X0sFndUYT1_",
        "outputId": "448c2a96-b530-477b-82ab-5e3ae836f2aa"
      },
      "execution_count": null,
      "outputs": [
        {
          "output_type": "stream",
          "name": "stdout",
          "text": [
            "1 2 [3, 4, 5]\n"
          ]
        }
      ]
    },
    {
      "cell_type": "code",
      "source": [
        "a, b, c = range(3)\n",
        "a"
      ],
      "metadata": {
        "colab": {
          "base_uri": "https://localhost:8080/"
        },
        "id": "ldCAHx8uYnSd",
        "outputId": "2e78b0bc-ce2c-4aa5-bb28-8643f9bf6481"
      },
      "execution_count": null,
      "outputs": [
        {
          "output_type": "execute_result",
          "data": {
            "text/plain": [
              "0"
            ]
          },
          "metadata": {},
          "execution_count": 80
        }
      ]
    },
    {
      "cell_type": "code",
      "source": [
        "a, b, *c = 'hello world'\n",
        "c # 출력: ['l', 'l', 'o', ' ', 'w', 'o', 'r', 'l', 'd']"
      ],
      "metadata": {
        "colab": {
          "base_uri": "https://localhost:8080/"
        },
        "id": "4_vuoornYtGY",
        "outputId": "4f7500a8-33d4-47cf-fb9d-4998a4b66870"
      },
      "execution_count": null,
      "outputs": [
        {
          "output_type": "execute_result",
          "data": {
            "text/plain": [
              "['l', 'l', 'o', ' ', 'w', 'o', 'r', 'l', 'd']"
            ]
          },
          "metadata": {},
          "execution_count": 81
        }
      ]
    },
    {
      "cell_type": "markdown",
      "source": [
        "# 이터레이터와 제너레이터"
      ],
      "metadata": {
        "id": "1e8En15zYwZ8"
      }
    },
    {
      "cell_type": "code",
      "source": [
        "# 이터레이터란, 값을 차례대로 꺼낼 수 있는 객체\n",
        "# 시퀀스형 자료형이란? index가 있고, indexing, slicing이 가능한 자료형\n",
        "# dict는 이터레이터인가요? Yes\n",
        "# dict는 시퀀스형 자료형인가요? No\n",
        "# {'one': 1, 'two': 2}[2:]  # error\n",
        "\n",
        "# 제너레이터는 이터레이터를 만드는 함수"
      ],
      "metadata": {
        "id": "blYjTLQ-ZL2_"
      },
      "execution_count": null,
      "outputs": []
    },
    {
      "cell_type": "code",
      "source": [
        "for i in {'one': 1, 'two': 2}:\n",
        "    print(i)\n",
        "\n",
        "list(map(lambda x: x[1], {'one': 1, 'two': 2}))"
      ],
      "metadata": {
        "colab": {
          "base_uri": "https://localhost:8080/"
        },
        "id": "MXZfoy_UZTcp",
        "outputId": "1c4d318f-18ad-44c0-e7a5-dcccef2826a4"
      },
      "execution_count": null,
      "outputs": [
        {
          "output_type": "stream",
          "name": "stdout",
          "text": [
            "one\n",
            "two\n"
          ]
        },
        {
          "output_type": "execute_result",
          "data": {
            "text/plain": [
              "['n', 'w']"
            ]
          },
          "metadata": {},
          "execution_count": 8
        }
      ]
    },
    {
      "cell_type": "code",
      "source": [
        "class MyIterator:\n",
        "    def __init__(self, stop):\n",
        "        self.current_value = 0  # 현재 값\n",
        "        self.stop = stop  # 순회를 멈출 값\n",
        "\n",
        "    def __iter__(self):\n",
        "        return self\n",
        "\n",
        "    def __next__(self):\n",
        "        if self.current_value >= self.stop:\n",
        "            raise StopIteration\n",
        "        result = self.current_value\n",
        "        self.current_value += 1\n",
        "        return result\n",
        "\n",
        "my_iterator = MyIterator(5)\n",
        "\n",
        "for i in my_iterator:\n",
        "    print(i)\n",
        "\n",
        "for i in my_iterator:\n",
        "    print(i)"
      ],
      "metadata": {
        "colab": {
          "base_uri": "https://localhost:8080/"
        },
        "id": "GQt6sVpfZaXv",
        "outputId": "8855382d-ac06-4906-f96d-07f3f47ea3d1"
      },
      "execution_count": null,
      "outputs": [
        {
          "output_type": "stream",
          "name": "stdout",
          "text": [
            "0\n",
            "1\n",
            "2\n",
            "3\n",
            "4\n"
          ]
        }
      ]
    },
    {
      "cell_type": "code",
      "source": [
        "class MyIterator:\n",
        "    def __init__(self, stop):\n",
        "        self.current_value = 0  # 현재 값\n",
        "        self.stop = stop  # 순회를 멈출 값\n",
        "\n",
        "    def __iter__(self):\n",
        "        return self\n",
        "\n",
        "    def __next__(self):\n",
        "        if self.current_value >= self.stop:\n",
        "            raise StopIteration\n",
        "        result = self.current_value\n",
        "        self.current_value += 1\n",
        "        return result\n",
        "\n",
        "x = iter(MyIterator(5)) # for 문의 시작\n",
        "\n",
        "print(next(x))\n",
        "print(next(x))\n",
        "print(next(x))\n",
        "print(next(x))\n",
        "print(next(x))\n",
        "print(next(x))  # for 문의 멈춤"
      ],
      "metadata": {
        "colab": {
          "base_uri": "https://localhost:8080/",
          "height": 443
        },
        "id": "PvDSSR5iaPU8",
        "outputId": "489b4ba0-72fa-4753-e012-53376a00b3a1"
      },
      "execution_count": null,
      "outputs": [
        {
          "output_type": "stream",
          "name": "stdout",
          "text": [
            "0\n",
            "1\n",
            "2\n",
            "3\n",
            "4\n"
          ]
        },
        {
          "output_type": "error",
          "ename": "StopIteration",
          "evalue": "",
          "traceback": [
            "\u001b[0;31m---------------------------------------------------------------------------\u001b[0m",
            "\u001b[0;31mStopIteration\u001b[0m                             Traceback (most recent call last)",
            "\u001b[0;32m<ipython-input-101-929d57b473f3>\u001b[0m in \u001b[0;36m<cell line: 23>\u001b[0;34m()\u001b[0m\n\u001b[1;32m     21\u001b[0m \u001b[0mprint\u001b[0m\u001b[0;34m(\u001b[0m\u001b[0mnext\u001b[0m\u001b[0;34m(\u001b[0m\u001b[0mx\u001b[0m\u001b[0;34m)\u001b[0m\u001b[0;34m)\u001b[0m\u001b[0;34m\u001b[0m\u001b[0;34m\u001b[0m\u001b[0m\n\u001b[1;32m     22\u001b[0m \u001b[0mprint\u001b[0m\u001b[0;34m(\u001b[0m\u001b[0mnext\u001b[0m\u001b[0;34m(\u001b[0m\u001b[0mx\u001b[0m\u001b[0;34m)\u001b[0m\u001b[0;34m)\u001b[0m\u001b[0;34m\u001b[0m\u001b[0;34m\u001b[0m\u001b[0m\n\u001b[0;32m---> 23\u001b[0;31m \u001b[0mprint\u001b[0m\u001b[0;34m(\u001b[0m\u001b[0mnext\u001b[0m\u001b[0;34m(\u001b[0m\u001b[0mx\u001b[0m\u001b[0;34m)\u001b[0m\u001b[0;34m)\u001b[0m  \u001b[0;31m# for 문의 멈춤\u001b[0m\u001b[0;34m\u001b[0m\u001b[0;34m\u001b[0m\u001b[0m\n\u001b[0m",
            "\u001b[0;32m<ipython-input-101-929d57b473f3>\u001b[0m in \u001b[0;36m__next__\u001b[0;34m(self)\u001b[0m\n\u001b[1;32m      9\u001b[0m     \u001b[0;32mdef\u001b[0m \u001b[0m__next__\u001b[0m\u001b[0;34m(\u001b[0m\u001b[0mself\u001b[0m\u001b[0;34m)\u001b[0m\u001b[0;34m:\u001b[0m\u001b[0;34m\u001b[0m\u001b[0;34m\u001b[0m\u001b[0m\n\u001b[1;32m     10\u001b[0m         \u001b[0;32mif\u001b[0m \u001b[0mself\u001b[0m\u001b[0;34m.\u001b[0m\u001b[0mcurrent_value\u001b[0m \u001b[0;34m>=\u001b[0m \u001b[0mself\u001b[0m\u001b[0;34m.\u001b[0m\u001b[0mstop\u001b[0m\u001b[0;34m:\u001b[0m\u001b[0;34m\u001b[0m\u001b[0;34m\u001b[0m\u001b[0m\n\u001b[0;32m---> 11\u001b[0;31m             \u001b[0;32mraise\u001b[0m \u001b[0mStopIteration\u001b[0m\u001b[0;34m\u001b[0m\u001b[0;34m\u001b[0m\u001b[0m\n\u001b[0m\u001b[1;32m     12\u001b[0m         \u001b[0mresult\u001b[0m \u001b[0;34m=\u001b[0m \u001b[0mself\u001b[0m\u001b[0;34m.\u001b[0m\u001b[0mcurrent_value\u001b[0m\u001b[0;34m\u001b[0m\u001b[0;34m\u001b[0m\u001b[0m\n\u001b[1;32m     13\u001b[0m         \u001b[0mself\u001b[0m\u001b[0;34m.\u001b[0m\u001b[0mcurrent_value\u001b[0m \u001b[0;34m+=\u001b[0m \u001b[0;36m1\u001b[0m\u001b[0;34m\u001b[0m\u001b[0;34m\u001b[0m\u001b[0m\n",
            "\u001b[0;31mStopIteration\u001b[0m: "
          ]
        }
      ]
    },
    {
      "cell_type": "code",
      "source": [
        "x = zip('hello', 'world')\n",
        "for i in x:\n",
        "    print(i)\n",
        "\n",
        "for i in x:\n",
        "    print(i)"
      ],
      "metadata": {
        "colab": {
          "base_uri": "https://localhost:8080/"
        },
        "id": "cEOYLnmNaZag",
        "outputId": "67a1dbca-d823-4e21-8d3c-c87e4e28f8e8"
      },
      "execution_count": null,
      "outputs": [
        {
          "output_type": "stream",
          "name": "stdout",
          "text": [
            "('h', 'w')\n",
            "('e', 'o')\n",
            "('l', 'r')\n",
            "('l', 'l')\n",
            "('o', 'd')\n"
          ]
        }
      ]
    },
    {
      "cell_type": "code",
      "source": [
        "# 제너레이터는 이터레이터를 생성해주는 함수로, yield 키워드를 사용하여 만듭니다.\n",
        "def my_generator():\n",
        "    x = 10\n",
        "    yield x\n",
        "    x = 20\n",
        "    yield x\n",
        "    x = 30\n",
        "    yield x\n",
        "    return\n",
        "    x = 40\n",
        "    yield x\n",
        "\n",
        "for i in my_generator():\n",
        "    print(i)"
      ],
      "metadata": {
        "id": "3b5ifirnaafR",
        "colab": {
          "base_uri": "https://localhost:8080/"
        },
        "outputId": "047dbc0b-6f5d-4497-999a-bf41a6fac64c"
      },
      "execution_count": null,
      "outputs": [
        {
          "output_type": "stream",
          "name": "stdout",
          "text": [
            "10\n",
            "20\n",
            "30\n"
          ]
        }
      ]
    },
    {
      "cell_type": "code",
      "source": [
        "list(zip('hello', my_generator()))"
      ],
      "metadata": {
        "colab": {
          "base_uri": "https://localhost:8080/"
        },
        "id": "OclP2JNTbu3-",
        "outputId": "0d296802-4de4-4475-df80-350d4af2309a"
      },
      "execution_count": null,
      "outputs": [
        {
          "output_type": "execute_result",
          "data": {
            "text/plain": [
              "[('h', 10), ('e', 20), ('l', 30)]"
            ]
          },
          "metadata": {},
          "execution_count": 108
        }
      ]
    },
    {
      "cell_type": "code",
      "source": [
        "# 제너레이터는 이터레이터를 생성해주는 함수로, yield 키워드를 사용하여 만듭니다.\n",
        "def my_generator():\n",
        "    x = 0\n",
        "    while True:\n",
        "        yield x\n",
        "        x += 2\n",
        "\n",
        "list(zip('hello', my_generator()))"
      ],
      "metadata": {
        "colab": {
          "base_uri": "https://localhost:8080/"
        },
        "id": "10OmrglTcWDm",
        "outputId": "c52bcf45-e4ce-4420-fdb8-2d07efbd2c14"
      },
      "execution_count": null,
      "outputs": [
        {
          "output_type": "execute_result",
          "data": {
            "text/plain": [
              "[('h', 0), ('e', 2), ('l', 4), ('l', 6), ('o', 8)]"
            ]
          },
          "metadata": {},
          "execution_count": 110
        }
      ]
    },
    {
      "cell_type": "code",
      "source": [
        "def my_generator():\n",
        "    l = ['짝', '홀']\n",
        "    while True:\n",
        "        yield l[t := False] # := 이 문법은 시중에 어떤 책도 언급하지 않습니다. 왈러스 연산자(python 3.8버전)\n",
        "        yield l[t := True]\n",
        "\n",
        "list(zip([0, 1, 2, 3, 4, 5, 6], my_generator()))"
      ],
      "metadata": {
        "colab": {
          "base_uri": "https://localhost:8080/"
        },
        "id": "mXsChiifdFkQ",
        "outputId": "2496b55b-a4af-41c4-b16a-da726435fc4c"
      },
      "execution_count": null,
      "outputs": [
        {
          "output_type": "execute_result",
          "data": {
            "text/plain": [
              "[(4, '짝'), (1, '홀'), (2, '짝'), (3, '홀'), (4, '짝'), (5, '홀'), (6, '짝')]"
            ]
          },
          "metadata": {},
          "execution_count": 10
        }
      ]
    },
    {
      "cell_type": "code",
      "source": [
        "def my_generator():\n",
        "    x = 0\n",
        "    while True:\n",
        "        if x == 0:\n",
        "            yield '짝'\n",
        "            x += 1\n",
        "        else:\n",
        "            yield '홀'\n",
        "            x = 0\n",
        "\n",
        "list(zip([0, 1, 2, 3, 4, 5, 6], my_generator()))"
      ],
      "metadata": {
        "colab": {
          "base_uri": "https://localhost:8080/"
        },
        "id": "ilOHjgK-d2We",
        "outputId": "3806d4f0-68f8-46c6-fc67-4b80af4d5ebd"
      },
      "execution_count": null,
      "outputs": [
        {
          "output_type": "execute_result",
          "data": {
            "text/plain": [
              "[(0, '짝'), (1, '홀'), (2, '짝'), (3, '홀'), (4, '짝'), (5, '홀'), (6, '짝')]"
            ]
          },
          "metadata": {},
          "execution_count": 113
        }
      ]
    },
    {
      "cell_type": "code",
      "source": [
        "x = 10\n",
        "while x := x - 1:\n",
        "    print(x)"
      ],
      "metadata": {
        "colab": {
          "base_uri": "https://localhost:8080/"
        },
        "id": "x38MFeJueCv8",
        "outputId": "a41eb7b9-47f3-4d03-9987-83460143f932"
      },
      "execution_count": null,
      "outputs": [
        {
          "output_type": "stream",
          "name": "stdout",
          "text": [
            "9\n",
            "8\n",
            "7\n",
            "6\n",
            "5\n",
            "4\n",
            "3\n",
            "2\n",
            "1\n"
          ]
        }
      ]
    },
    {
      "cell_type": "code",
      "source": [
        "l = [10, 20, 30]\n",
        "while l:\n",
        "    print(l.pop())"
      ],
      "metadata": {
        "colab": {
          "base_uri": "https://localhost:8080/"
        },
        "id": "7Tz98mfCe-eV",
        "outputId": "83e8dc43-c5bd-4410-d731-c3f34c44a63d"
      },
      "execution_count": null,
      "outputs": [
        {
          "output_type": "stream",
          "name": "stdout",
          "text": [
            "30\n",
            "20\n",
            "10\n"
          ]
        }
      ]
    },
    {
      "cell_type": "markdown",
      "source": [
        "# nonlocal"
      ],
      "metadata": {
        "id": "gnP_vw_7fLUQ"
      }
    },
    {
      "cell_type": "code",
      "source": [
        "# nonlocal은 파이썬의 키워드 중 하나로, 중첩 함수 내부에서 바깥 함수의 변수를 참조할 수 있게 합니다.\n",
        "# nonlocal은 주로 클로저(closure)에서 변수의 값을 변경하고자 할 때 사용합니다."
      ],
      "metadata": {
        "id": "iDnD2C2kfd0p"
      },
      "execution_count": null,
      "outputs": []
    },
    {
      "cell_type": "code",
      "source": [
        "# nonlocal\n",
        "a = 10\n",
        "def f():\n",
        "    a = 100\n",
        "    print(f'f a: {a}')\n",
        "    def ff():\n",
        "        a = 1000\n",
        "        print(f'ff a: {a}')\n",
        "        def fff():\n",
        "            nonlocal a # global a로 변경해보세요.\n",
        "            a = 100\n",
        "            print(f'fff a: {a}')\n",
        "        fff()\n",
        "        print(f'ff a: {a}')\n",
        "    ff()\n",
        "f()\n",
        "print(f'global a: {a}')"
      ],
      "metadata": {
        "colab": {
          "base_uri": "https://localhost:8080/"
        },
        "id": "SyJA6NDHfrR0",
        "outputId": "5251e198-2c81-4163-8bbf-0067c03a5bd3"
      },
      "execution_count": null,
      "outputs": [
        {
          "output_type": "stream",
          "name": "stdout",
          "text": [
            "f a: 100\n",
            "ff a: 1000\n",
            "fff a: 100\n",
            "ff a: 1000\n",
            "global a: 100\n"
          ]
        }
      ]
    },
    {
      "cell_type": "markdown",
      "source": [
        "# 모듈"
      ],
      "metadata": {
        "id": "BP9trMFpgBjl"
      }
    },
    {
      "cell_type": "code",
      "source": [
        "# 모듈이란 클래스나 함수, 변수를 다른 파일(.py)에 작성하여\n",
        "# 다른 파이썬 코드에서 재사용할 수 있도록 한 것입니다.\n",
        "# 제대로 알고 사용해야 합니다.\n",
        "# 1번 스탭 : info.py를 생성\n",
        "# name = 'honggildong'\n",
        "# age = 10\n",
        "#\n",
        "# def hello():\n",
        "#     print('안녕하세요 저는 홍길동 입니다.')\n"
      ],
      "metadata": {
        "id": "dZAYmjP5hELn"
      },
      "execution_count": null,
      "outputs": []
    },
    {
      "cell_type": "code",
      "source": [
        "import info as q # info.py 를 가져오겠다! info라는 이름 대신 q\n",
        "\n",
        "q.name\n",
        "q.age\n",
        "q.hello()"
      ],
      "metadata": {
        "colab": {
          "base_uri": "https://localhost:8080/"
        },
        "id": "hzoBfwqeiAQr",
        "outputId": "0414d3b3-4c0d-4f12-da99-778e7e5c0d2e"
      },
      "execution_count": null,
      "outputs": [
        {
          "output_type": "stream",
          "name": "stdout",
          "text": [
            "안녕하세요 저는 이호준입니다.\n"
          ]
        }
      ]
    },
    {
      "cell_type": "code",
      "source": [
        "# 정말 많이 사용하는 코드\n",
        "# 관습처럼 사용합니다.\n",
        "\n",
        "import pandas as pd\n",
        "import numpy as np"
      ],
      "metadata": {
        "id": "AXb8bh6NiGSQ"
      },
      "execution_count": null,
      "outputs": []
    },
    {
      "cell_type": "code",
      "source": [
        "# a > b > c > infotest.py 파일이 있을 경우\n",
        "# name = 'hojun'만 infotest.py에 있습니다.\n",
        "import a.b.c.infotest as q\n",
        "q.name"
      ],
      "metadata": {
        "colab": {
          "base_uri": "https://localhost:8080/",
          "height": 35
        },
        "id": "1djK2fdqimPF",
        "outputId": "cb3beaed-07ef-408a-d246-5740283f3037"
      },
      "execution_count": null,
      "outputs": [
        {
          "output_type": "execute_result",
          "data": {
            "text/plain": [
              "'hojun'"
            ],
            "application/vnd.google.colaboratory.intrinsic+json": {
              "type": "string"
            }
          },
          "metadata": {},
          "execution_count": 126
        }
      ]
    },
    {
      "cell_type": "code",
      "source": [
        "import sys\n",
        "\n",
        "sys.path    # 모듈을 읽어오는 경로\n",
        "sys.modules # 기본적으로 읽어오는 모듈들"
      ],
      "metadata": {
        "id": "C3Pa4JJE0BAO"
      },
      "execution_count": null,
      "outputs": []
    },
    {
      "cell_type": "code",
      "source": [
        "# 2개의 방식이 있는데 어떤 방식이 좋을까요?\n",
        "# 어떤게 더 좋다는 표현은 옳지 않습니다. 정답은 없습니다.\n",
        "# 1번\n",
        "from info import name, age, hello\n",
        "\n",
        "print(name)\n",
        "\n",
        "\n",
        "# 2번\n",
        "# 여러 모듈을 포함해야 하는 실무에서는 2번이 선호됩니다.\n",
        "import info as q # info.py 를 가져오겠다! info라는 이름 대신 q\n",
        "\n",
        "q.name\n",
        "q.age\n",
        "q.hello()"
      ],
      "metadata": {
        "colab": {
          "base_uri": "https://localhost:8080/"
        },
        "id": "x4R_Z7wq1TF-",
        "outputId": "24f76487-5e65-45a4-e187-b039b19169a7"
      },
      "execution_count": null,
      "outputs": [
        {
          "output_type": "stream",
          "name": "stdout",
          "text": [
            "leehojun\n",
            "안녕하세요 저는 이호준입니다.\n"
          ]
        }
      ]
    },
    {
      "cell_type": "code",
      "source": [
        "# 문제가 있는 코드\n",
        "# 뒤에 로드 된 것이 덮어 씁니다.\n",
        "# 이런 경우는 아주 극히 드물지만 일어나는 일입니다.\n",
        "\n",
        "from info import name, age, hello\n",
        "from infotwo import name\n",
        "\n",
        "print(name)"
      ],
      "metadata": {
        "colab": {
          "base_uri": "https://localhost:8080/"
        },
        "id": "_sfv1sp81q9g",
        "outputId": "0e9f6e95-fc4c-4d80-cdfa-9fe9297379db"
      },
      "execution_count": null,
      "outputs": [
        {
          "output_type": "stream",
          "name": "stdout",
          "text": [
            "gildong\n"
          ]
        }
      ]
    },
    {
      "cell_type": "code",
      "source": [
        "# 카카오 로그인, 구글 로그인, 엑셀 로드, 문자를 보내거나\n",
        "# 모듈로 나와 있습니다. 여러분들이 직접 코드를 짜기 전 라이브러리가 있는지 확인해주세요.\n",
        "# 라이브러리, 프레임웤, 서드파티가 정말 잘 되어 있습니다.\n",
        "\n",
        "# 라이브러리: (여러분들 코드에 라이브러리가 섞여 들어가는 코드. 예를 들어 크롤링에 request, bs4\n",
        "# 프레임웤: 설계 도면이 정해져 있어서 이 설계 도면대로 코딩을 해야 하는 경우,\n",
        "#           레고 설계 도면처럼 완성품에 설계도면이 존재합니다.\n",
        "# 서드파티: 프레임웤에 붙는 코드. 예를 들어 Django 서드파티라고 하면 Django 로그인, DRF, Django-cors\n",
        "#           Django 에 사용하는 서드파트만 잘 알아둬도 개발하는데 문제가 없음\n"
      ],
      "metadata": {
        "id": "VLUy5nKV2xZh"
      },
      "execution_count": null,
      "outputs": []
    },
    {
      "cell_type": "code",
      "source": [
        "# colab에서는 안되지만 Django 에서는 많이 사용하는 코드 현재코드를 가리킴.\n",
        "from .info import name\n",
        "\n",
        "name"
      ],
      "metadata": {
        "colab": {
          "base_uri": "https://localhost:8080/",
          "height": 369
        },
        "id": "PTpNAByH4vkE",
        "outputId": "6789be8d-a0d1-4676-abec-47d1e050e4e0"
      },
      "execution_count": null,
      "outputs": [
        {
          "output_type": "error",
          "ename": "ImportError",
          "evalue": "attempted relative import with no known parent package",
          "traceback": [
            "\u001b[0;31m---------------------------------------------------------------------------\u001b[0m",
            "\u001b[0;31mImportError\u001b[0m                               Traceback (most recent call last)",
            "\u001b[0;32m<ipython-input-138-7ada3be58b0e>\u001b[0m in \u001b[0;36m<cell line: 1>\u001b[0;34m()\u001b[0m\n\u001b[0;32m----> 1\u001b[0;31m \u001b[0;32mfrom\u001b[0m \u001b[0;34m.\u001b[0m\u001b[0minfo\u001b[0m \u001b[0;32mimport\u001b[0m \u001b[0mname\u001b[0m\u001b[0;34m\u001b[0m\u001b[0;34m\u001b[0m\u001b[0m\n\u001b[0m\u001b[1;32m      2\u001b[0m \u001b[0;34m\u001b[0m\u001b[0m\n\u001b[1;32m      3\u001b[0m \u001b[0mname\u001b[0m\u001b[0;34m\u001b[0m\u001b[0;34m\u001b[0m\u001b[0m\n",
            "\u001b[0;31mImportError\u001b[0m: attempted relative import with no known parent package",
            "",
            "\u001b[0;31m---------------------------------------------------------------------------\u001b[0;32m\nNOTE: If your import is failing due to a missing package, you can\nmanually install dependencies using either !pip or !apt.\n\nTo view examples of installing some common dependencies, click the\n\"Open Examples\" button below.\n\u001b[0;31m---------------------------------------------------------------------------\u001b[0m\n"
          ],
          "errorDetails": {
            "actions": [
              {
                "action": "open_url",
                "actionText": "Open Examples",
                "url": "/notebooks/snippets/importing_libraries.ipynb"
              }
            ]
          }
        }
      ]
    },
    {
      "cell_type": "code",
      "source": [
        "# 자주 사용되는 모듈\n",
        "import os\n",
        "# Django 3.x 에서 os모듈이 빠졌습니다.\n",
        "# os모듈 대신 Path(from pathlib import Path)라는 모듈이 들어왔습니다.\n",
        "# os모듈은 너무 강력합니다.\n",
        "# os모듈에 경로지정시 리눅스 형태로 되어 있어서 Django 로 개발한 것을 windows에서 실행시 오류를 내는 경우가 있음.\n",
        "\n",
        "os.mkdir('licat') # licat이란 폴더 생성, 삭제는 os.rmdir()\n",
        "os.getcwd() # 현재 경로 반환\n",
        "os.open('a.txt', os.O_CREAT | os.O_WRONLY) # 파일 생성(os.O_CREAT: 필요한 경우 파일을 생성, os.O_WRONLY: 파일을 쓰기 전용 모드로 연다.)\n",
        "# os.rename('a.txt', 'b.txt') # a.txt파일을 b.txt파일로 변경\n",
        "# os.remove('b.txt')"
      ],
      "metadata": {
        "colab": {
          "base_uri": "https://localhost:8080/"
        },
        "id": "NjxNGAF64yY_",
        "outputId": "d6127e33-891b-423e-93ee-7b134ee864d7"
      },
      "execution_count": null,
      "outputs": [
        {
          "output_type": "execute_result",
          "data": {
            "text/plain": [
              "52"
            ]
          },
          "metadata": {},
          "execution_count": 141
        }
      ]
    },
    {
      "cell_type": "code",
      "source": [
        "import math\n",
        "\n",
        "math.pi"
      ],
      "metadata": {
        "colab": {
          "base_uri": "https://localhost:8080/"
        },
        "id": "w8Qx68y65sXj",
        "outputId": "90a8d4f9-cea5-4edd-eb0b-2fc66e7cb23d"
      },
      "execution_count": null,
      "outputs": [
        {
          "output_type": "execute_result",
          "data": {
            "text/plain": [
              "3.141592653589793"
            ]
          },
          "metadata": {},
          "execution_count": 142
        }
      ]
    },
    {
      "cell_type": "code",
      "source": [
        "# 자바스크립트의 자료형이었다가 많이 사용하게 됨.\n",
        "# s = [{...}]   # 앞에다 변수명을 쓰진 않습니다.\n",
        "# point1 [{...}] 이렇게 되어 있음.\n",
        "# point2 json은 쌍 따옴표여야 합니다. 다른 언어에서 못 읽을 수 있음.\n",
        "# point3 dict key와 콜론은 붙여쓰고 콜론과 value는 한 칸 띄어씁니다.\n",
        "\n",
        "import json\n",
        "\n",
        "d = {\n",
        "    'one': 1,\n",
        "    'two': 2,\n",
        "    'three': 3\n",
        "}\n",
        "\n",
        "s = json.dumps(d)\n",
        "print(type(s)) # str\n",
        "d = json.loads(s)\n",
        "print(type(d)) # dict"
      ],
      "metadata": {
        "colab": {
          "base_uri": "https://localhost:8080/"
        },
        "id": "iGgni3UU6fTV",
        "outputId": "f8e4ee8d-2795-46d2-93d8-c8514bcca05b"
      },
      "execution_count": null,
      "outputs": [
        {
          "output_type": "stream",
          "name": "stdout",
          "text": [
            "<class 'str'>\n",
            "<class 'dict'>\n"
          ]
        }
      ]
    },
    {
      "cell_type": "code",
      "source": [
        "\n",
        "[{\n",
        "    \"지역이름\": \"서울\",\n",
        "    \"확진자수\": 5607,\n",
        "    \"격리해제수\": 5050,\n",
        "    \"사망자수\": 66,\n",
        "    \"십만명당발생율\": 57.61,\n",
        "    \"지역별확진자비율\": 22.53\n",
        "},\n",
        "{\n",
        "    \"지역이름\": \"부산\",\n",
        "    \"확진자수\": 491,\n",
        "    \"격리해제수\": 423,\n",
        "    \"사망자수\": 4,\n",
        "    \"십만명당발생율\": 14.39,\n",
        "    \"지역별확진자비율\": 1.97\n",
        "},\n",
        "{\n",
        "    \"지역이름\": \"대구\",\n",
        "    \"확진자수\": 7141,\n",
        "    \"격리해제수\": 6933,\n",
        "    \"사망자수\": 196,\n",
        "    \"십만명당발생율\": 293.09,\n",
        "    \"지역별확진자비율\": 28.69\n",
        "}]"
      ],
      "metadata": {
        "colab": {
          "base_uri": "https://localhost:8080/"
        },
        "id": "MD6Eben98iVH",
        "outputId": "d53e6ba6-f5b9-425d-9506-29961a0c6d0f"
      },
      "execution_count": null,
      "outputs": [
        {
          "output_type": "execute_result",
          "data": {
            "text/plain": [
              "[{'지역이름': '서울',\n",
              "  '확진자수': 5607,\n",
              "  '격리해제수': 5050,\n",
              "  '사망자수': 66,\n",
              "  '십만명당발생율': 57.61,\n",
              "  '지역별확진자비율': 22.53},\n",
              " {'지역이름': '부산',\n",
              "  '확진자수': 491,\n",
              "  '격리해제수': 423,\n",
              "  '사망자수': 4,\n",
              "  '십만명당발생율': 14.39,\n",
              "  '지역별확진자비율': 1.97},\n",
              " {'지역이름': '대구',\n",
              "  '확진자수': 7141,\n",
              "  '격리해제수': 6933,\n",
              "  '사망자수': 196,\n",
              "  '십만명당발생율': 293.09,\n",
              "  '지역별확진자비율': 28.69}]"
            ]
          },
          "metadata": {},
          "execution_count": 144
        }
      ]
    },
    {
      "cell_type": "code",
      "source": [
        "# (point4)주의! True는 안됩니다. true여야 합니다. 자바스크립트에서 파생되어서\n",
        "[\n",
        "  {\n",
        "    \"_id\": \"db4e0de6-1908-46c7-Ba81-b64b5f940103\",  # point2 json은 쌍 따옴표여야 합니다!\n",
        "    \"index\": \"1\",                                   # point3 dict key와 콜론은 붙여쓰고 콜론과 value는 한 칸 띄어씁니다.\n",
        "    \"name\": \"백태윤\",\n",
        "    \"email\": \"user-5kz4npi@and.com\",\n",
        "    \"phone\": \"010-2351-8697\",\n",
        "    \"country\": \"에콰도르\",\n",
        "    \"address\": \"잠원로 77-3\",\n",
        "    \"job\": \"생물공학연구원\"\n",
        "  },\n",
        "  {\n",
        "    \"_id\": \"01f6f108-6fef-4304-C2fc-97d2f8937987\",\n",
        "    \"index\": \"2\",\n",
        "    \"name\": \"배리하\",\n",
        "    \"email\": \"user-cpv529k@donec.co.kr\",\n",
        "    \"phone\": \"010-7883-8319\",\n",
        "    \"country\": \"부베섬\",\n",
        "    \"address\": \"양재로 43-4\",\n",
        "    \"job\": \"만화가\"\n",
        "  },\n",
        "  {\n",
        "    \"_id\": \"319b29b2-bcfe-4512-B71b-b2c2d4c5201c\",\n",
        "    \"index\": \"3\",\n",
        "    \"name\": \"복은수\",\n",
        "    \"email\": \"user-wkcy3ef@platea.io\",\n",
        "    \"phone\": \"010-5697-2570\",\n",
        "    \"country\": \"피지\",\n",
        "    \"address\": \"인왕산로 9-5\",\n",
        "    \"job\": \"행정부고위공무원\"\n",
        "  },\n",
        "  {\n",
        "    \"_id\": \"5ff04851-9dfd-4240-Bf10-a6626367e240\",\n",
        "    \"index\": \"4\",\n",
        "    \"name\": \"궉효리\",\n",
        "    \"email\": \"user-eaxvnvv@diam.org\",\n",
        "    \"phone\": \"010-7590-4105\",\n",
        "    \"country\": \"나미비아\",\n",
        "    \"address\": \"뚝섬로 31-1\",\n",
        "    \"job\": \"환경공학기술자 및 연구원\"\n",
        "  },\n",
        "  {\n",
        "    \"_id\": \"a4583338-d0bb-452e-Ab72-59899e310bac\",\n",
        "    \"index\": \"5\",\n",
        "    \"name\": \"갈유호\",\n",
        "    \"email\": \"user-f2pqfkk@sapien.org\",\n",
        "    \"phone\": \"010-6910-9677\",\n",
        "    \"country\": \"아제르바이잔\",\n",
        "    \"address\": \"봉은사로 15-8\",\n",
        "    \"job\": \"군무원\"\n",
        "  }\n",
        "]"
      ],
      "metadata": {
        "colab": {
          "base_uri": "https://localhost:8080/"
        },
        "id": "RraLzYqw8yt0",
        "outputId": "8ee8a47c-8367-4c6f-c769-856db06d1e8a"
      },
      "execution_count": null,
      "outputs": [
        {
          "output_type": "execute_result",
          "data": {
            "text/plain": [
              "[{'_id': 'db4e0de6-1908-46c7-Ba81-b64b5f940103',\n",
              "  'index': '1',\n",
              "  'name': '백태윤',\n",
              "  'email': 'user-5kz4npi@and.com',\n",
              "  'phone': '010-2351-8697',\n",
              "  'country': '에콰도르',\n",
              "  'address': '잠원로 77-3',\n",
              "  'job': '생물공학연구원'},\n",
              " {'_id': '01f6f108-6fef-4304-C2fc-97d2f8937987',\n",
              "  'index': '2',\n",
              "  'name': '배리하',\n",
              "  'email': 'user-cpv529k@donec.co.kr',\n",
              "  'phone': '010-7883-8319',\n",
              "  'country': '부베섬',\n",
              "  'address': '양재로 43-4',\n",
              "  'job': '만화가'},\n",
              " {'_id': '319b29b2-bcfe-4512-B71b-b2c2d4c5201c',\n",
              "  'index': '3',\n",
              "  'name': '복은수',\n",
              "  'email': 'user-wkcy3ef@platea.io',\n",
              "  'phone': '010-5697-2570',\n",
              "  'country': '피지',\n",
              "  'address': '인왕산로 9-5',\n",
              "  'job': '행정부고위공무원'},\n",
              " {'_id': '5ff04851-9dfd-4240-Bf10-a6626367e240',\n",
              "  'index': '4',\n",
              "  'name': '궉효리',\n",
              "  'email': 'user-eaxvnvv@diam.org',\n",
              "  'phone': '010-7590-4105',\n",
              "  'country': '나미비아',\n",
              "  'address': '뚝섬로 31-1',\n",
              "  'job': '환경공학기술자 및 연구원'},\n",
              " {'_id': 'a4583338-d0bb-452e-Ab72-59899e310bac',\n",
              "  'index': '5',\n",
              "  'name': '갈유호',\n",
              "  'email': 'user-f2pqfkk@sapien.org',\n",
              "  'phone': '010-6910-9677',\n",
              "  'country': '아제르바이잔',\n",
              "  'address': '봉은사로 15-8',\n",
              "  'job': '군무원'}]"
            ]
          },
          "metadata": {},
          "execution_count": 145
        }
      ]
    },
    {
      "cell_type": "code",
      "source": [
        "# (point4)주의! True는 안됩니다. true여야 합니다. 자바스크립트에서 파생되어서\n",
        "data = [\n",
        "  {\n",
        "    \"_id\": \"db4e0de6-1908-46c7-Ba81-b64b5f940103\",  # point2 json은 쌍 따옴표여야 합니다!\n",
        "    \"index\": \"1\",                                   # point3 dict key와 콜론은 붙여쓰고 콜론과 value는 한 칸 띄어씁니다.\n",
        "    \"name\": \"백태윤\",\n",
        "    \"email\": \"user-5kz4npi@and.com\",\n",
        "    \"phone\": \"010-2351-8697\",\n",
        "    \"country\": \"에콰도르\",\n",
        "    \"address\": \"잠원로 77-3\",\n",
        "    \"job\": \"생물공학연구원\"\n",
        "  },\n",
        "  {\n",
        "    \"_id\": \"01f6f108-6fef-4304-C2fc-97d2f8937987\",\n",
        "    \"index\": \"2\",\n",
        "    \"name\": \"배리하\",\n",
        "    \"email\": \"user-cpv529k@donec.co.kr\",\n",
        "    \"phone\": \"010-7883-8319\",\n",
        "    \"country\": \"부베섬\",\n",
        "    \"address\": \"양재로 43-4\",\n",
        "    \"job\": \"만화가\"\n",
        "  },\n",
        "  {\n",
        "    \"_id\": \"319b29b2-bcfe-4512-B71b-b2c2d4c5201c\",\n",
        "    \"index\": \"3\",\n",
        "    \"name\": \"복은수\",\n",
        "    \"email\": \"user-wkcy3ef@platea.io\",\n",
        "    \"phone\": \"010-5697-2570\",\n",
        "    \"country\": \"피지\",\n",
        "    \"address\": \"인왕산로 9-5\",\n",
        "    \"job\": \"행정부고위공무원\"\n",
        "  },\n",
        "  {\n",
        "    \"_id\": \"5ff04851-9dfd-4240-Bf10-a6626367e240\",\n",
        "    \"index\": \"4\",\n",
        "    \"name\": \"궉효리\",\n",
        "    \"email\": \"user-eaxvnvv@diam.org\",\n",
        "    \"phone\": \"010-7590-4105\",\n",
        "    \"country\": \"나미비아\",\n",
        "    \"address\": \"뚝섬로 31-1\",\n",
        "    \"job\": \"환경공학기술자 및 연구원\"\n",
        "  },\n",
        "  {\n",
        "    \"_id\": \"a4583338-d0bb-452e-Ab72-59899e310bac\",\n",
        "    \"index\": \"5\",\n",
        "    \"name\": \"갈유호\",\n",
        "    \"email\": \"user-f2pqfkk@sapien.org\",\n",
        "    \"phone\": \"010-6910-9677\",\n",
        "    \"country\": \"아제르바이잔\",\n",
        "    \"address\": \"봉은사로 15-8\",\n",
        "    \"job\": \"군무원\"\n",
        "  }\n",
        "]\n",
        "\n",
        "print(str(data[0]))"
      ],
      "metadata": {
        "colab": {
          "base_uri": "https://localhost:8080/"
        },
        "id": "dDTTV7RD9BiG",
        "outputId": "b252834d-6924-4cb0-e4a6-3a90e2fcfc11"
      },
      "execution_count": null,
      "outputs": [
        {
          "output_type": "stream",
          "name": "stdout",
          "text": [
            "{'_id': 'db4e0de6-1908-46c7-Ba81-b64b5f940103', 'index': '1', 'name': '백태윤', 'email': 'user-5kz4npi@and.com', 'phone': '010-2351-8697', 'country': '에콰도르', 'address': '잠원로 77-3', 'job': '생물공학연구원'}\n"
          ]
        }
      ]
    },
    {
      "cell_type": "code",
      "source": [
        "import json\n",
        "\n",
        "json.dumps(data)"
      ],
      "metadata": {
        "colab": {
          "base_uri": "https://localhost:8080/",
          "height": 239
        },
        "id": "Pylzja-t9F5w",
        "outputId": "edfc3b4c-4dce-4c3a-b965-8ba8272cd218"
      },
      "execution_count": null,
      "outputs": [
        {
          "output_type": "execute_result",
          "data": {
            "text/plain": [
              "'[{\"_id\": \"db4e0de6-1908-46c7-Ba81-b64b5f940103\", \"index\": \"1\", \"name\": \"\\\\ubc31\\\\ud0dc\\\\uc724\", \"email\": \"user-5kz4npi@and.com\", \"phone\": \"010-2351-8697\", \"country\": \"\\\\uc5d0\\\\ucf70\\\\ub3c4\\\\ub974\", \"address\": \"\\\\uc7a0\\\\uc6d0\\\\ub85c 77-3\", \"job\": \"\\\\uc0dd\\\\ubb3c\\\\uacf5\\\\ud559\\\\uc5f0\\\\uad6c\\\\uc6d0\"}, {\"_id\": \"01f6f108-6fef-4304-C2fc-97d2f8937987\", \"index\": \"2\", \"name\": \"\\\\ubc30\\\\ub9ac\\\\ud558\", \"email\": \"user-cpv529k@donec.co.kr\", \"phone\": \"010-7883-8319\", \"country\": \"\\\\ubd80\\\\ubca0\\\\uc12c\", \"address\": \"\\\\uc591\\\\uc7ac\\\\ub85c 43-4\", \"job\": \"\\\\ub9cc\\\\ud654\\\\uac00\"}, {\"_id\": \"319b29b2-bcfe-4512-B71b-b2c2d4c5201c\", \"index\": \"3\", \"name\": \"\\\\ubcf5\\\\uc740\\\\uc218\", \"email\": \"user-wkcy3ef@platea.io\", \"phone\": \"010-5697-2570\", \"country\": \"\\\\ud53c\\\\uc9c0\", \"address\": \"\\\\uc778\\\\uc655\\\\uc0b0\\\\ub85c 9-5\", \"job\": \"\\\\ud589\\\\uc815\\\\ubd80\\\\uace0\\\\uc704\\\\uacf5\\\\ubb34\\\\uc6d0\"}, {\"_id\": \"5ff04851-9dfd-4240-Bf10-a6626367e240\", \"index\": \"4\", \"name\": \"\\\\uad89\\\\ud6a8\\\\ub9ac\", \"email\": \"user-eaxvnvv@diam.org\", \"phone\": \"010-7590-4105\", \"country\": \"\\\\ub098\\\\ubbf8\\\\ube44\\\\uc544\", \"address\": \"\\\\ub69d\\\\uc12c\\\\ub85c 31-1\", \"job\": \"\\\\ud658\\\\uacbd\\\\uacf5\\\\ud559\\\\uae30\\\\uc220\\\\uc790 \\\\ubc0f \\\\uc5f0\\\\uad6c\\\\uc6d0\"}, {\"_id\": \"a4583338-d0bb-452e-Ab72-59899e310bac\", \"index\": \"5\", \"name\": \"\\\\uac08\\\\uc720\\\\ud638\", \"email\": \"user-f2pqfkk@sapien.org\", \"phone\": \"010-6910-9677\", \"country\": \"\\\\uc544\\\\uc81c\\\\ub974\\\\ubc14\\\\uc774\\\\uc794\", \"address\": \"\\\\ubd09\\\\uc740\\\\uc0ac\\\\ub85c 15-8\", \"job\": \"\\\\uad70\\\\ubb34\\\\uc6d0\"}]'"
            ],
            "application/vnd.google.colaboratory.intrinsic+json": {
              "type": "string"
            }
          },
          "metadata": {},
          "execution_count": 148
        }
      ]
    },
    {
      "cell_type": "code",
      "source": [
        "s = json.dumps(data)\n",
        "d = json.loads(s)\n",
        "print(d)\n",
        "\n",
        "# Python 자료형 => String 자료형 (직렬화)\n",
        "# String 자료형 => Python 자료형 (역직렬화)"
      ],
      "metadata": {
        "colab": {
          "base_uri": "https://localhost:8080/"
        },
        "id": "Cg1yTw4c9NQH",
        "outputId": "e42e5217-01d2-488f-a17e-5dd36dfcf399"
      },
      "execution_count": null,
      "outputs": [
        {
          "output_type": "stream",
          "name": "stdout",
          "text": [
            "[{'_id': 'db4e0de6-1908-46c7-Ba81-b64b5f940103', 'index': '1', 'name': '백태윤', 'email': 'user-5kz4npi@and.com', 'phone': '010-2351-8697', 'country': '에콰도르', 'address': '잠원로 77-3', 'job': '생물공학연구원'}, {'_id': '01f6f108-6fef-4304-C2fc-97d2f8937987', 'index': '2', 'name': '배리하', 'email': 'user-cpv529k@donec.co.kr', 'phone': '010-7883-8319', 'country': '부베섬', 'address': '양재로 43-4', 'job': '만화가'}, {'_id': '319b29b2-bcfe-4512-B71b-b2c2d4c5201c', 'index': '3', 'name': '복은수', 'email': 'user-wkcy3ef@platea.io', 'phone': '010-5697-2570', 'country': '피지', 'address': '인왕산로 9-5', 'job': '행정부고위공무원'}, {'_id': '5ff04851-9dfd-4240-Bf10-a6626367e240', 'index': '4', 'name': '궉효리', 'email': 'user-eaxvnvv@diam.org', 'phone': '010-7590-4105', 'country': '나미비아', 'address': '뚝섬로 31-1', 'job': '환경공학기술자 및 연구원'}, {'_id': 'a4583338-d0bb-452e-Ab72-59899e310bac', 'index': '5', 'name': '갈유호', 'email': 'user-f2pqfkk@sapien.org', 'phone': '010-6910-9677', 'country': '아제르바이잔', 'address': '봉은사로 15-8', 'job': '군무원'}]\n"
          ]
        }
      ]
    },
    {
      "cell_type": "code",
      "source": [
        "import collections  # 알고리즘 문제에서 많이 나옴.\n",
        "\n",
        "d = collections.deque([1, 2, 3, 4])\n",
        "d.rotate(1) # 1번 오른쪽으로 쉬프트 합니다. 숫자를 2로 바꾸어 비교해보세요.\n",
        "d # 출력: deque([4, 1, 2, 3])\n",
        "\n",
        "c = collections.Counter('hello world')\n",
        "c # 출력: Counter({'h': 1, 'e': 1, 'l': 3, 'o': 2, ' ': 1, 'w': 1, 'r': 1, 'd': 1})\n",
        "c.most_common()\n",
        "\n",
        "# 출력:\n",
        "'''\n",
        "[('l', 3),\n",
        " ('o', 2),\n",
        " ('h', 1),\n",
        " ('e', 1),\n",
        " (' ', 1),\n",
        " ('w', 1),\n",
        " ('r', 1),\n",
        " ('d', 1)]\n",
        "'''"
      ],
      "metadata": {
        "id": "Sl-ZYDB29nGn"
      },
      "execution_count": null,
      "outputs": []
    },
    {
      "cell_type": "code",
      "source": [
        "import collections  # 알고리즘 문제에서 많이 나옴.\n",
        "# deque문제: 페이지 교체 알고리즘, 회전 초밥 등 다양한 문제에서 활용됩니다.\n",
        "\n",
        "d = collections.deque([1, 2, 3, 4])\n",
        "d.rotate(1) # 1번 오른쪽으로 쉬프트 합니다. 숫자를 2로 바꾸어 비교해보세요.\n",
        "d # 출력: deque([4, 1, 2, 3])\n",
        "\n",
        "d = collections.deque([1, 2, 3, 4])\n",
        "d.rotate(2) # 1번 오른쪽으로 쉬프트 합니다. 숫자를 2로 바꾸어 비교해보세요.\n",
        "d # 출력: deque([4, 1, 2, 3])"
      ],
      "metadata": {
        "colab": {
          "base_uri": "https://localhost:8080/"
        },
        "id": "zbclOfFYBxrv",
        "outputId": "7f201f80-6c13-4499-af44-3a523dda993f"
      },
      "execution_count": null,
      "outputs": [
        {
          "output_type": "execute_result",
          "data": {
            "text/plain": [
              "deque([3, 4, 1, 2])"
            ]
          },
          "metadata": {},
          "execution_count": 154
        }
      ]
    },
    {
      "cell_type": "code",
      "source": [
        "c = collections.Counter('hello world')\n",
        "c # 출력: Counter({'h': 1, 'e': 1, 'l': 3, 'o': 2, ' ': 1, 'w': 1, 'r': 1, 'd': 1})\n",
        "c.most_common()\n",
        "\n",
        "# 출력:\n",
        "'''\n",
        "[('l', 3),\n",
        " ('o', 2),\n",
        " ('h', 1),\n",
        " ('e', 1),\n",
        " (' ', 1),\n",
        " ('w', 1),\n",
        " ('r', 1),\n",
        " ('d', 1)]\n",
        "'''"
      ],
      "metadata": {
        "colab": {
          "base_uri": "https://localhost:8080/",
          "height": 35
        },
        "id": "lsTxiy_xBzRT",
        "outputId": "aa5e3e56-ce00-41d4-b97e-9598377cccd8"
      },
      "execution_count": null,
      "outputs": [
        {
          "output_type": "execute_result",
          "data": {
            "text/plain": [
              "\"\\n[('l', 3),\\n ('o', 2),\\n ('h', 1),\\n ('e', 1),\\n (' ', 1),\\n ('w', 1),\\n ('r', 1),\\n ('d', 1)]\\n\""
            ],
            "application/vnd.google.colaboratory.intrinsic+json": {
              "type": "string"
            }
          },
          "metadata": {},
          "execution_count": 155
        }
      ]
    },
    {
      "cell_type": "code",
      "source": [
        "import requests\n",
        "# 정말 다양한 분야에서 사용이 됩니다. 테스트 용도로도 사용하고, 패킷 조작 등 통신에 관련된 것에 폭넓게 사용됩니다.\n",
        "\n",
        "from bs4 import BeautifulSoup\n",
        "\n",
        "paullab_url = 'https://paullab.co.kr/bookservice/'\n",
        "response = requests.get(paullab_url)\n",
        "response.encoding = 'utf-8'\n",
        "html = response.text\n",
        "\n",
        "soup = BeautifulSoup(html, 'html.parser')\n",
        "\n",
        "bookservices = soup.select('.col-lg-6 > h2') # col-lg-6 클래스 안의 h2 태그 탐색\n",
        "for no, book in enumerate(bookservices, 1):\n",
        "    print(no, book.text)"
      ],
      "metadata": {
        "colab": {
          "base_uri": "https://localhost:8080/"
        },
        "id": "t1ofTjTtCVpy",
        "outputId": "4c870f80-286b-437d-e63b-e279ba5dbd5e"
      },
      "execution_count": null,
      "outputs": [
        {
          "output_type": "stream",
          "name": "stdout",
          "text": [
            "1 메모혁신 Notion(노션) 활용 가이드\n",
            "2 이력서 작성 가이드\n",
            "3 제주코딩베이스캠프 Code Festival: Python 100제 1부\n",
            "4 튜토리얼로 배우는 HTML&CSS\n",
            "5 코딩도장 튜토리얼로 배우는 Python 1편 object\n",
            "6 코딩도장 튜토리얼로 배우는 python 2편 제어문\n",
            "7 코딩도장 튜토리얼로 배우는 Python 문제풀이\n",
            "8 타노스의 건틀릿 알고리즘 With Python\n",
            "9 xlsxwriter 튜토리얼로 배우는 Python 엑셀 프로그래밍\n",
            "10 러플 튜토리얼로 배우는 Python\n",
            "11 인공지능을 활용한 업무자동화 With Google Developers Group JEJU\n"
          ]
        }
      ]
    },
    {
      "cell_type": "markdown",
      "source": [
        "# 분위기 환기"
      ],
      "metadata": {
        "id": "YTTJlkUICk8_"
      }
    },
    {
      "cell_type": "code",
      "source": [
        "# 이 데이터를 DB에도 넣을 수 있고(import sqlite3)\n",
        "# 파일로도 생성할 수 있는데 여러 형식으로 파일로 생성해보며 얘기 나눠보도록 하겠습니다.\n",
        "with open('test.txt', 'w') as f:\n",
        "    f.write('hello world!')"
      ],
      "metadata": {
        "id": "lvGJsPNeDjVr"
      },
      "execution_count": null,
      "outputs": []
    },
    {
      "cell_type": "code",
      "source": [
        "import requests\n",
        "\n",
        "from bs4 import BeautifulSoup\n",
        "\n",
        "paullab_url = 'https://paullab.co.kr/bookservice/'\n",
        "response = requests.get(paullab_url)\n",
        "response.encoding = 'utf-8'\n",
        "html = response.text\n",
        "\n",
        "soup = BeautifulSoup(html, 'html.parser')\n"
      ],
      "metadata": {
        "colab": {
          "base_uri": "https://localhost:8080/"
        },
        "id": "KubHPj_uC9Ou",
        "outputId": "ff10e94b-052a-4ec9-e51d-8d0cd3346c7c"
      },
      "execution_count": null,
      "outputs": [
        {
          "output_type": "stream",
          "name": "stdout",
          "text": [
            "1 메모혁신 Notion(노션) 활용 가이드\n",
            "2 이력서 작성 가이드\n",
            "3 제주코딩베이스캠프 Code Festival: Python 100제 1부\n",
            "4 튜토리얼로 배우는 HTML&CSS\n",
            "5 코딩도장 튜토리얼로 배우는 Python 1편 object\n",
            "6 코딩도장 튜토리얼로 배우는 python 2편 제어문\n",
            "7 코딩도장 튜토리얼로 배우는 Python 문제풀이\n",
            "8 타노스의 건틀릿 알고리즘 With Python\n",
            "9 xlsxwriter 튜토리얼로 배우는 Python 엑셀 프로그래밍\n",
            "10 러플 튜토리얼로 배우는 Python\n",
            "11 인공지능을 활용한 업무자동화 With Google Developers Group JEJU\n"
          ]
        }
      ]
    },
    {
      "cell_type": "code",
      "source": [
        "s = ''\n",
        "bookservices = soup.select('.col-lg-6 > h2') # col-lg-6 클래스 안의 h2 태그 탐색\n",
        "for no, book in enumerate(bookservices, 1):\n",
        "    s += f'<h2>{no}. {book.text}</h2>'\n",
        "\n",
        "s\n",
        "\n",
        "with open('test.html', 'w') as f:\n",
        "    f.write(s)"
      ],
      "metadata": {
        "id": "N6CfPdxXC_cA"
      },
      "execution_count": null,
      "outputs": []
    },
    {
      "cell_type": "code",
      "source": [
        "# html로 뽑기\n",
        "s = ''\n",
        "bookservices = soup.select('.col-lg-6 > h2') # col-lg-6 클래스 안의 h2 태그 탐색\n",
        "bookcover = soup.select('.book_cover')\n",
        "\n",
        "for no, book in enumerate(zip(bookservices, bookcover), 1):\n",
        "    s += f'<h2>{no}. {book[0].text}</h2><img width=\"100px\" src=\"https://paullab.co.kr/bookservice/{book[1][\"src\"]}\"/>'\n",
        "\n",
        "with open('test.html', 'w') as f:\n",
        "    f.write(s)"
      ],
      "metadata": {
        "id": "f5PsJZSlD-hb"
      },
      "execution_count": null,
      "outputs": []
    },
    {
      "cell_type": "code",
      "source": [
        "# csv로 뽑기\n",
        "s = ''\n",
        "bookservices = soup.select('.col-lg-6 > h2') # col-lg-6 클래스 안의 h2 태그 탐색\n",
        "bookcover = soup.select('.book_cover')\n",
        "\n",
        "for no, book in enumerate(zip(bookservices, bookcover), 1):\n",
        "    s += f'{no}, {book[0].text}, \"https://paullab.co.kr/bookservice/{book[1][\"src\"]}\"\\n'\n",
        "\n",
        "with open('test.csv', 'w') as f:\n",
        "    f.write(s)"
      ],
      "metadata": {
        "id": "Mv6hZ-HWFrVV"
      },
      "execution_count": null,
      "outputs": []
    },
    {
      "cell_type": "code",
      "source": [
        "# json로 뽑기\n",
        "# {{}} 중괄호 2개가 있어야 중괄호 표현할 수 있음\n",
        "s = '['\n",
        "bookservices = soup.select('.col-lg-6 > h2') # col-lg-6 클래스 안의 h2 태그 탐색\n",
        "bookcover = soup.select('.book_cover')\n",
        "\n",
        "for no, book in enumerate(zip(bookservices, bookcover), 1):\n",
        "    s += f'{{ number: {no}, bookname: {book[0].text}}},'\n",
        "s = s[:-1] + ']'\n",
        "s"
      ],
      "metadata": {
        "colab": {
          "base_uri": "https://localhost:8080/",
          "height": 128
        },
        "id": "pBvmeBkiF5_H",
        "outputId": "b16f2d92-918d-4e07-f89d-3acaf1e91864"
      },
      "execution_count": null,
      "outputs": [
        {
          "output_type": "execute_result",
          "data": {
            "text/plain": [
              "'[{ number: 1, bookname: 메모혁신 Notion(노션) 활용 가이드},{ number: 2, bookname: 이력서 작성 가이드},{ number: 3, bookname: 제주코딩베이스캠프 Code Festival: Python 100제 1부},{ number: 4, bookname: 튜토리얼로 배우는 HTML&CSS},{ number: 5, bookname: 코딩도장 튜토리얼로 배우는 Python 1편 object},{ number: 6, bookname: 코딩도장 튜토리얼로 배우는 python 2편 제어문},{ number: 7, bookname: 코딩도장 튜토리얼로 배우는 Python 문제풀이},{ number: 8, bookname: 타노스의 건틀릿 알고리즘 With Python},{ number: 9, bookname: xlsxwriter 튜토리얼로 배우는 Python 엑셀 프로그래밍},{ number: 10, bookname: 러플 튜토리얼로 배우는 Python},{ number: 11, bookname: 인공지능을 활용한 업무자동화 With Google Developers Group JEJU}]'"
            ],
            "application/vnd.google.colaboratory.intrinsic+json": {
              "type": "string"
            }
          },
          "metadata": {},
          "execution_count": 169
        }
      ]
    },
    {
      "cell_type": "code",
      "source": [
        "# json로 뽑기\n",
        "# 따옴표가 붙지 않았는데 \\' 또는 \\\" 각각 표기해주어야 합니다.\n",
        "s = '['\n",
        "bookservices = soup.select('.col-lg-6 > h2') # col-lg-6 클래스 안의 h2 태그 탐색\n",
        "bookcover = soup.select('.book_cover')\n",
        "\n",
        "for no, book in enumerate(zip(bookservices, bookcover), 1):\n",
        "    s += f'{{number: {no}, bookname: {book[0].text}}},'\n",
        "\n",
        "s = s[:-1] + ']'\n",
        "s\n",
        "\n",
        "with open('test.json', 'w') as f:\n",
        "    f.write(s)"
      ],
      "metadata": {
        "id": "dZK8tjACG0Na"
      },
      "execution_count": null,
      "outputs": []
    },
    {
      "cell_type": "markdown",
      "source": [
        "# 예외처리"
      ],
      "metadata": {
        "id": "onJe3bUTHIn_"
      }
    },
    {
      "cell_type": "code",
      "source": [
        "print('hello')\n",
        "try:\n",
        "    s = 1/0\n",
        "    print(s)\n",
        "except:\n",
        "    print('error가 발생되었습니다!')\n",
        "print('world')"
      ],
      "metadata": {
        "colab": {
          "base_uri": "https://localhost:8080/"
        },
        "id": "7SAwAE76HhK5",
        "outputId": "340ed82c-17ec-435b-fd25-645e4fbe4c91"
      },
      "execution_count": null,
      "outputs": [
        {
          "output_type": "stream",
          "name": "stdout",
          "text": [
            "hello\n",
            "error가 발생되었습니다!\n",
            "world\n"
          ]
        }
      ]
    },
    {
      "cell_type": "code",
      "source": [
        "try:\n",
        "    # s = 1/0\n",
        "    l = []\n",
        "    l.appnd(10)\n",
        "    print(s)\n",
        "except ZeroDivisionError:\n",
        "    print('0으로 나누어졌습니다!')\n",
        "except AttributeError:\n",
        "    print('메서드 없어요!')"
      ],
      "metadata": {
        "colab": {
          "base_uri": "https://localhost:8080/"
        },
        "id": "SmQAGuMfIxu_",
        "outputId": "13a7148f-d39c-4bd1-c226-cb06ee2d7427"
      },
      "execution_count": null,
      "outputs": [
        {
          "output_type": "stream",
          "name": "stdout",
          "text": [
            "메서드 없어요!\n"
          ]
        }
      ]
    },
    {
      "cell_type": "code",
      "source": [
        "try:\n",
        "    s = 1/1 # 0에서 1로 값을 바꾸었습니다.\n",
        "    print(s)\n",
        "    l = [1, 2, 3]\n",
        "    print(l[3])\n",
        "except ZeroDivisionError:\n",
        "    print('0으로 나누어졌습니다!')\n",
        "except:\n",
        "    print('오류가 났습니다!')"
      ],
      "metadata": {
        "colab": {
          "base_uri": "https://localhost:8080/"
        },
        "id": "JmHA6ItsJdxb",
        "outputId": "91e4cef4-3ec9-4171-9c19-3d50126863ec"
      },
      "execution_count": null,
      "outputs": [
        {
          "output_type": "stream",
          "name": "stdout",
          "text": [
            "1.0\n",
            "오류가 났습니다!\n"
          ]
        }
      ]
    },
    {
      "cell_type": "code",
      "source": [
        "test = 'hello'\n",
        "\n",
        "assert test == 'hello', '애러 메시지 1' #1\n",
        "assert test == 'world', '애러 메시지 2' #2\n",
        "assert test + 3 == 5, '애러 메시지 3' #3"
      ],
      "metadata": {
        "colab": {
          "base_uri": "https://localhost:8080/",
          "height": 240
        },
        "id": "CineOMVtJnML",
        "outputId": "8b76eea3-bfd3-4536-85b1-ee0af3433195"
      },
      "execution_count": null,
      "outputs": [
        {
          "output_type": "error",
          "ename": "AssertionError",
          "evalue": "애러 메시지 2",
          "traceback": [
            "\u001b[0;31m---------------------------------------------------------------------------\u001b[0m",
            "\u001b[0;31mAssertionError\u001b[0m                            Traceback (most recent call last)",
            "\u001b[0;32m<ipython-input-175-71f97c55260d>\u001b[0m in \u001b[0;36m<cell line: 4>\u001b[0;34m()\u001b[0m\n\u001b[1;32m      2\u001b[0m \u001b[0;34m\u001b[0m\u001b[0m\n\u001b[1;32m      3\u001b[0m \u001b[0;32massert\u001b[0m \u001b[0mtest\u001b[0m \u001b[0;34m==\u001b[0m \u001b[0;34m'hello'\u001b[0m\u001b[0;34m,\u001b[0m \u001b[0;34m'애러 메시지 1'\u001b[0m \u001b[0;31m#1\u001b[0m\u001b[0;34m\u001b[0m\u001b[0;34m\u001b[0m\u001b[0m\n\u001b[0;32m----> 4\u001b[0;31m \u001b[0;32massert\u001b[0m \u001b[0mtest\u001b[0m \u001b[0;34m==\u001b[0m \u001b[0;34m'world'\u001b[0m\u001b[0;34m,\u001b[0m \u001b[0;34m'애러 메시지 2'\u001b[0m \u001b[0;31m#2\u001b[0m\u001b[0;34m\u001b[0m\u001b[0;34m\u001b[0m\u001b[0m\n\u001b[0m\u001b[1;32m      5\u001b[0m \u001b[0;32massert\u001b[0m \u001b[0mtest\u001b[0m \u001b[0;34m+\u001b[0m \u001b[0;36m3\u001b[0m \u001b[0;34m==\u001b[0m \u001b[0;36m5\u001b[0m\u001b[0;34m,\u001b[0m \u001b[0;34m'애러 메시지 3'\u001b[0m \u001b[0;31m#3\u001b[0m\u001b[0;34m\u001b[0m\u001b[0;34m\u001b[0m\u001b[0m\n",
            "\u001b[0;31mAssertionError\u001b[0m: 애러 메시지 2"
          ]
        }
      ]
    },
    {
      "cell_type": "code",
      "source": [
        "# 게시물 5개 쓰는 코드\n",
        "assert 게시물.count() == 'hello', '에러 체크 하기 위해 이렇게 많이 사용함"
      ],
      "metadata": {
        "id": "SSCQ2NJBKEmR"
      },
      "execution_count": null,
      "outputs": []
    },
    {
      "cell_type": "code",
      "source": [
        "raise\n",
        "raise ValueError\n",
        "raise ValueError('코드를 잘~~ 만들어주세요.')"
      ],
      "metadata": {
        "colab": {
          "base_uri": "https://localhost:8080/",
          "height": 221
        },
        "id": "YMdkbUl2Kd1F",
        "outputId": "a65c7d07-b257-4f77-dea3-e57e0c5d9592"
      },
      "execution_count": null,
      "outputs": [
        {
          "output_type": "error",
          "ename": "RuntimeError",
          "evalue": "No active exception to reraise",
          "traceback": [
            "\u001b[0;31m---------------------------------------------------------------------------\u001b[0m",
            "\u001b[0;31mRuntimeError\u001b[0m                              Traceback (most recent call last)",
            "\u001b[0;32m<ipython-input-177-28af4f6e9539>\u001b[0m in \u001b[0;36m<cell line: 1>\u001b[0;34m()\u001b[0m\n\u001b[0;32m----> 1\u001b[0;31m \u001b[0;32mraise\u001b[0m\u001b[0;34m\u001b[0m\u001b[0;34m\u001b[0m\u001b[0m\n\u001b[0m\u001b[1;32m      2\u001b[0m \u001b[0;32mraise\u001b[0m \u001b[0mValueError\u001b[0m\u001b[0;34m\u001b[0m\u001b[0;34m\u001b[0m\u001b[0m\n\u001b[1;32m      3\u001b[0m \u001b[0;32mraise\u001b[0m \u001b[0mValueError\u001b[0m\u001b[0;34m(\u001b[0m\u001b[0;34m'코드를 잘~~ 만들어주세요.'\u001b[0m\u001b[0;34m)\u001b[0m\u001b[0;34m\u001b[0m\u001b[0;34m\u001b[0m\u001b[0m\n",
            "\u001b[0;31mRuntimeError\u001b[0m: No active exception to reraise"
          ]
        }
      ]
    },
    {
      "cell_type": "code",
      "source": [
        "raise ValueError('코드를 잘~~ 만들어주세요.')"
      ],
      "metadata": {
        "colab": {
          "base_uri": "https://localhost:8080/",
          "height": 184
        },
        "id": "A1uoRzGzKfwU",
        "outputId": "f61954d1-09f6-4d57-d762-c1eeee5796af"
      },
      "execution_count": null,
      "outputs": [
        {
          "output_type": "error",
          "ename": "ValueError",
          "evalue": "코드를 잘~~ 만들어주세요.",
          "traceback": [
            "\u001b[0;31m---------------------------------------------------------------------------\u001b[0m",
            "\u001b[0;31mValueError\u001b[0m                                Traceback (most recent call last)",
            "\u001b[0;32m<ipython-input-178-805fbfed3b7d>\u001b[0m in \u001b[0;36m<cell line: 1>\u001b[0;34m()\u001b[0m\n\u001b[0;32m----> 1\u001b[0;31m \u001b[0;32mraise\u001b[0m \u001b[0mValueError\u001b[0m\u001b[0;34m(\u001b[0m\u001b[0;34m'코드를 잘~~ 만들어주세요.'\u001b[0m\u001b[0;34m)\u001b[0m\u001b[0;34m\u001b[0m\u001b[0;34m\u001b[0m\u001b[0m\n\u001b[0m",
            "\u001b[0;31mValueError\u001b[0m: 코드를 잘~~ 만들어주세요."
          ]
        }
      ]
    },
    {
      "cell_type": "code",
      "source": [
        "class Licat(Exception): #Exception을 상속받으면 됩니다.\n",
        "    pass\n",
        "\n",
        "raise Licat"
      ],
      "metadata": {
        "colab": {
          "base_uri": "https://localhost:8080/",
          "height": 221
        },
        "id": "uZFF3gFhKprG",
        "outputId": "29894fcd-13aa-4156-ac59-042c22268eee"
      },
      "execution_count": null,
      "outputs": [
        {
          "output_type": "error",
          "ename": "Licat",
          "evalue": "",
          "traceback": [
            "\u001b[0;31m---------------------------------------------------------------------------\u001b[0m",
            "\u001b[0;31mLicat\u001b[0m                                     Traceback (most recent call last)",
            "\u001b[0;32m<ipython-input-179-407fe47a9df4>\u001b[0m in \u001b[0;36m<cell line: 4>\u001b[0;34m()\u001b[0m\n\u001b[1;32m      2\u001b[0m     \u001b[0;32mpass\u001b[0m\u001b[0;34m\u001b[0m\u001b[0;34m\u001b[0m\u001b[0m\n\u001b[1;32m      3\u001b[0m \u001b[0;34m\u001b[0m\u001b[0m\n\u001b[0;32m----> 4\u001b[0;31m \u001b[0;32mraise\u001b[0m \u001b[0mLicat\u001b[0m\u001b[0;34m\u001b[0m\u001b[0;34m\u001b[0m\u001b[0m\n\u001b[0m",
            "\u001b[0;31mLicat\u001b[0m: "
          ]
        }
      ]
    },
    {
      "cell_type": "code",
      "source": [
        "class Licat(Exception):\n",
        "    def __init__(self):\n",
        "        super().__init__('입력된 값이 leehojun이 아닙니다.')\n",
        "\n",
        "raise Licat"
      ],
      "metadata": {
        "colab": {
          "base_uri": "https://localhost:8080/",
          "height": 221
        },
        "id": "yHNoWJubKx1l",
        "outputId": "f88713f6-e062-48bb-fb9f-f00358b23bb8"
      },
      "execution_count": null,
      "outputs": [
        {
          "output_type": "error",
          "ename": "Licat",
          "evalue": "입력된 값이 leehojun이 아닙니다.",
          "traceback": [
            "\u001b[0;31m---------------------------------------------------------------------------\u001b[0m",
            "\u001b[0;31mLicat\u001b[0m                                     Traceback (most recent call last)",
            "\u001b[0;32m<ipython-input-180-3ccee2073dff>\u001b[0m in \u001b[0;36m<cell line: 5>\u001b[0;34m()\u001b[0m\n\u001b[1;32m      3\u001b[0m         \u001b[0msuper\u001b[0m\u001b[0;34m(\u001b[0m\u001b[0;34m)\u001b[0m\u001b[0;34m.\u001b[0m\u001b[0m__init__\u001b[0m\u001b[0;34m(\u001b[0m\u001b[0;34m'입력된 값이 leehojun이 아닙니다.'\u001b[0m\u001b[0;34m)\u001b[0m\u001b[0;34m\u001b[0m\u001b[0;34m\u001b[0m\u001b[0m\n\u001b[1;32m      4\u001b[0m \u001b[0;34m\u001b[0m\u001b[0m\n\u001b[0;32m----> 5\u001b[0;31m \u001b[0;32mraise\u001b[0m \u001b[0mLicat\u001b[0m\u001b[0;34m\u001b[0m\u001b[0;34m\u001b[0m\u001b[0m\n\u001b[0m",
            "\u001b[0;31mLicat\u001b[0m: 입력된 값이 leehojun이 아닙니다."
          ]
        }
      ]
    },
    {
      "cell_type": "code",
      "source": [
        "# https://world.weniv.co.kr/ 에서 사용하고 있는 여러 애러 중 하나\n",
        "class OutOfWorld(Exception):\n",
        "    \"\"\"\n",
        "    밖으로 나갔을 때 출력하는 애러\n",
        "    \"\"\"\n",
        "\n",
        "    def __init__(self):\n",
        "        print(\"error.OutOfWorld: out of world\", type=\"error\")\n",
        "        super().__init__(\"out of world\")"
      ],
      "metadata": {
        "id": "wzg71ItpLgZ-"
      },
      "execution_count": null,
      "outputs": []
    },
    {
      "cell_type": "code",
      "source": [],
      "metadata": {
        "id": "PmtMj9fRLhNC"
      },
      "execution_count": null,
      "outputs": []
    }
  ]
}