{
  "nbformat": 4,
  "nbformat_minor": 0,
  "metadata": {
    "colab": {
      "provenance": [],
      "authorship_tag": "ABX9TyPWxHmfMlf1hNSbl7VnY9wy",
      "include_colab_link": true
    },
    "kernelspec": {
      "name": "python3",
      "display_name": "Python 3"
    },
    "language_info": {
      "name": "python"
    }
  },
  "cells": [
    {
      "cell_type": "markdown",
      "metadata": {
        "id": "view-in-github",
        "colab_type": "text"
      },
      "source": [
        "<a href=\"https://colab.research.google.com/github/mkdirlife/orm/blob/main/%EB%AA%A8%EB%91%90%EC%9D%98_%EC%97%B0%EA%B5%AC%EC%86%8C_4%EC%A3%BC%EC%B0%A8_2%EC%9D%BC_%ED%8C%8C%EC%9D%B4%EC%8D%AC%EC%8B%AC%ED%99%94.ipynb\" target=\"_parent\"><img src=\"https://colab.research.google.com/assets/colab-badge.svg\" alt=\"Open In Colab\"/></a>"
      ]
    },
    {
      "cell_type": "markdown",
      "source": [
        "# 메서드 체이닝"
      ],
      "metadata": {
        "id": "jPRLWoL8pGrz"
      }
    },
    {
      "cell_type": "code",
      "source": [
        "# 매우중요\n",
        "# 복습 꼭 해야 함\n",
        "'Hello World'.replace('Hello', 'hi').lower()\n",
        "# 그 메서드에 리턴된 값이 순차적으로 해소가 되는 방식\n",
        "# 'Hello World'.replace('Hello', 'hi') -> 'hi world'\n",
        "# 'hi world'.lower() -> 'hi world'\n",
        "'Hello World'.split()[0].lower()"
      ],
      "metadata": {
        "colab": {
          "base_uri": "https://localhost:8080/",
          "height": 35
        },
        "id": "MgnCnAkzsMH7",
        "outputId": "40d9cfe8-a30c-43b8-cdfb-8e5492e0f864"
      },
      "execution_count": null,
      "outputs": [
        {
          "output_type": "execute_result",
          "data": {
            "text/plain": [
              "'hello'"
            ],
            "application/vnd.google.colaboratory.intrinsic+json": {
              "type": "string"
            }
          },
          "metadata": {},
          "execution_count": 6
        }
      ]
    },
    {
      "cell_type": "code",
      "source": [
        "class Calculator:\n",
        "    def __init__(self, value):\n",
        "        self.value = value\n",
        "\n",
        "    def add(self, other):\n",
        "        self.value += other\n",
        "        return self\n",
        "\n",
        "    def subtract(self, other):\n",
        "        self.value -= other\n",
        "        return self\n",
        "\n",
        "    def multiply(self, other):\n",
        "        self.value *= other\n",
        "        return self\n",
        "\n",
        "    def get_value(self):\n",
        "        return self.value\n",
        "\n",
        "calc = Calculator(1)\n",
        "result = calc.add(2).subtract(1).multiply(3).get_value()\n",
        "print(result)  # 결과: 6"
      ],
      "metadata": {
        "colab": {
          "base_uri": "https://localhost:8080/"
        },
        "id": "2V-63jF0sfJC",
        "outputId": "1d94a06a-b4f0-4d76-d6f4-e08c10620341"
      },
      "execution_count": null,
      "outputs": [
        {
          "output_type": "stream",
          "name": "stdout",
          "text": [
            "6\n"
          ]
        }
      ]
    },
    {
      "cell_type": "code",
      "source": [
        "# 'hello world'.replace('hello', 'hi').upper().append()   # error append()는 list에 사용하는 함수이다."
      ],
      "metadata": {
        "colab": {
          "base_uri": "https://localhost:8080/",
          "height": 184
        },
        "id": "LxyPXvM8treM",
        "outputId": "82caf052-149b-4e20-f9da-8d9aa1f06c7b"
      },
      "execution_count": null,
      "outputs": [
        {
          "output_type": "error",
          "ename": "AttributeError",
          "evalue": "'str' object has no attribute 'append'",
          "traceback": [
            "\u001b[0;31m---------------------------------------------------------------------------\u001b[0m",
            "\u001b[0;31mAttributeError\u001b[0m                            Traceback (most recent call last)",
            "\u001b[0;32m<ipython-input-10-8fe29d5e1c54>\u001b[0m in \u001b[0;36m<cell line: 1>\u001b[0;34m()\u001b[0m\n\u001b[0;32m----> 1\u001b[0;31m \u001b[0;34m'hello world'\u001b[0m\u001b[0;34m.\u001b[0m\u001b[0mreplace\u001b[0m\u001b[0;34m(\u001b[0m\u001b[0;34m'hello'\u001b[0m\u001b[0;34m,\u001b[0m \u001b[0;34m'hi'\u001b[0m\u001b[0;34m)\u001b[0m\u001b[0;34m.\u001b[0m\u001b[0mupper\u001b[0m\u001b[0;34m(\u001b[0m\u001b[0;34m)\u001b[0m\u001b[0;34m.\u001b[0m\u001b[0mappend\u001b[0m\u001b[0;34m(\u001b[0m\u001b[0;34m)\u001b[0m\u001b[0;34m\u001b[0m\u001b[0;34m\u001b[0m\u001b[0m\n\u001b[0m",
            "\u001b[0;31mAttributeError\u001b[0m: 'str' object has no attribute 'append'"
          ]
        }
      ]
    },
    {
      "cell_type": "code",
      "source": [
        "# int\n",
        "# float\n",
        "# complex\n",
        "a = 3\n",
        "b = 3.5\n",
        "c = 3j + 1\n",
        "\n",
        "dir(a)\n",
        "dir(b)\n",
        "dir(c)\n",
        "\n",
        "# dir 해보면 아래와 같은 부분이 있다.\n",
        "# 'imag'    # 허수부\n",
        "# 'real'    # 실수부\n",
        "# 같은 class 를 상속받았음을 알 수 있다.\n",
        "complex"
      ],
      "metadata": {
        "colab": {
          "base_uri": "https://localhost:8080/"
        },
        "id": "MsUNv7CcuU_J",
        "outputId": "2a833b16-fe59-4878-eba7-41396577d6e6"
      },
      "execution_count": null,
      "outputs": [
        {
          "output_type": "execute_result",
          "data": {
            "text/plain": [
              "complex"
            ]
          },
          "metadata": {},
          "execution_count": 12
        }
      ]
    },
    {
      "cell_type": "markdown",
      "source": [
        "# 일급함수와 고차함수"
      ],
      "metadata": {
        "id": "9k7SWnA3vtSs"
      }
    },
    {
      "cell_type": "code",
      "source": [
        "# 일급 함수는 함수를 값으로 취급하는 것을 얘기합니다."
      ],
      "metadata": {
        "id": "6s1E1zqcwifg"
      },
      "execution_count": null,
      "outputs": []
    },
    {
      "cell_type": "code",
      "source": [
        "def greet(name):\n",
        "    return f'Hello, {name}'\n",
        "\n",
        "say_hello = greet\n",
        "print(say_hello(\"World\"))  # 출력: Hello, World\n"
      ],
      "metadata": {
        "colab": {
          "base_uri": "https://localhost:8080/"
        },
        "id": "KjPefK5lwxt9",
        "outputId": "b4bbfaf2-0de3-46a9-bc07-a5c46429a764"
      },
      "execution_count": null,
      "outputs": [
        {
          "output_type": "stream",
          "name": "stdout",
          "text": [
            "Hello, World\n"
          ]
        }
      ]
    },
    {
      "cell_type": "code",
      "source": [
        "p = print\n",
        "p('hello')"
      ],
      "metadata": {
        "colab": {
          "base_uri": "https://localhost:8080/"
        },
        "id": "jKWSdBNXw2w2",
        "outputId": "1a7aeced-a1bf-44e9-e24e-7f8dfb9ab386"
      },
      "execution_count": null,
      "outputs": [
        {
          "output_type": "stream",
          "name": "stdout",
          "text": [
            "hello\n"
          ]
        }
      ]
    },
    {
      "cell_type": "code",
      "source": [
        "l = [10, 20, 30]\n",
        "# l.append(100)\n",
        "add = l.append\n",
        "add(10)\n",
        "add(20)\n",
        "# 이렇게 사용할 일은 거의 없음. 그러나 변수가 너무 길 때,\n",
        "# 오타가 많이 생기는 변수일 때, 메서드 명도 길 때\n",
        "l.append(3)\n",
        "l"
      ],
      "metadata": {
        "colab": {
          "base_uri": "https://localhost:8080/"
        },
        "id": "ApCqZv25xKjD",
        "outputId": "7dad4776-90f6-4e88-932c-cbc8682ae7a2"
      },
      "execution_count": null,
      "outputs": [
        {
          "output_type": "execute_result",
          "data": {
            "text/plain": [
              "[10, 20, 30, 10, 20, 3]"
            ]
          },
          "metadata": {},
          "execution_count": 18
        }
      ]
    },
    {
      "cell_type": "code",
      "source": [
        "# 위와 같은 화살표 입니다.\n",
        "a = 10\n",
        "b = a\n",
        "c = b"
      ],
      "metadata": {
        "id": "tlWZAE-1xSDF"
      },
      "execution_count": null,
      "outputs": []
    },
    {
      "cell_type": "code",
      "source": [
        "def add(x, y):\n",
        "    return x + y\n",
        "\n",
        "def subtract(x, y):\n",
        "    return x - y\n",
        "\n",
        "funcs = [add, subtract]\n",
        "print(funcs[0](2, 3))  # 출력: 5"
      ],
      "metadata": {
        "colab": {
          "base_uri": "https://localhost:8080/"
        },
        "id": "izZpsD_0yGRq",
        "outputId": "33cfbb1d-0449-4fb6-e9bd-098d15648a2c"
      },
      "execution_count": null,
      "outputs": [
        {
          "output_type": "stream",
          "name": "stdout",
          "text": [
            "5\n"
          ]
        }
      ]
    },
    {
      "cell_type": "code",
      "source": [
        "# 우리가 실제 코딩하는 것은 여러 클래스 또는 인스턴스의 조합으로 이뤄져 있습니다.\n",
        "# Django만 하더라도 대부분의 것들이 class로 구현되어 있습니다.\n",
        "# 인스턴스나 클래스에 직접 접근하지 않고 내가 만든 변수로서 관리 할 수 있습니다.\n",
        "\n",
        "class Operator:\n",
        "    def add(self, x, y):\n",
        "        return x + y\n",
        "\n",
        "    def sub(self, x, y):\n",
        "        return x - y\n",
        "\n",
        "    def mul(self, x, y):\n",
        "        return x * y\n",
        "\n",
        "    def div(self, x, y):\n",
        "        return x / y\n",
        "\n",
        "    def _and(self, x, y):\n",
        "        pass\n",
        "\n",
        "    def _or(self, x, y):\n",
        "        pass\n",
        "\n",
        "op = Operator()\n",
        "logical_op = {\n",
        "    'add': op.add,\n",
        "    'sub': op.sub,\n",
        "    'mul': op.mul,\n",
        "    'div': op.div,\n",
        "}\n",
        "arithmetic_op = {\n",
        "    '_and': op._and,\n",
        "    '_or': op._or,\n",
        "}\n",
        "\n",
        "print(logical_op['add'](2, 3)) # 출력: 5    마치 op.add(2, 3)인 것 처럼 사용할 수 있습니다.\n",
        "print(op.add(2, 3)) # 출력: 5\n",
        "\n",
        "for _, f in logical_op.items():\n",
        "    print(f(2, 3)) # 4칙연산 모두 계산"
      ],
      "metadata": {
        "colab": {
          "base_uri": "https://localhost:8080/"
        },
        "id": "mNYXxo_eysDL",
        "outputId": "d07be74d-6ce4-44c5-9b52-408efacecc2e"
      },
      "execution_count": null,
      "outputs": [
        {
          "output_type": "stream",
          "name": "stdout",
          "text": [
            "5\n",
            "5\n",
            "5\n",
            "-1\n",
            "6\n",
            "0.6666666666666666\n"
          ]
        }
      ]
    },
    {
      "cell_type": "code",
      "source": [
        "def add(a, b):\n",
        "    return a + b\n",
        "\n",
        "add(2, 3)"
      ],
      "metadata": {
        "colab": {
          "base_uri": "https://localhost:8080/"
        },
        "id": "-rEhZa51zRJe",
        "outputId": "ba0baff1-21ff-412d-d2fa-c2dea1e24dc3"
      },
      "execution_count": null,
      "outputs": [
        {
          "output_type": "execute_result",
          "data": {
            "text/plain": [
              "5"
            ]
          },
          "metadata": {},
          "execution_count": 22
        }
      ]
    },
    {
      "cell_type": "code",
      "source": [
        "# 별표 1개 => 데코레이터를 이해하기 위해 중요한 개념입니다.\n",
        "\n",
        "def say_hello(name):\n",
        "    return f'Hello, {name}'\n",
        "\n",
        "def greet(func, name):\n",
        "    return func(name)\n",
        "\n",
        "print(greet(say_hello, 'World'))  # 출력: Hello, World"
      ],
      "metadata": {
        "id": "QK4yfPMIz5-D"
      },
      "execution_count": null,
      "outputs": []
    },
    {
      "cell_type": "code",
      "source": [
        "# 별표 1개 => 데코레이터를 이해하기 위해 중요한 개념입니다.\n",
        "\n",
        "def say_hello(name):\n",
        "    return f'Hello, {name}'\n",
        "\n",
        "def greet(func):\n",
        "    return func\n",
        "\n",
        "print(greet(say_hello)('World'))  # 출력: Hello, World"
      ],
      "metadata": {
        "colab": {
          "base_uri": "https://localhost:8080/"
        },
        "id": "JgykykKF3erM",
        "outputId": "2d23852b-5211-499d-d0ef-ade64567142c"
      },
      "execution_count": null,
      "outputs": [
        {
          "output_type": "stream",
          "name": "stdout",
          "text": [
            "Hello, World\n"
          ]
        }
      ]
    },
    {
      "cell_type": "code",
      "source": [
        "# 핵심은 함수를 리턴할 수 있다.! (데코레이터에 핵심 개념)\n",
        "# 중요한 개념: x라는 변수가 함수가 끝났는데도 불구하고 살아있다? 클로져!\n",
        "def create_adder(x):\n",
        "    def adder(y):\n",
        "        return x + y\n",
        "    return adder\n",
        "\n",
        "add_5 = create_adder(5)\n",
        "print(add_5(10))  # 출력: 15"
      ],
      "metadata": {
        "colab": {
          "base_uri": "https://localhost:8080/"
        },
        "id": "qYho6vfu3mje",
        "outputId": "03662bbd-8856-46e1-bb56-d7dc65856560"
      },
      "execution_count": null,
      "outputs": [
        {
          "output_type": "stream",
          "name": "stdout",
          "text": [
            "15\n"
          ]
        }
      ]
    },
    {
      "cell_type": "code",
      "source": [
        "# 밖에서 함수 안에 있는 값을 참조하지 못합니다.\n",
        "def f():\n",
        "    x = 10\n",
        "    y = 20\n",
        "    return x + y\n",
        "\n",
        "f()"
      ],
      "metadata": {
        "colab": {
          "base_uri": "https://localhost:8080/"
        },
        "id": "XHCobKpB4V9w",
        "outputId": "396a8476-db19-477a-f6a4-0942ae881ba8"
      },
      "execution_count": null,
      "outputs": [
        {
          "output_type": "execute_result",
          "data": {
            "text/plain": [
              "30"
            ]
          },
          "metadata": {},
          "execution_count": 33
        }
      ]
    },
    {
      "cell_type": "code",
      "source": [
        "# 안에서 함수 밖에 있는 값을 참조할 수 있습니다.\n",
        "one = 100\n",
        "def f():\n",
        "    x = one + 10\n",
        "    y = 20\n",
        "    return x + y\n",
        "\n",
        "f()"
      ],
      "metadata": {
        "colab": {
          "base_uri": "https://localhost:8080/"
        },
        "id": "dY4O8koV4a6o",
        "outputId": "eabc5cf3-069d-4906-929a-69426794c237"
      },
      "execution_count": null,
      "outputs": [
        {
          "output_type": "execute_result",
          "data": {
            "text/plain": [
              "130"
            ]
          },
          "metadata": {},
          "execution_count": 34
        }
      ]
    },
    {
      "cell_type": "code",
      "source": [
        "# 나를 감싸고 있는 곳에서 부터 변수의 값을 찾는다.\n",
        "x = 100\n",
        "def one():\n",
        "    def two():\n",
        "        def three():\n",
        "            print(x)\n",
        "        three()\n",
        "    two()\n",
        "\n",
        "one()"
      ],
      "metadata": {
        "colab": {
          "base_uri": "https://localhost:8080/"
        },
        "id": "C-p0Qj4Y418w",
        "outputId": "7cd27217-44fd-41fc-9510-baa665eb09f1"
      },
      "execution_count": null,
      "outputs": [
        {
          "output_type": "stream",
          "name": "stdout",
          "text": [
            "100\n"
          ]
        }
      ]
    },
    {
      "cell_type": "code",
      "source": [
        "def create_sq(x):\n",
        "    def sq(y):\n",
        "        return x ** y\n",
        "    return sq\n",
        "\n",
        "제곱2 = create_sq(2)    # x를 변경 불가능하게 감추기 위한 코딩 기법\n",
        "제곱3 = create_sq(3)\n",
        "제곱4 = create_sq(4)\n",
        "\n",
        "제곱2(2), 제곱2(3), 제곱2(4)\n",
        "제곱3(2), 제곱3(3), 제곱3(4)\n",
        "제곱4(2), 제곱4(3), 제곱4(4)"
      ],
      "metadata": {
        "colab": {
          "base_uri": "https://localhost:8080/"
        },
        "id": "Ejq1LaG85JhO",
        "outputId": "fd642917-3c9b-4589-9bbd-6ef481e144d6"
      },
      "execution_count": null,
      "outputs": [
        {
          "output_type": "execute_result",
          "data": {
            "text/plain": [
              "(16, 64, 256)"
            ]
          },
          "metadata": {},
          "execution_count": 37
        }
      ]
    },
    {
      "cell_type": "code",
      "source": [
        "# 여러개의 값 반환\n",
        "def add_and_subtract(x, y):\n",
        "    addition = x + y\n",
        "    subtraction = x - y\n",
        "    return addition, subtraction\n",
        "\n",
        "# 함수 호출\n",
        "result = add_and_subtract(5, 3)\n",
        "\n",
        "# 결과 출력\n",
        "print(result)  # 출력: (8, 2)\n",
        "\n",
        "a, s = result\n",
        "s"
      ],
      "metadata": {
        "colab": {
          "base_uri": "https://localhost:8080/"
        },
        "id": "3qO1uABb6qzN",
        "outputId": "a4e14690-b395-4bd6-b4cd-1ea1251e92e8"
      },
      "execution_count": null,
      "outputs": [
        {
          "output_type": "stream",
          "name": "stdout",
          "text": [
            "(8, 2)\n"
          ]
        },
        {
          "output_type": "execute_result",
          "data": {
            "text/plain": [
              "2"
            ]
          },
          "metadata": {},
          "execution_count": 39
        }
      ]
    },
    {
      "cell_type": "markdown",
      "source": [
        "# 재귀함수"
      ],
      "metadata": {
        "id": "6q4xxfrR7brB"
      }
    },
    {
      "cell_type": "code",
      "source": [
        "# 내가 나를 호출하는 함수\n",
        "# 재귀는 내가 정말 재귀에 자신있지 않다면 반복문을 사용하세요.\n",
        "# 재귀를 억지로 사용하려 하지 마세요.\n",
        "# 재귀를 잘못 사용하면 비효율의 끝판왕이 됩니다."
      ],
      "metadata": {
        "id": "h11oFsns70HV"
      },
      "execution_count": null,
      "outputs": []
    },
    {
      "cell_type": "code",
      "source": [
        "# 이런 코드를 연습해봄으로 재귀에 친숙해질 수 있습니다.\n",
        "# 분할 정복, 다이나믹 프로그래밍\n",
        "# f(5) => 5 * 4 * 3 * 2 * 1 == 120 == 5! (수학 공식으로는 5! 로 표현합니다.)\n",
        "\n",
        "def f(n):\n",
        "    if n <= 1:\n",
        "        return n\n",
        "    return n * f(n-1)\n",
        "\n",
        "f(5)\n",
        "\n",
        "for i in range(1, 6):\n",
        "    i *= i\n",
        "\n",
        "result"
      ],
      "metadata": {
        "colab": {
          "base_uri": "https://localhost:8080/"
        },
        "id": "qU2aF0TQ8JIZ",
        "outputId": "9d623487-a41e-434a-880c-2d6d3fc7b400"
      },
      "execution_count": null,
      "outputs": [
        {
          "output_type": "execute_result",
          "data": {
            "text/plain": [
              "120"
            ]
          },
          "metadata": {},
          "execution_count": 47
        }
      ]
    },
    {
      "cell_type": "code",
      "source": [
        "def 숫자출력(count):\n",
        "    if count > 100:\n",
        "        return\n",
        "    print(count)\n",
        "    return 숫자출력(count+1) #값을 1부터 반복횟수 까지의 값을 출력\n",
        "\n",
        "숫자출력(1)"
      ],
      "metadata": {
        "colab": {
          "base_uri": "https://localhost:8080/"
        },
        "id": "pFvdWLda8lXX",
        "outputId": "360cff40-eefc-4232-d4cc-94f8ca781d65"
      },
      "execution_count": null,
      "outputs": [
        {
          "output_type": "stream",
          "name": "stdout",
          "text": [
            "1\n",
            "2\n",
            "3\n",
            "4\n",
            "5\n",
            "6\n",
            "7\n",
            "8\n",
            "9\n",
            "10\n",
            "11\n",
            "12\n",
            "13\n",
            "14\n",
            "15\n",
            "16\n",
            "17\n",
            "18\n",
            "19\n",
            "20\n",
            "21\n",
            "22\n",
            "23\n",
            "24\n",
            "25\n",
            "26\n",
            "27\n",
            "28\n",
            "29\n",
            "30\n",
            "31\n",
            "32\n",
            "33\n",
            "34\n",
            "35\n",
            "36\n",
            "37\n",
            "38\n",
            "39\n",
            "40\n",
            "41\n",
            "42\n",
            "43\n",
            "44\n",
            "45\n",
            "46\n",
            "47\n",
            "48\n",
            "49\n",
            "50\n",
            "51\n",
            "52\n",
            "53\n",
            "54\n",
            "55\n",
            "56\n",
            "57\n",
            "58\n",
            "59\n",
            "60\n",
            "61\n",
            "62\n",
            "63\n",
            "64\n",
            "65\n",
            "66\n",
            "67\n",
            "68\n",
            "69\n",
            "70\n",
            "71\n",
            "72\n",
            "73\n",
            "74\n",
            "75\n",
            "76\n",
            "77\n",
            "78\n",
            "79\n",
            "80\n",
            "81\n",
            "82\n",
            "83\n",
            "84\n",
            "85\n",
            "86\n",
            "87\n",
            "88\n",
            "89\n",
            "90\n",
            "91\n",
            "92\n",
            "93\n",
            "94\n",
            "95\n",
            "96\n",
            "97\n",
            "98\n",
            "99\n",
            "100\n"
          ]
        }
      ]
    },
    {
      "cell_type": "code",
      "source": [
        "'hello'[::-1]"
      ],
      "metadata": {
        "colab": {
          "base_uri": "https://localhost:8080/",
          "height": 35
        },
        "id": "b4bcI_MW9Ia2",
        "outputId": "5c5cd467-173d-4109-c5e9-de5890630674"
      },
      "execution_count": null,
      "outputs": [
        {
          "output_type": "execute_result",
          "data": {
            "text/plain": [
              "'olleh'"
            ],
            "application/vnd.google.colaboratory.intrinsic+json": {
              "type": "string"
            }
          },
          "metadata": {},
          "execution_count": 48
        }
      ]
    },
    {
      "cell_type": "code",
      "source": [
        "s = ''\n",
        "for i in 'hello':\n",
        "    s = s + i\n",
        "\n",
        "s"
      ],
      "metadata": {
        "colab": {
          "base_uri": "https://localhost:8080/",
          "height": 35
        },
        "id": "WQzi4pPS_d2b",
        "outputId": "64d9ce26-9df1-403b-e19d-158d9f644cb6"
      },
      "execution_count": null,
      "outputs": [
        {
          "output_type": "execute_result",
          "data": {
            "text/plain": [
              "'hello'"
            ],
            "application/vnd.google.colaboratory.intrinsic+json": {
              "type": "string"
            }
          },
          "metadata": {},
          "execution_count": 49
        }
      ]
    },
    {
      "cell_type": "code",
      "source": [
        "s = ''\n",
        "for i in 'hello':\n",
        "    s = i + s\n",
        "\n",
        "s\n",
        "\n",
        "# s = 'h' + ''\n",
        "# s = 'e' + 'h'\n",
        "# s = 'l' + 'eh'\n",
        "# s = 'l' + 'leh'\n",
        "# s = 'o' + 'lleh'\n",
        "# s = 'olleh'"
      ],
      "metadata": {
        "colab": {
          "base_uri": "https://localhost:8080/",
          "height": 35
        },
        "id": "KNX32T5C_tuZ",
        "outputId": "3badb065-46fe-4f0d-ac6b-0b0f9f10f5ff"
      },
      "execution_count": null,
      "outputs": [
        {
          "output_type": "execute_result",
          "data": {
            "text/plain": [
              "'olleh'"
            ],
            "application/vnd.google.colaboratory.intrinsic+json": {
              "type": "string"
            }
          },
          "metadata": {},
          "execution_count": 51
        }
      ]
    },
    {
      "cell_type": "code",
      "source": [
        "def f(s):\n",
        "    if len(s) <= 1:\n",
        "        return s\n",
        "    else:\n",
        "        #return s[0] + f(s[1:])\n",
        "        return f(s[1:]) + s[0]\n",
        "\n",
        "# f('hello')  f('ello') + 'h'   => 'olleh'\n",
        "# f('ello')   f('llo') + 'e'    => 'olle'\n",
        "# f('llo')    f('lo') + 'l'     => 'oll'\n",
        "# f('lo')     f('o') + 'l'      => 'ol'\n",
        "# f('o')      'o'\n",
        "\n",
        "f('hello')"
      ],
      "metadata": {
        "colab": {
          "base_uri": "https://localhost:8080/",
          "height": 35
        },
        "id": "mlr2bD17_6XO",
        "outputId": "f8701315-145e-4451-d7fb-a0adaa493745"
      },
      "execution_count": null,
      "outputs": [
        {
          "output_type": "execute_result",
          "data": {
            "text/plain": [
              "'olleh'"
            ],
            "application/vnd.google.colaboratory.intrinsic+json": {
              "type": "string"
            }
          },
          "metadata": {},
          "execution_count": 58
        }
      ]
    },
    {
      "cell_type": "code",
      "source": [],
      "metadata": {
        "id": "3rssOR8gAzTg"
      },
      "execution_count": null,
      "outputs": []
    }
  ]
}