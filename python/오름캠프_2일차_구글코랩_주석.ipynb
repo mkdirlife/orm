{
  "nbformat": 4,
  "nbformat_minor": 0,
  "metadata": {
    "colab": {
      "provenance": [],
      "toc_visible": true,
      "authorship_tag": "ABX9TyMKrNweKvEW2fs1mcNI+df6",
      "include_colab_link": true
    },
    "kernelspec": {
      "name": "python3",
      "display_name": "Python 3"
    },
    "language_info": {
      "name": "python"
    }
  },
  "cells": [
    {
      "cell_type": "markdown",
      "metadata": {
        "id": "view-in-github",
        "colab_type": "text"
      },
      "source": [
        "<a href=\"https://colab.research.google.com/github/mkdirlife/orm/blob/main/%EC%98%A4%EB%A6%84%EC%BA%A0%ED%94%84_2%EC%9D%BC%EC%B0%A8_%EA%B5%AC%EA%B8%80%EC%BD%94%EB%9E%A9_%EC%A3%BC%EC%84%9D.ipynb\" target=\"_parent\"><img src=\"https://colab.research.google.com/assets/colab-badge.svg\" alt=\"Open In Colab\"/></a>"
      ]
    },
    {
      "cell_type": "markdown",
      "source": [
        "# 1.1 한줄주석\n",
        "\n",
        "한 줄 주석은 # 기호로 시작합니다. 이 기호 뒤에 따라오는 텍스트는 모두 주석으로 처리됩니다.\n",
        "\n",
        "아래처럼 입력하고 Alt + Enter를 입력하도록 하겠습니다.\n",
        "\n",
        "그러면 Hello, World 1! 과 Hello, World 2!가 출력된 것을 확인하실 수 있습니다."
      ],
      "metadata": {
        "id": "fCa44I4DDh8f"
      }
    },
    {
      "cell_type": "code",
      "execution_count": null,
      "metadata": {
        "colab": {
          "base_uri": "https://localhost:8080/"
        },
        "id": "zzEk_bqhCvga",
        "outputId": "87c83276-9141-401c-ccc7-ead2cc10e897"
      },
      "outputs": [
        {
          "output_type": "stream",
          "name": "stdout",
          "text": [
            "Hello, World 1!\n",
            "Hello, World 2!\n"
          ]
        }
      ],
      "source": [
        "# 이것은 주석입니다. (특이사항, 전체적인 것들, 업데이트 내용)\n",
        "print('Hello, World 1!') # 이것도 주석입니다. (해당 코드의 설명)\n",
        "print('Hello, World 2!')\n",
        "# print('Hello, World 2!') # 코드의 에러 / 향후 수정! / 임시 주석!"
      ]
    },
    {
      "cell_type": "markdown",
      "source": [
        "# 1.2 여러 줄 주석\n",
        "\n",
        "이번에는 여러 줄 주석을 사용하겠습니다. '''는 여러 줄 주석에 사용합니다. 여기서 주의해야 할 점이 '''는 앞뒤로 감싸주어야 한다는 것입니다.\n",
        "\n",
        "역시나 Alt + Enter를 사용해서 실행해주세요."
      ],
      "metadata": {
        "id": "zYuy6fjPD-95"
      }
    },
    {
      "cell_type": "code",
      "source": [
        "'''\n",
        "print('Hello, World 1!')\n",
        "print('Hello, World 2!')\n",
        "print('Hello, World 3!')\n",
        "'''\n",
        "print('Real Hello World')"
      ],
      "metadata": {
        "colab": {
          "base_uri": "https://localhost:8080/"
        },
        "id": "oz7oanpmE5Q0",
        "outputId": "75b568fb-4e6f-4a19-d1a9-122b8def5141"
      },
      "execution_count": null,
      "outputs": [
        {
          "output_type": "stream",
          "name": "stdout",
          "text": [
            "Real Hello World\n"
          ]
        }
      ]
    },
    {
      "cell_type": "code",
      "source": [
        "\"\"\"\n",
        "print('Hello, World 1!')\n",
        "print('Hello, World 2!')\n",
        "print('Hello, World 3!')\n",
        "\"\"\""
      ],
      "metadata": {
        "colab": {
          "base_uri": "https://localhost:8080/",
          "height": 35
        },
        "id": "lS2ntQ9AFDry",
        "outputId": "474e470f-f4ce-4d76-d141-5e201a1c8ea2"
      },
      "execution_count": null,
      "outputs": [
        {
          "output_type": "execute_result",
          "data": {
            "text/plain": [
              "\"\\nprint('Hello, World 1!')\\nprint('Hello, World 2!')\\nprint('Hello, World 3!')\\n\""
            ],
            "application/vnd.google.colaboratory.intrinsic+json": {
              "type": "string"
            }
          },
          "metadata": {},
          "execution_count": 7
        }
      ]
    }
  ]
}