{
  "nbformat": 4,
  "nbformat_minor": 0,
  "metadata": {
    "colab": {
      "provenance": [],
      "authorship_tag": "ABX9TyMk2ZHarAxtpH8SJLb/VwPY",
      "include_colab_link": true
    },
    "kernelspec": {
      "name": "python3",
      "display_name": "Python 3"
    },
    "language_info": {
      "name": "python"
    }
  },
  "cells": [
    {
      "cell_type": "markdown",
      "metadata": {
        "id": "view-in-github",
        "colab_type": "text"
      },
      "source": [
        "<a href=\"https://colab.research.google.com/github/mkdirlife/orm/blob/main/%EC%98%A4%EB%A6%84%EC%BA%A0%ED%94%84_2%EC%A3%BC%EC%B0%A8_4%EC%9D%BC_%ED%8A%9C%ED%94%8C.ipynb\" target=\"_parent\"><img src=\"https://colab.research.google.com/assets/colab-badge.svg\" alt=\"Open In Colab\"/></a>"
      ]
    },
    {
      "cell_type": "markdown",
      "source": [
        "# 튜플\n",
        "* 순서가 있는 자료형입니다.(인덱싱, 슬라이싱)\n",
        "* 참조 변경, 불가(값이 변경이 불가하다고 얘기하면 이것은 틀린 얘기입니다.)"
      ],
      "metadata": {
        "id": "eROjl95IANGs"
      }
    },
    {
      "cell_type": "code",
      "source": [
        "t = (10, 20, 30)    # 소괄호"
      ],
      "metadata": {
        "id": "cD1RqR8EAUC9"
      },
      "execution_count": null,
      "outputs": []
    },
    {
      "cell_type": "code",
      "source": [
        "t[0]"
      ],
      "metadata": {
        "colab": {
          "base_uri": "https://localhost:8080/"
        },
        "id": "xLSsbXAEC-8x",
        "outputId": "2b8e5b9f-8100-4344-d010-3f9f3c7800ab"
      },
      "execution_count": null,
      "outputs": [
        {
          "output_type": "execute_result",
          "data": {
            "text/plain": [
              "10"
            ]
          },
          "metadata": {},
          "execution_count": 2
        }
      ]
    },
    {
      "cell_type": "code",
      "source": [
        "t[1:]"
      ],
      "metadata": {
        "colab": {
          "base_uri": "https://localhost:8080/"
        },
        "id": "VbXMV3OUDArb",
        "outputId": "530dfb4e-4dad-47bf-eef0-dc5ae8126389"
      },
      "execution_count": null,
      "outputs": [
        {
          "output_type": "execute_result",
          "data": {
            "text/plain": [
              "(20, 30)"
            ]
          },
          "metadata": {},
          "execution_count": 3
        }
      ]
    },
    {
      "cell_type": "code",
      "source": [
        "# t[0] = 1000   # 불가능"
      ],
      "metadata": {
        "id": "Nrswgs9lDCI-"
      },
      "execution_count": null,
      "outputs": []
    },
    {
      "cell_type": "code",
      "source": [
        "# 왜 이런 자료형이 필요할까요?\n",
        "# * 권한과 변경불가(시큐어 코딩), 형태 고정인 자료형(딕셔너리와 같은 것)\n",
        "# 내부자 소행인 경우가 가장 많습니다.(사회공학 해킹)\n",
        "\n",
        "# 변경이 불가능 한데 왜 값이 변경이 불가하다고 얘기하면 틀린 얘기라고 했을까요?\n",
        "a = [10, 20, 30]\n",
        "b = (a, 100, 200)\n",
        "\n",
        "a[0] = 1000\n",
        "b"
      ],
      "metadata": {
        "colab": {
          "base_uri": "https://localhost:8080/"
        },
        "id": "z6Rv8CcYDFZv",
        "outputId": "eb01f6d4-d48b-432d-9fed-60c8bdf2a20d"
      },
      "execution_count": null,
      "outputs": [
        {
          "output_type": "execute_result",
          "data": {
            "text/plain": [
              "([1000, 20, 30], 100, 200)"
            ]
          },
          "metadata": {},
          "execution_count": 10
        }
      ]
    },
    {
      "cell_type": "code",
      "source": [
        "{'one': 1, 'two' : 2}.items()"
      ],
      "metadata": {
        "colab": {
          "base_uri": "https://localhost:8080/"
        },
        "id": "e12hezczEq4m",
        "outputId": "4123ed6f-e423-419a-cd82-1295fb1d4a74"
      },
      "execution_count": null,
      "outputs": [
        {
          "output_type": "execute_result",
          "data": {
            "text/plain": [
              "dict_items([('one', 1), ('two', 2)])"
            ]
          },
          "metadata": {},
          "execution_count": 11
        }
      ]
    },
    {
      "cell_type": "code",
      "source": [
        "t = (10, 20, 30)\n",
        "dir(t)"
      ],
      "metadata": {
        "colab": {
          "base_uri": "https://localhost:8080/"
        },
        "id": "Gbt5CXu0EymR",
        "outputId": "5cbd4bd2-19f3-48b4-afd7-f19aba478106"
      },
      "execution_count": null,
      "outputs": [
        {
          "output_type": "execute_result",
          "data": {
            "text/plain": [
              "['__add__',\n",
              " '__class__',\n",
              " '__class_getitem__',\n",
              " '__contains__',\n",
              " '__delattr__',\n",
              " '__dir__',\n",
              " '__doc__',\n",
              " '__eq__',\n",
              " '__format__',\n",
              " '__ge__',\n",
              " '__getattribute__',\n",
              " '__getitem__',\n",
              " '__getnewargs__',\n",
              " '__gt__',\n",
              " '__hash__',\n",
              " '__init__',\n",
              " '__init_subclass__',\n",
              " '__iter__',\n",
              " '__le__',\n",
              " '__len__',\n",
              " '__lt__',\n",
              " '__mul__',\n",
              " '__ne__',\n",
              " '__new__',\n",
              " '__reduce__',\n",
              " '__reduce_ex__',\n",
              " '__repr__',\n",
              " '__rmul__',\n",
              " '__setattr__',\n",
              " '__sizeof__',\n",
              " '__str__',\n",
              " '__subclasshook__',\n",
              " 'count',\n",
              " 'index']"
            ]
          },
          "metadata": {},
          "execution_count": 12
        }
      ]
    },
    {
      "cell_type": "code",
      "source": [
        "t.count(10) # 10의 개수를 반환\n",
        "t.index(10) # 10의 위치를 반환\n",
        "\n",
        "print(t.count(10)) # 10의 개수를 반환\n",
        "print(t.index(10)) # 10의 위치를 반환"
      ],
      "metadata": {
        "colab": {
          "base_uri": "https://localhost:8080/"
        },
        "id": "Vcx8M0p4F1SN",
        "outputId": "0f08dc70-c144-4210-b9a6-c9dc07e47dfd"
      },
      "execution_count": null,
      "outputs": [
        {
          "output_type": "stream",
          "name": "stdout",
          "text": [
            "1\n",
            "0\n"
          ]
        }
      ]
    },
    {
      "cell_type": "code",
      "source": [
        "tuple([10, 20, 30])\n",
        "\n",
        "# tuple(순회가능한 객체)\n",
        "#list(순회가능한 객체)\n",
        "\n",
        "tuple('hello world')\n",
        "list('hello world')"
      ],
      "metadata": {
        "colab": {
          "base_uri": "https://localhost:8080/"
        },
        "id": "8zlDQOlrF9a3",
        "outputId": "d9172e9d-1955-413a-dfff-b5e1eac396c1"
      },
      "execution_count": null,
      "outputs": [
        {
          "output_type": "execute_result",
          "data": {
            "text/plain": [
              "['h', 'e', 'l', 'l', 'o', ' ', 'w', 'o', 'r', 'l', 'd']"
            ]
          },
          "metadata": {},
          "execution_count": 19
        }
      ]
    },
    {
      "cell_type": "markdown",
      "source": [
        "# 딕셔너리\n",
        "\n",
        "* 순서가 있는 자료형?\n",
        "* 3.6 버전 이상은 순서가 보장됩니다.(순서가 있다 인덱스로 호출이 안된다)\n",
        "* 실무에서는 Python 버전? 요기요 => Djanggo 1.x 사용중\n",
        "  실무에서 사용하는 python 버전은 생각보다 낮습니다. 이 점 주의해주세요.\n",
        "  (신규프로젝트 하지 않는한 최신버전 쓸 일이 없다.)\n",
        "* 'key: value' 쌍으로 이뤄져 있습니다.  \n",
        "* 딕셔너리 데이터 검색은 매우 빠릅니다.\n",
        "* 딕셔너리 사용은 주의를 요합니다. 딕셔너리는 key가 업슨ㄴ 것을 호출하면 error가 납니다."
      ],
      "metadata": {
        "id": "KHphPylXGIoG"
      }
    },
    {
      "cell_type": "code",
      "source": [
        "d = {'one': '하나', 'two': '둘'}\n",
        "d['one']\n",
        "\n",
        "dir(d)"
      ],
      "metadata": {
        "colab": {
          "base_uri": "https://localhost:8080/"
        },
        "id": "gAknWnuzG4lh",
        "outputId": "92af13c7-0a9a-4816-f9bd-7a7b2445b3ee"
      },
      "execution_count": null,
      "outputs": [
        {
          "output_type": "execute_result",
          "data": {
            "text/plain": [
              "['__class__',\n",
              " '__class_getitem__',\n",
              " '__contains__',\n",
              " '__delattr__',\n",
              " '__delitem__',\n",
              " '__dir__',\n",
              " '__doc__',\n",
              " '__eq__',\n",
              " '__format__',\n",
              " '__ge__',\n",
              " '__getattribute__',\n",
              " '__getitem__',\n",
              " '__gt__',\n",
              " '__hash__',\n",
              " '__init__',\n",
              " '__init_subclass__',\n",
              " '__ior__',\n",
              " '__iter__',\n",
              " '__le__',\n",
              " '__len__',\n",
              " '__lt__',\n",
              " '__ne__',\n",
              " '__new__',\n",
              " '__or__',\n",
              " '__reduce__',\n",
              " '__reduce_ex__',\n",
              " '__repr__',\n",
              " '__reversed__',\n",
              " '__ror__',\n",
              " '__setattr__',\n",
              " '__setitem__',\n",
              " '__sizeof__',\n",
              " '__str__',\n",
              " '__subclasshook__',\n",
              " 'clear',\n",
              " 'copy',\n",
              " 'fromkeys',\n",
              " 'get',\n",
              " 'items',\n",
              " 'keys',\n",
              " 'pop',\n",
              " 'popitem',\n",
              " 'setdefault',\n",
              " 'update',\n",
              " 'values']"
            ]
          },
          "metadata": {},
          "execution_count": 34
        }
      ]
    },
    {
      "cell_type": "code",
      "source": [
        "# d['three']\n",
        "d.get('three')  # get 메서드를 사용하시길 권합니다!\n",
        "d.get('one', '없는 값입니다!')  # get 메서드를 사용하시길 권합니다!"
      ],
      "metadata": {
        "colab": {
          "base_uri": "https://localhost:8080/",
          "height": 35
        },
        "id": "41QbtndSIIUC",
        "outputId": "60700e42-548a-4503-8153-b22139a891ab"
      },
      "execution_count": null,
      "outputs": [
        {
          "output_type": "execute_result",
          "data": {
            "text/plain": [
              "'하나'"
            ],
            "application/vnd.google.colaboratory.intrinsic+json": {
              "type": "string"
            }
          },
          "metadata": {},
          "execution_count": 24
        }
      ]
    },
    {
      "cell_type": "code",
      "source": [
        "def f(x):\n",
        "    return {\n",
        "            0: '일요일',\n",
        "            1: '월요일',\n",
        "            2: '화요일',\n",
        "            3: '수요일',\n",
        "            4: '목요일',\n",
        "            5: '금요일',\n",
        "            6: '토요일',\n",
        "        }.get(x, '요일없음')\n",
        "\n",
        "f(5)"
      ],
      "metadata": {
        "colab": {
          "base_uri": "https://localhost:8080/",
          "height": 35
        },
        "id": "vxkL16lBITL0",
        "outputId": "e3512364-37c3-4e0c-d9bc-11551be72f7c"
      },
      "execution_count": null,
      "outputs": [
        {
          "output_type": "execute_result",
          "data": {
            "text/plain": [
              "'금요일'"
            ],
            "application/vnd.google.colaboratory.intrinsic+json": {
              "type": "string"
            }
          },
          "metadata": {},
          "execution_count": 27
        }
      ]
    },
    {
      "cell_type": "code",
      "source": [
        "x = 3\n",
        "{\n",
        "    0: '일요일',\n",
        "    1: '월요일',\n",
        "    2: '화요일',\n",
        "    3: '수요일',\n",
        "    4: '목요일',\n",
        "    5: '금요일',\n",
        "    6: '토요일',\n",
        "}.get(x, '요일없음')"
      ],
      "metadata": {
        "colab": {
          "base_uri": "https://localhost:8080/",
          "height": 35
        },
        "id": "Kewmi4ZpJI77",
        "outputId": "125d6690-8ed4-40ce-eb7c-6b10cd991abe"
      },
      "execution_count": null,
      "outputs": [
        {
          "output_type": "execute_result",
          "data": {
            "text/plain": [
              "'수요일'"
            ],
            "application/vnd.google.colaboratory.intrinsic+json": {
              "type": "string"
            }
          },
          "metadata": {},
          "execution_count": 28
        }
      ]
    },
    {
      "cell_type": "code",
      "source": [
        "# match 문법이 나오기 전까지 많이 사용했었습니다.\n",
        "# 지금도 많이 사용하는 문법입니다.\n",
        "# match 문법은 이런 문법이 있는지 모르시는 시니어 프로그래머 분들도 많습니다.\n",
        "\n",
        "x = 3\n",
        "\n",
        "y = {\n",
        "    0: '일요일',\n",
        "    1: '월요일',\n",
        "    2: '화요일',\n",
        "    3: '수요일',\n",
        "    4: '목요일',\n",
        "    5: '금요일',\n",
        "    6: '토요일',\n",
        "}\n",
        "\n",
        "y.get(x, '요일없음')"
      ],
      "metadata": {
        "colab": {
          "base_uri": "https://localhost:8080/",
          "height": 35
        },
        "id": "0PQKruM9JZCR",
        "outputId": "35b8eb27-b080-4fa6-f3f7-7913cae14ba6"
      },
      "execution_count": null,
      "outputs": [
        {
          "output_type": "execute_result",
          "data": {
            "text/plain": [
              "'수요일'"
            ],
            "application/vnd.google.colaboratory.intrinsic+json": {
              "type": "string"
            }
          },
          "metadata": {},
          "execution_count": 29
        }
      ]
    },
    {
      "cell_type": "code",
      "source": [
        "!python --version"
      ],
      "metadata": {
        "colab": {
          "base_uri": "https://localhost:8080/"
        },
        "id": "gxZfPIIHJrwP",
        "outputId": "f655e0ab-824c-4453-8eed-2c94e9110db7"
      },
      "execution_count": null,
      "outputs": [
        {
          "output_type": "stream",
          "name": "stdout",
          "text": [
            "Python 3.10.12\n"
          ]
        }
      ]
    },
    {
      "cell_type": "code",
      "source": [
        "d = {'one': '하나', 'two': '둘'}\n"
      ],
      "metadata": {
        "colab": {
          "base_uri": "https://localhost:8080/"
        },
        "id": "yO4PEMETJ9cU",
        "outputId": "95875c79-1540-4f58-e8cc-e1f97bf36f15"
      },
      "execution_count": null,
      "outputs": [
        {
          "output_type": "execute_result",
          "data": {
            "text/plain": [
              "['__class__',\n",
              " '__class_getitem__',\n",
              " '__contains__',\n",
              " '__delattr__',\n",
              " '__delitem__',\n",
              " '__dir__',\n",
              " '__doc__',\n",
              " '__eq__',\n",
              " '__format__',\n",
              " '__ge__',\n",
              " '__getattribute__',\n",
              " '__getitem__',\n",
              " '__gt__',\n",
              " '__hash__',\n",
              " '__init__',\n",
              " '__init_subclass__',\n",
              " '__ior__',\n",
              " '__iter__',\n",
              " '__le__',\n",
              " '__len__',\n",
              " '__lt__',\n",
              " '__ne__',\n",
              " '__new__',\n",
              " '__or__',\n",
              " '__reduce__',\n",
              " '__reduce_ex__',\n",
              " '__repr__',\n",
              " '__reversed__',\n",
              " '__ror__',\n",
              " '__setattr__',\n",
              " '__setitem__',\n",
              " '__sizeof__',\n",
              " '__str__',\n",
              " '__subclasshook__',\n",
              " 'clear',\n",
              " 'copy',\n",
              " 'fromkeys',\n",
              " 'get',\n",
              " 'items',\n",
              " 'keys',\n",
              " 'pop',\n",
              " 'popitem',\n",
              " 'setdefault',\n",
              " 'update',\n",
              " 'values']"
            ]
          },
          "metadata": {},
          "execution_count": 33
        }
      ]
    },
    {
      "cell_type": "code",
      "source": [
        "# 실제로 이와 같은 key: value 의 쌍을 게시물 저장하는 형태 등으로 사용합니다.\n",
        "\n",
        "게시물1 = {\n",
        "    'title': '파이썬이 이렇게 어려울 줄이야!!?',\n",
        "    'contents': '파이썬을 깊게 알아갈 수록 너무 재미있네요!!! 신기합니다!!',\n",
        "    'author': '이호준',\n",
        "    'image': '/hojun/2024/1/5/python.jpg',\n",
        "}"
      ],
      "metadata": {
        "id": "kpjWgUs5KHYP"
      },
      "execution_count": null,
      "outputs": []
    },
    {
      "cell_type": "code",
      "source": [
        "d = {'one': '하나', 'two': '둘'}\n",
        "dd = d\n",
        "\n",
        "id(dd), id(d)\n",
        "print(dd is d)\n",
        "\n",
        "d['one'] = 'python'\n",
        "print(dd is d)\n",
        "print(d)\n",
        "print(dd)\n",
        "\n",
        "d = {'one': '하나', 'two': '둘'}\n",
        "dd = d.copy()\n",
        "\n",
        "id(dd), id(d)\n",
        "print(dd is d)\n",
        "\n",
        "d['one'] = 'python'\n",
        "print(dd is d)\n",
        "print(d)\n",
        "print(dd)"
      ],
      "metadata": {
        "colab": {
          "base_uri": "https://localhost:8080/"
        },
        "id": "wGTWxbptK8Oe",
        "outputId": "4bb78c4f-7c22-4a2e-e070-8111bfa5c9ab"
      },
      "execution_count": null,
      "outputs": [
        {
          "output_type": "stream",
          "name": "stdout",
          "text": [
            "True\n",
            "True\n",
            "{'one': 'python', 'two': '둘'}\n",
            "{'one': 'python', 'two': '둘'}\n",
            "False\n",
            "False\n",
            "{'one': 'python', 'two': '둘'}\n",
            "{'one': '하나', 'two': '둘'}\n"
          ]
        }
      ]
    },
    {
      "cell_type": "code",
      "source": [
        "# 자주 사용하지 않습니다.\n",
        "# fromkeys 나중에 밸류 주겠다\n",
        "d = ('one', 'two', 'three')\n",
        "dict.fromkeys(d)\n",
        "dict.fromkeys(d, 'hello world')\n"
      ],
      "metadata": {
        "colab": {
          "base_uri": "https://localhost:8080/"
        },
        "id": "LJdLcZxCOCOj",
        "outputId": "88582c53-244a-4ec6-f7d7-6f41c35d1d27"
      },
      "execution_count": null,
      "outputs": [
        {
          "output_type": "execute_result",
          "data": {
            "text/plain": [
              "{'one': 'hello world', 'two': 'hello world', 'three': 'hello world'}"
            ]
          },
          "metadata": {},
          "execution_count": 47
        }
      ]
    },
    {
      "cell_type": "code",
      "source": [
        "d = {'one': '하나', 'two': '둘'}\n",
        "d.get('one')\n",
        "d.get('three', '값 없음!')\n"
      ],
      "metadata": {
        "colab": {
          "base_uri": "https://localhost:8080/",
          "height": 35
        },
        "id": "9mR42uG_Oa_a",
        "outputId": "864dae62-74d7-4bad-e691-534f720e630e"
      },
      "execution_count": null,
      "outputs": [
        {
          "output_type": "execute_result",
          "data": {
            "text/plain": [
              "'값 없음!'"
            ],
            "application/vnd.google.colaboratory.intrinsic+json": {
              "type": "string"
            }
          },
          "metadata": {},
          "execution_count": 51
        }
      ]
    },
    {
      "cell_type": "code",
      "source": [
        "d = {'one': '하나', 'two': '둘'}\n",
        "d.items()"
      ],
      "metadata": {
        "colab": {
          "base_uri": "https://localhost:8080/"
        },
        "id": "IJPMH5wROnBj",
        "outputId": "917add1e-b639-44e7-9f55-37995a9b6156"
      },
      "execution_count": null,
      "outputs": [
        {
          "output_type": "execute_result",
          "data": {
            "text/plain": [
              "dict_items([('one', '하나'), ('two', '둘')])"
            ]
          },
          "metadata": {},
          "execution_count": 56
        }
      ]
    },
    {
      "cell_type": "code",
      "source": [
        "d = {'one': '하나', 'two': '둘'}\n",
        "type(d.items())\n",
        "# d.item()[0]   # 에러 인덱싱 안됨\n",
        "# d.item()[1:]  # 에러 슬라이싱 안됨"
      ],
      "metadata": {
        "colab": {
          "base_uri": "https://localhost:8080/"
        },
        "id": "TboeQ3I1O165",
        "outputId": "ea7bd48d-24b7-4164-c36e-7049ee68ec10"
      },
      "execution_count": null,
      "outputs": [
        {
          "output_type": "execute_result",
          "data": {
            "text/plain": [
              "dict_items"
            ]
          },
          "metadata": {},
          "execution_count": 55
        }
      ]
    },
    {
      "cell_type": "code",
      "source": [
        "a, b = d.items()    # 언패킹\n",
        "a\n",
        "b"
      ],
      "metadata": {
        "colab": {
          "base_uri": "https://localhost:8080/"
        },
        "id": "ZzljLTl-PVKW",
        "outputId": "48500228-8b39-40a8-b96b-527a2dc46c8b"
      },
      "execution_count": null,
      "outputs": [
        {
          "output_type": "execute_result",
          "data": {
            "text/plain": [
              "('two', '둘')"
            ]
          },
          "metadata": {},
          "execution_count": 54
        }
      ]
    },
    {
      "cell_type": "code",
      "source": [
        "a, b = [10, 20]\n",
        "a"
      ],
      "metadata": {
        "colab": {
          "base_uri": "https://localhost:8080/"
        },
        "id": "WG-BhdDhPfBY",
        "outputId": "d062c1c4-f226-4723-e571-43e3caf7829b"
      },
      "execution_count": null,
      "outputs": [
        {
          "output_type": "execute_result",
          "data": {
            "text/plain": [
              "10"
            ]
          },
          "metadata": {},
          "execution_count": 57
        }
      ]
    },
    {
      "cell_type": "code",
      "source": [
        "for i, j in d.items():\n",
        "    print(i, j)"
      ],
      "metadata": {
        "colab": {
          "base_uri": "https://localhost:8080/"
        },
        "id": "GHBIE-5uPkX2",
        "outputId": "d1e2b81e-08c9-4f21-8122-ed72e143af22"
      },
      "execution_count": null,
      "outputs": [
        {
          "output_type": "stream",
          "name": "stdout",
          "text": [
            "one 하나\n",
            "two 둘\n"
          ]
        }
      ]
    },
    {
      "cell_type": "code",
      "source": [
        "d.keys()    # 키만 출력\n",
        "d.values()  # 밸류만 출력"
      ],
      "metadata": {
        "colab": {
          "base_uri": "https://localhost:8080/"
        },
        "id": "P48yVUXYP3xH",
        "outputId": "6849ea66-6c5c-4964-8dce-fd547625ef40"
      },
      "execution_count": null,
      "outputs": [
        {
          "output_type": "execute_result",
          "data": {
            "text/plain": [
              "dict_values(['하나', '둘'])"
            ]
          },
          "metadata": {},
          "execution_count": 61
        }
      ]
    },
    {
      "cell_type": "code",
      "source": [
        "d = {'one': '하나', 'two': '둘'}\n",
        "d.setdefault('one')\n",
        "d.setdefault('three')\n",
        "d.setdefault('four', 4) # 있으면 그 값을 출력하고, 없으면 그 값을 d에 삽입하고 4를 출력해줘!\n"
      ],
      "metadata": {
        "colab": {
          "base_uri": "https://localhost:8080/"
        },
        "id": "Znz2l-95QCV7",
        "outputId": "36386129-1214-4e84-cef2-507f65673ddb"
      },
      "execution_count": null,
      "outputs": [
        {
          "output_type": "execute_result",
          "data": {
            "text/plain": [
              "4"
            ]
          },
          "metadata": {},
          "execution_count": 69
        }
      ]
    },
    {
      "cell_type": "code",
      "source": [
        "d = {'one': '하나', 'two': '둘'}\n",
        "#d.pop()         # error\n",
        "#d.pop('three')  # error\n",
        "d"
      ],
      "metadata": {
        "colab": {
          "base_uri": "https://localhost:8080/",
          "height": 239
        },
        "id": "8uYPbgPDQrX3",
        "outputId": "8c9c1115-7abb-47f1-f368-ac0c1cb96cda"
      },
      "execution_count": null,
      "outputs": [
        {
          "output_type": "error",
          "ename": "TypeError",
          "evalue": "pop expected at least 1 argument, got 0",
          "traceback": [
            "\u001b[0;31m---------------------------------------------------------------------------\u001b[0m",
            "\u001b[0;31mTypeError\u001b[0m                                 Traceback (most recent call last)",
            "\u001b[0;32m<ipython-input-76-08b997f02aa7>\u001b[0m in \u001b[0;36m<cell line: 2>\u001b[0;34m()\u001b[0m\n\u001b[1;32m      1\u001b[0m \u001b[0md\u001b[0m \u001b[0;34m=\u001b[0m \u001b[0;34m{\u001b[0m\u001b[0;34m'one'\u001b[0m\u001b[0;34m:\u001b[0m \u001b[0;34m'하나'\u001b[0m\u001b[0;34m,\u001b[0m \u001b[0;34m'two'\u001b[0m\u001b[0;34m:\u001b[0m \u001b[0;34m'둘'\u001b[0m\u001b[0;34m}\u001b[0m\u001b[0;34m\u001b[0m\u001b[0;34m\u001b[0m\u001b[0m\n\u001b[0;32m----> 2\u001b[0;31m \u001b[0md\u001b[0m\u001b[0;34m.\u001b[0m\u001b[0mpop\u001b[0m\u001b[0;34m(\u001b[0m\u001b[0;34m)\u001b[0m         \u001b[0;31m# error\u001b[0m\u001b[0;34m\u001b[0m\u001b[0;34m\u001b[0m\u001b[0m\n\u001b[0m\u001b[1;32m      3\u001b[0m \u001b[0md\u001b[0m\u001b[0;34m.\u001b[0m\u001b[0mpop\u001b[0m\u001b[0;34m(\u001b[0m\u001b[0;34m'three'\u001b[0m\u001b[0;34m)\u001b[0m  \u001b[0;31m# error\u001b[0m\u001b[0;34m\u001b[0m\u001b[0;34m\u001b[0m\u001b[0m\n\u001b[1;32m      4\u001b[0m \u001b[0md\u001b[0m\u001b[0;34m\u001b[0m\u001b[0;34m\u001b[0m\u001b[0m\n",
            "\u001b[0;31mTypeError\u001b[0m: pop expected at least 1 argument, got 0"
          ]
        }
      ]
    },
    {
      "cell_type": "code",
      "source": [
        "d = {'one': '하나', 'two': '둘'}\n",
        "d.popitem() # 없는 코드를 많이 보게 되실 겁니다. 순서가 보장되지 않으니 마지막이 뭔지 모름. 주의해서 사용해야할 문법"
      ],
      "metadata": {
        "colab": {
          "base_uri": "https://localhost:8080/"
        },
        "id": "bzAUCWpuRK1_",
        "outputId": "4b53c68f-3811-4e20-d8f8-941fe935eeb6"
      },
      "execution_count": null,
      "outputs": [
        {
          "output_type": "execute_result",
          "data": {
            "text/plain": [
              "('two', '둘')"
            ]
          },
          "metadata": {},
          "execution_count": 77
        }
      ]
    },
    {
      "cell_type": "code",
      "source": [
        "d = {'one': '하나', 'two': '둘'}\n",
        "d.update({'one': 'python', 'three': 'hello'})   # one은 수정이 되었고, three는 생성이 되었습니다.\n",
        "d"
      ],
      "metadata": {
        "colab": {
          "base_uri": "https://localhost:8080/"
        },
        "id": "s0TTOqWrNdSI",
        "outputId": "321de44a-ab93-4ae1-babf-6bcdaed0b3e3"
      },
      "execution_count": null,
      "outputs": [
        {
          "output_type": "execute_result",
          "data": {
            "text/plain": [
              "{'one': 'python', 'two': '둘', 'three': 'hello'}"
            ]
          },
          "metadata": {},
          "execution_count": 81
        }
      ]
    },
    {
      "cell_type": "code",
      "source": [
        "# 신규문법!!(3.9)\n",
        "d = {'one': '하나', 'two': '둘'}\n",
        "dd = {'three': '셋'}\n",
        "\n",
        "#d + dd\n",
        "d | dd  # 책 사서 봐도 잘 안 나오는 문법입니다."
      ],
      "metadata": {
        "colab": {
          "base_uri": "https://localhost:8080/"
        },
        "id": "dBT7X-r8RccC",
        "outputId": "50f5039a-6010-4d5e-b2bf-f5a400903ec6"
      },
      "execution_count": null,
      "outputs": [
        {
          "output_type": "execute_result",
          "data": {
            "text/plain": [
              "{'one': '하나', 'two': '둘', 'three': '셋'}"
            ]
          },
          "metadata": {},
          "execution_count": 83
        }
      ]
    },
    {
      "cell_type": "code",
      "source": [
        "d = {'one': '하나', 'two': '둘'}\n",
        "dd = {'one': \"python\", 'three': '셋'}\n",
        "d | dd"
      ],
      "metadata": {
        "colab": {
          "base_uri": "https://localhost:8080/"
        },
        "id": "0SFJ0OivSKFn",
        "outputId": "e517d8a9-9d71-4f8b-b09e-b7bbffa12ce2"
      },
      "execution_count": null,
      "outputs": [
        {
          "output_type": "execute_result",
          "data": {
            "text/plain": [
              "{'one': 'python', 'two': '둘', 'three': '셋'}"
            ]
          },
          "metadata": {},
          "execution_count": 85
        }
      ]
    },
    {
      "cell_type": "markdown",
      "source": [
        "# 셋\n",
        "\n",
        "* 중복을 허락하지 않는 자료형입니다.\n",
        "* 순서가 없는 자료형입니다. (특정 값까지만 순서가 보장됨. 순서가 없다고 생각하고 코딩할 것)\n",
        "* 집합(합집합, 차집합, 교집홥)"
      ],
      "metadata": {
        "id": "GKyX5rw0R4H9"
      }
    },
    {
      "cell_type": "code",
      "source": [
        "s = {1, 2, 3, 4, 5}\n",
        "ss = {3, 4, 5, 6, 7}\n",
        "\n",
        "# s + ss    # error\n",
        "s | ss  # 합집합\n",
        "s - ss  # 차집합\n",
        "s & ss  # 교집합\n",
        "\n",
        "print(s | ss, s - ss, s & ss)\n"
      ],
      "metadata": {
        "colab": {
          "base_uri": "https://localhost:8080/"
        },
        "id": "oKMfsxMJSp4c",
        "outputId": "6fd14e90-1a11-4cab-b693-bf4d139e76ce"
      },
      "execution_count": null,
      "outputs": [
        {
          "output_type": "stream",
          "name": "stdout",
          "text": [
            "{1, 2, 3, 4, 5, 6, 7} {1, 2} {3, 4, 5}\n"
          ]
        }
      ]
    },
    {
      "cell_type": "code",
      "source": [
        "s.add(10)\n",
        "s"
      ],
      "metadata": {
        "colab": {
          "base_uri": "https://localhost:8080/"
        },
        "id": "rOB4n9OJTRNt",
        "outputId": "127ef984-f0bc-4121-b735-f22f21c91676"
      },
      "execution_count": null,
      "outputs": [
        {
          "output_type": "execute_result",
          "data": {
            "text/plain": [
              "{1, 2, 3, 4, 5, 10}"
            ]
          },
          "metadata": {},
          "execution_count": 89
        }
      ]
    },
    {
      "cell_type": "code",
      "source": [
        "type(s), dir(s)"
      ],
      "metadata": {
        "colab": {
          "base_uri": "https://localhost:8080/"
        },
        "id": "aX4Flti0Tt50",
        "outputId": "c5c912c2-b1ff-4667-9112-e3b41de06163"
      },
      "execution_count": null,
      "outputs": [
        {
          "output_type": "execute_result",
          "data": {
            "text/plain": [
              "(set,\n",
              " ['__and__',\n",
              "  '__class__',\n",
              "  '__class_getitem__',\n",
              "  '__contains__',\n",
              "  '__delattr__',\n",
              "  '__dir__',\n",
              "  '__doc__',\n",
              "  '__eq__',\n",
              "  '__format__',\n",
              "  '__ge__',\n",
              "  '__getattribute__',\n",
              "  '__gt__',\n",
              "  '__hash__',\n",
              "  '__iand__',\n",
              "  '__init__',\n",
              "  '__init_subclass__',\n",
              "  '__ior__',\n",
              "  '__isub__',\n",
              "  '__iter__',\n",
              "  '__ixor__',\n",
              "  '__le__',\n",
              "  '__len__',\n",
              "  '__lt__',\n",
              "  '__ne__',\n",
              "  '__new__',\n",
              "  '__or__',\n",
              "  '__rand__',\n",
              "  '__reduce__',\n",
              "  '__reduce_ex__',\n",
              "  '__repr__',\n",
              "  '__ror__',\n",
              "  '__rsub__',\n",
              "  '__rxor__',\n",
              "  '__setattr__',\n",
              "  '__sizeof__',\n",
              "  '__str__',\n",
              "  '__sub__',\n",
              "  '__subclasshook__',\n",
              "  '__xor__',\n",
              "  'add',\n",
              "  'clear',\n",
              "  'copy',\n",
              "  'difference',\n",
              "  'difference_update',\n",
              "  'discard',\n",
              "  'intersection',\n",
              "  'intersection_update',\n",
              "  'isdisjoint',\n",
              "  'issubset',\n",
              "  'issuperset',\n",
              "  'pop',\n",
              "  'remove',\n",
              "  'symmetric_difference',\n",
              "  'symmetric_difference_update',\n",
              "  'union',\n",
              "  'update'])"
            ]
          },
          "metadata": {},
          "execution_count": 90
        }
      ]
    },
    {
      "cell_type": "code",
      "source": [
        "s.difference(ss)    # 차집합"
      ],
      "metadata": {
        "colab": {
          "base_uri": "https://localhost:8080/"
        },
        "id": "_-JPE5YlUOyb",
        "outputId": "58cf1b2d-7f06-461f-ae50-b2aa3f10fdf5"
      },
      "execution_count": null,
      "outputs": [
        {
          "output_type": "execute_result",
          "data": {
            "text/plain": [
              "{1, 2, 10}"
            ]
          },
          "metadata": {},
          "execution_count": 92
        }
      ]
    },
    {
      "cell_type": "code",
      "source": [
        "s.intersection(ss)  # 교집합"
      ],
      "metadata": {
        "colab": {
          "base_uri": "https://localhost:8080/"
        },
        "id": "TmuLY-8BUK4m",
        "outputId": "f92413ee-cd55-4a37-ec47-9e9696458aff"
      },
      "execution_count": null,
      "outputs": [
        {
          "output_type": "execute_result",
          "data": {
            "text/plain": [
              "{3, 4, 5}"
            ]
          },
          "metadata": {},
          "execution_count": 93
        }
      ]
    },
    {
      "cell_type": "code",
      "source": [
        "s.union(ss)     # 합집합"
      ],
      "metadata": {
        "colab": {
          "base_uri": "https://localhost:8080/"
        },
        "id": "5dYAAFr5UXGH",
        "outputId": "b50de957-5475-4a43-b4f5-8e91a5e46e7a"
      },
      "execution_count": null,
      "outputs": [
        {
          "output_type": "execute_result",
          "data": {
            "text/plain": [
              "{1, 2, 3, 4, 5, 6, 7, 10}"
            ]
          },
          "metadata": {},
          "execution_count": 94
        }
      ]
    },
    {
      "cell_type": "code",
      "source": [
        "set('123123123')    # 중복제거"
      ],
      "metadata": {
        "colab": {
          "base_uri": "https://localhost:8080/"
        },
        "id": "CDZuTp57UbDT",
        "outputId": "b1ba7b73-ae76-4e5b-9f30-d09edf17a1d0"
      },
      "execution_count": null,
      "outputs": [
        {
          "output_type": "execute_result",
          "data": {
            "text/plain": [
              "{'1', '2', '3'}"
            ]
          },
          "metadata": {},
          "execution_count": 95
        }
      ]
    },
    {
      "cell_type": "markdown",
      "source": [
        "# sum"
      ],
      "metadata": {
        "id": "8Hho6qO3XOgj"
      }
    },
    {
      "cell_type": "code",
      "source": [
        "# map은 너무나 중요해서 반복할것\n",
        "# 중복 제거한 값을 더하는 용도로 아래와 같이 사용하는 코드\n",
        "sum(map(int, set('123123123')))"
      ],
      "metadata": {
        "colab": {
          "base_uri": "https://localhost:8080/"
        },
        "id": "iZDQEO_XU46y",
        "outputId": "ea751c4c-723d-48f2-d02b-2fd59e6b590b"
      },
      "execution_count": null,
      "outputs": [
        {
          "output_type": "execute_result",
          "data": {
            "text/plain": [
              "6"
            ]
          },
          "metadata": {},
          "execution_count": 96
        }
      ]
    },
    {
      "cell_type": "code",
      "source": [
        "sum([1, 2, 3])"
      ],
      "metadata": {
        "colab": {
          "base_uri": "https://localhost:8080/"
        },
        "id": "Vv5NtFt2VFcw",
        "outputId": "a5a6de23-b2ac-490b-8e17-67e73eb69926"
      },
      "execution_count": null,
      "outputs": [
        {
          "output_type": "execute_result",
          "data": {
            "text/plain": [
              "6"
            ]
          },
          "metadata": {},
          "execution_count": 97
        }
      ]
    },
    {
      "cell_type": "code",
      "source": [
        "sum({10, 20, 30})"
      ],
      "metadata": {
        "colab": {
          "base_uri": "https://localhost:8080/"
        },
        "id": "P7827j1zVLnk",
        "outputId": "225dec7c-510e-409c-bad6-3121a56de460"
      },
      "execution_count": null,
      "outputs": [
        {
          "output_type": "execute_result",
          "data": {
            "text/plain": [
              "60"
            ]
          },
          "metadata": {},
          "execution_count": 98
        }
      ]
    },
    {
      "cell_type": "code",
      "source": [
        "map(int, set('123123123'))\n",
        "# {'1', '2', '3'} => {1, 2, 3}"
      ],
      "metadata": {
        "colab": {
          "base_uri": "https://localhost:8080/"
        },
        "id": "njHCor8zVOz_",
        "outputId": "c94d2597-8e08-4f9e-dd44-7ef38f7bbb6e"
      },
      "execution_count": null,
      "outputs": [
        {
          "output_type": "execute_result",
          "data": {
            "text/plain": [
              "<map at 0x7d0d0a137280>"
            ]
          },
          "metadata": {},
          "execution_count": 99
        }
      ]
    },
    {
      "cell_type": "code",
      "source": [
        "sum({10, 20, 30})"
      ],
      "metadata": {
        "colab": {
          "base_uri": "https://localhost:8080/"
        },
        "id": "_i6Lw8UqVR2t",
        "outputId": "456c43d2-d115-46fe-b216-3dabebfc9d65"
      },
      "execution_count": null,
      "outputs": [
        {
          "output_type": "execute_result",
          "data": {
            "text/plain": [
              "60"
            ]
          },
          "metadata": {},
          "execution_count": 102
        }
      ]
    },
    {
      "cell_type": "code",
      "source": [
        "# error\n",
        "# sum(10, 20, 30)\n",
        "# sum([10, 20], [10, 20], [10, 20])"
      ],
      "metadata": {
        "id": "sKijIwpzV-bJ"
      },
      "execution_count": null,
      "outputs": []
    },
    {
      "cell_type": "code",
      "source": [
        "# sum(순회가능한 객체, 초깃값)\n",
        "sum([10, 20, 30], 100)"
      ],
      "metadata": {
        "colab": {
          "base_uri": "https://localhost:8080/"
        },
        "id": "gWrGzxSqWPrf",
        "outputId": "800eb71b-8663-491f-d1b8-fb38ec3f015b"
      },
      "execution_count": null,
      "outputs": [
        {
          "output_type": "execute_result",
          "data": {
            "text/plain": [
              "160"
            ]
          },
          "metadata": {},
          "execution_count": 104
        }
      ]
    },
    {
      "cell_type": "code",
      "source": [
        "sum([[10, 20], [30, 40], [50, 60]], [])  # 평탄화 작업\n",
        "# [] + [10, 20]\n",
        "# [10, 20] + [30, 40]"
      ],
      "metadata": {
        "colab": {
          "base_uri": "https://localhost:8080/"
        },
        "id": "G_fsVLAfWUTy",
        "outputId": "237f8a15-0313-42f9-d85c-cbb03b8cc75e"
      },
      "execution_count": null,
      "outputs": [
        {
          "output_type": "execute_result",
          "data": {
            "text/plain": [
              "[10, 20, 30, 40, 50, 60]"
            ]
          },
          "metadata": {},
          "execution_count": 108
        }
      ]
    },
    {
      "cell_type": "code",
      "source": [
        "sum(sum([[10, 20], [30, 40], [50, 60]], []))"
      ],
      "metadata": {
        "colab": {
          "base_uri": "https://localhost:8080/"
        },
        "id": "ZeG4vo-QWgqI",
        "outputId": "c086fc1d-b5d4-4676-84d0-91457cfc3079"
      },
      "execution_count": null,
      "outputs": [
        {
          "output_type": "execute_result",
          "data": {
            "text/plain": [
              "210"
            ]
          },
          "metadata": {},
          "execution_count": 109
        }
      ]
    },
    {
      "cell_type": "markdown",
      "source": [
        "# in"
      ],
      "metadata": {
        "id": "ECiNOQKVXESO"
      }
    },
    {
      "cell_type": "code",
      "source": [
        "'h' in 'hello'"
      ],
      "metadata": {
        "colab": {
          "base_uri": "https://localhost:8080/"
        },
        "id": "Uz7IePoiXS05",
        "outputId": "6373a201-be82-47fb-b673-cca44662ccc1"
      },
      "execution_count": null,
      "outputs": [
        {
          "output_type": "execute_result",
          "data": {
            "text/plain": [
              "True"
            ]
          },
          "metadata": {},
          "execution_count": 110
        }
      ]
    },
    {
      "cell_type": "code",
      "source": [
        "x = 10\n",
        "x in [10, 20, 30, 40, 50]"
      ],
      "metadata": {
        "colab": {
          "base_uri": "https://localhost:8080/"
        },
        "id": "RsPCYugEXVF5",
        "outputId": "e859e0ab-4ff2-41b3-8e3b-2734228361e2"
      },
      "execution_count": null,
      "outputs": [
        {
          "output_type": "execute_result",
          "data": {
            "text/plain": [
              "True"
            ]
          },
          "metadata": {},
          "execution_count": 111
        }
      ]
    },
    {
      "cell_type": "code",
      "source": [
        "# in 은 값만 비교함 is연산이 아님.\n",
        "x = [10, 20, 30]\n",
        "x in [[10, 20, 40], [10, 20, 30], [50, 40, 20]]"
      ],
      "metadata": {
        "colab": {
          "base_uri": "https://localhost:8080/"
        },
        "id": "Fu4mTJnFXXoI",
        "outputId": "1724925c-cd0e-4f97-e688-8b937bc72597"
      },
      "execution_count": null,
      "outputs": [
        {
          "output_type": "execute_result",
          "data": {
            "text/plain": [
              "True"
            ]
          },
          "metadata": {},
          "execution_count": 112
        }
      ]
    },
    {
      "cell_type": "code",
      "source": [
        "s = {1, 2, 3}\n",
        "1 in s"
      ],
      "metadata": {
        "colab": {
          "base_uri": "https://localhost:8080/"
        },
        "id": "qRRMSx_UXuWk",
        "outputId": "2be97653-510e-4afe-8ab2-1b8f132f337e"
      },
      "execution_count": null,
      "outputs": [
        {
          "output_type": "execute_result",
          "data": {
            "text/plain": [
              "True"
            ]
          },
          "metadata": {},
          "execution_count": 113
        }
      ]
    },
    {
      "cell_type": "code",
      "source": [
        "1 not in s"
      ],
      "metadata": {
        "colab": {
          "base_uri": "https://localhost:8080/"
        },
        "id": "kZMfwQ_uX5VO",
        "outputId": "91d07b0f-1c2a-4d86-ac09-03c6c2fd5153"
      },
      "execution_count": null,
      "outputs": [
        {
          "output_type": "execute_result",
          "data": {
            "text/plain": [
              "False"
            ]
          },
          "metadata": {},
          "execution_count": 114
        }
      ]
    },
    {
      "cell_type": "markdown",
      "source": [
        "# and, or, not 단락평가\n"
      ],
      "metadata": {
        "id": "IBsWgPz7YAxx"
      }
    },
    {
      "cell_type": "code",
      "source": [
        "1 and 100"
      ],
      "metadata": {
        "colab": {
          "base_uri": "https://localhost:8080/"
        },
        "id": "yhRZa0BRYRYL",
        "outputId": "9dd4da70-e3b0-413d-983b-5a45ea35974b"
      },
      "execution_count": null,
      "outputs": [
        {
          "output_type": "execute_result",
          "data": {
            "text/plain": [
              "100"
            ]
          },
          "metadata": {},
          "execution_count": 115
        }
      ]
    },
    {
      "cell_type": "code",
      "source": [
        "user_id = 'leehojun'\n",
        "\n",
        "user_id = user_id or '아이디 없음'\n",
        "user_id"
      ],
      "metadata": {
        "colab": {
          "base_uri": "https://localhost:8080/",
          "height": 35
        },
        "id": "_I6X4-gjYSrl",
        "outputId": "b1ffcf58-cf23-4fed-bd88-ffd43b644fa3"
      },
      "execution_count": null,
      "outputs": [
        {
          "output_type": "execute_result",
          "data": {
            "text/plain": [
              "'leehojun'"
            ],
            "application/vnd.google.colaboratory.intrinsic+json": {
              "type": "string"
            }
          },
          "metadata": {},
          "execution_count": 118
        }
      ]
    },
    {
      "cell_type": "code",
      "source": [
        "False and 1/0"
      ],
      "metadata": {
        "colab": {
          "base_uri": "https://localhost:8080/"
        },
        "id": "0_982sEuYcDd",
        "outputId": "caf7663d-411e-4fa0-a083-ad84fd444f16"
      },
      "execution_count": null,
      "outputs": [
        {
          "output_type": "execute_result",
          "data": {
            "text/plain": [
              "False"
            ]
          },
          "metadata": {},
          "execution_count": 119
        }
      ]
    },
    {
      "cell_type": "code",
      "source": [
        "# 프로젝트 정보와 할당된 작업을 담은 튜플\n",
        "projects = (\n",
        "    ('Project A', ['Task 1', 'Task 2']),\n",
        "    ('Project B', ['Task 3', 'Task 4'])\n",
        ")\n",
        "\n",
        "# 특정 프로젝트에 새로운 작업 추가\n",
        "def add_task_to_project(project_name, task):\n",
        "    for project in projects:\n",
        "        if project[0] == project_name:\n",
        "            project[1].append(task)\n",
        "            break\n",
        "\n",
        "# 'Project A'에 새 작업 추가\n",
        "add_task_to_project('Project A', 'Task 5')\n",
        "\n",
        "# 결과 출력\n",
        "print(\"업데이트된 프로젝트 정보:\", projects)\n"
      ],
      "metadata": {
        "id": "i83rCsmUYn4Y",
        "colab": {
          "base_uri": "https://localhost:8080/"
        },
        "outputId": "9d4eeb1c-0712-4167-e14d-093f9d9edbbf"
      },
      "execution_count": null,
      "outputs": [
        {
          "output_type": "stream",
          "name": "stdout",
          "text": [
            "업데이트된 프로젝트 정보: (('Project A', ['Task 1', 'Task 2', 'Task 5']), ('Project B', ['Task 3', 'Task 4']))\n"
          ]
        }
      ]
    },
    {
      "cell_type": "code",
      "source": [
        "# 사용자 프로필 정보\n",
        "user_profiles = {\n",
        "    'user1': {'이름': 'Alice', '나이': 30},\n",
        "    'user2': {'이름': 'Bob', '나이': 25}\n",
        "}\n",
        "\n",
        "# 새로운 사용자 추가\n",
        "new_profile = {'user3': {'이름': 'Clara', '나이': 28}}\n",
        "user_profiles.update(new_profile)\n",
        "\n",
        "# 사용자 나이 변경 시도 및 기본값 설정\n",
        "for user_id, profile in user_profiles.items():\n",
        "    # 나이를 1년 증가\n",
        "    profile['나이'] += 1\n",
        "    # '직업' 키가 없으면 '미정'으로 설정\n",
        "    profile.setdefault('직업', '미정')\n",
        "\n",
        "# 사용자 프로필 출력\n",
        "for user_id, profile in user_profiles.items():\n",
        "    print(f\"{user_id}: 이름={profile.get('이름')}, 나이={profile.get('나이')}, 직업={profile.get('직업')}\")\n",
        "\n",
        "print(user_profiles)\n"
      ],
      "metadata": {
        "colab": {
          "base_uri": "https://localhost:8080/"
        },
        "id": "E-abRx5guFAR",
        "outputId": "58c043eb-50e1-4f06-c2b2-ab7b7362bcd3"
      },
      "execution_count": null,
      "outputs": [
        {
          "output_type": "stream",
          "name": "stdout",
          "text": [
            "user1: 이름=Alice, 나이=31, 직업=미정\n",
            "user2: 이름=Bob, 나이=26, 직업=미정\n",
            "user3: 이름=Clara, 나이=29, 직업=미정\n",
            "{'user1': {'이름': 'Alice', '나이': 31, '직업': '미정'}, 'user2': {'이름': 'Bob', '나이': 26, '직업': '미정'}, 'user3': {'이름': 'Clara', '나이': 29, '직업': '미정'}}\n"
          ]
        }
      ]
    },
    {
      "cell_type": "code",
      "source": [
        "# 사용자 프로필 정보\n",
        "user_profiles = {\n",
        "    'user1': {'이름': 'Alice', '나이': 30},\n",
        "    'user2': {'이름': 'Bob', '나이': 25}\n",
        "}\n",
        "\n",
        "# 새로운 사용자 추가\n",
        "new_profile = {'user3': {'이름': 'Clara', '나이': 28}}\n",
        "user_profiles.update(new_profile)\n",
        "\n",
        "# 사용자 나이 변경 시도 및 기본값 설정\n",
        "for user_id, profile in user_profiles.items():\n",
        "    # 나이를 1년 증가\n",
        "    profile['나이'] += 1\n",
        "    # '직업' 키가 없으면 '미정'으로 설정\n",
        "    profile.setdefault('직업', '미정')\n",
        "\n",
        "# 사용자 프로필 출력\n",
        "for user_id, profile in user_profiles.items():\n",
        "    print(f\"{user_id}: 이름={profile.get('이름')}, 나이={profile.get('나이')}, 직업={profile.get('직업')}\")\n"
      ],
      "metadata": {
        "colab": {
          "base_uri": "https://localhost:8080/"
        },
        "id": "fEy1tTQ4x3zW",
        "outputId": "f87b4909-9efe-465a-f6f6-a0f99adf4e13"
      },
      "execution_count": null,
      "outputs": [
        {
          "output_type": "stream",
          "name": "stdout",
          "text": [
            "user1: 이름=Alice, 나이=31, 직업=미정\n",
            "user2: 이름=Bob, 나이=26, 직업=미정\n",
            "user3: 이름=Clara, 나이=29, 직업=미정\n"
          ]
        }
      ]
    },
    {
      "cell_type": "code",
      "source": [
        "import random\n",
        "\n",
        "# 사용자 ID 목록과 랜덤 선택을 위한 None 추가\n",
        "user_ids = ['user1', 'user2', 'user3', None]\n",
        "is_admin = random.choice([True, False])  # 임의로 관리자 여부 설정\n",
        "\n",
        "# 랜덤으로 하나의 사용자 ID 선택\n",
        "selected_user_id = random.choice(user_ids)\n",
        "\n",
        "# 로그인 상태 설정 (ID가 있으면 로그인 성공으로 가정)\n",
        "logged_in = bool(selected_user_id)\n",
        "\n",
        "# 로그인 상태와 관리자 여부 확인\n",
        "if logged_in and is_admin:\n",
        "    print(f\"관리자로 로그인 성공! 사용자 ID: {selected_user_id}\")\n",
        "elif logged_in and not is_admin:\n",
        "    print(f\"일반 사용자로 로그인 성공! 사용자 ID: {selected_user_id}\")\n",
        "else:\n",
        "    print(\"로그인 실패. 사용자 ID가 없거나 잘못된 접근입니다.\")\n",
        "\n",
        "# 사용자 ID가 없거나 관리자가 아닌 경우 추가 메시지 출력\n",
        "if not selected_user_id:\n",
        "    print(\"추가 조치가 필요합니다.\")\n"
      ],
      "metadata": {
        "colab": {
          "base_uri": "https://localhost:8080/"
        },
        "id": "M_-1n87U0v52",
        "outputId": "cc03d9e9-d6d8-4bc2-ffb4-25c96fd28c9c"
      },
      "execution_count": null,
      "outputs": [
        {
          "output_type": "stream",
          "name": "stdout",
          "text": [
            "로그인 실패. 사용자 ID가 없거나 잘못된 접근입니다.\n",
            "추가 조치가 필요합니다.\n"
          ]
        }
      ]
    },
    {
      "cell_type": "code",
      "source": [],
      "metadata": {
        "id": "YEq6NA7F64yB"
      },
      "execution_count": null,
      "outputs": []
    }
  ]
}