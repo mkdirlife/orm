{
  "nbformat": 4,
  "nbformat_minor": 0,
  "metadata": {
    "colab": {
      "provenance": [],
      "authorship_tag": "ABX9TyOJGkF5NSi2GEhR6R6wVqJk",
      "include_colab_link": true
    },
    "kernelspec": {
      "name": "python3",
      "display_name": "Python 3"
    },
    "language_info": {
      "name": "python"
    }
  },
  "cells": [
    {
      "cell_type": "markdown",
      "metadata": {
        "id": "view-in-github",
        "colab_type": "text"
      },
      "source": [
        "<a href=\"https://colab.research.google.com/github/mkdirlife/orm/blob/main/%EC%98%A4%EB%A6%84%EC%BA%A0%ED%94%84_2%EC%A3%BC%EC%B0%A8_3%EC%9D%BC_%EA%B5%AC%EA%B8%80%EC%BD%94%EB%9E%A9_%EC%97%B0%EC%82%B0%EC%9E%90.ipynb\" target=\"_parent\"><img src=\"https://colab.research.google.com/assets/colab-badge.svg\" alt=\"Open In Colab\"/></a>"
      ]
    },
    {
      "cell_type": "markdown",
      "source": [
        "# 1. 논리연산"
      ],
      "metadata": {
        "id": "MbEcQeDuA0dg"
      }
    },
    {
      "cell_type": "code",
      "execution_count": null,
      "metadata": {
        "colab": {
          "base_uri": "https://localhost:8080/"
        },
        "id": "TJKRxwyS_zuQ",
        "outputId": "b56412a3-beef-4ea8-ee5e-deadc4237cb6"
      },
      "outputs": [
        {
          "output_type": "stream",
          "name": "stdout",
          "text": [
            "0\n",
            "15\n",
            "30\n",
            "45\n",
            "60\n",
            "75\n",
            "90\n"
          ]
        }
      ],
      "source": [
        "for i in range(101): # 0부터 100까지를 반복합니다.\n",
        "    if i % 3 == 0 and i % 5 == 0:\n",
        "        print(i)"
      ]
    },
    {
      "cell_type": "code",
      "source": [
        "def test1():\n",
        "    print(\"test1 함수 호출!\")\n",
        "    return False\n",
        "\n",
        "def test2():\n",
        "    print(\"test2 함수 호출!\")\n",
        "    return True\n",
        "\n",
        "# 가장 많이 걸러지는 조건을 맨 앞에 두어야 리소스를 줄일 수 있다.\n",
        "result = test1() and test2()\n",
        "print(result) # 결과: False"
      ],
      "metadata": {
        "colab": {
          "base_uri": "https://localhost:8080/"
        },
        "id": "5PWgLYCX_7JA",
        "outputId": "fbb0f56d-451c-4d1b-e006-937ce2367203"
      },
      "execution_count": null,
      "outputs": [
        {
          "output_type": "stream",
          "name": "stdout",
          "text": [
            "test1 함수 호출!\n",
            "False\n"
          ]
        }
      ]
    },
    {
      "cell_type": "code",
      "source": [
        "# 퀴즈 1\n",
        "True and False #"
      ],
      "metadata": {
        "colab": {
          "base_uri": "https://localhost:8080/"
        },
        "id": "_-Ra30C5A4AA",
        "outputId": "4d4d1025-9206-4e9c-8371-89cda6f527dc"
      },
      "execution_count": null,
      "outputs": [
        {
          "output_type": "execute_result",
          "data": {
            "text/plain": [
              "False"
            ]
          },
          "metadata": {},
          "execution_count": 6
        }
      ]
    },
    {
      "cell_type": "code",
      "source": [
        "1 or 0"
      ],
      "metadata": {
        "colab": {
          "base_uri": "https://localhost:8080/"
        },
        "id": "T5jCv53fDMUW",
        "outputId": "f1246d03-b1cd-4c84-faf0-895c7a0c5cc7"
      },
      "execution_count": null,
      "outputs": [
        {
          "output_type": "execute_result",
          "data": {
            "text/plain": [
              "1"
            ]
          },
          "metadata": {},
          "execution_count": 9
        }
      ]
    },
    {
      "cell_type": "markdown",
      "source": [
        "# 2. 할당연산자"
      ],
      "metadata": {
        "id": "XNk2CUT2Ergu"
      }
    },
    {
      "cell_type": "code",
      "source": [
        "x = 5\n",
        "y = 2\n",
        "z = 10\n",
        "\n",
        "x1 = y * z\n",
        "x2 = x + (y * z)\n",
        "x += y * z  # y * z 연산 후 x에 값을 더한 뒤에 할당합니다.\n",
        "\n",
        "print(x1)\n",
        "print(x2)\n",
        "print(x)  # 결과: 25"
      ],
      "metadata": {
        "colab": {
          "base_uri": "https://localhost:8080/"
        },
        "id": "rImV0LunD-E9",
        "outputId": "2bbbb461-282f-4799-e571-c0d49976f6dd"
      },
      "execution_count": null,
      "outputs": [
        {
          "output_type": "stream",
          "name": "stdout",
          "text": [
            "20\n",
            "25\n",
            "25\n"
          ]
        }
      ]
    },
    {
      "cell_type": "code",
      "source": [
        "x += y * z\n",
        "print(x)"
      ],
      "metadata": {
        "colab": {
          "base_uri": "https://localhost:8080/"
        },
        "id": "tEmjzivZEpU7",
        "outputId": "3ec0ab85-c8c1-40c0-cc5a-16a860757ed0"
      },
      "execution_count": null,
      "outputs": [
        {
          "output_type": "stream",
          "name": "stdout",
          "text": [
            "45\n"
          ]
        }
      ]
    },
    {
      "cell_type": "code",
      "source": [
        "x = 9\n",
        "y = 6\n",
        "z = 3\n",
        "\n",
        "x //= y\n",
        "y /= z\n",
        "\n",
        "print(x, y, z)"
      ],
      "metadata": {
        "colab": {
          "base_uri": "https://localhost:8080/"
        },
        "id": "9mZlzToWFSA7",
        "outputId": "3a98bc02-ddca-4d24-9281-ca314504f850"
      },
      "execution_count": null,
      "outputs": [
        {
          "output_type": "stream",
          "name": "stdout",
          "text": [
            "1 2.0 3\n"
          ]
        }
      ]
    },
    {
      "cell_type": "markdown",
      "source": [
        "# 3. 식별연산"
      ],
      "metadata": {
        "id": "EWrCxxZ2GgUS"
      }
    },
    {
      "cell_type": "code",
      "source": [
        "# 1. -5 ~ 256 같은 주소를 바라 보고 있지만 그 범위 이하 이상 일때는 주소가 달라진다.\n",
        "\n",
        "coffee_employee = \"Brand\"\n",
        "orange_employee = \"Brand\"\n",
        "\n",
        "print(coffee_employee is orange_employee)\n",
        "print(coffee_employee == orange_employee)"
      ],
      "metadata": {
        "colab": {
          "base_uri": "https://localhost:8080/"
        },
        "id": "O3MlIgO3H889",
        "outputId": "793ff48d-08c4-4c77-fa2b-a9e28c22b945"
      },
      "execution_count": null,
      "outputs": [
        {
          "output_type": "stream",
          "name": "stdout",
          "text": [
            "True\n",
            "True\n"
          ]
        }
      ]
    },
    {
      "cell_type": "code",
      "source": [
        "print(id(coffee_employee), id(orange_employee))"
      ],
      "metadata": {
        "colab": {
          "base_uri": "https://localhost:8080/"
        },
        "id": "yxd-N90qH_oR",
        "outputId": "a11cd38d-db60-4d96-f806-b5a0b4a2d386"
      },
      "execution_count": null,
      "outputs": [
        {
          "output_type": "stream",
          "name": "stdout",
          "text": [
            "135165306382576 135165306382576\n"
          ]
        }
      ]
    },
    {
      "cell_type": "code",
      "source": [
        "#2. 예시 2\n",
        "\n",
        "a = [1, 2, 3] # 리스트형인 [1,2,3]\n",
        "b = [1, 2, 3] # 리스트형인 [1,2,3]\n",
        "c = a         # # 리스트형인 [1,2,3] 다만 a에 있는 것을 재할당!\n",
        "\n",
        "print(a, b, c)\n",
        "print('a == b', a == b)\n",
        "print('a == c', a == c)\n",
        "print('a is b', a is b)\n",
        "print('a is c', a is c)\n",
        "print('b is c', b is c)\n",
        "\n",
        "print(id(a), id(b), id(c))"
      ],
      "metadata": {
        "colab": {
          "base_uri": "https://localhost:8080/"
        },
        "id": "EwxFgn48Is7p",
        "outputId": "b8cb65cd-65da-4bb2-8781-a315b347d5f0"
      },
      "execution_count": null,
      "outputs": [
        {
          "output_type": "stream",
          "name": "stdout",
          "text": [
            "[1, 2, 3] [1, 2, 3] [1, 2, 3]\n",
            "a == b True\n",
            "a == c True\n",
            "a is b False\n",
            "a is c True\n",
            "b is c False\n",
            "135165446452160 135165446451584 135165446452160\n"
          ]
        }
      ]
    },
    {
      "cell_type": "markdown",
      "source": [
        "# 4. 멤버연산"
      ],
      "metadata": {
        "id": "9KnieiGsQHWN"
      }
    },
    {
      "cell_type": "code",
      "source": [
        "a = [1, 2, 3, 4]\n",
        "b = [1, 2, 3, 4]\n",
        "c = 'hello world'\n",
        "\n",
        "print(1 in a) # 출력: True\n",
        "print(0 not in a) # 출력: True\n",
        "print([2] in b) # 출력: False\n",
        "print([1, 2] in b) # 출력: False\n",
        "print('h' in c) # 출력: True\n",
        "print(c in 'h') # 출력: True\n",
        "print('hello ' in c) # 출력: True"
      ],
      "metadata": {
        "colab": {
          "base_uri": "https://localhost:8080/"
        },
        "id": "TMSzcJyHJI4z",
        "outputId": "3e50cbca-5d5f-4634-d05c-47720a43551e"
      },
      "execution_count": null,
      "outputs": [
        {
          "output_type": "stream",
          "name": "stdout",
          "text": [
            "True\n",
            "True\n",
            "False\n",
            "False\n",
            "True\n",
            "False\n",
            "True\n"
          ]
        }
      ]
    },
    {
      "cell_type": "code",
      "source": [
        "# 자료형태를 잘 파악하셔서 In을 사용하셔야 된다.\n",
        "a_1 = [[1, 2], [2], 3, 4]\n",
        "#리스트 안에 있는 값은 정수형 3, 4 / 리스트형 [1, 2], [2]"
      ],
      "metadata": {
        "id": "l-W4zlvNQNM5"
      },
      "execution_count": null,
      "outputs": []
    },
    {
      "cell_type": "code",
      "source": [
        "print([2] in a_1) # 출력: True"
      ],
      "metadata": {
        "colab": {
          "base_uri": "https://localhost:8080/"
        },
        "id": "uR4A6fi_QoTe",
        "outputId": "85a1471a-69eb-4efa-8ad1-b99c5e96a887"
      },
      "execution_count": null,
      "outputs": [
        {
          "output_type": "stream",
          "name": "stdout",
          "text": [
            "True\n"
          ]
        }
      ]
    },
    {
      "cell_type": "code",
      "source": [
        "print([1, 2] in a_1) # 출력: True"
      ],
      "metadata": {
        "colab": {
          "base_uri": "https://localhost:8080/"
        },
        "id": "mSEJO0xKQruO",
        "outputId": "416166a8-2b94-4757-f83e-986c62fc326d"
      },
      "execution_count": null,
      "outputs": [
        {
          "output_type": "stream",
          "name": "stdout",
          "text": [
            "True\n"
          ]
        }
      ]
    },
    {
      "cell_type": "markdown",
      "source": [
        "# 5. 연산자 순서"
      ],
      "metadata": {
        "id": "TPXgF3xSRFxV"
      }
    },
    {
      "cell_type": "code",
      "source": [
        "-2 ** 2 # 출력: -4, -(2 ** 2)"
      ],
      "metadata": {
        "colab": {
          "base_uri": "https://localhost:8080/"
        },
        "id": "Lo0dJ8vqSX8h",
        "outputId": "158a346b-e937-42a6-a1d6-e18353fef59d"
      },
      "execution_count": null,
      "outputs": [
        {
          "output_type": "execute_result",
          "data": {
            "text/plain": [
              "-4"
            ]
          },
          "metadata": {},
          "execution_count": 49
        }
      ]
    },
    {
      "cell_type": "code",
      "source": [
        "(-2) ** 2 # 출력: 4"
      ],
      "metadata": {
        "colab": {
          "base_uri": "https://localhost:8080/"
        },
        "id": "ih20kPB1SaKk",
        "outputId": "067584fd-c136-4681-dad1-426b041f32e4"
      },
      "execution_count": null,
      "outputs": [
        {
          "output_type": "execute_result",
          "data": {
            "text/plain": [
              "4"
            ]
          },
          "metadata": {},
          "execution_count": 52
        }
      ]
    },
    {
      "cell_type": "code",
      "source": [
        "True * True and True + False # 출력: 1 , ((True * True) and (True + False))"
      ],
      "metadata": {
        "colab": {
          "base_uri": "https://localhost:8080/"
        },
        "id": "D0_1nodTSdDr",
        "outputId": "bae28f62-18ed-4fe7-f745-97d337508561"
      },
      "execution_count": null,
      "outputs": [
        {
          "output_type": "execute_result",
          "data": {
            "text/plain": [
              "1"
            ]
          },
          "metadata": {},
          "execution_count": 53
        }
      ]
    },
    {
      "cell_type": "code",
      "source": [
        "# 복합 할당 연산자가 가장 나중입니다!\n",
        "a = 10\n",
        "a *= 10 + 100\n",
        "a # 출력: 1100"
      ],
      "metadata": {
        "colab": {
          "base_uri": "https://localhost:8080/"
        },
        "id": "FHEOo32XSm02",
        "outputId": "187c04d8-f8cd-4e9b-da0b-718099220f22"
      },
      "execution_count": null,
      "outputs": [
        {
          "output_type": "execute_result",
          "data": {
            "text/plain": [
              "1100"
            ]
          },
          "metadata": {},
          "execution_count": 54
        }
      ]
    },
    {
      "cell_type": "code",
      "source": [
        " greeting = \"안녕하세요\"\n",
        " print(\"안녕\" in greeting)"
      ],
      "metadata": {
        "colab": {
          "base_uri": "https://localhost:8080/"
        },
        "id": "8tTRg22jSqdv",
        "outputId": "024c0325-de56-4d73-d502-460acb26846c"
      },
      "execution_count": null,
      "outputs": [
        {
          "output_type": "stream",
          "name": "stdout",
          "text": [
            "True\n"
          ]
        }
      ]
    },
    {
      "cell_type": "code",
      "source": [
        " result = 2 + 3 * 4\n",
        " print(result)"
      ],
      "metadata": {
        "colab": {
          "base_uri": "https://localhost:8080/"
        },
        "id": "UhXj1WUVTQix",
        "outputId": "b8365a02-5059-4fd7-cc22-278e8f9c0dba"
      },
      "execution_count": null,
      "outputs": [
        {
          "output_type": "stream",
          "name": "stdout",
          "text": [
            "14\n"
          ]
        }
      ]
    },
    {
      "cell_type": "code",
      "source": [
        "result = 10 / 2 * 4 - 3\n",
        "print(result)"
      ],
      "metadata": {
        "colab": {
          "base_uri": "https://localhost:8080/"
        },
        "id": "P7cQ7zJ3T4zs",
        "outputId": "1d5327c8-721e-44ac-dc2c-e81dafcbd321"
      },
      "execution_count": null,
      "outputs": [
        {
          "output_type": "stream",
          "name": "stdout",
          "text": [
            "17.0\n"
          ]
        }
      ]
    },
    {
      "cell_type": "code",
      "source": [
        " result = 2 ** 3 * 3 + 4 / 2 - 5\n",
        " print(result)"
      ],
      "metadata": {
        "colab": {
          "base_uri": "https://localhost:8080/"
        },
        "id": "FJo9amFGUMcN",
        "outputId": "930183a6-5761-4dab-ba26-f424e75adfd8"
      },
      "execution_count": null,
      "outputs": [
        {
          "output_type": "stream",
          "name": "stdout",
          "text": [
            "21.0\n"
          ]
        }
      ]
    },
    {
      "cell_type": "code",
      "source": [
        "# 연습문제\n",
        "# 1번\n",
        "a = 100\n",
        "print((a > 100) and (a < 200))   # False\n",
        "print((a > 100) or (a < 200))    # True\n",
        "print((a >= 100) and (a <= 200)) # True\n",
        "print((a >= 100) or (a <= 200))  # True"
      ],
      "metadata": {
        "colab": {
          "base_uri": "https://localhost:8080/"
        },
        "id": "TJ7iVXOKVH4W",
        "outputId": "34c1efe8-29c4-4a97-adca-ce5eb644c22e"
      },
      "execution_count": null,
      "outputs": [
        {
          "output_type": "stream",
          "name": "stdout",
          "text": [
            "False\n",
            "True\n",
            "True\n",
            "True\n"
          ]
        }
      ]
    },
    {
      "cell_type": "code",
      "source": [
        "# 2번\n",
        "b = 25\n",
        "(b % 2 == 0) and (b % 5 == 0) # False"
      ],
      "metadata": {
        "colab": {
          "base_uri": "https://localhost:8080/"
        },
        "id": "JvUMqdEGW6jK",
        "outputId": "02718c34-309c-4c9a-eef0-21ae4a5e01d8"
      },
      "execution_count": null,
      "outputs": [
        {
          "output_type": "execute_result",
          "data": {
            "text/plain": [
              "False"
            ]
          },
          "metadata": {},
          "execution_count": 62
        }
      ]
    },
    {
      "cell_type": "code",
      "source": [
        "# 3번\n",
        "c = 1000\n",
        "print(c / 100)\n",
        "# 결과값은 10입니다."
      ],
      "metadata": {
        "colab": {
          "base_uri": "https://localhost:8080/"
        },
        "id": "SVLi1FR8W9ob",
        "outputId": "b30b20a6-047e-44a1-d829-cd7b5544b30d"
      },
      "execution_count": null,
      "outputs": [
        {
          "output_type": "stream",
          "name": "stdout",
          "text": [
            "10.0\n"
          ]
        }
      ]
    },
    {
      "cell_type": "code",
      "source": [
        "# (심화문제) 입력한 금액을 5000원, 1000원, 500원, 100원으로 교환하는 프로그램을 만들어주세요.\n",
        "money = input(\"금액을 입력해주세요 : \")\n",
        "\n",
        "# 5,000원 지폐 계산\n",
        "num5000count = int(int(money) / 5000)\n",
        "na5000count = int(int(money) % 5000)\n",
        "\n",
        "# 1,000원 지폐 계산\n",
        "num1000count = int(na5000count / 1000)\n",
        "na1000count = int(na5000count % 1000)\n",
        "\n",
        "# 100원 동전 계산\n",
        "num100count = int(na1000count / 100)\n",
        "na100count = int(na1000count % 100)\n",
        "\n",
        "print(f\"\\n입력한 금액은 \\n5,000원권 {num5000count}장, \\n1,000원권 {num1000count}장, \\n100원 동전 {num100count}개 로 바꿀 수 있고, \\n남은 금액은 {na100count}원 입니다.\")\n"
      ],
      "metadata": {
        "colab": {
          "base_uri": "https://localhost:8080/"
        },
        "id": "r-ght8OIXGKW",
        "outputId": "dcf36e33-781a-49fd-ed8e-a76685b565f3"
      },
      "execution_count": null,
      "outputs": [
        {
          "output_type": "stream",
          "name": "stdout",
          "text": [
            "금액을 입력해주세요 : 584250\n",
            "\n",
            "입력한 금액은 \n",
            "5,000원권 116장, \n",
            "1,000원권 4장, \n",
            "100원 동전 2개 로 바꿀 수 있고, \n",
            "남은 금액은 50원 입니다.\n"
          ]
        }
      ]
    },
    {
      "cell_type": "code",
      "source": [
        "def calculate_change(money, denomination):\n",
        "    \"\"\"특정 금액의 화폐 수와 남은 금액을 계산합니다.\"\"\"\n",
        "    count = money // denomination\n",
        "    remaining = money % denomination\n",
        "    return count, remaining\n",
        "\n",
        "# 사용자로부터 금액 입력 받기\n",
        "money = int(input(\"금액을 입력해주세요 : \"))\n",
        "\n",
        "# 각 화폐 단위에 대한 계산\n",
        "num5000, remainder = calculate_change(money, 5000)\n",
        "num1000, remainder = calculate_change(remainder, 1000)\n",
        "num100, remainder = calculate_change(remainder, 100)\n",
        "\n",
        "# 결과 출력\n",
        "print(f\"\\n입력한 금액은 \\n5,000원권 {num5000}장, \\n1,000원권 {num1000}장, \\n100원 동전 {num100}개 로 바꿀 수 있고, \\n남은 금액은 {remainder}원 입니다.\")\n"
      ],
      "metadata": {
        "colab": {
          "base_uri": "https://localhost:8080/"
        },
        "id": "VCLSWp1gXXIn",
        "outputId": "e78aa090-8522-46e7-897b-49346814c29f"
      },
      "execution_count": null,
      "outputs": [
        {
          "output_type": "stream",
          "name": "stdout",
          "text": [
            "금액을 입력해주세요 : 85420\n",
            "\n",
            "입력한 금액은 \n",
            "5,000원권 17장, \n",
            "1,000원권 0장, \n",
            "100원 동전 4개 로 바꿀 수 있고, \n",
            "남은 금액은 20원 입니다.\n"
          ]
        }
      ]
    },
    {
      "cell_type": "markdown",
      "source": [
        "## 실습2"
      ],
      "metadata": {
        "id": "d5gJR3Wucq2z"
      }
    },
    {
      "cell_type": "markdown",
      "source": [
        "1. **사용자 입력 받기**:\n",
        "    - **`input()`** 함수를 사용하여 제품의 원가와 할인율을 입력받습니다.\n",
        "2. **문자열을 숫자로 변환**:\n",
        "    - 입력받은 원가와 할인율을 각각 **`float()`** 함수를 사용하여 실수로 변환합니다.\n",
        "3. **할인된 가격 계산**:\n",
        "    - 할인된 가격을 계산하는 공식을 사용합니다. (할인된 가격 = 원가 - (원가 × 할인율 / 100))\n",
        "4. **결과 출력**:\n",
        "    - 계산된 할인된 가격을 **`print()`** 함수를 사용하여 출력합니다."
      ],
      "metadata": {
        "id": "HNGhytceeYU3"
      }
    },
    {
      "cell_type": "code",
      "source": [
        "# 제품의 원가와 할인율 입력 받기\n",
        "original_price = float(input(\"원가를 입력하세요 : \"))\n",
        "discount_rate = float(input(\"할인율을 입력하세요 : \"))\n",
        "\n",
        "# 할인된 가격 계산\n",
        "discounted_price = original_price - (original_price * discount_rate / 100)\n",
        "\n",
        "# 결과 출력\n",
        "print(\"할인이 적용된 가격은 \", discounted_price, \"원 입니다.\")"
      ],
      "metadata": {
        "colab": {
          "base_uri": "https://localhost:8080/"
        },
        "id": "tpa17saSeiX_",
        "outputId": "aaedb147-04f6-475f-9138-cff223db8c16"
      },
      "execution_count": null,
      "outputs": [
        {
          "output_type": "stream",
          "name": "stdout",
          "text": [
            "원가를 입력하세요 : 8000\n",
            "할인율을 입력하세요 : 16\n",
            "할인이 적용된 가격은  6720.0 원 입니다.\n"
          ]
        }
      ]
    },
    {
      "cell_type": "code",
      "source": [
        "name = input(\"이름을 입력하세요 : \")\n",
        "age = int(input(\"나이를 입력하세요 : \"))\n",
        "\n",
        "age += 1\n",
        "\n",
        "if 18 <= age :\n",
        "    adult = True\n",
        "else :\n",
        "    adult = False\n",
        "\n",
        "print(f\"계산된 나이는 {age}살 이고, 이름의 길이는 {len(name)}자 이고, 성인 여부는 {adult} 입니다. \")\n",
        "\n"
      ],
      "metadata": {
        "colab": {
          "base_uri": "https://localhost:8080/"
        },
        "id": "HogL6ZQyfoIl",
        "outputId": "68ff9945-2126-4576-86e4-448c533b4c32"
      },
      "execution_count": null,
      "outputs": [
        {
          "output_type": "stream",
          "name": "stdout",
          "text": [
            "이름을 입력하세요 : 전은지\n",
            "나이를 입력하세요 : 16\n",
            "계산된 나이는 17살 이고, 이름의 길이는 3자 이고, 성인 여부는 False 입니다. \n"
          ]
        }
      ]
    },
    {
      "cell_type": "code",
      "source": [],
      "metadata": {
        "id": "9On03k0ShBk3"
      },
      "execution_count": null,
      "outputs": []
    }
  ]
}