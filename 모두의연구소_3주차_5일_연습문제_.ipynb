{
  "nbformat": 4,
  "nbformat_minor": 0,
  "metadata": {
    "colab": {
      "provenance": [],
      "authorship_tag": "ABX9TyM5Y0eZFYFc7YR7ONZhVlGa",
      "include_colab_link": true
    },
    "kernelspec": {
      "name": "python3",
      "display_name": "Python 3"
    },
    "language_info": {
      "name": "python"
    }
  },
  "cells": [
    {
      "cell_type": "markdown",
      "metadata": {
        "id": "view-in-github",
        "colab_type": "text"
      },
      "source": [
        "<a href=\"https://colab.research.google.com/github/mkdirlife/orm/blob/main/%EB%AA%A8%EB%91%90%EC%9D%98%EC%97%B0%EA%B5%AC%EC%86%8C_3%EC%A3%BC%EC%B0%A8_5%EC%9D%BC_%EC%97%B0%EC%8A%B5%EB%AC%B8%EC%A0%9C_.ipynb\" target=\"_parent\"><img src=\"https://colab.research.google.com/assets/colab-badge.svg\" alt=\"Open In Colab\"/></a>"
      ]
    },
    {
      "cell_type": "markdown",
      "source": [
        "오늘 진행한 책 크롤링 코드를 이용하여 다음 요구사항을 만족하는 코드를 작성해주세요.\n",
        "\n",
        "1. 모든 텍스트는 앞, 뒤 공백이 제거된 텍스트여야 합니다.\n",
        "2. 가격은 int 형이어야 합니다.\n",
        "3. 저자는 앞에 '저자: '가 없어야 합니다.\n",
        "4. 가격을 달러로 바꿔주는 메서드를 작성해주세요.\n",
        "5. 할인 메서드를 작성해주세요. 할인율이 들어가면 변경되어야 합니다.\n",
        "5.1 object.discount(10) => 10프로 할인된 가격을 반환합니다.\n",
        "5.2 object.discount(0) => 0프로 할인된 가격을 반환합니다."
      ],
      "metadata": {
        "id": "6LRf1c3mgZrw"
      }
    },
    {
      "cell_type": "code",
      "source": [
        "import requests     # 통신을 해서 서버에서 제공해주는 값을 가져올 수 있습니다.\n",
        "from bs4 import BeautifulSoup   # 가져온 값을 '파싱' 해주는 모듈입니다.\n",
        "\n",
        "response = requests.get('https://paullab.co.kr/bookservice/')\n",
        "soup = BeautifulSoup(response.text, 'html.parser')"
      ],
      "metadata": {
        "id": "BqOt3WvhfCyC"
      },
      "execution_count": null,
      "outputs": []
    },
    {
      "cell_type": "code",
      "source": [
        "book_name = soup.select('.book_name')\n",
        "book_info = soup.select('.book_info')"
      ],
      "metadata": {
        "id": "JhyXBHIzg0_E"
      },
      "execution_count": null,
      "outputs": []
    },
    {
      "cell_type": "code",
      "source": [
        "books = []\n",
        "\n",
        "class Book:\n",
        "\n",
        "    def __init__(self, name='', price=0, author='', info=''):\n",
        "\n",
        "        self.name = name.strip()\n",
        "\n",
        "        # '가격:' 과 뒤에 '원', ',' 삭제 해서 딱 가격만 저장, 무료이면 0 저장\n",
        "        if price.replace('가격: ', '').replace('원', '').replace(',', '').strip() == '무료':\n",
        "            self.price = 0\n",
        "        else:\n",
        "            self.price = int(price.replace('가격: ', '').replace('원', '').replace(',', '').strip())\n",
        "\n",
        "        # '저자:' 삭제\n",
        "        self.author = author.replace('저자: ', '').strip()\n",
        "        self.info = info\n",
        "\n",
        "    def __str__(self):\n",
        "        return self.name\n",
        "\n",
        "    def __repr__(self):\n",
        "        return self.name\n",
        "\n",
        "    # 가격을 달러로 바꿔주는 메서드\n",
        "    def exchange_dollar(self, ex_price = 1300):\n",
        "        price_dollar = 0\n",
        "\n",
        "        price_dollar = int(self.price / ex_price)\n",
        "        return price_dollar\n",
        "\n",
        "    # 할인 메서드\n",
        "    def discount(self, rate = 0):\n",
        "\n",
        "        # 할인된 가격\n",
        "        discount_price = 0\n",
        "\n",
        "        # 할인율이 0 일때 기존 가격 그대로 리턴\n",
        "        if rate == 0:\n",
        "            return self.price\n",
        "        elif 0 < rate <= 100:\n",
        "            discount_price = int(self.price -(self.price * rate / 100))\n",
        "            return discount_price\n",
        "        else:\n",
        "            return \"할인율은 1~100% 사이 입니다.\"\n",
        "\n",
        "for i, _ in enumerate(book_name):\n",
        "    books.append(Book(\n",
        "        book_name[i].text,\n",
        "        book_info[(i*3)].text,\n",
        "        book_info[(i*3)+1].text,\n",
        "        book_info[(i*3)+2].text\n",
        "    ))\n",
        "\n",
        "print(books[0].name)                # 책 이름 출력 및 공백 제거\n",
        "print(books[0].author)              # '작가: ' 삭제 및 공백 제거\n",
        "print(books[0].exchange_dollar())   # 달러로 변경\n",
        "print(books[0].discount(50))        # 할인율 지정\n",
        "print(books[0].discount(0))         # 할인율 0 일때\n"
      ],
      "metadata": {
        "colab": {
          "base_uri": "https://localhost:8080/"
        },
        "id": "gk_jrh2AfHPV",
        "outputId": "99b1ac82-1150-4631-a370-95d4c217b472"
      },
      "execution_count": null,
      "outputs": [
        {
          "output_type": "stream",
          "name": "stdout",
          "text": [
            "메모혁신 Notion(노션) 활용 가이드\n",
            "이호준, 이준호, 김혜원, 김유진, 차경림, 김진, 현지연, 정승한\n",
            "5\n",
            "3500\n",
            "7000\n"
          ]
        }
      ]
    }
  ]
}