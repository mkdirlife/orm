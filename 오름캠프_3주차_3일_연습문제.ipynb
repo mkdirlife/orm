{
  "nbformat": 4,
  "nbformat_minor": 0,
  "metadata": {
    "colab": {
      "provenance": [],
      "authorship_tag": "ABX9TyOce4F3n75vMX0BKLuLOABr",
      "include_colab_link": true
    },
    "kernelspec": {
      "name": "python3",
      "display_name": "Python 3"
    },
    "language_info": {
      "name": "python"
    }
  },
  "cells": [
    {
      "cell_type": "markdown",
      "metadata": {
        "id": "view-in-github",
        "colab_type": "text"
      },
      "source": [
        "<a href=\"https://colab.research.google.com/github/mkdirlife/orm/blob/main/%EC%98%A4%EB%A6%84%EC%BA%A0%ED%94%84_3%EC%A3%BC%EC%B0%A8_3%EC%9D%BC_%EC%97%B0%EC%8A%B5%EB%AC%B8%EC%A0%9C.ipynb\" target=\"_parent\"><img src=\"https://colab.research.google.com/assets/colab-badge.svg\" alt=\"Open In Colab\"/></a>"
      ]
    },
    {
      "cell_type": "markdown",
      "source": [
        "Step 1: 할 일 목록 초기화 및 표시 함수\n",
        "* 목표: 사용자의 할 일 목록을 관리합니다.\n",
        "내용:\n",
        "* 할 일 목록을 저장할 리스트를 초기화합니다.\n",
        "* 할 일 목록을 표시하는 함수를 정의합니다.\n",
        "\n",
        "Step 2: 할 일 추가 및 삭제 기능\n",
        "* 목표: 할 일을 추가하고 삭제하는 기능을 구현합니다.\n",
        "내용:\n",
        "* 할 일을 추가하는 함수를 정의합니다.\n",
        "* 할 일을 삭제하는 함수를 정의합니다.\n",
        "\n",
        "Step 3: 사용자 입력 처리\n",
        "* 목표: 사용자 입력에 따라 프로그램이 반응하도록 합니다.\n",
        "내용:\n",
        "* 사용자로부터 입력을 받아 추가, 삭제, 표시 기능을 수행합니다."
      ],
      "metadata": {
        "id": "KG4ScdswD8bs"
      }
    },
    {
      "cell_type": "code",
      "source": [
        "\n",
        "# 할 일 목록을 저장할 리스트\n",
        "todo_list = []\n",
        "\n",
        "# 할 일 목록을 표시하는 함수\n",
        "def display_todo_list():\n",
        "    \"\"\"\n",
        "    할 일 목록을 화면에 표시합니다.\n",
        "    \"\"\"\n",
        "    # 리스트에 내용 없으면 목록 비었다고 출력\n",
        "    if len(todo_list) == 0:\n",
        "        print(\"할 일 목록이 비어있습니다.\")\n",
        "    else:\n",
        "    # 할일 리스트 존재 시 번호 부여 하고 출력 enumerate으로 보여 줄때만 순서 부여, 순서는 데이터 저장 안됨\n",
        "        for idx, item in enumerate(todo_list):\n",
        "            print(f\"{idx + 1}. {item}\")\n",
        "\n",
        "# 할 일을 추가하는 함수\n",
        "def add_todo_item(item):\n",
        "    \"\"\"\n",
        "    할 일 목록에 새로운 항목을 추가합니다.\n",
        "\n",
        "    Args:\n",
        "    item (str): 할 일 목록에 추가할 항목\n",
        "    \"\"\"\n",
        "    todo_list.append(item)                          # 할일 리스트에 리스트 추가\n",
        "    print(f\"'{item}'이(가) 할 일 목록에 추가되었습니다.\")\n",
        "\n",
        "# 할 일을 삭제하는 함수\n",
        "def delete_todo_item(index):\n",
        "    \"\"\"\n",
        "    할 일 목록에서 특정 항목을 삭제합니다.\n",
        "\n",
        "    Args:\n",
        "    index (int): 삭제할 항목의 인덱스 (1부터 시작)\n",
        "    \"\"\"\n",
        "    if 0 < index <= len(todo_list):                 # 리스트 전체 범위 안일 경우\n",
        "        item = todo_list.pop(index - 1)             # 해당하는 번호 삭제\n",
        "        print(f\"'{item}'이(가) 할 일 목록에서 삭제되었습니다.\")\n",
        "    else:\n",
        "        print(\"잘못된 인덱스입니다.\")\n",
        "\n",
        "# 모든 할 일 목록 삭제하는 함수\n",
        "def delete_todo_item_all():\n",
        "    todo_list.clear()\n",
        "    print(\"할 일 목록을 모두 삭제했습니다.\")\n",
        "\n",
        "# 사용자 입력 처리 함수\n",
        "def handle_user_input():\n",
        "    \"\"\"\n",
        "    사용자 입력을 처리합니다.\n",
        "    \"\"\"\n",
        "    while True:\n",
        "        print(\"\\n할 일 목록 관리 프로그램\")\n",
        "        print(\"1. 할 일 표시하기\")\n",
        "        print(\"2. 할 일 추가하기\")\n",
        "        print(\"3. 할 일 삭제하기\")\n",
        "        print(\"4. 할 일 전체 삭제하기\")\n",
        "        print(\"5. 프로그램 종료하기\")\n",
        "        choice = input(\"원하는 작업을 선택하세요: \")\n",
        "\n",
        "        if choice == '1':\n",
        "            display_todo_list()\n",
        "        elif choice == '2':\n",
        "            item = input(\"추가할 할 일: \")\n",
        "            add_todo_item(item)\n",
        "        elif choice == '3':\n",
        "            index = int(input(\"삭제할 할 일의 번호: \"))\n",
        "            delete_todo_item(index)\n",
        "        elif choice == '4':\n",
        "            delete_todo_item_all()\n",
        "        elif choice == '5':\n",
        "            print(\"프로그램을 종료합니다.\")\n",
        "            break\n",
        "        else:\n",
        "            print(\"잘못된 선택입니다. 다시 시도해주세요.\")\n",
        "\n",
        "# 프로그램 실행\n",
        "handle_user_input()\n",
        "\n",
        "\n"
      ],
      "metadata": {
        "colab": {
          "base_uri": "https://localhost:8080/"
        },
        "id": "zaEjULIRHAGy",
        "outputId": "2a2c823f-1c76-4aa2-8c56-acc273625b85"
      },
      "execution_count": 5,
      "outputs": [
        {
          "output_type": "stream",
          "name": "stdout",
          "text": [
            "\n",
            "할 일 목록 관리 프로그램\n",
            "1. 할 일 표시하기\n",
            "2. 할 일 추가하기\n",
            "3. 할 일 삭제하기\n",
            "4. 할 일 전체 삭제하기\n",
            "5. 프로그램 종료하기\n",
            "원하는 작업을 선택하세요: 5\n",
            "프로그램을 종료합니다.\n"
          ]
        }
      ]
    },
    {
      "cell_type": "code",
      "source": [
        "\n",
        "# 할 일 목록을 저장할 리스트\n",
        "todo_list = []\n",
        "\n",
        "# 할 일 목록을 표시하는 함수\n",
        "def display_todo_list():\n",
        "    if len(todo_list) == 0:\n",
        "        print(\"할 일 목록이 비어있습니다.\")\n",
        "    else:\n",
        "        for idx, item in enumerate(todo_list):\n",
        "            print(f\"{idx + 1}. {item}\")\n",
        "\n",
        "# 할 일을 추가하는 함수\n",
        "def add_todo_item(item):\n",
        "    todo_list.append(item)\n",
        "    print(f\"'{item}'이(가) 할 일 목록에 추가되었습니다.\")\n",
        "\n",
        "# 할 일을 삭제하는 함수\n",
        "def delete_todo_item(index):\n",
        "    if 0 < index <= len(todo_list):\n",
        "        item = todo_list.pop(index - 1)\n",
        "        print(f\"'{item}'이(가) 할 일 목록에서 삭제되었습니다.\")\n",
        "    else:\n",
        "        print(\"잘못된 인덱스입니다.\")\n",
        "\n",
        "# 사용자 입력 처리 함수\n",
        "def handle_user_input():\n",
        "    try:\n",
        "        while True:\n",
        "            print(\"\\n할 일 목록 관리 프로그램\")\n",
        "            print(\"1. 할 일 표시하기\")\n",
        "            print(\"2. 할 일 추가하기\")\n",
        "            print(\"3. 할 일 삭제하기\")\n",
        "            print(\"4. 프로그램 종료하기\")\n",
        "            choice = str(input(\"원하는 작업을 선택하세요: \"))\n",
        "\n",
        "            if choice == '1':\n",
        "                display_todo_list()\n",
        "            elif choice == '2':\n",
        "                item = str(input(\"추가할 할 일: \"))\n",
        "                add_todo_item(item)\n",
        "            elif choice == '3':\n",
        "                index = int(input(\"삭제할 할 일의 번호: \"))\n",
        "                delete_todo_item(index)\n",
        "            elif choice == '4':\n",
        "                print(\"프로그램을 종료합니다.\")\n",
        "                break\n",
        "            else:\n",
        "                print(\"잘못된 선택입니다. 다시 시도해주세요.\")\n",
        "    except KeyboardInterrupt:\n",
        "        print(\"\\n프로그램을 종료합니다.\")\n",
        "\n",
        "# 프로그램 실행\n",
        "handle_user_input()\n"
      ],
      "metadata": {
        "id": "5QoqJDFUJJ04"
      },
      "execution_count": null,
      "outputs": []
    }
  ]
}