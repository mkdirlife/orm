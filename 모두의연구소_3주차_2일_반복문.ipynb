{
  "nbformat": 4,
  "nbformat_minor": 0,
  "metadata": {
    "colab": {
      "provenance": [],
      "authorship_tag": "ABX9TyM2llyeJI2MFvJkiVD9CNEo",
      "include_colab_link": true
    },
    "kernelspec": {
      "name": "python3",
      "display_name": "Python 3"
    },
    "language_info": {
      "name": "python"
    }
  },
  "cells": [
    {
      "cell_type": "markdown",
      "metadata": {
        "id": "view-in-github",
        "colab_type": "text"
      },
      "source": [
        "<a href=\"https://colab.research.google.com/github/mkdirlife/orm/blob/main/%EC%98%A4%EB%A6%84%EC%BA%A0%ED%94%84_3%EC%A3%BC%EC%B0%A8_2%EC%9D%BC_%EB%B0%98%EB%B3%B5%EB%AC%B8.ipynb\" target=\"_parent\"><img src=\"https://colab.research.google.com/assets/colab-badge.svg\" alt=\"Open In Colab\"/></a>"
      ]
    },
    {
      "cell_type": "markdown",
      "source": [
        "# 1. 반복문"
      ],
      "metadata": {
        "id": "T0MGgs6PEnrz"
      }
    },
    {
      "cell_type": "code",
      "source": [
        "def 함수명():\n",
        "    pass"
      ],
      "metadata": {
        "id": "LKcdey18EyKs"
      },
      "execution_count": 1,
      "outputs": []
    },
    {
      "cell_type": "code",
      "source": [
        "if 조건:\n",
        "    pass"
      ],
      "metadata": {
        "id": "dX1cUDw0E2F9"
      },
      "execution_count": null,
      "outputs": []
    },
    {
      "cell_type": "code",
      "source": [
        "# 반복문\n",
        "for 변수명 in 순회_가능한_객체:\n",
        "    pass    # 수행할 문장"
      ],
      "metadata": {
        "id": "TlvlvXhPE4o6"
      },
      "execution_count": null,
      "outputs": []
    },
    {
      "cell_type": "code",
      "source": [
        "test = 'hello'"
      ],
      "metadata": {
        "id": "RRY48gwXFAkB"
      },
      "execution_count": 4,
      "outputs": []
    },
    {
      "cell_type": "code",
      "source": [
        "print(test[0])\n",
        "print(test[0:2])"
      ],
      "metadata": {
        "colab": {
          "base_uri": "https://localhost:8080/"
        },
        "id": "pXUZ5PAfFitz",
        "outputId": "c2e3b507-a6bf-4235-8749-01ca7e3c7d0c"
      },
      "execution_count": 5,
      "outputs": [
        {
          "output_type": "stream",
          "name": "stdout",
          "text": [
            "h\n",
            "he\n"
          ]
        }
      ]
    },
    {
      "cell_type": "code",
      "source": [
        "# 반복문의 기초 - 문자열\n",
        "# 1. 'hello'를 순서대라 하나씩 단어를 꺼내서\n",
        "# 2. x에 하나씩 넣은 다음에\n",
        "# 3. 하나씩 for문 아래 코드블럭을 수행한다.\n",
        "# 4. 그리고 순서가 마쳐지면 -> 다음 시퀀스(순서)로 넘어가서 똑같은 작업을 수행한다.\n",
        "for x in 'hello':   # 순회 가능한 객체 -> 문자열 / 리스트 / 다른 데이터셋 / range(10) / 기타 등등\n",
        "    print(f\"현재 값은 {x} 입니다.\")\n"
      ],
      "metadata": {
        "colab": {
          "base_uri": "https://localhost:8080/"
        },
        "id": "OF-CZuatFlcO",
        "outputId": "1fa2dcbd-dde3-43d7-b23b-cc91d1122aef"
      },
      "execution_count": 6,
      "outputs": [
        {
          "output_type": "stream",
          "name": "stdout",
          "text": [
            "현재 값은 h 입니다.\n",
            "현재 값은 e 입니다.\n",
            "현재 값은 l 입니다.\n",
            "현재 값은 l 입니다.\n",
            "현재 값은 o 입니다.\n"
          ]
        }
      ]
    },
    {
      "cell_type": "code",
      "source": [
        "for x in (1, 2, 3, 4, 5):\n",
        "    print(f\"현재 값은 {x} 입니다.\")"
      ],
      "metadata": {
        "colab": {
          "base_uri": "https://localhost:8080/"
        },
        "id": "BQK27pe4GBhH",
        "outputId": "b310f5d6-4798-434e-c514-4affc53b135e"
      },
      "execution_count": 7,
      "outputs": [
        {
          "output_type": "stream",
          "name": "stdout",
          "text": [
            "현재 값은 1 입니다.\n",
            "현재 값은 2 입니다.\n",
            "현재 값은 3 입니다.\n",
            "현재 값은 4 입니다.\n",
            "현재 값은 5 입니다.\n"
          ]
        }
      ]
    },
    {
      "cell_type": "code",
      "source": [
        "for x in range(10, 20, 2):\n",
        "    print(f\"현재 값은 {x} 입니다.\")"
      ],
      "metadata": {
        "colab": {
          "base_uri": "https://localhost:8080/"
        },
        "id": "g8Wjic44GtJS",
        "outputId": "a61c08d8-5227-4189-c3a3-8b7d504871a1"
      },
      "execution_count": 8,
      "outputs": [
        {
          "output_type": "stream",
          "name": "stdout",
          "text": [
            "현재 값은 10 입니다.\n",
            "현재 값은 12 입니다.\n",
            "현재 값은 14 입니다.\n",
            "현재 값은 16 입니다.\n",
            "현재 값은 18 입니다.\n"
          ]
        }
      ]
    },
    {
      "cell_type": "code",
      "source": [
        "len(range(10))"
      ],
      "metadata": {
        "colab": {
          "base_uri": "https://localhost:8080/"
        },
        "id": "Dxg0dZnSGzXg",
        "outputId": "4cd40943-07e5-46fa-806c-eddc8af56d52"
      },
      "execution_count": 9,
      "outputs": [
        {
          "output_type": "execute_result",
          "data": {
            "text/plain": [
              "10"
            ]
          },
          "metadata": {},
          "execution_count": 9
        }
      ]
    },
    {
      "cell_type": "code",
      "source": [
        "# 문자열 자료형을 범위로 가져왔을때!\n",
        "\n",
        "s = 'hello world'\n",
        "for i in s:\n",
        "    print(i)"
      ],
      "metadata": {
        "colab": {
          "base_uri": "https://localhost:8080/"
        },
        "id": "2PvqdS0IHH1R",
        "outputId": "891e35ad-4b28-40a8-83dd-b9229e10b644"
      },
      "execution_count": 10,
      "outputs": [
        {
          "output_type": "stream",
          "name": "stdout",
          "text": [
            "h\n",
            "e\n",
            "l\n",
            "l\n",
            "o\n",
            " \n",
            "w\n",
            "o\n",
            "r\n",
            "l\n",
            "d\n"
          ]
        }
      ]
    },
    {
      "cell_type": "code",
      "source": [
        "s = '123'\n",
        "result = 0\n",
        "for i in '123213':\n",
        "    result += int(i)\n",
        "print(result)"
      ],
      "metadata": {
        "colab": {
          "base_uri": "https://localhost:8080/"
        },
        "id": "YRPMjCqrHbFa",
        "outputId": "154d30ee-4a1d-40c8-abb1-91926be0ca1b"
      },
      "execution_count": 13,
      "outputs": [
        {
          "output_type": "stream",
          "name": "stdout",
          "text": [
            "12\n"
          ]
        }
      ]
    },
    {
      "cell_type": "code",
      "source": [
        "단어_사전 = {\n",
        "    '하나' : 'one',\n",
        "    '둘' : 'two',\n",
        "    '셋' : 'three',\n",
        "}\n",
        "\n",
        "for i in 단어_사전:\n",
        "    print(i ,':', 단어_사전[i])\n",
        "\n",
        "for key, value in 단어_사전.items():\n",
        "    print(f\"{key} : {value}\")"
      ],
      "metadata": {
        "colab": {
          "base_uri": "https://localhost:8080/"
        },
        "id": "iyS0KyMlHf58",
        "outputId": "8503d1ec-63ef-49b1-94cf-8e3c0341d826"
      },
      "execution_count": 30,
      "outputs": [
        {
          "output_type": "stream",
          "name": "stdout",
          "text": [
            "하나 : one\n",
            "둘 : two\n",
            "셋 : three\n",
            "하나 : one\n",
            "둘 : two\n",
            "셋 : three\n"
          ]
        }
      ]
    },
    {
      "cell_type": "code",
      "source": [
        "result = 0\n",
        "for i in range(101):\n",
        "    result += i\n",
        "result"
      ],
      "metadata": {
        "colab": {
          "base_uri": "https://localhost:8080/"
        },
        "id": "C5VYc4ehH0iZ",
        "outputId": "f2085fbe-d6b0-45f8-a9b2-d5efa5073386"
      },
      "execution_count": 31,
      "outputs": [
        {
          "output_type": "execute_result",
          "data": {
            "text/plain": [
              "5050"
            ]
          },
          "metadata": {},
          "execution_count": 31
        }
      ]
    },
    {
      "cell_type": "code",
      "source": [
        "n = 100\n",
        "result = (n + 1) * n / 2\n",
        "result"
      ],
      "metadata": {
        "colab": {
          "base_uri": "https://localhost:8080/"
        },
        "id": "5vJjGEjbL6-w",
        "outputId": "c84d5ac7-e5b3-453a-b3aa-1bb022951268"
      },
      "execution_count": 32,
      "outputs": [
        {
          "output_type": "execute_result",
          "data": {
            "text/plain": [
              "5050.0"
            ]
          },
          "metadata": {},
          "execution_count": 32
        }
      ]
    },
    {
      "cell_type": "code",
      "source": [
        "#result = 0\n",
        "# 리스트라면 비어있는 리스트라도 만들어야 한다. result = []\n",
        "# 비어있는 자료형도 자료형이다. None도 자료형이다.\n",
        "\n",
        "for i in range(101):\n",
        "    if i % 2 == 0 or i % 2 == 1:\n",
        "        result += i\n",
        "result"
      ],
      "metadata": {
        "colab": {
          "base_uri": "https://localhost:8080/",
          "height": 239
        },
        "id": "HapmcZvoL9eg",
        "outputId": "cda007c9-beae-4659-d50a-dc69dd4439c8"
      },
      "execution_count": 1,
      "outputs": [
        {
          "output_type": "error",
          "ename": "NameError",
          "evalue": "name 'result' is not defined",
          "traceback": [
            "\u001b[0;31m---------------------------------------------------------------------------\u001b[0m",
            "\u001b[0;31mNameError\u001b[0m                                 Traceback (most recent call last)",
            "\u001b[0;32m<ipython-input-1-32043a4b85c3>\u001b[0m in \u001b[0;36m<cell line: 5>\u001b[0;34m()\u001b[0m\n\u001b[1;32m      5\u001b[0m \u001b[0;32mfor\u001b[0m \u001b[0mi\u001b[0m \u001b[0;32min\u001b[0m \u001b[0mrange\u001b[0m\u001b[0;34m(\u001b[0m\u001b[0;36m101\u001b[0m\u001b[0;34m)\u001b[0m\u001b[0;34m:\u001b[0m\u001b[0;34m\u001b[0m\u001b[0;34m\u001b[0m\u001b[0m\n\u001b[1;32m      6\u001b[0m     \u001b[0;32mif\u001b[0m \u001b[0mi\u001b[0m \u001b[0;34m%\u001b[0m \u001b[0;36m2\u001b[0m \u001b[0;34m==\u001b[0m \u001b[0;36m0\u001b[0m \u001b[0;32mor\u001b[0m \u001b[0mi\u001b[0m \u001b[0;34m%\u001b[0m \u001b[0;36m2\u001b[0m \u001b[0;34m==\u001b[0m \u001b[0;36m1\u001b[0m\u001b[0;34m:\u001b[0m\u001b[0;34m\u001b[0m\u001b[0;34m\u001b[0m\u001b[0m\n\u001b[0;32m----> 7\u001b[0;31m         \u001b[0mresult\u001b[0m \u001b[0;34m+=\u001b[0m \u001b[0mi\u001b[0m\u001b[0;34m\u001b[0m\u001b[0;34m\u001b[0m\u001b[0m\n\u001b[0m\u001b[1;32m      8\u001b[0m \u001b[0mresult\u001b[0m\u001b[0;34m\u001b[0m\u001b[0;34m\u001b[0m\u001b[0m\n",
            "\u001b[0;31mNameError\u001b[0m: name 'result' is not defined"
          ]
        }
      ]
    },
    {
      "cell_type": "code",
      "source": [
        "result = 0\n",
        "for i in range(1, 101):\n",
        "    result += i\n",
        "result"
      ],
      "metadata": {
        "colab": {
          "base_uri": "https://localhost:8080/"
        },
        "id": "v5NLHDWAMUx2",
        "outputId": "74774599-2c8a-47e8-e14c-9398be877da8"
      },
      "execution_count": 58,
      "outputs": [
        {
          "output_type": "execute_result",
          "data": {
            "text/plain": [
              "5050"
            ]
          },
          "metadata": {},
          "execution_count": 58
        }
      ]
    },
    {
      "cell_type": "markdown",
      "source": [
        "# 2. 중첩 반복문"
      ],
      "metadata": {
        "id": "VYr9dQbrNTuT"
      }
    },
    {
      "cell_type": "code",
      "source": [
        "# code1\n",
        "for i in [[1, 2], [10, 20], [100, 200]]:\n",
        "    for j in i:\n",
        "        print(i)\n",
        "        print(j)"
      ],
      "metadata": {
        "colab": {
          "base_uri": "https://localhost:8080/"
        },
        "id": "QJhfjpRBNtDL",
        "outputId": "a6d0df86-403d-43fe-deae-b74cfd98da1e"
      },
      "execution_count": 63,
      "outputs": [
        {
          "output_type": "stream",
          "name": "stdout",
          "text": [
            "[1, 2]\n",
            "1\n",
            "[1, 2]\n",
            "2\n",
            "[10, 20]\n",
            "10\n",
            "[10, 20]\n",
            "20\n",
            "[100, 200]\n",
            "100\n",
            "[100, 200]\n",
            "200\n"
          ]
        }
      ]
    },
    {
      "cell_type": "code",
      "source": [
        "#1. 방금처럼 구조를 정한다.\n",
        "#2. 최소한의 반복문만 수행해본다.\n",
        "#3. 각 반복문을 print() 해본다."
      ],
      "metadata": {
        "id": "KstgoWz9NwqN"
      },
      "execution_count": 64,
      "outputs": []
    },
    {
      "cell_type": "code",
      "source": [
        "# 구구단 만들기\n",
        "\n",
        "for i in range(2, 10):  # 2 ~ 9단 앞자리 수\n",
        "    print(\"\")\n",
        "    print(f\"--- {i} 단---\")\n",
        "    for j in range(1, 10):  # 1~9 반복한다.\n",
        "        print(f\"{i} * {j} = {i * j}\")\n",
        "\n",
        "a = [f\"{i} * {j} = {i * j}\" for i in range(2, 10) for j in range(1, 10)]\n",
        "\n",
        "# print(a)\n",
        "for k in a:\n",
        "    print(k)\n",
        "    print(\"\")\n",
        "    print(f\"--- {key} 단---\")\n"
      ],
      "metadata": {
        "colab": {
          "base_uri": "https://localhost:8080/"
        },
        "id": "WQsqw1RtPa38",
        "outputId": "6f5d7b7b-3b28-450f-caa8-6be7a377117e"
      },
      "execution_count": 107,
      "outputs": [
        {
          "output_type": "stream",
          "name": "stdout",
          "text": [
            "\n",
            "--- 2 단---\n",
            "2 * 1 = 2\n",
            "2 * 2 = 4\n",
            "2 * 3 = 6\n",
            "2 * 4 = 8\n",
            "2 * 5 = 10\n",
            "2 * 6 = 12\n",
            "2 * 7 = 14\n",
            "2 * 8 = 16\n",
            "2 * 9 = 18\n",
            "\n",
            "--- 3 단---\n",
            "3 * 1 = 3\n",
            "3 * 2 = 6\n",
            "3 * 3 = 9\n",
            "3 * 4 = 12\n",
            "3 * 5 = 15\n",
            "3 * 6 = 18\n",
            "3 * 7 = 21\n",
            "3 * 8 = 24\n",
            "3 * 9 = 27\n",
            "\n",
            "--- 4 단---\n",
            "4 * 1 = 4\n",
            "4 * 2 = 8\n",
            "4 * 3 = 12\n",
            "4 * 4 = 16\n",
            "4 * 5 = 20\n",
            "4 * 6 = 24\n",
            "4 * 7 = 28\n",
            "4 * 8 = 32\n",
            "4 * 9 = 36\n",
            "\n",
            "--- 5 단---\n",
            "5 * 1 = 5\n",
            "5 * 2 = 10\n",
            "5 * 3 = 15\n",
            "5 * 4 = 20\n",
            "5 * 5 = 25\n",
            "5 * 6 = 30\n",
            "5 * 7 = 35\n",
            "5 * 8 = 40\n",
            "5 * 9 = 45\n",
            "\n",
            "--- 6 단---\n",
            "6 * 1 = 6\n",
            "6 * 2 = 12\n",
            "6 * 3 = 18\n",
            "6 * 4 = 24\n",
            "6 * 5 = 30\n",
            "6 * 6 = 36\n",
            "6 * 7 = 42\n",
            "6 * 8 = 48\n",
            "6 * 9 = 54\n",
            "\n",
            "--- 7 단---\n",
            "7 * 1 = 7\n",
            "7 * 2 = 14\n",
            "7 * 3 = 21\n",
            "7 * 4 = 28\n",
            "7 * 5 = 35\n",
            "7 * 6 = 42\n",
            "7 * 7 = 49\n",
            "7 * 8 = 56\n",
            "7 * 9 = 63\n",
            "\n",
            "--- 8 단---\n",
            "8 * 1 = 8\n",
            "8 * 2 = 16\n",
            "8 * 3 = 24\n",
            "8 * 4 = 32\n",
            "8 * 5 = 40\n",
            "8 * 6 = 48\n",
            "8 * 7 = 56\n",
            "8 * 8 = 64\n",
            "8 * 9 = 72\n",
            "\n",
            "--- 9 단---\n",
            "9 * 1 = 9\n",
            "9 * 2 = 18\n",
            "9 * 3 = 27\n",
            "9 * 4 = 36\n",
            "9 * 5 = 45\n",
            "9 * 6 = 54\n",
            "9 * 7 = 63\n",
            "9 * 8 = 72\n",
            "9 * 9 = 81\n",
            "2 * 1 = 2\n",
            "2 * 2 = 4\n",
            "2 * 3 = 6\n",
            "2 * 4 = 8\n",
            "2 * 5 = 10\n",
            "2 * 6 = 12\n",
            "2 * 7 = 14\n",
            "2 * 8 = 16\n",
            "2 * 9 = 18\n",
            "3 * 1 = 3\n",
            "3 * 2 = 6\n",
            "3 * 3 = 9\n",
            "3 * 4 = 12\n",
            "3 * 5 = 15\n",
            "3 * 6 = 18\n",
            "3 * 7 = 21\n",
            "3 * 8 = 24\n",
            "3 * 9 = 27\n",
            "4 * 1 = 4\n",
            "4 * 2 = 8\n",
            "4 * 3 = 12\n",
            "4 * 4 = 16\n",
            "4 * 5 = 20\n",
            "4 * 6 = 24\n",
            "4 * 7 = 28\n",
            "4 * 8 = 32\n",
            "4 * 9 = 36\n",
            "5 * 1 = 5\n",
            "5 * 2 = 10\n",
            "5 * 3 = 15\n",
            "5 * 4 = 20\n",
            "5 * 5 = 25\n",
            "5 * 6 = 30\n",
            "5 * 7 = 35\n",
            "5 * 8 = 40\n",
            "5 * 9 = 45\n",
            "6 * 1 = 6\n",
            "6 * 2 = 12\n",
            "6 * 3 = 18\n",
            "6 * 4 = 24\n",
            "6 * 5 = 30\n",
            "6 * 6 = 36\n",
            "6 * 7 = 42\n",
            "6 * 8 = 48\n",
            "6 * 9 = 54\n",
            "7 * 1 = 7\n",
            "7 * 2 = 14\n",
            "7 * 3 = 21\n",
            "7 * 4 = 28\n",
            "7 * 5 = 35\n",
            "7 * 6 = 42\n",
            "7 * 7 = 49\n",
            "7 * 8 = 56\n",
            "7 * 9 = 63\n",
            "8 * 1 = 8\n",
            "8 * 2 = 16\n",
            "8 * 3 = 24\n",
            "8 * 4 = 32\n",
            "8 * 5 = 40\n",
            "8 * 6 = 48\n",
            "8 * 7 = 56\n",
            "8 * 8 = 64\n",
            "8 * 9 = 72\n",
            "9 * 1 = 9\n",
            "9 * 2 = 18\n",
            "9 * 3 = 27\n",
            "9 * 4 = 36\n",
            "9 * 5 = 45\n",
            "9 * 6 = 54\n",
            "9 * 7 = 63\n",
            "9 * 8 = 72\n",
            "9 * 9 = 81\n"
          ]
        }
      ]
    },
    {
      "cell_type": "code",
      "source": [
        "x = []\n",
        "\n",
        "for i in range(1, 10):\n",
        "  x.append(i)\n",
        "\n",
        "print(x)"
      ],
      "metadata": {
        "colab": {
          "base_uri": "https://localhost:8080/"
        },
        "id": "U4l-CjNjQzeF",
        "outputId": "0dad37ea-2b45-465d-a51f-1ff18a53ff84"
      },
      "execution_count": 79,
      "outputs": [
        {
          "output_type": "stream",
          "name": "stdout",
          "text": [
            "[1, 2, 3, 4, 5, 6, 7, 8, 9]\n"
          ]
        }
      ]
    },
    {
      "cell_type": "code",
      "source": [
        "# step1 list안에 for문을 가져옵니다.\n",
        "#[for i in range(1, 10)] # for문 시작하는 조건을 가져오고 리스트로 묶는다.\n",
        "\n",
        "# step2 append 항목을 앞으로 가져옵니다.\n",
        "a = [i for i in range(1, 10)] # 출력: [1, 2, 3, 4, 5, 6, 7, 8, 9]\n",
        "print(a)\n",
        "\n",
        "b = [i*2 for i in range(1, 10)] # 출력: [1, 2, 3, 4, 5, 6, 7, 8, 9]\n",
        "print(b)"
      ],
      "metadata": {
        "colab": {
          "base_uri": "https://localhost:8080/"
        },
        "id": "aGQz2Z9BSNr0",
        "outputId": "e38a48fc-2ad9-455d-d5f4-ee139e277873"
      },
      "execution_count": 84,
      "outputs": [
        {
          "output_type": "stream",
          "name": "stdout",
          "text": [
            "[1, 2, 3, 4, 5, 6, 7, 8, 9]\n",
            "[2, 4, 6, 8, 10, 12, 14, 16, 18]\n"
          ]
        }
      ]
    },
    {
      "cell_type": "code",
      "source": [
        "# 리스트 컴프리헨션 + 조건문\n",
        "l = [i for i in range(1, 10) if i % 2 == 0 and i % 3 == 0]\n",
        "print(l)"
      ],
      "metadata": {
        "colab": {
          "base_uri": "https://localhost:8080/"
        },
        "id": "IDQ-czOQSTLo",
        "outputId": "0c0bfdb4-b2da-4655-dd2c-29a898353512"
      },
      "execution_count": 92,
      "outputs": [
        {
          "output_type": "stream",
          "name": "stdout",
          "text": [
            "[6]\n"
          ]
        }
      ]
    },
    {
      "cell_type": "code",
      "source": [
        "# 중첩된 리스트 컴프리헨션\n",
        "\n",
        "# 리스트 컴프리헨션: 중첩된 반복문\n",
        "c = [f'{i} × {j} = {i*j}' for i in range(2, 10) for j in range(1, 10)]\n",
        "print(c)\n",
        "\n",
        "# 리스트 컴프리헨션: 중첩된 컴프리헨션\n",
        "cc = [[f'{i} × {j} = {i*j}' for j in range(1, 10)] for i in range(2, 10)]\n",
        "print(cc)\n",
        "\n",
        "# 전통적인 방법\n",
        "c_list = []\n",
        "for i in range(2, 10):\n",
        "    for j in range(1, 10):\n",
        "        c_list.append(f'{i} × {j} = {i*j}')\n",
        "print(c_list)"
      ],
      "metadata": {
        "colab": {
          "base_uri": "https://localhost:8080/"
        },
        "id": "J6U3qg6eUgz3",
        "outputId": "034eab0c-4a46-4b30-831f-49664df2cbcc"
      },
      "execution_count": 6,
      "outputs": [
        {
          "output_type": "stream",
          "name": "stdout",
          "text": [
            "['2 × 1 = 2', '2 × 2 = 4', '2 × 3 = 6', '2 × 4 = 8', '2 × 5 = 10', '2 × 6 = 12', '2 × 7 = 14', '2 × 8 = 16', '2 × 9 = 18', '3 × 1 = 3', '3 × 2 = 6', '3 × 3 = 9', '3 × 4 = 12', '3 × 5 = 15', '3 × 6 = 18', '3 × 7 = 21', '3 × 8 = 24', '3 × 9 = 27', '4 × 1 = 4', '4 × 2 = 8', '4 × 3 = 12', '4 × 4 = 16', '4 × 5 = 20', '4 × 6 = 24', '4 × 7 = 28', '4 × 8 = 32', '4 × 9 = 36', '5 × 1 = 5', '5 × 2 = 10', '5 × 3 = 15', '5 × 4 = 20', '5 × 5 = 25', '5 × 6 = 30', '5 × 7 = 35', '5 × 8 = 40', '5 × 9 = 45', '6 × 1 = 6', '6 × 2 = 12', '6 × 3 = 18', '6 × 4 = 24', '6 × 5 = 30', '6 × 6 = 36', '6 × 7 = 42', '6 × 8 = 48', '6 × 9 = 54', '7 × 1 = 7', '7 × 2 = 14', '7 × 3 = 21', '7 × 4 = 28', '7 × 5 = 35', '7 × 6 = 42', '7 × 7 = 49', '7 × 8 = 56', '7 × 9 = 63', '8 × 1 = 8', '8 × 2 = 16', '8 × 3 = 24', '8 × 4 = 32', '8 × 5 = 40', '8 × 6 = 48', '8 × 7 = 56', '8 × 8 = 64', '8 × 9 = 72', '9 × 1 = 9', '9 × 2 = 18', '9 × 3 = 27', '9 × 4 = 36', '9 × 5 = 45', '9 × 6 = 54', '9 × 7 = 63', '9 × 8 = 72', '9 × 9 = 81']\n",
            "[['2 × 1 = 2', '2 × 2 = 4', '2 × 3 = 6', '2 × 4 = 8', '2 × 5 = 10', '2 × 6 = 12', '2 × 7 = 14', '2 × 8 = 16', '2 × 9 = 18'], ['3 × 1 = 3', '3 × 2 = 6', '3 × 3 = 9', '3 × 4 = 12', '3 × 5 = 15', '3 × 6 = 18', '3 × 7 = 21', '3 × 8 = 24', '3 × 9 = 27'], ['4 × 1 = 4', '4 × 2 = 8', '4 × 3 = 12', '4 × 4 = 16', '4 × 5 = 20', '4 × 6 = 24', '4 × 7 = 28', '4 × 8 = 32', '4 × 9 = 36'], ['5 × 1 = 5', '5 × 2 = 10', '5 × 3 = 15', '5 × 4 = 20', '5 × 5 = 25', '5 × 6 = 30', '5 × 7 = 35', '5 × 8 = 40', '5 × 9 = 45'], ['6 × 1 = 6', '6 × 2 = 12', '6 × 3 = 18', '6 × 4 = 24', '6 × 5 = 30', '6 × 6 = 36', '6 × 7 = 42', '6 × 8 = 48', '6 × 9 = 54'], ['7 × 1 = 7', '7 × 2 = 14', '7 × 3 = 21', '7 × 4 = 28', '7 × 5 = 35', '7 × 6 = 42', '7 × 7 = 49', '7 × 8 = 56', '7 × 9 = 63'], ['8 × 1 = 8', '8 × 2 = 16', '8 × 3 = 24', '8 × 4 = 32', '8 × 5 = 40', '8 × 6 = 48', '8 × 7 = 56', '8 × 8 = 64', '8 × 9 = 72'], ['9 × 1 = 9', '9 × 2 = 18', '9 × 3 = 27', '9 × 4 = 36', '9 × 5 = 45', '9 × 6 = 54', '9 × 7 = 63', '9 × 8 = 72', '9 × 9 = 81']]\n",
            "['2 × 1 = 2', '2 × 2 = 4', '2 × 3 = 6', '2 × 4 = 8', '2 × 5 = 10', '2 × 6 = 12', '2 × 7 = 14', '2 × 8 = 16', '2 × 9 = 18', '3 × 1 = 3', '3 × 2 = 6', '3 × 3 = 9', '3 × 4 = 12', '3 × 5 = 15', '3 × 6 = 18', '3 × 7 = 21', '3 × 8 = 24', '3 × 9 = 27', '4 × 1 = 4', '4 × 2 = 8', '4 × 3 = 12', '4 × 4 = 16', '4 × 5 = 20', '4 × 6 = 24', '4 × 7 = 28', '4 × 8 = 32', '4 × 9 = 36', '5 × 1 = 5', '5 × 2 = 10', '5 × 3 = 15', '5 × 4 = 20', '5 × 5 = 25', '5 × 6 = 30', '5 × 7 = 35', '5 × 8 = 40', '5 × 9 = 45', '6 × 1 = 6', '6 × 2 = 12', '6 × 3 = 18', '6 × 4 = 24', '6 × 5 = 30', '6 × 6 = 36', '6 × 7 = 42', '6 × 8 = 48', '6 × 9 = 54', '7 × 1 = 7', '7 × 2 = 14', '7 × 3 = 21', '7 × 4 = 28', '7 × 5 = 35', '7 × 6 = 42', '7 × 7 = 49', '7 × 8 = 56', '7 × 9 = 63', '8 × 1 = 8', '8 × 2 = 16', '8 × 3 = 24', '8 × 4 = 32', '8 × 5 = 40', '8 × 6 = 48', '8 × 7 = 56', '8 × 8 = 64', '8 × 9 = 72', '9 × 1 = 9', '9 × 2 = 18', '9 × 3 = 27', '9 × 4 = 36', '9 × 5 = 45', '9 × 6 = 54', '9 × 7 = 63', '9 × 8 = 72', '9 × 9 = 81']\n"
          ]
        }
      ]
    },
    {
      "cell_type": "code",
      "source": [
        "def sumthingFunction(i):    # 함수 sumthingFunction(i)을 생성\n",
        "    if i % 100 ==0:         # 조건문 100으로 나눴을때 나머지가 0이 되는것\n",
        "        return i            # 조건에 일치하면 i를 리턴 일치하지 않으면 0을 리턴\n",
        "    else:\n",
        "        return 0\n",
        "\n",
        "l = [100, 200, 300, 101, 202, 303]\n",
        "l = [sumthingFunction(i) for i in l]    # ㅣ(리스트)에 있는 값들을 하나씩 꺼내서, 함수에 태워보고, 조건에 맞는 값들만 인쇄\n",
        "l # 출력: [100, 200, 300, 0, 0, 0]"
      ],
      "metadata": {
        "colab": {
          "base_uri": "https://localhost:8080/"
        },
        "id": "wW1trjU4pPRA",
        "outputId": "e4466a76-6a84-48d4-fd47-da51d32923a9"
      },
      "execution_count": 7,
      "outputs": [
        {
          "output_type": "execute_result",
          "data": {
            "text/plain": [
              "[100, 200, 300, 0, 0, 0]"
            ]
          },
          "metadata": {},
          "execution_count": 7
        }
      ]
    },
    {
      "cell_type": "code",
      "source": [
        "l = [100, 200, 300, 101, 202, 303]\n",
        "l2 = [(lambda x : x % 100 == 0) for i in l]\n",
        "print(l2)"
      ],
      "metadata": {
        "colab": {
          "base_uri": "https://localhost:8080/"
        },
        "id": "jBPi4D4CppCB",
        "outputId": "49252449-5c11-443d-bc07-f24cbb33a1d5"
      },
      "execution_count": 104,
      "outputs": [
        {
          "output_type": "stream",
          "name": "stdout",
          "text": [
            "[<function <listcomp>.<lambda> at 0x798ca1d8a4d0>, <function <listcomp>.<lambda> at 0x798ca1d8bc70>, <function <listcomp>.<lambda> at 0x798ca1d8a830>, <function <listcomp>.<lambda> at 0x798ca1d8bb50>, <function <listcomp>.<lambda> at 0x798ca1d88dc0>, <function <listcomp>.<lambda> at 0x798ca1d8a050>]\n"
          ]
        }
      ]
    },
    {
      "cell_type": "code",
      "source": [
        "# 전통적인 방법\n",
        "d = {}\n",
        "for i in range(5):\n",
        "    d[i] = i**2\n",
        "print(d)\n",
        "\n",
        "# 딕셔너리 컴프리헨션 사용\n",
        "dd = {i: i**2 for i in range(5)}\n",
        "print(dd)"
      ],
      "metadata": {
        "colab": {
          "base_uri": "https://localhost:8080/"
        },
        "id": "YANZDOq5p8wZ",
        "outputId": "e814fcc4-324a-4a01-c3a3-94d196fe6723"
      },
      "execution_count": 105,
      "outputs": [
        {
          "output_type": "stream",
          "name": "stdout",
          "text": [
            "{0: 0, 1: 1, 2: 4, 3: 9, 4: 16}\n",
            "{0: 0, 1: 1, 2: 4, 3: 9, 4: 16}\n"
          ]
        }
      ]
    },
    {
      "cell_type": "code",
      "source": [
        "# 복합 순회형 자료 for문\n",
        "\n",
        "for i, j, k in ['abc', 'def', 'ghi']:\n",
        "    print(i, j, k)\n",
        "    print(i)\n"
      ],
      "metadata": {
        "colab": {
          "base_uri": "https://localhost:8080/"
        },
        "id": "7mkwF4wqq0w1",
        "outputId": "c9bfd4bf-a8ad-4f6a-b39c-02b6ba600a09"
      },
      "execution_count": 114,
      "outputs": [
        {
          "output_type": "stream",
          "name": "stdout",
          "text": [
            "a b c\n",
            "a\n",
            "d e f\n",
            "d\n",
            "g h i\n",
            "g\n"
          ]
        }
      ]
    },
    {
      "cell_type": "code",
      "source": [
        "skill = [\n",
        "        ('고기잡이', 100),\n",
        "        ('고기팔기', 120),\n",
        "        ('낚시', 5),\n",
        "        ('통발', 5),\n",
        "        ('큰그물', 5)\n",
        "]\n",
        "\n",
        "for i, j in skill:\n",
        "    print(i, j)"
      ],
      "metadata": {
        "colab": {
          "base_uri": "https://localhost:8080/"
        },
        "id": "3_DvsndGr0P_",
        "outputId": "2372975f-5d23-4c59-dc28-07de5a26d4cc"
      },
      "execution_count": 111,
      "outputs": [
        {
          "output_type": "stream",
          "name": "stdout",
          "text": [
            "고기잡이 100\n",
            "고기팔기 120\n",
            "낚시 5\n",
            "통발 5\n",
            "큰그물 5\n"
          ]
        }
      ]
    },
    {
      "cell_type": "code",
      "source": [
        "# 하나만 리스트여도 쌍이면 상관없이 잘 돌아감\n",
        "skill = [\n",
        "        ('고기잡이', 100, 'SS'),\n",
        "        ('고기팔기', 120, 'SSS'),\n",
        "        ('낚시', 5, 'C'),\n",
        "        ('통발', 5, 'C'),\n",
        "        ('큰그물', 5, 'C')\n",
        "]\n",
        "\n",
        "for skillName, skillLevel, skillGrade in skill:\n",
        "    print(skillName, skillLevel, skillGrade)"
      ],
      "metadata": {
        "colab": {
          "base_uri": "https://localhost:8080/"
        },
        "id": "HERo2pPusQlC",
        "outputId": "8ef6cb08-9a5a-4aef-f3a9-df0312fa0516"
      },
      "execution_count": 115,
      "outputs": [
        {
          "output_type": "stream",
          "name": "stdout",
          "text": [
            "고기잡이 100 SS\n",
            "고기팔기 120 SSS\n",
            "낚시 5 C\n",
            "통발 5 C\n",
            "큰그물 5 C\n"
          ]
        }
      ]
    },
    {
      "cell_type": "code",
      "source": [
        "# enumerate 활용\n",
        "영화누적관객수 = ['레미제라블', '뷰티인사이트', '매트릭스', '인셉션', '어거스트 러쉬']\n",
        "for i in enumerate(영화누적관객수):\n",
        "    print(i)\n",
        "\n",
        "\n"
      ],
      "metadata": {
        "colab": {
          "base_uri": "https://localhost:8080/"
        },
        "id": "vLrOmyOMso0g",
        "outputId": "528d9053-4e2b-45d4-93ed-abcdb0fd0bef"
      },
      "execution_count": 117,
      "outputs": [
        {
          "output_type": "stream",
          "name": "stdout",
          "text": [
            "(0, '레미제라블')\n",
            "(1, '뷰티인사이트')\n",
            "(2, '매트릭스')\n",
            "(3, '인셉션')\n",
            "(4, '어거스트 러쉬')\n",
            "누적관객수 1위! 레미제라블!\n",
            "누적관객수 2위! 뷰티인사이트!\n",
            "누적관객수 3위! 매트릭스!\n",
            "누적관객수 4위! 인셉션!\n",
            "누적관객수 5위! 어거스트 러쉬!\n"
          ]
        }
      ]
    },
    {
      "cell_type": "code",
      "source": [
        "영화누적관객수 = ['레미제라블', '뷰티인사이트', '매트릭스', '인셉션', '어거스트 러쉬']\n",
        "\n",
        "for i, j in enumerate(영화누적관객수, 1):\n",
        "    print(f'누적관객수 {i}위! {j}!')    # i 에는 index값 j에는 영화 제목! , enermerate 안에 인자 1 은 1부터 시작한다는 의미"
      ],
      "metadata": {
        "colab": {
          "base_uri": "https://localhost:8080/"
        },
        "id": "fqChgo5Zt8pm",
        "outputId": "219e6d0f-bb82-48c9-b7ac-a767a9d7c8a7"
      },
      "execution_count": 119,
      "outputs": [
        {
          "output_type": "stream",
          "name": "stdout",
          "text": [
            "누적관객수 1위! 레미제라블!\n",
            "누적관객수 2위! 뷰티인사이트!\n",
            "누적관객수 3위! 매트릭스!\n",
            "누적관객수 4위! 인셉션!\n",
            "누적관객수 5위! 어거스트 러쉬!\n"
          ]
        }
      ]
    },
    {
      "cell_type": "markdown",
      "source": [
        "# 3. while문"
      ],
      "metadata": {
        "id": "w-J_-racuLK9"
      }
    },
    {
      "cell_type": "code",
      "source": [
        "while 구문:\n",
        "    pass    # 수행할 문장"
      ],
      "metadata": {
        "id": "OmuVoKeXwCpW"
      },
      "execution_count": null,
      "outputs": []
    },
    {
      "cell_type": "code",
      "source": [
        "# while문 기초\n",
        "a = 1\n",
        "\n",
        "while a < 10 :\n",
        "    print(a)\n",
        "    a += 1\n",
        "\n",
        "# for문 기초\n",
        "for i in range(1, 10):\n",
        "    print(i)"
      ],
      "metadata": {
        "colab": {
          "base_uri": "https://localhost:8080/"
        },
        "id": "33lxj-_CwIT4",
        "outputId": "1c115d2f-3aa9-4cdd-a3d2-56e8cdb7e9a7"
      },
      "execution_count": 120,
      "outputs": [
        {
          "output_type": "stream",
          "name": "stdout",
          "text": [
            "1\n",
            "2\n",
            "3\n",
            "4\n",
            "5\n",
            "6\n",
            "7\n",
            "8\n",
            "9\n"
          ]
        }
      ]
    },
    {
      "cell_type": "code",
      "source": [],
      "metadata": {
        "colab": {
          "base_uri": "https://localhost:8080/"
        },
        "id": "cU739pbJwPlh",
        "outputId": "218ad945-aa9e-44c5-81cb-a18c9530d5e4"
      },
      "execution_count": 121,
      "outputs": [
        {
          "output_type": "stream",
          "name": "stdout",
          "text": [
            "1\n",
            "2\n",
            "3\n",
            "4\n",
            "5\n",
            "6\n",
            "7\n",
            "8\n",
            "9\n"
          ]
        }
      ]
    },
    {
      "cell_type": "markdown",
      "source": [
        "# 프로그램1. 스무고개 숫자맞추기\n",
        "\n",
        "## 1.1 숫자를 입력 받기\n",
        "* input을 활용해서 숫자를 입력 받으세요!"
      ],
      "metadata": {
        "id": "pCNZZONywVnQ"
      }
    },
    {
      "cell_type": "code",
      "source": [
        "number = int(input(\"숫자를 입력해주세요 (1에서 100사이) :\"))"
      ],
      "metadata": {
        "colab": {
          "base_uri": "https://localhost:8080/"
        },
        "id": "KOnY24ZK0iie",
        "outputId": "8312b159-2db8-46d4-dba0-978bcec984d9"
      },
      "execution_count": 122,
      "outputs": [
        {
          "name": "stdout",
          "output_type": "stream",
          "text": [
            "숫자를 입력하세요 (1에서 100사이) :34\n"
          ]
        }
      ]
    },
    {
      "cell_type": "code",
      "source": [
        "print(number)\n",
        "print(type(number))"
      ],
      "metadata": {
        "colab": {
          "base_uri": "https://localhost:8080/"
        },
        "id": "RvutvIPV0wd9",
        "outputId": "2d99f7bc-6131-4c0f-e18b-956181a669b6"
      },
      "execution_count": 123,
      "outputs": [
        {
          "output_type": "stream",
          "name": "stdout",
          "text": [
            "34\n",
            "<class 'int'>\n"
          ]
        }
      ]
    },
    {
      "cell_type": "code",
      "source": [
        "import random\n",
        "\n",
        "# 우리가 맞춰야할 숫자!\n",
        "secret_number = random.randrange(1, 101)"
      ],
      "metadata": {
        "id": "hbTqbGMV00SN"
      },
      "execution_count": 126,
      "outputs": []
    },
    {
      "cell_type": "code",
      "source": [
        "secret_number"
      ],
      "metadata": {
        "colab": {
          "base_uri": "https://localhost:8080/"
        },
        "id": "XW4c7O141TYA",
        "outputId": "1c69a59f-ef5f-48e9-dbb9-94a63b84a943"
      },
      "execution_count": 127,
      "outputs": [
        {
          "output_type": "execute_result",
          "data": {
            "text/plain": [
              "83"
            ]
          },
          "metadata": {},
          "execution_count": 127
        }
      ]
    },
    {
      "cell_type": "code",
      "source": [
        "# 정답을 위한 Step 1\n",
        "# if문을 사용해서 같으면 정답 틀리면 틀렸습니다. 라고 출력해보기!\n",
        "\n",
        "if secret_number == number:\n",
        "    print(\"정답입니다.\")\n",
        "else:\n",
        "    print(\"틀렸습니다.\")"
      ],
      "metadata": {
        "id": "9LqWYxWW1UqS"
      },
      "execution_count": null,
      "outputs": []
    },
    {
      "cell_type": "code",
      "source": [
        "# step 1을 구현했으나..\n",
        "# 최대 100번까지 맞춰야 한다.\n",
        "# input을 계속 입력해야 한다.\n",
        "# 힌트가 없다.\n",
        "import random\n",
        "\n",
        "# 우리가 맞춰야할 숫자!\n",
        "secret_number = random.randrange(1, 101)\n",
        "\n",
        "# step 2 -> 20번 반속하는 기능을 구현! for문\n",
        "for i in range(1, 21):\n",
        "    while True:\n",
        "        number = input(\"숫자를 입력해주세요 (1에서 100사이) :\")\n",
        "\n",
        "        if number.isdigit() == True:\n",
        "            number = int(number)\n",
        "            if 1 <= number <= 100:\n",
        "                break\n",
        "        else:\n",
        "            print(\"1에서 100까지 숫자를 입력해주세요.\\n\")\n",
        "\n",
        "    if secret_number == number:\n",
        "        print(f\"{secret_number} 정답입니다. {i}번 만에 맞췄네요.\")\n",
        "        print(f\"축하합니다.\")\n",
        "        break\n",
        "    else:\n",
        "        print(f\"{i}번 틀렸습니다.\")\n",
        "\n",
        "        if secret_number > number:\n",
        "            print(\"정답보다 작습니다.\\n\")\n",
        "        else:\n",
        "            print(\"정답보다 큽니다.\\n\")\n",
        "\n",
        "    if number == 20:\n",
        "        print(\"패했습니다. 게임이 종료됩니다.\")\n",
        "        print(f\"정답은 {secret_number}\")"
      ],
      "metadata": {
        "colab": {
          "base_uri": "https://localhost:8080/"
        },
        "id": "8Q63pWA82NwN",
        "outputId": "a7396c54-a5ff-4330-8a27-f2b6ec146782"
      },
      "execution_count": 14,
      "outputs": [
        {
          "output_type": "stream",
          "name": "stdout",
          "text": [
            "숫자를 입력해주세요 (1에서 100사이) :50\n",
            "1번 틀렸습니다.\n",
            "정답보다 작습니다.\n",
            "\n",
            "숫자를 입력해주세요 (1에서 100사이) :75\n",
            "2번 틀렸습니다.\n",
            "정답보다 큽니다.\n",
            "\n",
            "숫자를 입력해주세요 (1에서 100사이) :62\n",
            "62 정답입니다. 3번 만에 맞췄네요.\n",
            "축하합니다.\n"
          ]
        }
      ]
    },
    {
      "cell_type": "markdown",
      "source": [
        "# 프로그램 2: 가위바위보"
      ],
      "metadata": {
        "id": "GNXOX2Sz24w5"
      }
    },
    {
      "cell_type": "code",
      "source": [
        "# Step 1: 우리가 낼 가위, 바위, 보를 입력 받는다.\n",
        "# Step 2: 컴퓨터가 낼 가위, 바위, 보를 입력 받는다.\n",
        "import random\n",
        "\n",
        "our_set = input(\"가위, 바위, 보 입력해주세요 : \")\n",
        "com_set = random.choice(['가위', '바위', '보'])\n",
        "\n",
        "# Step 3: 승패요건\n",
        "if our_set == com_set:\n",
        "    print(f\"같은 {com_set}을 내서 비겼습니다.\")\n",
        "else:\n",
        "    if (our_set == '가위' and com_set == '보') or (our_set == '바위' and com_set == '가위') or (our_set == '보' and com_set == '바위'):\n",
        "        print(f\"상대가 {com_set}을 내서 이겼습니다.\")\n",
        "    else:\n",
        "        print(f\"상대가 {com_set}을 내서졌습니다.\")"
      ],
      "metadata": {
        "colab": {
          "base_uri": "https://localhost:8080/"
        },
        "id": "pq735Tj37Xnf",
        "outputId": "369b9398-1f72-4fc8-e772-fe8c401076b9"
      },
      "execution_count": 143,
      "outputs": [
        {
          "output_type": "stream",
          "name": "stdout",
          "text": [
            "가위, 바위, 보 입력해주세요 : 바위\n",
            "상대가 가위을 내서 이겼습니다.\n"
          ]
        }
      ]
    },
    {
      "cell_type": "code",
      "source": [],
      "metadata": {
        "id": "RMMwftjX76We"
      },
      "execution_count": null,
      "outputs": []
    }
  ]
}