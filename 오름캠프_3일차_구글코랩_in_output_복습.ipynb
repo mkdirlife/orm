{
  "nbformat": 4,
  "nbformat_minor": 0,
  "metadata": {
    "colab": {
      "provenance": [],
      "authorship_tag": "ABX9TyPAySLQWq5+Jgzx0F3AAuyM",
      "include_colab_link": true
    },
    "kernelspec": {
      "name": "python3",
      "display_name": "Python 3"
    },
    "language_info": {
      "name": "python"
    }
  },
  "cells": [
    {
      "cell_type": "markdown",
      "metadata": {
        "id": "view-in-github",
        "colab_type": "text"
      },
      "source": [
        "<a href=\"https://colab.research.google.com/github/mkdirlife/orm/blob/main/%EC%98%A4%EB%A6%84%EC%BA%A0%ED%94%84_3%EC%9D%BC%EC%B0%A8_%EA%B5%AC%EA%B8%80%EC%BD%94%EB%9E%A9_in_output_%EB%B3%B5%EC%8A%B5.ipynb\" target=\"_parent\"><img src=\"https://colab.research.google.com/assets/colab-badge.svg\" alt=\"Open In Colab\"/></a>"
      ]
    },
    {
      "cell_type": "markdown",
      "source": [
        "# 2024년 새해 계획 프로그램"
      ],
      "metadata": {
        "id": "X0SKpao2k9tm"
      }
    },
    {
      "cell_type": "markdown",
      "source": [
        "#1. Input/Output 연습\n",
        "\n",
        "1. 2024년에는 일주일에 3번 ___ 분씩 러닝을 꾸준히 한다\n",
        "2. 2024년에는 ___ 향상에 힘을 쓴다\n",
        "3. 2024년의 목표는 ___ 언어를 배우는 것이다\n",
        "4. 2024년에는 ___달에 ___ 권의 책을 읽는다\n",
        "5. 2024년에는 가족과 ___번 여행을 간다"
      ],
      "metadata": {
        "id": "xhKxZPYSloAX"
      }
    },
    {
      "cell_type": "code",
      "source": [
        "sentence_1 = input(\"2024년에는 일주일에 3번 ___ 분씩 러닝을 꾸준히 한다: \")\n",
        "sentence_2 = input(\"2024년에는 ___ 향상에 힘을 쓴다 \")\n",
        "sentence_3 = input(\"2024년의 목표는 ___ 언어를 배우는 것이다: \")\n",
        "sentence_4 = input(\"2024년에는 ___달에 ___ 권의 책을 읽는다:  \")\n",
        "sentence_4_1, sentence_4_2 = sentence_4.split()  # 두 단어를 입력받고, (필수) 공백을 기준으로 분리\n",
        "sentence_5 = input(\"2024년에는 가족과 ___번 여행을 간다: \")\n",
        "\n",
        "print(f\"\\n2024년에는 일주일에 3번 {sentence_1} 분씩 러닝을 꾸준히 한다.\")\n",
        "print(f\"2024년에는 {sentence_2} 향상에 힘을 쓴다.\")\n",
        "print(f\"2024년의 목표는 {sentence_3} 언어를 배우는 것이다.\")\n",
        "print(f\"2024년에는 {sentence_4_1}달에 {sentence_4_2} 권의 책을 읽는다.\")\n",
        "print(f\"2024년에는 가족과 {sentence_5}번 여행을 간다.\")"
      ],
      "metadata": {
        "id": "-4oK9slnlSdi",
        "colab": {
          "base_uri": "https://localhost:8080/"
        },
        "outputId": "02f5252d-8047-4ed5-9519-eb42c8fbaf3b"
      },
      "execution_count": null,
      "outputs": [
        {
          "output_type": "stream",
          "name": "stdout",
          "text": [
            "2024년에는 일주일에 3번 ___ 분씩 러닝을 꾸준히 한다: 30\n",
            "2024년에는 ___ 향상에 힘을 쓴다 기술\n",
            "2024년의 목표는 ___ 언어를 배우는 것이다: 파이썬\n",
            "2024년에는 ___달에 ___ 권의 책을 읽는다:  1 2\n",
            "2024년에는 가족과 ___번 여행을 간다: 2\n",
            "\n",
            "2024년에는 일주일에 3번 30 분씩 러닝을 꾸준히 한다.\n",
            "2024년에는 기술 향상에 힘을 쓴다.\n",
            "2024년의 목표는 파이썬 언어를 배우는 것이다.\n",
            "2024년에는 1달에 2 권의 책을 읽는다.\n",
            "2024년에는 가족과 2번 여행을 간다.\n"
          ]
        }
      ]
    },
    {
      "cell_type": "code",
      "source": [
        "sentence_1 = input(\"이번 해에는 매일 ___ 운동을 하기로 했다: \")"
      ],
      "metadata": {
        "colab": {
          "base_uri": "https://localhost:8080/"
        },
        "id": "Hh3GlLXImU4N",
        "outputId": "a1d95de5-36b0-408a-8478-75392894c631"
      },
      "execution_count": null,
      "outputs": [
        {
          "name": "stdout",
          "output_type": "stream",
          "text": [
            "이번 해에는 매일 ___ 운동을 하기로 했다: 유산소\n"
          ]
        }
      ]
    },
    {
      "cell_type": "code",
      "source": [
        "print(sentence_1) # \\n은 한칸 띄어쓰기"
      ],
      "metadata": {
        "colab": {
          "base_uri": "https://localhost:8080/"
        },
        "id": "PavK2FJnt5s5",
        "outputId": "55662bac-d840-46ec-c3b8-1a8f34eff3ad"
      },
      "execution_count": null,
      "outputs": [
        {
          "output_type": "stream",
          "name": "stdout",
          "text": [
            "유산소\n"
          ]
        }
      ]
    },
    {
      "cell_type": "code",
      "source": [
        "print(f\"이번 해에는 매일 {sentence_1} 운동을 하기로 했다.\")"
      ],
      "metadata": {
        "colab": {
          "base_uri": "https://localhost:8080/"
        },
        "id": "tNuhyVo8tJO_",
        "outputId": "76f23e73-3a72-44d8-caa6-17bdb18d7d02"
      },
      "execution_count": null,
      "outputs": [
        {
          "output_type": "stream",
          "name": "stdout",
          "text": [
            "이번 해에는 매일 유산소 운동을 하기로 했다.\n"
          ]
        }
      ]
    },
    {
      "cell_type": "code",
      "source": [
        "# 2가지 input 받아보기\n",
        "word1 = input(\"올해는 ___와\")\n",
        "word2 = input(\"___에 집중하려고 한다.\")"
      ],
      "metadata": {
        "colab": {
          "base_uri": "https://localhost:8080/"
        },
        "id": "crWhXI_FuWL1",
        "outputId": "71a43d56-fd92-47d1-d851-40adf9a6e187"
      },
      "execution_count": null,
      "outputs": [
        {
          "name": "stdout",
          "output_type": "stream",
          "text": [
            "올해는 ___와공부\n",
            "___에 집중하려고 한다.운동\n"
          ]
        }
      ]
    },
    {
      "cell_type": "code",
      "source": [
        "# word1, word2 출력하기\n",
        "# 1. 한문장 안에 word1, word2 둘 다 출력하기(가장 기본적인 방법)\n",
        "print(f\"올해는 {word1}와 {word2}에 집중하려고 한다.\")\n",
        "\n",
        "# 2. end를 사용해서 다른 두 문장을 합치기\n",
        "print(f\"올해는 {word1}와\", end = \" \")\n",
        "print(f\"{word2}에 집중하려고 한다.\")"
      ],
      "metadata": {
        "colab": {
          "base_uri": "https://localhost:8080/"
        },
        "id": "EFjDr993uv0X",
        "outputId": "48a434f0-7660-4124-b008-6cc818402a25"
      },
      "execution_count": null,
      "outputs": [
        {
          "output_type": "stream",
          "name": "stdout",
          "text": [
            "올해는 공부와 운동에 집중하려고 한다.\n",
            "올해는 공부와 운동에 집중하려고 한다.\n"
          ]
        }
      ]
    },
    {
      "cell_type": "code",
      "source": [
        "sentence_2 = input(\"올해는 ___과 ___에 집중하려고 한다: \")"
      ],
      "metadata": {
        "colab": {
          "base_uri": "https://localhost:8080/"
        },
        "id": "Ey53FrjvxB6D",
        "outputId": "c7ed7125-fb1d-4508-dece-2bb1976fc207"
      },
      "execution_count": null,
      "outputs": [
        {
          "name": "stdout",
          "output_type": "stream",
          "text": [
            "올해는 ___과 ___에 집중하려고 한다: 운동 독서\n"
          ]
        }
      ]
    },
    {
      "cell_type": "code",
      "source": [
        "# 2.2 두가지 단어를 한꺼번에 받기\n",
        "# 두 단어를 입력받고, (필수) 공백을 기준으로 분리\n",
        "word_1, word_2 = sentence_2.split()\n",
        "print(f\"올해는 {word_1}과 {word_2}에 집중하려고 한다. \")"
      ],
      "metadata": {
        "colab": {
          "base_uri": "https://localhost:8080/"
        },
        "id": "fxy9kWNtvsgJ",
        "outputId": "593772d9-5fac-49c5-e8c6-d3ae03440ef0"
      },
      "execution_count": null,
      "outputs": [
        {
          "output_type": "stream",
          "name": "stdout",
          "text": [
            "올해는 운동과 독서에 집중하려고 한다. \n"
          ]
        }
      ]
    }
  ]
}