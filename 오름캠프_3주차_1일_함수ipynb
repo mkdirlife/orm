{
  "nbformat": 4,
  "nbformat_minor": 0,
  "metadata": {
    "colab": {
      "provenance": [],
      "authorship_tag": "ABX9TyO02YbQd89OZ8mwYX5aux4a",
      "include_colab_link": true
    },
    "kernelspec": {
      "name": "python3",
      "display_name": "Python 3"
    },
    "language_info": {
      "name": "python"
    }
  },
  "cells": [
    {
      "cell_type": "markdown",
      "metadata": {
        "id": "view-in-github",
        "colab_type": "text"
      },
      "source": [
        "<a href=\"https://colab.research.google.com/github/mkdirlife/orm/blob/main/%EC%98%A4%EB%A6%84%EC%BA%A0%ED%94%84_3%EC%A3%BC%EC%B0%A8_1%EC%9D%BC_%ED%95%A8%EC%88%98ipynb\" target=\"_parent\"><img src=\"https://colab.research.google.com/assets/colab-badge.svg\" alt=\"Open In Colab\"/></a>"
      ]
    },
    {
      "cell_type": "code",
      "execution_count": 15,
      "metadata": {
        "id": "SfY5ayTrqZgo"
      },
      "outputs": [],
      "source": [
        "# 1. 함수 만들어 보기\n",
        "\n",
        "# def -> 이건 함수야 makefunc 함수의 이름 + () -> \":\"\n",
        "def makefunc():     # 함수가 활성화될 준비가 완료!\n",
        "    pass"
      ]
    },
    {
      "cell_type": "code",
      "source": [
        "# 2 . 들여쓰기\n",
        "def my_function():\n",
        "    print('1')  # 4칸을 띄우는 것 -> 함수의 본문을 적는 것\n",
        "    print('2')\n",
        "    print('3')\n",
        "\n",
        "print('4')      # 함수의 밖에서 실행됨.\n",
        "\n",
        "# 함수의 실행\n",
        "my_function()   # 실행을 할때는 def와 :은 필요없다. -> 함수의 본문이 실행된다."
      ],
      "metadata": {
        "colab": {
          "base_uri": "https://localhost:8080/"
        },
        "id": "tK5KLzB1tNB7",
        "outputId": "352ae8b6-8979-40ee-b39c-96faaa038bd8"
      },
      "execution_count": 13,
      "outputs": [
        {
          "output_type": "stream",
          "name": "stdout",
          "text": [
            "1\n",
            "2\n",
            "3\n"
          ]
        }
      ]
    },
    {
      "cell_type": "code",
      "source": [
        "# 함수 연습\n",
        "def function(x, y):\n",
        "    z = x + y # z = 10 + 9\n",
        "    return z  # 반환값\n",
        "\n",
        "# 1. return을 함수 내에 지정하지 않았을때\n",
        "# print(\"function(10, 9)=\", function(10, 9))  # 출력 : function(10, 9)= 19\n",
        "\n",
        "# 2. print()문을 사용하지 않았을 때\n",
        "function(10, 9) # 코랩에서 실습이라 출력이 되는데 다른 곳에서 작업할때는 출력이 안된다는 것 주의!"
      ],
      "metadata": {
        "colab": {
          "base_uri": "https://localhost:8080/"
        },
        "id": "KdwuYmiUtqiv",
        "outputId": "b2bd1e2f-7c31-4846-c070-e83b4948f163"
      },
      "execution_count": 17,
      "outputs": [
        {
          "output_type": "execute_result",
          "data": {
            "text/plain": [
              "19"
            ]
          },
          "metadata": {},
          "execution_count": 17
        }
      ]
    },
    {
      "cell_type": "code",
      "source": [
        "# 2.1 입력 매개변수가 없고 반환값도 없는 함수\n",
        "\n",
        "def simple_function():\n",
        "    print('hello world')\n",
        "\n",
        "# 함수 호출\n",
        "#print(simple_function())       # 함수는 일단 호출이 되고, 리턴값이 없으므로 None 도 리턴한다.\n",
        "print(print('hello world'))"
      ],
      "metadata": {
        "colab": {
          "base_uri": "https://localhost:8080/"
        },
        "id": "kkxOw1XZ2eO_",
        "outputId": "514ee4f8-ceb8-44a4-d74d-6a78fc413839"
      },
      "execution_count": 20,
      "outputs": [
        {
          "output_type": "stream",
          "name": "stdout",
          "text": [
            "hello world\n",
            "None\n"
          ]
        }
      ]
    },
    {
      "cell_type": "code",
      "source": [
        "# 2.2 파라미터가 없고, 반환값은 있는 함수\n",
        "def give_me_five():\n",
        "    return 5\n",
        "\n",
        "result = give_me_five() # 매개변수 정의 없이 리턴값을 받음.\n",
        "print(result)   # 출력 : 5\n",
        "#print(type(result))"
      ],
      "metadata": {
        "colab": {
          "base_uri": "https://localhost:8080/"
        },
        "id": "2ykm5ZPA9E5s",
        "outputId": "1aac9962-fb3e-4990-cfc8-cc217e99bca2"
      },
      "execution_count": 26,
      "outputs": [
        {
          "output_type": "stream",
          "name": "stdout",
          "text": [
            "5\n",
            "<class 'int'>\n"
          ]
        }
      ]
    },
    {
      "cell_type": "code",
      "source": [
        "# 2.3 입력 매개변수가 있고, 반환 값이 없는 함수\n",
        "\n",
        "def greeting(name):\n",
        "    print(f\"Hello, {name}\")\n",
        "\n",
        "\n",
        "def greeting(test):\n",
        "    print(f\"Hellod, {test}\")\n",
        "\n",
        "# 함수 호출 'Licat' 이라는 아규먼트를 매개변수로 던짐\n",
        "print(greeting('Licat'))"
      ],
      "metadata": {
        "colab": {
          "base_uri": "https://localhost:8080/"
        },
        "id": "hApphaU999tI",
        "outputId": "9725dd57-267f-4b00-ad7a-a5709420b6bf"
      },
      "execution_count": 32,
      "outputs": [
        {
          "output_type": "stream",
          "name": "stdout",
          "text": [
            "Hellod, Licat\n",
            "None\n"
          ]
        }
      ]
    },
    {
      "cell_type": "code",
      "source": [
        "# 2.4 입력 매개변수가 있고, 반환 값이 있는 함수\n",
        "\n",
        "def add_numbers(x, y):\n",
        "    sum = x + y\n",
        "    return sum\n",
        "\n",
        "# 함수 호출\n",
        "# add_numbers 함수 호출하면서 아규먼트 5, 3 을 던지고,\n",
        "# 함수 내부 실행 후 결과 return 하여 result에 할당\n",
        "result = add_numbers(5, 3)\n",
        "print(result)      # 출력 : 8"
      ],
      "metadata": {
        "colab": {
          "base_uri": "https://localhost:8080/"
        },
        "id": "Az7wIpo3CWq6",
        "outputId": "1f9bd34b-0317-4778-d765-a644a88ded5a"
      },
      "execution_count": 31,
      "outputs": [
        {
          "output_type": "stream",
          "name": "stdout",
          "text": [
            "8\n"
          ]
        }
      ]
    },
    {
      "cell_type": "code",
      "source": [
        "# 1.3.1 파라미터의 기본 사용\n",
        "def f(a, b, c):\n",
        "    print(a, b, c)\n",
        "\n",
        "f(100, 200, 300)\n",
        "f(a=100, b=200, c=300)\n",
        "f(c=300, b=200, a=100)"
      ],
      "metadata": {
        "colab": {
          "base_uri": "https://localhost:8080/",
          "height": 258
        },
        "id": "-9B_ogSwFNLC",
        "outputId": "b3023951-043b-49d7-8651-b0eb0417a411"
      },
      "execution_count": 40,
      "outputs": [
        {
          "output_type": "error",
          "ename": "TypeError",
          "evalue": "f() missing 3 required positional arguments: 'a', 'b', and 'c'",
          "traceback": [
            "\u001b[0;31m---------------------------------------------------------------------------\u001b[0m",
            "\u001b[0;31mTypeError\u001b[0m                                 Traceback (most recent call last)",
            "\u001b[0;32m<ipython-input-40-8a56974a3ed3>\u001b[0m in \u001b[0;36m<cell line: 5>\u001b[0;34m()\u001b[0m\n\u001b[1;32m      3\u001b[0m     \u001b[0mprint\u001b[0m\u001b[0;34m(\u001b[0m\u001b[0ma\u001b[0m\u001b[0;34m,\u001b[0m \u001b[0mb\u001b[0m\u001b[0;34m,\u001b[0m \u001b[0mc\u001b[0m\u001b[0;34m)\u001b[0m\u001b[0;34m\u001b[0m\u001b[0;34m\u001b[0m\u001b[0m\n\u001b[1;32m      4\u001b[0m \u001b[0;34m\u001b[0m\u001b[0m\n\u001b[0;32m----> 5\u001b[0;31m \u001b[0mf\u001b[0m\u001b[0;34m(\u001b[0m\u001b[0;34m)\u001b[0m\u001b[0;34m\u001b[0m\u001b[0;34m\u001b[0m\u001b[0m\n\u001b[0m\u001b[1;32m      6\u001b[0m \u001b[0mf\u001b[0m\u001b[0;34m(\u001b[0m\u001b[0;36m100\u001b[0m\u001b[0;34m,\u001b[0m \u001b[0;36m200\u001b[0m\u001b[0;34m,\u001b[0m \u001b[0;36m300\u001b[0m\u001b[0;34m)\u001b[0m\u001b[0;34m\u001b[0m\u001b[0;34m\u001b[0m\u001b[0m\n\u001b[1;32m      7\u001b[0m \u001b[0mf\u001b[0m\u001b[0;34m(\u001b[0m\u001b[0ma\u001b[0m\u001b[0;34m=\u001b[0m\u001b[0;36m100\u001b[0m\u001b[0;34m,\u001b[0m \u001b[0mb\u001b[0m\u001b[0;34m=\u001b[0m\u001b[0;36m200\u001b[0m\u001b[0;34m,\u001b[0m \u001b[0mc\u001b[0m\u001b[0;34m=\u001b[0m\u001b[0;36m300\u001b[0m\u001b[0;34m)\u001b[0m\u001b[0;34m\u001b[0m\u001b[0;34m\u001b[0m\u001b[0m\n",
            "\u001b[0;31mTypeError\u001b[0m: f() missing 3 required positional arguments: 'a', 'b', and 'c'"
          ]
        }
      ]
    },
    {
      "cell_type": "code",
      "source": [
        "# 1.3.2 기본값을 가진 파라미터\n",
        "\n",
        "def f(a=10, b=20, c=30):\n",
        "    print(a, b, c)\n",
        "\n",
        "f()\n",
        "f(100, 10)\n",
        "f(100, 200, 300)\n",
        "f(a=100, b=200, c=300)\n",
        "f(c=300, b=200, a=300)"
      ],
      "metadata": {
        "colab": {
          "base_uri": "https://localhost:8080/"
        },
        "id": "rlOKkYbNH3Re",
        "outputId": "9ff638bc-19e7-461a-ad03-6c894bb1eaaf"
      },
      "execution_count": 43,
      "outputs": [
        {
          "output_type": "stream",
          "name": "stdout",
          "text": [
            "10 20 30\n",
            "100 10 30\n",
            "100 200 300\n",
            "100 200 300\n",
            "300 200 300\n"
          ]
        }
      ]
    },
    {
      "cell_type": "code",
      "source": [
        "# 잘못된 예\n",
        "# 파이썬은 기본값이 없는 파라미터가 기본값이 없는 파라미터 뒤에 갈 수 없음.\n",
        "# 기본값이 없는 파라미터는 반드시 값을 전달해야함.\n",
        "\n",
        "#def f(a=10, b=20, c):\n",
        "#    print(a, b, c)  # error\n",
        "\n",
        "# 올바른 예\n",
        "def f(a, b=20, c=10):\n",
        "    print(a, b, c)\n",
        "\n",
        "f(100, 10)\n",
        "f(100, 200, 300)\n",
        "f(a=100, b=200, c=300)\n",
        "f(c=300, b=200, a=300)"
      ],
      "metadata": {
        "colab": {
          "base_uri": "https://localhost:8080/"
        },
        "id": "YdRKxgTHIy5H",
        "outputId": "511c7475-402b-4a4e-d7f0-08e441a885cd"
      },
      "execution_count": 71,
      "outputs": [
        {
          "output_type": "stream",
          "name": "stdout",
          "text": [
            "100 10 10\n",
            "100 200 300\n",
            "100 200 300\n",
            "300 200 300\n"
          ]
        }
      ]
    },
    {
      "cell_type": "code",
      "source": [
        "# 1.4.1 컨밴션 자료형을 아규먼트로 넣었을 때\n",
        "def add_element(my_list) :\n",
        "    my_list.append(1)\n",
        "\n",
        "a = [2, 3, 4]\n",
        "add_element(a)\n",
        "print(a)\n",
        ""
      ],
      "metadata": {
        "colab": {
          "base_uri": "https://localhost:8080/"
        },
        "id": "tL2VJbzVJ9g1",
        "outputId": "1130971d-c34b-4e1c-bc3d-c7b28b0aef32"
      },
      "execution_count": 45,
      "outputs": [
        {
          "output_type": "stream",
          "name": "stdout",
          "text": [
            "[2, 3, 4, 1]\n"
          ]
        }
      ]
    },
    {
      "cell_type": "code",
      "source": [
        "def add_element(my_list):\n",
        "    my_list = 10\n",
        "    print(id(my_list)) # 출력: 132025199536192\n",
        "\n",
        "a = [2, 3, 4]\n",
        "add_element(a)\n",
        "print(id(a)) # 출력: 132025199536192\n",
        "print(a)  # 출력: [2, 3, 4, 1]"
      ],
      "metadata": {
        "colab": {
          "base_uri": "https://localhost:8080/"
        },
        "id": "usmkX0ezK-wd",
        "outputId": "e648284c-840d-49be-d160-1d9bd7095601"
      },
      "execution_count": 51,
      "outputs": [
        {
          "output_type": "stream",
          "name": "stdout",
          "text": [
            "132026536739344\n",
            "132025199810432\n",
            "[2, 3, 4]\n"
          ]
        }
      ]
    },
    {
      "cell_type": "code",
      "source": [
        "def add_element(my_list):\n",
        "    my_list = 10\n",
        "    print(id(my_list)) # 출력: 135115442078224\n",
        "    print(type(my_list))\n",
        "\n",
        "a = [2, 3, 4]\n",
        "add_element(a)\n",
        "print(id(a)) # 출력: 135115029248768\n",
        "print(a)  # 출력: [2, 3, 4]\n",
        "print(type(a))"
      ],
      "metadata": {
        "colab": {
          "base_uri": "https://localhost:8080/"
        },
        "id": "9EyjKXJLLcla",
        "outputId": "2a13b009-7205-403a-ec9a-98b7c030215a"
      },
      "execution_count": 53,
      "outputs": [
        {
          "output_type": "stream",
          "name": "stdout",
          "text": [
            "132026536739344\n",
            "<class 'int'>\n",
            "132025200226944\n",
            "[2, 3, 4]\n",
            "<class 'list'>\n"
          ]
        }
      ]
    },
    {
      "cell_type": "code",
      "source": [
        "# 1.4.2 권장되지 않는 기본값\n",
        "# 권장하지 않는 방법\n",
        "\n",
        "def append_to_list(value, lst=[]):\n",
        "    lst.append(value)\n",
        "    return lst      # 예상치 못한 결과가 발생할 수 있습니다.\n",
        "\n",
        "print(append_to_list(1))\n",
        "print(append_to_list(2))"
      ],
      "metadata": {
        "colab": {
          "base_uri": "https://localhost:8080/"
        },
        "id": "s2uw2NJDexS8",
        "outputId": "74e2f620-e9f4-44a5-ff9a-bf306e4d9be1"
      },
      "execution_count": 91,
      "outputs": [
        {
          "output_type": "stream",
          "name": "stdout",
          "text": [
            "[1]\n",
            "[1, 2]\n"
          ]
        }
      ]
    },
    {
      "cell_type": "code",
      "source": [
        "append_to_list(1)"
      ],
      "metadata": {
        "colab": {
          "base_uri": "https://localhost:8080/"
        },
        "id": "XcaP_s57gOUM",
        "outputId": "1d8a3ff1-0161-44ca-898e-acca6aa1da17"
      },
      "execution_count": 66,
      "outputs": [
        {
          "output_type": "execute_result",
          "data": {
            "text/plain": [
              "[1]"
            ]
          },
          "metadata": {},
          "execution_count": 66
        }
      ]
    },
    {
      "cell_type": "code",
      "source": [
        "append_to_list(2)"
      ],
      "metadata": {
        "colab": {
          "base_uri": "https://localhost:8080/"
        },
        "id": "6y4q4GKofVNl",
        "outputId": "d1760281-0737-4bbd-c721-12ebd89934c8"
      },
      "execution_count": 67,
      "outputs": [
        {
          "output_type": "execute_result",
          "data": {
            "text/plain": [
              "[1, 2]"
            ]
          },
          "metadata": {},
          "execution_count": 67
        }
      ]
    },
    {
      "cell_type": "code",
      "source": [
        "# 권장 방법\n",
        "def append_to_list(value, lst=None):\n",
        "    if lst is None:\n",
        "        lst = []\n",
        "    lst.append(value)\n",
        "    return lst\n",
        "\n",
        "print(append_to_list(1))\n",
        "print(append_to_list(2))"
      ],
      "metadata": {
        "colab": {
          "base_uri": "https://localhost:8080/"
        },
        "id": "P0ik_j4Af4IL",
        "outputId": "c03da66b-4c5f-4f05-a07c-d001cdc2e4e4"
      },
      "execution_count": 92,
      "outputs": [
        {
          "output_type": "stream",
          "name": "stdout",
          "text": [
            "[1]\n",
            "[2]\n"
          ]
        }
      ]
    },
    {
      "cell_type": "code",
      "source": [
        "append_to_list(1)"
      ],
      "metadata": {
        "colab": {
          "base_uri": "https://localhost:8080/"
        },
        "id": "Hx1rRIrTgQ1B",
        "outputId": "082138a3-ecff-4402-95d1-38ea283788af"
      },
      "execution_count": 69,
      "outputs": [
        {
          "output_type": "execute_result",
          "data": {
            "text/plain": [
              "[1]"
            ]
          },
          "metadata": {},
          "execution_count": 69
        }
      ]
    },
    {
      "cell_type": "code",
      "source": [
        "append_to_list(2)"
      ],
      "metadata": {
        "colab": {
          "base_uri": "https://localhost:8080/"
        },
        "id": "p7l6WpHggRrt",
        "outputId": "7d8422c5-15a2-4f69-ba3d-bad80e19f070"
      },
      "execution_count": 70,
      "outputs": [
        {
          "output_type": "execute_result",
          "data": {
            "text/plain": [
              "[2]"
            ]
          },
          "metadata": {},
          "execution_count": 70
        }
      ]
    },
    {
      "cell_type": "markdown",
      "source": [
        "# 지역변수와 전역변수"
      ],
      "metadata": {
        "id": "jsG1bmFwhnIU"
      }
    },
    {
      "cell_type": "code",
      "source": [
        "# 지역 변수 사용 예시\n",
        "def f():\n",
        "    # 강원도의 지역 화폐는 -> 경기도에서 사용 불가\n",
        "    a = 1       # 이 변수는 f() 내에서만 정의! 절대 바깥에서는 사용할 수 없는 거죠.\n",
        "    print(a)    # 출력: 1\n",
        "\n",
        "f()\n",
        "print(a)  # error: a는 f 함수 내부에서만 정의되었습니다."
      ],
      "metadata": {
        "id": "DmSfdegmgSbV",
        "colab": {
          "base_uri": "https://localhost:8080/",
          "height": 239
        },
        "outputId": "1936fdaf-7d89-42b6-f852-484538b41407"
      },
      "execution_count": 3,
      "outputs": [
        {
          "output_type": "stream",
          "name": "stdout",
          "text": [
            "1\n"
          ]
        },
        {
          "output_type": "error",
          "ename": "NameError",
          "evalue": "name 'a' is not defined",
          "traceback": [
            "\u001b[0;31m---------------------------------------------------------------------------\u001b[0m",
            "\u001b[0;31mNameError\u001b[0m                                 Traceback (most recent call last)",
            "\u001b[0;32m<ipython-input-3-d69e3dffb546>\u001b[0m in \u001b[0;36m<cell line: 9>\u001b[0;34m()\u001b[0m\n\u001b[1;32m      7\u001b[0m \u001b[0;34m\u001b[0m\u001b[0m\n\u001b[1;32m      8\u001b[0m \u001b[0mf\u001b[0m\u001b[0;34m(\u001b[0m\u001b[0;34m)\u001b[0m\u001b[0;34m\u001b[0m\u001b[0;34m\u001b[0m\u001b[0m\n\u001b[0;32m----> 9\u001b[0;31m \u001b[0mprint\u001b[0m\u001b[0;34m(\u001b[0m\u001b[0ma\u001b[0m\u001b[0;34m)\u001b[0m  \u001b[0;31m# error: a는 f 함수 내부에서만 정의되었습니다.\u001b[0m\u001b[0;34m\u001b[0m\u001b[0;34m\u001b[0m\u001b[0m\n\u001b[0m",
            "\u001b[0;31mNameError\u001b[0m: name 'a' is not defined"
          ]
        }
      ]
    },
    {
      "cell_type": "code",
      "source": [
        "def f():\n",
        "    a = 1           # 지역변수 함수 내에서만 사용가능\n",
        "    b = 232\n",
        "    print(locals()) # 출력 : {'a':1}    # 지역 변수가 어떤게 있는지 확인 딕셔너리 형태로 출력\n",
        "\n",
        "f()"
      ],
      "metadata": {
        "colab": {
          "base_uri": "https://localhost:8080/"
        },
        "id": "ULgErE7ijmcA",
        "outputId": "ba250d3a-f5b0-4dd3-a1cb-91b58fd9f829"
      },
      "execution_count": 5,
      "outputs": [
        {
          "output_type": "stream",
          "name": "stdout",
          "text": [
            "{'a': 1, 'b': 232}\n"
          ]
        }
      ]
    },
    {
      "cell_type": "code",
      "source": [
        "def f():\n",
        "    a = 1\n",
        "    b = 'hello'\n",
        "\n",
        "    def ff():\n",
        "        c = 1\n",
        "        return c\n",
        "\n",
        "    def func():\n",
        "        c = 1\n",
        "        return c\n",
        "\n",
        "\n",
        "\n",
        "    print(locals())     # 출력 : {'a': 1, 'b': 'hello', 'ff': <function f.<locals>.ff at 0x790438388820>}\n",
        "\n",
        "f()"
      ],
      "metadata": {
        "colab": {
          "base_uri": "https://localhost:8080/"
        },
        "id": "z2yqwZJwj606",
        "outputId": "4134420e-0e5e-45fe-fe5d-c8b1ecc7b3b7"
      },
      "execution_count": 10,
      "outputs": [
        {
          "output_type": "stream",
          "name": "stdout",
          "text": [
            "{'a': 1, 'b': 'hello', 'ff': <function f.<locals>.ff at 0x7904383885e0>, 'func': <function f.<locals>.func at 0x790438388700>}\n"
          ]
        }
      ]
    },
    {
      "cell_type": "code",
      "source": [
        "# 전역 변수\n",
        "test = 1\n",
        "\n",
        "# 지역 변수(함수 내에 사용한 변수!\n",
        "def example():\n",
        "    test = 100\n",
        "    return test\n",
        "\n",
        "print(example())\n",
        "print(test)"
      ],
      "metadata": {
        "colab": {
          "base_uri": "https://localhost:8080/"
        },
        "id": "OamOfVZWiKRM",
        "outputId": "23284fe5-68dd-47a8-dc36-f26ffe9bf976"
      },
      "execution_count": 2,
      "outputs": [
        {
          "output_type": "stream",
          "name": "stdout",
          "text": [
            "100\n",
            "1\n"
          ]
        }
      ]
    },
    {
      "cell_type": "code",
      "source": [
        "# global 함수 전역변수 지정\n",
        "a = 100\n",
        "\n",
        "def f():\n",
        "    global a\n",
        "    a = a + 1\n",
        "    return a\n",
        "\n",
        "print(f())  # 101\n",
        "print(a)    # 101   함수 f"
      ],
      "metadata": {
        "colab": {
          "base_uri": "https://localhost:8080/"
        },
        "id": "e0Hsvs4ZioHN",
        "outputId": "ea982df2-798a-42ba-a8a0-879599d13bd6"
      },
      "execution_count": 15,
      "outputs": [
        {
          "output_type": "stream",
          "name": "stdout",
          "text": [
            "101\n",
            "101\n"
          ]
        }
      ]
    },
    {
      "cell_type": "code",
      "source": [
        "a = 100\n",
        "\n",
        "def f():\n",
        "    a = a + 1 # error\n",
        "\n",
        "f()\n",
        "print(a)"
      ],
      "metadata": {
        "colab": {
          "base_uri": "https://localhost:8080/",
          "height": 368
        },
        "id": "BydoJQTYlF8Z",
        "outputId": "d9f81672-1c8b-4774-f70a-ef5c3b8576a8"
      },
      "execution_count": 13,
      "outputs": [
        {
          "output_type": "error",
          "ename": "UnboundLocalError",
          "evalue": "local variable 'a' referenced before assignment",
          "traceback": [
            "\u001b[0;31m---------------------------------------------------------------------------\u001b[0m",
            "\u001b[0;31mUnboundLocalError\u001b[0m                         Traceback (most recent call last)",
            "\u001b[0;32m<ipython-input-13-5e2d2aae82c9>\u001b[0m in \u001b[0;36m<cell line: 6>\u001b[0;34m()\u001b[0m\n\u001b[1;32m      4\u001b[0m     \u001b[0ma\u001b[0m \u001b[0;34m=\u001b[0m \u001b[0ma\u001b[0m \u001b[0;34m+\u001b[0m \u001b[0;36m1\u001b[0m \u001b[0;31m# error\u001b[0m\u001b[0;34m\u001b[0m\u001b[0;34m\u001b[0m\u001b[0m\n\u001b[1;32m      5\u001b[0m \u001b[0;34m\u001b[0m\u001b[0m\n\u001b[0;32m----> 6\u001b[0;31m \u001b[0mf\u001b[0m\u001b[0;34m(\u001b[0m\u001b[0;34m)\u001b[0m\u001b[0;34m\u001b[0m\u001b[0;34m\u001b[0m\u001b[0m\n\u001b[0m\u001b[1;32m      7\u001b[0m \u001b[0mprint\u001b[0m\u001b[0;34m(\u001b[0m\u001b[0ma\u001b[0m\u001b[0;34m)\u001b[0m\u001b[0;34m\u001b[0m\u001b[0;34m\u001b[0m\u001b[0m\n",
            "\u001b[0;32m<ipython-input-13-5e2d2aae82c9>\u001b[0m in \u001b[0;36mf\u001b[0;34m()\u001b[0m\n\u001b[1;32m      2\u001b[0m \u001b[0;34m\u001b[0m\u001b[0m\n\u001b[1;32m      3\u001b[0m \u001b[0;32mdef\u001b[0m \u001b[0mf\u001b[0m\u001b[0;34m(\u001b[0m\u001b[0;34m)\u001b[0m\u001b[0;34m:\u001b[0m\u001b[0;34m\u001b[0m\u001b[0;34m\u001b[0m\u001b[0m\n\u001b[0;32m----> 4\u001b[0;31m     \u001b[0ma\u001b[0m \u001b[0;34m=\u001b[0m \u001b[0ma\u001b[0m \u001b[0;34m+\u001b[0m \u001b[0;36m1\u001b[0m \u001b[0;31m# error\u001b[0m\u001b[0;34m\u001b[0m\u001b[0;34m\u001b[0m\u001b[0m\n\u001b[0m\u001b[1;32m      5\u001b[0m \u001b[0;34m\u001b[0m\u001b[0m\n\u001b[1;32m      6\u001b[0m \u001b[0mf\u001b[0m\u001b[0;34m(\u001b[0m\u001b[0;34m)\u001b[0m\u001b[0;34m\u001b[0m\u001b[0;34m\u001b[0m\u001b[0m\n",
            "\u001b[0;31mUnboundLocalError\u001b[0m: local variable 'a' referenced before assignment"
          ]
        }
      ]
    },
    {
      "cell_type": "code",
      "source": [
        "a = 100\n",
        "\n",
        "def f():\n",
        "    a = 1000\n",
        "    print(a) # 출력: 100\n",
        "\n",
        "f()\n",
        "\n",
        "def ff():\n",
        "    b = a + 1\n",
        "    print(b) # 출력: 101\n",
        "\n",
        "ff()"
      ],
      "metadata": {
        "colab": {
          "base_uri": "https://localhost:8080/"
        },
        "id": "Ez7HfPbXlLS-",
        "outputId": "c769fee5-6bea-432d-bf9c-ee96ce08d15a"
      },
      "execution_count": 21,
      "outputs": [
        {
          "output_type": "stream",
          "name": "stdout",
          "text": [
            "1000\n",
            "101\n"
          ]
        }
      ]
    },
    {
      "cell_type": "code",
      "source": [
        "global a\n",
        "a = 100\n",
        "\n",
        "def f():\n",
        "    a = a + 1 # error\n",
        "    return a\n",
        "\n",
        "\n",
        "print(f())"
      ],
      "metadata": {
        "colab": {
          "base_uri": "https://localhost:8080/",
          "height": 349
        },
        "id": "asLI9KnDl0AW",
        "outputId": "164169c5-f952-412f-ba57-7bdb968674f5"
      },
      "execution_count": 46,
      "outputs": [
        {
          "output_type": "error",
          "ename": "UnboundLocalError",
          "evalue": "local variable 'a' referenced before assignment",
          "traceback": [
            "\u001b[0;31m---------------------------------------------------------------------------\u001b[0m",
            "\u001b[0;31mUnboundLocalError\u001b[0m                         Traceback (most recent call last)",
            "\u001b[0;32m<ipython-input-46-90c095618bbd>\u001b[0m in \u001b[0;36m<cell line: 9>\u001b[0;34m()\u001b[0m\n\u001b[1;32m      7\u001b[0m \u001b[0;34m\u001b[0m\u001b[0m\n\u001b[1;32m      8\u001b[0m \u001b[0;34m\u001b[0m\u001b[0m\n\u001b[0;32m----> 9\u001b[0;31m \u001b[0mprint\u001b[0m\u001b[0;34m(\u001b[0m\u001b[0mf\u001b[0m\u001b[0;34m(\u001b[0m\u001b[0;34m)\u001b[0m\u001b[0;34m)\u001b[0m\u001b[0;34m\u001b[0m\u001b[0;34m\u001b[0m\u001b[0m\n\u001b[0m",
            "\u001b[0;32m<ipython-input-46-90c095618bbd>\u001b[0m in \u001b[0;36mf\u001b[0;34m()\u001b[0m\n\u001b[1;32m      3\u001b[0m \u001b[0;34m\u001b[0m\u001b[0m\n\u001b[1;32m      4\u001b[0m \u001b[0;32mdef\u001b[0m \u001b[0mf\u001b[0m\u001b[0;34m(\u001b[0m\u001b[0;34m)\u001b[0m\u001b[0;34m:\u001b[0m\u001b[0;34m\u001b[0m\u001b[0;34m\u001b[0m\u001b[0m\n\u001b[0;32m----> 5\u001b[0;31m     \u001b[0ma\u001b[0m \u001b[0;34m=\u001b[0m \u001b[0ma\u001b[0m \u001b[0;34m+\u001b[0m \u001b[0;36m1\u001b[0m \u001b[0;31m# error\u001b[0m\u001b[0;34m\u001b[0m\u001b[0;34m\u001b[0m\u001b[0m\n\u001b[0m\u001b[1;32m      6\u001b[0m     \u001b[0;32mreturn\u001b[0m \u001b[0ma\u001b[0m\u001b[0;34m\u001b[0m\u001b[0;34m\u001b[0m\u001b[0m\n\u001b[1;32m      7\u001b[0m \u001b[0;34m\u001b[0m\u001b[0m\n",
            "\u001b[0;31mUnboundLocalError\u001b[0m: local variable 'a' referenced before assignment"
          ]
        }
      ]
    },
    {
      "cell_type": "code",
      "source": [
        "\n",
        "a = 100\n",
        "\n",
        "def f():\n",
        "\n",
        "    a = 1000 + 1# error\n",
        "\n",
        "print(f())\n",
        "print(a)"
      ],
      "metadata": {
        "colab": {
          "base_uri": "https://localhost:8080/"
        },
        "id": "vdM3EoHHmeqZ",
        "outputId": "de650d82-6165-4d4b-9923-c83361034456"
      },
      "execution_count": 40,
      "outputs": [
        {
          "output_type": "stream",
          "name": "stdout",
          "text": [
            "None\n",
            "100\n"
          ]
        }
      ]
    },
    {
      "cell_type": "markdown",
      "source": [
        "# Built in function"
      ],
      "metadata": {
        "id": "-RA_lQsan0LY"
      }
    },
    {
      "cell_type": "markdown",
      "source": [
        "# 1. all, any\n",
        " * all() 함수는 iterable(반복 가능한) 객체(예: 리스트, 튜플, 문자열 등)를 인수로 받아, 그 안에 있는 모든 요소가 True로 평가되면 True를 반환하고, 그렇지 않으면 False를 반환합니다.\n",
        "\n",
        " * any() 함수도 iterable 객체를 인수로 받아, 그 안에 있는 어떤 요소라도 True로 평가되면 True를 반환하고, 그렇지 않으면 False를 반환합니다."
      ],
      "metadata": {
        "id": "ny4N2SSlrlmG"
      }
    },
    {
      "cell_type": "code",
      "source": [
        "#1. all, any"
      ],
      "metadata": {
        "id": "mWpb_iSqrJa4"
      },
      "execution_count": 47,
      "outputs": []
    },
    {
      "cell_type": "code",
      "source": [
        "# 모두 다 True여야 True 반환\n",
        "all([True, True, True]) # 출력: True\n",
        "all([True, True, False]) # 출력: False\n",
        "all([1, 1, 1, 0]) # 출력: False\n",
        "all([1, 0, 1, 1]) # 출력: False\n",
        "all([1, 100, 10, -1]) # 출력: True"
      ],
      "metadata": {
        "colab": {
          "base_uri": "https://localhost:8080/"
        },
        "id": "PBCDmj6FruU4",
        "outputId": "82b12a44-e5c0-4a49-f172-cab7d88ce186"
      },
      "execution_count": 50,
      "outputs": [
        {
          "output_type": "execute_result",
          "data": {
            "text/plain": [
              "True"
            ]
          },
          "metadata": {},
          "execution_count": 50
        }
      ]
    },
    {
      "cell_type": "code",
      "source": [
        "all([1, 100, 10, -1]) # 출력: True"
      ],
      "metadata": {
        "colab": {
          "base_uri": "https://localhost:8080/"
        },
        "id": "R8_hJVkerwg5",
        "outputId": "e7654b05-7303-4579-9487-e636a33ff735"
      },
      "execution_count": 55,
      "outputs": [
        {
          "output_type": "execute_result",
          "data": {
            "text/plain": [
              "True"
            ]
          },
          "metadata": {},
          "execution_count": 55
        }
      ]
    },
    {
      "cell_type": "code",
      "source": [
        "# 하나라도 True이면 True이다.\n",
        "any([True, False, False, False]) # 출력: True\n",
        "any([False, False, False]) # 출력: False"
      ],
      "metadata": {
        "colab": {
          "base_uri": "https://localhost:8080/"
        },
        "id": "TdA4FXJWr0Xy",
        "outputId": "e3119a1d-fe64-4e8f-e6a6-017b6450d23b"
      },
      "execution_count": 57,
      "outputs": [
        {
          "output_type": "execute_result",
          "data": {
            "text/plain": [
              "False"
            ]
          },
          "metadata": {},
          "execution_count": 57
        }
      ]
    },
    {
      "cell_type": "code",
      "source": [
        "any([True, False, False, False]) # 출력: True"
      ],
      "metadata": {
        "colab": {
          "base_uri": "https://localhost:8080/"
        },
        "id": "fXdk4X2ar_iF",
        "outputId": "0e90e6ee-b8bb-4d08-ddc9-4d5a01cffb0f"
      },
      "execution_count": 58,
      "outputs": [
        {
          "output_type": "execute_result",
          "data": {
            "text/plain": [
              "True"
            ]
          },
          "metadata": {},
          "execution_count": 58
        }
      ]
    },
    {
      "cell_type": "markdown",
      "source": [
        "# 2.3 Map 함수\n",
        "map() 함수는 기존의 리스트(또는 튜플)의 모든 요소에 특정 함수를 적용한 결과를 map 객체 형태로 반환하는 함수입니다. map 객체는 다시 list()를 이용해 리스트 형태로 변환할 수 있습니다."
      ],
      "metadata": {
        "id": "Oin40QfdsPwl"
      }
    },
    {
      "cell_type": "code",
      "source": [
        "# 첫번째 방법\n",
        "def 제곱(x):\n",
        "    return x ** 2\n",
        "list(map(제곱, [1, 2, 3, 4])) # 출력: [1, 4, 9, 16]"
      ],
      "metadata": {
        "colab": {
          "base_uri": "https://localhost:8080/"
        },
        "id": "hBa2POtQsc1v",
        "outputId": "5a422072-7e8b-4cc7-8852-7d4e20bc742e"
      },
      "execution_count": 59,
      "outputs": [
        {
          "output_type": "execute_result",
          "data": {
            "text/plain": [
              "[1, 4, 9, 16]"
            ]
          },
          "metadata": {},
          "execution_count": 59
        }
      ]
    },
    {
      "cell_type": "code",
      "source": [
        "# 두번째 방법\n",
        "list(map(lambda x : x ** 2, [1, 2, 3, 4])) # 출력: [1, 4, 9, 16]"
      ],
      "metadata": {
        "colab": {
          "base_uri": "https://localhost:8080/"
        },
        "id": "4BL43CW-sy-v",
        "outputId": "00b4331e-b66a-465e-dc7e-369a2cab3d5f"
      },
      "execution_count": 60,
      "outputs": [
        {
          "output_type": "execute_result",
          "data": {
            "text/plain": [
              "[1, 4, 9, 16]"
            ]
          },
          "metadata": {},
          "execution_count": 60
        }
      ]
    },
    {
      "cell_type": "code",
      "source": [],
      "metadata": {
        "id": "jO1lZ6vat7Jc"
      },
      "execution_count": null,
      "outputs": []
    },
    {
      "cell_type": "code",
      "source": [
        "# 해당 예제에서는 0부터 99까지의 숫자 중에서 50보다 큰 숫자만을 선택하여 리스트로 반환하도록 했습니다.\n",
        "filter(lambda x : x < 50, range(100) )"
      ],
      "metadata": {
        "colab": {
          "base_uri": "https://localhost:8080/"
        },
        "id": "48buiRVDszXi",
        "outputId": "17001b02-dc24-4c37-a9b4-7c753a53e326"
      },
      "execution_count": 64,
      "outputs": [
        {
          "output_type": "execute_result",
          "data": {
            "text/plain": [
              "<filter at 0x79043834d660>"
            ]
          },
          "metadata": {},
          "execution_count": 64
        }
      ]
    },
    {
      "cell_type": "markdown",
      "source": [
        "## 2.5 zip\n",
        "\n",
        "**`zip()`** 함수는 여러 개의 순회 할 수 있는 객체의 요소를 묶어서 반환합니다. 다만 메모리의 효율을 위해 형변환이나 직접 순회를 하기 전까지는 메모리 주소로만 반환합니다."
      ],
      "metadata": {
        "id": "xGaE0SaQt9jX"
      }
    },
    {
      "cell_type": "code",
      "source": [
        "# 기본형태 : zip(순회할 수 있는 객체1, 순회할 수 있는 객체2...)\n",
        "\n",
        "list(zip('ab', '12')) # 출력: [('a', '1'), ('b', '2')]"
      ],
      "metadata": {
        "colab": {
          "base_uri": "https://localhost:8080/"
        },
        "id": "53hWAOThuORp",
        "outputId": "4df41c83-c26e-4f45-c304-f50bbf68e2a4"
      },
      "execution_count": 65,
      "outputs": [
        {
          "output_type": "execute_result",
          "data": {
            "text/plain": [
              "[('a', '1'), ('b', '2')]"
            ]
          },
          "metadata": {},
          "execution_count": 65
        }
      ]
    },
    {
      "cell_type": "code",
      "source": [
        "list(zip('ab', '12', [10, 20]))"
      ],
      "metadata": {
        "colab": {
          "base_uri": "https://localhost:8080/"
        },
        "id": "F7w2-e_juXMg",
        "outputId": "172281ac-d31f-473d-d978-49dc771ab6af"
      },
      "execution_count": 69,
      "outputs": [
        {
          "output_type": "execute_result",
          "data": {
            "text/plain": [
              "[('a', '1', 10), ('b', '2', 20)]"
            ]
          },
          "metadata": {},
          "execution_count": 69
        }
      ]
    },
    {
      "cell_type": "code",
      "source": [
        "list(zip('abcd', '1234567', [10, 20, 30, 40]))"
      ],
      "metadata": {
        "colab": {
          "base_uri": "https://localhost:8080/"
        },
        "id": "ZhkAucexudSt",
        "outputId": "d04b1532-55e2-416d-dd12-94563ec1f2b1"
      },
      "execution_count": 68,
      "outputs": [
        {
          "output_type": "execute_result",
          "data": {
            "text/plain": [
              "[('a', '1', 10), ('b', '2', 20), ('c', '3', 30), ('d', '4', 40)]"
            ]
          },
          "metadata": {},
          "execution_count": 68
        }
      ]
    },
    {
      "cell_type": "code",
      "source": [
        "x = [1, 2, 3]\n",
        "y = [1, 4, 9]\n",
        "\n",
        "list(zip(x, y))"
      ],
      "metadata": {
        "colab": {
          "base_uri": "https://localhost:8080/"
        },
        "id": "-U1gYZVwuigW",
        "outputId": "2c9af422-b093-4066-c531-367463a0b54c"
      },
      "execution_count": 74,
      "outputs": [
        {
          "output_type": "execute_result",
          "data": {
            "text/plain": [
              "[(1, 1), (2, 4), (3, 9)]"
            ]
          },
          "metadata": {},
          "execution_count": 74
        }
      ]
    },
    {
      "cell_type": "code",
      "source": [
        "# 2.10.3 enumerate\n",
        "\n",
        "values = ['A', 'B', 'C', 'D']\n",
        "\n",
        "print(list(enumerate(values)))"
      ],
      "metadata": {
        "colab": {
          "base_uri": "https://localhost:8080/"
        },
        "id": "CgBar2RNuz7i",
        "outputId": "98bb315d-959f-4988-8615-7b002bd7e36f"
      },
      "execution_count": 75,
      "outputs": [
        {
          "output_type": "stream",
          "name": "stdout",
          "text": [
            "[(0, 'A'), (1, 'B'), (2, 'C'), (3, 'D')]\n"
          ]
        }
      ]
    },
    {
      "cell_type": "code",
      "source": [
        "print(list(enumerate(values, 15)))"
      ],
      "metadata": {
        "colab": {
          "base_uri": "https://localhost:8080/"
        },
        "id": "nII02xKZwYkU",
        "outputId": "b20e924e-8dbc-48d2-fede-4915b3366ffa"
      },
      "execution_count": 79,
      "outputs": [
        {
          "output_type": "stream",
          "name": "stdout",
          "text": [
            "[(15, 'A'), (16, 'B'), (17, 'C'), (18, 'D')]\n"
          ]
        }
      ]
    },
    {
      "cell_type": "code",
      "source": [
        "print(list(enumerate(values, 100)))"
      ],
      "metadata": {
        "colab": {
          "base_uri": "https://localhost:8080/"
        },
        "id": "-XG4VICTwcDm",
        "outputId": "307575b9-e88d-4994-e8f4-9619eb533ac7"
      },
      "execution_count": 77,
      "outputs": [
        {
          "output_type": "stream",
          "name": "stdout",
          "text": [
            "[(100, 'A'), (101, 'B'), (102, 'C'), (103, 'D')]\n"
          ]
        }
      ]
    },
    {
      "cell_type": "code",
      "source": [
        "values = ['김진환', '이호준', '라이켓', '웅이']\n",
        "print(list(enumerate(values)))"
      ],
      "metadata": {
        "colab": {
          "base_uri": "https://localhost:8080/"
        },
        "id": "11mqgM6iwd0C",
        "outputId": "ee1ded09-4495-49e5-9d40-8a962268acb5"
      },
      "execution_count": 80,
      "outputs": [
        {
          "output_type": "stream",
          "name": "stdout",
          "text": [
            "[(0, '김진환'), (1, '이호준'), (2, '라이켓'), (3, '웅이')]\n"
          ]
        }
      ]
    },
    {
      "cell_type": "code",
      "source": [
        "l = [3, 2, 1, 5, 4]\n",
        "print(l.sort())\n",
        "print(l)"
      ],
      "metadata": {
        "colab": {
          "base_uri": "https://localhost:8080/"
        },
        "id": "g3tjfxSDwzet",
        "outputId": "9776f4b1-0f33-47d3-b0a5-734847a3d897"
      },
      "execution_count": 81,
      "outputs": [
        {
          "output_type": "stream",
          "name": "stdout",
          "text": [
            "None\n",
            "[1, 2, 3, 4, 5]\n"
          ]
        }
      ]
    },
    {
      "cell_type": "code",
      "source": [
        "from datetime import datetime\n",
        "\n",
        "def calculate_days_since(start_date_str):\n",
        "    try:\n",
        "        # '-'가 없고 길이가 8자리인 경우 '20230101' 형식으로 가정\n",
        "        if '-' not in start_date_str and len(start_date_str) == 8:\n",
        "            start_date = datetime.strptime(start_date_str, '%Y%m%d')\n",
        "        # '-'가 있는 경우 '2023-01-01' 형식으로 가정\n",
        "        elif '-' in start_date_str:\n",
        "            start_date = datetime.strptime(start_date_str, '%Y-%m-%d')\n",
        "        else:\n",
        "            # 길이가 8자리가 아니면 예외를 발생시킵니다\n",
        "            raise ValueError\n",
        "    except ValueError:\n",
        "        # 날짜 형식이 잘못되었을 경우 예외 처리\n",
        "        return None\n",
        "\n",
        "    # 현재 날짜를 가져옵니다\n",
        "    current_date = datetime.now()\n",
        "\n",
        "    # 두 날짜의 차이를 계산합니다\n",
        "    difference = current_date - start_date\n",
        "\n",
        "    # 일수로 변환하여 반환합니다\n",
        "    return difference.days\n",
        "\n",
        "# 사용자가 최대 5번까지 시도할 수 있습니다\n",
        "for attempt in range(5):\n",
        "    start_date_input = input(\"사귀기 시작한 날짜를 입력하세요 (예: 2023-01-01 또는 20230101): \")\n",
        "    days_passed = calculate_days_since(start_date_input)\n",
        "\n",
        "    if days_passed is not None:\n",
        "        print(\"오늘까지 사귄지\", days_passed, \"일이 되었습니다.\")\n",
        "        break\n",
        "    else:\n",
        "        print(\"잘못된 날짜 형식입니다. 다시 입력해주세요.\")\n",
        "\n",
        "    if attempt == 4:  # 마지막 시도에서도 실패한 경우\n",
        "        print(\"다음에 시도하세요.\")\n"
      ],
      "metadata": {
        "colab": {
          "base_uri": "https://localhost:8080/"
        },
        "id": "JxlDQXioyJFG",
        "outputId": "5c8872da-5485-47a9-e56d-6e32deb2f4ea"
      },
      "execution_count": 93,
      "outputs": [
        {
          "output_type": "stream",
          "name": "stdout",
          "text": [
            "사귀기 시작한 날짜를 입력하세요 (예: 2023-01-01 또는 20230101): 19970228\n",
            "오늘까지 사귄지 9810 일이 되었습니다.\n"
          ]
        }
      ]
    },
    {
      "cell_type": "code",
      "source": [],
      "metadata": {
        "id": "0Qs8Vh45QxYd"
      },
      "execution_count": null,
      "outputs": []
    }
  ]
}