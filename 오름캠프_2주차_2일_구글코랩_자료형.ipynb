{
  "nbformat": 4,
  "nbformat_minor": 0,
  "metadata": {
    "colab": {
      "provenance": [],
      "authorship_tag": "ABX9TyOJdn1ndsig+FcSztUQ7n1r",
      "include_colab_link": true
    },
    "kernelspec": {
      "name": "python3",
      "display_name": "Python 3"
    },
    "language_info": {
      "name": "python"
    }
  },
  "cells": [
    {
      "cell_type": "markdown",
      "metadata": {
        "id": "view-in-github",
        "colab_type": "text"
      },
      "source": [
        "<a href=\"https://colab.research.google.com/github/mkdirlife/orm/blob/main/%EC%98%A4%EB%A6%84%EC%BA%A0%ED%94%84_2%EC%A3%BC%EC%B0%A8_2%EC%9D%BC_%EA%B5%AC%EA%B8%80%EC%BD%94%EB%9E%A9_%EC%9E%90%EB%A3%8C%ED%98%95.ipynb\" target=\"_parent\"><img src=\"https://colab.research.google.com/assets/colab-badge.svg\" alt=\"Open In Colab\"/></a>"
      ]
    },
    {
      "cell_type": "code",
      "execution_count": null,
      "metadata": {
        "colab": {
          "base_uri": "https://localhost:8080/"
        },
        "id": "Xhf6_9hK-vkE",
        "outputId": "69e13ef7-8ec5-4777-b293-4d2a5bdc745c"
      },
      "outputs": [
        {
          "output_type": "stream",
          "name": "stdout",
          "text": [
            "-2.0833333333333335\n",
            "-3.0\n"
          ]
        }
      ],
      "source": [
        "a = -5\n",
        "b = 2.4\n",
        "print(a / b) # 결과: -2.5\n",
        "print(a // b) # 결과: -3"
      ]
    },
    {
      "cell_type": "code",
      "source": [
        "# 1.1 나누기 / 소수점 2자리\n",
        "a = 10\n",
        "b = 3\n",
        "divide = a / b\n",
        "print(f'{a} ÷ {b} = {divide:.3f}')  # 결과: 10 ÷ 3 = 3.33"
      ],
      "metadata": {
        "colab": {
          "base_uri": "https://localhost:8080/"
        },
        "id": "brj8cWtb-2k_",
        "outputId": "19e86253-df40-4aab-86d6-622632abef22"
      },
      "execution_count": null,
      "outputs": [
        {
          "output_type": "stream",
          "name": "stdout",
          "text": [
            "10 ÷ 3 = 3.333\n"
          ]
        }
      ]
    },
    {
      "cell_type": "code",
      "source": [
        "print(divide)"
      ],
      "metadata": {
        "colab": {
          "base_uri": "https://localhost:8080/"
        },
        "id": "7LvxG5rT-4H1",
        "outputId": "91b42445-4450-4072-aa72-8ee10e317dd1"
      },
      "execution_count": null,
      "outputs": [
        {
          "output_type": "stream",
          "name": "stdout",
          "text": [
            "3.3333333333333335\n"
          ]
        }
      ]
    },
    {
      "cell_type": "code",
      "source": [
        "# 1.2 나머지\n",
        "print(10 / 9)   # 소수 몫\n",
        "print(10 // 9)  # 정수 몫\n",
        "print(10 % 9)   # 나머지\n",
        "10 % 3"
      ],
      "metadata": {
        "colab": {
          "base_uri": "https://localhost:8080/"
        },
        "id": "MP0DFAVV-_LP",
        "outputId": "74115c76-6656-4f0d-a3e1-55909fe8b765"
      },
      "execution_count": null,
      "outputs": [
        {
          "output_type": "stream",
          "name": "stdout",
          "text": [
            "1.1111111111111112\n",
            "1\n",
            "1\n"
          ]
        },
        {
          "output_type": "execute_result",
          "data": {
            "text/plain": [
              "1"
            ]
          },
          "metadata": {},
          "execution_count": 16
        }
      ]
    },
    {
      "cell_type": "code",
      "source": [
        "print(-2 ** 2)"
      ],
      "metadata": {
        "colab": {
          "base_uri": "https://localhost:8080/"
        },
        "id": "-E1ginxp_UHg",
        "outputId": "0d232fda-b57b-46a7-d657-b4bf28fa1aa1"
      },
      "execution_count": null,
      "outputs": [
        {
          "output_type": "stream",
          "name": "stdout",
          "text": [
            "-4\n"
          ]
        }
      ]
    },
    {
      "cell_type": "code",
      "source": [
        "print((-2) ** 2)"
      ],
      "metadata": {
        "colab": {
          "base_uri": "https://localhost:8080/"
        },
        "id": "Ll9BM0VTAuVk",
        "outputId": "91f15282-50fa-4a64-8da9-39588ee41cf2"
      },
      "execution_count": null,
      "outputs": [
        {
          "output_type": "stream",
          "name": "stdout",
          "text": [
            "4\n"
          ]
        }
      ]
    },
    {
      "cell_type": "code",
      "source": [
        "# 비교연산자 !=\n",
        "print(10 != 3)"
      ],
      "metadata": {
        "colab": {
          "base_uri": "https://localhost:8080/"
        },
        "id": "oamUFrdFAwlo",
        "outputId": "69144886-cc56-4538-8908-800173225681"
      },
      "execution_count": null,
      "outputs": [
        {
          "output_type": "stream",
          "name": "stdout",
          "text": [
            "True\n"
          ]
        }
      ]
    },
    {
      "cell_type": "code",
      "source": [
        "# 연속적인 비교\n",
        "x = 10\n",
        "print(5 < x < 15) # 결과: True"
      ],
      "metadata": {
        "colab": {
          "base_uri": "https://localhost:8080/"
        },
        "id": "Dh0E_3ShDDyl",
        "outputId": "18762186-5318-4840-93cf-9ee55a612d65"
      },
      "execution_count": null,
      "outputs": [
        {
          "output_type": "stream",
          "name": "stdout",
          "text": [
            "True\n"
          ]
        }
      ]
    },
    {
      "cell_type": "code",
      "source": [
        "import math\n",
        "\n",
        "result = 0.1 + 0.2\n",
        "print(result)\n",
        "print(result == 0.3)              # False\n",
        "print(math.isclose(result, 0.3))  # True\n",
        "print(math.isclose(result, 0.29)) # False\n",
        "print(math.isclose(result, 0.31)) # False\n",
        "print(math.isclose(result, 0.30000001)) # False"
      ],
      "metadata": {
        "colab": {
          "base_uri": "https://localhost:8080/"
        },
        "id": "BQPU3YBPDmpU",
        "outputId": "56a4667f-d10f-4baa-dced-097e9c1e56ba"
      },
      "execution_count": null,
      "outputs": [
        {
          "output_type": "stream",
          "name": "stdout",
          "text": [
            "0.30000000000000004\n",
            "False\n",
            "True\n",
            "False\n",
            "False\n",
            "False\n"
          ]
        }
      ]
    },
    {
      "cell_type": "code",
      "source": [],
      "metadata": {
        "id": "shXcz3ckEIgJ"
      },
      "execution_count": null,
      "outputs": []
    }
  ]
}