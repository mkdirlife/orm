{
  "nbformat": 4,
  "nbformat_minor": 0,
  "metadata": {
    "colab": {
      "provenance": [],
      "authorship_tag": "ABX9TyNVg8SH18EzdkpUN6n8Q9Gu",
      "include_colab_link": true
    },
    "kernelspec": {
      "name": "python3",
      "display_name": "Python 3"
    },
    "language_info": {
      "name": "python"
    }
  },
  "cells": [
    {
      "cell_type": "markdown",
      "metadata": {
        "id": "view-in-github",
        "colab_type": "text"
      },
      "source": [
        "<a href=\"https://colab.research.google.com/github/mkdirlife/orm/blob/main/%EC%B1%85%EB%A7%8C%EB%93%A4%EA%B8%B0_pyalgo100_6%EB%B2%88%EA%B9%8C%EC%A7%80.ipynb\" target=\"_parent\"><img src=\"https://colab.research.google.com/assets/colab-badge.svg\" alt=\"Open In Colab\"/></a>"
      ]
    },
    {
      "cell_type": "code",
      "execution_count": null,
      "metadata": {
        "colab": {
          "base_uri": "https://localhost:8080/"
        },
        "id": "Z6M_Jr7a980T",
        "outputId": "79a551a5-aa78-4660-c2d3-0bdbe0d784d7"
      },
      "outputs": [
        {
          "output_type": "execute_result",
          "data": {
            "text/plain": [
              "9"
            ]
          },
          "metadata": {},
          "execution_count": 5
        }
      ],
      "source": [
        "# 파이알고100\n",
        "# 01. 더하기\n",
        "# 첫번째 방법\n",
        "data = [1, 2, 3, 4, 5]\n",
        "# data = [3, 5, 7, 1]\n",
        "\n",
        "def solution(data):\n",
        "    return sum(i for i in data if i % 2 != 0)\n",
        "\n",
        "solution(data)"
      ]
    },
    {
      "cell_type": "code",
      "source": [
        "# 파이알고100\n",
        "# 01. 더하기\n",
        "# 두번째 방법\n",
        "# data = [1, 2, 3, 4, 5]\n",
        "data = [3, 5, 7, 1]\n",
        "\n",
        "def solution(data):\n",
        "    sum_data = 0\n",
        "    for i in data:\n",
        "        if i % 2 != 0:\n",
        "        \tsum_data += i\n",
        "    return sum_data\n",
        "\n",
        "solution(data)"
      ],
      "metadata": {
        "colab": {
          "base_uri": "https://localhost:8080/"
        },
        "id": "rSIfWMLw-ThB",
        "outputId": "73780e75-6e90-4953-9702-1c4dabb0e511"
      },
      "execution_count": null,
      "outputs": [
        {
          "output_type": "execute_result",
          "data": {
            "text/plain": [
              "16"
            ]
          },
          "metadata": {},
          "execution_count": 65
        }
      ]
    },
    {
      "cell_type": "code",
      "source": [
        "# 파이알고100\n",
        "# 02. 곱하기\n",
        "# 첫번째 방법\n",
        "#data = [1, 2, 3, 4, 5]\n",
        "data = [3, 5, 7, 1]\n",
        "def solution(data):\n",
        "    count = 1\n",
        "    if data == []:\n",
        "        return 0\n",
        "    else:\n",
        "        for i in data:\n",
        "            count *= i\n",
        "        return count\n",
        "\n",
        "solution(data)"
      ],
      "metadata": {
        "colab": {
          "base_uri": "https://localhost:8080/"
        },
        "id": "N2QttxLH-b1O",
        "outputId": "b11c8b2c-8d80-4748-870f-b6ae1f01107d"
      },
      "execution_count": null,
      "outputs": [
        {
          "output_type": "execute_result",
          "data": {
            "text/plain": [
              "105"
            ]
          },
          "metadata": {},
          "execution_count": 23
        }
      ]
    },
    {
      "cell_type": "code",
      "source": [
        "from functools import reduce\n",
        "#data = [1, 2, 3, 4, 5]\n",
        "data = [3, 5, 7, 1]\n",
        "\n",
        "def solution(data):\n",
        "    return reduce(lambda x, y: x * y, data)\n",
        "\n",
        "solution(data)"
      ],
      "metadata": {
        "colab": {
          "base_uri": "https://localhost:8080/"
        },
        "id": "sbT54Isy_b6z",
        "outputId": "9438005a-faa7-428c-abcb-d29d9448abdc"
      },
      "execution_count": null,
      "outputs": [
        {
          "output_type": "execute_result",
          "data": {
            "text/plain": [
              "105"
            ]
          },
          "metadata": {},
          "execution_count": 66
        }
      ]
    },
    {
      "cell_type": "code",
      "source": [
        "data = [3, 5, 7, 1]\n",
        "\n",
        "def solution(data):\n",
        "    num = 0 # 제한사항 4\n",
        "    for i, val in enumerate(data):\n",
        "        print(i)\n",
        "        print(val)\n",
        "        if i == 0:\n",
        "            num = val\n",
        "        else:\n",
        "            num *= val\n",
        "    return num\n",
        "\n",
        "solution(data)"
      ],
      "metadata": {
        "colab": {
          "base_uri": "https://localhost:8080/"
        },
        "id": "4la756QOOsxQ",
        "outputId": "691476c4-d108-4767-cdeb-c40fc832dc79"
      },
      "execution_count": null,
      "outputs": [
        {
          "output_type": "stream",
          "name": "stdout",
          "text": [
            "0\n",
            "3\n",
            "1\n",
            "5\n",
            "2\n",
            "7\n",
            "3\n",
            "1\n"
          ]
        },
        {
          "output_type": "execute_result",
          "data": {
            "text/plain": [
              "105"
            ]
          },
          "metadata": {},
          "execution_count": 5
        }
      ]
    },
    {
      "cell_type": "code",
      "source": [
        "# 파이알고100\n",
        "# 03. 조건 덧셈\n",
        "# 첫번째 방법\n",
        "data = [1, 2, 3, 4, 5]\n",
        "#data = [3, 5, 7, 1]\n",
        "\n",
        "def solution(data):\n",
        "    count = 0\n",
        "    for i in data:\n",
        "        if i % 3 != 0 and i % 5 !=0:\n",
        "            count += i\n",
        "    return count\n",
        "solution(data)"
      ],
      "metadata": {
        "colab": {
          "base_uri": "https://localhost:8080/"
        },
        "id": "6t9voudt_4mB",
        "outputId": "6ef408fb-0564-4b8c-cbf2-1d7578d9f655"
      },
      "execution_count": null,
      "outputs": [
        {
          "output_type": "execute_result",
          "data": {
            "text/plain": [
              "7"
            ]
          },
          "metadata": {},
          "execution_count": 25
        }
      ]
    },
    {
      "cell_type": "code",
      "source": [
        "# 파이알고100\n",
        "# 03. 조건 덧셈\n",
        "# 두번째 방법\n",
        "data = [1, 2, 3, 4, 5]\n",
        "#data = [3, 5, 7, 1]\n",
        "\n",
        "def solution(data):\n",
        "    return sum(i for i in data if i % 3 != 0 and i % 5 != 0)\n",
        "solution(data)"
      ],
      "metadata": {
        "colab": {
          "base_uri": "https://localhost:8080/"
        },
        "id": "Icikj8NJETbW",
        "outputId": "34a93845-a607-40f0-cd12-c2d783987b5c"
      },
      "execution_count": null,
      "outputs": [
        {
          "output_type": "execute_result",
          "data": {
            "text/plain": [
              "7"
            ]
          },
          "metadata": {},
          "execution_count": 26
        }
      ]
    },
    {
      "cell_type": "code",
      "source": [
        "# 파이알고100\n",
        "# 04. 크리스마스 쿠키\n",
        "# 랜덤추가\n",
        "# 10개의 쿠키에서 3개의 임의 데이터를 뽑아서 계산하는 프로그램으로 처음에 만듬\n",
        "\n",
        "import random\n",
        "import re\n",
        "\n",
        "data = ['쿠키 3개', '쿠키 2개', '쿠키 5개']\n",
        "#data = ['쿠키 1개', '쿠키 2개', '쿠키 3개']\n",
        "\n",
        "def solution(data):\n",
        "    count = 0\n",
        "    for i in range(1, 4):\n",
        "        count += sum(map(int, re.sub(r'[^0-9]','', random.choice(data)) * i))\n",
        "    return count\n",
        "solution(data)\n"
      ],
      "metadata": {
        "colab": {
          "base_uri": "https://localhost:8080/"
        },
        "id": "9oSqZnqLFCK9",
        "outputId": "50827ebd-46e9-4046-df6d-05d66c7632b7"
      },
      "execution_count": null,
      "outputs": [
        {
          "output_type": "execute_result",
          "data": {
            "text/plain": [
              "7"
            ]
          },
          "metadata": {},
          "execution_count": 39
        }
      ]
    },
    {
      "cell_type": "code",
      "source": [
        "# 파이알고100\n",
        "# 04. 크리스마스 쿠키\n",
        "# 첫번째 방법\n",
        "import re\n",
        "\n",
        "data = ['쿠키 3개', '쿠키 2개', '쿠키 5개']\n",
        "#data = ['쿠키 1개', '쿠키 2개', '쿠키 3개']\n",
        "\n",
        "def solution(data):\n",
        "    count = 0\n",
        "    for i in range(1, 4):\n",
        "        count += sum(map(int, re.sub(r'[^0-9]','', data[i-1]) * i))\n",
        "    return count\n",
        "\n",
        "solution(data)"
      ],
      "metadata": {
        "colab": {
          "base_uri": "https://localhost:8080/"
        },
        "id": "ZNInSVqGGzjS",
        "outputId": "012125ec-0150-41c6-b6bf-0e11d3caabc0"
      },
      "execution_count": null,
      "outputs": [
        {
          "output_type": "execute_result",
          "data": {
            "text/plain": [
              "22"
            ]
          },
          "metadata": {},
          "execution_count": 45
        }
      ]
    },
    {
      "cell_type": "code",
      "source": [
        "data = ['쿠키 3개', '쿠키 2개', '쿠키 5개']\n",
        "# 파이알고100\n",
        "# 04. 크리스마스 쿠키\n",
        "# 두번째 방법\n",
        "def solution(data):\n",
        "    count = 0\n",
        "    for i in range(1, 4):\n",
        "        # 숫자만 추출하여 합산\n",
        "        num_sum = sum(int(j) for j in data[i-1] if j.isdigit())\n",
        "        # 합계에 i를 곱하여 누적\n",
        "        count += num_sum * i\n",
        "    return count\n",
        "\n",
        "solution(data)"
      ],
      "metadata": {
        "colab": {
          "base_uri": "https://localhost:8080/"
        },
        "id": "SWH2DD8CKvIk",
        "outputId": "d0bebaa0-5bfe-4b2e-e0e4-100f7378b11a"
      },
      "execution_count": null,
      "outputs": [
        {
          "output_type": "execute_result",
          "data": {
            "text/plain": [
              "22"
            ]
          },
          "metadata": {},
          "execution_count": 47
        }
      ]
    },
    {
      "cell_type": "code",
      "source": [
        "# 파이알고100\n",
        "# 05. 1의 갯수 반환\n",
        "# 첫번째 방법\n",
        "data = [1, 11, 111, 1111]\n",
        "# data = [10, 21, 31, 101]\n",
        "\n",
        "def solution(data):\n",
        "    count = 0\n",
        "\n",
        "    for i in data:\n",
        "        num_str = str(i)\n",
        "        for j in num_str:\n",
        "            if j == '1':\n",
        "                count += int(j)\n",
        "    return count\n",
        "\n",
        "solution(data)"
      ],
      "metadata": {
        "colab": {
          "base_uri": "https://localhost:8080/"
        },
        "id": "tceV5F-ZNL1Z",
        "outputId": "6a476eff-6e07-43b6-f13b-1ec25fdb4b4f"
      },
      "execution_count": null,
      "outputs": [
        {
          "output_type": "execute_result",
          "data": {
            "text/plain": [
              "10"
            ]
          },
          "metadata": {},
          "execution_count": 8
        }
      ]
    },
    {
      "cell_type": "code",
      "source": [
        "# 파이알고100\n",
        "# 05. 1의 갯수 반환\n",
        "# 두번째 방법\n",
        "data = [1, 11, 111, 1111]\n",
        "#data = [10, 21, 31, 101]\n",
        "\n",
        "def solution(data):\n",
        "    count = 0\n",
        "    for i in data:\n",
        "        count += str(i).count('1')\n",
        "    return count\n",
        "\n",
        "solution(data)"
      ],
      "metadata": {
        "colab": {
          "base_uri": "https://localhost:8080/"
        },
        "id": "ozISFvlcOVRU",
        "outputId": "145ed7b4-f100-40e0-e0ac-344b9b929ef5"
      },
      "execution_count": null,
      "outputs": [
        {
          "output_type": "execute_result",
          "data": {
            "text/plain": [
              "10"
            ]
          },
          "metadata": {},
          "execution_count": 7
        }
      ]
    },
    {
      "cell_type": "code",
      "source": [
        "#data = [1, 11, 111, 1111]\n",
        "data = [10, 21, 31, 101]\n",
        "\n",
        "def solution(data):\n",
        "    return str(data).count('1')\n",
        "\n",
        "solution(data)"
      ],
      "metadata": {
        "id": "v7peYzQpU6Zz"
      },
      "execution_count": null,
      "outputs": []
    },
    {
      "cell_type": "code",
      "source": [
        "# 파이알고100\n",
        "# 06. 문자열 덧셈\n",
        "# 첫번째 방법\n",
        "data = '1hel2lo3'\n",
        "# data = '1q2w3e4r'\n",
        "\n",
        "def solution(data):\n",
        "    count = 0\n",
        "    for i in data:\n",
        "        if i.isdigit():\n",
        "            count += int(i)\n",
        "    return count\n",
        "solution(data)"
      ],
      "metadata": {
        "colab": {
          "base_uri": "https://localhost:8080/"
        },
        "id": "66lCf4AyQKwW",
        "outputId": "aab022cc-b192-4581-a450-7c9f4d82e15f"
      },
      "execution_count": null,
      "outputs": [
        {
          "output_type": "execute_result",
          "data": {
            "text/plain": [
              "10"
            ]
          },
          "metadata": {},
          "execution_count": 59
        }
      ]
    },
    {
      "cell_type": "code",
      "source": [
        "import re\n",
        "# 파이알고100\n",
        "# 06. 문자열 덧셈\n",
        "# 두번째 방법\n",
        "data = '1hel2lo3'\n",
        "# data = '1q2w3e4r'\n",
        "\n",
        "def solution(data):\n",
        "    return sum(map(int, re.sub(r'[^0-9]', '', data)))\n",
        "solution(data)"
      ],
      "metadata": {
        "colab": {
          "base_uri": "https://localhost:8080/"
        },
        "id": "9hWqsaoWQ57s",
        "outputId": "69ecd6b0-3443-4347-bf7f-0ba0bf885aef"
      },
      "execution_count": null,
      "outputs": [
        {
          "output_type": "execute_result",
          "data": {
            "text/plain": [
              "6"
            ]
          },
          "metadata": {},
          "execution_count": 2
        }
      ]
    },
    {
      "cell_type": "code",
      "source": [
        "# 파이알고100\n",
        "# 07. 업무 우선순위\n",
        "# 첫번째 방법\n",
        "data = [['A', 3], ['B', 1], ['C', 2]]\n",
        "#data = [['A', 1], ['B', 2], ['C', 3]]\n",
        "\n",
        "def solution(data):\n",
        "    return list(map(lambda x: x[0], sorted(data, key=lambda x: x[1])))\n",
        "\n",
        "solution(data)"
      ],
      "metadata": {
        "id": "QN1XHZSTRU6r",
        "colab": {
          "base_uri": "https://localhost:8080/"
        },
        "outputId": "ef26b9d4-c097-47b9-f4d8-be711283844b"
      },
      "execution_count": null,
      "outputs": [
        {
          "output_type": "execute_result",
          "data": {
            "text/plain": [
              "['B', 'C', 'A']"
            ]
          },
          "metadata": {},
          "execution_count": 42
        }
      ]
    },
    {
      "cell_type": "code",
      "source": [
        "# 07. 업무 우선순위\n",
        "# 두번째 방법\n",
        "data = [['A', 3], ['B', 1], ['C', 2]]\n",
        "#data = [['A', 1], ['B', 2], ['C', 3]]\n",
        "\n",
        "def solution(data):\n",
        "    answer = []\n",
        "    sorted_data = sorted(data, key=lambda x: x[1])\n",
        "    for i in sorted_data:\n",
        "        answer += i[0]\n",
        "    return answer\n",
        "\n",
        "solution(data)"
      ],
      "metadata": {
        "colab": {
          "base_uri": "https://localhost:8080/"
        },
        "id": "eO4cLfwbc-GW",
        "outputId": "e5e0bcee-5f0c-4022-b4bc-fd56344c14ff"
      },
      "execution_count": null,
      "outputs": [
        {
          "output_type": "execute_result",
          "data": {
            "text/plain": [
              "['B', 'C', 'A']"
            ]
          },
          "metadata": {},
          "execution_count": 44
        }
      ]
    },
    {
      "cell_type": "code",
      "source": [
        "# 07. 업무 우선순위\n",
        "# 세번째 방법\n",
        "data = [['A', 3], ['B', 1], ['C', 2]]\n",
        "#data = [['A', 1], ['B', 2], ['C', 3]]\n",
        "\n",
        "def solution(data):\n",
        "    sorted_data = sorted(data, key=lambda x: x[1])\n",
        "    return [i[0] for i in sorted_data]\n",
        "\n",
        "solution(data)"
      ],
      "metadata": {
        "colab": {
          "base_uri": "https://localhost:8080/"
        },
        "id": "yyZGaVtwks2O",
        "outputId": "27b1cdc1-4580-4471-a89d-6baaf03cf13e"
      },
      "execution_count": null,
      "outputs": [
        {
          "output_type": "execute_result",
          "data": {
            "text/plain": [
              "['B', 'C', 'A']"
            ]
          },
          "metadata": {},
          "execution_count": 51
        }
      ]
    },
    {
      "cell_type": "code",
      "source": [
        "# 07. 업무 우선순위\n",
        "# 네번째 방법\n",
        "data = [['A', 3], ['B', 1], ['C', 2]]\n",
        "#data = [['A', 1], ['B', 2], ['C', 3]]\n",
        "\n",
        "def solution(data):\n",
        "    return [i[0] for i in sorted(data, key=lambda x: x[1])]\n",
        "\n",
        "solution(data)"
      ],
      "metadata": {
        "colab": {
          "base_uri": "https://localhost:8080/"
        },
        "id": "LuC8V1oBlZOI",
        "outputId": "27ef74e3-2822-415f-91f8-1e4995cda994"
      },
      "execution_count": null,
      "outputs": [
        {
          "output_type": "execute_result",
          "data": {
            "text/plain": [
              "['B', 'C', 'A']"
            ]
          },
          "metadata": {},
          "execution_count": 53
        }
      ]
    },
    {
      "cell_type": "code",
      "source": [
        "# 08. 두 점 사이의 거리\n",
        "# 첫번째 방법\n",
        "#data = [1, 3, 5, 6, 10, 12, 19]\n",
        "#data = [1, 3, 4, 6]\n",
        "data = [1, 10, 20, 25, 31, 40]\n",
        "def solution(data):\n",
        "    sorted_data = sorted(data)\n",
        "    return list(min(zip(sorted_data, sorted_data[1:]), key=lambda x: abs(x[0]- x[1])))\n",
        "solution(data)"
      ],
      "metadata": {
        "colab": {
          "base_uri": "https://localhost:8080/"
        },
        "id": "q2wbaxm4nmeF",
        "outputId": "c723ace7-b6e0-4082-9676-6a9a651a9a9d"
      },
      "execution_count": null,
      "outputs": [
        {
          "output_type": "execute_result",
          "data": {
            "text/plain": [
              "[20, 25]"
            ]
          },
          "metadata": {},
          "execution_count": 2
        }
      ]
    },
    {
      "cell_type": "code",
      "source": [
        "# 08. 두 점 사이의 거리\n",
        "# 두번째 방법\n",
        "data = [1, 3, 5, 6, 10, 12, 19]\n",
        "# data = [1, 3, 4, 6]\n",
        "# data = [[1, 10, 20, 25, 31, 40]]\n",
        "def solution(data):\n",
        "    sorted_data = sorted(data)\n",
        "    zip(sorted_data, sorted_data[1:])\n",
        "solution(data)"
      ],
      "metadata": {
        "id": "eAjJzsU9Bk7U"
      },
      "execution_count": null,
      "outputs": []
    },
    {
      "cell_type": "code",
      "source": [
        "# 08. 두 점 사이의 거리\n",
        "# 세번째 방법안됨..\n",
        "data = [1, 3, 5, 6, 10, 12, 19]\n",
        "# data = [1, 3, 4, 6]\n",
        "# data = [[1, 10, 20, 25, 31, 40]]\n",
        "\n",
        "def solution(data):\n",
        "    sorted_data = sorted(data)\n",
        "\n",
        "    list(map(lambda x, y : abs(x-y), zip(sorted_data, sorted_data[1:])))\n",
        "\n",
        "\n",
        "solution(data)"
      ],
      "metadata": {
        "id": "-Fu-nu7yw5i0"
      },
      "execution_count": null,
      "outputs": []
    },
    {
      "cell_type": "code",
      "source": [
        "# 8번\n",
        "def solution(data):\n",
        "\n",
        "    try:\n",
        "        tmp_d = sum(data, []) # 2차원 데이터는 평탄화\n",
        "    except:\n",
        "        tmp_d = data # 1차원 데이터는 평탄화된 상태이므로 그대로 사용\n",
        "    # print(tmp_d)\n",
        "\n",
        "    dic = dict() # 숫자 조합을 키, 숫자 간 거리를 값 으로 하는 딕셔너리\n",
        "\n",
        "    for i in range(len(tmp_d)-1):\n",
        "        num1 = tmp_d[i] # 앞의 숫자\n",
        "        num2 = tmp_d[i+1] # 뒤의 숫자\n",
        "        dist = abs(num1 - num2) # 두 숫자의 거리\n",
        "        dic[(num1, num2)] = dist\n",
        "\n",
        "    # 딕셔너리를 값을 기준으로 정렬해서 키 값을 뽑아냄.\n",
        "    sorted_data = sorted(dic.items(), key= lambda x: x[1])\n",
        "    # 가장 작은 거리를 가지는 숫자 조합을 리스트로 출력\n",
        "    res = list(sorted_data[0][0])\n",
        "    return res"
      ],
      "metadata": {
        "id": "5RNQSYbxrqIS"
      },
      "execution_count": null,
      "outputs": []
    },
    {
      "cell_type": "code",
      "source": [
        "# 09. 수학은 내가 1등\n",
        "# 첫번째 방법\n",
        "#data = [{'이름': 'A', '국': 30, '영': 20, '수': 85}, {'이름': 'B', '국': 95, '영': 98, '수': 10}]\n",
        "data = [{'이름': 'A', '국': 21, '영': 33, '수': 54}, {'이름': 'B', '국': 32, '영': 43, '수': 11}]\n",
        "\n",
        "# step 1 딕셔너리에서 key가 수 인것의 값을 꺼낸다.\n",
        "def solution(data):\n",
        "    score = 0\n",
        "    name = ''\n",
        "    for i in data:\n",
        "        if i['수'] > score:\n",
        "            score = i['수']\n",
        "            name = i['이름']\n",
        "    return name\n",
        "\n",
        "solution(data)"
      ],
      "metadata": {
        "colab": {
          "base_uri": "https://localhost:8080/",
          "height": 35
        },
        "id": "Fqg5AUwCD7KP",
        "outputId": "201838eb-2c1c-4ec9-8f75-54e0f749d105"
      },
      "execution_count": null,
      "outputs": [
        {
          "output_type": "execute_result",
          "data": {
            "text/plain": [
              "'B'"
            ],
            "application/vnd.google.colaboratory.intrinsic+json": {
              "type": "string"
            }
          },
          "metadata": {},
          "execution_count": 46
        }
      ]
    },
    {
      "cell_type": "code",
      "source": [
        "# 09. 수학은 내가 1등\n",
        "# 두번째 방법\n",
        "#data = [{'이름': 'A', '국': 30, '영': 20, '수': 85}, {'이름': 'B', '국': 95, '영': 98, '수': 10}]\n",
        "data = [{'이름': 'A', '국': 21, '영': 33, '수': 54}, {'이름': 'B', '국': 32, '영': 43, '수': 11}]\n",
        "\n",
        "# step 1 딕셔너리에서 key가 수 인것의 값을 꺼낸다.\n",
        "def solution(data):\n",
        "    return max(data, key=lambda x: x['수'])['이름']\n",
        "\n",
        "solution(data)"
      ],
      "metadata": {
        "colab": {
          "base_uri": "https://localhost:8080/",
          "height": 35
        },
        "id": "apF4K81pIerM",
        "outputId": "0fd67fcd-f99e-4acb-d816-0454b3ca7f37"
      },
      "execution_count": null,
      "outputs": [
        {
          "output_type": "execute_result",
          "data": {
            "text/plain": [
              "'A'"
            ],
            "application/vnd.google.colaboratory.intrinsic+json": {
              "type": "string"
            }
          },
          "metadata": {},
          "execution_count": 48
        }
      ]
    },
    {
      "cell_type": "code",
      "source": [
        "# 10. 게임 밸런스 조절\n",
        "# 첫번째 방법\n",
        "data = [['Licat', 98, 92, 85, 97], ['Mura', 95, 32, 51, 30], ['Binky', 98, 98, 51, 32]]\n",
        "# data = [['Gray', 98, 92, 85, 97], ['Gom', 98, 30, 21, 60], ['Allosa', 98, 90, 99, 98]]\n",
        "def solution(data):\n",
        "    select_character = []\n",
        "\n",
        "    # step1 3 ≤ 캐릭터의 수 ≤ 10\n",
        "    if 3 <= len(data) <= 10:\n",
        "        for i in data:\n",
        "            if sum(i[1:]) >= 350 and all(list(map(lambda x:True if 10 <= int(x) <= 100 else False, i[1:]))):\n",
        "                select_character.append(i[0])\n",
        "        return sorted(select_character)\n",
        "    else:\n",
        "        print(\"캐릭터 수가 3 보다 크고 10 보다 작아야 합니다.\")\n",
        "\n",
        "solution(data)"
      ],
      "metadata": {
        "colab": {
          "base_uri": "https://localhost:8080/"
        },
        "id": "jHTyXMqQkEj1",
        "outputId": "3b163ea2-52c5-4b66-9cb0-d9f49198e30a"
      },
      "execution_count": null,
      "outputs": [
        {
          "output_type": "execute_result",
          "data": {
            "text/plain": [
              "['Licat']"
            ]
          },
          "metadata": {},
          "execution_count": 14
        }
      ]
    },
    {
      "cell_type": "code",
      "source": [
        "# 11. 평균 점수 카운팅\n",
        "# 첫번째 방법\n",
        "data = [[98, 92, 85], [95, 32, 51], [98, 98, 51]]\n",
        "#data = [[92, 85, 97], [30, 21, 60], [90, 99, 98], [0, 0, 0], [81, 80, 88, 83]]\n",
        "\n",
        "def solution(data):\n",
        "\n",
        "    count = 0\n",
        "\n",
        "    for i in data:\n",
        "        total = 0\n",
        "        for j in i:\n",
        "            total += int(j)\n",
        "            if (total / len(i)) > 80:\n",
        "                count += 1\n",
        "\n",
        "    return count\n",
        "\n",
        "solution(data)"
      ],
      "metadata": {
        "id": "Jzibt0jDkaYP",
        "colab": {
          "base_uri": "https://localhost:8080/"
        },
        "outputId": "a0cf9dfb-8995-47dc-8e79-5d99acffedd0"
      },
      "execution_count": null,
      "outputs": [
        {
          "output_type": "execute_result",
          "data": {
            "text/plain": [
              "2"
            ]
          },
          "metadata": {},
          "execution_count": 9
        }
      ]
    },
    {
      "cell_type": "code",
      "source": [
        "# 11. 평균 점수 카운팅\n",
        "# 두번째 방법\n",
        "# data = [[98, 92, 85], [95, 32, 51], [98, 98, 51]]\n",
        "data = [[92, 85, 97], [30, 21, 60], [90, 99, 98], [0, 0, 0], [81, 80, 88, 83]]\n",
        "\n",
        "def solution(data):\n",
        "    count = 0\n",
        "    for i in data:\n",
        "        if sum(i) / len(i) > 80:\n",
        "            count += 1\n",
        "    return count\n",
        "solution(data)"
      ],
      "metadata": {
        "colab": {
          "base_uri": "https://localhost:8080/"
        },
        "id": "JkSoNTdRxgL2",
        "outputId": "3e938b84-8067-42af-d2b8-1e3677cfe2d3"
      },
      "execution_count": null,
      "outputs": [
        {
          "output_type": "execute_result",
          "data": {
            "text/plain": [
              "3"
            ]
          },
          "metadata": {},
          "execution_count": 15
        }
      ]
    },
    {
      "cell_type": "code",
      "source": [
        "# 11. 평균 점수 카운팅\n",
        "# 세번째 방법\n",
        "# data = [[98, 92, 85], [95, 32, 51], [98, 98, 51]]\n",
        "data = [[92, 85, 97], [30, 21, 60], [90, 99, 98], [0, 0, 0], [81, 80, 88, 83]]\n",
        "\n",
        "def solution(data):\n",
        "        return sum(sum(i) / len(i) > 80 for i in data)\n",
        "solution(data)"
      ],
      "metadata": {
        "colab": {
          "base_uri": "https://localhost:8080/"
        },
        "id": "91OR_xAt1GKX",
        "outputId": "dc96a9ac-24d6-47eb-a273-944ee76ac15b"
      },
      "execution_count": null,
      "outputs": [
        {
          "output_type": "execute_result",
          "data": {
            "text/plain": [
              "3"
            ]
          },
          "metadata": {},
          "execution_count": 17
        }
      ]
    },
    {
      "cell_type": "code",
      "source": [
        "# 12. 우편 번호 정렬\n",
        "# 첫번째 방법\n",
        "data = [['제주시 A동 한라산길 61', '제주시 B동 백록담길 63', '제주시 C동 사라봉길 31'], {'A동': 63007, 'B동': 63010, 'C동': 63002}]\n",
        "\n",
        "def solution(data):\n",
        "    data1, data2 = data\n",
        "    sorted_data2 = sorted(data2, key=lambda x: data2[x])\n",
        "    sorted_data1 = sorted(data1, key=lambda x: sorted_data2.index(x.split()[1]))\n",
        "    return sorted_data1\n",
        "solution(data)"
      ],
      "metadata": {
        "colab": {
          "base_uri": "https://localhost:8080/"
        },
        "id": "T9oIGeR53Mmb",
        "outputId": "d212ed24-f6e6-45ca-b35f-841b5bf3d98f"
      },
      "execution_count": null,
      "outputs": [
        {
          "output_type": "execute_result",
          "data": {
            "text/plain": [
              "['제주시 C동 사라봉길 31', '제주시 A동 한라산길 61', '제주시 B동 백록담길 63']"
            ]
          },
          "metadata": {},
          "execution_count": 29
        }
      ]
    },
    {
      "cell_type": "code",
      "source": [
        "# 13. 도서관 책 연도별 정렬\n",
        "# 첫번째\n",
        "data = [['Moby Dick', 'To Kill a Mockingbird', '1984'], {'Moby Dick': 1851, 'To Kill a Mockingbird': 1960, '1984': 1949}]\n",
        "\n",
        "def solution(data):\n",
        "    data1, data2 = data\n",
        "\n",
        "    sorted_data2 = sorted(data2, key=lambda x: data2[x])    # 키를 값에 따라 오름차순으로 정렬\n",
        "    sorted_data1 = sorted(data1, key=lambda x: sorted_data2.index(x))\n",
        "    return sorted_data1\n",
        "\n",
        "solution(data)"
      ],
      "metadata": {
        "id": "AC-XrxGg4CE7",
        "colab": {
          "base_uri": "https://localhost:8080/"
        },
        "outputId": "30c79e1b-6b23-465c-ca8a-b13cf272bfd5"
      },
      "execution_count": null,
      "outputs": [
        {
          "output_type": "execute_result",
          "data": {
            "text/plain": [
              "['Moby Dick', '1984', 'To Kill a Mockingbird']"
            ]
          },
          "metadata": {},
          "execution_count": 5
        }
      ]
    },
    {
      "cell_type": "code",
      "source": [
        "# 14. 도서관 책 위치 정렬\n",
        "# 첫번째\n",
        "data = {'AX21': 'Moby Dick', 'BX32': '1984', 'CX14': 'To Kill a Mockingbird'}\n",
        "\n",
        "def solution(data):\n",
        "    sorted_data = sorted(data.items(), key=lambda x: x[0])\n",
        "    sorted_data_value = [value for key, value in sorted_data]\n",
        "    return sorted_data_value\n",
        "\n",
        "solution(data)"
      ],
      "metadata": {
        "colab": {
          "base_uri": "https://localhost:8080/"
        },
        "id": "0ueY-IfidJOO",
        "outputId": "9c2fd1dd-8fab-4657-f480-22d08fe1c7bb"
      },
      "execution_count": null,
      "outputs": [
        {
          "output_type": "execute_result",
          "data": {
            "text/plain": [
              "['Moby Dick', '1984', 'To Kill a Mockingbird']"
            ]
          },
          "metadata": {},
          "execution_count": 10
        }
      ]
    },
    {
      "cell_type": "code",
      "source": [
        "# 14. 도서관 책 위치 정렬\n",
        "# 두번째\n",
        "data = {'AX21': 'Moby Dick', 'BX32': '1984', 'CX14': 'To Kill a Mockingbird'}\n",
        "\n",
        "def solution(data):\n",
        "    # 키를 알파벳 순으로 정렬\n",
        "    sorted_key = sorted(data)\n",
        "\n",
        "    # 정렬된 키에 해당하는 값을 순서대로 추출\n",
        "    sorted_values = [data[key] for key in sorted_key]\n",
        "\n",
        "    return sorted_values\n",
        "\n",
        "solution(data)"
      ],
      "metadata": {
        "colab": {
          "base_uri": "https://localhost:8080/"
        },
        "id": "-glPtwh7dlj2",
        "outputId": "36577918-5ebc-46f9-88b5-64f57ba6589c"
      },
      "execution_count": null,
      "outputs": [
        {
          "output_type": "execute_result",
          "data": {
            "text/plain": [
              "['Moby Dick', '1984', 'To Kill a Mockingbird']"
            ]
          },
          "metadata": {},
          "execution_count": 73
        }
      ]
    },
    {
      "cell_type": "code",
      "source": [
        "# 15. 위니브 회의 시간표 정렬\n",
        "# 첫번째\n",
        "data = ['01:00 PM', '11:30 AM', '12:45 PM', '09:00 AM', '12:00 AM']\n",
        "\n",
        "def solution(data):\n",
        "    answer = {}\n",
        "    for x, i in enumerate(data, 0):\n",
        "        if i.split()[1] == 'PM' and int(i[:2]) < 12:\n",
        "            i = i.replace(i[:2], str(int(i[:2])+12))\n",
        "            answer.update({i: data[x]})\n",
        "        elif i.split()[1] == 'AM' and int(i[:2]) == 12:\n",
        "            i = i.replace(i[:2], '00')\n",
        "            answer.update({i: data[x]})\n",
        "        else:\n",
        "            answer.update({i: data[x]})\n",
        "    return [answer[key] for key in sorted(answer)]\n",
        "\n",
        "solution(data)"
      ],
      "metadata": {
        "colab": {
          "base_uri": "https://localhost:8080/"
        },
        "id": "0ClrNR8YkFg5",
        "outputId": "45b065ae-052d-4da5-d1dc-acd932cc8b22"
      },
      "execution_count": null,
      "outputs": [
        {
          "output_type": "execute_result",
          "data": {
            "text/plain": [
              "['12:00 AM', '09:00 AM', '11:30 AM', '12:45 PM', '01:00 PM']"
            ]
          },
          "metadata": {},
          "execution_count": 40
        }
      ]
    },
    {
      "cell_type": "code",
      "source": [
        "# 16. 뮤라의 휴가 입력\n",
        "# 첫번째\n",
        "#data = ['20-01-2024', '12/15/2023', '2022.05.30']\n",
        "data = ['03/25/2021', '2020.12.31', '15-04-2022']\n",
        "\n",
        "def solution(data):\n",
        "    flat_data = []\n",
        "    for i in data:\n",
        "        if len(i.split('-')[0]) == 2:\n",
        "            flat_data.append(i.split('-')[2] + '/' + i.split('-')[1] + '/' + i.split('-')[0])\n",
        "        elif len(i.split('/')[0]) == 2:\n",
        "            flat_data.append(i.split('/')[2] + '/' + i.split('/')[0] + '/' + i.split('/')[1])\n",
        "        else:\n",
        "            flat_data.append(i.split('.')[0] + '/' + i.split('.')[1] + '/' + i.split('.')[2])\n",
        "    sorted_data = sorted(flat_data)\n",
        "    return sorted_data\n",
        "solution(data)"
      ],
      "metadata": {
        "id": "eS9Q9ChlPVKC",
        "colab": {
          "base_uri": "https://localhost:8080/"
        },
        "outputId": "d1270521-4aab-412a-c4a7-f797bb8fdd21"
      },
      "execution_count": null,
      "outputs": [
        {
          "output_type": "execute_result",
          "data": {
            "text/plain": [
              "['2020/12/31', '2021/03/25', '2022/04/15']"
            ]
          },
          "metadata": {},
          "execution_count": 1
        }
      ]
    },
    {
      "cell_type": "code",
      "source": [
        "# 17. 라이캣 CEO의 최근 일정 3개\n",
        "# 첫번째\n",
        "data = {'월': ['2024-01-01', '2024-01-08', '2024-01-15', '2024-01-22'], '화': ['2024-01-02', '2024-01-09', '2024-01-16'], '수': ['2024-01-03', '2024-01-10'], '목': ['2024-01-04', '2024-01-11', '2024-01-18'], '금': ['2024-01-05', '2024-01-12', '2024-01-19', '2024-01-26']}\n",
        "\n",
        "def solution(data):\n",
        "    flat_data = []\n",
        "\n",
        "    # 딕셔너리 data 를 key 값과 value 로 구분\n",
        "    for key, value in data.items():\n",
        "        for i in value:\n",
        "            # value 에서 값을 하나씩 꺼내서 앞에 2글자 자르고, 키값 합쳐서 flat_data에 넣는다.\n",
        "            flat_data.append(i[2:] + \" \" + key)\n",
        "    # flat_data 앞에 3개만 출력\n",
        "    return sorted(flat_data, reverse=True)[:3]\n",
        "\n",
        "solution(data)\n"
      ],
      "metadata": {
        "colab": {
          "base_uri": "https://localhost:8080/"
        },
        "id": "Uvta8tg_InXV",
        "outputId": "c3487710-4185-4f48-ba38-afeecc8dd651"
      },
      "execution_count": null,
      "outputs": [
        {
          "output_type": "execute_result",
          "data": {
            "text/plain": [
              "['24-01-26 금', '24-01-22 월', '24-01-19 금']"
            ]
          },
          "metadata": {},
          "execution_count": 85
        }
      ]
    },
    {
      "cell_type": "code",
      "source": [
        "# 18. 주간 최고 온도 기록 분석\n",
        "# 첫번째\n",
        "data = {'2024-01-01': 15, '2024-01-02': 17, '2024-01-03': 16, '2024-01-04': 20, '2024-01-05': 19, '2024-01-06': 21, '2024-01-07': 18}\n",
        "\n",
        "def solution(data):\n",
        "\n",
        "    # 값 기준으로 정렬\n",
        "    sorted_data = sorted(data, key=lambda x: data[x], reverse=True)\n",
        "    select_data = []\n",
        "\n",
        "    for i in sorted_data:\n",
        "        for key, value in data.items():\n",
        "            if i == key:\n",
        "                select_data.append(i[2:] + \": \" + str(value))\n",
        "    return select_data[:3]\n",
        "\n",
        "solution(data)"
      ],
      "metadata": {
        "id": "xqt7mppLJiNv",
        "colab": {
          "base_uri": "https://localhost:8080/"
        },
        "outputId": "7a97c5a1-0518-4a8f-9e5b-91b36dcbfc1c"
      },
      "execution_count": null,
      "outputs": [
        {
          "output_type": "execute_result",
          "data": {
            "text/plain": [
              "['24-01-06: 21', '24-01-04: 20', '24-01-05: 19']"
            ]
          },
          "metadata": {},
          "execution_count": 12
        }
      ]
    },
    {
      "cell_type": "code",
      "source": [
        "# 19. 데이터 타입 확인\n",
        "# 첫번째\n",
        "data = [123, 4.56, 'hello', [1, 2, 3], (4, 5), {'a': 1, 'b': 2}]\n",
        "\n",
        "def solution(data):\n",
        "    answer = []\n",
        "    for i in data:\n",
        "        answer.append(str(type(i))[8:-2])\n",
        "    return answer\n",
        "\n",
        "solution(data)"
      ],
      "metadata": {
        "id": "XpIMrMAxcE9e",
        "colab": {
          "base_uri": "https://localhost:8080/"
        },
        "outputId": "5e69dfb8-6361-47da-d8fe-2c2ef34f4e95"
      },
      "execution_count": null,
      "outputs": [
        {
          "output_type": "execute_result",
          "data": {
            "text/plain": [
              "['int', 'float', 'str', 'list', 'tuple', 'dict']"
            ]
          },
          "metadata": {},
          "execution_count": 26
        }
      ]
    },
    {
      "cell_type": "code",
      "source": [
        "# 19. 데이터 타입 확인\n",
        "# 두번째\n",
        "data = [123, 4.56, 'hello', [1, 2, 3], (4, 5), {'a': 1, 'b': 2}]\n",
        "\n",
        "def solution(data):\n",
        "    return [str(type(i))[8:-2] for i in data]\n",
        "\n",
        "solution(data)"
      ],
      "metadata": {
        "colab": {
          "base_uri": "https://localhost:8080/"
        },
        "id": "K-TxYY-uydIG",
        "outputId": "d49fa050-c75b-48f5-b7f1-8feb0ecb3d6d"
      },
      "execution_count": null,
      "outputs": [
        {
          "output_type": "execute_result",
          "data": {
            "text/plain": [
              "['int', 'float', 'str', 'list', 'tuple', 'dict']"
            ]
          },
          "metadata": {},
          "execution_count": 27
        }
      ]
    },
    {
      "cell_type": "code",
      "source": [
        "# 20. 타입 확인\n",
        "# 첫번째\n",
        "#data = [('list', [1, 2, 3]), ('int', 4), ('str', 'hello')]\n",
        "data = [('str', 100), ('dict', {'a': 1}), ('tuple', (1, 2, 3))]\n",
        "\n",
        "def solution(data):\n",
        "    for i in data:\n",
        "        if i[0] != str(type(i[1]))[8:-2]:\n",
        "            return False\n",
        "    return True\n",
        "\n",
        "solution(data)"
      ],
      "metadata": {
        "colab": {
          "base_uri": "https://localhost:8080/"
        },
        "id": "sA5nZ1RN7hDO",
        "outputId": "0087cf6e-8ee8-488d-b373-d62f8edf5f91"
      },
      "execution_count": null,
      "outputs": [
        {
          "output_type": "execute_result",
          "data": {
            "text/plain": [
              "False"
            ]
          },
          "metadata": {},
          "execution_count": 38
        }
      ]
    },
    {
      "cell_type": "code",
      "source": [
        "# 21. 숫자 배열 탐색\n",
        "# 첫번째\n",
        "data = ([1, 3, 5, 7, 9], 5)\n",
        "#data = ([2, 4, 6, 8, 10], 7)\n",
        "\n",
        "def solution(data):\n",
        "    data1, data2 = data\n",
        "    for num, value in enumerate(data1, 0):\n",
        "        if value == data2:\n",
        "            return num\n",
        "    return False\n",
        "solution(data)"
      ],
      "metadata": {
        "colab": {
          "base_uri": "https://localhost:8080/"
        },
        "id": "YBY8pR758F_7",
        "outputId": "c012193a-a3cd-499b-92c2-1bf60e224621"
      },
      "execution_count": null,
      "outputs": [
        {
          "output_type": "execute_result",
          "data": {
            "text/plain": [
              "2"
            ]
          },
          "metadata": {},
          "execution_count": 1
        }
      ]
    },
    {
      "cell_type": "code",
      "source": [
        "# 21. 숫자 배열 탐색\n",
        "# 두번째\n",
        "data = ([1, 3, 5, 7, 9], 5)\n",
        "# data = ([2, 4, 6, 8, 10], 7)\n",
        "\n",
        "def solution(data):\n",
        "    data1, data2 = data\n",
        "    try:\n",
        "        return data1.index(data2)\n",
        "    except ValueError:\n",
        "        return False\n",
        "solution(data)"
      ],
      "metadata": {
        "colab": {
          "base_uri": "https://localhost:8080/"
        },
        "id": "GmhQ221dO1Be",
        "outputId": "2bb9acd1-c292-4cc3-e577-777a2bed26a0"
      },
      "execution_count": null,
      "outputs": [
        {
          "output_type": "execute_result",
          "data": {
            "text/plain": [
              "2"
            ]
          },
          "metadata": {},
          "execution_count": 46
        }
      ]
    },
    {
      "cell_type": "code",
      "source": [
        "# 22. 문자열 탐색\n",
        "# 첫번째\n",
        "# data = ('hello', 'e')\n",
        "data = ('world', 'a')\n",
        "def solution(data):\n",
        "    data1, data2 = data\n",
        "    for i in data1:\n",
        "        if i == data2:\n",
        "            return data1.index(i)\n",
        "    return False\n",
        "solution(data)"
      ],
      "metadata": {
        "colab": {
          "base_uri": "https://localhost:8080/"
        },
        "id": "Py5qbjh8Pdgb",
        "outputId": "da8b31ee-6728-46e9-9795-92587b971612"
      },
      "execution_count": null,
      "outputs": [
        {
          "output_type": "execute_result",
          "data": {
            "text/plain": [
              "False"
            ]
          },
          "metadata": {},
          "execution_count": 53
        }
      ]
    },
    {
      "cell_type": "code",
      "source": [
        "# 22. 문자열 탐색\n",
        "# 첫번째\n",
        "data = ('hello', 'e')\n",
        "#data = ('world', 'a')\n",
        "def solution(data):\n",
        "    data1, data2 = data\n",
        "    try:\n",
        "        return data1.index(data2)\n",
        "    except ValueError:\n",
        "        return False\n",
        "solution(data)"
      ],
      "metadata": {
        "colab": {
          "base_uri": "https://localhost:8080/"
        },
        "id": "_NUoCGSoRC5P",
        "outputId": "d70c2934-7d07-49b0-dfa1-98c99a6eafd5"
      },
      "execution_count": null,
      "outputs": [
        {
          "output_type": "execute_result",
          "data": {
            "text/plain": [
              "1"
            ]
          },
          "metadata": {},
          "execution_count": 59
        }
      ]
    },
    {
      "cell_type": "code",
      "source": [
        "# 23. 2차원 배열 탐색\n",
        "# 첫번째\n",
        "#data = ([[1, 3, 5], [7, 9, 11], [13, 15, 17]], 7)\n",
        "data = ([[2, 4, 6], [8, 10, 12], [14, 16, 18]], 13)\n",
        "\n",
        "def solution(data):\n",
        "    data1, data2 = data\n",
        "    for value_list in data1:\n",
        "        for i in value_list:\n",
        "            if i == data2:\n",
        "                return True\n",
        "    return False\n",
        "\n",
        "solution(data)"
      ],
      "metadata": {
        "id": "VU74N8B9SJyL",
        "colab": {
          "base_uri": "https://localhost:8080/"
        },
        "outputId": "9bd31e79-6de7-4ac4-e797-61ca3f0e7cdf"
      },
      "execution_count": null,
      "outputs": [
        {
          "output_type": "execute_result",
          "data": {
            "text/plain": [
              "False"
            ]
          },
          "metadata": {},
          "execution_count": 2
        }
      ]
    },
    {
      "cell_type": "code",
      "source": [
        "# 23. 2차원 배열 탐색\n",
        "# 두번째\n",
        "data = ([[1, 3, 5], [7, 9, 11], [13, 15, 17]], 7)\n",
        "#data = ([[2, 4, 6], [8, 10, 12], [14, 16, 18]], 13)\n",
        "\n",
        "def solution(data):\n",
        "    data1, data2 = data\n",
        "    data1 = sum(data1, [])\n",
        "    return True if data2 in data1 else False\n",
        "\n",
        "solution(data)"
      ],
      "metadata": {
        "colab": {
          "base_uri": "https://localhost:8080/"
        },
        "id": "S6hdQpyIEsTb",
        "outputId": "c760fd97-5e14-4095-8e61-595dc2d2c5c2"
      },
      "execution_count": null,
      "outputs": [
        {
          "output_type": "execute_result",
          "data": {
            "text/plain": [
              "True"
            ]
          },
          "metadata": {},
          "execution_count": 10
        }
      ]
    },
    {
      "cell_type": "code",
      "source": [
        "# 23. 2차원 배열 탐색\n",
        "# 세번째\n",
        "data = ([[1, 3, 5], [7, 9, 11], [13, 15, 17]], 7)\n",
        "#data = ([[2, 4, 6], [8, 10, 12], [14, 16, 18]], 13)\n",
        "\n",
        "def solution(data):\n",
        "    data1, data2 = data\n",
        "    data1 = sum(data1, [])\n",
        "    return any(i == data2 for i in data1)\n",
        "\n",
        "solution(data)"
      ],
      "metadata": {
        "colab": {
          "base_uri": "https://localhost:8080/"
        },
        "id": "5Xr8bfgEFVFx",
        "outputId": "de5d3bb8-b682-4f3b-c116-9155504b8848"
      },
      "execution_count": null,
      "outputs": [
        {
          "output_type": "execute_result",
          "data": {
            "text/plain": [
              "True"
            ]
          },
          "metadata": {},
          "execution_count": 11
        }
      ]
    },
    {
      "cell_type": "code",
      "source": [
        "# 24. 연속 수열의 최대합\n",
        "# 첫번째\n",
        "#data = [1, -2, 3, 4, -1, 2, 1, -5, 4]\n",
        "data = [-2, -3, 4, -1, -2, 1, 5, -3]\n",
        "\n",
        "def solution(data):\n",
        "    # 배열의 첫번째 값으로 현재값과 가장 큰 값을 설정\n",
        "    currentValue = maxValue = data[0]\n",
        "\n",
        "    # 첫번째는 빼고, 순회\n",
        "    for num in data[1:]:\n",
        "        currentValue = max(num, currentValue + num)\n",
        "        maxValue = max(maxValue, currentValue)\n",
        "\n",
        "    return maxValue\n",
        "\n",
        "solution(data)"
      ],
      "metadata": {
        "colab": {
          "base_uri": "https://localhost:8080/"
        },
        "id": "ko6rKhjOImW6",
        "outputId": "cf519f0f-d2d6-4c16-ea99-dbb1453cd635"
      },
      "execution_count": null,
      "outputs": [
        {
          "output_type": "execute_result",
          "data": {
            "text/plain": [
              "7"
            ]
          },
          "metadata": {},
          "execution_count": 6
        }
      ]
    },
    {
      "cell_type": "code",
      "source": [
        "# 25. 소수 찾기\n",
        "# 첫번째\n",
        "data = 9\n",
        "def solution(data):\n",
        "\n",
        "    # 2보다 작은 숫자내에는 소수가 없으므로 0 리턴\n",
        "    if data < 2:\n",
        "        return 0\n",
        "\n",
        "    # 0부터 시작이라 입력받은 숫자보다 1 큰 숫자만큼 리스트를 만든다.\n",
        "    che_list = [True] * (data+1)\n",
        "    # 0과 1은 소수가 아니라 False\n",
        "    che_list[0] = che_list[1] = False\n",
        "\n",
        "    # 입력 받은 수의 최대 약수가 n제곱근 이하 이므로 루트씌우고 1더함\n",
        "    for i in range(2, int(data ** 0.5) + 1):\n",
        "\n",
        "        # 2부터 숫자 하나씩 검사\n",
        "        if che_list[i] == True:\n",
        "            # i의 배수들을 False로 판정\n",
        "            for j in range(i+i, data+1, i):\n",
        "                che_list[j] = False\n",
        "\n",
        "    return che_list.count(True)\n",
        "\n",
        "solution(data)"
      ],
      "metadata": {
        "id": "CIZ1Eb5Fb-a_",
        "colab": {
          "base_uri": "https://localhost:8080/"
        },
        "outputId": "0cfe1299-4976-4eef-de96-7fac0440bd87"
      },
      "execution_count": 79,
      "outputs": [
        {
          "output_type": "stream",
          "name": "stdout",
          "text": [
            "3\n",
            "3\n"
          ]
        },
        {
          "output_type": "execute_result",
          "data": {
            "text/plain": [
              "4"
            ]
          },
          "metadata": {},
          "execution_count": 79
        }
      ]
    },
    {
      "cell_type": "code",
      "source": [
        "# 26. 최대 합계 배열 찾기\n",
        "# 첫번째\n",
        "data = ([1, 3, 2, 6, -1, 4, 1, 8, 2], 5)\n",
        "#data = ([4, 2, 1, 7, 8, 1, 2, 8, 1, 0], 3)\n",
        "\n",
        "def solution(data):\n",
        "\n",
        "    # 순회할 data_list 와 더해줄 배열의 개수를 count로 할당\n",
        "    data_list, count = data\n",
        "\n",
        "    # count 수 만큼 유지할 리스트\n",
        "    select_list = []\n",
        "\n",
        "    # 리턴해줄 최대값\n",
        "    answer_value = 0\n",
        "\n",
        "    # 순회\n",
        "    for i in data_list:\n",
        "\n",
        "        if len(select_list) != count:   # 리스트 크기가 count 와 다를때\n",
        "            # select_list 에 더해준다.\n",
        "            select_list.append(i)\n",
        "        else:                           # 리스트 크기가 count 와 같을때\n",
        "            # select_list 의 합과 answer_value 중 큰 값을 answer_value 에 할당\n",
        "            answer_value = max(sum(select_list), answer_value)\n",
        "            # select_list 의 제일 첫번째 값을 리스트에서 제외\n",
        "            select_list.pop(0)\n",
        "            # select_list에 마지막에 값을 추가해서 select_list 의 크기를 count 와 같게 만든다.\n",
        "            select_list.append(i)\n",
        "\n",
        "    return answer_value\n",
        "\n",
        "solution(data)"
      ],
      "metadata": {
        "colab": {
          "base_uri": "https://localhost:8080/"
        },
        "id": "-51tm2_Cv_cc",
        "outputId": "59132fe3-4c64-41f4-ef62-e6bdaed8d804"
      },
      "execution_count": 30,
      "outputs": [
        {
          "output_type": "execute_result",
          "data": {
            "text/plain": [
              "18"
            ]
          },
          "metadata": {},
          "execution_count": 30
        }
      ]
    },
    {
      "cell_type": "code",
      "source": [
        "# 26. 최대 합계 배열 찾기\n",
        "# 두번째\n",
        "data = ([1, 3, 2, 6, -1, 4, 1, 8, 2], 5)\n",
        "#data = ([4, 2, 1, 7, 8, 1, 2, 8, 1, 0], 3)\n",
        "\n",
        "def solution(data):\n",
        "\n",
        "    # 순회할 data_list 와 더해줄 배열의 개수를 count로 할당\n",
        "    data_list, count = data\n",
        "\n",
        "    # 첫번째부터 count 까지의 합을 select_value 에 할당\n",
        "    select_value = sum(data_list[:count])\n",
        "\n",
        "    # 리턴해줄 최대값은 select_value 와 같다.\n",
        "    answer_value = select_value\n",
        "\n",
        "    # count 다음 자리부터 순회돌면 된다.\n",
        "    for i in range(len(data_list) - count):\n",
        "        # select_value 에서 배열의 i번째 자리 빼주고, count 더한 자리의 데이터를 더해준다.\n",
        "        select_value = select_value - data_list[i] + data_list[i + count]\n",
        "        answer_value = max(select_value, answer_value)\n",
        "    return answer_value\n",
        "\n",
        "solution(data)"
      ],
      "metadata": {
        "colab": {
          "base_uri": "https://localhost:8080/"
        },
        "id": "dL6mYiDZjEki",
        "outputId": "540b4931-9399-42f5-8f90-596bcdf7a4dc"
      },
      "execution_count": 32,
      "outputs": [
        {
          "output_type": "execute_result",
          "data": {
            "text/plain": [
              "18"
            ]
          },
          "metadata": {},
          "execution_count": 32
        }
      ]
    },
    {
      "cell_type": "code",
      "source": [
        "# 27. 작은 길이 부분 배열 찾기\n",
        "# 첫번째\n",
        "data = ([2, 1, 5, 2, 3, 2], 7)\n",
        "#data = ([1, 1, 1, 1, 1, 1, 1], 11)\n",
        "def solution(data):\n",
        "    data_list, target_num = data\n",
        "\n",
        "    select_list = []\n",
        "    min_value = 0\n",
        "    answer_len = 0\n",
        "\n",
        "    for i in data_list:\n",
        "        if min_value <= target_num:\n",
        "            print(i, min_value, answer_len)\n",
        "            select_list.append(i)\n",
        "            min_value = sum(select_list)\n",
        "        else:\n",
        "            print(i, min_value, answer_len)\n",
        "            answer_len = len(select_list)\n",
        "            min_value = min(min_value, min_value - i)\n",
        "\n",
        "    return answer_len\n",
        "solution(data)"
      ],
      "metadata": {
        "colab": {
          "base_uri": "https://localhost:8080/"
        },
        "id": "BzZDxgjOwJgF",
        "outputId": "99ff5b31-19a2-4a72-d05c-e5dc11a929f4"
      },
      "execution_count": 44,
      "outputs": [
        {
          "output_type": "stream",
          "name": "stdout",
          "text": [
            "2 0 0\n",
            "1 2 0\n",
            "5 3 0\n",
            "2 8 0\n",
            "3 6 3\n",
            "2 11 3\n"
          ]
        },
        {
          "output_type": "execute_result",
          "data": {
            "text/plain": [
              "4"
            ]
          },
          "metadata": {},
          "execution_count": 44
        }
      ]
    },
    {
      "cell_type": "code",
      "source": [
        "# 28. 가장 가까운 합 찾기\n",
        "# 첫번째\n",
        "#data = ([1, 2, 3, 4, 5], 10)\n",
        "data = ([2, 3, 5, 8, 12], 11)\n",
        "\n",
        "def solution(data):\n",
        "    data_list, target = data\n",
        "\n",
        "    close_num = 0\n",
        "\n",
        "    # 두수의 합을 찾기 위해 중첩 for문 사용\n",
        "    for i in range(0, len(data_list)):      # 0 부터 리스트 길이만큼\n",
        "        for j in range(i, len(data_list)):  # i 부터 리스트 길이만큼 2 + 3 했으면 3 + 2 제외 위함\n",
        "            if i == j:      # 같은 수 끼리 더하는 경우 제외\n",
        "                continue\n",
        "            else:\n",
        "                # 두수의 합에서 target 숫자를 빼고 나온수 와 임의의 가까운 수에서 target 숫자를 뺀수를 비교\n",
        "                # 기존 수보다 작으면 가까운 수 변경\n",
        "                if abs(data_list[i] + data_list[j] - target) < abs(close_num - target):\n",
        "                    close_num = data_list[i] + data_list[j]\n",
        "    return close_num\n",
        "\n",
        "solution(data)"
      ],
      "metadata": {
        "colab": {
          "base_uri": "https://localhost:8080/"
        },
        "id": "iA3EivogwRTx",
        "outputId": "7e80452c-7b12-4831-cdda-daed39c517f2"
      },
      "execution_count": 106,
      "outputs": [
        {
          "output_type": "execute_result",
          "data": {
            "text/plain": [
              "10"
            ]
          },
          "metadata": {},
          "execution_count": 106
        }
      ]
    },
    {
      "cell_type": "code",
      "source": [
        "# 29. 단일 숫자 찾기\n",
        "# 첫번째\n",
        "#data = [4, 1, 2, 1, 2]\n",
        "data = [2, 2, 1]\n",
        "def solution(data):\n",
        "\n",
        "    select_dict = {}\n",
        "\n",
        "    for i in data:\n",
        "        if i in select_dict:\n",
        "            select_dict[i] += 1\n",
        "        else:\n",
        "            select_dict[i] = 1\n",
        "\n",
        "    for key, value in select_dict.items():\n",
        "        if value == 1:\n",
        "            return key\n",
        "\n",
        "solution(data)"
      ],
      "metadata": {
        "colab": {
          "base_uri": "https://localhost:8080/"
        },
        "id": "mA3MpUoZwSjd",
        "outputId": "3c30a0c5-6c03-422d-9672-5c574781e841"
      },
      "execution_count": 118,
      "outputs": [
        {
          "output_type": "stream",
          "name": "stdout",
          "text": [
            "{2: 2, 1: 1}\n"
          ]
        },
        {
          "output_type": "execute_result",
          "data": {
            "text/plain": [
              "1"
            ]
          },
          "metadata": {},
          "execution_count": 118
        }
      ]
    },
    {
      "cell_type": "code",
      "source": [
        "# 29. 단일 숫자 찾기\n",
        "# 두번째\n",
        "data = [4, 1, 2, 1, 2]\n",
        "#data = [2, 2, 1]\n",
        "def solution(data):\n",
        "\n",
        "    select_num = 0\n",
        "\n",
        "    for i in data:\n",
        "        select_num ^= i\n",
        "    return select_num\n",
        "\n",
        "solution(data)"
      ],
      "metadata": {
        "colab": {
          "base_uri": "https://localhost:8080/"
        },
        "id": "gpyTtbEbiuNE",
        "outputId": "41d5e555-cf86-4309-9193-e4b076e5209f"
      },
      "execution_count": 126,
      "outputs": [
        {
          "output_type": "stream",
          "name": "stdout",
          "text": [
            "0b0 0b100\n",
            "0b100\n",
            "0b100 0b1\n",
            "0b101\n",
            "0b101 0b10\n",
            "0b111\n",
            "0b111 0b1\n",
            "0b110\n",
            "0b110 0b10\n",
            "0b100\n"
          ]
        },
        {
          "output_type": "execute_result",
          "data": {
            "text/plain": [
              "4"
            ]
          },
          "metadata": {},
          "execution_count": 126
        }
      ]
    },
    {
      "cell_type": "code",
      "source": [
        "# 30. 비트 치환 문제\n",
        "# 첫번째\n",
        "data = 5\n",
        "#data = 9\n",
        "def solution(data):\n",
        "\n",
        "    answer_str = ''\n",
        "\n",
        "    for i in bin(data)[2:]:\n",
        "        if i == '1':\n",
        "            answer_str += i.replace('1', 'A')\n",
        "        else:\n",
        "            answer_str += i.replace('0', 'B')\n",
        "    return answer_str\n",
        "\n",
        "solution(data)"
      ],
      "metadata": {
        "colab": {
          "base_uri": "https://localhost:8080/",
          "height": 35
        },
        "id": "i0KU_zkOwS2o",
        "outputId": "988b476d-5530-4414-9c34-b7abc47d96a6"
      },
      "execution_count": 137,
      "outputs": [
        {
          "output_type": "execute_result",
          "data": {
            "text/plain": [
              "'ABA'"
            ],
            "application/vnd.google.colaboratory.intrinsic+json": {
              "type": "string"
            }
          },
          "metadata": {},
          "execution_count": 137
        }
      ]
    },
    {
      "cell_type": "code",
      "source": [],
      "metadata": {
        "id": "vCeLkrRUm1sx"
      },
      "execution_count": null,
      "outputs": []
    }
  ]
}