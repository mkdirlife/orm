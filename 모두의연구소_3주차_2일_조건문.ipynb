{
  "nbformat": 4,
  "nbformat_minor": 0,
  "metadata": {
    "colab": {
      "provenance": [],
      "authorship_tag": "ABX9TyNnBNXHPdEi35KWt2cGmQGH",
      "include_colab_link": true
    },
    "kernelspec": {
      "name": "python3",
      "display_name": "Python 3"
    },
    "language_info": {
      "name": "python"
    }
  },
  "cells": [
    {
      "cell_type": "markdown",
      "metadata": {
        "id": "view-in-github",
        "colab_type": "text"
      },
      "source": [
        "<a href=\"https://colab.research.google.com/github/mkdirlife/orm/blob/main/%EC%98%A4%EB%A6%84%EC%BA%A0%ED%94%84_3%EC%A3%BC%EC%B0%A8_2%EC%9D%BC_%EC%A1%B0%EA%B1%B4%EB%AC%B8.ipynb\" target=\"_parent\"><img src=\"https://colab.research.google.com/assets/colab-badge.svg\" alt=\"Open In Colab\"/></a>"
      ]
    },
    {
      "cell_type": "markdown",
      "source": [
        "# 1. 조건문"
      ],
      "metadata": {
        "id": "YfAw3ueln0Js"
      }
    },
    {
      "cell_type": "code",
      "source": [
        "# 1.1. if문의 기본 구조\n",
        "# if 다음에 조건이 참인 경우에만 코드불록이 실행된다.\n",
        "\n",
        "x = 3   # 비교할 대상\n",
        "\n",
        "if x > 1:   # 비교 식 -> 비교식이 참일 경우에 하단의 print('True')가 실행된다.\n",
        "    print('True')   # 출력 : True\n",
        "\n",
        "# 참이 아닌 경우에는 조건식이 실행되지 않는다."
      ],
      "metadata": {
        "colab": {
          "base_uri": "https://localhost:8080/"
        },
        "id": "kkviZL8ZpTJf",
        "outputId": "0e15f529-86fa-4e7d-fd66-d9a877c54c09"
      },
      "execution_count": 6,
      "outputs": [
        {
          "output_type": "stream",
          "name": "stdout",
          "text": [
            "True\n"
          ]
        }
      ]
    },
    {
      "cell_type": "code",
      "source": [
        "# 결국 x = 2 일때 if x > 1은 => True\n",
        "if True:\n",
        "    print('True')   # 출력: True"
      ],
      "metadata": {
        "colab": {
          "base_uri": "https://localhost:8080/"
        },
        "id": "3K6Opq62plO3",
        "outputId": "b97aaed2-b7d4-4ebb-ef79-1db0a7848e9a"
      },
      "execution_count": 8,
      "outputs": [
        {
          "output_type": "stream",
          "name": "stdout",
          "text": [
            "True\n"
          ]
        }
      ]
    },
    {
      "cell_type": "code",
      "source": [
        "# 결국 x = 2 일때 if x > 1은 => True\n",
        "if 1:\n",
        "    print('True')   # 출력: True"
      ],
      "metadata": {
        "colab": {
          "base_uri": "https://localhost:8080/"
        },
        "id": "J0KJQMd9qO3C",
        "outputId": "49ee8166-047f-4ee4-d958-25e875620b77"
      },
      "execution_count": 9,
      "outputs": [
        {
          "output_type": "stream",
          "name": "stdout",
          "text": [
            "True\n"
          ]
        }
      ]
    },
    {
      "cell_type": "code",
      "source": [
        "# 결국 x = 2 일때 if x > 1은 => True\n",
        "if False:\n",
        "    print('True')   # 출력: True"
      ],
      "metadata": {
        "id": "-vMA7XGrqaNa"
      },
      "execution_count": 16,
      "outputs": []
    },
    {
      "cell_type": "code",
      "source": [
        "# if문 안에 있는 코드블럭과 바깥에 있는 코드블럭\n",
        "\n",
        "if 0:  # 정수를 바꿔서도 실습해보세요\n",
        "    print('hello')\n",
        "\n",
        "print('end')"
      ],
      "metadata": {
        "colab": {
          "base_uri": "https://localhost:8080/"
        },
        "id": "EPx5G68sqciV",
        "outputId": "8b024af0-399f-4a24-d7e4-16b3a8658d3a"
      },
      "execution_count": 20,
      "outputs": [
        {
          "output_type": "stream",
          "name": "stdout",
          "text": [
            "end\n"
          ]
        }
      ]
    },
    {
      "cell_type": "code",
      "source": [
        "if True and []: # True나 False가 아니라 단락평가에 의해 [1, 2, 3]\n",
        "    print('hello')\n",
        "else:\n",
        "    print('world')"
      ],
      "metadata": {
        "colab": {
          "base_uri": "https://localhost:8080/"
        },
        "id": "RhwryLrNrQ5i",
        "outputId": "44f4b7ef-22fd-4a7b-bda3-e3aa87dfff26"
      },
      "execution_count": 24,
      "outputs": [
        {
          "output_type": "stream",
          "name": "stdout",
          "text": [
            "world\n"
          ]
        }
      ]
    },
    {
      "cell_type": "code",
      "source": [
        "if -1: # 정수를 바꿔서도 실습해보세요\n",
        "    print('hello')\n",
        "print('end')"
      ],
      "metadata": {
        "colab": {
          "base_uri": "https://localhost:8080/"
        },
        "id": "k3EuvgnhsADc",
        "outputId": "962c4ef6-eace-46c0-f518-7289dfdfc5e2"
      },
      "execution_count": 25,
      "outputs": [
        {
          "output_type": "stream",
          "name": "stdout",
          "text": [
            "hello\n",
            "end\n"
          ]
        }
      ]
    },
    {
      "cell_type": "code",
      "source": [
        "# 공백이 있는 문자열\n",
        "if ' ': # True\n",
        "    print('hello')\n",
        "print('end')\n",
        "\n",
        "# 공백이 없는 문자열\n",
        "if '':  # False\n",
        "    print('hello')\n",
        "print('end')"
      ],
      "metadata": {
        "colab": {
          "base_uri": "https://localhost:8080/"
        },
        "id": "EsIYnPMwsLmQ",
        "outputId": "d5d1f931-9009-4803-e6b5-8a66983458d0"
      },
      "execution_count": 27,
      "outputs": [
        {
          "output_type": "stream",
          "name": "stdout",
          "text": [
            "hello\n",
            "end\n",
            "end\n"
          ]
        }
      ]
    },
    {
      "cell_type": "code",
      "source": [
        "if not '':\n",
        "    print('hello')\n",
        "print('end')\n",
        "\n",
        "if None: # None은 False로 처리됩니다.\n",
        "    print('hello')\n",
        "print('end')\n",
        "\n",
        "if not None:\n",
        "    print('hello')\n",
        "print('end')"
      ],
      "metadata": {
        "colab": {
          "base_uri": "https://localhost:8080/"
        },
        "id": "mcUrsz7RsPKQ",
        "outputId": "3a0aa734-8159-495d-ecbe-113125d2bfad"
      },
      "execution_count": 28,
      "outputs": [
        {
          "output_type": "stream",
          "name": "stdout",
          "text": [
            "hello\n",
            "end\n",
            "end\n",
            "hello\n",
            "end\n"
          ]
        }
      ]
    },
    {
      "cell_type": "code",
      "source": [
        "# 단락평가\n",
        "# 성능에 영향을 끼칩니다.!\n",
        "\n",
        "def f():    # 무조건 True 리턴\n",
        "    pass\n",
        "\n",
        "def ff():   # 에러 발생한다.\n",
        "    x = 100 / 0 # error\n",
        "    return 'hello'\n",
        "\n",
        "if f() or ff(): # f()는 참이라서 ff()는 실행하지 않고 hello 출력 한다.\n",
        "    print('hello')"
      ],
      "metadata": {
        "id": "GWlbfDBOsXQo"
      },
      "execution_count": 3,
      "outputs": []
    },
    {
      "cell_type": "code",
      "source": [
        "# 삼항 연산자\n",
        "\n",
        "x = 51\n",
        "y = 10\n",
        "\n",
        "result = 'x가 더 큽니다.' if x > y else 'y와 같거나 y가 더 큽니다'\n",
        "print(result)"
      ],
      "metadata": {
        "colab": {
          "base_uri": "https://localhost:8080/"
        },
        "id": "tK0qtsQ7yAXj",
        "outputId": "e523c388-e9c4-4f8c-a760-74e9143ca34e"
      },
      "execution_count": 32,
      "outputs": [
        {
          "output_type": "stream",
          "name": "stdout",
          "text": [
            "x가 더 큽니다.\n"
          ]
        }
      ]
    },
    {
      "cell_type": "markdown",
      "source": [
        "# 람다함수\n",
        "\n",
        "*  익명함수 - 한 줄로 표현 / 임시 함수 만들때 사용"
      ],
      "metadata": {
        "id": "hs5hnpRs0RQF"
      }
    },
    {
      "cell_type": "code",
      "source": [
        "# 예) 두 숫자를 더하는 간단한 람다함수\n",
        "\n",
        "def sum(x, y):\n",
        "    z = x + y\n",
        "    return z\n",
        "\n",
        "add = lambda x, y : x + y\n",
        "print(add(5, 3))\n",
        "\n",
        "x = 4\n",
        "my_function = lambda x: 'Even' if x % 2 == 0 else 'Odd'\n",
        "my_function(x)"
      ],
      "metadata": {
        "colab": {
          "base_uri": "https://localhost:8080/",
          "height": 54
        },
        "id": "S0otBsww0Wr_",
        "outputId": "33f7dd92-ab67-41dd-dd0d-757e073a371a"
      },
      "execution_count": 14,
      "outputs": [
        {
          "output_type": "stream",
          "name": "stdout",
          "text": [
            "8\n"
          ]
        },
        {
          "output_type": "execute_result",
          "data": {
            "text/plain": [
              "'Even'"
            ],
            "application/vnd.google.colaboratory.intrinsic+json": {
              "type": "string"
            }
          },
          "metadata": {},
          "execution_count": 14
        }
      ]
    },
    {
      "cell_type": "code",
      "source": [
        "x = 4\n",
        "my_function = lambda x: 'Even' if x % 2 == 0 else 'Odd'\n",
        "my_function(x)"
      ],
      "metadata": {
        "colab": {
          "base_uri": "https://localhost:8080/",
          "height": 35
        },
        "id": "4AKX41tRzSe1",
        "outputId": "e39b00dd-c0d1-48e5-ba2b-cd584ee785d8"
      },
      "execution_count": 13,
      "outputs": [
        {
          "output_type": "execute_result",
          "data": {
            "text/plain": [
              "'Even'"
            ],
            "application/vnd.google.colaboratory.intrinsic+json": {
              "type": "string"
            }
          },
          "metadata": {},
          "execution_count": 13
        }
      ]
    },
    {
      "cell_type": "markdown",
      "source": [
        "# 2. if -else - elif 중첩 조건문"
      ],
      "metadata": {
        "id": "hdx_jaoc0Eft"
      }
    },
    {
      "cell_type": "code",
      "source": [
        "# if, else문의 기본구조\n",
        "if 조건문: # 조건문을 확인해서 만약 '참'이면 if 문 다음에 문장들은 수행합니다.\n",
        "    pass\n",
        "\t  # 수행할 문장 1 - 조건문이 참일 경우에는 수행할 문장 1이 실행\n",
        "else: # if문의 조건이 거짓이면 else 문이 실행됩니다. (else 에는 조건을 따로 적지 않아도 된다.)\n",
        "    pass\n",
        "\t  # 수행할 문장 2 - if에 조건문이 거짓일 경우에는 수행할 문장 2가 실행"
      ],
      "metadata": {
        "colab": {
          "base_uri": "https://localhost:8080/",
          "height": 258
        },
        "id": "yfsk90tu1p74",
        "outputId": "cf0c9b28-fea1-46b5-84a9-439a4992ec25"
      },
      "execution_count": 37,
      "outputs": [
        {
          "output_type": "error",
          "ename": "NameError",
          "evalue": "name '조건문' is not defined",
          "traceback": [
            "\u001b[0;31m---------------------------------------------------------------------------\u001b[0m",
            "\u001b[0;31mNameError\u001b[0m                                 Traceback (most recent call last)",
            "\u001b[0;32m<ipython-input-37-81a3864cc684>\u001b[0m in \u001b[0;36m<cell line: 2>\u001b[0;34m()\u001b[0m\n\u001b[1;32m      1\u001b[0m \u001b[0;31m# if, else문의 기본구조\u001b[0m\u001b[0;34m\u001b[0m\u001b[0;34m\u001b[0m\u001b[0m\n\u001b[0;32m----> 2\u001b[0;31m \u001b[0;32mif\u001b[0m \u001b[0m조건문\u001b[0m\u001b[0;34m:\u001b[0m \u001b[0;31m# 조건문을 확인해서 만약 '참'이면 if 문 다음에 문장들은 수행합니다.\u001b[0m\u001b[0;34m\u001b[0m\u001b[0;34m\u001b[0m\u001b[0m\n\u001b[0m\u001b[1;32m      3\u001b[0m     \u001b[0;32mpass\u001b[0m\u001b[0;34m\u001b[0m\u001b[0;34m\u001b[0m\u001b[0m\n\u001b[1;32m      4\u001b[0m           \u001b[0;31m# 수행할 문장 1\u001b[0m\u001b[0;34m\u001b[0m\u001b[0;34m\u001b[0m\u001b[0m\n\u001b[1;32m      5\u001b[0m \u001b[0;32melse\u001b[0m\u001b[0;34m:\u001b[0m \u001b[0;31m# if문의 조건이 거짓이면 else 문이 실행됩니다.\u001b[0m\u001b[0;34m\u001b[0m\u001b[0;34m\u001b[0m\u001b[0m\n",
            "\u001b[0;31mNameError\u001b[0m: name '조건문' is not defined"
          ]
        }
      ]
    },
    {
      "cell_type": "code",
      "source": [
        "# if문이 1개만 있을때 거짓이면 아무것도 처리 안함.\n",
        "x = 3\n",
        "y = 1\n",
        "\n",
        "if x > y:\n",
        "    print('첫번째 값이 더 큽니다.') # 참 일때만 수행\n",
        "\n",
        "\n",
        "x = 3\n",
        "y = 1\n",
        "\n",
        "if x > y:\n",
        "    print('첫번째 값이 더 큽니다.')\n",
        "else:\n",
        "    print('두번째 값이 더 크거나 같습니다.')    # 거짓일때 수행"
      ],
      "metadata": {
        "colab": {
          "base_uri": "https://localhost:8080/"
        },
        "id": "-3EQlo9u15z8",
        "outputId": "0ee412c9-b81e-4f7d-b04e-bbfa4c010daf"
      },
      "execution_count": 38,
      "outputs": [
        {
          "output_type": "stream",
          "name": "stdout",
          "text": [
            "첫번째 값이 더 큽니다.\n",
            "첫번째 값이 더 큽니다.\n"
          ]
        }
      ]
    },
    {
      "cell_type": "code",
      "source": [
        "# if, elif, else문의 기본구조 (조건이 3개 이상일 경우)\n",
        "# 조건이 늘어나면 elif만 추가하면 된다. if else 는 그대로!\n",
        "# elif에는 조건식이 필요하다. 단 다른 조건과 겹치지 않게! (조건을 나누는게 중요함)\n",
        "\n",
        "if 조건문:  # 조건문을 확인해서 만약 '참'이면 if 문 다음에 문장들을 수행합니다.\n",
        "    # 수행할 문장1\n",
        "    pass\n",
        "elif 추가조건:  # if문의 조건이 '참'이 아니라면 elif 문의 조건문이 참이라면 수행한다.\n",
        "    # 수행할 문장 2\n",
        "    pass\n",
        "else:           #  위 모든 if문이, elif문의 조건이 '참'이 아니라면 수행합니다.\n",
        "    # 수행할 문장 3\n",
        "    pass"
      ],
      "metadata": {
        "id": "mVJ4o2Hz3IDM"
      },
      "execution_count": null,
      "outputs": []
    },
    {
      "cell_type": "code",
      "source": [
        "# 성적입력 프로그램 - 기본\n",
        "score = int(input(\"성적을 입력하세요 : \"))\n",
        "\n",
        "if score >= 90:\n",
        "    print('A')\n",
        "elif 90 > score >= 80:\n",
        "    print('B')\n",
        "elif 80 > score >= 70:\n",
        "    print('C')\n",
        "elif 70 > score >= 60:\n",
        "    print('D')\n",
        "else:\n",
        "    print('F')\n",
        "\n",
        "# 잘못된 예 if - 90 이상 elif - 90 이하\n",
        "\n",
        "if score >= 90:\n",
        "    print('A')\n",
        "elif 90 > score:\n",
        "    print('B')\n",
        "elif 80 > score:\n",
        "    print('C')\n",
        "elif 70 > score:\n",
        "    print('D')\n",
        "else:\n",
        "    print('F')"
      ],
      "metadata": {
        "colab": {
          "base_uri": "https://localhost:8080/"
        },
        "id": "URtZmnFC3-Bf",
        "outputId": "c5378857-5642-426c-964d-e3a6b5cb1a29"
      },
      "execution_count": 47,
      "outputs": [
        {
          "output_type": "stream",
          "name": "stdout",
          "text": [
            "성적을 입력하세요 : 84\n",
            "B\n",
            "B\n"
          ]
        }
      ]
    },
    {
      "cell_type": "code",
      "source": [
        "# Step 1: 성적입력 프로그램 - 기본\n",
        "score = int(input(\"성적을 입력하세요 : \"))"
      ],
      "metadata": {
        "colab": {
          "base_uri": "https://localhost:8080/",
          "height": 221
        },
        "id": "ZNwBuUzb4YVR",
        "outputId": "d799c013-7e21-44ba-a696-a8d09f17dc72"
      },
      "execution_count": 43,
      "outputs": [
        {
          "name": "stdout",
          "output_type": "stream",
          "text": [
            "성적을 입력하세요 : df\n"
          ]
        },
        {
          "output_type": "error",
          "ename": "ValueError",
          "evalue": "invalid literal for int() with base 10: 'df'",
          "traceback": [
            "\u001b[0;31m---------------------------------------------------------------------------\u001b[0m",
            "\u001b[0;31mValueError\u001b[0m                                Traceback (most recent call last)",
            "\u001b[0;32m<ipython-input-43-08dcd5f6b580>\u001b[0m in \u001b[0;36m<cell line: 2>\u001b[0;34m()\u001b[0m\n\u001b[1;32m      1\u001b[0m \u001b[0;31m# Step 1: 성적입력 프로그램 - 기본\u001b[0m\u001b[0;34m\u001b[0m\u001b[0;34m\u001b[0m\u001b[0m\n\u001b[0;32m----> 2\u001b[0;31m \u001b[0mscore\u001b[0m \u001b[0;34m=\u001b[0m \u001b[0mint\u001b[0m\u001b[0;34m(\u001b[0m\u001b[0minput\u001b[0m\u001b[0;34m(\u001b[0m\u001b[0;34m\"성적을 입력하세요 : \"\u001b[0m\u001b[0;34m)\u001b[0m\u001b[0;34m)\u001b[0m\u001b[0;34m\u001b[0m\u001b[0;34m\u001b[0m\u001b[0m\n\u001b[0m",
            "\u001b[0;31mValueError\u001b[0m: invalid literal for int() with base 10: 'df'"
          ]
        }
      ]
    },
    {
      "cell_type": "code",
      "source": [
        "# Step 2 : 기본 성적 처리 - A학점\n",
        "if score >= 90: # 90점 이상일때\n",
        "    print('A')"
      ],
      "metadata": {
        "colab": {
          "base_uri": "https://localhost:8080/"
        },
        "id": "bL6JUc6A5E3h",
        "outputId": "16742e12-53e3-4fab-9330-0a60261be5a3"
      },
      "execution_count": 44,
      "outputs": [
        {
          "output_type": "stream",
          "name": "stdout",
          "text": [
            "A\n"
          ]
        }
      ]
    },
    {
      "cell_type": "code",
      "source": [
        "# Step 3 : 90이 아닐 때\n",
        "if score >= 90: # 90점 이상일때\n",
        "    print('A')\n",
        "else:\n",
        "    print('89점 이하입니다.')"
      ],
      "metadata": {
        "colab": {
          "base_uri": "https://localhost:8080/"
        },
        "id": "wpXfynNr5PVk",
        "outputId": "6fc0ab5b-d682-4ac0-c98d-451c4928a488"
      },
      "execution_count": 45,
      "outputs": [
        {
          "output_type": "stream",
          "name": "stdout",
          "text": [
            "A\n"
          ]
        }
      ]
    },
    {
      "cell_type": "code",
      "source": [
        "# Step 4 : 나머지 전체 정리\n",
        "if score >= 90:\n",
        "    print('A')\n",
        "elif 90 > score >= 80:\n",
        "    print('B')\n",
        "elif 80 > score >= 70:\n",
        "    print('C')\n",
        "elif 70 > score >= 60:\n",
        "    print('D')\n",
        "else:\n",
        "    print('F')"
      ],
      "metadata": {
        "colab": {
          "base_uri": "https://localhost:8080/"
        },
        "id": "Myaf0HWu5YEe",
        "outputId": "6a60b168-f352-4e10-821e-c0e89efbc290"
      },
      "execution_count": 48,
      "outputs": [
        {
          "output_type": "stream",
          "name": "stdout",
          "text": [
            "B\n"
          ]
        }
      ]
    },
    {
      "cell_type": "code",
      "source": [
        "# 성적에 따른 용돈\n",
        "score = int(input(\"점수를 입력하세요 (0 ~ 100) :\"))\n",
        "money = 0\n",
        "\n",
        "# 총 1개의 if문!\n",
        "if score >= 90:\n",
        "    money += 1000000\n",
        "elif score >= 80:\n",
        "    money += 100000\n",
        "elif score >= 70:\n",
        "    money += 10000\n",
        "elif score >= 60:\n",
        "    money += 1000\n",
        "else:\n",
        "    money = 0\n",
        "print(money) # 출력: 100000"
      ],
      "metadata": {
        "colab": {
          "base_uri": "https://localhost:8080/"
        },
        "id": "pr13-kgO6OM5",
        "outputId": "f1121cdc-aa69-438f-d9bb-3b26d723e476"
      },
      "execution_count": 51,
      "outputs": [
        {
          "output_type": "stream",
          "name": "stdout",
          "text": [
            "점수를 입력하세요 (0 ~ 100) :81\n",
            "100000\n"
          ]
        }
      ]
    },
    {
      "cell_type": "code",
      "source": [
        "score = 81\n",
        "money = 0\n",
        "\n",
        "# 총 4개의 if문\n",
        "if score >= 90:\n",
        "    money += 1000000\n",
        "if score >= 80:\n",
        "    money += 100000\n",
        "if score >= 70:\n",
        "    money += 10000\n",
        "if score >= 60:\n",
        "    money += 1000\n",
        "else:\n",
        "    money = 0\n",
        "print(money) # 출력: 111000"
      ],
      "metadata": {
        "colab": {
          "base_uri": "https://localhost:8080/"
        },
        "id": "K0X_G9_c6aXH",
        "outputId": "a116f3da-00ae-48ca-d4d8-a8a830b0d7dd"
      },
      "execution_count": 52,
      "outputs": [
        {
          "output_type": "stream",
          "name": "stdout",
          "text": [
            "1000\n"
          ]
        }
      ]
    },
    {
      "cell_type": "markdown",
      "source": [],
      "metadata": {
        "id": "8H7FO35n_0Dz"
      }
    },
    {
      "cell_type": "code",
      "source": [
        "# if를 중첩해서 사용하기\n",
        "movie = {\n",
        "    '영화': '레미제라블',\n",
        "    '장르': '드라마',\n",
        "    '서비스': '디즈니',\n",
        "    '비용': 15000,\n",
        "    '평점': 4.9\n",
        "}\n",
        "\n",
        "# 딕셔너리에 대한 갑사 비교!\n",
        "if movie['장르'] == '드라마':\n",
        "    if movie['서비스'] == '디즈니' or movie['서비스'] == '넷플릭스':\n",
        "        if movie['평점'] >= 4.5:\n",
        "            if movie['비용'] <= 20000:\n",
        "                print(movie['영화'])\n",
        "                print('영화시청')"
      ],
      "metadata": {
        "colab": {
          "base_uri": "https://localhost:8080/"
        },
        "id": "AkXD_H7gBDfe",
        "outputId": "f78911df-2dcd-4860-8582-1e51dfb16c6e"
      },
      "execution_count": 55,
      "outputs": [
        {
          "output_type": "stream",
          "name": "stdout",
          "text": [
            "레미제라블\n",
            "영화시청\n"
          ]
        }
      ]
    },
    {
      "cell_type": "code",
      "source": [
        "if movie['장르'] == 'SF' \\\n",
        "   and (movie['서비스'] == '디즈니' or movie['서비스'] == '넷플릭스') \\\n",
        "   and movie['평점'] >= 4.5 \\\n",
        "   and movie['비용'] <= 20000:\n",
        "    print('영화시청') # 출력: 영화시청"
      ],
      "metadata": {
        "id": "59FRMHsLBoFa"
      },
      "execution_count": 58,
      "outputs": []
    },
    {
      "cell_type": "code",
      "source": [],
      "metadata": {
        "id": "iBYZY3VDC9pQ"
      },
      "execution_count": null,
      "outputs": []
    }
  ]
}