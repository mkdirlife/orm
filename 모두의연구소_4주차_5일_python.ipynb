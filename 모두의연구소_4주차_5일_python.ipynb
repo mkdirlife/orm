{
  "nbformat": 4,
  "nbformat_minor": 0,
  "metadata": {
    "colab": {
      "provenance": [],
      "toc_visible": true,
      "authorship_tag": "ABX9TyPEPf2LzYsUSCIQLXe6DF7i",
      "include_colab_link": true
    },
    "kernelspec": {
      "name": "python3",
      "display_name": "Python 3"
    },
    "language_info": {
      "name": "python"
    }
  },
  "cells": [
    {
      "cell_type": "markdown",
      "metadata": {
        "id": "view-in-github",
        "colab_type": "text"
      },
      "source": [
        "<a href=\"https://colab.research.google.com/github/mkdirlife/orm/blob/main/%EB%AA%A8%EB%91%90%EC%9D%98%EC%97%B0%EA%B5%AC%EC%86%8C_4%EC%A3%BC%EC%B0%A8_5%EC%9D%BC_python.ipynb\" target=\"_parent\"><img src=\"https://colab.research.google.com/assets/colab-badge.svg\" alt=\"Open In Colab\"/></a>"
      ]
    },
    {
      "cell_type": "code",
      "execution_count": null,
      "metadata": {
        "colab": {
          "base_uri": "https://localhost:8080/",
          "height": 35
        },
        "id": "Eyag3a3QBSxB",
        "outputId": "92499f57-5047-4f4e-cdee-5047173cc99c"
      },
      "outputs": [
        {
          "output_type": "execute_result",
          "data": {
            "text/plain": [
              "'kim123@weniv.co.kr'"
            ],
            "application/vnd.google.colaboratory.intrinsic+json": {
              "type": "string"
            }
          },
          "metadata": {},
          "execution_count": 3
        }
      ],
      "source": [
        "# 풀이1\n",
        "def solution(url):\n",
        "    return url.split('@')[0] + '@weniv.co.kr'\n",
        "\n",
        "solution('kim123@gmail.com')"
      ]
    },
    {
      "cell_type": "code",
      "source": [
        "# 변경된 문제의 답\n",
        "# 문제: 주어진 문자열에서 모든 이메일 주소를 user@weniv.co.kr으로 변경하시오.\n",
        "\n",
        "# 예시 입력: \"저의 이메일 주소는 kim123@gmail.com입니다. 친구의 이메일 주소는 lee456@gmail.com입니다.\"\n",
        "# 예시 출력: \"저의 이메일 주소는 kim123@weniv.co.kr입니다. 친구의 이메일 주소는 lee456@weniv.co.kr입니다.\"\n",
        "\n",
        "import re\n",
        "\n",
        "def changedomain(url):\n",
        "    return url.split('@')[0] + '@weniv.co.kr'\n",
        "\n",
        "findpattern = re.findall(r\"[A-Za-z0-9._%+-]+@[A-Za-z0-9.-]+\\.[A-Z|a-z]{2,}\" ,\n",
        "                            \"저의 이메일 주소는 kim123@gmail.com입니다. \"\n",
        "                            \"친구의 이메일 주소는 lee456@gmail.com입니다.\")\n",
        "\n",
        "url = \"저의 이메일 주소는 kim123@gmail.com입니다. 친구의 이메일 주소는 lee456@gmail.com입니다.\"\n",
        "\n",
        "for url in findpattern:\n",
        "    print(changedomain(url))"
      ],
      "metadata": {
        "colab": {
          "base_uri": "https://localhost:8080/"
        },
        "id": "WN6JOWHqFLK9",
        "outputId": "9c54a13d-83e9-4435-b5df-21e92a0eb640"
      },
      "execution_count": null,
      "outputs": [
        {
          "output_type": "stream",
          "name": "stdout",
          "text": [
            "kim123@weniv.co.kr\n",
            "lee456@weniv.co.kr\n"
          ]
        }
      ]
    },
    {
      "cell_type": "code",
      "source": [
        "\n",
        "# 변경된 문제의 해답\n",
        "my_string = \"저의 이메일 주소는 kim123@gmail.com입니다. 친구의 이메일 주소는 lee456@gmail.com입니다.\"\n",
        "re.sub(r\"@[A-Za-z0-9.-]+\\.[A-Z|a-z]{2,}\", \"@weniv.co.kr\", my_string)"
      ],
      "metadata": {
        "colab": {
          "base_uri": "https://localhost:8080/",
          "height": 35
        },
        "id": "vPu004YaF2Ms",
        "outputId": "97620e50-1c08-4db0-c6aa-5a4b8579e644"
      },
      "execution_count": null,
      "outputs": [
        {
          "output_type": "execute_result",
          "data": {
            "text/plain": [
              "'저의 이메일 주소는 kim123@weniv.co.kr입니다. 친구의 이메일 주소는 lee456@weniv.co.kr입니다.'"
            ],
            "application/vnd.google.colaboratory.intrinsic+json": {
              "type": "string"
            }
          },
          "metadata": {},
          "execution_count": 12
        }
      ]
    },
    {
      "cell_type": "code",
      "source": [
        "import re   # import 와 코드는 보통 2칸\n",
        "\n",
        "\n",
        "def hello():\n",
        "    print('world')\n",
        "\n",
        "def solution(data):\n",
        "    return\n",
        "\n",
        "solution(\"\")"
      ],
      "metadata": {
        "id": "qdkZEGmoG7X-"
      },
      "execution_count": null,
      "outputs": []
    },
    {
      "cell_type": "code",
      "source": [
        "# 링크 : https://school.programmers.co.kr/learn/courses/30/lessons/120824\n",
        "\n",
        "# 코딩인터뷰 완전분석 에서 말하는 방법\n",
        "# 듣기\n",
        "# 예제\n",
        "# 무식하게 풀기\n",
        "# 최적화\n",
        "# 검토하기\n",
        "# 구현하기\n",
        "# 테스트\n",
        "def solution(data):\n",
        "    홀수 = [i % 2 != 0 for i in data]\n",
        "    짝수 = [i % 2 == 0 for i in data]\n",
        "\n",
        "    # filter(lambda x: x % 2 != 0, data)\n",
        "    return [sum(짝수), sum(홀수)]\n",
        "\n",
        "solution([1, 2, 3, 4, 5])"
      ],
      "metadata": {
        "colab": {
          "base_uri": "https://localhost:8080/"
        },
        "id": "sSp4VaogHpJb",
        "outputId": "b4ff4577-07be-4fff-8643-9dc83f3790a6"
      },
      "execution_count": null,
      "outputs": [
        {
          "output_type": "execute_result",
          "data": {
            "text/plain": [
              "[2, 3]"
            ]
          },
          "metadata": {},
          "execution_count": 24
        }
      ]
    },
    {
      "cell_type": "code",
      "source": [
        "# 링크 : https://school.programmers.co.kr/learn/courses/30/lessons/120824\n",
        "\n",
        "# 1번\n",
        "data = [1, 2, 3, 4, 5]\n",
        "\n",
        "def solution(data):\n",
        "    홀수 = [i % 2 != 0 for i in data]\n",
        "    짝수 = [i % 2 == 0 for i in data]\n",
        "\n",
        "    return [sum(짝수), sum(홀수)]\n",
        "\n",
        "solution(data)\n",
        "\n"
      ],
      "metadata": {
        "colab": {
          "base_uri": "https://localhost:8080/"
        },
        "id": "d3aOrQqHQ24X",
        "outputId": "46965ff7-3555-4077-f19b-c5d2675beb59"
      },
      "execution_count": 1,
      "outputs": [
        {
          "output_type": "execute_result",
          "data": {
            "text/plain": [
              "[2, 3]"
            ]
          },
          "metadata": {},
          "execution_count": 1
        }
      ]
    },
    {
      "cell_type": "code",
      "source": [
        "\n",
        "# 2번\n",
        "def solution(data):\n",
        "    count = 0\n",
        "    for i in data:\n",
        "        if i % 2 == 0:\n",
        "            count += 1\n",
        "    return [count, len(data)-count]\n",
        "\n",
        "solution([1, 2, 3, 4, 5])"
      ],
      "metadata": {
        "colab": {
          "base_uri": "https://localhost:8080/"
        },
        "id": "o62CjozpIfJU",
        "outputId": "e4c87a41-fca0-444d-e1b4-c3788e279f7b"
      },
      "execution_count": null,
      "outputs": [
        {
          "output_type": "execute_result",
          "data": {
            "text/plain": [
              "[2, 3]"
            ]
          },
          "metadata": {},
          "execution_count": 23
        }
      ]
    },
    {
      "cell_type": "code",
      "source": [
        "# 3번\n",
        "data = [1, 2, 3, 4, 5]\n",
        "\n",
        "def solution(num_list):\n",
        "    answer = [0, 0]\n",
        "    for i in num_list:\n",
        "        answer[i % 2] += 1\n",
        "    return answer\n",
        "\n",
        "solution(data)"
      ],
      "metadata": {
        "id": "n-yoVZ-6QQPO",
        "colab": {
          "base_uri": "https://localhost:8080/"
        },
        "outputId": "064547d9-0d95-4c67-bf4b-cc05b034f880"
      },
      "execution_count": 3,
      "outputs": [
        {
          "output_type": "execute_result",
          "data": {
            "text/plain": [
              "[2, 3]"
            ]
          },
          "metadata": {},
          "execution_count": 3
        }
      ]
    },
    {
      "cell_type": "code",
      "source": [
        "def solution(data):\n",
        "    return sum(map(lambda x: x % 2 != 0, data))\n",
        "\n",
        "solution([1, 2, 3, 4, 5])"
      ],
      "metadata": {
        "colab": {
          "base_uri": "https://localhost:8080/"
        },
        "id": "ueOt6dimQyt_",
        "outputId": "cd46dd1a-16e6-49c0-d4d1-f7f797527798"
      },
      "execution_count": 2,
      "outputs": [
        {
          "output_type": "execute_result",
          "data": {
            "text/plain": [
              "3"
            ]
          },
          "metadata": {},
          "execution_count": 2
        }
      ]
    },
    {
      "cell_type": "code",
      "source": [
        "# 좋은 풀이는 아닙니다.\n",
        "# 4번\n",
        "def solution(data):\n",
        "    짝수 = [i % 2 == 0 for i in data]\n",
        "\n",
        "    return [sum(짝수), len(data) - sum(짝수)]   # sum이 순회합니다.\n",
        "solution([1, 2, 3, 4, 5])"
      ],
      "metadata": {
        "id": "-Q7ctaPSRFNR"
      },
      "execution_count": null,
      "outputs": []
    },
    {
      "cell_type": "code",
      "source": [
        "def solution(data):\n",
        "    짝수 = [i % 2 == 0 for i in data]\n",
        "    개수 = sum(짝수)\n",
        "    return [sum(짝수), len(data) - 개수]   # sum이 순회합니다.\n",
        "solution([1, 2, 3, 4, 5])"
      ],
      "metadata": {
        "colab": {
          "base_uri": "https://localhost:8080/"
        },
        "id": "kNKd5R5sRjWi",
        "outputId": "585d2562-b577-40f1-aa25-5d1f0c331e81"
      },
      "execution_count": null,
      "outputs": [
        {
          "output_type": "execute_result",
          "data": {
            "text/plain": [
              "[2, 3]"
            ]
          },
          "metadata": {},
          "execution_count": 30
        }
      ]
    },
    {
      "cell_type": "markdown",
      "source": [
        "## 머쓱이보다 키 큰 사람\n",
        "링크 : https://school.programmers.co.kr/learn/courses/30/lessons/120585"
      ],
      "metadata": {
        "id": "qUghlVFaWH7O"
      }
    },
    {
      "cell_type": "code",
      "source": [
        "\n",
        "#           입 력                  출력\n",
        "# [149, 180, 192, 170]  167         3\n",
        "# [180, 120, 140]       190\t        0\n",
        "\n",
        "data = [149, 180, 192, 170]\n",
        "n = 167\n",
        "\n",
        "def solution(array, height):\n",
        "    answer = 0\n",
        "    for i in array:\n",
        "        if i > height:\n",
        "            answer += 1\n",
        "    return answer\n",
        "\n",
        "solution(data, n)\n"
      ],
      "metadata": {
        "colab": {
          "base_uri": "https://localhost:8080/"
        },
        "id": "V2S-GGTvRrNq",
        "outputId": "033497bb-c969-465e-9a3e-364ab1235027"
      },
      "execution_count": 5,
      "outputs": [
        {
          "output_type": "execute_result",
          "data": {
            "text/plain": [
              "3"
            ]
          },
          "metadata": {},
          "execution_count": 5
        }
      ]
    },
    {
      "cell_type": "code",
      "source": [
        "# filter 는 len이 없습니다.\n",
        "# len 이 없는 이유? fliter는 순회 돌기 전까지 실행이 되지 않은 함수\n",
        "# for와 같이 순회를 돌아야 그때서야 각 원소 별로 접근해서\n",
        "def solution(array, height):\n",
        "    return len(list(filter(lambda x: x > height, array)))\n",
        "    # return list[filter(lambda x: x > height, array)]\n",
        "\n",
        "solution([149, 180, 192, 170], 167)"
      ],
      "metadata": {
        "colab": {
          "base_uri": "https://localhost:8080/"
        },
        "id": "QsGq3osHTL1o",
        "outputId": "735ad693-588e-4787-be97-7dafc36d4f58"
      },
      "execution_count": null,
      "outputs": [
        {
          "output_type": "execute_result",
          "data": {
            "text/plain": [
              "3"
            ]
          },
          "metadata": {},
          "execution_count": 38
        }
      ]
    },
    {
      "cell_type": "code",
      "source": [
        "def solution(array, height):\n",
        "    return sum(map(lambda x: x > height, array))\n",
        "    # return list[filter(lambda x: x > height, array)]\n",
        "\n",
        "solution([149, 180, 192, 170], 167)"
      ],
      "metadata": {
        "colab": {
          "base_uri": "https://localhost:8080/"
        },
        "id": "ONVOoUCvTwL9",
        "outputId": "fd20b2eb-9fd2-4ade-a9a8-5a8092c76570"
      },
      "execution_count": 6,
      "outputs": [
        {
          "output_type": "execute_result",
          "data": {
            "text/plain": [
              "3"
            ]
          },
          "metadata": {},
          "execution_count": 6
        }
      ]
    },
    {
      "cell_type": "code",
      "source": [
        "def solution(array, height):\n",
        "    return sum(i > height for i in array)\n",
        "    # return list[filter(lambda x: x > height, array)]\n",
        "\n",
        "solution([149, 180, 192, 170], 167)"
      ],
      "metadata": {
        "colab": {
          "base_uri": "https://localhost:8080/"
        },
        "id": "rTmnZVpUU4tX",
        "outputId": "c78835f4-2286-4f34-a455-21e695e9045a"
      },
      "execution_count": null,
      "outputs": [
        {
          "output_type": "execute_result",
          "data": {
            "text/plain": [
              "3"
            ]
          },
          "metadata": {},
          "execution_count": 43
        }
      ]
    },
    {
      "cell_type": "markdown",
      "source": [
        "## 숨어있는 숫자의 덧셈\n",
        "링크: https://school.programmers.co.kr/learn/courses/30/lessons/120851"
      ],
      "metadata": {
        "id": "BN4f8L7aVixf"
      }
    },
    {
      "cell_type": "code",
      "source": [
        "def solution(my_string):\n",
        "    answer = 0\n",
        "    for i in my_string:\n",
        "        if i.isdigit():\n",
        "            answer += int(i)\n",
        "    return answer\n",
        "\n",
        "solution(\"aAb1B2cC34oOp\")"
      ],
      "metadata": {
        "colab": {
          "base_uri": "https://localhost:8080/"
        },
        "id": "LTdGUBn2WO9M",
        "outputId": "0579915b-487c-4af6-f8ff-6a12e56d4519"
      },
      "execution_count": null,
      "outputs": [
        {
          "output_type": "execute_result",
          "data": {
            "text/plain": [
              "10"
            ]
          },
          "metadata": {},
          "execution_count": 46
        }
      ]
    },
    {
      "cell_type": "code",
      "source": [
        "# r은 raw 날것의 라는 뜻이 있어요.\n",
        "# 실무에서 자주쓰는 용어입니다. raw != low(이 용어는 자주 사용하지 않습니다.)\n",
        "# raw data를 전달해줘 => 가공하지 않은 순수 데이터를 달라는 얘기입니다.\n",
        "\n",
        "r'hello\\nworld' # \\n은 이스케이프 문자입니다.\n",
        "print('hello\\nworld')\n",
        "print(r'hello\\nworld') # 왜? 정규표현식에서 이스케이프 문자를 많이 사용하니까요.\n",
        "\n",
        "\n",
        "import re\n",
        "\n",
        "# re.findall(r'[0-9]', \"aAb1B2cC34oOp\")\n",
        "\n",
        "def solution(my_string):\n",
        "    return sum(map(int, re.findall(r'[0-9]', my_string)))\n",
        "    #return sum(map(int, re.sub(r'[a-zA-Z]', '', my_string)))\n",
        "solution(\"aAb1B2cC34oOp\")"
      ],
      "metadata": {
        "colab": {
          "base_uri": "https://localhost:8080/"
        },
        "id": "o5vXAHRcWjbx",
        "outputId": "d2baf799-4086-42a3-dcef-89af7ee8f2b9"
      },
      "execution_count": 7,
      "outputs": [
        {
          "output_type": "stream",
          "name": "stdout",
          "text": [
            "hello\n",
            "world\n",
            "hello\\nworld\n"
          ]
        },
        {
          "output_type": "execute_result",
          "data": {
            "text/plain": [
              "10"
            ]
          },
          "metadata": {},
          "execution_count": 7
        }
      ]
    },
    {
      "cell_type": "code",
      "source": [
        "def solution(my_string):\n",
        "    # return list(filter(lambda x: x.isdigit(), list(my_string)))\n",
        "    # return list(filter(str.isdigit, list(my_string)))\n",
        "    # return list(filter(lambda x: x.isdigit(), my_string))\n",
        "    return list(filter(str.isdigit, my_string)) # isdigit은 str 클래스에서 제공하는 함수\n",
        "solution(\"aAb1B2cC34oOp\")"
      ],
      "metadata": {
        "colab": {
          "base_uri": "https://localhost:8080/"
        },
        "id": "wpnS2LmlW1kY",
        "outputId": "fd1fe832-b89c-4f1d-932e-23c784c13c30"
      },
      "execution_count": null,
      "outputs": [
        {
          "output_type": "execute_result",
          "data": {
            "text/plain": [
              "['1', '2', '3', '4']"
            ]
          },
          "metadata": {},
          "execution_count": 58
        }
      ]
    },
    {
      "cell_type": "code",
      "source": [
        "# isdigit에 () 가 있고 없고의 차이는?\n",
        "def 함수(x):\n",
        "    return x.isdigit()\n",
        "\n",
        "def solution(my_string):\n",
        "    return list(filter(함수, my_string))\n",
        "solution(\"aAb1B2cC34oOp\")"
      ],
      "metadata": {
        "colab": {
          "base_uri": "https://localhost:8080/"
        },
        "id": "AaO1leIYW-Dw",
        "outputId": "ca82d75d-ff55-4523-d5ea-b65a461ab310"
      },
      "execution_count": null,
      "outputs": [
        {
          "output_type": "execute_result",
          "data": {
            "text/plain": [
              "['1', '2', '3', '4']"
            ]
          },
          "metadata": {},
          "execution_count": 59
        }
      ]
    },
    {
      "cell_type": "code",
      "source": [
        "def solution(my_string):\n",
        "    return sum(map(int, filter(str.isdigit, my_string))) # isdigit은 str 클래스에서 제공하는 함수\n",
        "solution(\"aAb1B2cC34oOp\")"
      ],
      "metadata": {
        "colab": {
          "base_uri": "https://localhost:8080/"
        },
        "id": "rxBAXsAYYIeM",
        "outputId": "0a4235fa-8a2a-4d98-afd2-fec8ecaafa66"
      },
      "execution_count": null,
      "outputs": [
        {
          "output_type": "execute_result",
          "data": {
            "text/plain": [
              "10"
            ]
          },
          "metadata": {},
          "execution_count": 62
        }
      ]
    },
    {
      "cell_type": "code",
      "source": [
        "def solution(my_string):\n",
        "    return sum(map(lambda x: int(x) if x.isdigit() else False, my_string)) # isdigit은 str 클래스에서 제공하는 함수\n",
        "solution(\"aAb1B2cC34oOp\")"
      ],
      "metadata": {
        "colab": {
          "base_uri": "https://localhost:8080/"
        },
        "id": "yc07IaaUYfM6",
        "outputId": "68a97b1b-a5dc-405c-cfbb-9175adaff40c"
      },
      "execution_count": null,
      "outputs": [
        {
          "output_type": "execute_result",
          "data": {
            "text/plain": [
              "10"
            ]
          },
          "metadata": {},
          "execution_count": 66
        }
      ]
    },
    {
      "cell_type": "markdown",
      "source": [
        "# 암호 해독\n",
        "링크 : https://school.programmers.co.kr/learn/courses/30/lessons/120892"
      ],
      "metadata": {
        "id": "fICLeTjTY2b2"
      }
    },
    {
      "cell_type": "code",
      "source": [
        "def solution(cipher, code):\n",
        "    return cipher[code-1::code]\n",
        "\n",
        "solution(\"dfjardstddetckdaccccdegk\", 4)"
      ],
      "metadata": {
        "colab": {
          "base_uri": "https://localhost:8080/",
          "height": 35
        },
        "id": "qRR8c6MyepCr",
        "outputId": "4ead943c-557a-4173-c843-1ab516353da9"
      },
      "execution_count": 9,
      "outputs": [
        {
          "output_type": "execute_result",
          "data": {
            "text/plain": [
              "'drdccd'"
            ],
            "application/vnd.google.colaboratory.intrinsic+json": {
              "type": "string"
            }
          },
          "metadata": {},
          "execution_count": 9
        }
      ]
    },
    {
      "cell_type": "code",
      "source": [
        "def solution(cipher, code):\n",
        "    count = 1\n",
        "    answer = ''\n",
        "    for i in cipher:\n",
        "        if count == code:\n",
        "            count = 0\n",
        "            answer += i\n",
        "        count += 1\n",
        "    return answer\n",
        "\n",
        "solution(\"dfjardstddetckdaccccdegk\", 4)"
      ],
      "metadata": {
        "colab": {
          "base_uri": "https://localhost:8080/",
          "height": 35
        },
        "id": "qsNW725OfChW",
        "outputId": "9b075945-489e-4e2c-deb1-c29f1392400e"
      },
      "execution_count": 8,
      "outputs": [
        {
          "output_type": "execute_result",
          "data": {
            "text/plain": [
              "'attack'"
            ],
            "application/vnd.google.colaboratory.intrinsic+json": {
              "type": "string"
            }
          },
          "metadata": {},
          "execution_count": 8
        }
      ]
    },
    {
      "cell_type": "code",
      "source": [
        "def solution(cipher, code):\n",
        "    answer = ''\n",
        "    for i, j in enumerate(cipher, 1):\n",
        "            #print(i, j)\n",
        "        if i % code == 0:\n",
        "            answer += j\n",
        "    return answer\n",
        "\n",
        "solution(\"dfjardstddetckdaccccdegk\", 4)"
      ],
      "metadata": {
        "colab": {
          "base_uri": "https://localhost:8080/",
          "height": 35
        },
        "id": "d2Y4IcDtf4Sn",
        "outputId": "023f86d2-4602-46f6-f85f-89cf387e9b72"
      },
      "execution_count": null,
      "outputs": [
        {
          "output_type": "execute_result",
          "data": {
            "text/plain": [
              "'attack'"
            ],
            "application/vnd.google.colaboratory.intrinsic+json": {
              "type": "string"
            }
          },
          "metadata": {},
          "execution_count": 95
        }
      ]
    },
    {
      "cell_type": "code",
      "source": [
        "def solution(cipher, code):\n",
        "    answer = ''\n",
        "    for i in range(1, len(cipher) // code + 1):\n",
        "        answer += cipher[i * code - 1]\n",
        "    print(answer)\n",
        "    return answer\n",
        "\n",
        "solution(\"dfjardstddetckdaccccdegk\", 4)"
      ],
      "metadata": {
        "colab": {
          "base_uri": "https://localhost:8080/",
          "height": 54
        },
        "id": "_ZLjBS06gerJ",
        "outputId": "c7ef0a32-6c6e-4c03-ae69-7f8ca2095712"
      },
      "execution_count": null,
      "outputs": [
        {
          "output_type": "stream",
          "name": "stdout",
          "text": [
            "attack\n"
          ]
        },
        {
          "output_type": "execute_result",
          "data": {
            "text/plain": [
              "'attack'"
            ],
            "application/vnd.google.colaboratory.intrinsic+json": {
              "type": "string"
            }
          },
          "metadata": {},
          "execution_count": 100
        }
      ]
    },
    {
      "cell_type": "markdown",
      "source": [
        "# 369 게임\n",
        "링크 : https://school.programmers.co.kr/learn/courses/30/lessons/120891"
      ],
      "metadata": {
        "id": "fsCXbsZjhfjA"
      }
    },
    {
      "cell_type": "code",
      "source": [
        "import re\n",
        "\n",
        "def solution(order):\n",
        "    answer = 0\n",
        "    order = str(order)\n",
        "    answer = len((list(re.findall(r'[369]', order))))\n",
        "    return answer\n",
        "\n",
        "solution(29423)"
      ],
      "metadata": {
        "colab": {
          "base_uri": "https://localhost:8080/"
        },
        "id": "PklrBgdHjAzK",
        "outputId": "53f1404e-7399-4225-e56b-fd24c0b1eca0"
      },
      "execution_count": null,
      "outputs": [
        {
          "output_type": "execute_result",
          "data": {
            "text/plain": [
              "2"
            ]
          },
          "metadata": {},
          "execution_count": 108
        }
      ]
    },
    {
      "cell_type": "code",
      "source": [
        "def solution(order):\n",
        "    order = str(order)\n",
        "    return order.count('3') + order.count('6') + order.count('9')"
      ],
      "metadata": {
        "id": "MDAn40J2jfIK"
      },
      "execution_count": null,
      "outputs": []
    },
    {
      "cell_type": "markdown",
      "source": [
        "# 중복문자 제거\n",
        "링크: https://school.programmers.co.kr/learn/courses/30/lessons/120888"
      ],
      "metadata": {
        "id": "6EWsfKpZkW_3"
      }
    },
    {
      "cell_type": "code",
      "source": [
        "def solution(my_string):\n",
        "    answer = ''\n",
        "    for i in my_string:\n",
        "        if i not in answer:\n",
        "            answer += i\n",
        "    return answer\n",
        "\n",
        "solution(\"We are the world\")"
      ],
      "metadata": {
        "colab": {
          "base_uri": "https://localhost:8080/",
          "height": 35
        },
        "id": "JqJIi7xZkhiS",
        "outputId": "3a51c7c5-0d21-41d6-8b07-3ee6e7928885"
      },
      "execution_count": 10,
      "outputs": [
        {
          "output_type": "execute_result",
          "data": {
            "text/plain": [
              "'We arthwold'"
            ],
            "application/vnd.google.colaboratory.intrinsic+json": {
              "type": "string"
            }
          },
          "metadata": {},
          "execution_count": 10
        }
      ]
    },
    {
      "cell_type": "code",
      "source": [
        "def solution(my_string):\n",
        "    return ''.join(dict.fromkeys(my_string)) # 딕셔너리는 키의 중복이 안된다는 점을 이용! dict는 이제 순서를 보장합니다!\n",
        "\n",
        "solution(\"We are the world\")"
      ],
      "metadata": {
        "colab": {
          "base_uri": "https://localhost:8080/",
          "height": 35
        },
        "id": "Juns6NThk1hW",
        "outputId": "98284432-8063-4031-c614-de76e92ec377"
      },
      "execution_count": 11,
      "outputs": [
        {
          "output_type": "execute_result",
          "data": {
            "text/plain": [
              "'We arthwold'"
            ],
            "application/vnd.google.colaboratory.intrinsic+json": {
              "type": "string"
            }
          },
          "metadata": {},
          "execution_count": 11
        }
      ]
    },
    {
      "cell_type": "code",
      "source": [
        "''.join(['hello', 'world', '!'])\n",
        "''.join({'hello', 'world', '!'})\n",
        "''.join({'one': 10, 'two': 20}) # 왜 결과가 이렇죠? dict을 for문을 돌았을때 key만 나오는 이유와 같습니다."
      ],
      "metadata": {
        "colab": {
          "base_uri": "https://localhost:8080/",
          "height": 35
        },
        "id": "_WdeN2Qal6FJ",
        "outputId": "d2c9d774-25b2-4f2b-e96e-32e4c7ba1da1"
      },
      "execution_count": null,
      "outputs": [
        {
          "output_type": "execute_result",
          "data": {
            "text/plain": [
              "'onetwo'"
            ],
            "application/vnd.google.colaboratory.intrinsic+json": {
              "type": "string"
            }
          },
          "metadata": {},
          "execution_count": 117
        }
      ]
    },
    {
      "cell_type": "code",
      "source": [
        "str.isdigit\n",
        "dict.fromkeys('hello')\n",
        "dict.fromkeys('abccba')"
      ],
      "metadata": {
        "colab": {
          "base_uri": "https://localhost:8080/"
        },
        "id": "24PdDA_dmWx1",
        "outputId": "bc9c9c7f-74bc-4600-9959-a583a17239d9"
      },
      "execution_count": null,
      "outputs": [
        {
          "output_type": "execute_result",
          "data": {
            "text/plain": [
              "{'a': None, 'b': None, 'c': None}"
            ]
          },
          "metadata": {},
          "execution_count": 119
        }
      ]
    },
    {
      "cell_type": "markdown",
      "source": [
        "## A로 B 만들기\n",
        "링크: https://school.programmers.co.kr/learn/courses/30/lessons/120886"
      ],
      "metadata": {
        "id": "3VA0WHtDmmnT"
      }
    },
    {
      "cell_type": "code",
      "source": [
        "def solution(before, after):\n",
        "    answer = 0\n",
        "    if len(before) != len(after):\n",
        "        return 0\n",
        "\n",
        "    if before[::-1] == after:\n",
        "        answer = 1\n",
        "\n",
        "    return answer\n",
        "\n",
        "solution(\"olleh\", \"hello\")\n",
        "#solution(\"allpe\", \"apple\")"
      ],
      "metadata": {
        "colab": {
          "base_uri": "https://localhost:8080/"
        },
        "id": "AhQKvDRinB1R",
        "outputId": "3bb1f7c9-a49f-489a-fc30-05fa05669387"
      },
      "execution_count": null,
      "outputs": [
        {
          "output_type": "execute_result",
          "data": {
            "text/plain": [
              "1"
            ]
          },
          "metadata": {},
          "execution_count": 154
        }
      ]
    },
    {
      "cell_type": "code",
      "source": [
        "def solution(before, after):\n",
        "    answer = 0\n",
        "\n",
        "    if sorted(before) == sorted(after):\n",
        "        answer = 1\n",
        "\n",
        "    return answer\n",
        "\n",
        "solution(\"olleh\", \"hello\")\n",
        "#solution(\"allpe\", \"apple\")"
      ],
      "metadata": {
        "colab": {
          "base_uri": "https://localhost:8080/"
        },
        "id": "PPdgA658ngI5",
        "outputId": "c0efe5ac-901a-4b59-fa4f-021b74cd9fe9"
      },
      "execution_count": null,
      "outputs": [
        {
          "output_type": "execute_result",
          "data": {
            "text/plain": [
              "1"
            ]
          },
          "metadata": {},
          "execution_count": 152
        }
      ]
    },
    {
      "cell_type": "code",
      "source": [
        "import collections\n",
        "\n",
        "def solution(before, after):\n",
        "    answer = 0\n",
        "    print(collections.Counter(before))\n",
        "\n",
        "    if collections.Counter(before) == collections.Counter(after):\n",
        "        answer = 1\n",
        "\n",
        "    return answer\n",
        "\n",
        "solution(\"olleh\", \"hello\")\n",
        "#solution(\"allpe\", \"apple\")"
      ],
      "metadata": {
        "colab": {
          "base_uri": "https://localhost:8080/"
        },
        "id": "Q1AVG88CotFE",
        "outputId": "034f9fe4-8a6e-4526-9d36-eca2cc42b334"
      },
      "execution_count": 12,
      "outputs": [
        {
          "output_type": "stream",
          "name": "stdout",
          "text": [
            "Counter({'l': 2, 'o': 1, 'e': 1, 'h': 1})\n"
          ]
        },
        {
          "output_type": "execute_result",
          "data": {
            "text/plain": [
              "1"
            ]
          },
          "metadata": {},
          "execution_count": 12
        }
      ]
    },
    {
      "cell_type": "code",
      "source": [
        "def solution(before, after):\n",
        "    answer = 0\n",
        "\n",
        "    a = list(after)\n",
        "    for i in before:\n",
        "        if i in a:\n",
        "            a.remove(i)\n",
        "        else:\n",
        "            return 0\n",
        "\n",
        "    if a:\n",
        "        return 0\n",
        "    return 1\n",
        "\n",
        "solution(\"olleh\", \"hello\")\n",
        "#solution(\"allpe\", \"apple\")"
      ],
      "metadata": {
        "colab": {
          "base_uri": "https://localhost:8080/"
        },
        "id": "RZB3mNwbv2La",
        "outputId": "c043f81d-3f43-4bc5-f9bd-5cf28577ec41"
      },
      "execution_count": null,
      "outputs": [
        {
          "output_type": "execute_result",
          "data": {
            "text/plain": [
              "1"
            ]
          },
          "metadata": {},
          "execution_count": 167
        }
      ]
    },
    {
      "cell_type": "code",
      "source": [
        "# 회문\n",
        "# 왼쪽으로 밀기 'hello' => 'elloh' => 'llohe'\n",
        "# 오른쪽으로 밀기 'hello' => 'ohell' => 'lohel'\n",
        "# collections.deque 를 사용해서 풀면 쉽게 풀립니다.\n",
        "\n",
        "# 문제1 'hello'를 앞뒤로 이동시켜 'llohe'를 만들 수 있나요?\n",
        "# 'hellohello' 여기 안에 있으면 됨.\n",
        "\n",
        "# 문제2 몇칸 이동했나요?\n",
        "# 'hellohello'.index('llohe') 여기서 인덱스 찾아오면 됨."
      ],
      "metadata": {
        "id": "4P06J8QNwrHr"
      },
      "execution_count": null,
      "outputs": []
    },
    {
      "cell_type": "markdown",
      "source": [
        "## 저주의 숫자3\n",
        "링크 : https://school.programmers.co.kr/learn/courses/30/lessons/120871"
      ],
      "metadata": {
        "id": "TGPAnRbnysKg"
      }
    },
    {
      "cell_type": "code",
      "source": [
        "# 십진수    3숫자마을\n",
        "# 1         1\n",
        "# 2         2\n",
        "# 3         4\n",
        "# 4         5\n",
        "# 5         7\n",
        "# 6         8\n",
        "# 7         10\n",
        "# 8         11\n",
        "# 9         14\n",
        "# 10        16\n",
        "\n",
        "def solution(n):\n",
        "    answer= list(filter(lambda x: (x % 3 != 0) and ('3' not in str(x)), range(100)))[n-1]\n",
        "    return answer\n",
        "\n",
        "solution(15)"
      ],
      "metadata": {
        "colab": {
          "base_uri": "https://localhost:8080/"
        },
        "id": "YAF8oVgrytoM",
        "outputId": "131022c8-5aeb-4b8c-a07d-88a2fa28f8b6"
      },
      "execution_count": null,
      "outputs": [
        {
          "output_type": "execute_result",
          "data": {
            "text/plain": [
              "25"
            ]
          },
          "metadata": {},
          "execution_count": 177
        }
      ]
    },
    {
      "cell_type": "code",
      "source": [
        "def solution(n):\n",
        "    answer= lambda n: [i for i in range(1000) if i % 3 != 0 and '3' not in str(i)][n-1]\n",
        "    return answer\n",
        "\n",
        "solution(15)"
      ],
      "metadata": {
        "colab": {
          "base_uri": "https://localhost:8080/"
        },
        "id": "dZA4lHOry0nB",
        "outputId": "100b68c7-d972-43fe-cb86-6a7032825972"
      },
      "execution_count": null,
      "outputs": [
        {
          "output_type": "execute_result",
          "data": {
            "text/plain": [
              "<function __main__.solution.<locals>.<lambda>(n)>"
            ]
          },
          "metadata": {},
          "execution_count": 179
        }
      ]
    },
    {
      "cell_type": "code",
      "source": [
        "def solution(num):\n",
        "    l = []\n",
        "    for i in range(10):\n",
        "        if i % 3 != 0:\n",
        "            l.append(i)\n",
        "        elif '3' not in str(i):\n",
        "            l.append(i)\n",
        "    return l\n",
        "\n",
        "solution(15)\n",
        "\n"
      ],
      "metadata": {
        "colab": {
          "base_uri": "https://localhost:8080/"
        },
        "id": "Uy60KKxZ0K8e",
        "outputId": "61895345-4b2d-4e36-e4d4-2fa1cd5efa57"
      },
      "execution_count": null,
      "outputs": [
        {
          "output_type": "execute_result",
          "data": {
            "text/plain": [
              "[0, 1, 2, 4, 5, 6, 7, 8, 9]"
            ]
          },
          "metadata": {},
          "execution_count": 186
        }
      ]
    },
    {
      "cell_type": "markdown",
      "source": [
        "## 진료 순서 정하기\n",
        "링크 : https://school.programmers.co.kr/learn/courses/30/lessons/120835"
      ],
      "metadata": {
        "id": "POED3o5NGkEf"
      }
    },
    {
      "cell_type": "code",
      "source": [
        "def solution(emergency):\n",
        "    sorted_emergency = sorted(emergency, reverse = True)\n",
        "    return [sorted_emergency.index(i)+1 for i in emergency]\n",
        "\n",
        "solution([30, 10, 23, 6, 100])"
      ],
      "metadata": {
        "colab": {
          "base_uri": "https://localhost:8080/"
        },
        "id": "br5I2sUaICug",
        "outputId": "94aa1568-2667-4346-aacf-e890c39ca985"
      },
      "execution_count": null,
      "outputs": [
        {
          "output_type": "execute_result",
          "data": {
            "text/plain": [
              "[2, 4, 3, 5, 1]"
            ]
          },
          "metadata": {},
          "execution_count": 197
        }
      ]
    },
    {
      "cell_type": "code",
      "source": [
        "emergency = [30, 10, 23, 6, 100]\n",
        "sorted_emergency = sorted(emergency, reverse = True)\n",
        "sorted_emergency\n",
        "\n",
        "[sorted_emergency.index(i)+1 for i in emergency]"
      ],
      "metadata": {
        "id": "KDTW3n_pIgWF"
      },
      "execution_count": null,
      "outputs": []
    },
    {
      "cell_type": "code",
      "source": [
        "data = ['제주', '경기', '전주'] # ['064', '031', '063']\n",
        "data2 = {\n",
        "    '제주': '064',\n",
        "    '경기': '031',\n",
        "    '전주': '063'\n",
        "}\n",
        "\n",
        "[data2[i] for i in data]"
      ],
      "metadata": {
        "colab": {
          "base_uri": "https://localhost:8080/"
        },
        "id": "bj5cNQ63Im1s",
        "outputId": "305b9de1-9d23-49ab-b3ec-625b3d02b34b"
      },
      "execution_count": null,
      "outputs": [
        {
          "output_type": "execute_result",
          "data": {
            "text/plain": [
              "['064', '031', '063']"
            ]
          },
          "metadata": {},
          "execution_count": 195
        }
      ]
    },
    {
      "cell_type": "markdown",
      "source": [
        "## 가까운 수\n",
        "링크: https://school.programmers.co.kr/learn/courses/30/lessons/120890"
      ],
      "metadata": {
        "id": "G8fx_gxrKwg3"
      }
    },
    {
      "cell_type": "code",
      "source": [
        "def solution(array, n):\n",
        "    answer = sorted(array, key=lambda x:(abs(x-n), x))[0]\n",
        "    return answer\n",
        "\n",
        "solution([3, 10, 28], 20)"
      ],
      "metadata": {
        "colab": {
          "base_uri": "https://localhost:8080/"
        },
        "id": "Dj7okjn1LoR0",
        "outputId": "c513c2ea-2e09-4949-aec8-4ec10be28654"
      },
      "execution_count": null,
      "outputs": [
        {
          "output_type": "execute_result",
          "data": {
            "text/plain": [
              "28"
            ]
          },
          "metadata": {},
          "execution_count": 205
        }
      ]
    },
    {
      "cell_type": "code",
      "source": [
        "s = [3, 10, 28, 12]\n",
        "sorted(s, key=lambda x:abs(x-20))[0]"
      ],
      "metadata": {
        "colab": {
          "base_uri": "https://localhost:8080/"
        },
        "id": "amsKOGpOMNBO",
        "outputId": "f8f1af09-bc9d-4e62-c97d-dc9f91d4cd65"
      },
      "execution_count": null,
      "outputs": [
        {
          "output_type": "execute_result",
          "data": {
            "text/plain": [
              "28"
            ]
          },
          "metadata": {},
          "execution_count": 209
        }
      ]
    },
    {
      "cell_type": "code",
      "source": [
        "array = [3, 10, 28, 30, 12, 22, 18]\n",
        "n = 20\n",
        "sorted(array, key=lambda x:(abs(x-n), x))   # 팁, n-x이거나 x-n 2개 중에 하나입니다."
      ],
      "metadata": {
        "colab": {
          "base_uri": "https://localhost:8080/"
        },
        "id": "tQWGWZyiMTGn",
        "outputId": "5e3e55c4-12fc-402b-ddd7-0aaf1c2818ff"
      },
      "execution_count": null,
      "outputs": [
        {
          "output_type": "execute_result",
          "data": {
            "text/plain": [
              "[18, 22, 12, 28, 10, 30, 3]"
            ]
          },
          "metadata": {},
          "execution_count": 218
        }
      ]
    },
    {
      "cell_type": "markdown",
      "source": [
        "## k의 개수\n",
        "\n",
        "링크: https://school.programmers.co.kr/learn/courses/30/lessons/120887"
      ],
      "metadata": {
        "id": "F2MKPHMiONvK"
      }
    },
    {
      "cell_type": "code",
      "source": [
        "# i\t    j\tk\tresult\n",
        "# 1\t    13\t1\t6\n",
        "# 10    50\t5\t5\n",
        "# 3\t    10\t2\t0\n",
        "\n",
        "\n",
        "\n",
        "def solution(i, j, k):\n",
        "    answer = 0\n",
        "    return answer\n",
        "\n",
        "\n",
        "\n",
        "i = 1\n",
        "j = 13\n",
        "k = 1\n",
        "\n",
        "str(list(range(i, j+1)))\n",
        "'[1, 11, 13]'.count('1')\n",
        "\n",
        "str(list(range(i, j+1))).count(str(k))"
      ],
      "metadata": {
        "colab": {
          "base_uri": "https://localhost:8080/"
        },
        "id": "JpT-xc6nQcyU",
        "outputId": "38a4af9a-183b-484c-85a7-a18c5b7eafda"
      },
      "execution_count": null,
      "outputs": [
        {
          "output_type": "execute_result",
          "data": {
            "text/plain": [
              "6"
            ]
          },
          "metadata": {},
          "execution_count": 222
        }
      ]
    },
    {
      "cell_type": "code",
      "source": [
        "a = 10\n",
        "b = 20\n",
        "\n",
        "# swap\n",
        "\n",
        "temp = a\n",
        "a = b\n",
        "b = temp\n",
        "\n",
        "# python에서 사용하는 swap\n",
        "\n",
        "a = 10\n",
        "b = 20\n",
        "a, b = b, a\n",
        "a, b"
      ],
      "metadata": {
        "id": "jCU3jvUwUeyp"
      },
      "execution_count": null,
      "outputs": []
    },
    {
      "cell_type": "code",
      "source": [
        "i = 1\n",
        "j = 13\n",
        "k = 1\n",
        "\n",
        "count = 0\n",
        "for temp in range(i, j):\n",
        "    print(str(temp).count(str(k)))\n",
        "    count += str(temp).count(str(k))\n"
      ],
      "metadata": {
        "colab": {
          "base_uri": "https://localhost:8080/"
        },
        "id": "1-w-RdiHQ7Oh",
        "outputId": "01e228b9-f744-432d-8147-dbfae3f15088"
      },
      "execution_count": null,
      "outputs": [
        {
          "output_type": "stream",
          "name": "stdout",
          "text": [
            "1\n",
            "0\n",
            "0\n",
            "0\n",
            "0\n",
            "0\n",
            "0\n",
            "0\n",
            "0\n",
            "1\n",
            "2\n",
            "1\n"
          ]
        }
      ]
    },
    {
      "cell_type": "code",
      "source": [
        "def solution(i, j, k):\n",
        "    return str(list(range(i, j+1))).count(str(k))"
      ],
      "metadata": {
        "id": "XsZEBACpUjSD"
      },
      "execution_count": null,
      "outputs": []
    },
    {
      "cell_type": "markdown",
      "source": [
        "## 직접 출제 문제"
      ],
      "metadata": {
        "id": "Taszp_4WVEpA"
      }
    },
    {
      "cell_type": "code",
      "source": [
        "# 각 선분이 있는 곳에 총 길이 합을 구하라\n",
        "# [[0, 5], [3, 5], [7, 10]]\n",
        "\n",
        "선 = [False] * 10\n",
        "선\n",
        "\n",
        "for i in range(0, 5):\n",
        "    선[i] = True\n",
        "선\n",
        "\n",
        "for i in range(3, 5):\n",
        "    선[i] = True\n",
        "선\n",
        "\n",
        "for i in range(7, 10):\n",
        "    선[i] = True\n",
        "선\n",
        "\n",
        "sum(선)"
      ],
      "metadata": {
        "colab": {
          "base_uri": "https://localhost:8080/"
        },
        "id": "wjCJzMEYWWOl",
        "outputId": "867eba10-9252-421c-f836-cd4f6e17b246"
      },
      "execution_count": null,
      "outputs": [
        {
          "output_type": "execute_result",
          "data": {
            "text/plain": [
              "8"
            ]
          },
          "metadata": {},
          "execution_count": 233
        }
      ]
    },
    {
      "cell_type": "code",
      "source": [
        "# 에라토스테네스의 체 => 소소판별 => 이것을 알고리즘 문제로 내는 것은 저는 반대\n",
        "# # https://nahwasa.com/entry/%EC%97%90%EB%9D%BC%ED%86%A0%EC%8A%A4%ED%85%8C%EB%84%A4%EC%8A%A4%EC%9D%98-%EC%B2%B4-%ED%98%B9%EC%9D%80-%EC%86%8C%EC%88%98%ED%8C%90%EC%A0%95-%EC%8B%9C-%EC%A0%9C%EA%B3%B1%EA%B7%BC-%EA%B9%8C%EC%A7%80%EB%A7%8C-%ED%99%95%EC%9D%B8%ED%95%98%EB%A9%B4-%EB%90%98%EB%8A%94-%EC%9D%B4%EC%9C%A0\n",
        "\n",
        "# 곱해지는 각 자연수중 하나는 무조건\n",
        "# 제곱근과 같거나 작아야하는거니까\n",
        "\n",
        "# 4 * 4\n",
        "# 2 * 8\n",
        "\n",
        "# 2, 3, 4\n",
        "\n",
        "# 2, 4, 6, 8, 10, 12\n",
        "# 3, 6, 9, 12\n",
        "# ---\n",
        "# 5, 10, 15\n",
        "\n",
        "소수 = [True] * 120\n",
        "소수[0] = 소수[1] = False\n",
        "\n",
        "for i in range(4, 120, 2):\n",
        "    소수[i] = False\n",
        "\n",
        "for i in range(6, 120, 3):\n",
        "    소수[i] = False\n",
        "\n",
        "# for i in range(4, 120, 4)\n",
        "\n",
        "\n",
        "for i in range(5, 120, 5):\n",
        "    소수[i] = False\n",
        "\n",
        "for 소수, 판별 in enumerate(소수):\n",
        "    if 판별:\n",
        "        print(소수)"
      ],
      "metadata": {
        "colab": {
          "base_uri": "https://localhost:8080/"
        },
        "id": "iNStwnQKW8J5",
        "outputId": "f4d9345a-2e90-4a92-ef83-58c4900ca33e"
      },
      "execution_count": null,
      "outputs": [
        {
          "output_type": "stream",
          "name": "stdout",
          "text": [
            "2\n",
            "3\n",
            "7\n",
            "11\n",
            "13\n",
            "17\n",
            "19\n",
            "23\n",
            "29\n",
            "31\n",
            "37\n",
            "41\n",
            "43\n",
            "47\n",
            "49\n",
            "53\n",
            "59\n",
            "61\n",
            "67\n",
            "71\n",
            "73\n",
            "77\n",
            "79\n",
            "83\n",
            "89\n",
            "91\n",
            "97\n",
            "101\n",
            "103\n",
            "107\n",
            "109\n",
            "113\n",
            "119\n"
          ]
        }
      ]
    },
    {
      "cell_type": "code",
      "source": [
        "# 이렇게 쓰는게 가능합니다.^^\n",
        "a = 10;b = 10\n",
        "a, b"
      ],
      "metadata": {
        "colab": {
          "base_uri": "https://localhost:8080/"
        },
        "id": "9X9ib9I3Xv5S",
        "outputId": "8e38ca73-421c-4c13-a056-056862e97b93"
      },
      "execution_count": null,
      "outputs": [
        {
          "output_type": "execute_result",
          "data": {
            "text/plain": [
              "(10, 10)"
            ]
          },
          "metadata": {},
          "execution_count": 235
        }
      ]
    },
    {
      "cell_type": "code",
      "source": [
        "\n",
        "s = [[1, 3, 5], [7, 9, 11], [13, 15, 17]]\n",
        "sum(s, [])"
      ],
      "metadata": {
        "colab": {
          "base_uri": "https://localhost:8080/"
        },
        "id": "wo4YKYMlYlsN",
        "outputId": "03651e4f-345d-45a5-c205-0a8cf7f8ab6d"
      },
      "execution_count": null,
      "outputs": [
        {
          "output_type": "execute_result",
          "data": {
            "text/plain": [
              "[1, 3, 5, 7, 9, 11, 13, 15, 17]"
            ]
          },
          "metadata": {},
          "execution_count": 244
        }
      ]
    },
    {
      "cell_type": "code",
      "source": [
        "s = [[[1, 3, 5], [7, 9, 11]], [13, 15, 17]]\n",
        "sum(s, [])"
      ],
      "metadata": {
        "colab": {
          "base_uri": "https://localhost:8080/"
        },
        "id": "0AjKo8lybt8o",
        "outputId": "ca277ad7-436d-49f7-8d2f-671784daf7f5"
      },
      "execution_count": null,
      "outputs": [
        {
          "output_type": "execute_result",
          "data": {
            "text/plain": [
              "[[1, 3, 5], [7, 9, 11], 13, 15, 17]"
            ]
          },
          "metadata": {},
          "execution_count": 246
        }
      ]
    },
    {
      "cell_type": "code",
      "source": [
        "# 행렬의 연산과 같은 것은 np를 사용하시면 쉽고 빠르게 풀 수 있습니다.\n",
        "import numpy as np\n",
        "\n",
        "x = np.array([1, 2, 3])\n",
        "x * 2"
      ],
      "metadata": {
        "colab": {
          "base_uri": "https://localhost:8080/"
        },
        "id": "w7PBk6GccAUU",
        "outputId": "7c37c57a-4d7a-4f7e-add7-ec77dee99a67"
      },
      "execution_count": null,
      "outputs": [
        {
          "output_type": "execute_result",
          "data": {
            "text/plain": [
              "array([2, 4, 6])"
            ]
          },
          "metadata": {},
          "execution_count": 249
        }
      ]
    },
    {
      "cell_type": "code",
      "source": [
        "\n",
        "s = [[1, 3, 5], [7, 9, 11], [13, 15, 17]]\n",
        "s = np.array(s)\n",
        "행, 렬 = np.where(s == 7)\n",
        "행\n",
        "\n",
        "print(cols, rows)"
      ],
      "metadata": {
        "colab": {
          "base_uri": "https://localhost:8080/"
        },
        "id": "Xtnw8cYwcL1E",
        "outputId": "c1a5c907-feb8-44d6-c80b-c64b86b7caf8"
      },
      "execution_count": null,
      "outputs": [
        {
          "output_type": "stream",
          "name": "stdout",
          "text": [
            "[1] [0]\n"
          ]
        }
      ]
    },
    {
      "cell_type": "code",
      "source": [
        "# 지뢰찾기\n",
        "x = [[0, 1, 0, 0],\n",
        "     [0, 1, 0, 0],\n",
        "     [0, 0, 0, 1]]\n",
        "\n",
        "x = np.array(x)\n",
        "np.where(x == 1)\n"
      ],
      "metadata": {
        "colab": {
          "base_uri": "https://localhost:8080/"
        },
        "id": "gPAbJxT8cYDi",
        "outputId": "79b86979-e520-4c51-8af0-b7ddef31e75c"
      },
      "execution_count": null,
      "outputs": [
        {
          "output_type": "execute_result",
          "data": {
            "text/plain": [
              "(array([0, 1, 2]), array([1, 1, 3]))"
            ]
          },
          "metadata": {},
          "execution_count": 260
        }
      ]
    },
    {
      "cell_type": "code",
      "source": [
        "x = [[0, 1, 0, 0],\n",
        "     [0, 1, 0, 0],\n",
        "     [0, 0, 0, 1]]\n",
        "\n",
        "s = 0\n",
        "for i in x:\n",
        "    s += i.count(1)\n",
        "\n",
        "s"
      ],
      "metadata": {
        "colab": {
          "base_uri": "https://localhost:8080/"
        },
        "id": "rP2h8OV2dGSJ",
        "outputId": "27a62e7a-d8fb-4ccd-9fcc-bfdf68325421"
      },
      "execution_count": null,
      "outputs": [
        {
          "output_type": "execute_result",
          "data": {
            "text/plain": [
              "3"
            ]
          },
          "metadata": {},
          "execution_count": 262
        }
      ]
    },
    {
      "cell_type": "code",
      "source": [
        "x = [[0, 1, 0, 0],\n",
        "     [0, 1, 0, 0],\n",
        "     [0, 0, 0, 1]]\n",
        "\n",
        "x = np.array(x)\n",
        "x == 1"
      ],
      "metadata": {
        "colab": {
          "base_uri": "https://localhost:8080/"
        },
        "id": "SHbZrWnNdka8",
        "outputId": "5994fcd4-7d1a-4506-d293-de52ef2344cf"
      },
      "execution_count": null,
      "outputs": [
        {
          "output_type": "execute_result",
          "data": {
            "text/plain": [
              "array([[False,  True, False, False],\n",
              "       [False,  True, False, False],\n",
              "       [False, False, False,  True]])"
            ]
          },
          "metadata": {},
          "execution_count": 263
        }
      ]
    },
    {
      "cell_type": "code",
      "source": [
        "x = [[0, 5, 2, 0],\n",
        "     [0, 7, 0, 6],\n",
        "     [0, 1, 3, 5]]\n",
        "\n",
        "x = np.array(x)\n",
        "x > 3"
      ],
      "metadata": {
        "colab": {
          "base_uri": "https://localhost:8080/"
        },
        "id": "WiJvfYOPeDsd",
        "outputId": "7d9fcd08-7639-4373-9153-9a35d55fa012"
      },
      "execution_count": null,
      "outputs": [
        {
          "output_type": "execute_result",
          "data": {
            "text/plain": [
              "array([[False,  True, False, False],\n",
              "       [False,  True, False,  True],\n",
              "       [False, False, False,  True]])"
            ]
          },
          "metadata": {},
          "execution_count": 264
        }
      ]
    },
    {
      "cell_type": "code",
      "source": [],
      "metadata": {
        "id": "qrYe4R96eVaf"
      },
      "execution_count": null,
      "outputs": []
    }
  ]
}